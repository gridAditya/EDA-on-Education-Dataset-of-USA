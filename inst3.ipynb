{
 "cells": [
  {
   "cell_type": "markdown",
   "metadata": {},
   "source": [
    "## Bridging the Gap Between Tier-1 and Tier-2 Universities\n",
    "\n",
    "Variables we have taken:\n",
    "<br>\n",
    "1: UNITID: UnitId for an Institution<br>\n",
    "2: INSTNM: Institution Name<br>\n",
    "3: MAIN: Flag for the Main Campus ( 0: Branch Campus, 1: Main Campus)\n",
    "<br>\n",
    "4: OPEFLAG: Title IV Eligibility Type {\n",
    "   1: Participates in Title IV federal financial aid programs,\n",
    "   <br>\n",
    "      2: Branch campus of a main campus that participates in Title IV,\n",
    "   <br>\n",
    "      3: Deferment only - limited participation,\n",
    "   <br>\n",
    "      5: Not currently participating in Title IV, has an OPE ID number\n",
    "   }\n",
    "<br><br>\n",
    "5: ICLEVEL: Level of An Insitution(1: 4-yr, 2: 2-yr, 3: Less than 2-yr)\n",
    "<br>\n",
    "6: UGDS: Enrollment of all undergraduate students<br>\n",
    "7: UGDS_WHITE: Fraction of students who are white<br>\n",
    "8: UGDS_ASIAN: Fraction of students who are asian<br>\n",
    "9: MD_EARN_WNE_P6: Median earnings of students working and not enrolled 6 years after entry<br>\n",
    "10: GRAD_DEBT_MDN: The median debt for students who have completed<br>\n",
    "11: ADM_RATE_ALL: Admission rate for all campuses rolled up to the 6-digit OPEID<br>\n",
    "12: C100_4: Completion rate for first-time, full-time students at four-year institutions (100% of expected time to completion)<br>\n",
    "13: SAT_AVG_ALL: Average SAT equivalent score of students admitted for all campuses rolled up to the 6-digit OPEID<br>\n",
    "14: NPT4_PRIV: Average net price(Cost-Aid) for Title IV institutions (private for-profit and nonprofit institutions)<br>\n",
    "15: NPT4_PUB: Average net price(Cost-Aid) for Title IV institutions (public institutions)<br>\n",
    "16: NPT41_PRIV: Average net price for $0-$30,000 family income (private for-profit and nonprofit institutions)<br>\n",
    "17: NPT41_PUB: Average net price for $0-$30,000 family income (public institutions)<br>\n",
    "18: NPT43_PRIV: Average net price for $48,001-$75,000 family income (public institutions)<br>\n",
    "19: NPT43_PUB: Average net price for $48,001-$75,000 family income (private for-profit and nonprofit institutions)<br>\n",
    "20: PCIP11: Percentage of degrees awarded in Computer And Information Sciences And Support Services.<br>\n",
    "21: PCIP26: Percentage of degrees awarded in Biological And Biomedical Sciences.<br>\n",
    "22: PCIP27: Percentage of degrees awarded in Mathematics And Statistics.<br>\n",
    "23: PCIP52: Percentage of degrees awarded in Business, Management, Marketing, And Related Support Services.<br>\n"
   ]
  },
  {
   "cell_type": "code",
   "execution_count": 1,
   "metadata": {},
   "outputs": [],
   "source": [
    "import pandas as pd\n",
    "import numpy as np\n",
    "import plotly.graph_objects as go\n",
    "\n",
    "pd.set_option('display.max_columns', None)\n",
    "pd.set_option('display.max_rows', 20)"
   ]
  },
  {
   "cell_type": "markdown",
   "metadata": {},
   "source": [
    "## Loading the Data ##"
   ]
  },
  {
   "cell_type": "code",
   "execution_count": 2,
   "metadata": {},
   "outputs": [
    {
     "name": "stderr",
     "output_type": "stream",
     "text": [
      "/var/folders/2v/33p_wnzd3gj0lfp0r82qrhl00000gp/T/ipykernel_1822/4064685053.py:17: DtypeWarning: Columns (1,1615) have mixed types. Specify dtype option on import or set low_memory=False.\n",
      "  df1 = pd.read_csv('../Project1_Data/data/MERGED2000_01_PP.csv', usecols=reqCols)\n",
      "/var/folders/2v/33p_wnzd3gj0lfp0r82qrhl00000gp/T/ipykernel_1822/4064685053.py:18: DtypeWarning: Columns (1,1615) have mixed types. Specify dtype option on import or set low_memory=False.\n",
      "  df2 = pd.read_csv('../Project1_Data/data/MERGED2001_02_PP.csv', usecols=reqCols)\n",
      "/var/folders/2v/33p_wnzd3gj0lfp0r82qrhl00000gp/T/ipykernel_1822/4064685053.py:19: DtypeWarning: Columns (1,1615) have mixed types. Specify dtype option on import or set low_memory=False.\n",
      "  df3 = pd.read_csv('../Project1_Data/data/MERGED2002_03_PP.csv', usecols=reqCols)\n",
      "/var/folders/2v/33p_wnzd3gj0lfp0r82qrhl00000gp/T/ipykernel_1822/4064685053.py:20: DtypeWarning: Columns (1,1503,1615) have mixed types. Specify dtype option on import or set low_memory=False.\n",
      "  df4 = pd.read_csv('../Project1_Data/data/MERGED2003_04_PP.csv', usecols=reqCols)\n",
      "/var/folders/2v/33p_wnzd3gj0lfp0r82qrhl00000gp/T/ipykernel_1822/4064685053.py:21: DtypeWarning: Columns (1) have mixed types. Specify dtype option on import or set low_memory=False.\n",
      "  df5 = pd.read_csv('../Project1_Data/data/MERGED2004_05_PP.csv', usecols=reqCols)\n",
      "/var/folders/2v/33p_wnzd3gj0lfp0r82qrhl00000gp/T/ipykernel_1822/4064685053.py:22: DtypeWarning: Columns (1) have mixed types. Specify dtype option on import or set low_memory=False.\n",
      "  df6 = pd.read_csv('../Project1_Data/data/MERGED2005_06_PP.csv', usecols=reqCols)\n",
      "/var/folders/2v/33p_wnzd3gj0lfp0r82qrhl00000gp/T/ipykernel_1822/4064685053.py:23: DtypeWarning: Columns (1,1615) have mixed types. Specify dtype option on import or set low_memory=False.\n",
      "  df7 = pd.read_csv('../Project1_Data/data/MERGED2006_07_PP.csv', usecols=reqCols)\n",
      "/var/folders/2v/33p_wnzd3gj0lfp0r82qrhl00000gp/T/ipykernel_1822/4064685053.py:24: DtypeWarning: Columns (1,1615) have mixed types. Specify dtype option on import or set low_memory=False.\n",
      "  df8 = pd.read_csv('../Project1_Data/data/MERGED2007_08_PP.csv', usecols=reqCols)\n",
      "/var/folders/2v/33p_wnzd3gj0lfp0r82qrhl00000gp/T/ipykernel_1822/4064685053.py:25: DtypeWarning: Columns (1,1615) have mixed types. Specify dtype option on import or set low_memory=False.\n",
      "  df9 = pd.read_csv('../Project1_Data/data/MERGED2008_09_PP.csv', usecols=reqCols)\n",
      "/var/folders/2v/33p_wnzd3gj0lfp0r82qrhl00000gp/T/ipykernel_1822/4064685053.py:26: DtypeWarning: Columns (1,1615) have mixed types. Specify dtype option on import or set low_memory=False.\n",
      "  df10 = pd.read_csv('../Project1_Data/data/MERGED2009_10_PP.csv',usecols=reqCols)\n",
      "/var/folders/2v/33p_wnzd3gj0lfp0r82qrhl00000gp/T/ipykernel_1822/4064685053.py:27: DtypeWarning: Columns (1,1503,1511,1512,1615) have mixed types. Specify dtype option on import or set low_memory=False.\n",
      "  df11 = pd.read_csv('../Project1_Data/data/MERGED2010_11_PP.csv',usecols=reqCols)\n",
      "/var/folders/2v/33p_wnzd3gj0lfp0r82qrhl00000gp/T/ipykernel_1822/4064685053.py:28: DtypeWarning: Columns (1615) have mixed types. Specify dtype option on import or set low_memory=False.\n",
      "  df12 = pd.read_csv('../Project1_Data/data/MERGED2011_12_PP.csv',usecols=reqCols)\n",
      "/var/folders/2v/33p_wnzd3gj0lfp0r82qrhl00000gp/T/ipykernel_1822/4064685053.py:29: DtypeWarning: Columns (1615) have mixed types. Specify dtype option on import or set low_memory=False.\n",
      "  df13 = pd.read_csv('../Project1_Data/data/MERGED2012_13_PP.csv',usecols=reqCols)\n",
      "/var/folders/2v/33p_wnzd3gj0lfp0r82qrhl00000gp/T/ipykernel_1822/4064685053.py:31: DtypeWarning: Columns (1615) have mixed types. Specify dtype option on import or set low_memory=False.\n",
      "  df15 = pd.read_csv('../Project1_Data/data/MERGED2014_15_PP.csv',usecols=reqCols)\n",
      "/var/folders/2v/33p_wnzd3gj0lfp0r82qrhl00000gp/T/ipykernel_1822/4064685053.py:32: DtypeWarning: Columns (1615) have mixed types. Specify dtype option on import or set low_memory=False.\n",
      "  df16 = pd.read_csv('../Project1_Data/data/MERGED2015_16_PP.csv',usecols=reqCols)\n",
      "/var/folders/2v/33p_wnzd3gj0lfp0r82qrhl00000gp/T/ipykernel_1822/4064685053.py:36: DtypeWarning: Columns (1503) have mixed types. Specify dtype option on import or set low_memory=False.\n",
      "  df20 = pd.read_csv('../Project1_Data/data/MERGED2019_20_PP.csv',usecols=reqCols)\n",
      "/var/folders/2v/33p_wnzd3gj0lfp0r82qrhl00000gp/T/ipykernel_1822/4064685053.py:38: DtypeWarning: Columns (1830) have mixed types. Specify dtype option on import or set low_memory=False.\n",
      "  df22 = pd.read_csv('../Project1_Data/data/MERGED2021_22_PP.csv',usecols=reqCols)\n"
     ]
    }
   ],
   "source": [
    "str1 = 'MERGED20' #fileName: MERGED2004_05_PP\n",
    "str2 = '_PP.csv'\n",
    "reqCols = ['UNITID', 'OPEID', 'OPEID6', 'INSTNM', 'STABBR', 'CITY', 'ZIP', 'ACCREDAGENCY', 'CURROPER', 'MAIN', 'NUMBRANCH',\n",
    "           'CONTROL', 'CIPCODE1', 'CIPCODE2', 'CIPCODE3', 'OPEFLAG', 'ICLEVEL', 'HIGHDEG', 'PREDDEG', 'DISTANCEONLY', 'ADM_RATE',\n",
    "           'ADM_RATE_ALL', 'C100_4_POOLED_SUPP', 'UGDS', 'UGDS_WHITE', 'UGDS_BLACK', 'UGDS_ASIAN', 'UGDS_HISP']\n",
    "availCourseCode = [1,3,5,9,10,11,12,13,14,15,16,19,22,23,24,25,26,27,29,30,31,38,39,40,41,42,43,44,45,46,47,48,49,50,51,52,54]\n",
    "\n",
    "for num in availCourseCode:\n",
    "    reqCols.append('PCIP' + str(f\"{num:02d}\"))\n",
    "\n",
    "arr1 = ['C100_4','NPT4_PUB', 'NPT4_PRIV', 'NPT41_PUB', 'NPT42_PUB', 'NPT43_PUB',\n",
    "        'NPT41_PRIV', 'NPT42_PRIV', 'NPT43_PRIV', 'FTFTPCTFLOAN', 'FTFTPCTPELL', 'DEBT_MDN', 'GRAD_DEBT_MDN', 'PELL_DEBT_MDN', 'NOPELL_DEBT_MDN',\n",
    "        'TUITFTE', 'HCM2', 'MD_FAMINC', 'MD_EARN_WNE_P8', 'MD_EARN_WNE_P6', 'MD_EARN_WNE_INC1_P6', 'MD_EARN_WNE_INC1_P6', 'MD_EARN_WNE_INC2_P6','MD_EARN_WNE_INC3_P6',\n",
    "        'MD_EARN_WNE_1YR', 'MD_EARN_WNE_4YR', 'BBRR1_FED_UG_MAKEPROG', 'BBRR1_FED_UG_PAIDINFULL', 'CDR2', 'CDR3', 'PCTFLOAN', 'SAT_AVG_ALL']\n",
    "reqCols.extend(arr1)\n",
    "\n",
    "df1 = pd.read_csv('../Project1_Data/data/MERGED2000_01_PP.csv', usecols=reqCols)\n",
    "df2 = pd.read_csv('../Project1_Data/data/MERGED2001_02_PP.csv', usecols=reqCols)\n",
    "df3 = pd.read_csv('../Project1_Data/data/MERGED2002_03_PP.csv', usecols=reqCols)\n",
    "df4 = pd.read_csv('../Project1_Data/data/MERGED2003_04_PP.csv', usecols=reqCols)\n",
    "df5 = pd.read_csv('../Project1_Data/data/MERGED2004_05_PP.csv', usecols=reqCols)\n",
    "df6 = pd.read_csv('../Project1_Data/data/MERGED2005_06_PP.csv', usecols=reqCols)\n",
    "df7 = pd.read_csv('../Project1_Data/data/MERGED2006_07_PP.csv', usecols=reqCols)\n",
    "df8 = pd.read_csv('../Project1_Data/data/MERGED2007_08_PP.csv', usecols=reqCols)\n",
    "df9 = pd.read_csv('../Project1_Data/data/MERGED2008_09_PP.csv', usecols=reqCols)\n",
    "df10 = pd.read_csv('../Project1_Data/data/MERGED2009_10_PP.csv',usecols=reqCols)\n",
    "df11 = pd.read_csv('../Project1_Data/data/MERGED2010_11_PP.csv',usecols=reqCols)\n",
    "df12 = pd.read_csv('../Project1_Data/data/MERGED2011_12_PP.csv',usecols=reqCols)\n",
    "df13 = pd.read_csv('../Project1_Data/data/MERGED2012_13_PP.csv',usecols=reqCols)\n",
    "df14 = pd.read_csv('../Project1_Data/data/MERGED2013_14_PP.csv',usecols=reqCols)\n",
    "df15 = pd.read_csv('../Project1_Data/data/MERGED2014_15_PP.csv',usecols=reqCols)\n",
    "df16 = pd.read_csv('../Project1_Data/data/MERGED2015_16_PP.csv',usecols=reqCols)\n",
    "df17 = pd.read_csv('../Project1_Data/data/MERGED2016_17_PP.csv',usecols=reqCols)\n",
    "df18 = pd.read_csv('../Project1_Data/data/MERGED2017_18_PP.csv',usecols=reqCols)\n",
    "df19 = pd.read_csv('../Project1_Data/data/MERGED2018_19_PP.csv',usecols=reqCols)\n",
    "df20 = pd.read_csv('../Project1_Data/data/MERGED2019_20_PP.csv',usecols=reqCols)\n",
    "df21 = pd.read_csv('../Project1_Data/data/MERGED2020_21_PP.csv',usecols=reqCols)\n",
    "df22 = pd.read_csv('../Project1_Data/data/MERGED2021_22_PP.csv',usecols=reqCols)\n"
   ]
  },
  {
   "cell_type": "code",
   "execution_count": 3,
   "metadata": {},
   "outputs": [
    {
     "name": "stdout",
     "output_type": "stream",
     "text": [
      "[+] dfShape:  (156672, 96)  mainNull:  0.0\n"
     ]
    },
    {
     "data": {
      "text/html": [
       "<div>\n",
       "<style scoped>\n",
       "    .dataframe tbody tr th:only-of-type {\n",
       "        vertical-align: middle;\n",
       "    }\n",
       "\n",
       "    .dataframe tbody tr th {\n",
       "        vertical-align: top;\n",
       "    }\n",
       "\n",
       "    .dataframe thead th {\n",
       "        text-align: right;\n",
       "    }\n",
       "</style>\n",
       "<table border=\"1\" class=\"dataframe\">\n",
       "  <thead>\n",
       "    <tr style=\"text-align: right;\">\n",
       "      <th></th>\n",
       "      <th></th>\n",
       "      <th>UNITID</th>\n",
       "      <th>OPEID</th>\n",
       "      <th>OPEID6</th>\n",
       "      <th>INSTNM</th>\n",
       "      <th>CITY</th>\n",
       "      <th>STABBR</th>\n",
       "      <th>ZIP</th>\n",
       "      <th>ACCREDAGENCY</th>\n",
       "      <th>HCM2</th>\n",
       "      <th>MAIN</th>\n",
       "      <th>NUMBRANCH</th>\n",
       "      <th>PREDDEG</th>\n",
       "      <th>HIGHDEG</th>\n",
       "      <th>CONTROL</th>\n",
       "      <th>ADM_RATE</th>\n",
       "      <th>ADM_RATE_ALL</th>\n",
       "      <th>SAT_AVG_ALL</th>\n",
       "      <th>PCIP01</th>\n",
       "      <th>PCIP03</th>\n",
       "      <th>PCIP05</th>\n",
       "      <th>PCIP09</th>\n",
       "      <th>PCIP10</th>\n",
       "      <th>PCIP11</th>\n",
       "      <th>PCIP12</th>\n",
       "      <th>PCIP13</th>\n",
       "      <th>PCIP14</th>\n",
       "      <th>PCIP15</th>\n",
       "      <th>PCIP16</th>\n",
       "      <th>PCIP19</th>\n",
       "      <th>PCIP22</th>\n",
       "      <th>PCIP23</th>\n",
       "      <th>PCIP24</th>\n",
       "      <th>PCIP25</th>\n",
       "      <th>PCIP26</th>\n",
       "      <th>PCIP27</th>\n",
       "      <th>PCIP29</th>\n",
       "      <th>PCIP30</th>\n",
       "      <th>PCIP31</th>\n",
       "      <th>PCIP38</th>\n",
       "      <th>PCIP39</th>\n",
       "      <th>PCIP40</th>\n",
       "      <th>PCIP41</th>\n",
       "      <th>PCIP42</th>\n",
       "      <th>PCIP43</th>\n",
       "      <th>PCIP44</th>\n",
       "      <th>PCIP45</th>\n",
       "      <th>PCIP46</th>\n",
       "      <th>PCIP47</th>\n",
       "      <th>PCIP48</th>\n",
       "      <th>PCIP49</th>\n",
       "      <th>PCIP50</th>\n",
       "      <th>PCIP51</th>\n",
       "      <th>PCIP52</th>\n",
       "      <th>PCIP54</th>\n",
       "      <th>DISTANCEONLY</th>\n",
       "      <th>UGDS</th>\n",
       "      <th>UGDS_WHITE</th>\n",
       "      <th>UGDS_BLACK</th>\n",
       "      <th>UGDS_HISP</th>\n",
       "      <th>UGDS_ASIAN</th>\n",
       "      <th>CURROPER</th>\n",
       "      <th>NPT4_PUB</th>\n",
       "      <th>NPT4_PRIV</th>\n",
       "      <th>NPT41_PUB</th>\n",
       "      <th>NPT42_PUB</th>\n",
       "      <th>NPT43_PUB</th>\n",
       "      <th>NPT41_PRIV</th>\n",
       "      <th>NPT42_PRIV</th>\n",
       "      <th>NPT43_PRIV</th>\n",
       "      <th>TUITFTE</th>\n",
       "      <th>PCTFLOAN</th>\n",
       "      <th>CDR2</th>\n",
       "      <th>CDR3</th>\n",
       "      <th>DEBT_MDN</th>\n",
       "      <th>GRAD_DEBT_MDN</th>\n",
       "      <th>PELL_DEBT_MDN</th>\n",
       "      <th>NOPELL_DEBT_MDN</th>\n",
       "      <th>MD_FAMINC</th>\n",
       "      <th>MD_EARN_WNE_P6</th>\n",
       "      <th>MD_EARN_WNE_P8</th>\n",
       "      <th>C100_4</th>\n",
       "      <th>ICLEVEL</th>\n",
       "      <th>C100_4_POOLED_SUPP</th>\n",
       "      <th>OPEFLAG</th>\n",
       "      <th>CIPCODE1</th>\n",
       "      <th>CIPCODE2</th>\n",
       "      <th>CIPCODE3</th>\n",
       "      <th>FTFTPCTPELL</th>\n",
       "      <th>FTFTPCTFLOAN</th>\n",
       "      <th>BBRR1_FED_UG_MAKEPROG</th>\n",
       "      <th>BBRR1_FED_UG_PAIDINFULL</th>\n",
       "      <th>MD_EARN_WNE_INC1_P6</th>\n",
       "      <th>MD_EARN_WNE_INC2_P6</th>\n",
       "      <th>MD_EARN_WNE_INC3_P6</th>\n",
       "      <th>MD_EARN_WNE_1YR</th>\n",
       "      <th>MD_EARN_WNE_4YR</th>\n",
       "    </tr>\n",
       "    <tr>\n",
       "      <th>year</th>\n",
       "      <th>rowNum</th>\n",
       "      <th></th>\n",
       "      <th></th>\n",
       "      <th></th>\n",
       "      <th></th>\n",
       "      <th></th>\n",
       "      <th></th>\n",
       "      <th></th>\n",
       "      <th></th>\n",
       "      <th></th>\n",
       "      <th></th>\n",
       "      <th></th>\n",
       "      <th></th>\n",
       "      <th></th>\n",
       "      <th></th>\n",
       "      <th></th>\n",
       "      <th></th>\n",
       "      <th></th>\n",
       "      <th></th>\n",
       "      <th></th>\n",
       "      <th></th>\n",
       "      <th></th>\n",
       "      <th></th>\n",
       "      <th></th>\n",
       "      <th></th>\n",
       "      <th></th>\n",
       "      <th></th>\n",
       "      <th></th>\n",
       "      <th></th>\n",
       "      <th></th>\n",
       "      <th></th>\n",
       "      <th></th>\n",
       "      <th></th>\n",
       "      <th></th>\n",
       "      <th></th>\n",
       "      <th></th>\n",
       "      <th></th>\n",
       "      <th></th>\n",
       "      <th></th>\n",
       "      <th></th>\n",
       "      <th></th>\n",
       "      <th></th>\n",
       "      <th></th>\n",
       "      <th></th>\n",
       "      <th></th>\n",
       "      <th></th>\n",
       "      <th></th>\n",
       "      <th></th>\n",
       "      <th></th>\n",
       "      <th></th>\n",
       "      <th></th>\n",
       "      <th></th>\n",
       "      <th></th>\n",
       "      <th></th>\n",
       "      <th></th>\n",
       "      <th></th>\n",
       "      <th></th>\n",
       "      <th></th>\n",
       "      <th></th>\n",
       "      <th></th>\n",
       "      <th></th>\n",
       "      <th></th>\n",
       "      <th></th>\n",
       "      <th></th>\n",
       "      <th></th>\n",
       "      <th></th>\n",
       "      <th></th>\n",
       "      <th></th>\n",
       "      <th></th>\n",
       "      <th></th>\n",
       "      <th></th>\n",
       "      <th></th>\n",
       "      <th></th>\n",
       "      <th></th>\n",
       "      <th></th>\n",
       "      <th></th>\n",
       "      <th></th>\n",
       "      <th></th>\n",
       "      <th></th>\n",
       "      <th></th>\n",
       "      <th></th>\n",
       "      <th></th>\n",
       "      <th></th>\n",
       "      <th></th>\n",
       "      <th></th>\n",
       "      <th></th>\n",
       "      <th></th>\n",
       "      <th></th>\n",
       "      <th></th>\n",
       "      <th></th>\n",
       "      <th></th>\n",
       "      <th></th>\n",
       "      <th></th>\n",
       "      <th></th>\n",
       "      <th></th>\n",
       "      <th></th>\n",
       "      <th></th>\n",
       "    </tr>\n",
       "  </thead>\n",
       "  <tbody>\n",
       "    <tr>\n",
       "      <th rowspan=\"5\" valign=\"top\">2000</th>\n",
       "      <th>0</th>\n",
       "      <td>100636</td>\n",
       "      <td>01230800</td>\n",
       "      <td>12308.0</td>\n",
       "      <td>Community College of the Air Force</td>\n",
       "      <td>Montgomery</td>\n",
       "      <td>AL</td>\n",
       "      <td>36114-3011</td>\n",
       "      <td>NaN</td>\n",
       "      <td>NaN</td>\n",
       "      <td>1</td>\n",
       "      <td>1</td>\n",
       "      <td>2</td>\n",
       "      <td>2</td>\n",
       "      <td>1.0</td>\n",
       "      <td>NaN</td>\n",
       "      <td>NaN</td>\n",
       "      <td>NaN</td>\n",
       "      <td>0.0000</td>\n",
       "      <td>0.0000</td>\n",
       "      <td>0.0000</td>\n",
       "      <td>0.0024</td>\n",
       "      <td>0.0420</td>\n",
       "      <td>0.0115</td>\n",
       "      <td>0.0</td>\n",
       "      <td>0.0888</td>\n",
       "      <td>0.0000</td>\n",
       "      <td>0.1370</td>\n",
       "      <td>0.0000</td>\n",
       "      <td>0.0020</td>\n",
       "      <td>0.0065</td>\n",
       "      <td>0.0000</td>\n",
       "      <td>0.0</td>\n",
       "      <td>0.0</td>\n",
       "      <td>0.0000</td>\n",
       "      <td>0.0000</td>\n",
       "      <td>0.0583</td>\n",
       "      <td>0.0000</td>\n",
       "      <td>0.0077</td>\n",
       "      <td>0.0000</td>\n",
       "      <td>0.0</td>\n",
       "      <td>0.0084</td>\n",
       "      <td>0.0019</td>\n",
       "      <td>0.0000</td>\n",
       "      <td>0.0746</td>\n",
       "      <td>0.0032</td>\n",
       "      <td>0.0000</td>\n",
       "      <td>0.0</td>\n",
       "      <td>0.1973</td>\n",
       "      <td>0.0</td>\n",
       "      <td>0.0517</td>\n",
       "      <td>0.0064</td>\n",
       "      <td>0.0777</td>\n",
       "      <td>0.2225</td>\n",
       "      <td>0.0003</td>\n",
       "      <td>NaN</td>\n",
       "      <td>NaN</td>\n",
       "      <td>NaN</td>\n",
       "      <td>NaN</td>\n",
       "      <td>NaN</td>\n",
       "      <td>NaN</td>\n",
       "      <td>NaN</td>\n",
       "      <td>NaN</td>\n",
       "      <td>NaN</td>\n",
       "      <td>NaN</td>\n",
       "      <td>NaN</td>\n",
       "      <td>NaN</td>\n",
       "      <td>NaN</td>\n",
       "      <td>NaN</td>\n",
       "      <td>NaN</td>\n",
       "      <td>0.0</td>\n",
       "      <td>NaN</td>\n",
       "      <td>NaN</td>\n",
       "      <td>NaN</td>\n",
       "      <td>NaN</td>\n",
       "      <td>NaN</td>\n",
       "      <td>NaN</td>\n",
       "      <td>NaN</td>\n",
       "      <td>NaN</td>\n",
       "      <td>NaN</td>\n",
       "      <td>NaN</td>\n",
       "      <td>NaN</td>\n",
       "      <td>2.0</td>\n",
       "      <td>NaN</td>\n",
       "      <td>3</td>\n",
       "      <td>NaN</td>\n",
       "      <td>NaN</td>\n",
       "      <td>NaN</td>\n",
       "      <td>NaN</td>\n",
       "      <td>NaN</td>\n",
       "      <td>NaN</td>\n",
       "      <td>NaN</td>\n",
       "      <td>NaN</td>\n",
       "      <td>NaN</td>\n",
       "      <td>NaN</td>\n",
       "      <td>NaN</td>\n",
       "      <td>NaN</td>\n",
       "    </tr>\n",
       "    <tr>\n",
       "      <th>1</th>\n",
       "      <td>100654</td>\n",
       "      <td>00100200</td>\n",
       "      <td>1002.0</td>\n",
       "      <td>Alabama A &amp; M University</td>\n",
       "      <td>Normal</td>\n",
       "      <td>AL</td>\n",
       "      <td>35762</td>\n",
       "      <td>NaN</td>\n",
       "      <td>NaN</td>\n",
       "      <td>1</td>\n",
       "      <td>1</td>\n",
       "      <td>3</td>\n",
       "      <td>4</td>\n",
       "      <td>1.0</td>\n",
       "      <td>NaN</td>\n",
       "      <td>NaN</td>\n",
       "      <td>NaN</td>\n",
       "      <td>0.0624</td>\n",
       "      <td>0.0183</td>\n",
       "      <td>0.0000</td>\n",
       "      <td>0.0000</td>\n",
       "      <td>0.0239</td>\n",
       "      <td>0.0349</td>\n",
       "      <td>0.0</td>\n",
       "      <td>0.2569</td>\n",
       "      <td>0.0183</td>\n",
       "      <td>0.1083</td>\n",
       "      <td>0.0000</td>\n",
       "      <td>0.0294</td>\n",
       "      <td>0.0000</td>\n",
       "      <td>0.0092</td>\n",
       "      <td>0.0</td>\n",
       "      <td>0.0</td>\n",
       "      <td>0.0661</td>\n",
       "      <td>0.0202</td>\n",
       "      <td>0.0000</td>\n",
       "      <td>0.0000</td>\n",
       "      <td>0.0000</td>\n",
       "      <td>0.0000</td>\n",
       "      <td>0.0</td>\n",
       "      <td>0.0183</td>\n",
       "      <td>0.0000</td>\n",
       "      <td>0.0514</td>\n",
       "      <td>0.0000</td>\n",
       "      <td>0.0440</td>\n",
       "      <td>0.0422</td>\n",
       "      <td>0.0</td>\n",
       "      <td>0.0000</td>\n",
       "      <td>0.0</td>\n",
       "      <td>0.0000</td>\n",
       "      <td>0.0037</td>\n",
       "      <td>0.0000</td>\n",
       "      <td>0.1798</td>\n",
       "      <td>0.0018</td>\n",
       "      <td>NaN</td>\n",
       "      <td>NaN</td>\n",
       "      <td>NaN</td>\n",
       "      <td>NaN</td>\n",
       "      <td>NaN</td>\n",
       "      <td>NaN</td>\n",
       "      <td>NaN</td>\n",
       "      <td>NaN</td>\n",
       "      <td>NaN</td>\n",
       "      <td>NaN</td>\n",
       "      <td>NaN</td>\n",
       "      <td>NaN</td>\n",
       "      <td>NaN</td>\n",
       "      <td>NaN</td>\n",
       "      <td>NaN</td>\n",
       "      <td>3486.0</td>\n",
       "      <td>NaN</td>\n",
       "      <td>0.119</td>\n",
       "      <td>NaN</td>\n",
       "      <td>4625</td>\n",
       "      <td>15374</td>\n",
       "      <td>4617.5</td>\n",
       "      <td>4625.5</td>\n",
       "      <td>18979</td>\n",
       "      <td>NaN</td>\n",
       "      <td>NaN</td>\n",
       "      <td>NaN</td>\n",
       "      <td>1.0</td>\n",
       "      <td>NaN</td>\n",
       "      <td>1</td>\n",
       "      <td>NaN</td>\n",
       "      <td>NaN</td>\n",
       "      <td>NaN</td>\n",
       "      <td>NaN</td>\n",
       "      <td>NaN</td>\n",
       "      <td>NaN</td>\n",
       "      <td>NaN</td>\n",
       "      <td>NaN</td>\n",
       "      <td>NaN</td>\n",
       "      <td>NaN</td>\n",
       "      <td>NaN</td>\n",
       "      <td>NaN</td>\n",
       "    </tr>\n",
       "    <tr>\n",
       "      <th>2</th>\n",
       "      <td>100663</td>\n",
       "      <td>00105200</td>\n",
       "      <td>1052.0</td>\n",
       "      <td>University of Alabama at Birmingham</td>\n",
       "      <td>Birmingham</td>\n",
       "      <td>AL</td>\n",
       "      <td>35294-0110</td>\n",
       "      <td>NaN</td>\n",
       "      <td>NaN</td>\n",
       "      <td>1</td>\n",
       "      <td>1</td>\n",
       "      <td>3</td>\n",
       "      <td>4</td>\n",
       "      <td>1.0</td>\n",
       "      <td>NaN</td>\n",
       "      <td>NaN</td>\n",
       "      <td>NaN</td>\n",
       "      <td>0.0000</td>\n",
       "      <td>0.0000</td>\n",
       "      <td>0.0000</td>\n",
       "      <td>0.0352</td>\n",
       "      <td>0.0000</td>\n",
       "      <td>0.0224</td>\n",
       "      <td>0.0</td>\n",
       "      <td>0.1223</td>\n",
       "      <td>0.0525</td>\n",
       "      <td>0.0000</td>\n",
       "      <td>0.0051</td>\n",
       "      <td>0.0000</td>\n",
       "      <td>0.0000</td>\n",
       "      <td>0.0166</td>\n",
       "      <td>0.0</td>\n",
       "      <td>0.0</td>\n",
       "      <td>0.0743</td>\n",
       "      <td>0.0038</td>\n",
       "      <td>0.0000</td>\n",
       "      <td>0.0019</td>\n",
       "      <td>0.0000</td>\n",
       "      <td>0.0083</td>\n",
       "      <td>0.0</td>\n",
       "      <td>0.0134</td>\n",
       "      <td>0.0000</td>\n",
       "      <td>0.0794</td>\n",
       "      <td>0.0467</td>\n",
       "      <td>0.0173</td>\n",
       "      <td>0.0551</td>\n",
       "      <td>0.0</td>\n",
       "      <td>0.0000</td>\n",
       "      <td>0.0</td>\n",
       "      <td>0.0000</td>\n",
       "      <td>0.0262</td>\n",
       "      <td>0.1895</td>\n",
       "      <td>0.1914</td>\n",
       "      <td>0.0384</td>\n",
       "      <td>NaN</td>\n",
       "      <td>NaN</td>\n",
       "      <td>NaN</td>\n",
       "      <td>NaN</td>\n",
       "      <td>NaN</td>\n",
       "      <td>NaN</td>\n",
       "      <td>NaN</td>\n",
       "      <td>NaN</td>\n",
       "      <td>NaN</td>\n",
       "      <td>NaN</td>\n",
       "      <td>NaN</td>\n",
       "      <td>NaN</td>\n",
       "      <td>NaN</td>\n",
       "      <td>NaN</td>\n",
       "      <td>NaN</td>\n",
       "      <td>6348.0</td>\n",
       "      <td>NaN</td>\n",
       "      <td>0.054</td>\n",
       "      <td>NaN</td>\n",
       "      <td>5000</td>\n",
       "      <td>4125</td>\n",
       "      <td>4766.5</td>\n",
       "      <td>5250</td>\n",
       "      <td>22336</td>\n",
       "      <td>NaN</td>\n",
       "      <td>NaN</td>\n",
       "      <td>NaN</td>\n",
       "      <td>1.0</td>\n",
       "      <td>NaN</td>\n",
       "      <td>1</td>\n",
       "      <td>NaN</td>\n",
       "      <td>NaN</td>\n",
       "      <td>NaN</td>\n",
       "      <td>NaN</td>\n",
       "      <td>NaN</td>\n",
       "      <td>NaN</td>\n",
       "      <td>NaN</td>\n",
       "      <td>NaN</td>\n",
       "      <td>NaN</td>\n",
       "      <td>NaN</td>\n",
       "      <td>NaN</td>\n",
       "      <td>NaN</td>\n",
       "    </tr>\n",
       "    <tr>\n",
       "      <th>3</th>\n",
       "      <td>100690</td>\n",
       "      <td>02503400</td>\n",
       "      <td>25034.0</td>\n",
       "      <td>Amridge University</td>\n",
       "      <td>Montgomery</td>\n",
       "      <td>AL</td>\n",
       "      <td>36117-3553</td>\n",
       "      <td>NaN</td>\n",
       "      <td>NaN</td>\n",
       "      <td>1</td>\n",
       "      <td>1</td>\n",
       "      <td>3</td>\n",
       "      <td>4</td>\n",
       "      <td>2.0</td>\n",
       "      <td>NaN</td>\n",
       "      <td>NaN</td>\n",
       "      <td>NaN</td>\n",
       "      <td>0.0000</td>\n",
       "      <td>0.0000</td>\n",
       "      <td>0.0000</td>\n",
       "      <td>0.0000</td>\n",
       "      <td>0.0000</td>\n",
       "      <td>0.0000</td>\n",
       "      <td>0.0</td>\n",
       "      <td>0.0000</td>\n",
       "      <td>0.0000</td>\n",
       "      <td>0.0000</td>\n",
       "      <td>0.0000</td>\n",
       "      <td>0.0000</td>\n",
       "      <td>0.0000</td>\n",
       "      <td>0.0000</td>\n",
       "      <td>0.0</td>\n",
       "      <td>0.0</td>\n",
       "      <td>0.0000</td>\n",
       "      <td>0.0000</td>\n",
       "      <td>0.0000</td>\n",
       "      <td>0.0000</td>\n",
       "      <td>0.0000</td>\n",
       "      <td>0.0000</td>\n",
       "      <td>1.0</td>\n",
       "      <td>0.0000</td>\n",
       "      <td>0.0000</td>\n",
       "      <td>0.0000</td>\n",
       "      <td>0.0000</td>\n",
       "      <td>0.0000</td>\n",
       "      <td>0.0000</td>\n",
       "      <td>0.0</td>\n",
       "      <td>0.0000</td>\n",
       "      <td>0.0</td>\n",
       "      <td>0.0000</td>\n",
       "      <td>0.0000</td>\n",
       "      <td>0.0000</td>\n",
       "      <td>0.0000</td>\n",
       "      <td>0.0000</td>\n",
       "      <td>NaN</td>\n",
       "      <td>NaN</td>\n",
       "      <td>NaN</td>\n",
       "      <td>NaN</td>\n",
       "      <td>NaN</td>\n",
       "      <td>NaN</td>\n",
       "      <td>NaN</td>\n",
       "      <td>NaN</td>\n",
       "      <td>NaN</td>\n",
       "      <td>NaN</td>\n",
       "      <td>NaN</td>\n",
       "      <td>NaN</td>\n",
       "      <td>NaN</td>\n",
       "      <td>NaN</td>\n",
       "      <td>NaN</td>\n",
       "      <td>5397.0</td>\n",
       "      <td>NaN</td>\n",
       "      <td>0.016</td>\n",
       "      <td>NaN</td>\n",
       "      <td>5655.5</td>\n",
       "      <td>9900</td>\n",
       "      <td>5500</td>\n",
       "      <td>8087</td>\n",
       "      <td>24892</td>\n",
       "      <td>NaN</td>\n",
       "      <td>NaN</td>\n",
       "      <td>NaN</td>\n",
       "      <td>1.0</td>\n",
       "      <td>NaN</td>\n",
       "      <td>1</td>\n",
       "      <td>NaN</td>\n",
       "      <td>NaN</td>\n",
       "      <td>NaN</td>\n",
       "      <td>NaN</td>\n",
       "      <td>NaN</td>\n",
       "      <td>NaN</td>\n",
       "      <td>NaN</td>\n",
       "      <td>NaN</td>\n",
       "      <td>NaN</td>\n",
       "      <td>NaN</td>\n",
       "      <td>NaN</td>\n",
       "      <td>NaN</td>\n",
       "    </tr>\n",
       "    <tr>\n",
       "      <th>4</th>\n",
       "      <td>100706</td>\n",
       "      <td>00105500</td>\n",
       "      <td>1055.0</td>\n",
       "      <td>University of Alabama in Huntsville</td>\n",
       "      <td>Huntsville</td>\n",
       "      <td>AL</td>\n",
       "      <td>35899</td>\n",
       "      <td>NaN</td>\n",
       "      <td>NaN</td>\n",
       "      <td>1</td>\n",
       "      <td>1</td>\n",
       "      <td>3</td>\n",
       "      <td>4</td>\n",
       "      <td>1.0</td>\n",
       "      <td>NaN</td>\n",
       "      <td>NaN</td>\n",
       "      <td>NaN</td>\n",
       "      <td>0.0000</td>\n",
       "      <td>0.0000</td>\n",
       "      <td>0.0015</td>\n",
       "      <td>0.0000</td>\n",
       "      <td>0.0000</td>\n",
       "      <td>0.0550</td>\n",
       "      <td>0.0</td>\n",
       "      <td>0.0267</td>\n",
       "      <td>0.2719</td>\n",
       "      <td>0.0000</td>\n",
       "      <td>0.0208</td>\n",
       "      <td>0.0000</td>\n",
       "      <td>0.0000</td>\n",
       "      <td>0.0416</td>\n",
       "      <td>0.0</td>\n",
       "      <td>0.0</td>\n",
       "      <td>0.0475</td>\n",
       "      <td>0.0134</td>\n",
       "      <td>0.0000</td>\n",
       "      <td>0.0000</td>\n",
       "      <td>0.0000</td>\n",
       "      <td>0.0045</td>\n",
       "      <td>0.0</td>\n",
       "      <td>0.0208</td>\n",
       "      <td>0.0000</td>\n",
       "      <td>0.0208</td>\n",
       "      <td>0.0000</td>\n",
       "      <td>0.0000</td>\n",
       "      <td>0.0238</td>\n",
       "      <td>0.0</td>\n",
       "      <td>0.0000</td>\n",
       "      <td>0.0</td>\n",
       "      <td>0.0000</td>\n",
       "      <td>0.0223</td>\n",
       "      <td>0.1694</td>\n",
       "      <td>0.2392</td>\n",
       "      <td>0.0208</td>\n",
       "      <td>NaN</td>\n",
       "      <td>NaN</td>\n",
       "      <td>NaN</td>\n",
       "      <td>NaN</td>\n",
       "      <td>NaN</td>\n",
       "      <td>NaN</td>\n",
       "      <td>NaN</td>\n",
       "      <td>NaN</td>\n",
       "      <td>NaN</td>\n",
       "      <td>NaN</td>\n",
       "      <td>NaN</td>\n",
       "      <td>NaN</td>\n",
       "      <td>NaN</td>\n",
       "      <td>NaN</td>\n",
       "      <td>NaN</td>\n",
       "      <td>4200.0</td>\n",
       "      <td>NaN</td>\n",
       "      <td>0.048</td>\n",
       "      <td>NaN</td>\n",
       "      <td>5500</td>\n",
       "      <td>12001.5</td>\n",
       "      <td>5500</td>\n",
       "      <td>5250</td>\n",
       "      <td>27289.5</td>\n",
       "      <td>NaN</td>\n",
       "      <td>NaN</td>\n",
       "      <td>NaN</td>\n",
       "      <td>1.0</td>\n",
       "      <td>NaN</td>\n",
       "      <td>1</td>\n",
       "      <td>NaN</td>\n",
       "      <td>NaN</td>\n",
       "      <td>NaN</td>\n",
       "      <td>NaN</td>\n",
       "      <td>NaN</td>\n",
       "      <td>NaN</td>\n",
       "      <td>NaN</td>\n",
       "      <td>NaN</td>\n",
       "      <td>NaN</td>\n",
       "      <td>NaN</td>\n",
       "      <td>NaN</td>\n",
       "      <td>NaN</td>\n",
       "    </tr>\n",
       "  </tbody>\n",
       "</table>\n",
       "</div>"
      ],
      "text/plain": [
       "             UNITID     OPEID   OPEID6                               INSTNM  \\\n",
       "year rowNum                                                                   \n",
       "2000 0       100636  01230800  12308.0   Community College of the Air Force   \n",
       "     1       100654  00100200   1002.0             Alabama A & M University   \n",
       "     2       100663  00105200   1052.0  University of Alabama at Birmingham   \n",
       "     3       100690  02503400  25034.0                   Amridge University   \n",
       "     4       100706  00105500   1055.0  University of Alabama in Huntsville   \n",
       "\n",
       "                   CITY STABBR         ZIP  ACCREDAGENCY  HCM2  MAIN  \\\n",
       "year rowNum                                                            \n",
       "2000 0       Montgomery     AL  36114-3011           NaN   NaN     1   \n",
       "     1           Normal     AL       35762           NaN   NaN     1   \n",
       "     2       Birmingham     AL  35294-0110           NaN   NaN     1   \n",
       "     3       Montgomery     AL  36117-3553           NaN   NaN     1   \n",
       "     4       Huntsville     AL       35899           NaN   NaN     1   \n",
       "\n",
       "             NUMBRANCH  PREDDEG  HIGHDEG  CONTROL  ADM_RATE  ADM_RATE_ALL  \\\n",
       "year rowNum                                                                 \n",
       "2000 0               1        2        2      1.0       NaN           NaN   \n",
       "     1               1        3        4      1.0       NaN           NaN   \n",
       "     2               1        3        4      1.0       NaN           NaN   \n",
       "     3               1        3        4      2.0       NaN           NaN   \n",
       "     4               1        3        4      1.0       NaN           NaN   \n",
       "\n",
       "             SAT_AVG_ALL  PCIP01  PCIP03  PCIP05  PCIP09  PCIP10  PCIP11  \\\n",
       "year rowNum                                                                \n",
       "2000 0               NaN  0.0000  0.0000  0.0000  0.0024  0.0420  0.0115   \n",
       "     1               NaN  0.0624  0.0183  0.0000  0.0000  0.0239  0.0349   \n",
       "     2               NaN  0.0000  0.0000  0.0000  0.0352  0.0000  0.0224   \n",
       "     3               NaN  0.0000  0.0000  0.0000  0.0000  0.0000  0.0000   \n",
       "     4               NaN  0.0000  0.0000  0.0015  0.0000  0.0000  0.0550   \n",
       "\n",
       "             PCIP12  PCIP13  PCIP14  PCIP15  PCIP16  PCIP19  PCIP22  PCIP23  \\\n",
       "year rowNum                                                                   \n",
       "2000 0          0.0  0.0888  0.0000  0.1370  0.0000  0.0020  0.0065  0.0000   \n",
       "     1          0.0  0.2569  0.0183  0.1083  0.0000  0.0294  0.0000  0.0092   \n",
       "     2          0.0  0.1223  0.0525  0.0000  0.0051  0.0000  0.0000  0.0166   \n",
       "     3          0.0  0.0000  0.0000  0.0000  0.0000  0.0000  0.0000  0.0000   \n",
       "     4          0.0  0.0267  0.2719  0.0000  0.0208  0.0000  0.0000  0.0416   \n",
       "\n",
       "             PCIP24  PCIP25  PCIP26  PCIP27  PCIP29  PCIP30  PCIP31  PCIP38  \\\n",
       "year rowNum                                                                   \n",
       "2000 0          0.0     0.0  0.0000  0.0000  0.0583  0.0000  0.0077  0.0000   \n",
       "     1          0.0     0.0  0.0661  0.0202  0.0000  0.0000  0.0000  0.0000   \n",
       "     2          0.0     0.0  0.0743  0.0038  0.0000  0.0019  0.0000  0.0083   \n",
       "     3          0.0     0.0  0.0000  0.0000  0.0000  0.0000  0.0000  0.0000   \n",
       "     4          0.0     0.0  0.0475  0.0134  0.0000  0.0000  0.0000  0.0045   \n",
       "\n",
       "             PCIP39  PCIP40  PCIP41  PCIP42  PCIP43  PCIP44  PCIP45  PCIP46  \\\n",
       "year rowNum                                                                   \n",
       "2000 0          0.0  0.0084  0.0019  0.0000  0.0746  0.0032  0.0000     0.0   \n",
       "     1          0.0  0.0183  0.0000  0.0514  0.0000  0.0440  0.0422     0.0   \n",
       "     2          0.0  0.0134  0.0000  0.0794  0.0467  0.0173  0.0551     0.0   \n",
       "     3          1.0  0.0000  0.0000  0.0000  0.0000  0.0000  0.0000     0.0   \n",
       "     4          0.0  0.0208  0.0000  0.0208  0.0000  0.0000  0.0238     0.0   \n",
       "\n",
       "             PCIP47  PCIP48  PCIP49  PCIP50  PCIP51  PCIP52  PCIP54  \\\n",
       "year rowNum                                                           \n",
       "2000 0       0.1973     0.0  0.0517  0.0064  0.0777  0.2225  0.0003   \n",
       "     1       0.0000     0.0  0.0000  0.0037  0.0000  0.1798  0.0018   \n",
       "     2       0.0000     0.0  0.0000  0.0262  0.1895  0.1914  0.0384   \n",
       "     3       0.0000     0.0  0.0000  0.0000  0.0000  0.0000  0.0000   \n",
       "     4       0.0000     0.0  0.0000  0.0223  0.1694  0.2392  0.0208   \n",
       "\n",
       "             DISTANCEONLY  UGDS  UGDS_WHITE  UGDS_BLACK  UGDS_HISP  \\\n",
       "year rowNum                                                          \n",
       "2000 0                NaN   NaN         NaN         NaN        NaN   \n",
       "     1                NaN   NaN         NaN         NaN        NaN   \n",
       "     2                NaN   NaN         NaN         NaN        NaN   \n",
       "     3                NaN   NaN         NaN         NaN        NaN   \n",
       "     4                NaN   NaN         NaN         NaN        NaN   \n",
       "\n",
       "             UGDS_ASIAN  CURROPER  NPT4_PUB  NPT4_PRIV  NPT41_PUB  NPT42_PUB  \\\n",
       "year rowNum                                                                    \n",
       "2000 0              NaN       NaN       NaN        NaN        NaN        NaN   \n",
       "     1              NaN       NaN       NaN        NaN        NaN        NaN   \n",
       "     2              NaN       NaN       NaN        NaN        NaN        NaN   \n",
       "     3              NaN       NaN       NaN        NaN        NaN        NaN   \n",
       "     4              NaN       NaN       NaN        NaN        NaN        NaN   \n",
       "\n",
       "             NPT43_PUB  NPT41_PRIV  NPT42_PRIV  NPT43_PRIV  TUITFTE  PCTFLOAN  \\\n",
       "year rowNum                                                                     \n",
       "2000 0             NaN         NaN         NaN         NaN      0.0       NaN   \n",
       "     1             NaN         NaN         NaN         NaN   3486.0       NaN   \n",
       "     2             NaN         NaN         NaN         NaN   6348.0       NaN   \n",
       "     3             NaN         NaN         NaN         NaN   5397.0       NaN   \n",
       "     4             NaN         NaN         NaN         NaN   4200.0       NaN   \n",
       "\n",
       "              CDR2  CDR3 DEBT_MDN GRAD_DEBT_MDN PELL_DEBT_MDN NOPELL_DEBT_MDN  \\\n",
       "year rowNum                                                                     \n",
       "2000 0         NaN   NaN      NaN           NaN           NaN             NaN   \n",
       "     1       0.119   NaN     4625         15374        4617.5          4625.5   \n",
       "     2       0.054   NaN     5000          4125        4766.5            5250   \n",
       "     3       0.016   NaN   5655.5          9900          5500            8087   \n",
       "     4       0.048   NaN     5500       12001.5          5500            5250   \n",
       "\n",
       "            MD_FAMINC MD_EARN_WNE_P6 MD_EARN_WNE_P8  C100_4  ICLEVEL  \\\n",
       "year rowNum                                                            \n",
       "2000 0            NaN            NaN            NaN     NaN      2.0   \n",
       "     1          18979            NaN            NaN     NaN      1.0   \n",
       "     2          22336            NaN            NaN     NaN      1.0   \n",
       "     3          24892            NaN            NaN     NaN      1.0   \n",
       "     4        27289.5            NaN            NaN     NaN      1.0   \n",
       "\n",
       "             C100_4_POOLED_SUPP  OPEFLAG  CIPCODE1  CIPCODE2  CIPCODE3  \\\n",
       "year rowNum                                                              \n",
       "2000 0                      NaN        3       NaN       NaN       NaN   \n",
       "     1                      NaN        1       NaN       NaN       NaN   \n",
       "     2                      NaN        1       NaN       NaN       NaN   \n",
       "     3                      NaN        1       NaN       NaN       NaN   \n",
       "     4                      NaN        1       NaN       NaN       NaN   \n",
       "\n",
       "             FTFTPCTPELL  FTFTPCTFLOAN BBRR1_FED_UG_MAKEPROG  \\\n",
       "year rowNum                                                    \n",
       "2000 0               NaN           NaN                   NaN   \n",
       "     1               NaN           NaN                   NaN   \n",
       "     2               NaN           NaN                   NaN   \n",
       "     3               NaN           NaN                   NaN   \n",
       "     4               NaN           NaN                   NaN   \n",
       "\n",
       "            BBRR1_FED_UG_PAIDINFULL  MD_EARN_WNE_INC1_P6  MD_EARN_WNE_INC2_P6  \\\n",
       "year rowNum                                                                     \n",
       "2000 0                          NaN                  NaN                  NaN   \n",
       "     1                          NaN                  NaN                  NaN   \n",
       "     2                          NaN                  NaN                  NaN   \n",
       "     3                          NaN                  NaN                  NaN   \n",
       "     4                          NaN                  NaN                  NaN   \n",
       "\n",
       "             MD_EARN_WNE_INC3_P6  MD_EARN_WNE_1YR  MD_EARN_WNE_4YR  \n",
       "year rowNum                                                         \n",
       "2000 0                       NaN              NaN              NaN  \n",
       "     1                       NaN              NaN              NaN  \n",
       "     2                       NaN              NaN              NaN  \n",
       "     3                       NaN              NaN              NaN  \n",
       "     4                       NaN              NaN              NaN  "
      ]
     },
     "execution_count": 3,
     "metadata": {},
     "output_type": "execute_result"
    }
   ],
   "source": [
    "years = [2000, 2001, 2002, 2003, 2004, 2005, 2006, 2007, 2008, 2009, 2010, 2011, 2012, 2013, 2014, 2015, 2016, 2017, 2018, 2019, 2020, 2021]\n",
    "df = pd.concat([df1, df2, df3, df4, df5, df6, df7, df8, df9, df10, df10, df11, df12, df13, df14, df15, df16, df17, df18, df19, df20, df21, df22], keys=years, axis=0)\n",
    "shape = df.shape\n",
    "nullPercent = df['MAIN'].isna().mean() * 100\n",
    "\n",
    "print(\"[+] dfShape: \", shape, \" mainNull: \", nullPercent)\n",
    "df.index.names = ['year', 'rowNum']\n",
    "df.head()"
   ]
  },
  {
   "cell_type": "markdown",
   "metadata": {},
   "source": [
    "## Filtering the Institutes ##\n",
    "1: First Only select the Main Campus, as many institutes have branch campuses\n",
    "\n",
    "2: Next Select only the institutes that are eligible for Title IV Aid  by  Federal Government\n",
    "\n",
    "3: Now filter those institutes that are  4 year institutions"
   ]
  },
  {
   "cell_type": "code",
   "execution_count": 4,
   "metadata": {},
   "outputs": [
    {
     "name": "stdout",
     "output_type": "stream",
     "text": [
      "[+] mainShape:  (123172, 96)  titleIVNull:  0.0\n"
     ]
    },
    {
     "data": {
      "text/html": [
       "<div>\n",
       "<style scoped>\n",
       "    .dataframe tbody tr th:only-of-type {\n",
       "        vertical-align: middle;\n",
       "    }\n",
       "\n",
       "    .dataframe tbody tr th {\n",
       "        vertical-align: top;\n",
       "    }\n",
       "\n",
       "    .dataframe thead th {\n",
       "        text-align: right;\n",
       "    }\n",
       "</style>\n",
       "<table border=\"1\" class=\"dataframe\">\n",
       "  <thead>\n",
       "    <tr style=\"text-align: right;\">\n",
       "      <th></th>\n",
       "      <th></th>\n",
       "      <th>UNITID</th>\n",
       "      <th>OPEID</th>\n",
       "      <th>OPEID6</th>\n",
       "      <th>INSTNM</th>\n",
       "      <th>CITY</th>\n",
       "      <th>STABBR</th>\n",
       "      <th>ZIP</th>\n",
       "      <th>ACCREDAGENCY</th>\n",
       "      <th>HCM2</th>\n",
       "      <th>MAIN</th>\n",
       "      <th>NUMBRANCH</th>\n",
       "      <th>PREDDEG</th>\n",
       "      <th>HIGHDEG</th>\n",
       "      <th>CONTROL</th>\n",
       "      <th>ADM_RATE</th>\n",
       "      <th>ADM_RATE_ALL</th>\n",
       "      <th>SAT_AVG_ALL</th>\n",
       "      <th>PCIP01</th>\n",
       "      <th>PCIP03</th>\n",
       "      <th>PCIP05</th>\n",
       "      <th>PCIP09</th>\n",
       "      <th>PCIP10</th>\n",
       "      <th>PCIP11</th>\n",
       "      <th>PCIP12</th>\n",
       "      <th>PCIP13</th>\n",
       "      <th>PCIP14</th>\n",
       "      <th>PCIP15</th>\n",
       "      <th>PCIP16</th>\n",
       "      <th>PCIP19</th>\n",
       "      <th>PCIP22</th>\n",
       "      <th>PCIP23</th>\n",
       "      <th>PCIP24</th>\n",
       "      <th>PCIP25</th>\n",
       "      <th>PCIP26</th>\n",
       "      <th>PCIP27</th>\n",
       "      <th>PCIP29</th>\n",
       "      <th>PCIP30</th>\n",
       "      <th>PCIP31</th>\n",
       "      <th>PCIP38</th>\n",
       "      <th>PCIP39</th>\n",
       "      <th>PCIP40</th>\n",
       "      <th>PCIP41</th>\n",
       "      <th>PCIP42</th>\n",
       "      <th>PCIP43</th>\n",
       "      <th>PCIP44</th>\n",
       "      <th>PCIP45</th>\n",
       "      <th>PCIP46</th>\n",
       "      <th>PCIP47</th>\n",
       "      <th>PCIP48</th>\n",
       "      <th>PCIP49</th>\n",
       "      <th>PCIP50</th>\n",
       "      <th>PCIP51</th>\n",
       "      <th>PCIP52</th>\n",
       "      <th>PCIP54</th>\n",
       "      <th>DISTANCEONLY</th>\n",
       "      <th>UGDS</th>\n",
       "      <th>UGDS_WHITE</th>\n",
       "      <th>UGDS_BLACK</th>\n",
       "      <th>UGDS_HISP</th>\n",
       "      <th>UGDS_ASIAN</th>\n",
       "      <th>CURROPER</th>\n",
       "      <th>NPT4_PUB</th>\n",
       "      <th>NPT4_PRIV</th>\n",
       "      <th>NPT41_PUB</th>\n",
       "      <th>NPT42_PUB</th>\n",
       "      <th>NPT43_PUB</th>\n",
       "      <th>NPT41_PRIV</th>\n",
       "      <th>NPT42_PRIV</th>\n",
       "      <th>NPT43_PRIV</th>\n",
       "      <th>TUITFTE</th>\n",
       "      <th>PCTFLOAN</th>\n",
       "      <th>CDR2</th>\n",
       "      <th>CDR3</th>\n",
       "      <th>DEBT_MDN</th>\n",
       "      <th>GRAD_DEBT_MDN</th>\n",
       "      <th>PELL_DEBT_MDN</th>\n",
       "      <th>NOPELL_DEBT_MDN</th>\n",
       "      <th>MD_FAMINC</th>\n",
       "      <th>MD_EARN_WNE_P6</th>\n",
       "      <th>MD_EARN_WNE_P8</th>\n",
       "      <th>C100_4</th>\n",
       "      <th>ICLEVEL</th>\n",
       "      <th>C100_4_POOLED_SUPP</th>\n",
       "      <th>OPEFLAG</th>\n",
       "      <th>CIPCODE1</th>\n",
       "      <th>CIPCODE2</th>\n",
       "      <th>CIPCODE3</th>\n",
       "      <th>FTFTPCTPELL</th>\n",
       "      <th>FTFTPCTFLOAN</th>\n",
       "      <th>BBRR1_FED_UG_MAKEPROG</th>\n",
       "      <th>BBRR1_FED_UG_PAIDINFULL</th>\n",
       "      <th>MD_EARN_WNE_INC1_P6</th>\n",
       "      <th>MD_EARN_WNE_INC2_P6</th>\n",
       "      <th>MD_EARN_WNE_INC3_P6</th>\n",
       "      <th>MD_EARN_WNE_1YR</th>\n",
       "      <th>MD_EARN_WNE_4YR</th>\n",
       "    </tr>\n",
       "    <tr>\n",
       "      <th>year</th>\n",
       "      <th>rowNum</th>\n",
       "      <th></th>\n",
       "      <th></th>\n",
       "      <th></th>\n",
       "      <th></th>\n",
       "      <th></th>\n",
       "      <th></th>\n",
       "      <th></th>\n",
       "      <th></th>\n",
       "      <th></th>\n",
       "      <th></th>\n",
       "      <th></th>\n",
       "      <th></th>\n",
       "      <th></th>\n",
       "      <th></th>\n",
       "      <th></th>\n",
       "      <th></th>\n",
       "      <th></th>\n",
       "      <th></th>\n",
       "      <th></th>\n",
       "      <th></th>\n",
       "      <th></th>\n",
       "      <th></th>\n",
       "      <th></th>\n",
       "      <th></th>\n",
       "      <th></th>\n",
       "      <th></th>\n",
       "      <th></th>\n",
       "      <th></th>\n",
       "      <th></th>\n",
       "      <th></th>\n",
       "      <th></th>\n",
       "      <th></th>\n",
       "      <th></th>\n",
       "      <th></th>\n",
       "      <th></th>\n",
       "      <th></th>\n",
       "      <th></th>\n",
       "      <th></th>\n",
       "      <th></th>\n",
       "      <th></th>\n",
       "      <th></th>\n",
       "      <th></th>\n",
       "      <th></th>\n",
       "      <th></th>\n",
       "      <th></th>\n",
       "      <th></th>\n",
       "      <th></th>\n",
       "      <th></th>\n",
       "      <th></th>\n",
       "      <th></th>\n",
       "      <th></th>\n",
       "      <th></th>\n",
       "      <th></th>\n",
       "      <th></th>\n",
       "      <th></th>\n",
       "      <th></th>\n",
       "      <th></th>\n",
       "      <th></th>\n",
       "      <th></th>\n",
       "      <th></th>\n",
       "      <th></th>\n",
       "      <th></th>\n",
       "      <th></th>\n",
       "      <th></th>\n",
       "      <th></th>\n",
       "      <th></th>\n",
       "      <th></th>\n",
       "      <th></th>\n",
       "      <th></th>\n",
       "      <th></th>\n",
       "      <th></th>\n",
       "      <th></th>\n",
       "      <th></th>\n",
       "      <th></th>\n",
       "      <th></th>\n",
       "      <th></th>\n",
       "      <th></th>\n",
       "      <th></th>\n",
       "      <th></th>\n",
       "      <th></th>\n",
       "      <th></th>\n",
       "      <th></th>\n",
       "      <th></th>\n",
       "      <th></th>\n",
       "      <th></th>\n",
       "      <th></th>\n",
       "      <th></th>\n",
       "      <th></th>\n",
       "      <th></th>\n",
       "      <th></th>\n",
       "      <th></th>\n",
       "      <th></th>\n",
       "      <th></th>\n",
       "      <th></th>\n",
       "      <th></th>\n",
       "      <th></th>\n",
       "    </tr>\n",
       "  </thead>\n",
       "  <tbody>\n",
       "    <tr>\n",
       "      <th rowspan=\"5\" valign=\"top\">2000</th>\n",
       "      <th>0</th>\n",
       "      <td>100636</td>\n",
       "      <td>01230800</td>\n",
       "      <td>12308.0</td>\n",
       "      <td>Community College of the Air Force</td>\n",
       "      <td>Montgomery</td>\n",
       "      <td>AL</td>\n",
       "      <td>36114-3011</td>\n",
       "      <td>NaN</td>\n",
       "      <td>NaN</td>\n",
       "      <td>1</td>\n",
       "      <td>1</td>\n",
       "      <td>2</td>\n",
       "      <td>2</td>\n",
       "      <td>1.0</td>\n",
       "      <td>NaN</td>\n",
       "      <td>NaN</td>\n",
       "      <td>NaN</td>\n",
       "      <td>0.0000</td>\n",
       "      <td>0.0000</td>\n",
       "      <td>0.0000</td>\n",
       "      <td>0.0024</td>\n",
       "      <td>0.0420</td>\n",
       "      <td>0.0115</td>\n",
       "      <td>0.0</td>\n",
       "      <td>0.0888</td>\n",
       "      <td>0.0000</td>\n",
       "      <td>0.1370</td>\n",
       "      <td>0.0000</td>\n",
       "      <td>0.0020</td>\n",
       "      <td>0.0065</td>\n",
       "      <td>0.0000</td>\n",
       "      <td>0.0</td>\n",
       "      <td>0.0</td>\n",
       "      <td>0.0000</td>\n",
       "      <td>0.0000</td>\n",
       "      <td>0.0583</td>\n",
       "      <td>0.0000</td>\n",
       "      <td>0.0077</td>\n",
       "      <td>0.0000</td>\n",
       "      <td>0.0</td>\n",
       "      <td>0.0084</td>\n",
       "      <td>0.0019</td>\n",
       "      <td>0.0000</td>\n",
       "      <td>0.0746</td>\n",
       "      <td>0.0032</td>\n",
       "      <td>0.0000</td>\n",
       "      <td>0.0</td>\n",
       "      <td>0.1973</td>\n",
       "      <td>0.0</td>\n",
       "      <td>0.0517</td>\n",
       "      <td>0.0064</td>\n",
       "      <td>0.0777</td>\n",
       "      <td>0.2225</td>\n",
       "      <td>0.0003</td>\n",
       "      <td>NaN</td>\n",
       "      <td>NaN</td>\n",
       "      <td>NaN</td>\n",
       "      <td>NaN</td>\n",
       "      <td>NaN</td>\n",
       "      <td>NaN</td>\n",
       "      <td>NaN</td>\n",
       "      <td>NaN</td>\n",
       "      <td>NaN</td>\n",
       "      <td>NaN</td>\n",
       "      <td>NaN</td>\n",
       "      <td>NaN</td>\n",
       "      <td>NaN</td>\n",
       "      <td>NaN</td>\n",
       "      <td>NaN</td>\n",
       "      <td>0.0</td>\n",
       "      <td>NaN</td>\n",
       "      <td>NaN</td>\n",
       "      <td>NaN</td>\n",
       "      <td>NaN</td>\n",
       "      <td>NaN</td>\n",
       "      <td>NaN</td>\n",
       "      <td>NaN</td>\n",
       "      <td>NaN</td>\n",
       "      <td>NaN</td>\n",
       "      <td>NaN</td>\n",
       "      <td>NaN</td>\n",
       "      <td>2.0</td>\n",
       "      <td>NaN</td>\n",
       "      <td>3</td>\n",
       "      <td>NaN</td>\n",
       "      <td>NaN</td>\n",
       "      <td>NaN</td>\n",
       "      <td>NaN</td>\n",
       "      <td>NaN</td>\n",
       "      <td>NaN</td>\n",
       "      <td>NaN</td>\n",
       "      <td>NaN</td>\n",
       "      <td>NaN</td>\n",
       "      <td>NaN</td>\n",
       "      <td>NaN</td>\n",
       "      <td>NaN</td>\n",
       "    </tr>\n",
       "    <tr>\n",
       "      <th>1</th>\n",
       "      <td>100654</td>\n",
       "      <td>00100200</td>\n",
       "      <td>1002.0</td>\n",
       "      <td>Alabama A &amp; M University</td>\n",
       "      <td>Normal</td>\n",
       "      <td>AL</td>\n",
       "      <td>35762</td>\n",
       "      <td>NaN</td>\n",
       "      <td>NaN</td>\n",
       "      <td>1</td>\n",
       "      <td>1</td>\n",
       "      <td>3</td>\n",
       "      <td>4</td>\n",
       "      <td>1.0</td>\n",
       "      <td>NaN</td>\n",
       "      <td>NaN</td>\n",
       "      <td>NaN</td>\n",
       "      <td>0.0624</td>\n",
       "      <td>0.0183</td>\n",
       "      <td>0.0000</td>\n",
       "      <td>0.0000</td>\n",
       "      <td>0.0239</td>\n",
       "      <td>0.0349</td>\n",
       "      <td>0.0</td>\n",
       "      <td>0.2569</td>\n",
       "      <td>0.0183</td>\n",
       "      <td>0.1083</td>\n",
       "      <td>0.0000</td>\n",
       "      <td>0.0294</td>\n",
       "      <td>0.0000</td>\n",
       "      <td>0.0092</td>\n",
       "      <td>0.0</td>\n",
       "      <td>0.0</td>\n",
       "      <td>0.0661</td>\n",
       "      <td>0.0202</td>\n",
       "      <td>0.0000</td>\n",
       "      <td>0.0000</td>\n",
       "      <td>0.0000</td>\n",
       "      <td>0.0000</td>\n",
       "      <td>0.0</td>\n",
       "      <td>0.0183</td>\n",
       "      <td>0.0000</td>\n",
       "      <td>0.0514</td>\n",
       "      <td>0.0000</td>\n",
       "      <td>0.0440</td>\n",
       "      <td>0.0422</td>\n",
       "      <td>0.0</td>\n",
       "      <td>0.0000</td>\n",
       "      <td>0.0</td>\n",
       "      <td>0.0000</td>\n",
       "      <td>0.0037</td>\n",
       "      <td>0.0000</td>\n",
       "      <td>0.1798</td>\n",
       "      <td>0.0018</td>\n",
       "      <td>NaN</td>\n",
       "      <td>NaN</td>\n",
       "      <td>NaN</td>\n",
       "      <td>NaN</td>\n",
       "      <td>NaN</td>\n",
       "      <td>NaN</td>\n",
       "      <td>NaN</td>\n",
       "      <td>NaN</td>\n",
       "      <td>NaN</td>\n",
       "      <td>NaN</td>\n",
       "      <td>NaN</td>\n",
       "      <td>NaN</td>\n",
       "      <td>NaN</td>\n",
       "      <td>NaN</td>\n",
       "      <td>NaN</td>\n",
       "      <td>3486.0</td>\n",
       "      <td>NaN</td>\n",
       "      <td>0.119</td>\n",
       "      <td>NaN</td>\n",
       "      <td>4625</td>\n",
       "      <td>15374</td>\n",
       "      <td>4617.5</td>\n",
       "      <td>4625.5</td>\n",
       "      <td>18979</td>\n",
       "      <td>NaN</td>\n",
       "      <td>NaN</td>\n",
       "      <td>NaN</td>\n",
       "      <td>1.0</td>\n",
       "      <td>NaN</td>\n",
       "      <td>1</td>\n",
       "      <td>NaN</td>\n",
       "      <td>NaN</td>\n",
       "      <td>NaN</td>\n",
       "      <td>NaN</td>\n",
       "      <td>NaN</td>\n",
       "      <td>NaN</td>\n",
       "      <td>NaN</td>\n",
       "      <td>NaN</td>\n",
       "      <td>NaN</td>\n",
       "      <td>NaN</td>\n",
       "      <td>NaN</td>\n",
       "      <td>NaN</td>\n",
       "    </tr>\n",
       "    <tr>\n",
       "      <th>2</th>\n",
       "      <td>100663</td>\n",
       "      <td>00105200</td>\n",
       "      <td>1052.0</td>\n",
       "      <td>University of Alabama at Birmingham</td>\n",
       "      <td>Birmingham</td>\n",
       "      <td>AL</td>\n",
       "      <td>35294-0110</td>\n",
       "      <td>NaN</td>\n",
       "      <td>NaN</td>\n",
       "      <td>1</td>\n",
       "      <td>1</td>\n",
       "      <td>3</td>\n",
       "      <td>4</td>\n",
       "      <td>1.0</td>\n",
       "      <td>NaN</td>\n",
       "      <td>NaN</td>\n",
       "      <td>NaN</td>\n",
       "      <td>0.0000</td>\n",
       "      <td>0.0000</td>\n",
       "      <td>0.0000</td>\n",
       "      <td>0.0352</td>\n",
       "      <td>0.0000</td>\n",
       "      <td>0.0224</td>\n",
       "      <td>0.0</td>\n",
       "      <td>0.1223</td>\n",
       "      <td>0.0525</td>\n",
       "      <td>0.0000</td>\n",
       "      <td>0.0051</td>\n",
       "      <td>0.0000</td>\n",
       "      <td>0.0000</td>\n",
       "      <td>0.0166</td>\n",
       "      <td>0.0</td>\n",
       "      <td>0.0</td>\n",
       "      <td>0.0743</td>\n",
       "      <td>0.0038</td>\n",
       "      <td>0.0000</td>\n",
       "      <td>0.0019</td>\n",
       "      <td>0.0000</td>\n",
       "      <td>0.0083</td>\n",
       "      <td>0.0</td>\n",
       "      <td>0.0134</td>\n",
       "      <td>0.0000</td>\n",
       "      <td>0.0794</td>\n",
       "      <td>0.0467</td>\n",
       "      <td>0.0173</td>\n",
       "      <td>0.0551</td>\n",
       "      <td>0.0</td>\n",
       "      <td>0.0000</td>\n",
       "      <td>0.0</td>\n",
       "      <td>0.0000</td>\n",
       "      <td>0.0262</td>\n",
       "      <td>0.1895</td>\n",
       "      <td>0.1914</td>\n",
       "      <td>0.0384</td>\n",
       "      <td>NaN</td>\n",
       "      <td>NaN</td>\n",
       "      <td>NaN</td>\n",
       "      <td>NaN</td>\n",
       "      <td>NaN</td>\n",
       "      <td>NaN</td>\n",
       "      <td>NaN</td>\n",
       "      <td>NaN</td>\n",
       "      <td>NaN</td>\n",
       "      <td>NaN</td>\n",
       "      <td>NaN</td>\n",
       "      <td>NaN</td>\n",
       "      <td>NaN</td>\n",
       "      <td>NaN</td>\n",
       "      <td>NaN</td>\n",
       "      <td>6348.0</td>\n",
       "      <td>NaN</td>\n",
       "      <td>0.054</td>\n",
       "      <td>NaN</td>\n",
       "      <td>5000</td>\n",
       "      <td>4125</td>\n",
       "      <td>4766.5</td>\n",
       "      <td>5250</td>\n",
       "      <td>22336</td>\n",
       "      <td>NaN</td>\n",
       "      <td>NaN</td>\n",
       "      <td>NaN</td>\n",
       "      <td>1.0</td>\n",
       "      <td>NaN</td>\n",
       "      <td>1</td>\n",
       "      <td>NaN</td>\n",
       "      <td>NaN</td>\n",
       "      <td>NaN</td>\n",
       "      <td>NaN</td>\n",
       "      <td>NaN</td>\n",
       "      <td>NaN</td>\n",
       "      <td>NaN</td>\n",
       "      <td>NaN</td>\n",
       "      <td>NaN</td>\n",
       "      <td>NaN</td>\n",
       "      <td>NaN</td>\n",
       "      <td>NaN</td>\n",
       "    </tr>\n",
       "    <tr>\n",
       "      <th>3</th>\n",
       "      <td>100690</td>\n",
       "      <td>02503400</td>\n",
       "      <td>25034.0</td>\n",
       "      <td>Amridge University</td>\n",
       "      <td>Montgomery</td>\n",
       "      <td>AL</td>\n",
       "      <td>36117-3553</td>\n",
       "      <td>NaN</td>\n",
       "      <td>NaN</td>\n",
       "      <td>1</td>\n",
       "      <td>1</td>\n",
       "      <td>3</td>\n",
       "      <td>4</td>\n",
       "      <td>2.0</td>\n",
       "      <td>NaN</td>\n",
       "      <td>NaN</td>\n",
       "      <td>NaN</td>\n",
       "      <td>0.0000</td>\n",
       "      <td>0.0000</td>\n",
       "      <td>0.0000</td>\n",
       "      <td>0.0000</td>\n",
       "      <td>0.0000</td>\n",
       "      <td>0.0000</td>\n",
       "      <td>0.0</td>\n",
       "      <td>0.0000</td>\n",
       "      <td>0.0000</td>\n",
       "      <td>0.0000</td>\n",
       "      <td>0.0000</td>\n",
       "      <td>0.0000</td>\n",
       "      <td>0.0000</td>\n",
       "      <td>0.0000</td>\n",
       "      <td>0.0</td>\n",
       "      <td>0.0</td>\n",
       "      <td>0.0000</td>\n",
       "      <td>0.0000</td>\n",
       "      <td>0.0000</td>\n",
       "      <td>0.0000</td>\n",
       "      <td>0.0000</td>\n",
       "      <td>0.0000</td>\n",
       "      <td>1.0</td>\n",
       "      <td>0.0000</td>\n",
       "      <td>0.0000</td>\n",
       "      <td>0.0000</td>\n",
       "      <td>0.0000</td>\n",
       "      <td>0.0000</td>\n",
       "      <td>0.0000</td>\n",
       "      <td>0.0</td>\n",
       "      <td>0.0000</td>\n",
       "      <td>0.0</td>\n",
       "      <td>0.0000</td>\n",
       "      <td>0.0000</td>\n",
       "      <td>0.0000</td>\n",
       "      <td>0.0000</td>\n",
       "      <td>0.0000</td>\n",
       "      <td>NaN</td>\n",
       "      <td>NaN</td>\n",
       "      <td>NaN</td>\n",
       "      <td>NaN</td>\n",
       "      <td>NaN</td>\n",
       "      <td>NaN</td>\n",
       "      <td>NaN</td>\n",
       "      <td>NaN</td>\n",
       "      <td>NaN</td>\n",
       "      <td>NaN</td>\n",
       "      <td>NaN</td>\n",
       "      <td>NaN</td>\n",
       "      <td>NaN</td>\n",
       "      <td>NaN</td>\n",
       "      <td>NaN</td>\n",
       "      <td>5397.0</td>\n",
       "      <td>NaN</td>\n",
       "      <td>0.016</td>\n",
       "      <td>NaN</td>\n",
       "      <td>5655.5</td>\n",
       "      <td>9900</td>\n",
       "      <td>5500</td>\n",
       "      <td>8087</td>\n",
       "      <td>24892</td>\n",
       "      <td>NaN</td>\n",
       "      <td>NaN</td>\n",
       "      <td>NaN</td>\n",
       "      <td>1.0</td>\n",
       "      <td>NaN</td>\n",
       "      <td>1</td>\n",
       "      <td>NaN</td>\n",
       "      <td>NaN</td>\n",
       "      <td>NaN</td>\n",
       "      <td>NaN</td>\n",
       "      <td>NaN</td>\n",
       "      <td>NaN</td>\n",
       "      <td>NaN</td>\n",
       "      <td>NaN</td>\n",
       "      <td>NaN</td>\n",
       "      <td>NaN</td>\n",
       "      <td>NaN</td>\n",
       "      <td>NaN</td>\n",
       "    </tr>\n",
       "    <tr>\n",
       "      <th>4</th>\n",
       "      <td>100706</td>\n",
       "      <td>00105500</td>\n",
       "      <td>1055.0</td>\n",
       "      <td>University of Alabama in Huntsville</td>\n",
       "      <td>Huntsville</td>\n",
       "      <td>AL</td>\n",
       "      <td>35899</td>\n",
       "      <td>NaN</td>\n",
       "      <td>NaN</td>\n",
       "      <td>1</td>\n",
       "      <td>1</td>\n",
       "      <td>3</td>\n",
       "      <td>4</td>\n",
       "      <td>1.0</td>\n",
       "      <td>NaN</td>\n",
       "      <td>NaN</td>\n",
       "      <td>NaN</td>\n",
       "      <td>0.0000</td>\n",
       "      <td>0.0000</td>\n",
       "      <td>0.0015</td>\n",
       "      <td>0.0000</td>\n",
       "      <td>0.0000</td>\n",
       "      <td>0.0550</td>\n",
       "      <td>0.0</td>\n",
       "      <td>0.0267</td>\n",
       "      <td>0.2719</td>\n",
       "      <td>0.0000</td>\n",
       "      <td>0.0208</td>\n",
       "      <td>0.0000</td>\n",
       "      <td>0.0000</td>\n",
       "      <td>0.0416</td>\n",
       "      <td>0.0</td>\n",
       "      <td>0.0</td>\n",
       "      <td>0.0475</td>\n",
       "      <td>0.0134</td>\n",
       "      <td>0.0000</td>\n",
       "      <td>0.0000</td>\n",
       "      <td>0.0000</td>\n",
       "      <td>0.0045</td>\n",
       "      <td>0.0</td>\n",
       "      <td>0.0208</td>\n",
       "      <td>0.0000</td>\n",
       "      <td>0.0208</td>\n",
       "      <td>0.0000</td>\n",
       "      <td>0.0000</td>\n",
       "      <td>0.0238</td>\n",
       "      <td>0.0</td>\n",
       "      <td>0.0000</td>\n",
       "      <td>0.0</td>\n",
       "      <td>0.0000</td>\n",
       "      <td>0.0223</td>\n",
       "      <td>0.1694</td>\n",
       "      <td>0.2392</td>\n",
       "      <td>0.0208</td>\n",
       "      <td>NaN</td>\n",
       "      <td>NaN</td>\n",
       "      <td>NaN</td>\n",
       "      <td>NaN</td>\n",
       "      <td>NaN</td>\n",
       "      <td>NaN</td>\n",
       "      <td>NaN</td>\n",
       "      <td>NaN</td>\n",
       "      <td>NaN</td>\n",
       "      <td>NaN</td>\n",
       "      <td>NaN</td>\n",
       "      <td>NaN</td>\n",
       "      <td>NaN</td>\n",
       "      <td>NaN</td>\n",
       "      <td>NaN</td>\n",
       "      <td>4200.0</td>\n",
       "      <td>NaN</td>\n",
       "      <td>0.048</td>\n",
       "      <td>NaN</td>\n",
       "      <td>5500</td>\n",
       "      <td>12001.5</td>\n",
       "      <td>5500</td>\n",
       "      <td>5250</td>\n",
       "      <td>27289.5</td>\n",
       "      <td>NaN</td>\n",
       "      <td>NaN</td>\n",
       "      <td>NaN</td>\n",
       "      <td>1.0</td>\n",
       "      <td>NaN</td>\n",
       "      <td>1</td>\n",
       "      <td>NaN</td>\n",
       "      <td>NaN</td>\n",
       "      <td>NaN</td>\n",
       "      <td>NaN</td>\n",
       "      <td>NaN</td>\n",
       "      <td>NaN</td>\n",
       "      <td>NaN</td>\n",
       "      <td>NaN</td>\n",
       "      <td>NaN</td>\n",
       "      <td>NaN</td>\n",
       "      <td>NaN</td>\n",
       "      <td>NaN</td>\n",
       "    </tr>\n",
       "  </tbody>\n",
       "</table>\n",
       "</div>"
      ],
      "text/plain": [
       "             UNITID     OPEID   OPEID6                               INSTNM  \\\n",
       "year rowNum                                                                   \n",
       "2000 0       100636  01230800  12308.0   Community College of the Air Force   \n",
       "     1       100654  00100200   1002.0             Alabama A & M University   \n",
       "     2       100663  00105200   1052.0  University of Alabama at Birmingham   \n",
       "     3       100690  02503400  25034.0                   Amridge University   \n",
       "     4       100706  00105500   1055.0  University of Alabama in Huntsville   \n",
       "\n",
       "                   CITY STABBR         ZIP  ACCREDAGENCY  HCM2  MAIN  \\\n",
       "year rowNum                                                            \n",
       "2000 0       Montgomery     AL  36114-3011           NaN   NaN     1   \n",
       "     1           Normal     AL       35762           NaN   NaN     1   \n",
       "     2       Birmingham     AL  35294-0110           NaN   NaN     1   \n",
       "     3       Montgomery     AL  36117-3553           NaN   NaN     1   \n",
       "     4       Huntsville     AL       35899           NaN   NaN     1   \n",
       "\n",
       "             NUMBRANCH  PREDDEG  HIGHDEG  CONTROL  ADM_RATE  ADM_RATE_ALL  \\\n",
       "year rowNum                                                                 \n",
       "2000 0               1        2        2      1.0       NaN           NaN   \n",
       "     1               1        3        4      1.0       NaN           NaN   \n",
       "     2               1        3        4      1.0       NaN           NaN   \n",
       "     3               1        3        4      2.0       NaN           NaN   \n",
       "     4               1        3        4      1.0       NaN           NaN   \n",
       "\n",
       "             SAT_AVG_ALL  PCIP01  PCIP03  PCIP05  PCIP09  PCIP10  PCIP11  \\\n",
       "year rowNum                                                                \n",
       "2000 0               NaN  0.0000  0.0000  0.0000  0.0024  0.0420  0.0115   \n",
       "     1               NaN  0.0624  0.0183  0.0000  0.0000  0.0239  0.0349   \n",
       "     2               NaN  0.0000  0.0000  0.0000  0.0352  0.0000  0.0224   \n",
       "     3               NaN  0.0000  0.0000  0.0000  0.0000  0.0000  0.0000   \n",
       "     4               NaN  0.0000  0.0000  0.0015  0.0000  0.0000  0.0550   \n",
       "\n",
       "             PCIP12  PCIP13  PCIP14  PCIP15  PCIP16  PCIP19  PCIP22  PCIP23  \\\n",
       "year rowNum                                                                   \n",
       "2000 0          0.0  0.0888  0.0000  0.1370  0.0000  0.0020  0.0065  0.0000   \n",
       "     1          0.0  0.2569  0.0183  0.1083  0.0000  0.0294  0.0000  0.0092   \n",
       "     2          0.0  0.1223  0.0525  0.0000  0.0051  0.0000  0.0000  0.0166   \n",
       "     3          0.0  0.0000  0.0000  0.0000  0.0000  0.0000  0.0000  0.0000   \n",
       "     4          0.0  0.0267  0.2719  0.0000  0.0208  0.0000  0.0000  0.0416   \n",
       "\n",
       "             PCIP24  PCIP25  PCIP26  PCIP27  PCIP29  PCIP30  PCIP31  PCIP38  \\\n",
       "year rowNum                                                                   \n",
       "2000 0          0.0     0.0  0.0000  0.0000  0.0583  0.0000  0.0077  0.0000   \n",
       "     1          0.0     0.0  0.0661  0.0202  0.0000  0.0000  0.0000  0.0000   \n",
       "     2          0.0     0.0  0.0743  0.0038  0.0000  0.0019  0.0000  0.0083   \n",
       "     3          0.0     0.0  0.0000  0.0000  0.0000  0.0000  0.0000  0.0000   \n",
       "     4          0.0     0.0  0.0475  0.0134  0.0000  0.0000  0.0000  0.0045   \n",
       "\n",
       "             PCIP39  PCIP40  PCIP41  PCIP42  PCIP43  PCIP44  PCIP45  PCIP46  \\\n",
       "year rowNum                                                                   \n",
       "2000 0          0.0  0.0084  0.0019  0.0000  0.0746  0.0032  0.0000     0.0   \n",
       "     1          0.0  0.0183  0.0000  0.0514  0.0000  0.0440  0.0422     0.0   \n",
       "     2          0.0  0.0134  0.0000  0.0794  0.0467  0.0173  0.0551     0.0   \n",
       "     3          1.0  0.0000  0.0000  0.0000  0.0000  0.0000  0.0000     0.0   \n",
       "     4          0.0  0.0208  0.0000  0.0208  0.0000  0.0000  0.0238     0.0   \n",
       "\n",
       "             PCIP47  PCIP48  PCIP49  PCIP50  PCIP51  PCIP52  PCIP54  \\\n",
       "year rowNum                                                           \n",
       "2000 0       0.1973     0.0  0.0517  0.0064  0.0777  0.2225  0.0003   \n",
       "     1       0.0000     0.0  0.0000  0.0037  0.0000  0.1798  0.0018   \n",
       "     2       0.0000     0.0  0.0000  0.0262  0.1895  0.1914  0.0384   \n",
       "     3       0.0000     0.0  0.0000  0.0000  0.0000  0.0000  0.0000   \n",
       "     4       0.0000     0.0  0.0000  0.0223  0.1694  0.2392  0.0208   \n",
       "\n",
       "             DISTANCEONLY  UGDS  UGDS_WHITE  UGDS_BLACK  UGDS_HISP  \\\n",
       "year rowNum                                                          \n",
       "2000 0                NaN   NaN         NaN         NaN        NaN   \n",
       "     1                NaN   NaN         NaN         NaN        NaN   \n",
       "     2                NaN   NaN         NaN         NaN        NaN   \n",
       "     3                NaN   NaN         NaN         NaN        NaN   \n",
       "     4                NaN   NaN         NaN         NaN        NaN   \n",
       "\n",
       "             UGDS_ASIAN  CURROPER  NPT4_PUB  NPT4_PRIV  NPT41_PUB  NPT42_PUB  \\\n",
       "year rowNum                                                                    \n",
       "2000 0              NaN       NaN       NaN        NaN        NaN        NaN   \n",
       "     1              NaN       NaN       NaN        NaN        NaN        NaN   \n",
       "     2              NaN       NaN       NaN        NaN        NaN        NaN   \n",
       "     3              NaN       NaN       NaN        NaN        NaN        NaN   \n",
       "     4              NaN       NaN       NaN        NaN        NaN        NaN   \n",
       "\n",
       "             NPT43_PUB  NPT41_PRIV  NPT42_PRIV  NPT43_PRIV  TUITFTE  PCTFLOAN  \\\n",
       "year rowNum                                                                     \n",
       "2000 0             NaN         NaN         NaN         NaN      0.0       NaN   \n",
       "     1             NaN         NaN         NaN         NaN   3486.0       NaN   \n",
       "     2             NaN         NaN         NaN         NaN   6348.0       NaN   \n",
       "     3             NaN         NaN         NaN         NaN   5397.0       NaN   \n",
       "     4             NaN         NaN         NaN         NaN   4200.0       NaN   \n",
       "\n",
       "              CDR2  CDR3 DEBT_MDN GRAD_DEBT_MDN PELL_DEBT_MDN NOPELL_DEBT_MDN  \\\n",
       "year rowNum                                                                     \n",
       "2000 0         NaN   NaN      NaN           NaN           NaN             NaN   \n",
       "     1       0.119   NaN     4625         15374        4617.5          4625.5   \n",
       "     2       0.054   NaN     5000          4125        4766.5            5250   \n",
       "     3       0.016   NaN   5655.5          9900          5500            8087   \n",
       "     4       0.048   NaN     5500       12001.5          5500            5250   \n",
       "\n",
       "            MD_FAMINC MD_EARN_WNE_P6 MD_EARN_WNE_P8  C100_4  ICLEVEL  \\\n",
       "year rowNum                                                            \n",
       "2000 0            NaN            NaN            NaN     NaN      2.0   \n",
       "     1          18979            NaN            NaN     NaN      1.0   \n",
       "     2          22336            NaN            NaN     NaN      1.0   \n",
       "     3          24892            NaN            NaN     NaN      1.0   \n",
       "     4        27289.5            NaN            NaN     NaN      1.0   \n",
       "\n",
       "             C100_4_POOLED_SUPP  OPEFLAG  CIPCODE1  CIPCODE2  CIPCODE3  \\\n",
       "year rowNum                                                              \n",
       "2000 0                      NaN        3       NaN       NaN       NaN   \n",
       "     1                      NaN        1       NaN       NaN       NaN   \n",
       "     2                      NaN        1       NaN       NaN       NaN   \n",
       "     3                      NaN        1       NaN       NaN       NaN   \n",
       "     4                      NaN        1       NaN       NaN       NaN   \n",
       "\n",
       "             FTFTPCTPELL  FTFTPCTFLOAN BBRR1_FED_UG_MAKEPROG  \\\n",
       "year rowNum                                                    \n",
       "2000 0               NaN           NaN                   NaN   \n",
       "     1               NaN           NaN                   NaN   \n",
       "     2               NaN           NaN                   NaN   \n",
       "     3               NaN           NaN                   NaN   \n",
       "     4               NaN           NaN                   NaN   \n",
       "\n",
       "            BBRR1_FED_UG_PAIDINFULL  MD_EARN_WNE_INC1_P6  MD_EARN_WNE_INC2_P6  \\\n",
       "year rowNum                                                                     \n",
       "2000 0                          NaN                  NaN                  NaN   \n",
       "     1                          NaN                  NaN                  NaN   \n",
       "     2                          NaN                  NaN                  NaN   \n",
       "     3                          NaN                  NaN                  NaN   \n",
       "     4                          NaN                  NaN                  NaN   \n",
       "\n",
       "             MD_EARN_WNE_INC3_P6  MD_EARN_WNE_1YR  MD_EARN_WNE_4YR  \n",
       "year rowNum                                                         \n",
       "2000 0                       NaN              NaN              NaN  \n",
       "     1                       NaN              NaN              NaN  \n",
       "     2                       NaN              NaN              NaN  \n",
       "     3                       NaN              NaN              NaN  \n",
       "     4                       NaN              NaN              NaN  "
      ]
     },
     "execution_count": 4,
     "metadata": {},
     "output_type": "execute_result"
    }
   ],
   "source": [
    "main = df[df['MAIN'] == 1]\n",
    "shape = main.shape\n",
    "nullPercent = main['OPEFLAG'].isna().mean() * 100\n",
    "\n",
    "print(\"[+] mainShape: \", shape, \" titleIVNull: \", nullPercent)\n",
    "main.head()"
   ]
  },
  {
   "cell_type": "code",
   "execution_count": 5,
   "metadata": {},
   "outputs": [
    {
     "name": "stdout",
     "output_type": "stream",
     "text": [
      "[+] titleIVShape:  (121696, 96)  IclevelNull:  0.0\n"
     ]
    },
    {
     "data": {
      "text/html": [
       "<div>\n",
       "<style scoped>\n",
       "    .dataframe tbody tr th:only-of-type {\n",
       "        vertical-align: middle;\n",
       "    }\n",
       "\n",
       "    .dataframe tbody tr th {\n",
       "        vertical-align: top;\n",
       "    }\n",
       "\n",
       "    .dataframe thead th {\n",
       "        text-align: right;\n",
       "    }\n",
       "</style>\n",
       "<table border=\"1\" class=\"dataframe\">\n",
       "  <thead>\n",
       "    <tr style=\"text-align: right;\">\n",
       "      <th></th>\n",
       "      <th></th>\n",
       "      <th>UNITID</th>\n",
       "      <th>OPEID</th>\n",
       "      <th>OPEID6</th>\n",
       "      <th>INSTNM</th>\n",
       "      <th>CITY</th>\n",
       "      <th>STABBR</th>\n",
       "      <th>ZIP</th>\n",
       "      <th>ACCREDAGENCY</th>\n",
       "      <th>HCM2</th>\n",
       "      <th>MAIN</th>\n",
       "      <th>NUMBRANCH</th>\n",
       "      <th>PREDDEG</th>\n",
       "      <th>HIGHDEG</th>\n",
       "      <th>CONTROL</th>\n",
       "      <th>ADM_RATE</th>\n",
       "      <th>ADM_RATE_ALL</th>\n",
       "      <th>SAT_AVG_ALL</th>\n",
       "      <th>PCIP01</th>\n",
       "      <th>PCIP03</th>\n",
       "      <th>PCIP05</th>\n",
       "      <th>PCIP09</th>\n",
       "      <th>PCIP10</th>\n",
       "      <th>PCIP11</th>\n",
       "      <th>PCIP12</th>\n",
       "      <th>PCIP13</th>\n",
       "      <th>PCIP14</th>\n",
       "      <th>PCIP15</th>\n",
       "      <th>PCIP16</th>\n",
       "      <th>PCIP19</th>\n",
       "      <th>PCIP22</th>\n",
       "      <th>PCIP23</th>\n",
       "      <th>PCIP24</th>\n",
       "      <th>PCIP25</th>\n",
       "      <th>PCIP26</th>\n",
       "      <th>PCIP27</th>\n",
       "      <th>PCIP29</th>\n",
       "      <th>PCIP30</th>\n",
       "      <th>PCIP31</th>\n",
       "      <th>PCIP38</th>\n",
       "      <th>PCIP39</th>\n",
       "      <th>PCIP40</th>\n",
       "      <th>PCIP41</th>\n",
       "      <th>PCIP42</th>\n",
       "      <th>PCIP43</th>\n",
       "      <th>PCIP44</th>\n",
       "      <th>PCIP45</th>\n",
       "      <th>PCIP46</th>\n",
       "      <th>PCIP47</th>\n",
       "      <th>PCIP48</th>\n",
       "      <th>PCIP49</th>\n",
       "      <th>PCIP50</th>\n",
       "      <th>PCIP51</th>\n",
       "      <th>PCIP52</th>\n",
       "      <th>PCIP54</th>\n",
       "      <th>DISTANCEONLY</th>\n",
       "      <th>UGDS</th>\n",
       "      <th>UGDS_WHITE</th>\n",
       "      <th>UGDS_BLACK</th>\n",
       "      <th>UGDS_HISP</th>\n",
       "      <th>UGDS_ASIAN</th>\n",
       "      <th>CURROPER</th>\n",
       "      <th>NPT4_PUB</th>\n",
       "      <th>NPT4_PRIV</th>\n",
       "      <th>NPT41_PUB</th>\n",
       "      <th>NPT42_PUB</th>\n",
       "      <th>NPT43_PUB</th>\n",
       "      <th>NPT41_PRIV</th>\n",
       "      <th>NPT42_PRIV</th>\n",
       "      <th>NPT43_PRIV</th>\n",
       "      <th>TUITFTE</th>\n",
       "      <th>PCTFLOAN</th>\n",
       "      <th>CDR2</th>\n",
       "      <th>CDR3</th>\n",
       "      <th>DEBT_MDN</th>\n",
       "      <th>GRAD_DEBT_MDN</th>\n",
       "      <th>PELL_DEBT_MDN</th>\n",
       "      <th>NOPELL_DEBT_MDN</th>\n",
       "      <th>MD_FAMINC</th>\n",
       "      <th>MD_EARN_WNE_P6</th>\n",
       "      <th>MD_EARN_WNE_P8</th>\n",
       "      <th>C100_4</th>\n",
       "      <th>ICLEVEL</th>\n",
       "      <th>C100_4_POOLED_SUPP</th>\n",
       "      <th>OPEFLAG</th>\n",
       "      <th>CIPCODE1</th>\n",
       "      <th>CIPCODE2</th>\n",
       "      <th>CIPCODE3</th>\n",
       "      <th>FTFTPCTPELL</th>\n",
       "      <th>FTFTPCTFLOAN</th>\n",
       "      <th>BBRR1_FED_UG_MAKEPROG</th>\n",
       "      <th>BBRR1_FED_UG_PAIDINFULL</th>\n",
       "      <th>MD_EARN_WNE_INC1_P6</th>\n",
       "      <th>MD_EARN_WNE_INC2_P6</th>\n",
       "      <th>MD_EARN_WNE_INC3_P6</th>\n",
       "      <th>MD_EARN_WNE_1YR</th>\n",
       "      <th>MD_EARN_WNE_4YR</th>\n",
       "    </tr>\n",
       "    <tr>\n",
       "      <th>year</th>\n",
       "      <th>rowNum</th>\n",
       "      <th></th>\n",
       "      <th></th>\n",
       "      <th></th>\n",
       "      <th></th>\n",
       "      <th></th>\n",
       "      <th></th>\n",
       "      <th></th>\n",
       "      <th></th>\n",
       "      <th></th>\n",
       "      <th></th>\n",
       "      <th></th>\n",
       "      <th></th>\n",
       "      <th></th>\n",
       "      <th></th>\n",
       "      <th></th>\n",
       "      <th></th>\n",
       "      <th></th>\n",
       "      <th></th>\n",
       "      <th></th>\n",
       "      <th></th>\n",
       "      <th></th>\n",
       "      <th></th>\n",
       "      <th></th>\n",
       "      <th></th>\n",
       "      <th></th>\n",
       "      <th></th>\n",
       "      <th></th>\n",
       "      <th></th>\n",
       "      <th></th>\n",
       "      <th></th>\n",
       "      <th></th>\n",
       "      <th></th>\n",
       "      <th></th>\n",
       "      <th></th>\n",
       "      <th></th>\n",
       "      <th></th>\n",
       "      <th></th>\n",
       "      <th></th>\n",
       "      <th></th>\n",
       "      <th></th>\n",
       "      <th></th>\n",
       "      <th></th>\n",
       "      <th></th>\n",
       "      <th></th>\n",
       "      <th></th>\n",
       "      <th></th>\n",
       "      <th></th>\n",
       "      <th></th>\n",
       "      <th></th>\n",
       "      <th></th>\n",
       "      <th></th>\n",
       "      <th></th>\n",
       "      <th></th>\n",
       "      <th></th>\n",
       "      <th></th>\n",
       "      <th></th>\n",
       "      <th></th>\n",
       "      <th></th>\n",
       "      <th></th>\n",
       "      <th></th>\n",
       "      <th></th>\n",
       "      <th></th>\n",
       "      <th></th>\n",
       "      <th></th>\n",
       "      <th></th>\n",
       "      <th></th>\n",
       "      <th></th>\n",
       "      <th></th>\n",
       "      <th></th>\n",
       "      <th></th>\n",
       "      <th></th>\n",
       "      <th></th>\n",
       "      <th></th>\n",
       "      <th></th>\n",
       "      <th></th>\n",
       "      <th></th>\n",
       "      <th></th>\n",
       "      <th></th>\n",
       "      <th></th>\n",
       "      <th></th>\n",
       "      <th></th>\n",
       "      <th></th>\n",
       "      <th></th>\n",
       "      <th></th>\n",
       "      <th></th>\n",
       "      <th></th>\n",
       "      <th></th>\n",
       "      <th></th>\n",
       "      <th></th>\n",
       "      <th></th>\n",
       "      <th></th>\n",
       "      <th></th>\n",
       "      <th></th>\n",
       "      <th></th>\n",
       "      <th></th>\n",
       "      <th></th>\n",
       "    </tr>\n",
       "  </thead>\n",
       "  <tbody>\n",
       "    <tr>\n",
       "      <th rowspan=\"5\" valign=\"top\">2000</th>\n",
       "      <th>1</th>\n",
       "      <td>100654</td>\n",
       "      <td>00100200</td>\n",
       "      <td>1002.0</td>\n",
       "      <td>Alabama A &amp; M University</td>\n",
       "      <td>Normal</td>\n",
       "      <td>AL</td>\n",
       "      <td>35762</td>\n",
       "      <td>NaN</td>\n",
       "      <td>NaN</td>\n",
       "      <td>1</td>\n",
       "      <td>1</td>\n",
       "      <td>3</td>\n",
       "      <td>4</td>\n",
       "      <td>1.0</td>\n",
       "      <td>NaN</td>\n",
       "      <td>NaN</td>\n",
       "      <td>NaN</td>\n",
       "      <td>0.0624</td>\n",
       "      <td>0.0183</td>\n",
       "      <td>0.0000</td>\n",
       "      <td>0.0000</td>\n",
       "      <td>0.0239</td>\n",
       "      <td>0.0349</td>\n",
       "      <td>0.0</td>\n",
       "      <td>0.2569</td>\n",
       "      <td>0.0183</td>\n",
       "      <td>0.1083</td>\n",
       "      <td>0.0000</td>\n",
       "      <td>0.0294</td>\n",
       "      <td>0.0</td>\n",
       "      <td>0.0092</td>\n",
       "      <td>0.0</td>\n",
       "      <td>0.0</td>\n",
       "      <td>0.0661</td>\n",
       "      <td>0.0202</td>\n",
       "      <td>0.0</td>\n",
       "      <td>0.0000</td>\n",
       "      <td>0.0000</td>\n",
       "      <td>0.0000</td>\n",
       "      <td>0.0</td>\n",
       "      <td>0.0183</td>\n",
       "      <td>0.0</td>\n",
       "      <td>0.0514</td>\n",
       "      <td>0.0000</td>\n",
       "      <td>0.0440</td>\n",
       "      <td>0.0422</td>\n",
       "      <td>0.0</td>\n",
       "      <td>0.0</td>\n",
       "      <td>0.0</td>\n",
       "      <td>0.0</td>\n",
       "      <td>0.0037</td>\n",
       "      <td>0.0000</td>\n",
       "      <td>0.1798</td>\n",
       "      <td>0.0018</td>\n",
       "      <td>NaN</td>\n",
       "      <td>NaN</td>\n",
       "      <td>NaN</td>\n",
       "      <td>NaN</td>\n",
       "      <td>NaN</td>\n",
       "      <td>NaN</td>\n",
       "      <td>NaN</td>\n",
       "      <td>NaN</td>\n",
       "      <td>NaN</td>\n",
       "      <td>NaN</td>\n",
       "      <td>NaN</td>\n",
       "      <td>NaN</td>\n",
       "      <td>NaN</td>\n",
       "      <td>NaN</td>\n",
       "      <td>NaN</td>\n",
       "      <td>3486.0</td>\n",
       "      <td>NaN</td>\n",
       "      <td>0.119</td>\n",
       "      <td>NaN</td>\n",
       "      <td>4625</td>\n",
       "      <td>15374</td>\n",
       "      <td>4617.5</td>\n",
       "      <td>4625.5</td>\n",
       "      <td>18979</td>\n",
       "      <td>NaN</td>\n",
       "      <td>NaN</td>\n",
       "      <td>NaN</td>\n",
       "      <td>1.0</td>\n",
       "      <td>NaN</td>\n",
       "      <td>1</td>\n",
       "      <td>NaN</td>\n",
       "      <td>NaN</td>\n",
       "      <td>NaN</td>\n",
       "      <td>NaN</td>\n",
       "      <td>NaN</td>\n",
       "      <td>NaN</td>\n",
       "      <td>NaN</td>\n",
       "      <td>NaN</td>\n",
       "      <td>NaN</td>\n",
       "      <td>NaN</td>\n",
       "      <td>NaN</td>\n",
       "      <td>NaN</td>\n",
       "    </tr>\n",
       "    <tr>\n",
       "      <th>2</th>\n",
       "      <td>100663</td>\n",
       "      <td>00105200</td>\n",
       "      <td>1052.0</td>\n",
       "      <td>University of Alabama at Birmingham</td>\n",
       "      <td>Birmingham</td>\n",
       "      <td>AL</td>\n",
       "      <td>35294-0110</td>\n",
       "      <td>NaN</td>\n",
       "      <td>NaN</td>\n",
       "      <td>1</td>\n",
       "      <td>1</td>\n",
       "      <td>3</td>\n",
       "      <td>4</td>\n",
       "      <td>1.0</td>\n",
       "      <td>NaN</td>\n",
       "      <td>NaN</td>\n",
       "      <td>NaN</td>\n",
       "      <td>0.0000</td>\n",
       "      <td>0.0000</td>\n",
       "      <td>0.0000</td>\n",
       "      <td>0.0352</td>\n",
       "      <td>0.0000</td>\n",
       "      <td>0.0224</td>\n",
       "      <td>0.0</td>\n",
       "      <td>0.1223</td>\n",
       "      <td>0.0525</td>\n",
       "      <td>0.0000</td>\n",
       "      <td>0.0051</td>\n",
       "      <td>0.0000</td>\n",
       "      <td>0.0</td>\n",
       "      <td>0.0166</td>\n",
       "      <td>0.0</td>\n",
       "      <td>0.0</td>\n",
       "      <td>0.0743</td>\n",
       "      <td>0.0038</td>\n",
       "      <td>0.0</td>\n",
       "      <td>0.0019</td>\n",
       "      <td>0.0000</td>\n",
       "      <td>0.0083</td>\n",
       "      <td>0.0</td>\n",
       "      <td>0.0134</td>\n",
       "      <td>0.0</td>\n",
       "      <td>0.0794</td>\n",
       "      <td>0.0467</td>\n",
       "      <td>0.0173</td>\n",
       "      <td>0.0551</td>\n",
       "      <td>0.0</td>\n",
       "      <td>0.0</td>\n",
       "      <td>0.0</td>\n",
       "      <td>0.0</td>\n",
       "      <td>0.0262</td>\n",
       "      <td>0.1895</td>\n",
       "      <td>0.1914</td>\n",
       "      <td>0.0384</td>\n",
       "      <td>NaN</td>\n",
       "      <td>NaN</td>\n",
       "      <td>NaN</td>\n",
       "      <td>NaN</td>\n",
       "      <td>NaN</td>\n",
       "      <td>NaN</td>\n",
       "      <td>NaN</td>\n",
       "      <td>NaN</td>\n",
       "      <td>NaN</td>\n",
       "      <td>NaN</td>\n",
       "      <td>NaN</td>\n",
       "      <td>NaN</td>\n",
       "      <td>NaN</td>\n",
       "      <td>NaN</td>\n",
       "      <td>NaN</td>\n",
       "      <td>6348.0</td>\n",
       "      <td>NaN</td>\n",
       "      <td>0.054</td>\n",
       "      <td>NaN</td>\n",
       "      <td>5000</td>\n",
       "      <td>4125</td>\n",
       "      <td>4766.5</td>\n",
       "      <td>5250</td>\n",
       "      <td>22336</td>\n",
       "      <td>NaN</td>\n",
       "      <td>NaN</td>\n",
       "      <td>NaN</td>\n",
       "      <td>1.0</td>\n",
       "      <td>NaN</td>\n",
       "      <td>1</td>\n",
       "      <td>NaN</td>\n",
       "      <td>NaN</td>\n",
       "      <td>NaN</td>\n",
       "      <td>NaN</td>\n",
       "      <td>NaN</td>\n",
       "      <td>NaN</td>\n",
       "      <td>NaN</td>\n",
       "      <td>NaN</td>\n",
       "      <td>NaN</td>\n",
       "      <td>NaN</td>\n",
       "      <td>NaN</td>\n",
       "      <td>NaN</td>\n",
       "    </tr>\n",
       "    <tr>\n",
       "      <th>3</th>\n",
       "      <td>100690</td>\n",
       "      <td>02503400</td>\n",
       "      <td>25034.0</td>\n",
       "      <td>Amridge University</td>\n",
       "      <td>Montgomery</td>\n",
       "      <td>AL</td>\n",
       "      <td>36117-3553</td>\n",
       "      <td>NaN</td>\n",
       "      <td>NaN</td>\n",
       "      <td>1</td>\n",
       "      <td>1</td>\n",
       "      <td>3</td>\n",
       "      <td>4</td>\n",
       "      <td>2.0</td>\n",
       "      <td>NaN</td>\n",
       "      <td>NaN</td>\n",
       "      <td>NaN</td>\n",
       "      <td>0.0000</td>\n",
       "      <td>0.0000</td>\n",
       "      <td>0.0000</td>\n",
       "      <td>0.0000</td>\n",
       "      <td>0.0000</td>\n",
       "      <td>0.0000</td>\n",
       "      <td>0.0</td>\n",
       "      <td>0.0000</td>\n",
       "      <td>0.0000</td>\n",
       "      <td>0.0000</td>\n",
       "      <td>0.0000</td>\n",
       "      <td>0.0000</td>\n",
       "      <td>0.0</td>\n",
       "      <td>0.0000</td>\n",
       "      <td>0.0</td>\n",
       "      <td>0.0</td>\n",
       "      <td>0.0000</td>\n",
       "      <td>0.0000</td>\n",
       "      <td>0.0</td>\n",
       "      <td>0.0000</td>\n",
       "      <td>0.0000</td>\n",
       "      <td>0.0000</td>\n",
       "      <td>1.0</td>\n",
       "      <td>0.0000</td>\n",
       "      <td>0.0</td>\n",
       "      <td>0.0000</td>\n",
       "      <td>0.0000</td>\n",
       "      <td>0.0000</td>\n",
       "      <td>0.0000</td>\n",
       "      <td>0.0</td>\n",
       "      <td>0.0</td>\n",
       "      <td>0.0</td>\n",
       "      <td>0.0</td>\n",
       "      <td>0.0000</td>\n",
       "      <td>0.0000</td>\n",
       "      <td>0.0000</td>\n",
       "      <td>0.0000</td>\n",
       "      <td>NaN</td>\n",
       "      <td>NaN</td>\n",
       "      <td>NaN</td>\n",
       "      <td>NaN</td>\n",
       "      <td>NaN</td>\n",
       "      <td>NaN</td>\n",
       "      <td>NaN</td>\n",
       "      <td>NaN</td>\n",
       "      <td>NaN</td>\n",
       "      <td>NaN</td>\n",
       "      <td>NaN</td>\n",
       "      <td>NaN</td>\n",
       "      <td>NaN</td>\n",
       "      <td>NaN</td>\n",
       "      <td>NaN</td>\n",
       "      <td>5397.0</td>\n",
       "      <td>NaN</td>\n",
       "      <td>0.016</td>\n",
       "      <td>NaN</td>\n",
       "      <td>5655.5</td>\n",
       "      <td>9900</td>\n",
       "      <td>5500</td>\n",
       "      <td>8087</td>\n",
       "      <td>24892</td>\n",
       "      <td>NaN</td>\n",
       "      <td>NaN</td>\n",
       "      <td>NaN</td>\n",
       "      <td>1.0</td>\n",
       "      <td>NaN</td>\n",
       "      <td>1</td>\n",
       "      <td>NaN</td>\n",
       "      <td>NaN</td>\n",
       "      <td>NaN</td>\n",
       "      <td>NaN</td>\n",
       "      <td>NaN</td>\n",
       "      <td>NaN</td>\n",
       "      <td>NaN</td>\n",
       "      <td>NaN</td>\n",
       "      <td>NaN</td>\n",
       "      <td>NaN</td>\n",
       "      <td>NaN</td>\n",
       "      <td>NaN</td>\n",
       "    </tr>\n",
       "    <tr>\n",
       "      <th>4</th>\n",
       "      <td>100706</td>\n",
       "      <td>00105500</td>\n",
       "      <td>1055.0</td>\n",
       "      <td>University of Alabama in Huntsville</td>\n",
       "      <td>Huntsville</td>\n",
       "      <td>AL</td>\n",
       "      <td>35899</td>\n",
       "      <td>NaN</td>\n",
       "      <td>NaN</td>\n",
       "      <td>1</td>\n",
       "      <td>1</td>\n",
       "      <td>3</td>\n",
       "      <td>4</td>\n",
       "      <td>1.0</td>\n",
       "      <td>NaN</td>\n",
       "      <td>NaN</td>\n",
       "      <td>NaN</td>\n",
       "      <td>0.0000</td>\n",
       "      <td>0.0000</td>\n",
       "      <td>0.0015</td>\n",
       "      <td>0.0000</td>\n",
       "      <td>0.0000</td>\n",
       "      <td>0.0550</td>\n",
       "      <td>0.0</td>\n",
       "      <td>0.0267</td>\n",
       "      <td>0.2719</td>\n",
       "      <td>0.0000</td>\n",
       "      <td>0.0208</td>\n",
       "      <td>0.0000</td>\n",
       "      <td>0.0</td>\n",
       "      <td>0.0416</td>\n",
       "      <td>0.0</td>\n",
       "      <td>0.0</td>\n",
       "      <td>0.0475</td>\n",
       "      <td>0.0134</td>\n",
       "      <td>0.0</td>\n",
       "      <td>0.0000</td>\n",
       "      <td>0.0000</td>\n",
       "      <td>0.0045</td>\n",
       "      <td>0.0</td>\n",
       "      <td>0.0208</td>\n",
       "      <td>0.0</td>\n",
       "      <td>0.0208</td>\n",
       "      <td>0.0000</td>\n",
       "      <td>0.0000</td>\n",
       "      <td>0.0238</td>\n",
       "      <td>0.0</td>\n",
       "      <td>0.0</td>\n",
       "      <td>0.0</td>\n",
       "      <td>0.0</td>\n",
       "      <td>0.0223</td>\n",
       "      <td>0.1694</td>\n",
       "      <td>0.2392</td>\n",
       "      <td>0.0208</td>\n",
       "      <td>NaN</td>\n",
       "      <td>NaN</td>\n",
       "      <td>NaN</td>\n",
       "      <td>NaN</td>\n",
       "      <td>NaN</td>\n",
       "      <td>NaN</td>\n",
       "      <td>NaN</td>\n",
       "      <td>NaN</td>\n",
       "      <td>NaN</td>\n",
       "      <td>NaN</td>\n",
       "      <td>NaN</td>\n",
       "      <td>NaN</td>\n",
       "      <td>NaN</td>\n",
       "      <td>NaN</td>\n",
       "      <td>NaN</td>\n",
       "      <td>4200.0</td>\n",
       "      <td>NaN</td>\n",
       "      <td>0.048</td>\n",
       "      <td>NaN</td>\n",
       "      <td>5500</td>\n",
       "      <td>12001.5</td>\n",
       "      <td>5500</td>\n",
       "      <td>5250</td>\n",
       "      <td>27289.5</td>\n",
       "      <td>NaN</td>\n",
       "      <td>NaN</td>\n",
       "      <td>NaN</td>\n",
       "      <td>1.0</td>\n",
       "      <td>NaN</td>\n",
       "      <td>1</td>\n",
       "      <td>NaN</td>\n",
       "      <td>NaN</td>\n",
       "      <td>NaN</td>\n",
       "      <td>NaN</td>\n",
       "      <td>NaN</td>\n",
       "      <td>NaN</td>\n",
       "      <td>NaN</td>\n",
       "      <td>NaN</td>\n",
       "      <td>NaN</td>\n",
       "      <td>NaN</td>\n",
       "      <td>NaN</td>\n",
       "      <td>NaN</td>\n",
       "    </tr>\n",
       "    <tr>\n",
       "      <th>5</th>\n",
       "      <td>100724</td>\n",
       "      <td>00100500</td>\n",
       "      <td>1005.0</td>\n",
       "      <td>Alabama State University</td>\n",
       "      <td>Montgomery</td>\n",
       "      <td>AL</td>\n",
       "      <td>36104-0271</td>\n",
       "      <td>NaN</td>\n",
       "      <td>NaN</td>\n",
       "      <td>1</td>\n",
       "      <td>1</td>\n",
       "      <td>3</td>\n",
       "      <td>4</td>\n",
       "      <td>1.0</td>\n",
       "      <td>NaN</td>\n",
       "      <td>NaN</td>\n",
       "      <td>NaN</td>\n",
       "      <td>0.0000</td>\n",
       "      <td>0.0000</td>\n",
       "      <td>0.0000</td>\n",
       "      <td>0.0509</td>\n",
       "      <td>0.0000</td>\n",
       "      <td>0.0959</td>\n",
       "      <td>0.0</td>\n",
       "      <td>0.3738</td>\n",
       "      <td>0.0000</td>\n",
       "      <td>0.0000</td>\n",
       "      <td>0.0000</td>\n",
       "      <td>0.0000</td>\n",
       "      <td>0.0</td>\n",
       "      <td>0.0117</td>\n",
       "      <td>0.0</td>\n",
       "      <td>0.0</td>\n",
       "      <td>0.0411</td>\n",
       "      <td>0.0157</td>\n",
       "      <td>0.0</td>\n",
       "      <td>0.0000</td>\n",
       "      <td>0.0254</td>\n",
       "      <td>0.0000</td>\n",
       "      <td>0.0</td>\n",
       "      <td>0.0059</td>\n",
       "      <td>0.0</td>\n",
       "      <td>0.0411</td>\n",
       "      <td>0.0900</td>\n",
       "      <td>0.0528</td>\n",
       "      <td>0.0176</td>\n",
       "      <td>0.0</td>\n",
       "      <td>0.0</td>\n",
       "      <td>0.0</td>\n",
       "      <td>0.0</td>\n",
       "      <td>0.0196</td>\n",
       "      <td>0.0020</td>\n",
       "      <td>0.1526</td>\n",
       "      <td>0.0039</td>\n",
       "      <td>NaN</td>\n",
       "      <td>NaN</td>\n",
       "      <td>NaN</td>\n",
       "      <td>NaN</td>\n",
       "      <td>NaN</td>\n",
       "      <td>NaN</td>\n",
       "      <td>NaN</td>\n",
       "      <td>NaN</td>\n",
       "      <td>NaN</td>\n",
       "      <td>NaN</td>\n",
       "      <td>NaN</td>\n",
       "      <td>NaN</td>\n",
       "      <td>NaN</td>\n",
       "      <td>NaN</td>\n",
       "      <td>NaN</td>\n",
       "      <td>68868.0</td>\n",
       "      <td>NaN</td>\n",
       "      <td>0.188</td>\n",
       "      <td>NaN</td>\n",
       "      <td>4000</td>\n",
       "      <td>16814</td>\n",
       "      <td>3938</td>\n",
       "      <td>4768</td>\n",
       "      <td>16584.5</td>\n",
       "      <td>NaN</td>\n",
       "      <td>NaN</td>\n",
       "      <td>NaN</td>\n",
       "      <td>1.0</td>\n",
       "      <td>NaN</td>\n",
       "      <td>1</td>\n",
       "      <td>NaN</td>\n",
       "      <td>NaN</td>\n",
       "      <td>NaN</td>\n",
       "      <td>NaN</td>\n",
       "      <td>NaN</td>\n",
       "      <td>NaN</td>\n",
       "      <td>NaN</td>\n",
       "      <td>NaN</td>\n",
       "      <td>NaN</td>\n",
       "      <td>NaN</td>\n",
       "      <td>NaN</td>\n",
       "      <td>NaN</td>\n",
       "    </tr>\n",
       "  </tbody>\n",
       "</table>\n",
       "</div>"
      ],
      "text/plain": [
       "             UNITID     OPEID   OPEID6                               INSTNM  \\\n",
       "year rowNum                                                                   \n",
       "2000 1       100654  00100200   1002.0             Alabama A & M University   \n",
       "     2       100663  00105200   1052.0  University of Alabama at Birmingham   \n",
       "     3       100690  02503400  25034.0                   Amridge University   \n",
       "     4       100706  00105500   1055.0  University of Alabama in Huntsville   \n",
       "     5       100724  00100500   1005.0             Alabama State University   \n",
       "\n",
       "                   CITY STABBR         ZIP  ACCREDAGENCY  HCM2  MAIN  \\\n",
       "year rowNum                                                            \n",
       "2000 1           Normal     AL       35762           NaN   NaN     1   \n",
       "     2       Birmingham     AL  35294-0110           NaN   NaN     1   \n",
       "     3       Montgomery     AL  36117-3553           NaN   NaN     1   \n",
       "     4       Huntsville     AL       35899           NaN   NaN     1   \n",
       "     5       Montgomery     AL  36104-0271           NaN   NaN     1   \n",
       "\n",
       "             NUMBRANCH  PREDDEG  HIGHDEG  CONTROL  ADM_RATE  ADM_RATE_ALL  \\\n",
       "year rowNum                                                                 \n",
       "2000 1               1        3        4      1.0       NaN           NaN   \n",
       "     2               1        3        4      1.0       NaN           NaN   \n",
       "     3               1        3        4      2.0       NaN           NaN   \n",
       "     4               1        3        4      1.0       NaN           NaN   \n",
       "     5               1        3        4      1.0       NaN           NaN   \n",
       "\n",
       "             SAT_AVG_ALL  PCIP01  PCIP03  PCIP05  PCIP09  PCIP10  PCIP11  \\\n",
       "year rowNum                                                                \n",
       "2000 1               NaN  0.0624  0.0183  0.0000  0.0000  0.0239  0.0349   \n",
       "     2               NaN  0.0000  0.0000  0.0000  0.0352  0.0000  0.0224   \n",
       "     3               NaN  0.0000  0.0000  0.0000  0.0000  0.0000  0.0000   \n",
       "     4               NaN  0.0000  0.0000  0.0015  0.0000  0.0000  0.0550   \n",
       "     5               NaN  0.0000  0.0000  0.0000  0.0509  0.0000  0.0959   \n",
       "\n",
       "             PCIP12  PCIP13  PCIP14  PCIP15  PCIP16  PCIP19  PCIP22  PCIP23  \\\n",
       "year rowNum                                                                   \n",
       "2000 1          0.0  0.2569  0.0183  0.1083  0.0000  0.0294     0.0  0.0092   \n",
       "     2          0.0  0.1223  0.0525  0.0000  0.0051  0.0000     0.0  0.0166   \n",
       "     3          0.0  0.0000  0.0000  0.0000  0.0000  0.0000     0.0  0.0000   \n",
       "     4          0.0  0.0267  0.2719  0.0000  0.0208  0.0000     0.0  0.0416   \n",
       "     5          0.0  0.3738  0.0000  0.0000  0.0000  0.0000     0.0  0.0117   \n",
       "\n",
       "             PCIP24  PCIP25  PCIP26  PCIP27  PCIP29  PCIP30  PCIP31  PCIP38  \\\n",
       "year rowNum                                                                   \n",
       "2000 1          0.0     0.0  0.0661  0.0202     0.0  0.0000  0.0000  0.0000   \n",
       "     2          0.0     0.0  0.0743  0.0038     0.0  0.0019  0.0000  0.0083   \n",
       "     3          0.0     0.0  0.0000  0.0000     0.0  0.0000  0.0000  0.0000   \n",
       "     4          0.0     0.0  0.0475  0.0134     0.0  0.0000  0.0000  0.0045   \n",
       "     5          0.0     0.0  0.0411  0.0157     0.0  0.0000  0.0254  0.0000   \n",
       "\n",
       "             PCIP39  PCIP40  PCIP41  PCIP42  PCIP43  PCIP44  PCIP45  PCIP46  \\\n",
       "year rowNum                                                                   \n",
       "2000 1          0.0  0.0183     0.0  0.0514  0.0000  0.0440  0.0422     0.0   \n",
       "     2          0.0  0.0134     0.0  0.0794  0.0467  0.0173  0.0551     0.0   \n",
       "     3          1.0  0.0000     0.0  0.0000  0.0000  0.0000  0.0000     0.0   \n",
       "     4          0.0  0.0208     0.0  0.0208  0.0000  0.0000  0.0238     0.0   \n",
       "     5          0.0  0.0059     0.0  0.0411  0.0900  0.0528  0.0176     0.0   \n",
       "\n",
       "             PCIP47  PCIP48  PCIP49  PCIP50  PCIP51  PCIP52  PCIP54  \\\n",
       "year rowNum                                                           \n",
       "2000 1          0.0     0.0     0.0  0.0037  0.0000  0.1798  0.0018   \n",
       "     2          0.0     0.0     0.0  0.0262  0.1895  0.1914  0.0384   \n",
       "     3          0.0     0.0     0.0  0.0000  0.0000  0.0000  0.0000   \n",
       "     4          0.0     0.0     0.0  0.0223  0.1694  0.2392  0.0208   \n",
       "     5          0.0     0.0     0.0  0.0196  0.0020  0.1526  0.0039   \n",
       "\n",
       "             DISTANCEONLY  UGDS  UGDS_WHITE  UGDS_BLACK  UGDS_HISP  \\\n",
       "year rowNum                                                          \n",
       "2000 1                NaN   NaN         NaN         NaN        NaN   \n",
       "     2                NaN   NaN         NaN         NaN        NaN   \n",
       "     3                NaN   NaN         NaN         NaN        NaN   \n",
       "     4                NaN   NaN         NaN         NaN        NaN   \n",
       "     5                NaN   NaN         NaN         NaN        NaN   \n",
       "\n",
       "             UGDS_ASIAN  CURROPER  NPT4_PUB  NPT4_PRIV  NPT41_PUB  NPT42_PUB  \\\n",
       "year rowNum                                                                    \n",
       "2000 1              NaN       NaN       NaN        NaN        NaN        NaN   \n",
       "     2              NaN       NaN       NaN        NaN        NaN        NaN   \n",
       "     3              NaN       NaN       NaN        NaN        NaN        NaN   \n",
       "     4              NaN       NaN       NaN        NaN        NaN        NaN   \n",
       "     5              NaN       NaN       NaN        NaN        NaN        NaN   \n",
       "\n",
       "             NPT43_PUB  NPT41_PRIV  NPT42_PRIV  NPT43_PRIV  TUITFTE  PCTFLOAN  \\\n",
       "year rowNum                                                                     \n",
       "2000 1             NaN         NaN         NaN         NaN   3486.0       NaN   \n",
       "     2             NaN         NaN         NaN         NaN   6348.0       NaN   \n",
       "     3             NaN         NaN         NaN         NaN   5397.0       NaN   \n",
       "     4             NaN         NaN         NaN         NaN   4200.0       NaN   \n",
       "     5             NaN         NaN         NaN         NaN  68868.0       NaN   \n",
       "\n",
       "              CDR2  CDR3 DEBT_MDN GRAD_DEBT_MDN PELL_DEBT_MDN NOPELL_DEBT_MDN  \\\n",
       "year rowNum                                                                     \n",
       "2000 1       0.119   NaN     4625         15374        4617.5          4625.5   \n",
       "     2       0.054   NaN     5000          4125        4766.5            5250   \n",
       "     3       0.016   NaN   5655.5          9900          5500            8087   \n",
       "     4       0.048   NaN     5500       12001.5          5500            5250   \n",
       "     5       0.188   NaN     4000         16814          3938            4768   \n",
       "\n",
       "            MD_FAMINC MD_EARN_WNE_P6 MD_EARN_WNE_P8  C100_4  ICLEVEL  \\\n",
       "year rowNum                                                            \n",
       "2000 1          18979            NaN            NaN     NaN      1.0   \n",
       "     2          22336            NaN            NaN     NaN      1.0   \n",
       "     3          24892            NaN            NaN     NaN      1.0   \n",
       "     4        27289.5            NaN            NaN     NaN      1.0   \n",
       "     5        16584.5            NaN            NaN     NaN      1.0   \n",
       "\n",
       "             C100_4_POOLED_SUPP  OPEFLAG  CIPCODE1  CIPCODE2  CIPCODE3  \\\n",
       "year rowNum                                                              \n",
       "2000 1                      NaN        1       NaN       NaN       NaN   \n",
       "     2                      NaN        1       NaN       NaN       NaN   \n",
       "     3                      NaN        1       NaN       NaN       NaN   \n",
       "     4                      NaN        1       NaN       NaN       NaN   \n",
       "     5                      NaN        1       NaN       NaN       NaN   \n",
       "\n",
       "             FTFTPCTPELL  FTFTPCTFLOAN BBRR1_FED_UG_MAKEPROG  \\\n",
       "year rowNum                                                    \n",
       "2000 1               NaN           NaN                   NaN   \n",
       "     2               NaN           NaN                   NaN   \n",
       "     3               NaN           NaN                   NaN   \n",
       "     4               NaN           NaN                   NaN   \n",
       "     5               NaN           NaN                   NaN   \n",
       "\n",
       "            BBRR1_FED_UG_PAIDINFULL  MD_EARN_WNE_INC1_P6  MD_EARN_WNE_INC2_P6  \\\n",
       "year rowNum                                                                     \n",
       "2000 1                          NaN                  NaN                  NaN   \n",
       "     2                          NaN                  NaN                  NaN   \n",
       "     3                          NaN                  NaN                  NaN   \n",
       "     4                          NaN                  NaN                  NaN   \n",
       "     5                          NaN                  NaN                  NaN   \n",
       "\n",
       "             MD_EARN_WNE_INC3_P6  MD_EARN_WNE_1YR  MD_EARN_WNE_4YR  \n",
       "year rowNum                                                         \n",
       "2000 1                       NaN              NaN              NaN  \n",
       "     2                       NaN              NaN              NaN  \n",
       "     3                       NaN              NaN              NaN  \n",
       "     4                       NaN              NaN              NaN  \n",
       "     5                       NaN              NaN              NaN  "
      ]
     },
     "execution_count": 5,
     "metadata": {},
     "output_type": "execute_result"
    }
   ],
   "source": [
    "titleIV = main[main['OPEFLAG'] == 1]\n",
    "shape = titleIV.shape\n",
    "nullPercent = titleIV['ICLEVEL'].isna().mean() * 100\n",
    "\n",
    "print(\"[+] titleIVShape: \", shape, \" IclevelNull: \", nullPercent)\n",
    "titleIV.head()"
   ]
  },
  {
   "cell_type": "code",
   "execution_count": 6,
   "metadata": {},
   "outputs": [
    {
     "name": "stdout",
     "output_type": "stream",
     "text": [
      "[+]  fourYearShape:  (51404, 96)\n"
     ]
    },
    {
     "data": {
      "text/html": [
       "<div>\n",
       "<style scoped>\n",
       "    .dataframe tbody tr th:only-of-type {\n",
       "        vertical-align: middle;\n",
       "    }\n",
       "\n",
       "    .dataframe tbody tr th {\n",
       "        vertical-align: top;\n",
       "    }\n",
       "\n",
       "    .dataframe thead th {\n",
       "        text-align: right;\n",
       "    }\n",
       "</style>\n",
       "<table border=\"1\" class=\"dataframe\">\n",
       "  <thead>\n",
       "    <tr style=\"text-align: right;\">\n",
       "      <th></th>\n",
       "      <th></th>\n",
       "      <th>UNITID</th>\n",
       "      <th>OPEID</th>\n",
       "      <th>OPEID6</th>\n",
       "      <th>INSTNM</th>\n",
       "      <th>CITY</th>\n",
       "      <th>STABBR</th>\n",
       "      <th>ZIP</th>\n",
       "      <th>ACCREDAGENCY</th>\n",
       "      <th>HCM2</th>\n",
       "      <th>MAIN</th>\n",
       "      <th>NUMBRANCH</th>\n",
       "      <th>PREDDEG</th>\n",
       "      <th>HIGHDEG</th>\n",
       "      <th>CONTROL</th>\n",
       "      <th>ADM_RATE</th>\n",
       "      <th>ADM_RATE_ALL</th>\n",
       "      <th>SAT_AVG_ALL</th>\n",
       "      <th>PCIP01</th>\n",
       "      <th>PCIP03</th>\n",
       "      <th>PCIP05</th>\n",
       "      <th>PCIP09</th>\n",
       "      <th>PCIP10</th>\n",
       "      <th>PCIP11</th>\n",
       "      <th>PCIP12</th>\n",
       "      <th>PCIP13</th>\n",
       "      <th>PCIP14</th>\n",
       "      <th>PCIP15</th>\n",
       "      <th>PCIP16</th>\n",
       "      <th>PCIP19</th>\n",
       "      <th>PCIP22</th>\n",
       "      <th>PCIP23</th>\n",
       "      <th>PCIP24</th>\n",
       "      <th>PCIP25</th>\n",
       "      <th>PCIP26</th>\n",
       "      <th>PCIP27</th>\n",
       "      <th>PCIP29</th>\n",
       "      <th>PCIP30</th>\n",
       "      <th>PCIP31</th>\n",
       "      <th>PCIP38</th>\n",
       "      <th>PCIP39</th>\n",
       "      <th>PCIP40</th>\n",
       "      <th>PCIP41</th>\n",
       "      <th>PCIP42</th>\n",
       "      <th>PCIP43</th>\n",
       "      <th>PCIP44</th>\n",
       "      <th>PCIP45</th>\n",
       "      <th>PCIP46</th>\n",
       "      <th>PCIP47</th>\n",
       "      <th>PCIP48</th>\n",
       "      <th>PCIP49</th>\n",
       "      <th>PCIP50</th>\n",
       "      <th>PCIP51</th>\n",
       "      <th>PCIP52</th>\n",
       "      <th>PCIP54</th>\n",
       "      <th>DISTANCEONLY</th>\n",
       "      <th>UGDS</th>\n",
       "      <th>UGDS_WHITE</th>\n",
       "      <th>UGDS_BLACK</th>\n",
       "      <th>UGDS_HISP</th>\n",
       "      <th>UGDS_ASIAN</th>\n",
       "      <th>CURROPER</th>\n",
       "      <th>NPT4_PUB</th>\n",
       "      <th>NPT4_PRIV</th>\n",
       "      <th>NPT41_PUB</th>\n",
       "      <th>NPT42_PUB</th>\n",
       "      <th>NPT43_PUB</th>\n",
       "      <th>NPT41_PRIV</th>\n",
       "      <th>NPT42_PRIV</th>\n",
       "      <th>NPT43_PRIV</th>\n",
       "      <th>TUITFTE</th>\n",
       "      <th>PCTFLOAN</th>\n",
       "      <th>CDR2</th>\n",
       "      <th>CDR3</th>\n",
       "      <th>DEBT_MDN</th>\n",
       "      <th>GRAD_DEBT_MDN</th>\n",
       "      <th>PELL_DEBT_MDN</th>\n",
       "      <th>NOPELL_DEBT_MDN</th>\n",
       "      <th>MD_FAMINC</th>\n",
       "      <th>MD_EARN_WNE_P6</th>\n",
       "      <th>MD_EARN_WNE_P8</th>\n",
       "      <th>C100_4</th>\n",
       "      <th>ICLEVEL</th>\n",
       "      <th>C100_4_POOLED_SUPP</th>\n",
       "      <th>OPEFLAG</th>\n",
       "      <th>CIPCODE1</th>\n",
       "      <th>CIPCODE2</th>\n",
       "      <th>CIPCODE3</th>\n",
       "      <th>FTFTPCTPELL</th>\n",
       "      <th>FTFTPCTFLOAN</th>\n",
       "      <th>BBRR1_FED_UG_MAKEPROG</th>\n",
       "      <th>BBRR1_FED_UG_PAIDINFULL</th>\n",
       "      <th>MD_EARN_WNE_INC1_P6</th>\n",
       "      <th>MD_EARN_WNE_INC2_P6</th>\n",
       "      <th>MD_EARN_WNE_INC3_P6</th>\n",
       "      <th>MD_EARN_WNE_1YR</th>\n",
       "      <th>MD_EARN_WNE_4YR</th>\n",
       "    </tr>\n",
       "    <tr>\n",
       "      <th>year</th>\n",
       "      <th>rowNum</th>\n",
       "      <th></th>\n",
       "      <th></th>\n",
       "      <th></th>\n",
       "      <th></th>\n",
       "      <th></th>\n",
       "      <th></th>\n",
       "      <th></th>\n",
       "      <th></th>\n",
       "      <th></th>\n",
       "      <th></th>\n",
       "      <th></th>\n",
       "      <th></th>\n",
       "      <th></th>\n",
       "      <th></th>\n",
       "      <th></th>\n",
       "      <th></th>\n",
       "      <th></th>\n",
       "      <th></th>\n",
       "      <th></th>\n",
       "      <th></th>\n",
       "      <th></th>\n",
       "      <th></th>\n",
       "      <th></th>\n",
       "      <th></th>\n",
       "      <th></th>\n",
       "      <th></th>\n",
       "      <th></th>\n",
       "      <th></th>\n",
       "      <th></th>\n",
       "      <th></th>\n",
       "      <th></th>\n",
       "      <th></th>\n",
       "      <th></th>\n",
       "      <th></th>\n",
       "      <th></th>\n",
       "      <th></th>\n",
       "      <th></th>\n",
       "      <th></th>\n",
       "      <th></th>\n",
       "      <th></th>\n",
       "      <th></th>\n",
       "      <th></th>\n",
       "      <th></th>\n",
       "      <th></th>\n",
       "      <th></th>\n",
       "      <th></th>\n",
       "      <th></th>\n",
       "      <th></th>\n",
       "      <th></th>\n",
       "      <th></th>\n",
       "      <th></th>\n",
       "      <th></th>\n",
       "      <th></th>\n",
       "      <th></th>\n",
       "      <th></th>\n",
       "      <th></th>\n",
       "      <th></th>\n",
       "      <th></th>\n",
       "      <th></th>\n",
       "      <th></th>\n",
       "      <th></th>\n",
       "      <th></th>\n",
       "      <th></th>\n",
       "      <th></th>\n",
       "      <th></th>\n",
       "      <th></th>\n",
       "      <th></th>\n",
       "      <th></th>\n",
       "      <th></th>\n",
       "      <th></th>\n",
       "      <th></th>\n",
       "      <th></th>\n",
       "      <th></th>\n",
       "      <th></th>\n",
       "      <th></th>\n",
       "      <th></th>\n",
       "      <th></th>\n",
       "      <th></th>\n",
       "      <th></th>\n",
       "      <th></th>\n",
       "      <th></th>\n",
       "      <th></th>\n",
       "      <th></th>\n",
       "      <th></th>\n",
       "      <th></th>\n",
       "      <th></th>\n",
       "      <th></th>\n",
       "      <th></th>\n",
       "      <th></th>\n",
       "      <th></th>\n",
       "      <th></th>\n",
       "      <th></th>\n",
       "      <th></th>\n",
       "      <th></th>\n",
       "      <th></th>\n",
       "      <th></th>\n",
       "    </tr>\n",
       "  </thead>\n",
       "  <tbody>\n",
       "    <tr>\n",
       "      <th rowspan=\"5\" valign=\"top\">2000</th>\n",
       "      <th>1</th>\n",
       "      <td>100654</td>\n",
       "      <td>00100200</td>\n",
       "      <td>1002.0</td>\n",
       "      <td>Alabama A &amp; M University</td>\n",
       "      <td>Normal</td>\n",
       "      <td>AL</td>\n",
       "      <td>35762</td>\n",
       "      <td>NaN</td>\n",
       "      <td>NaN</td>\n",
       "      <td>1</td>\n",
       "      <td>1</td>\n",
       "      <td>3</td>\n",
       "      <td>4</td>\n",
       "      <td>1.0</td>\n",
       "      <td>NaN</td>\n",
       "      <td>NaN</td>\n",
       "      <td>NaN</td>\n",
       "      <td>0.0624</td>\n",
       "      <td>0.0183</td>\n",
       "      <td>0.0000</td>\n",
       "      <td>0.0000</td>\n",
       "      <td>0.0239</td>\n",
       "      <td>0.0349</td>\n",
       "      <td>0.0</td>\n",
       "      <td>0.2569</td>\n",
       "      <td>0.0183</td>\n",
       "      <td>0.1083</td>\n",
       "      <td>0.0000</td>\n",
       "      <td>0.0294</td>\n",
       "      <td>0.0</td>\n",
       "      <td>0.0092</td>\n",
       "      <td>0.0</td>\n",
       "      <td>0.0</td>\n",
       "      <td>0.0661</td>\n",
       "      <td>0.0202</td>\n",
       "      <td>0.0</td>\n",
       "      <td>0.0000</td>\n",
       "      <td>0.0000</td>\n",
       "      <td>0.0000</td>\n",
       "      <td>0.0</td>\n",
       "      <td>0.0183</td>\n",
       "      <td>0.0</td>\n",
       "      <td>0.0514</td>\n",
       "      <td>0.0000</td>\n",
       "      <td>0.0440</td>\n",
       "      <td>0.0422</td>\n",
       "      <td>0.0</td>\n",
       "      <td>0.0</td>\n",
       "      <td>0.0</td>\n",
       "      <td>0.0</td>\n",
       "      <td>0.0037</td>\n",
       "      <td>0.0000</td>\n",
       "      <td>0.1798</td>\n",
       "      <td>0.0018</td>\n",
       "      <td>NaN</td>\n",
       "      <td>NaN</td>\n",
       "      <td>NaN</td>\n",
       "      <td>NaN</td>\n",
       "      <td>NaN</td>\n",
       "      <td>NaN</td>\n",
       "      <td>NaN</td>\n",
       "      <td>NaN</td>\n",
       "      <td>NaN</td>\n",
       "      <td>NaN</td>\n",
       "      <td>NaN</td>\n",
       "      <td>NaN</td>\n",
       "      <td>NaN</td>\n",
       "      <td>NaN</td>\n",
       "      <td>NaN</td>\n",
       "      <td>3486.0</td>\n",
       "      <td>NaN</td>\n",
       "      <td>0.119</td>\n",
       "      <td>NaN</td>\n",
       "      <td>4625</td>\n",
       "      <td>15374</td>\n",
       "      <td>4617.5</td>\n",
       "      <td>4625.5</td>\n",
       "      <td>18979</td>\n",
       "      <td>NaN</td>\n",
       "      <td>NaN</td>\n",
       "      <td>NaN</td>\n",
       "      <td>1.0</td>\n",
       "      <td>NaN</td>\n",
       "      <td>1</td>\n",
       "      <td>NaN</td>\n",
       "      <td>NaN</td>\n",
       "      <td>NaN</td>\n",
       "      <td>NaN</td>\n",
       "      <td>NaN</td>\n",
       "      <td>NaN</td>\n",
       "      <td>NaN</td>\n",
       "      <td>NaN</td>\n",
       "      <td>NaN</td>\n",
       "      <td>NaN</td>\n",
       "      <td>NaN</td>\n",
       "      <td>NaN</td>\n",
       "    </tr>\n",
       "    <tr>\n",
       "      <th>2</th>\n",
       "      <td>100663</td>\n",
       "      <td>00105200</td>\n",
       "      <td>1052.0</td>\n",
       "      <td>University of Alabama at Birmingham</td>\n",
       "      <td>Birmingham</td>\n",
       "      <td>AL</td>\n",
       "      <td>35294-0110</td>\n",
       "      <td>NaN</td>\n",
       "      <td>NaN</td>\n",
       "      <td>1</td>\n",
       "      <td>1</td>\n",
       "      <td>3</td>\n",
       "      <td>4</td>\n",
       "      <td>1.0</td>\n",
       "      <td>NaN</td>\n",
       "      <td>NaN</td>\n",
       "      <td>NaN</td>\n",
       "      <td>0.0000</td>\n",
       "      <td>0.0000</td>\n",
       "      <td>0.0000</td>\n",
       "      <td>0.0352</td>\n",
       "      <td>0.0000</td>\n",
       "      <td>0.0224</td>\n",
       "      <td>0.0</td>\n",
       "      <td>0.1223</td>\n",
       "      <td>0.0525</td>\n",
       "      <td>0.0000</td>\n",
       "      <td>0.0051</td>\n",
       "      <td>0.0000</td>\n",
       "      <td>0.0</td>\n",
       "      <td>0.0166</td>\n",
       "      <td>0.0</td>\n",
       "      <td>0.0</td>\n",
       "      <td>0.0743</td>\n",
       "      <td>0.0038</td>\n",
       "      <td>0.0</td>\n",
       "      <td>0.0019</td>\n",
       "      <td>0.0000</td>\n",
       "      <td>0.0083</td>\n",
       "      <td>0.0</td>\n",
       "      <td>0.0134</td>\n",
       "      <td>0.0</td>\n",
       "      <td>0.0794</td>\n",
       "      <td>0.0467</td>\n",
       "      <td>0.0173</td>\n",
       "      <td>0.0551</td>\n",
       "      <td>0.0</td>\n",
       "      <td>0.0</td>\n",
       "      <td>0.0</td>\n",
       "      <td>0.0</td>\n",
       "      <td>0.0262</td>\n",
       "      <td>0.1895</td>\n",
       "      <td>0.1914</td>\n",
       "      <td>0.0384</td>\n",
       "      <td>NaN</td>\n",
       "      <td>NaN</td>\n",
       "      <td>NaN</td>\n",
       "      <td>NaN</td>\n",
       "      <td>NaN</td>\n",
       "      <td>NaN</td>\n",
       "      <td>NaN</td>\n",
       "      <td>NaN</td>\n",
       "      <td>NaN</td>\n",
       "      <td>NaN</td>\n",
       "      <td>NaN</td>\n",
       "      <td>NaN</td>\n",
       "      <td>NaN</td>\n",
       "      <td>NaN</td>\n",
       "      <td>NaN</td>\n",
       "      <td>6348.0</td>\n",
       "      <td>NaN</td>\n",
       "      <td>0.054</td>\n",
       "      <td>NaN</td>\n",
       "      <td>5000</td>\n",
       "      <td>4125</td>\n",
       "      <td>4766.5</td>\n",
       "      <td>5250</td>\n",
       "      <td>22336</td>\n",
       "      <td>NaN</td>\n",
       "      <td>NaN</td>\n",
       "      <td>NaN</td>\n",
       "      <td>1.0</td>\n",
       "      <td>NaN</td>\n",
       "      <td>1</td>\n",
       "      <td>NaN</td>\n",
       "      <td>NaN</td>\n",
       "      <td>NaN</td>\n",
       "      <td>NaN</td>\n",
       "      <td>NaN</td>\n",
       "      <td>NaN</td>\n",
       "      <td>NaN</td>\n",
       "      <td>NaN</td>\n",
       "      <td>NaN</td>\n",
       "      <td>NaN</td>\n",
       "      <td>NaN</td>\n",
       "      <td>NaN</td>\n",
       "    </tr>\n",
       "    <tr>\n",
       "      <th>3</th>\n",
       "      <td>100690</td>\n",
       "      <td>02503400</td>\n",
       "      <td>25034.0</td>\n",
       "      <td>Amridge University</td>\n",
       "      <td>Montgomery</td>\n",
       "      <td>AL</td>\n",
       "      <td>36117-3553</td>\n",
       "      <td>NaN</td>\n",
       "      <td>NaN</td>\n",
       "      <td>1</td>\n",
       "      <td>1</td>\n",
       "      <td>3</td>\n",
       "      <td>4</td>\n",
       "      <td>2.0</td>\n",
       "      <td>NaN</td>\n",
       "      <td>NaN</td>\n",
       "      <td>NaN</td>\n",
       "      <td>0.0000</td>\n",
       "      <td>0.0000</td>\n",
       "      <td>0.0000</td>\n",
       "      <td>0.0000</td>\n",
       "      <td>0.0000</td>\n",
       "      <td>0.0000</td>\n",
       "      <td>0.0</td>\n",
       "      <td>0.0000</td>\n",
       "      <td>0.0000</td>\n",
       "      <td>0.0000</td>\n",
       "      <td>0.0000</td>\n",
       "      <td>0.0000</td>\n",
       "      <td>0.0</td>\n",
       "      <td>0.0000</td>\n",
       "      <td>0.0</td>\n",
       "      <td>0.0</td>\n",
       "      <td>0.0000</td>\n",
       "      <td>0.0000</td>\n",
       "      <td>0.0</td>\n",
       "      <td>0.0000</td>\n",
       "      <td>0.0000</td>\n",
       "      <td>0.0000</td>\n",
       "      <td>1.0</td>\n",
       "      <td>0.0000</td>\n",
       "      <td>0.0</td>\n",
       "      <td>0.0000</td>\n",
       "      <td>0.0000</td>\n",
       "      <td>0.0000</td>\n",
       "      <td>0.0000</td>\n",
       "      <td>0.0</td>\n",
       "      <td>0.0</td>\n",
       "      <td>0.0</td>\n",
       "      <td>0.0</td>\n",
       "      <td>0.0000</td>\n",
       "      <td>0.0000</td>\n",
       "      <td>0.0000</td>\n",
       "      <td>0.0000</td>\n",
       "      <td>NaN</td>\n",
       "      <td>NaN</td>\n",
       "      <td>NaN</td>\n",
       "      <td>NaN</td>\n",
       "      <td>NaN</td>\n",
       "      <td>NaN</td>\n",
       "      <td>NaN</td>\n",
       "      <td>NaN</td>\n",
       "      <td>NaN</td>\n",
       "      <td>NaN</td>\n",
       "      <td>NaN</td>\n",
       "      <td>NaN</td>\n",
       "      <td>NaN</td>\n",
       "      <td>NaN</td>\n",
       "      <td>NaN</td>\n",
       "      <td>5397.0</td>\n",
       "      <td>NaN</td>\n",
       "      <td>0.016</td>\n",
       "      <td>NaN</td>\n",
       "      <td>5655.5</td>\n",
       "      <td>9900</td>\n",
       "      <td>5500</td>\n",
       "      <td>8087</td>\n",
       "      <td>24892</td>\n",
       "      <td>NaN</td>\n",
       "      <td>NaN</td>\n",
       "      <td>NaN</td>\n",
       "      <td>1.0</td>\n",
       "      <td>NaN</td>\n",
       "      <td>1</td>\n",
       "      <td>NaN</td>\n",
       "      <td>NaN</td>\n",
       "      <td>NaN</td>\n",
       "      <td>NaN</td>\n",
       "      <td>NaN</td>\n",
       "      <td>NaN</td>\n",
       "      <td>NaN</td>\n",
       "      <td>NaN</td>\n",
       "      <td>NaN</td>\n",
       "      <td>NaN</td>\n",
       "      <td>NaN</td>\n",
       "      <td>NaN</td>\n",
       "    </tr>\n",
       "    <tr>\n",
       "      <th>4</th>\n",
       "      <td>100706</td>\n",
       "      <td>00105500</td>\n",
       "      <td>1055.0</td>\n",
       "      <td>University of Alabama in Huntsville</td>\n",
       "      <td>Huntsville</td>\n",
       "      <td>AL</td>\n",
       "      <td>35899</td>\n",
       "      <td>NaN</td>\n",
       "      <td>NaN</td>\n",
       "      <td>1</td>\n",
       "      <td>1</td>\n",
       "      <td>3</td>\n",
       "      <td>4</td>\n",
       "      <td>1.0</td>\n",
       "      <td>NaN</td>\n",
       "      <td>NaN</td>\n",
       "      <td>NaN</td>\n",
       "      <td>0.0000</td>\n",
       "      <td>0.0000</td>\n",
       "      <td>0.0015</td>\n",
       "      <td>0.0000</td>\n",
       "      <td>0.0000</td>\n",
       "      <td>0.0550</td>\n",
       "      <td>0.0</td>\n",
       "      <td>0.0267</td>\n",
       "      <td>0.2719</td>\n",
       "      <td>0.0000</td>\n",
       "      <td>0.0208</td>\n",
       "      <td>0.0000</td>\n",
       "      <td>0.0</td>\n",
       "      <td>0.0416</td>\n",
       "      <td>0.0</td>\n",
       "      <td>0.0</td>\n",
       "      <td>0.0475</td>\n",
       "      <td>0.0134</td>\n",
       "      <td>0.0</td>\n",
       "      <td>0.0000</td>\n",
       "      <td>0.0000</td>\n",
       "      <td>0.0045</td>\n",
       "      <td>0.0</td>\n",
       "      <td>0.0208</td>\n",
       "      <td>0.0</td>\n",
       "      <td>0.0208</td>\n",
       "      <td>0.0000</td>\n",
       "      <td>0.0000</td>\n",
       "      <td>0.0238</td>\n",
       "      <td>0.0</td>\n",
       "      <td>0.0</td>\n",
       "      <td>0.0</td>\n",
       "      <td>0.0</td>\n",
       "      <td>0.0223</td>\n",
       "      <td>0.1694</td>\n",
       "      <td>0.2392</td>\n",
       "      <td>0.0208</td>\n",
       "      <td>NaN</td>\n",
       "      <td>NaN</td>\n",
       "      <td>NaN</td>\n",
       "      <td>NaN</td>\n",
       "      <td>NaN</td>\n",
       "      <td>NaN</td>\n",
       "      <td>NaN</td>\n",
       "      <td>NaN</td>\n",
       "      <td>NaN</td>\n",
       "      <td>NaN</td>\n",
       "      <td>NaN</td>\n",
       "      <td>NaN</td>\n",
       "      <td>NaN</td>\n",
       "      <td>NaN</td>\n",
       "      <td>NaN</td>\n",
       "      <td>4200.0</td>\n",
       "      <td>NaN</td>\n",
       "      <td>0.048</td>\n",
       "      <td>NaN</td>\n",
       "      <td>5500</td>\n",
       "      <td>12001.5</td>\n",
       "      <td>5500</td>\n",
       "      <td>5250</td>\n",
       "      <td>27289.5</td>\n",
       "      <td>NaN</td>\n",
       "      <td>NaN</td>\n",
       "      <td>NaN</td>\n",
       "      <td>1.0</td>\n",
       "      <td>NaN</td>\n",
       "      <td>1</td>\n",
       "      <td>NaN</td>\n",
       "      <td>NaN</td>\n",
       "      <td>NaN</td>\n",
       "      <td>NaN</td>\n",
       "      <td>NaN</td>\n",
       "      <td>NaN</td>\n",
       "      <td>NaN</td>\n",
       "      <td>NaN</td>\n",
       "      <td>NaN</td>\n",
       "      <td>NaN</td>\n",
       "      <td>NaN</td>\n",
       "      <td>NaN</td>\n",
       "    </tr>\n",
       "    <tr>\n",
       "      <th>5</th>\n",
       "      <td>100724</td>\n",
       "      <td>00100500</td>\n",
       "      <td>1005.0</td>\n",
       "      <td>Alabama State University</td>\n",
       "      <td>Montgomery</td>\n",
       "      <td>AL</td>\n",
       "      <td>36104-0271</td>\n",
       "      <td>NaN</td>\n",
       "      <td>NaN</td>\n",
       "      <td>1</td>\n",
       "      <td>1</td>\n",
       "      <td>3</td>\n",
       "      <td>4</td>\n",
       "      <td>1.0</td>\n",
       "      <td>NaN</td>\n",
       "      <td>NaN</td>\n",
       "      <td>NaN</td>\n",
       "      <td>0.0000</td>\n",
       "      <td>0.0000</td>\n",
       "      <td>0.0000</td>\n",
       "      <td>0.0509</td>\n",
       "      <td>0.0000</td>\n",
       "      <td>0.0959</td>\n",
       "      <td>0.0</td>\n",
       "      <td>0.3738</td>\n",
       "      <td>0.0000</td>\n",
       "      <td>0.0000</td>\n",
       "      <td>0.0000</td>\n",
       "      <td>0.0000</td>\n",
       "      <td>0.0</td>\n",
       "      <td>0.0117</td>\n",
       "      <td>0.0</td>\n",
       "      <td>0.0</td>\n",
       "      <td>0.0411</td>\n",
       "      <td>0.0157</td>\n",
       "      <td>0.0</td>\n",
       "      <td>0.0000</td>\n",
       "      <td>0.0254</td>\n",
       "      <td>0.0000</td>\n",
       "      <td>0.0</td>\n",
       "      <td>0.0059</td>\n",
       "      <td>0.0</td>\n",
       "      <td>0.0411</td>\n",
       "      <td>0.0900</td>\n",
       "      <td>0.0528</td>\n",
       "      <td>0.0176</td>\n",
       "      <td>0.0</td>\n",
       "      <td>0.0</td>\n",
       "      <td>0.0</td>\n",
       "      <td>0.0</td>\n",
       "      <td>0.0196</td>\n",
       "      <td>0.0020</td>\n",
       "      <td>0.1526</td>\n",
       "      <td>0.0039</td>\n",
       "      <td>NaN</td>\n",
       "      <td>NaN</td>\n",
       "      <td>NaN</td>\n",
       "      <td>NaN</td>\n",
       "      <td>NaN</td>\n",
       "      <td>NaN</td>\n",
       "      <td>NaN</td>\n",
       "      <td>NaN</td>\n",
       "      <td>NaN</td>\n",
       "      <td>NaN</td>\n",
       "      <td>NaN</td>\n",
       "      <td>NaN</td>\n",
       "      <td>NaN</td>\n",
       "      <td>NaN</td>\n",
       "      <td>NaN</td>\n",
       "      <td>68868.0</td>\n",
       "      <td>NaN</td>\n",
       "      <td>0.188</td>\n",
       "      <td>NaN</td>\n",
       "      <td>4000</td>\n",
       "      <td>16814</td>\n",
       "      <td>3938</td>\n",
       "      <td>4768</td>\n",
       "      <td>16584.5</td>\n",
       "      <td>NaN</td>\n",
       "      <td>NaN</td>\n",
       "      <td>NaN</td>\n",
       "      <td>1.0</td>\n",
       "      <td>NaN</td>\n",
       "      <td>1</td>\n",
       "      <td>NaN</td>\n",
       "      <td>NaN</td>\n",
       "      <td>NaN</td>\n",
       "      <td>NaN</td>\n",
       "      <td>NaN</td>\n",
       "      <td>NaN</td>\n",
       "      <td>NaN</td>\n",
       "      <td>NaN</td>\n",
       "      <td>NaN</td>\n",
       "      <td>NaN</td>\n",
       "      <td>NaN</td>\n",
       "      <td>NaN</td>\n",
       "    </tr>\n",
       "  </tbody>\n",
       "</table>\n",
       "</div>"
      ],
      "text/plain": [
       "             UNITID     OPEID   OPEID6                               INSTNM  \\\n",
       "year rowNum                                                                   \n",
       "2000 1       100654  00100200   1002.0             Alabama A & M University   \n",
       "     2       100663  00105200   1052.0  University of Alabama at Birmingham   \n",
       "     3       100690  02503400  25034.0                   Amridge University   \n",
       "     4       100706  00105500   1055.0  University of Alabama in Huntsville   \n",
       "     5       100724  00100500   1005.0             Alabama State University   \n",
       "\n",
       "                   CITY STABBR         ZIP  ACCREDAGENCY  HCM2  MAIN  \\\n",
       "year rowNum                                                            \n",
       "2000 1           Normal     AL       35762           NaN   NaN     1   \n",
       "     2       Birmingham     AL  35294-0110           NaN   NaN     1   \n",
       "     3       Montgomery     AL  36117-3553           NaN   NaN     1   \n",
       "     4       Huntsville     AL       35899           NaN   NaN     1   \n",
       "     5       Montgomery     AL  36104-0271           NaN   NaN     1   \n",
       "\n",
       "             NUMBRANCH  PREDDEG  HIGHDEG  CONTROL  ADM_RATE  ADM_RATE_ALL  \\\n",
       "year rowNum                                                                 \n",
       "2000 1               1        3        4      1.0       NaN           NaN   \n",
       "     2               1        3        4      1.0       NaN           NaN   \n",
       "     3               1        3        4      2.0       NaN           NaN   \n",
       "     4               1        3        4      1.0       NaN           NaN   \n",
       "     5               1        3        4      1.0       NaN           NaN   \n",
       "\n",
       "             SAT_AVG_ALL  PCIP01  PCIP03  PCIP05  PCIP09  PCIP10  PCIP11  \\\n",
       "year rowNum                                                                \n",
       "2000 1               NaN  0.0624  0.0183  0.0000  0.0000  0.0239  0.0349   \n",
       "     2               NaN  0.0000  0.0000  0.0000  0.0352  0.0000  0.0224   \n",
       "     3               NaN  0.0000  0.0000  0.0000  0.0000  0.0000  0.0000   \n",
       "     4               NaN  0.0000  0.0000  0.0015  0.0000  0.0000  0.0550   \n",
       "     5               NaN  0.0000  0.0000  0.0000  0.0509  0.0000  0.0959   \n",
       "\n",
       "             PCIP12  PCIP13  PCIP14  PCIP15  PCIP16  PCIP19  PCIP22  PCIP23  \\\n",
       "year rowNum                                                                   \n",
       "2000 1          0.0  0.2569  0.0183  0.1083  0.0000  0.0294     0.0  0.0092   \n",
       "     2          0.0  0.1223  0.0525  0.0000  0.0051  0.0000     0.0  0.0166   \n",
       "     3          0.0  0.0000  0.0000  0.0000  0.0000  0.0000     0.0  0.0000   \n",
       "     4          0.0  0.0267  0.2719  0.0000  0.0208  0.0000     0.0  0.0416   \n",
       "     5          0.0  0.3738  0.0000  0.0000  0.0000  0.0000     0.0  0.0117   \n",
       "\n",
       "             PCIP24  PCIP25  PCIP26  PCIP27  PCIP29  PCIP30  PCIP31  PCIP38  \\\n",
       "year rowNum                                                                   \n",
       "2000 1          0.0     0.0  0.0661  0.0202     0.0  0.0000  0.0000  0.0000   \n",
       "     2          0.0     0.0  0.0743  0.0038     0.0  0.0019  0.0000  0.0083   \n",
       "     3          0.0     0.0  0.0000  0.0000     0.0  0.0000  0.0000  0.0000   \n",
       "     4          0.0     0.0  0.0475  0.0134     0.0  0.0000  0.0000  0.0045   \n",
       "     5          0.0     0.0  0.0411  0.0157     0.0  0.0000  0.0254  0.0000   \n",
       "\n",
       "             PCIP39  PCIP40  PCIP41  PCIP42  PCIP43  PCIP44  PCIP45  PCIP46  \\\n",
       "year rowNum                                                                   \n",
       "2000 1          0.0  0.0183     0.0  0.0514  0.0000  0.0440  0.0422     0.0   \n",
       "     2          0.0  0.0134     0.0  0.0794  0.0467  0.0173  0.0551     0.0   \n",
       "     3          1.0  0.0000     0.0  0.0000  0.0000  0.0000  0.0000     0.0   \n",
       "     4          0.0  0.0208     0.0  0.0208  0.0000  0.0000  0.0238     0.0   \n",
       "     5          0.0  0.0059     0.0  0.0411  0.0900  0.0528  0.0176     0.0   \n",
       "\n",
       "             PCIP47  PCIP48  PCIP49  PCIP50  PCIP51  PCIP52  PCIP54  \\\n",
       "year rowNum                                                           \n",
       "2000 1          0.0     0.0     0.0  0.0037  0.0000  0.1798  0.0018   \n",
       "     2          0.0     0.0     0.0  0.0262  0.1895  0.1914  0.0384   \n",
       "     3          0.0     0.0     0.0  0.0000  0.0000  0.0000  0.0000   \n",
       "     4          0.0     0.0     0.0  0.0223  0.1694  0.2392  0.0208   \n",
       "     5          0.0     0.0     0.0  0.0196  0.0020  0.1526  0.0039   \n",
       "\n",
       "             DISTANCEONLY  UGDS  UGDS_WHITE  UGDS_BLACK  UGDS_HISP  \\\n",
       "year rowNum                                                          \n",
       "2000 1                NaN   NaN         NaN         NaN        NaN   \n",
       "     2                NaN   NaN         NaN         NaN        NaN   \n",
       "     3                NaN   NaN         NaN         NaN        NaN   \n",
       "     4                NaN   NaN         NaN         NaN        NaN   \n",
       "     5                NaN   NaN         NaN         NaN        NaN   \n",
       "\n",
       "             UGDS_ASIAN  CURROPER  NPT4_PUB  NPT4_PRIV  NPT41_PUB  NPT42_PUB  \\\n",
       "year rowNum                                                                    \n",
       "2000 1              NaN       NaN       NaN        NaN        NaN        NaN   \n",
       "     2              NaN       NaN       NaN        NaN        NaN        NaN   \n",
       "     3              NaN       NaN       NaN        NaN        NaN        NaN   \n",
       "     4              NaN       NaN       NaN        NaN        NaN        NaN   \n",
       "     5              NaN       NaN       NaN        NaN        NaN        NaN   \n",
       "\n",
       "             NPT43_PUB  NPT41_PRIV  NPT42_PRIV  NPT43_PRIV  TUITFTE  PCTFLOAN  \\\n",
       "year rowNum                                                                     \n",
       "2000 1             NaN         NaN         NaN         NaN   3486.0       NaN   \n",
       "     2             NaN         NaN         NaN         NaN   6348.0       NaN   \n",
       "     3             NaN         NaN         NaN         NaN   5397.0       NaN   \n",
       "     4             NaN         NaN         NaN         NaN   4200.0       NaN   \n",
       "     5             NaN         NaN         NaN         NaN  68868.0       NaN   \n",
       "\n",
       "              CDR2  CDR3 DEBT_MDN GRAD_DEBT_MDN PELL_DEBT_MDN NOPELL_DEBT_MDN  \\\n",
       "year rowNum                                                                     \n",
       "2000 1       0.119   NaN     4625         15374        4617.5          4625.5   \n",
       "     2       0.054   NaN     5000          4125        4766.5            5250   \n",
       "     3       0.016   NaN   5655.5          9900          5500            8087   \n",
       "     4       0.048   NaN     5500       12001.5          5500            5250   \n",
       "     5       0.188   NaN     4000         16814          3938            4768   \n",
       "\n",
       "            MD_FAMINC MD_EARN_WNE_P6 MD_EARN_WNE_P8  C100_4  ICLEVEL  \\\n",
       "year rowNum                                                            \n",
       "2000 1          18979            NaN            NaN     NaN      1.0   \n",
       "     2          22336            NaN            NaN     NaN      1.0   \n",
       "     3          24892            NaN            NaN     NaN      1.0   \n",
       "     4        27289.5            NaN            NaN     NaN      1.0   \n",
       "     5        16584.5            NaN            NaN     NaN      1.0   \n",
       "\n",
       "             C100_4_POOLED_SUPP  OPEFLAG  CIPCODE1  CIPCODE2  CIPCODE3  \\\n",
       "year rowNum                                                              \n",
       "2000 1                      NaN        1       NaN       NaN       NaN   \n",
       "     2                      NaN        1       NaN       NaN       NaN   \n",
       "     3                      NaN        1       NaN       NaN       NaN   \n",
       "     4                      NaN        1       NaN       NaN       NaN   \n",
       "     5                      NaN        1       NaN       NaN       NaN   \n",
       "\n",
       "             FTFTPCTPELL  FTFTPCTFLOAN BBRR1_FED_UG_MAKEPROG  \\\n",
       "year rowNum                                                    \n",
       "2000 1               NaN           NaN                   NaN   \n",
       "     2               NaN           NaN                   NaN   \n",
       "     3               NaN           NaN                   NaN   \n",
       "     4               NaN           NaN                   NaN   \n",
       "     5               NaN           NaN                   NaN   \n",
       "\n",
       "            BBRR1_FED_UG_PAIDINFULL  MD_EARN_WNE_INC1_P6  MD_EARN_WNE_INC2_P6  \\\n",
       "year rowNum                                                                     \n",
       "2000 1                          NaN                  NaN                  NaN   \n",
       "     2                          NaN                  NaN                  NaN   \n",
       "     3                          NaN                  NaN                  NaN   \n",
       "     4                          NaN                  NaN                  NaN   \n",
       "     5                          NaN                  NaN                  NaN   \n",
       "\n",
       "             MD_EARN_WNE_INC3_P6  MD_EARN_WNE_1YR  MD_EARN_WNE_4YR  \n",
       "year rowNum                                                         \n",
       "2000 1                       NaN              NaN              NaN  \n",
       "     2                       NaN              NaN              NaN  \n",
       "     3                       NaN              NaN              NaN  \n",
       "     4                       NaN              NaN              NaN  \n",
       "     5                       NaN              NaN              NaN  "
      ]
     },
     "execution_count": 6,
     "metadata": {},
     "output_type": "execute_result"
    }
   ],
   "source": [
    "fourYear = titleIV[titleIV['ICLEVEL'] == 1]\n",
    "shape = fourYear.shape\n",
    "\n",
    "print(\"[+]  fourYearShape: \", shape)\n",
    "fourYear.head()"
   ]
  },
  {
   "cell_type": "code",
   "execution_count": 7,
   "metadata": {},
   "outputs": [],
   "source": [
    "def ffillByYear(df, colName, flag=False, start=2000, end=2021):\n",
    "    for yr in range(start, end):\n",
    "        x = df.loc[yr]\n",
    "        arr1 = x['UNITID']\n",
    "        idx1 = x.index\n",
    "        \n",
    "        for i, id in enumerate(arr1):\n",
    "            num1 = x[x['UNITID'] == id][colName].iloc[0]\n",
    "            if (np.isnan(num1) or num1 == 0.0):\n",
    "                for nextYr in range(yr + 1, 2021):\n",
    "                    y = df.loc[nextYr]\n",
    "                    num2 = y[y['UNITID'] == id][colName]\n",
    "\n",
    "                    if ( (len(num2) > 0) and (not np.isnan(num2.iloc[0])) and (num2.iloc[0] > 0)):\n",
    "                        if (not flag):\n",
    "                            df.loc[yr].loc[idx1[i], colName] = num2.iloc[0]\n",
    "                        else:\n",
    "                            df.loc[yr].loc[idx1[i], colName] = num2.iloc[0] - 0.05 * num2.iloc[0]\n",
    "                        break "
   ]
  },
  {
   "cell_type": "code",
   "execution_count": 8,
   "metadata": {},
   "outputs": [
    {
     "data": {
      "text/html": [
       "<div>\n",
       "<style scoped>\n",
       "    .dataframe tbody tr th:only-of-type {\n",
       "        vertical-align: middle;\n",
       "    }\n",
       "\n",
       "    .dataframe tbody tr th {\n",
       "        vertical-align: top;\n",
       "    }\n",
       "\n",
       "    .dataframe thead th {\n",
       "        text-align: right;\n",
       "    }\n",
       "</style>\n",
       "<table border=\"1\" class=\"dataframe\">\n",
       "  <thead>\n",
       "    <tr style=\"text-align: right;\">\n",
       "      <th></th>\n",
       "      <th>count</th>\n",
       "      <th>mean</th>\n",
       "      <th>std</th>\n",
       "      <th>min</th>\n",
       "      <th>25%</th>\n",
       "      <th>50%</th>\n",
       "      <th>75%</th>\n",
       "      <th>max</th>\n",
       "    </tr>\n",
       "    <tr>\n",
       "      <th>UNITID</th>\n",
       "      <th></th>\n",
       "      <th></th>\n",
       "      <th></th>\n",
       "      <th></th>\n",
       "      <th></th>\n",
       "      <th></th>\n",
       "      <th></th>\n",
       "      <th></th>\n",
       "    </tr>\n",
       "  </thead>\n",
       "  <tbody>\n",
       "    <tr>\n",
       "      <th>100654</th>\n",
       "      <td>11.0</td>\n",
       "      <td>0.929336</td>\n",
       "      <td>0.023026</td>\n",
       "      <td>0.9022</td>\n",
       "      <td>0.909650</td>\n",
       "      <td>0.92160</td>\n",
       "      <td>0.952650</td>\n",
       "      <td>0.9617</td>\n",
       "    </tr>\n",
       "    <tr>\n",
       "      <th>100663</th>\n",
       "      <td>11.0</td>\n",
       "      <td>0.257464</td>\n",
       "      <td>0.009440</td>\n",
       "      <td>0.2401</td>\n",
       "      <td>0.254700</td>\n",
       "      <td>0.25900</td>\n",
       "      <td>0.264000</td>\n",
       "      <td>0.2684</td>\n",
       "    </tr>\n",
       "    <tr>\n",
       "      <th>100690</th>\n",
       "      <td>11.0</td>\n",
       "      <td>0.469755</td>\n",
       "      <td>0.206927</td>\n",
       "      <td>0.1778</td>\n",
       "      <td>0.342050</td>\n",
       "      <td>0.41920</td>\n",
       "      <td>0.703200</td>\n",
       "      <td>0.7288</td>\n",
       "    </tr>\n",
       "    <tr>\n",
       "      <th>100706</th>\n",
       "      <td>11.0</td>\n",
       "      <td>0.119100</td>\n",
       "      <td>0.021636</td>\n",
       "      <td>0.0879</td>\n",
       "      <td>0.102100</td>\n",
       "      <td>0.12300</td>\n",
       "      <td>0.135900</td>\n",
       "      <td>0.1495</td>\n",
       "    </tr>\n",
       "    <tr>\n",
       "      <th>100724</th>\n",
       "      <td>14.0</td>\n",
       "      <td>0.944443</td>\n",
       "      <td>0.020141</td>\n",
       "      <td>0.9208</td>\n",
       "      <td>0.927750</td>\n",
       "      <td>0.93655</td>\n",
       "      <td>0.955200</td>\n",
       "      <td>0.9776</td>\n",
       "    </tr>\n",
       "    <tr>\n",
       "      <th>...</th>\n",
       "      <td>...</td>\n",
       "      <td>...</td>\n",
       "      <td>...</td>\n",
       "      <td>...</td>\n",
       "      <td>...</td>\n",
       "      <td>...</td>\n",
       "      <td>...</td>\n",
       "      <td>...</td>\n",
       "    </tr>\n",
       "    <tr>\n",
       "      <th>493822</th>\n",
       "      <td>2.0</td>\n",
       "      <td>0.227200</td>\n",
       "      <td>0.001273</td>\n",
       "      <td>0.2263</td>\n",
       "      <td>0.226750</td>\n",
       "      <td>0.22720</td>\n",
       "      <td>0.227650</td>\n",
       "      <td>0.2281</td>\n",
       "    </tr>\n",
       "    <tr>\n",
       "      <th>494621</th>\n",
       "      <td>1.0</td>\n",
       "      <td>0.210500</td>\n",
       "      <td>NaN</td>\n",
       "      <td>0.2105</td>\n",
       "      <td>0.210500</td>\n",
       "      <td>0.21050</td>\n",
       "      <td>0.210500</td>\n",
       "      <td>0.2105</td>\n",
       "    </tr>\n",
       "    <tr>\n",
       "      <th>494685</th>\n",
       "      <td>2.0</td>\n",
       "      <td>0.051950</td>\n",
       "      <td>0.012657</td>\n",
       "      <td>0.0430</td>\n",
       "      <td>0.047475</td>\n",
       "      <td>0.05195</td>\n",
       "      <td>0.056425</td>\n",
       "      <td>0.0609</td>\n",
       "    </tr>\n",
       "    <tr>\n",
       "      <th>495059</th>\n",
       "      <td>1.0</td>\n",
       "      <td>0.083300</td>\n",
       "      <td>NaN</td>\n",
       "      <td>0.0833</td>\n",
       "      <td>0.083300</td>\n",
       "      <td>0.08330</td>\n",
       "      <td>0.083300</td>\n",
       "      <td>0.0833</td>\n",
       "    </tr>\n",
       "    <tr>\n",
       "      <th>495767</th>\n",
       "      <td>1.0</td>\n",
       "      <td>0.058800</td>\n",
       "      <td>NaN</td>\n",
       "      <td>0.0588</td>\n",
       "      <td>0.058800</td>\n",
       "      <td>0.05880</td>\n",
       "      <td>0.058800</td>\n",
       "      <td>0.0588</td>\n",
       "    </tr>\n",
       "  </tbody>\n",
       "</table>\n",
       "<p>2365 rows × 8 columns</p>\n",
       "</div>"
      ],
      "text/plain": [
       "        count      mean       std     min       25%      50%       75%     max\n",
       "UNITID                                                                        \n",
       "100654   11.0  0.929336  0.023026  0.9022  0.909650  0.92160  0.952650  0.9617\n",
       "100663   11.0  0.257464  0.009440  0.2401  0.254700  0.25900  0.264000  0.2684\n",
       "100690   11.0  0.469755  0.206927  0.1778  0.342050  0.41920  0.703200  0.7288\n",
       "100706   11.0  0.119100  0.021636  0.0879  0.102100  0.12300  0.135900  0.1495\n",
       "100724   14.0  0.944443  0.020141  0.9208  0.927750  0.93655  0.955200  0.9776\n",
       "...       ...       ...       ...     ...       ...      ...       ...     ...\n",
       "493822    2.0  0.227200  0.001273  0.2263  0.226750  0.22720  0.227650  0.2281\n",
       "494621    1.0  0.210500       NaN  0.2105  0.210500  0.21050  0.210500  0.2105\n",
       "494685    2.0  0.051950  0.012657  0.0430  0.047475  0.05195  0.056425  0.0609\n",
       "495059    1.0  0.083300       NaN  0.0833  0.083300  0.08330  0.083300  0.0833\n",
       "495767    1.0  0.058800       NaN  0.0588  0.058800  0.05880  0.058800  0.0588\n",
       "\n",
       "[2365 rows x 8 columns]"
      ]
     },
     "execution_count": 8,
     "metadata": {},
     "output_type": "execute_result"
    }
   ],
   "source": [
    "pd.set_option('display.max_rows', 10)\n",
    "filtered_public_institutions = fourYear[(fourYear['UGDS_BLACK'].notna()) & (fourYear['UGDS_BLACK'] != 0.0)]\n",
    "grpInstitutions = filtered_public_institutions.groupby('UNITID')\n",
    "stat = grpInstitutions['UGDS_BLACK'].describe()\n",
    "stat"
   ]
  },
  {
   "cell_type": "code",
   "execution_count": 9,
   "metadata": {},
   "outputs": [
    {
     "data": {
      "text/plain": [
       "Series([], Name: count, dtype: int64)"
      ]
     },
     "execution_count": 9,
     "metadata": {},
     "output_type": "execute_result"
    }
   ],
   "source": [
    "fourYear[fourYear['UNITID'] == 102322.0]['UGDS_WHITE'].value_counts()\n",
    "# Some institutes have NaN all across in UGDS_WHITE"
   ]
  },
  {
   "cell_type": "markdown",
   "metadata": {},
   "source": [
    "UGDS_WHITE: Fraction of undergrads that are white\n",
    "UGDS_BLACK: Fraction of undergrads that are black\n",
    "UGDS_ASIAN: Fraction of undergrads that are asian\n",
    "\n",
    "Below Code handles the NaNs in the UGDS_WHITE, UGDS_BLACK and UGDS_ASIAN columns\n",
    "As we  can see in the above table of stats, there is not much variablity in the UGDS_BLACK column(max and min are very-close and deviation is very\n",
    "low) for a given institution.\n",
    "\n",
    "The code replaces the NaNs and 0s with mean values, and if an institution got established only in that year it replaces the values with minimum valid value in that institution over the next years."
   ]
  },
  {
   "cell_type": "code",
   "execution_count": 10,
   "metadata": {},
   "outputs": [],
   "source": [
    "filtered_institutions = 0 # This code may take upto 10 sec to run.\n",
    "stat = 0\n",
    "\n",
    "def createRaceStat(df, race):\n",
    "    global filtered_institutions\n",
    "    filtered_institutions = df[(df[race].notna()) & (df[race] != 0.0)]\n",
    "    grpInstitutions = filtered_institutions.groupby('UNITID')\n",
    "    stat = grpInstitutions[race].describe()\n",
    "    return stat\n",
    "\n",
    "def updateRace(val, race):\n",
    "    if (val['UNITID'] not in stat.index):\n",
    "        return filtered_institutions[race].min()\n",
    "    elif ( (np.isnan(val[race])) or (val[race] == 0.0) ):\n",
    "        return stat['mean'].loc[val['UNITID']]\n",
    "    return val[race]\n",
    "\n",
    "stat = createRaceStat(fourYear, 'UGDS_WHITE')\n",
    "fourYear.loc[:, 'UGDS_WHITE'] = fourYear[['UNITID', 'UGDS_WHITE']].apply(updateRace, axis=1, race='UGDS_WHITE')\n",
    "\n",
    "stat = createRaceStat(fourYear, 'UGDS_BLACK')\n",
    "fourYear.loc[:, 'UGDS_BLACK'] = fourYear[['UNITID', 'UGDS_BLACK']].apply(updateRace, axis=1, race='UGDS_BLACK')\n",
    "\n",
    "stat = createRaceStat(fourYear, 'UGDS_ASIAN')\n",
    "fourYear.loc[:, 'UGDS_ASIAN'] = fourYear[['UNITID', 'UGDS_ASIAN']].apply(updateRace, axis=1, race='UGDS_ASIAN')"
   ]
  },
  {
   "cell_type": "markdown",
   "metadata": {},
   "source": [
    "UGDS => No. of undergraduates enrolled in a given year.\n",
    "\n",
    "Below code handles the NaNs in UGDS column, by filling it with the next non-null, non-zero value found in the next year that has a valid value in the UGDS column of the same institution.\n",
    "\n",
    "Since number of undergrads enrolled won't change signifincatly between a few years this method is mostly correct"
   ]
  },
  {
   "cell_type": "code",
   "execution_count": 11,
   "metadata": {},
   "outputs": [
    {
     "data": {
      "text/plain": [
       "dtype('float64')"
      ]
     },
     "execution_count": 11,
     "metadata": {},
     "output_type": "execute_result"
    }
   ],
   "source": [
    "ffillByYear(fourYear, 'UGDS') # This code may take upto 40 seconds to run\n",
    "fourYear['UGDS'].dtype"
   ]
  },
  {
   "cell_type": "code",
   "execution_count": 73,
   "metadata": {},
   "outputs": [
    {
     "name": "stdout",
     "output_type": "stream",
     "text": [
      "[+] DataType:  object\n"
     ]
    }
   ],
   "source": [
    "salaryDtype = fourYear['MD_EARN_WNE_P6'].dtype\n",
    "print(\"[+] DataType: \", salaryDtype)"
   ]
  },
  {
   "cell_type": "markdown",
   "metadata": {},
   "source": [
    "Changing the data type to float and replacing the NaNs and PrivacySuppressed values with 0 in the Median Earnings columns"
   ]
  },
  {
   "cell_type": "code",
   "execution_count": 12,
   "metadata": {},
   "outputs": [
    {
     "name": "stderr",
     "output_type": "stream",
     "text": [
      "/var/folders/2v/33p_wnzd3gj0lfp0r82qrhl00000gp/T/ipykernel_1822/2461558728.py:7: SettingWithCopyWarning: \n",
      "A value is trying to be set on a copy of a slice from a DataFrame.\n",
      "Try using .loc[row_indexer,col_indexer] = value instead\n",
      "\n",
      "See the caveats in the documentation: https://pandas.pydata.org/pandas-docs/stable/user_guide/indexing.html#returning-a-view-versus-a-copy\n",
      "  fourYear['MD_EARN_WNE_P6'] = fourYear['MD_EARN_WNE_P6'].apply(updateEarnings)\n",
      "/var/folders/2v/33p_wnzd3gj0lfp0r82qrhl00000gp/T/ipykernel_1822/2461558728.py:8: SettingWithCopyWarning: \n",
      "A value is trying to be set on a copy of a slice from a DataFrame.\n",
      "Try using .loc[row_indexer,col_indexer] = value instead\n",
      "\n",
      "See the caveats in the documentation: https://pandas.pydata.org/pandas-docs/stable/user_guide/indexing.html#returning-a-view-versus-a-copy\n",
      "  fourYear['MD_EARN_WNE_P6'] = fourYear['MD_EARN_WNE_P6'].astype(float)\n",
      "/var/folders/2v/33p_wnzd3gj0lfp0r82qrhl00000gp/T/ipykernel_1822/2461558728.py:10: SettingWithCopyWarning: \n",
      "A value is trying to be set on a copy of a slice from a DataFrame.\n",
      "Try using .loc[row_indexer,col_indexer] = value instead\n",
      "\n",
      "See the caveats in the documentation: https://pandas.pydata.org/pandas-docs/stable/user_guide/indexing.html#returning-a-view-versus-a-copy\n",
      "  fourYear['GRAD_DEBT_MDN'] = fourYear['GRAD_DEBT_MDN'].apply(updateEarnings)\n",
      "/var/folders/2v/33p_wnzd3gj0lfp0r82qrhl00000gp/T/ipykernel_1822/2461558728.py:11: SettingWithCopyWarning: \n",
      "A value is trying to be set on a copy of a slice from a DataFrame.\n",
      "Try using .loc[row_indexer,col_indexer] = value instead\n",
      "\n",
      "See the caveats in the documentation: https://pandas.pydata.org/pandas-docs/stable/user_guide/indexing.html#returning-a-view-versus-a-copy\n",
      "  fourYear['GRAD_DEBT_MDN'] = fourYear['GRAD_DEBT_MDN'].astype(float)\n"
     ]
    }
   ],
   "source": [
    "#Clean the MD_EARN_WNE_P6\n",
    "def updateEarnings(val):\n",
    "    if (val == 'PrivacySuppressed' or pd.isna(val)):\n",
    "        return 0.0\n",
    "    return float(val)\n",
    "\n",
    "fourYear['MD_EARN_WNE_P6'] = fourYear['MD_EARN_WNE_P6'].apply(updateEarnings)\n",
    "fourYear['MD_EARN_WNE_P6'] = fourYear['MD_EARN_WNE_P6'].astype(float)\n",
    "\n",
    "fourYear['GRAD_DEBT_MDN'] = fourYear['GRAD_DEBT_MDN'].apply(updateEarnings)\n",
    "fourYear['GRAD_DEBT_MDN'] = fourYear['GRAD_DEBT_MDN'].astype(float)"
   ]
  },
  {
   "cell_type": "code",
   "execution_count": 13,
   "metadata": {},
   "outputs": [],
   "source": [
    "# Generating the required columns\n",
    "reqCols = ['UNITID', 'INSTNM', 'CONTROL', 'ADM_RATE_ALL', 'C100_4', 'SAT_AVG_ALL', 'UGDS', 'UGDS_WHITE', 'UGDS_BLACK', 'UGDS_ASIAN', 'UGDS_HISP', 'MD_EARN_WNE_P6', 'GRAD_DEBT_MDN', 'FTFTPCTFLOAN', 'NPT4_PRIV', 'NPT4_PUB', 'NPT41_PUB', 'NPT41_PRIV', 'NPT42_PUB', 'NPT42_PRIV', 'NPT43_PUB', 'NPT43_PRIV']\n",
    "\n",
    "for num in availCourseCode:\n",
    "    reqCols.append('PCIP' + str(f\"{num:02d}\"))"
   ]
  },
  {
   "cell_type": "code",
   "execution_count": 14,
   "metadata": {},
   "outputs": [],
   "source": [
    "# fourYear[fourYear['INSTNM'].str.contains('Duke University')]"
   ]
  },
  {
   "cell_type": "markdown",
   "metadata": {},
   "source": [
    "## University Selection\n",
    "<br>\n",
    "The top Universities have been selected from the QS World University Ranking List<br>\n",
    "We have Selected 15 top-tier universities for analysis purpose.<br>\n",
    "'Massachusetts Institute of Technology(#1)', 'Harvard University(#2)', 'Stanford University(#3)', 'University of Pennsylvania(#6)', 'California Institute of Technology(#8)', <br>\n",
    "'Princeton University(#10)', 'Johns Hopkins University(#12)', 'Northwestern University(#16)', 'University of Texas at Austin(#19)', 'Brown University(#23)'<br>\n",
    "'Duke University(#18)', 'Georgia Institute of Technology-Main Campus(#26)', 'University of Florida(#38)', 'Dartmouth College(#45)', 'Vanderbilt University(#49)', <br><br>\n",
    "\n",
    "For Tier-2 I have just searched for the name of some good Tier-2 institutes over the web like in quora\n",
    "The 15 Tier-2 Universities selected are:<br>\n",
    "'Kentucky State University', 'Cheyney University of Pennsylvania', 'University of North Texas', 'University of the Southwest',<br>\n",
    "'University of Nevada-Reno', 'University of South Florida', 'University of Arizona', 'Wichita State University', 'Bethune-Cookman University', 'Bennett College'<br>\n",
    "'Louisiana Tech University', 'Ball State University', 'Colorado School of Mines', 'Drexel University', 'Fordham University'<br>\n"
   ]
  },
  {
   "cell_type": "code",
   "execution_count": 15,
   "metadata": {},
   "outputs": [
    {
     "data": {
      "text/html": [
       "<div>\n",
       "<style scoped>\n",
       "    .dataframe tbody tr th:only-of-type {\n",
       "        vertical-align: middle;\n",
       "    }\n",
       "\n",
       "    .dataframe tbody tr th {\n",
       "        vertical-align: top;\n",
       "    }\n",
       "\n",
       "    .dataframe thead th {\n",
       "        text-align: right;\n",
       "    }\n",
       "</style>\n",
       "<table border=\"1\" class=\"dataframe\">\n",
       "  <thead>\n",
       "    <tr style=\"text-align: right;\">\n",
       "      <th></th>\n",
       "      <th></th>\n",
       "      <th>UNITID</th>\n",
       "      <th>INSTNM</th>\n",
       "      <th>CONTROL</th>\n",
       "      <th>ADM_RATE_ALL</th>\n",
       "      <th>C100_4</th>\n",
       "      <th>SAT_AVG_ALL</th>\n",
       "      <th>UGDS</th>\n",
       "      <th>UGDS_WHITE</th>\n",
       "      <th>UGDS_BLACK</th>\n",
       "      <th>UGDS_ASIAN</th>\n",
       "      <th>UGDS_HISP</th>\n",
       "      <th>MD_EARN_WNE_P6</th>\n",
       "      <th>GRAD_DEBT_MDN</th>\n",
       "      <th>FTFTPCTFLOAN</th>\n",
       "      <th>NPT4_PRIV</th>\n",
       "      <th>NPT4_PUB</th>\n",
       "      <th>NPT41_PUB</th>\n",
       "      <th>NPT41_PRIV</th>\n",
       "      <th>NPT42_PUB</th>\n",
       "      <th>NPT42_PRIV</th>\n",
       "      <th>NPT43_PUB</th>\n",
       "      <th>NPT43_PRIV</th>\n",
       "      <th>PCIP01</th>\n",
       "      <th>PCIP03</th>\n",
       "      <th>PCIP05</th>\n",
       "      <th>PCIP09</th>\n",
       "      <th>PCIP10</th>\n",
       "      <th>PCIP11</th>\n",
       "      <th>PCIP12</th>\n",
       "      <th>PCIP13</th>\n",
       "      <th>PCIP14</th>\n",
       "      <th>PCIP15</th>\n",
       "      <th>PCIP16</th>\n",
       "      <th>PCIP19</th>\n",
       "      <th>PCIP22</th>\n",
       "      <th>PCIP23</th>\n",
       "      <th>PCIP24</th>\n",
       "      <th>PCIP25</th>\n",
       "      <th>PCIP26</th>\n",
       "      <th>PCIP27</th>\n",
       "      <th>PCIP29</th>\n",
       "      <th>PCIP30</th>\n",
       "      <th>PCIP31</th>\n",
       "      <th>PCIP38</th>\n",
       "      <th>PCIP39</th>\n",
       "      <th>PCIP40</th>\n",
       "      <th>PCIP41</th>\n",
       "      <th>PCIP42</th>\n",
       "      <th>PCIP43</th>\n",
       "      <th>PCIP44</th>\n",
       "      <th>PCIP45</th>\n",
       "      <th>PCIP46</th>\n",
       "      <th>PCIP47</th>\n",
       "      <th>PCIP48</th>\n",
       "      <th>PCIP49</th>\n",
       "      <th>PCIP50</th>\n",
       "      <th>PCIP51</th>\n",
       "      <th>PCIP52</th>\n",
       "      <th>PCIP54</th>\n",
       "    </tr>\n",
       "    <tr>\n",
       "      <th>year</th>\n",
       "      <th>rowNum</th>\n",
       "      <th></th>\n",
       "      <th></th>\n",
       "      <th></th>\n",
       "      <th></th>\n",
       "      <th></th>\n",
       "      <th></th>\n",
       "      <th></th>\n",
       "      <th></th>\n",
       "      <th></th>\n",
       "      <th></th>\n",
       "      <th></th>\n",
       "      <th></th>\n",
       "      <th></th>\n",
       "      <th></th>\n",
       "      <th></th>\n",
       "      <th></th>\n",
       "      <th></th>\n",
       "      <th></th>\n",
       "      <th></th>\n",
       "      <th></th>\n",
       "      <th></th>\n",
       "      <th></th>\n",
       "      <th></th>\n",
       "      <th></th>\n",
       "      <th></th>\n",
       "      <th></th>\n",
       "      <th></th>\n",
       "      <th></th>\n",
       "      <th></th>\n",
       "      <th></th>\n",
       "      <th></th>\n",
       "      <th></th>\n",
       "      <th></th>\n",
       "      <th></th>\n",
       "      <th></th>\n",
       "      <th></th>\n",
       "      <th></th>\n",
       "      <th></th>\n",
       "      <th></th>\n",
       "      <th></th>\n",
       "      <th></th>\n",
       "      <th></th>\n",
       "      <th></th>\n",
       "      <th></th>\n",
       "      <th></th>\n",
       "      <th></th>\n",
       "      <th></th>\n",
       "      <th></th>\n",
       "      <th></th>\n",
       "      <th></th>\n",
       "      <th></th>\n",
       "      <th></th>\n",
       "      <th></th>\n",
       "      <th></th>\n",
       "      <th></th>\n",
       "      <th></th>\n",
       "      <th></th>\n",
       "      <th></th>\n",
       "      <th></th>\n",
       "    </tr>\n",
       "  </thead>\n",
       "  <tbody>\n",
       "    <tr>\n",
       "      <th rowspan=\"5\" valign=\"top\">2000</th>\n",
       "      <th>271</th>\n",
       "      <td>110404</td>\n",
       "      <td>California Institute of Technology</td>\n",
       "      <td>2.0</td>\n",
       "      <td>NaN</td>\n",
       "      <td>NaN</td>\n",
       "      <td>NaN</td>\n",
       "      <td>942.0</td>\n",
       "      <td>0.294009</td>\n",
       "      <td>0.015191</td>\n",
       "      <td>0.411036</td>\n",
       "      <td>NaN</td>\n",
       "      <td>0.0</td>\n",
       "      <td>5625.0</td>\n",
       "      <td>NaN</td>\n",
       "      <td>NaN</td>\n",
       "      <td>NaN</td>\n",
       "      <td>NaN</td>\n",
       "      <td>NaN</td>\n",
       "      <td>NaN</td>\n",
       "      <td>NaN</td>\n",
       "      <td>NaN</td>\n",
       "      <td>NaN</td>\n",
       "      <td>0.00</td>\n",
       "      <td>0.0000</td>\n",
       "      <td>0.0000</td>\n",
       "      <td>0.0000</td>\n",
       "      <td>0.0000</td>\n",
       "      <td>0.0000</td>\n",
       "      <td>0.0</td>\n",
       "      <td>0.0000</td>\n",
       "      <td>0.4752</td>\n",
       "      <td>0.0000</td>\n",
       "      <td>0.0000</td>\n",
       "      <td>0.0000</td>\n",
       "      <td>0.0000</td>\n",
       "      <td>0.0000</td>\n",
       "      <td>0.0000</td>\n",
       "      <td>0.0</td>\n",
       "      <td>0.1139</td>\n",
       "      <td>0.0594</td>\n",
       "      <td>0.0</td>\n",
       "      <td>0.0000</td>\n",
       "      <td>0.000</td>\n",
       "      <td>0.0000</td>\n",
       "      <td>0.0</td>\n",
       "      <td>0.3267</td>\n",
       "      <td>0.0</td>\n",
       "      <td>0.0000</td>\n",
       "      <td>0.0000</td>\n",
       "      <td>0.0000</td>\n",
       "      <td>0.0248</td>\n",
       "      <td>0.0</td>\n",
       "      <td>0.0</td>\n",
       "      <td>0.0</td>\n",
       "      <td>0.0</td>\n",
       "      <td>0.0000</td>\n",
       "      <td>0.0000</td>\n",
       "      <td>0.0000</td>\n",
       "      <td>0.0000</td>\n",
       "    </tr>\n",
       "    <tr>\n",
       "      <th>890</th>\n",
       "      <td>134130</td>\n",
       "      <td>University of Florida</td>\n",
       "      <td>1.0</td>\n",
       "      <td>NaN</td>\n",
       "      <td>NaN</td>\n",
       "      <td>NaN</td>\n",
       "      <td>32598.0</td>\n",
       "      <td>0.560891</td>\n",
       "      <td>0.069900</td>\n",
       "      <td>0.083100</td>\n",
       "      <td>NaN</td>\n",
       "      <td>0.0</td>\n",
       "      <td>12261.0</td>\n",
       "      <td>NaN</td>\n",
       "      <td>NaN</td>\n",
       "      <td>NaN</td>\n",
       "      <td>NaN</td>\n",
       "      <td>NaN</td>\n",
       "      <td>NaN</td>\n",
       "      <td>NaN</td>\n",
       "      <td>NaN</td>\n",
       "      <td>NaN</td>\n",
       "      <td>0.05</td>\n",
       "      <td>0.0171</td>\n",
       "      <td>0.0001</td>\n",
       "      <td>0.0818</td>\n",
       "      <td>0.0000</td>\n",
       "      <td>0.0093</td>\n",
       "      <td>0.0</td>\n",
       "      <td>0.0624</td>\n",
       "      <td>0.0986</td>\n",
       "      <td>0.0167</td>\n",
       "      <td>0.0082</td>\n",
       "      <td>0.0076</td>\n",
       "      <td>0.0000</td>\n",
       "      <td>0.0321</td>\n",
       "      <td>0.0519</td>\n",
       "      <td>0.0</td>\n",
       "      <td>0.0458</td>\n",
       "      <td>0.0088</td>\n",
       "      <td>0.0</td>\n",
       "      <td>0.0069</td>\n",
       "      <td>0.031</td>\n",
       "      <td>0.0051</td>\n",
       "      <td>0.0</td>\n",
       "      <td>0.0077</td>\n",
       "      <td>0.0</td>\n",
       "      <td>0.0491</td>\n",
       "      <td>0.0198</td>\n",
       "      <td>0.0000</td>\n",
       "      <td>0.0732</td>\n",
       "      <td>0.0</td>\n",
       "      <td>0.0</td>\n",
       "      <td>0.0</td>\n",
       "      <td>0.0</td>\n",
       "      <td>0.0271</td>\n",
       "      <td>0.0640</td>\n",
       "      <td>0.1890</td>\n",
       "      <td>0.0216</td>\n",
       "    </tr>\n",
       "    <tr>\n",
       "      <th>1062</th>\n",
       "      <td>139755</td>\n",
       "      <td>Georgia Institute of Technology-Main Campus</td>\n",
       "      <td>1.0</td>\n",
       "      <td>NaN</td>\n",
       "      <td>NaN</td>\n",
       "      <td>NaN</td>\n",
       "      <td>10888.0</td>\n",
       "      <td>0.540877</td>\n",
       "      <td>0.065469</td>\n",
       "      <td>0.190685</td>\n",
       "      <td>NaN</td>\n",
       "      <td>0.0</td>\n",
       "      <td>15250.0</td>\n",
       "      <td>NaN</td>\n",
       "      <td>NaN</td>\n",
       "      <td>NaN</td>\n",
       "      <td>NaN</td>\n",
       "      <td>NaN</td>\n",
       "      <td>NaN</td>\n",
       "      <td>NaN</td>\n",
       "      <td>NaN</td>\n",
       "      <td>NaN</td>\n",
       "      <td>0.00</td>\n",
       "      <td>0.0000</td>\n",
       "      <td>0.0000</td>\n",
       "      <td>0.0000</td>\n",
       "      <td>0.0000</td>\n",
       "      <td>0.1021</td>\n",
       "      <td>0.0</td>\n",
       "      <td>0.0000</td>\n",
       "      <td>0.6073</td>\n",
       "      <td>0.0128</td>\n",
       "      <td>0.0000</td>\n",
       "      <td>0.0000</td>\n",
       "      <td>0.0000</td>\n",
       "      <td>0.0000</td>\n",
       "      <td>0.0000</td>\n",
       "      <td>0.0</td>\n",
       "      <td>0.0247</td>\n",
       "      <td>0.0030</td>\n",
       "      <td>0.0</td>\n",
       "      <td>0.0089</td>\n",
       "      <td>0.000</td>\n",
       "      <td>0.0000</td>\n",
       "      <td>0.0</td>\n",
       "      <td>0.0261</td>\n",
       "      <td>0.0</td>\n",
       "      <td>0.0089</td>\n",
       "      <td>0.0000</td>\n",
       "      <td>0.0000</td>\n",
       "      <td>0.0247</td>\n",
       "      <td>0.0</td>\n",
       "      <td>0.0</td>\n",
       "      <td>0.0</td>\n",
       "      <td>0.0</td>\n",
       "      <td>0.0158</td>\n",
       "      <td>0.0000</td>\n",
       "      <td>0.1347</td>\n",
       "      <td>0.0069</td>\n",
       "    </tr>\n",
       "    <tr>\n",
       "      <th>1316</th>\n",
       "      <td>147767</td>\n",
       "      <td>Northwestern University</td>\n",
       "      <td>2.0</td>\n",
       "      <td>NaN</td>\n",
       "      <td>NaN</td>\n",
       "      <td>NaN</td>\n",
       "      <td>8158.0</td>\n",
       "      <td>0.501118</td>\n",
       "      <td>0.057455</td>\n",
       "      <td>0.178409</td>\n",
       "      <td>NaN</td>\n",
       "      <td>0.0</td>\n",
       "      <td>11359.0</td>\n",
       "      <td>NaN</td>\n",
       "      <td>NaN</td>\n",
       "      <td>NaN</td>\n",
       "      <td>NaN</td>\n",
       "      <td>NaN</td>\n",
       "      <td>NaN</td>\n",
       "      <td>NaN</td>\n",
       "      <td>NaN</td>\n",
       "      <td>NaN</td>\n",
       "      <td>0.00</td>\n",
       "      <td>0.0005</td>\n",
       "      <td>0.0065</td>\n",
       "      <td>0.1148</td>\n",
       "      <td>0.0000</td>\n",
       "      <td>0.0249</td>\n",
       "      <td>0.0</td>\n",
       "      <td>0.0109</td>\n",
       "      <td>0.1670</td>\n",
       "      <td>0.0000</td>\n",
       "      <td>0.0258</td>\n",
       "      <td>0.0000</td>\n",
       "      <td>0.0000</td>\n",
       "      <td>0.1108</td>\n",
       "      <td>0.0035</td>\n",
       "      <td>0.0</td>\n",
       "      <td>0.0601</td>\n",
       "      <td>0.0114</td>\n",
       "      <td>0.0</td>\n",
       "      <td>0.0139</td>\n",
       "      <td>0.000</td>\n",
       "      <td>0.0070</td>\n",
       "      <td>0.0</td>\n",
       "      <td>0.0109</td>\n",
       "      <td>0.0</td>\n",
       "      <td>0.0775</td>\n",
       "      <td>0.0000</td>\n",
       "      <td>0.0159</td>\n",
       "      <td>0.1585</td>\n",
       "      <td>0.0</td>\n",
       "      <td>0.0</td>\n",
       "      <td>0.0</td>\n",
       "      <td>0.0</td>\n",
       "      <td>0.1064</td>\n",
       "      <td>0.0134</td>\n",
       "      <td>0.0154</td>\n",
       "      <td>0.0447</td>\n",
       "    </tr>\n",
       "    <tr>\n",
       "      <th>1917</th>\n",
       "      <td>162928</td>\n",
       "      <td>Johns Hopkins University</td>\n",
       "      <td>2.0</td>\n",
       "      <td>NaN</td>\n",
       "      <td>NaN</td>\n",
       "      <td>NaN</td>\n",
       "      <td>5125.0</td>\n",
       "      <td>0.405309</td>\n",
       "      <td>0.062418</td>\n",
       "      <td>0.225018</td>\n",
       "      <td>NaN</td>\n",
       "      <td>0.0</td>\n",
       "      <td>14500.0</td>\n",
       "      <td>NaN</td>\n",
       "      <td>NaN</td>\n",
       "      <td>NaN</td>\n",
       "      <td>NaN</td>\n",
       "      <td>NaN</td>\n",
       "      <td>NaN</td>\n",
       "      <td>NaN</td>\n",
       "      <td>NaN</td>\n",
       "      <td>NaN</td>\n",
       "      <td>0.00</td>\n",
       "      <td>0.0000</td>\n",
       "      <td>0.0030</td>\n",
       "      <td>0.0000</td>\n",
       "      <td>0.0015</td>\n",
       "      <td>0.0286</td>\n",
       "      <td>0.0</td>\n",
       "      <td>0.0008</td>\n",
       "      <td>0.1792</td>\n",
       "      <td>0.0000</td>\n",
       "      <td>0.0113</td>\n",
       "      <td>0.0000</td>\n",
       "      <td>0.0000</td>\n",
       "      <td>0.0474</td>\n",
       "      <td>0.0151</td>\n",
       "      <td>0.0</td>\n",
       "      <td>0.0738</td>\n",
       "      <td>0.0136</td>\n",
       "      <td>0.0</td>\n",
       "      <td>0.0377</td>\n",
       "      <td>0.000</td>\n",
       "      <td>0.0008</td>\n",
       "      <td>0.0</td>\n",
       "      <td>0.0226</td>\n",
       "      <td>0.0</td>\n",
       "      <td>0.0467</td>\n",
       "      <td>0.0000</td>\n",
       "      <td>0.0000</td>\n",
       "      <td>0.1875</td>\n",
       "      <td>0.0</td>\n",
       "      <td>0.0</td>\n",
       "      <td>0.0</td>\n",
       "      <td>0.0</td>\n",
       "      <td>0.0693</td>\n",
       "      <td>0.1890</td>\n",
       "      <td>0.0535</td>\n",
       "      <td>0.0188</td>\n",
       "    </tr>\n",
       "    <tr>\n",
       "      <th>...</th>\n",
       "      <th>...</th>\n",
       "      <td>...</td>\n",
       "      <td>...</td>\n",
       "      <td>...</td>\n",
       "      <td>...</td>\n",
       "      <td>...</td>\n",
       "      <td>...</td>\n",
       "      <td>...</td>\n",
       "      <td>...</td>\n",
       "      <td>...</td>\n",
       "      <td>...</td>\n",
       "      <td>...</td>\n",
       "      <td>...</td>\n",
       "      <td>...</td>\n",
       "      <td>...</td>\n",
       "      <td>...</td>\n",
       "      <td>...</td>\n",
       "      <td>...</td>\n",
       "      <td>...</td>\n",
       "      <td>...</td>\n",
       "      <td>...</td>\n",
       "      <td>...</td>\n",
       "      <td>...</td>\n",
       "      <td>...</td>\n",
       "      <td>...</td>\n",
       "      <td>...</td>\n",
       "      <td>...</td>\n",
       "      <td>...</td>\n",
       "      <td>...</td>\n",
       "      <td>...</td>\n",
       "      <td>...</td>\n",
       "      <td>...</td>\n",
       "      <td>...</td>\n",
       "      <td>...</td>\n",
       "      <td>...</td>\n",
       "      <td>...</td>\n",
       "      <td>...</td>\n",
       "      <td>...</td>\n",
       "      <td>...</td>\n",
       "      <td>...</td>\n",
       "      <td>...</td>\n",
       "      <td>...</td>\n",
       "      <td>...</td>\n",
       "      <td>...</td>\n",
       "      <td>...</td>\n",
       "      <td>...</td>\n",
       "      <td>...</td>\n",
       "      <td>...</td>\n",
       "      <td>...</td>\n",
       "      <td>...</td>\n",
       "      <td>...</td>\n",
       "      <td>...</td>\n",
       "      <td>...</td>\n",
       "      <td>...</td>\n",
       "      <td>...</td>\n",
       "      <td>...</td>\n",
       "      <td>...</td>\n",
       "      <td>...</td>\n",
       "      <td>...</td>\n",
       "      <td>...</td>\n",
       "    </tr>\n",
       "    <tr>\n",
       "      <th rowspan=\"5\" valign=\"top\">2021</th>\n",
       "      <th>2341</th>\n",
       "      <td>198419</td>\n",
       "      <td>Duke University</td>\n",
       "      <td>2.0</td>\n",
       "      <td>0.0774</td>\n",
       "      <td>0.8842</td>\n",
       "      <td>1530.0</td>\n",
       "      <td>6650.0</td>\n",
       "      <td>0.405700</td>\n",
       "      <td>0.087500</td>\n",
       "      <td>0.214400</td>\n",
       "      <td>0.1159</td>\n",
       "      <td>0.0</td>\n",
       "      <td>13000.0</td>\n",
       "      <td>0.1883</td>\n",
       "      <td>32459.0</td>\n",
       "      <td>NaN</td>\n",
       "      <td>NaN</td>\n",
       "      <td>371.0</td>\n",
       "      <td>NaN</td>\n",
       "      <td>-927.0</td>\n",
       "      <td>NaN</td>\n",
       "      <td>7160.0</td>\n",
       "      <td>0.00</td>\n",
       "      <td>0.0208</td>\n",
       "      <td>0.0120</td>\n",
       "      <td>0.0005</td>\n",
       "      <td>0.0000</td>\n",
       "      <td>0.1213</td>\n",
       "      <td>0.0</td>\n",
       "      <td>0.0135</td>\n",
       "      <td>0.1473</td>\n",
       "      <td>0.0000</td>\n",
       "      <td>0.0094</td>\n",
       "      <td>0.0000</td>\n",
       "      <td>0.0000</td>\n",
       "      <td>0.0208</td>\n",
       "      <td>0.0000</td>\n",
       "      <td>0.0</td>\n",
       "      <td>0.1359</td>\n",
       "      <td>0.0307</td>\n",
       "      <td>0.0</td>\n",
       "      <td>0.0047</td>\n",
       "      <td>0.000</td>\n",
       "      <td>0.0047</td>\n",
       "      <td>0.0</td>\n",
       "      <td>0.0229</td>\n",
       "      <td>0.0</td>\n",
       "      <td>0.0573</td>\n",
       "      <td>0.0000</td>\n",
       "      <td>0.1109</td>\n",
       "      <td>0.1801</td>\n",
       "      <td>0.0</td>\n",
       "      <td>0.0</td>\n",
       "      <td>0.0</td>\n",
       "      <td>0.0</td>\n",
       "      <td>0.0177</td>\n",
       "      <td>0.0692</td>\n",
       "      <td>0.0000</td>\n",
       "      <td>0.0203</td>\n",
       "    </tr>\n",
       "    <tr>\n",
       "      <th>2874</th>\n",
       "      <td>215062</td>\n",
       "      <td>University of Pennsylvania</td>\n",
       "      <td>2.0</td>\n",
       "      <td>0.0898</td>\n",
       "      <td>0.8580</td>\n",
       "      <td>1517.0</td>\n",
       "      <td>10507.0</td>\n",
       "      <td>0.373400</td>\n",
       "      <td>0.078700</td>\n",
       "      <td>0.238400</td>\n",
       "      <td>0.1022</td>\n",
       "      <td>0.0</td>\n",
       "      <td>15715.0</td>\n",
       "      <td>0.1141</td>\n",
       "      <td>25046.0</td>\n",
       "      <td>NaN</td>\n",
       "      <td>NaN</td>\n",
       "      <td>580.0</td>\n",
       "      <td>NaN</td>\n",
       "      <td>1938.0</td>\n",
       "      <td>NaN</td>\n",
       "      <td>12020.0</td>\n",
       "      <td>0.00</td>\n",
       "      <td>0.0037</td>\n",
       "      <td>0.0050</td>\n",
       "      <td>0.0245</td>\n",
       "      <td>0.0000</td>\n",
       "      <td>0.0712</td>\n",
       "      <td>0.0</td>\n",
       "      <td>0.0000</td>\n",
       "      <td>0.0846</td>\n",
       "      <td>0.0000</td>\n",
       "      <td>0.0131</td>\n",
       "      <td>0.0000</td>\n",
       "      <td>0.0000</td>\n",
       "      <td>0.0248</td>\n",
       "      <td>0.0040</td>\n",
       "      <td>0.0</td>\n",
       "      <td>0.1007</td>\n",
       "      <td>0.0326</td>\n",
       "      <td>0.0</td>\n",
       "      <td>0.0352</td>\n",
       "      <td>0.000</td>\n",
       "      <td>0.0507</td>\n",
       "      <td>0.0</td>\n",
       "      <td>0.0272</td>\n",
       "      <td>0.0</td>\n",
       "      <td>0.0282</td>\n",
       "      <td>0.0000</td>\n",
       "      <td>0.0037</td>\n",
       "      <td>0.1514</td>\n",
       "      <td>0.0</td>\n",
       "      <td>0.0</td>\n",
       "      <td>0.0</td>\n",
       "      <td>0.0</td>\n",
       "      <td>0.0252</td>\n",
       "      <td>0.0920</td>\n",
       "      <td>0.2004</td>\n",
       "      <td>0.0168</td>\n",
       "    </tr>\n",
       "    <tr>\n",
       "      <th>2951</th>\n",
       "      <td>217156</td>\n",
       "      <td>Brown University</td>\n",
       "      <td>2.0</td>\n",
       "      <td>0.0767</td>\n",
       "      <td>0.8383</td>\n",
       "      <td>1508.0</td>\n",
       "      <td>6632.0</td>\n",
       "      <td>0.416200</td>\n",
       "      <td>0.072400</td>\n",
       "      <td>0.185000</td>\n",
       "      <td>0.1114</td>\n",
       "      <td>0.0</td>\n",
       "      <td>11428.0</td>\n",
       "      <td>0.1145</td>\n",
       "      <td>29544.0</td>\n",
       "      <td>NaN</td>\n",
       "      <td>NaN</td>\n",
       "      <td>1468.0</td>\n",
       "      <td>NaN</td>\n",
       "      <td>2842.0</td>\n",
       "      <td>NaN</td>\n",
       "      <td>10219.0</td>\n",
       "      <td>0.00</td>\n",
       "      <td>0.0195</td>\n",
       "      <td>0.0201</td>\n",
       "      <td>0.0143</td>\n",
       "      <td>0.0000</td>\n",
       "      <td>0.1228</td>\n",
       "      <td>0.0</td>\n",
       "      <td>0.0103</td>\n",
       "      <td>0.0425</td>\n",
       "      <td>0.0000</td>\n",
       "      <td>0.0178</td>\n",
       "      <td>0.0000</td>\n",
       "      <td>0.0000</td>\n",
       "      <td>0.0562</td>\n",
       "      <td>0.0000</td>\n",
       "      <td>0.0</td>\n",
       "      <td>0.0998</td>\n",
       "      <td>0.1061</td>\n",
       "      <td>0.0</td>\n",
       "      <td>0.0579</td>\n",
       "      <td>0.000</td>\n",
       "      <td>0.0109</td>\n",
       "      <td>0.0</td>\n",
       "      <td>0.0356</td>\n",
       "      <td>0.0</td>\n",
       "      <td>0.0321</td>\n",
       "      <td>0.0000</td>\n",
       "      <td>0.0235</td>\n",
       "      <td>0.1933</td>\n",
       "      <td>0.0</td>\n",
       "      <td>0.0</td>\n",
       "      <td>0.0</td>\n",
       "      <td>0.0</td>\n",
       "      <td>0.0321</td>\n",
       "      <td>0.0252</td>\n",
       "      <td>0.0321</td>\n",
       "      <td>0.0407</td>\n",
       "    </tr>\n",
       "    <tr>\n",
       "      <th>3141</th>\n",
       "      <td>221999</td>\n",
       "      <td>Vanderbilt University</td>\n",
       "      <td>2.0</td>\n",
       "      <td>0.1162</td>\n",
       "      <td>0.8844</td>\n",
       "      <td>1520.0</td>\n",
       "      <td>7052.0</td>\n",
       "      <td>0.424300</td>\n",
       "      <td>0.110500</td>\n",
       "      <td>0.160000</td>\n",
       "      <td>0.1007</td>\n",
       "      <td>0.0</td>\n",
       "      <td>14000.0</td>\n",
       "      <td>0.1085</td>\n",
       "      <td>19970.0</td>\n",
       "      <td>NaN</td>\n",
       "      <td>NaN</td>\n",
       "      <td>3176.0</td>\n",
       "      <td>NaN</td>\n",
       "      <td>4652.0</td>\n",
       "      <td>NaN</td>\n",
       "      <td>7694.0</td>\n",
       "      <td>0.00</td>\n",
       "      <td>0.0000</td>\n",
       "      <td>0.0136</td>\n",
       "      <td>0.0106</td>\n",
       "      <td>0.0000</td>\n",
       "      <td>0.0674</td>\n",
       "      <td>0.0</td>\n",
       "      <td>0.0301</td>\n",
       "      <td>0.1507</td>\n",
       "      <td>0.0000</td>\n",
       "      <td>0.0118</td>\n",
       "      <td>0.0053</td>\n",
       "      <td>0.0089</td>\n",
       "      <td>0.0195</td>\n",
       "      <td>0.0000</td>\n",
       "      <td>0.0</td>\n",
       "      <td>0.0839</td>\n",
       "      <td>0.0201</td>\n",
       "      <td>0.0</td>\n",
       "      <td>0.1342</td>\n",
       "      <td>0.000</td>\n",
       "      <td>0.0089</td>\n",
       "      <td>0.0</td>\n",
       "      <td>0.0177</td>\n",
       "      <td>0.0</td>\n",
       "      <td>0.0349</td>\n",
       "      <td>0.0000</td>\n",
       "      <td>0.0118</td>\n",
       "      <td>0.3061</td>\n",
       "      <td>0.0</td>\n",
       "      <td>0.0</td>\n",
       "      <td>0.0</td>\n",
       "      <td>0.0</td>\n",
       "      <td>0.0414</td>\n",
       "      <td>0.0000</td>\n",
       "      <td>0.0000</td>\n",
       "      <td>0.0230</td>\n",
       "    </tr>\n",
       "    <tr>\n",
       "      <th>3696</th>\n",
       "      <td>243744</td>\n",
       "      <td>Stanford University</td>\n",
       "      <td>2.0</td>\n",
       "      <td>0.0519</td>\n",
       "      <td>0.7400</td>\n",
       "      <td>1491.0</td>\n",
       "      <td>6366.0</td>\n",
       "      <td>0.290000</td>\n",
       "      <td>0.074300</td>\n",
       "      <td>0.248000</td>\n",
       "      <td>0.1700</td>\n",
       "      <td>0.0</td>\n",
       "      <td>12000.0</td>\n",
       "      <td>0.0612</td>\n",
       "      <td>12894.0</td>\n",
       "      <td>NaN</td>\n",
       "      <td>NaN</td>\n",
       "      <td>1233.0</td>\n",
       "      <td>NaN</td>\n",
       "      <td>1581.0</td>\n",
       "      <td>NaN</td>\n",
       "      <td>7081.0</td>\n",
       "      <td>0.00</td>\n",
       "      <td>0.0000</td>\n",
       "      <td>0.0330</td>\n",
       "      <td>0.0112</td>\n",
       "      <td>0.0000</td>\n",
       "      <td>0.1797</td>\n",
       "      <td>0.0</td>\n",
       "      <td>0.0000</td>\n",
       "      <td>0.1674</td>\n",
       "      <td>0.0436</td>\n",
       "      <td>0.0224</td>\n",
       "      <td>0.0000</td>\n",
       "      <td>0.0000</td>\n",
       "      <td>0.0277</td>\n",
       "      <td>0.0000</td>\n",
       "      <td>0.0</td>\n",
       "      <td>0.0371</td>\n",
       "      <td>0.0513</td>\n",
       "      <td>0.0</td>\n",
       "      <td>0.1662</td>\n",
       "      <td>0.000</td>\n",
       "      <td>0.0100</td>\n",
       "      <td>0.0</td>\n",
       "      <td>0.0383</td>\n",
       "      <td>0.0</td>\n",
       "      <td>0.0271</td>\n",
       "      <td>0.0000</td>\n",
       "      <td>0.0106</td>\n",
       "      <td>0.1308</td>\n",
       "      <td>0.0</td>\n",
       "      <td>0.0</td>\n",
       "      <td>0.0</td>\n",
       "      <td>0.0</td>\n",
       "      <td>0.0259</td>\n",
       "      <td>0.0000</td>\n",
       "      <td>0.0000</td>\n",
       "      <td>0.0177</td>\n",
       "    </tr>\n",
       "  </tbody>\n",
       "</table>\n",
       "<p>330 rows × 59 columns</p>\n",
       "</div>"
      ],
      "text/plain": [
       "             UNITID                                       INSTNM  CONTROL  \\\n",
       "year rowNum                                                                 \n",
       "2000 271     110404           California Institute of Technology      2.0   \n",
       "     890     134130                        University of Florida      1.0   \n",
       "     1062    139755  Georgia Institute of Technology-Main Campus      1.0   \n",
       "     1316    147767                      Northwestern University      2.0   \n",
       "     1917    162928                     Johns Hopkins University      2.0   \n",
       "...             ...                                          ...      ...   \n",
       "2021 2341    198419                              Duke University      2.0   \n",
       "     2874    215062                   University of Pennsylvania      2.0   \n",
       "     2951    217156                             Brown University      2.0   \n",
       "     3141    221999                        Vanderbilt University      2.0   \n",
       "     3696    243744                          Stanford University      2.0   \n",
       "\n",
       "             ADM_RATE_ALL  C100_4  SAT_AVG_ALL     UGDS  UGDS_WHITE  \\\n",
       "year rowNum                                                           \n",
       "2000 271              NaN     NaN          NaN    942.0    0.294009   \n",
       "     890              NaN     NaN          NaN  32598.0    0.560891   \n",
       "     1062             NaN     NaN          NaN  10888.0    0.540877   \n",
       "     1316             NaN     NaN          NaN   8158.0    0.501118   \n",
       "     1917             NaN     NaN          NaN   5125.0    0.405309   \n",
       "...                   ...     ...          ...      ...         ...   \n",
       "2021 2341          0.0774  0.8842       1530.0   6650.0    0.405700   \n",
       "     2874          0.0898  0.8580       1517.0  10507.0    0.373400   \n",
       "     2951          0.0767  0.8383       1508.0   6632.0    0.416200   \n",
       "     3141          0.1162  0.8844       1520.0   7052.0    0.424300   \n",
       "     3696          0.0519  0.7400       1491.0   6366.0    0.290000   \n",
       "\n",
       "             UGDS_BLACK  UGDS_ASIAN  UGDS_HISP  MD_EARN_WNE_P6  GRAD_DEBT_MDN  \\\n",
       "year rowNum                                                                     \n",
       "2000 271       0.015191    0.411036        NaN             0.0         5625.0   \n",
       "     890       0.069900    0.083100        NaN             0.0        12261.0   \n",
       "     1062      0.065469    0.190685        NaN             0.0        15250.0   \n",
       "     1316      0.057455    0.178409        NaN             0.0        11359.0   \n",
       "     1917      0.062418    0.225018        NaN             0.0        14500.0   \n",
       "...                 ...         ...        ...             ...            ...   \n",
       "2021 2341      0.087500    0.214400     0.1159             0.0        13000.0   \n",
       "     2874      0.078700    0.238400     0.1022             0.0        15715.0   \n",
       "     2951      0.072400    0.185000     0.1114             0.0        11428.0   \n",
       "     3141      0.110500    0.160000     0.1007             0.0        14000.0   \n",
       "     3696      0.074300    0.248000     0.1700             0.0        12000.0   \n",
       "\n",
       "             FTFTPCTFLOAN  NPT4_PRIV  NPT4_PUB  NPT41_PUB  NPT41_PRIV  \\\n",
       "year rowNum                                                             \n",
       "2000 271              NaN        NaN       NaN        NaN         NaN   \n",
       "     890              NaN        NaN       NaN        NaN         NaN   \n",
       "     1062             NaN        NaN       NaN        NaN         NaN   \n",
       "     1316             NaN        NaN       NaN        NaN         NaN   \n",
       "     1917             NaN        NaN       NaN        NaN         NaN   \n",
       "...                   ...        ...       ...        ...         ...   \n",
       "2021 2341          0.1883    32459.0       NaN        NaN       371.0   \n",
       "     2874          0.1141    25046.0       NaN        NaN       580.0   \n",
       "     2951          0.1145    29544.0       NaN        NaN      1468.0   \n",
       "     3141          0.1085    19970.0       NaN        NaN      3176.0   \n",
       "     3696          0.0612    12894.0       NaN        NaN      1233.0   \n",
       "\n",
       "             NPT42_PUB  NPT42_PRIV  NPT43_PUB  NPT43_PRIV  PCIP01  PCIP03  \\\n",
       "year rowNum                                                                 \n",
       "2000 271           NaN         NaN        NaN         NaN    0.00  0.0000   \n",
       "     890           NaN         NaN        NaN         NaN    0.05  0.0171   \n",
       "     1062          NaN         NaN        NaN         NaN    0.00  0.0000   \n",
       "     1316          NaN         NaN        NaN         NaN    0.00  0.0005   \n",
       "     1917          NaN         NaN        NaN         NaN    0.00  0.0000   \n",
       "...                ...         ...        ...         ...     ...     ...   \n",
       "2021 2341          NaN      -927.0        NaN      7160.0    0.00  0.0208   \n",
       "     2874          NaN      1938.0        NaN     12020.0    0.00  0.0037   \n",
       "     2951          NaN      2842.0        NaN     10219.0    0.00  0.0195   \n",
       "     3141          NaN      4652.0        NaN      7694.0    0.00  0.0000   \n",
       "     3696          NaN      1581.0        NaN      7081.0    0.00  0.0000   \n",
       "\n",
       "             PCIP05  PCIP09  PCIP10  PCIP11  PCIP12  PCIP13  PCIP14  PCIP15  \\\n",
       "year rowNum                                                                   \n",
       "2000 271     0.0000  0.0000  0.0000  0.0000     0.0  0.0000  0.4752  0.0000   \n",
       "     890     0.0001  0.0818  0.0000  0.0093     0.0  0.0624  0.0986  0.0167   \n",
       "     1062    0.0000  0.0000  0.0000  0.1021     0.0  0.0000  0.6073  0.0128   \n",
       "     1316    0.0065  0.1148  0.0000  0.0249     0.0  0.0109  0.1670  0.0000   \n",
       "     1917    0.0030  0.0000  0.0015  0.0286     0.0  0.0008  0.1792  0.0000   \n",
       "...             ...     ...     ...     ...     ...     ...     ...     ...   \n",
       "2021 2341    0.0120  0.0005  0.0000  0.1213     0.0  0.0135  0.1473  0.0000   \n",
       "     2874    0.0050  0.0245  0.0000  0.0712     0.0  0.0000  0.0846  0.0000   \n",
       "     2951    0.0201  0.0143  0.0000  0.1228     0.0  0.0103  0.0425  0.0000   \n",
       "     3141    0.0136  0.0106  0.0000  0.0674     0.0  0.0301  0.1507  0.0000   \n",
       "     3696    0.0330  0.0112  0.0000  0.1797     0.0  0.0000  0.1674  0.0436   \n",
       "\n",
       "             PCIP16  PCIP19  PCIP22  PCIP23  PCIP24  PCIP25  PCIP26  PCIP27  \\\n",
       "year rowNum                                                                   \n",
       "2000 271     0.0000  0.0000  0.0000  0.0000  0.0000     0.0  0.1139  0.0594   \n",
       "     890     0.0082  0.0076  0.0000  0.0321  0.0519     0.0  0.0458  0.0088   \n",
       "     1062    0.0000  0.0000  0.0000  0.0000  0.0000     0.0  0.0247  0.0030   \n",
       "     1316    0.0258  0.0000  0.0000  0.1108  0.0035     0.0  0.0601  0.0114   \n",
       "     1917    0.0113  0.0000  0.0000  0.0474  0.0151     0.0  0.0738  0.0136   \n",
       "...             ...     ...     ...     ...     ...     ...     ...     ...   \n",
       "2021 2341    0.0094  0.0000  0.0000  0.0208  0.0000     0.0  0.1359  0.0307   \n",
       "     2874    0.0131  0.0000  0.0000  0.0248  0.0040     0.0  0.1007  0.0326   \n",
       "     2951    0.0178  0.0000  0.0000  0.0562  0.0000     0.0  0.0998  0.1061   \n",
       "     3141    0.0118  0.0053  0.0089  0.0195  0.0000     0.0  0.0839  0.0201   \n",
       "     3696    0.0224  0.0000  0.0000  0.0277  0.0000     0.0  0.0371  0.0513   \n",
       "\n",
       "             PCIP29  PCIP30  PCIP31  PCIP38  PCIP39  PCIP40  PCIP41  PCIP42  \\\n",
       "year rowNum                                                                   \n",
       "2000 271        0.0  0.0000   0.000  0.0000     0.0  0.3267     0.0  0.0000   \n",
       "     890        0.0  0.0069   0.031  0.0051     0.0  0.0077     0.0  0.0491   \n",
       "     1062       0.0  0.0089   0.000  0.0000     0.0  0.0261     0.0  0.0089   \n",
       "     1316       0.0  0.0139   0.000  0.0070     0.0  0.0109     0.0  0.0775   \n",
       "     1917       0.0  0.0377   0.000  0.0008     0.0  0.0226     0.0  0.0467   \n",
       "...             ...     ...     ...     ...     ...     ...     ...     ...   \n",
       "2021 2341       0.0  0.0047   0.000  0.0047     0.0  0.0229     0.0  0.0573   \n",
       "     2874       0.0  0.0352   0.000  0.0507     0.0  0.0272     0.0  0.0282   \n",
       "     2951       0.0  0.0579   0.000  0.0109     0.0  0.0356     0.0  0.0321   \n",
       "     3141       0.0  0.1342   0.000  0.0089     0.0  0.0177     0.0  0.0349   \n",
       "     3696       0.0  0.1662   0.000  0.0100     0.0  0.0383     0.0  0.0271   \n",
       "\n",
       "             PCIP43  PCIP44  PCIP45  PCIP46  PCIP47  PCIP48  PCIP49  PCIP50  \\\n",
       "year rowNum                                                                   \n",
       "2000 271     0.0000  0.0000  0.0248     0.0     0.0     0.0     0.0  0.0000   \n",
       "     890     0.0198  0.0000  0.0732     0.0     0.0     0.0     0.0  0.0271   \n",
       "     1062    0.0000  0.0000  0.0247     0.0     0.0     0.0     0.0  0.0158   \n",
       "     1316    0.0000  0.0159  0.1585     0.0     0.0     0.0     0.0  0.1064   \n",
       "     1917    0.0000  0.0000  0.1875     0.0     0.0     0.0     0.0  0.0693   \n",
       "...             ...     ...     ...     ...     ...     ...     ...     ...   \n",
       "2021 2341    0.0000  0.1109  0.1801     0.0     0.0     0.0     0.0  0.0177   \n",
       "     2874    0.0000  0.0037  0.1514     0.0     0.0     0.0     0.0  0.0252   \n",
       "     2951    0.0000  0.0235  0.1933     0.0     0.0     0.0     0.0  0.0321   \n",
       "     3141    0.0000  0.0118  0.3061     0.0     0.0     0.0     0.0  0.0414   \n",
       "     3696    0.0000  0.0106  0.1308     0.0     0.0     0.0     0.0  0.0259   \n",
       "\n",
       "             PCIP51  PCIP52  PCIP54  \n",
       "year rowNum                          \n",
       "2000 271     0.0000  0.0000  0.0000  \n",
       "     890     0.0640  0.1890  0.0216  \n",
       "     1062    0.0000  0.1347  0.0069  \n",
       "     1316    0.0134  0.0154  0.0447  \n",
       "     1917    0.1890  0.0535  0.0188  \n",
       "...             ...     ...     ...  \n",
       "2021 2341    0.0692  0.0000  0.0203  \n",
       "     2874    0.0920  0.2004  0.0168  \n",
       "     2951    0.0252  0.0321  0.0407  \n",
       "     3141    0.0000  0.0000  0.0230  \n",
       "     3696    0.0000  0.0000  0.0177  \n",
       "\n",
       "[330 rows x 59 columns]"
      ]
     },
     "execution_count": 15,
     "metadata": {},
     "output_type": "execute_result"
    }
   ],
   "source": [
    "pd.set_option('display.max_rows', 10)\n",
    "tier1Institutes = fourYear[fourYear['INSTNM'].isin(['Massachusetts Institute of Technology', 'Stanford University', 'University of Pennsylvania', 'Princeton University', 'Harvard University', 'Northwestern University', 'Johns Hopkins University', 'University of Texas at Austin', 'California Institute of Technology', 'Brown University', 'Washington University in St Louis',\n",
    "                                                   'Georgia Institute of Technology-Main Campus', 'University of Florida', 'Dartmouth College', 'Vanderbilt University', 'Duke University'])][reqCols]\n",
    "tier1Institutes"
   ]
  },
  {
   "cell_type": "code",
   "execution_count": 16,
   "metadata": {},
   "outputs": [
    {
     "data": {
      "text/plain": [
       "dtype('float64')"
      ]
     },
     "execution_count": 16,
     "metadata": {},
     "output_type": "execute_result"
    }
   ],
   "source": [
    "checkIncomeVar = tier1Institutes[['INSTNM', 'MD_EARN_WNE_P6']]\n",
    "checkIncomeVar = checkIncomeVar[checkIncomeVar['MD_EARN_WNE_P6'] > 0.0]\n",
    "checkIncomeVar['MD_EARN_WNE_P6'].dtype"
   ]
  },
  {
   "cell_type": "code",
   "execution_count": 17,
   "metadata": {},
   "outputs": [],
   "source": [
    "pd.set_option('display.max_rows', None)\n",
    "# fourYear[fourYear['INSTNM'].str.contains('Fordham University')]"
   ]
  },
  {
   "cell_type": "code",
   "execution_count": 18,
   "metadata": {},
   "outputs": [
    {
     "data": {
      "text/html": [
       "<div>\n",
       "<style scoped>\n",
       "    .dataframe tbody tr th:only-of-type {\n",
       "        vertical-align: middle;\n",
       "    }\n",
       "\n",
       "    .dataframe tbody tr th {\n",
       "        vertical-align: top;\n",
       "    }\n",
       "\n",
       "    .dataframe thead th {\n",
       "        text-align: right;\n",
       "    }\n",
       "</style>\n",
       "<table border=\"1\" class=\"dataframe\">\n",
       "  <thead>\n",
       "    <tr style=\"text-align: right;\">\n",
       "      <th></th>\n",
       "      <th></th>\n",
       "      <th>INSTNM</th>\n",
       "      <th>CONTROL</th>\n",
       "      <th>ADM_RATE_ALL</th>\n",
       "      <th>SAT_AVG_ALL</th>\n",
       "      <th>C100_4</th>\n",
       "      <th>NPT4_PUB</th>\n",
       "      <th>NPT4_PRIV</th>\n",
       "      <th>UGDS</th>\n",
       "      <th>UGDS_WHITE</th>\n",
       "      <th>UGDS_ASIAN</th>\n",
       "      <th>UGDS_BLACK</th>\n",
       "      <th>MD_EARN_WNE_P6</th>\n",
       "    </tr>\n",
       "    <tr>\n",
       "      <th>year</th>\n",
       "      <th>rowNum</th>\n",
       "      <th></th>\n",
       "      <th></th>\n",
       "      <th></th>\n",
       "      <th></th>\n",
       "      <th></th>\n",
       "      <th></th>\n",
       "      <th></th>\n",
       "      <th></th>\n",
       "      <th></th>\n",
       "      <th></th>\n",
       "      <th></th>\n",
       "      <th></th>\n",
       "    </tr>\n",
       "  </thead>\n",
       "  <tbody>\n",
       "    <tr>\n",
       "      <th rowspan=\"5\" valign=\"top\">2000</th>\n",
       "      <th>100</th>\n",
       "      <td>University of Arizona</td>\n",
       "      <td>1.0</td>\n",
       "      <td>NaN</td>\n",
       "      <td>NaN</td>\n",
       "      <td>NaN</td>\n",
       "      <td>NaN</td>\n",
       "      <td>NaN</td>\n",
       "      <td>26878.0</td>\n",
       "      <td>0.555729</td>\n",
       "      <td>0.054007</td>\n",
       "      <td>0.035229</td>\n",
       "      <td>0.0</td>\n",
       "    </tr>\n",
       "    <tr>\n",
       "      <th>693</th>\n",
       "      <td>Colorado School of Mines</td>\n",
       "      <td>1.0</td>\n",
       "      <td>NaN</td>\n",
       "      <td>NaN</td>\n",
       "      <td>NaN</td>\n",
       "      <td>NaN</td>\n",
       "      <td>NaN</td>\n",
       "      <td>2563.0</td>\n",
       "      <td>0.734827</td>\n",
       "      <td>0.047900</td>\n",
       "      <td>0.010982</td>\n",
       "      <td>0.0</td>\n",
       "    </tr>\n",
       "    <tr>\n",
       "      <th>848</th>\n",
       "      <td>Bethune-Cookman University</td>\n",
       "      <td>2.0</td>\n",
       "      <td>NaN</td>\n",
       "      <td>NaN</td>\n",
       "      <td>NaN</td>\n",
       "      <td>NaN</td>\n",
       "      <td>NaN</td>\n",
       "      <td>2724.0</td>\n",
       "      <td>0.014154</td>\n",
       "      <td>0.001258</td>\n",
       "      <td>0.852662</td>\n",
       "      <td>0.0</td>\n",
       "    </tr>\n",
       "    <tr>\n",
       "      <th>980</th>\n",
       "      <td>University of South Florida</td>\n",
       "      <td>1.0</td>\n",
       "      <td>NaN</td>\n",
       "      <td>NaN</td>\n",
       "      <td>NaN</td>\n",
       "      <td>NaN</td>\n",
       "      <td>NaN</td>\n",
       "      <td>27385.0</td>\n",
       "      <td>0.521345</td>\n",
       "      <td>0.065836</td>\n",
       "      <td>0.107118</td>\n",
       "      <td>0.0</td>\n",
       "    </tr>\n",
       "    <tr>\n",
       "      <th>1379</th>\n",
       "      <td>Ball State University</td>\n",
       "      <td>1.0</td>\n",
       "      <td>NaN</td>\n",
       "      <td>NaN</td>\n",
       "      <td>NaN</td>\n",
       "      <td>NaN</td>\n",
       "      <td>NaN</td>\n",
       "      <td>3820.0</td>\n",
       "      <td>0.809773</td>\n",
       "      <td>0.010527</td>\n",
       "      <td>0.076727</td>\n",
       "      <td>0.0</td>\n",
       "    </tr>\n",
       "    <tr>\n",
       "      <th>...</th>\n",
       "      <th>...</th>\n",
       "      <td>...</td>\n",
       "      <td>...</td>\n",
       "      <td>...</td>\n",
       "      <td>...</td>\n",
       "      <td>...</td>\n",
       "      <td>...</td>\n",
       "      <td>...</td>\n",
       "      <td>...</td>\n",
       "      <td>...</td>\n",
       "      <td>...</td>\n",
       "      <td>...</td>\n",
       "      <td>...</td>\n",
       "    </tr>\n",
       "    <tr>\n",
       "      <th rowspan=\"5\" valign=\"top\">2021</th>\n",
       "      <th>2126</th>\n",
       "      <td>Fordham University</td>\n",
       "      <td>2.0</td>\n",
       "      <td>0.5253</td>\n",
       "      <td>1334.0</td>\n",
       "      <td>0.7855</td>\n",
       "      <td>NaN</td>\n",
       "      <td>38147.0</td>\n",
       "      <td>9099.0</td>\n",
       "      <td>0.552900</td>\n",
       "      <td>0.121000</td>\n",
       "      <td>0.040300</td>\n",
       "      <td>0.0</td>\n",
       "    </tr>\n",
       "    <tr>\n",
       "      <th>2320</th>\n",
       "      <td>Bennett College</td>\n",
       "      <td>2.0</td>\n",
       "      <td>0.7288</td>\n",
       "      <td>NaN</td>\n",
       "      <td>0.1697</td>\n",
       "      <td>NaN</td>\n",
       "      <td>23330.0</td>\n",
       "      <td>232.0</td>\n",
       "      <td>0.002700</td>\n",
       "      <td>0.003667</td>\n",
       "      <td>0.754300</td>\n",
       "      <td>0.0</td>\n",
       "    </tr>\n",
       "    <tr>\n",
       "      <th>2772</th>\n",
       "      <td>Cheyney University of Pennsylvania</td>\n",
       "      <td>1.0</td>\n",
       "      <td>NaN</td>\n",
       "      <td>NaN</td>\n",
       "      <td>0.2096</td>\n",
       "      <td>12781.0</td>\n",
       "      <td>NaN</td>\n",
       "      <td>621.0</td>\n",
       "      <td>0.004800</td>\n",
       "      <td>0.011300</td>\n",
       "      <td>0.790700</td>\n",
       "      <td>0.0</td>\n",
       "    </tr>\n",
       "    <tr>\n",
       "      <th>2781</th>\n",
       "      <td>Drexel University</td>\n",
       "      <td>2.0</td>\n",
       "      <td>0.7719</td>\n",
       "      <td>1287.0</td>\n",
       "      <td>0.2606</td>\n",
       "      <td>NaN</td>\n",
       "      <td>35963.0</td>\n",
       "      <td>14492.0</td>\n",
       "      <td>0.495300</td>\n",
       "      <td>0.211600</td>\n",
       "      <td>0.067300</td>\n",
       "      <td>0.0</td>\n",
       "    </tr>\n",
       "    <tr>\n",
       "      <th>3237</th>\n",
       "      <td>University of North Texas</td>\n",
       "      <td>1.0</td>\n",
       "      <td>0.8398</td>\n",
       "      <td>1152.0</td>\n",
       "      <td>0.3709</td>\n",
       "      <td>14122.0</td>\n",
       "      <td>NaN</td>\n",
       "      <td>32814.0</td>\n",
       "      <td>0.411600</td>\n",
       "      <td>0.072600</td>\n",
       "      <td>0.141300</td>\n",
       "      <td>0.0</td>\n",
       "    </tr>\n",
       "  </tbody>\n",
       "</table>\n",
       "<p>330 rows × 12 columns</p>\n",
       "</div>"
      ],
      "text/plain": [
       "                                         INSTNM  CONTROL  ADM_RATE_ALL  \\\n",
       "year rowNum                                                              \n",
       "2000 100                  University of Arizona      1.0           NaN   \n",
       "     693               Colorado School of Mines      1.0           NaN   \n",
       "     848             Bethune-Cookman University      2.0           NaN   \n",
       "     980            University of South Florida      1.0           NaN   \n",
       "     1379                 Ball State University      1.0           NaN   \n",
       "...                                         ...      ...           ...   \n",
       "2021 2126                    Fordham University      2.0        0.5253   \n",
       "     2320                       Bennett College      2.0        0.7288   \n",
       "     2772    Cheyney University of Pennsylvania      1.0           NaN   \n",
       "     2781                     Drexel University      2.0        0.7719   \n",
       "     3237             University of North Texas      1.0        0.8398   \n",
       "\n",
       "             SAT_AVG_ALL  C100_4  NPT4_PUB  NPT4_PRIV     UGDS  UGDS_WHITE  \\\n",
       "year rowNum                                                                  \n",
       "2000 100             NaN     NaN       NaN        NaN  26878.0    0.555729   \n",
       "     693             NaN     NaN       NaN        NaN   2563.0    0.734827   \n",
       "     848             NaN     NaN       NaN        NaN   2724.0    0.014154   \n",
       "     980             NaN     NaN       NaN        NaN  27385.0    0.521345   \n",
       "     1379            NaN     NaN       NaN        NaN   3820.0    0.809773   \n",
       "...                  ...     ...       ...        ...      ...         ...   \n",
       "2021 2126         1334.0  0.7855       NaN    38147.0   9099.0    0.552900   \n",
       "     2320            NaN  0.1697       NaN    23330.0    232.0    0.002700   \n",
       "     2772            NaN  0.2096   12781.0        NaN    621.0    0.004800   \n",
       "     2781         1287.0  0.2606       NaN    35963.0  14492.0    0.495300   \n",
       "     3237         1152.0  0.3709   14122.0        NaN  32814.0    0.411600   \n",
       "\n",
       "             UGDS_ASIAN  UGDS_BLACK  MD_EARN_WNE_P6  \n",
       "year rowNum                                          \n",
       "2000 100       0.054007    0.035229             0.0  \n",
       "     693       0.047900    0.010982             0.0  \n",
       "     848       0.001258    0.852662             0.0  \n",
       "     980       0.065836    0.107118             0.0  \n",
       "     1379      0.010527    0.076727             0.0  \n",
       "...                 ...         ...             ...  \n",
       "2021 2126      0.121000    0.040300             0.0  \n",
       "     2320      0.003667    0.754300             0.0  \n",
       "     2772      0.011300    0.790700             0.0  \n",
       "     2781      0.211600    0.067300             0.0  \n",
       "     3237      0.072600    0.141300             0.0  \n",
       "\n",
       "[330 rows x 12 columns]"
      ]
     },
     "execution_count": 18,
     "metadata": {},
     "output_type": "execute_result"
    }
   ],
   "source": [
    "pd.set_option('display.max_rows', 10)\n",
    "tier2Institutes = fourYear[fourYear['INSTNM'].isin(['Kentucky State University', 'Cheyney University of Pennsylvania', 'University of North Texas', 'University of the Southwest', 'University of Nevada-Reno', 'University of South Florida', 'University of Arizona', 'Wichita State University', 'Bethune-Cookman University', 'Bennett College',\n",
    "                                                    'Louisiana Tech University', 'Ball State University', 'Colorado School of Mines', 'Drexel University', 'Fordham University'])][reqCols]\n",
    "tier2Institutes[['INSTNM', 'CONTROL', 'ADM_RATE_ALL', 'SAT_AVG_ALL', 'C100_4', 'NPT4_PUB', 'NPT4_PRIV', 'UGDS', 'UGDS_WHITE', 'UGDS_ASIAN', 'UGDS_BLACK' , 'MD_EARN_WNE_P6']]"
   ]
  },
  {
   "cell_type": "code",
   "execution_count": 19,
   "metadata": {},
   "outputs": [],
   "source": [
    "# Prepare MD_EARN_WNE_P6 for Tier1\n",
    "pd.set_option('display.max_rows', 10)\n",
    "ffillByYear(tier1Institutes, 'MD_EARN_WNE_P6', True)\n",
    "# tier1Institutes[['INSTNM', 'MD_EARN_WNE_P6']]"
   ]
  },
  {
   "cell_type": "code",
   "execution_count": 20,
   "metadata": {},
   "outputs": [
    {
     "data": {
      "text/plain": [
       "11"
      ]
     },
     "execution_count": 20,
     "metadata": {},
     "output_type": "execute_result"
    }
   ],
   "source": [
    "stat = tier1Institutes.loc[2010:2020]\n",
    "grpTier1 = stat.groupby(level='year')\n",
    "\n",
    "medianEarnTier1 = grpTier1['MD_EARN_WNE_P6'].median() # MIT has unsually large median earnings\n",
    "medianEarnTier1 = medianEarnTier1[medianEarnTier1 > 0]\n",
    "\n",
    "year = medianEarnTier1.index\n",
    "\n",
    "medianEarnTier1 = np.array(medianEarnTier1)\n",
    "len(medianEarnTier1)"
   ]
  },
  {
   "cell_type": "code",
   "execution_count": 21,
   "metadata": {},
   "outputs": [
    {
     "data": {
      "text/plain": [
       "array([10802.5       , 11798.63333333, 12811.7       , 13529.8       ,\n",
       "       13713.66666667, 13852.06666667, 14205.1       , 14161.83333333,\n",
       "       14455.86666667, 14810.2       , 14908.8       ])"
      ]
     },
     "execution_count": 21,
     "metadata": {},
     "output_type": "execute_result"
    }
   ],
   "source": [
    "meanDebtTier1 = grpTier1['GRAD_DEBT_MDN'].mean()\n",
    "meanDebtTier1 = np.array(meanDebtTier1)\n",
    "meanDebtTier1"
   ]
  },
  {
   "cell_type": "code",
   "execution_count": 22,
   "metadata": {},
   "outputs": [],
   "source": [
    "# Prepare MD_EARN_WNE_P6 for Tier2\n",
    "pd.set_option('display.max_rows', 10)\n",
    "ffillByYear(tier2Institutes, 'MD_EARN_WNE_P6', True)\n",
    "# tier2Institutes[['INSTNM', 'MD_EARN_WNE_P6']]"
   ]
  },
  {
   "cell_type": "code",
   "execution_count": 23,
   "metadata": {},
   "outputs": [
    {
     "data": {
      "text/plain": [
       "11"
      ]
     },
     "execution_count": 23,
     "metadata": {},
     "output_type": "execute_result"
    }
   ],
   "source": [
    "stat = tier2Institutes.loc[2010:2020]\n",
    "grpTier2 = stat.groupby(level='year')\n",
    "medianEarnTier2 = grpTier2['MD_EARN_WNE_P6'].median()\n",
    "medianEarnTier2 = medianEarnTier2[medianEarnTier2 > 0]\n",
    "\n",
    "medianEarnTier2 = np.array(medianEarnTier2)\n",
    "len(medianEarnTier2)"
   ]
  },
  {
   "cell_type": "code",
   "execution_count": 24,
   "metadata": {},
   "outputs": [
    {
     "data": {
      "text/plain": [
       "array([18250.43333333, 20354.        , 21920.66666667, 23688.86666667,\n",
       "       24583.83333333, 25088.9       , 25010.06666667, 24500.43333333,\n",
       "       24606.46666667, 24203.26666667, 23361.53333333])"
      ]
     },
     "execution_count": 24,
     "metadata": {},
     "output_type": "execute_result"
    }
   ],
   "source": [
    "meanDebtTier2 = grpTier2['GRAD_DEBT_MDN'].mean()\n",
    "meanDebtTier2 = np.array(meanDebtTier2)\n",
    "meanDebtTier2"
   ]
  },
  {
   "cell_type": "markdown",
   "metadata": {},
   "source": [
    "## Analysing the disparity between Tier-1 and Tier-2 institutes ##"
   ]
  },
  {
   "cell_type": "code",
   "execution_count": 25,
   "metadata": {},
   "outputs": [
    {
     "data": {
      "application/vnd.plotly.v1+json": {
       "config": {
        "plotlyServerURL": "https://plot.ly"
       },
       "data": [
        {
         "mode": "lines",
         "name": "Tier 1",
         "type": "scatter",
         "x": [
          2010,
          2011,
          2012,
          2013,
          2014,
          2015,
          2016,
          2017,
          2018,
          2019,
          2020
         ],
         "y": [
          60200,
          53295,
          56100,
          59600,
          61800,
          60800,
          73397,
          73397,
          73397,
          77260,
          83890
         ]
        },
        {
         "fill": "tonextx",
         "mode": "lines",
         "name": "Tier 2",
         "opacity": 0,
         "type": "scatter",
         "x": [
          2010,
          2011,
          2012,
          2013,
          2014,
          2015,
          2016,
          2017,
          2018,
          2019,
          2020
         ],
         "y": [
          34900,
          31350,
          33000,
          33300,
          34600,
          36000,
          38338.2,
          38338.2,
          38338.2,
          40356,
          42884
         ]
        }
       ],
       "layout": {
        "template": {
         "data": {
          "bar": [
           {
            "error_x": {
             "color": "#2a3f5f"
            },
            "error_y": {
             "color": "#2a3f5f"
            },
            "marker": {
             "line": {
              "color": "#E5ECF6",
              "width": 0.5
             },
             "pattern": {
              "fillmode": "overlay",
              "size": 10,
              "solidity": 0.2
             }
            },
            "type": "bar"
           }
          ],
          "barpolar": [
           {
            "marker": {
             "line": {
              "color": "#E5ECF6",
              "width": 0.5
             },
             "pattern": {
              "fillmode": "overlay",
              "size": 10,
              "solidity": 0.2
             }
            },
            "type": "barpolar"
           }
          ],
          "carpet": [
           {
            "aaxis": {
             "endlinecolor": "#2a3f5f",
             "gridcolor": "white",
             "linecolor": "white",
             "minorgridcolor": "white",
             "startlinecolor": "#2a3f5f"
            },
            "baxis": {
             "endlinecolor": "#2a3f5f",
             "gridcolor": "white",
             "linecolor": "white",
             "minorgridcolor": "white",
             "startlinecolor": "#2a3f5f"
            },
            "type": "carpet"
           }
          ],
          "choropleth": [
           {
            "colorbar": {
             "outlinewidth": 0,
             "ticks": ""
            },
            "type": "choropleth"
           }
          ],
          "contour": [
           {
            "colorbar": {
             "outlinewidth": 0,
             "ticks": ""
            },
            "colorscale": [
             [
              0,
              "#0d0887"
             ],
             [
              0.1111111111111111,
              "#46039f"
             ],
             [
              0.2222222222222222,
              "#7201a8"
             ],
             [
              0.3333333333333333,
              "#9c179e"
             ],
             [
              0.4444444444444444,
              "#bd3786"
             ],
             [
              0.5555555555555556,
              "#d8576b"
             ],
             [
              0.6666666666666666,
              "#ed7953"
             ],
             [
              0.7777777777777778,
              "#fb9f3a"
             ],
             [
              0.8888888888888888,
              "#fdca26"
             ],
             [
              1,
              "#f0f921"
             ]
            ],
            "type": "contour"
           }
          ],
          "contourcarpet": [
           {
            "colorbar": {
             "outlinewidth": 0,
             "ticks": ""
            },
            "type": "contourcarpet"
           }
          ],
          "heatmap": [
           {
            "colorbar": {
             "outlinewidth": 0,
             "ticks": ""
            },
            "colorscale": [
             [
              0,
              "#0d0887"
             ],
             [
              0.1111111111111111,
              "#46039f"
             ],
             [
              0.2222222222222222,
              "#7201a8"
             ],
             [
              0.3333333333333333,
              "#9c179e"
             ],
             [
              0.4444444444444444,
              "#bd3786"
             ],
             [
              0.5555555555555556,
              "#d8576b"
             ],
             [
              0.6666666666666666,
              "#ed7953"
             ],
             [
              0.7777777777777778,
              "#fb9f3a"
             ],
             [
              0.8888888888888888,
              "#fdca26"
             ],
             [
              1,
              "#f0f921"
             ]
            ],
            "type": "heatmap"
           }
          ],
          "heatmapgl": [
           {
            "colorbar": {
             "outlinewidth": 0,
             "ticks": ""
            },
            "colorscale": [
             [
              0,
              "#0d0887"
             ],
             [
              0.1111111111111111,
              "#46039f"
             ],
             [
              0.2222222222222222,
              "#7201a8"
             ],
             [
              0.3333333333333333,
              "#9c179e"
             ],
             [
              0.4444444444444444,
              "#bd3786"
             ],
             [
              0.5555555555555556,
              "#d8576b"
             ],
             [
              0.6666666666666666,
              "#ed7953"
             ],
             [
              0.7777777777777778,
              "#fb9f3a"
             ],
             [
              0.8888888888888888,
              "#fdca26"
             ],
             [
              1,
              "#f0f921"
             ]
            ],
            "type": "heatmapgl"
           }
          ],
          "histogram": [
           {
            "marker": {
             "pattern": {
              "fillmode": "overlay",
              "size": 10,
              "solidity": 0.2
             }
            },
            "type": "histogram"
           }
          ],
          "histogram2d": [
           {
            "colorbar": {
             "outlinewidth": 0,
             "ticks": ""
            },
            "colorscale": [
             [
              0,
              "#0d0887"
             ],
             [
              0.1111111111111111,
              "#46039f"
             ],
             [
              0.2222222222222222,
              "#7201a8"
             ],
             [
              0.3333333333333333,
              "#9c179e"
             ],
             [
              0.4444444444444444,
              "#bd3786"
             ],
             [
              0.5555555555555556,
              "#d8576b"
             ],
             [
              0.6666666666666666,
              "#ed7953"
             ],
             [
              0.7777777777777778,
              "#fb9f3a"
             ],
             [
              0.8888888888888888,
              "#fdca26"
             ],
             [
              1,
              "#f0f921"
             ]
            ],
            "type": "histogram2d"
           }
          ],
          "histogram2dcontour": [
           {
            "colorbar": {
             "outlinewidth": 0,
             "ticks": ""
            },
            "colorscale": [
             [
              0,
              "#0d0887"
             ],
             [
              0.1111111111111111,
              "#46039f"
             ],
             [
              0.2222222222222222,
              "#7201a8"
             ],
             [
              0.3333333333333333,
              "#9c179e"
             ],
             [
              0.4444444444444444,
              "#bd3786"
             ],
             [
              0.5555555555555556,
              "#d8576b"
             ],
             [
              0.6666666666666666,
              "#ed7953"
             ],
             [
              0.7777777777777778,
              "#fb9f3a"
             ],
             [
              0.8888888888888888,
              "#fdca26"
             ],
             [
              1,
              "#f0f921"
             ]
            ],
            "type": "histogram2dcontour"
           }
          ],
          "mesh3d": [
           {
            "colorbar": {
             "outlinewidth": 0,
             "ticks": ""
            },
            "type": "mesh3d"
           }
          ],
          "parcoords": [
           {
            "line": {
             "colorbar": {
              "outlinewidth": 0,
              "ticks": ""
             }
            },
            "type": "parcoords"
           }
          ],
          "pie": [
           {
            "automargin": true,
            "type": "pie"
           }
          ],
          "scatter": [
           {
            "fillpattern": {
             "fillmode": "overlay",
             "size": 10,
             "solidity": 0.2
            },
            "type": "scatter"
           }
          ],
          "scatter3d": [
           {
            "line": {
             "colorbar": {
              "outlinewidth": 0,
              "ticks": ""
             }
            },
            "marker": {
             "colorbar": {
              "outlinewidth": 0,
              "ticks": ""
             }
            },
            "type": "scatter3d"
           }
          ],
          "scattercarpet": [
           {
            "marker": {
             "colorbar": {
              "outlinewidth": 0,
              "ticks": ""
             }
            },
            "type": "scattercarpet"
           }
          ],
          "scattergeo": [
           {
            "marker": {
             "colorbar": {
              "outlinewidth": 0,
              "ticks": ""
             }
            },
            "type": "scattergeo"
           }
          ],
          "scattergl": [
           {
            "marker": {
             "colorbar": {
              "outlinewidth": 0,
              "ticks": ""
             }
            },
            "type": "scattergl"
           }
          ],
          "scattermapbox": [
           {
            "marker": {
             "colorbar": {
              "outlinewidth": 0,
              "ticks": ""
             }
            },
            "type": "scattermapbox"
           }
          ],
          "scatterpolar": [
           {
            "marker": {
             "colorbar": {
              "outlinewidth": 0,
              "ticks": ""
             }
            },
            "type": "scatterpolar"
           }
          ],
          "scatterpolargl": [
           {
            "marker": {
             "colorbar": {
              "outlinewidth": 0,
              "ticks": ""
             }
            },
            "type": "scatterpolargl"
           }
          ],
          "scatterternary": [
           {
            "marker": {
             "colorbar": {
              "outlinewidth": 0,
              "ticks": ""
             }
            },
            "type": "scatterternary"
           }
          ],
          "surface": [
           {
            "colorbar": {
             "outlinewidth": 0,
             "ticks": ""
            },
            "colorscale": [
             [
              0,
              "#0d0887"
             ],
             [
              0.1111111111111111,
              "#46039f"
             ],
             [
              0.2222222222222222,
              "#7201a8"
             ],
             [
              0.3333333333333333,
              "#9c179e"
             ],
             [
              0.4444444444444444,
              "#bd3786"
             ],
             [
              0.5555555555555556,
              "#d8576b"
             ],
             [
              0.6666666666666666,
              "#ed7953"
             ],
             [
              0.7777777777777778,
              "#fb9f3a"
             ],
             [
              0.8888888888888888,
              "#fdca26"
             ],
             [
              1,
              "#f0f921"
             ]
            ],
            "type": "surface"
           }
          ],
          "table": [
           {
            "cells": {
             "fill": {
              "color": "#EBF0F8"
             },
             "line": {
              "color": "white"
             }
            },
            "header": {
             "fill": {
              "color": "#C8D4E3"
             },
             "line": {
              "color": "white"
             }
            },
            "type": "table"
           }
          ]
         },
         "layout": {
          "annotationdefaults": {
           "arrowcolor": "#2a3f5f",
           "arrowhead": 0,
           "arrowwidth": 1
          },
          "autotypenumbers": "strict",
          "coloraxis": {
           "colorbar": {
            "outlinewidth": 0,
            "ticks": ""
           }
          },
          "colorscale": {
           "diverging": [
            [
             0,
             "#8e0152"
            ],
            [
             0.1,
             "#c51b7d"
            ],
            [
             0.2,
             "#de77ae"
            ],
            [
             0.3,
             "#f1b6da"
            ],
            [
             0.4,
             "#fde0ef"
            ],
            [
             0.5,
             "#f7f7f7"
            ],
            [
             0.6,
             "#e6f5d0"
            ],
            [
             0.7,
             "#b8e186"
            ],
            [
             0.8,
             "#7fbc41"
            ],
            [
             0.9,
             "#4d9221"
            ],
            [
             1,
             "#276419"
            ]
           ],
           "sequential": [
            [
             0,
             "#0d0887"
            ],
            [
             0.1111111111111111,
             "#46039f"
            ],
            [
             0.2222222222222222,
             "#7201a8"
            ],
            [
             0.3333333333333333,
             "#9c179e"
            ],
            [
             0.4444444444444444,
             "#bd3786"
            ],
            [
             0.5555555555555556,
             "#d8576b"
            ],
            [
             0.6666666666666666,
             "#ed7953"
            ],
            [
             0.7777777777777778,
             "#fb9f3a"
            ],
            [
             0.8888888888888888,
             "#fdca26"
            ],
            [
             1,
             "#f0f921"
            ]
           ],
           "sequentialminus": [
            [
             0,
             "#0d0887"
            ],
            [
             0.1111111111111111,
             "#46039f"
            ],
            [
             0.2222222222222222,
             "#7201a8"
            ],
            [
             0.3333333333333333,
             "#9c179e"
            ],
            [
             0.4444444444444444,
             "#bd3786"
            ],
            [
             0.5555555555555556,
             "#d8576b"
            ],
            [
             0.6666666666666666,
             "#ed7953"
            ],
            [
             0.7777777777777778,
             "#fb9f3a"
            ],
            [
             0.8888888888888888,
             "#fdca26"
            ],
            [
             1,
             "#f0f921"
            ]
           ]
          },
          "colorway": [
           "#636efa",
           "#EF553B",
           "#00cc96",
           "#ab63fa",
           "#FFA15A",
           "#19d3f3",
           "#FF6692",
           "#B6E880",
           "#FF97FF",
           "#FECB52"
          ],
          "font": {
           "color": "#2a3f5f"
          },
          "geo": {
           "bgcolor": "white",
           "lakecolor": "white",
           "landcolor": "#E5ECF6",
           "showlakes": true,
           "showland": true,
           "subunitcolor": "white"
          },
          "hoverlabel": {
           "align": "left"
          },
          "hovermode": "closest",
          "mapbox": {
           "style": "light"
          },
          "paper_bgcolor": "white",
          "plot_bgcolor": "#E5ECF6",
          "polar": {
           "angularaxis": {
            "gridcolor": "white",
            "linecolor": "white",
            "ticks": ""
           },
           "bgcolor": "#E5ECF6",
           "radialaxis": {
            "gridcolor": "white",
            "linecolor": "white",
            "ticks": ""
           }
          },
          "scene": {
           "xaxis": {
            "backgroundcolor": "#E5ECF6",
            "gridcolor": "white",
            "gridwidth": 2,
            "linecolor": "white",
            "showbackground": true,
            "ticks": "",
            "zerolinecolor": "white"
           },
           "yaxis": {
            "backgroundcolor": "#E5ECF6",
            "gridcolor": "white",
            "gridwidth": 2,
            "linecolor": "white",
            "showbackground": true,
            "ticks": "",
            "zerolinecolor": "white"
           },
           "zaxis": {
            "backgroundcolor": "#E5ECF6",
            "gridcolor": "white",
            "gridwidth": 2,
            "linecolor": "white",
            "showbackground": true,
            "ticks": "",
            "zerolinecolor": "white"
           }
          },
          "shapedefaults": {
           "line": {
            "color": "#2a3f5f"
           }
          },
          "ternary": {
           "aaxis": {
            "gridcolor": "white",
            "linecolor": "white",
            "ticks": ""
           },
           "baxis": {
            "gridcolor": "white",
            "linecolor": "white",
            "ticks": ""
           },
           "bgcolor": "#E5ECF6",
           "caxis": {
            "gridcolor": "white",
            "linecolor": "white",
            "ticks": ""
           }
          },
          "title": {
           "x": 0.05
          },
          "xaxis": {
           "automargin": true,
           "gridcolor": "white",
           "linecolor": "white",
           "ticks": "",
           "title": {
            "standoff": 15
           },
           "zerolinecolor": "white",
           "zerolinewidth": 2
          },
          "yaxis": {
           "automargin": true,
           "gridcolor": "white",
           "linecolor": "white",
           "ticks": "",
           "title": {
            "standoff": 15
           },
           "zerolinecolor": "white",
           "zerolinewidth": 2
          }
         }
        },
        "xaxis": {
         "title": {
          "text": "Year"
         }
        },
        "yaxis": {
         "title": {
          "text": "Average_Median_Salary"
         }
        }
       }
      }
     },
     "metadata": {},
     "output_type": "display_data"
    }
   ],
   "source": [
    "trace1 = go.Scatter(x=year, y=medianEarnTier1, mode=\"lines\", name=\"Tier 1\")\n",
    "trace2 = go.Scatter(x=year, y=medianEarnTier2, mode=\"lines\", name=\"Tier 2\", fill=\"tonextx\",opacity=0)\n",
    "\n",
    "\n",
    "fig = go.Figure(data=[trace1, trace2])\n",
    "fig.update_layout(\n",
    "    xaxis=dict(title=\"Year\"),\n",
    "    yaxis=dict(title=\"Average_Median_Salary\"),\n",
    ")\n",
    "fig.show()"
   ]
  },
  {
   "cell_type": "code",
   "execution_count": 27,
   "metadata": {},
   "outputs": [
    {
     "data": {
      "application/vnd.plotly.v1+json": {
       "config": {
        "plotlyServerURL": "https://plot.ly"
       },
       "data": [
        {
         "mode": "lines",
         "name": "Tier 1",
         "type": "scatter",
         "x": [
          2010,
          2011,
          2012,
          2013,
          2014,
          2015,
          2016,
          2017,
          2018,
          2019,
          2020
         ],
         "y": [
          10802.5,
          11798.633333333333,
          12811.7,
          13529.8,
          13713.666666666666,
          13852.066666666668,
          14205.1,
          14161.833333333334,
          14455.866666666667,
          14810.2,
          14908.8
         ]
        },
        {
         "fill": "tonextx",
         "mode": "lines",
         "name": "Tier 2",
         "type": "scatter",
         "x": [
          2010,
          2011,
          2012,
          2013,
          2014,
          2015,
          2016,
          2017,
          2018,
          2019,
          2020
         ],
         "y": [
          18250.433333333334,
          20354,
          21920.666666666668,
          23688.866666666665,
          24583.833333333332,
          25088.9,
          25010.066666666666,
          24500.433333333334,
          24606.466666666667,
          24203.266666666666,
          23361.533333333333
         ]
        }
       ],
       "layout": {
        "template": {
         "data": {
          "bar": [
           {
            "error_x": {
             "color": "#2a3f5f"
            },
            "error_y": {
             "color": "#2a3f5f"
            },
            "marker": {
             "line": {
              "color": "#E5ECF6",
              "width": 0.5
             },
             "pattern": {
              "fillmode": "overlay",
              "size": 10,
              "solidity": 0.2
             }
            },
            "type": "bar"
           }
          ],
          "barpolar": [
           {
            "marker": {
             "line": {
              "color": "#E5ECF6",
              "width": 0.5
             },
             "pattern": {
              "fillmode": "overlay",
              "size": 10,
              "solidity": 0.2
             }
            },
            "type": "barpolar"
           }
          ],
          "carpet": [
           {
            "aaxis": {
             "endlinecolor": "#2a3f5f",
             "gridcolor": "white",
             "linecolor": "white",
             "minorgridcolor": "white",
             "startlinecolor": "#2a3f5f"
            },
            "baxis": {
             "endlinecolor": "#2a3f5f",
             "gridcolor": "white",
             "linecolor": "white",
             "minorgridcolor": "white",
             "startlinecolor": "#2a3f5f"
            },
            "type": "carpet"
           }
          ],
          "choropleth": [
           {
            "colorbar": {
             "outlinewidth": 0,
             "ticks": ""
            },
            "type": "choropleth"
           }
          ],
          "contour": [
           {
            "colorbar": {
             "outlinewidth": 0,
             "ticks": ""
            },
            "colorscale": [
             [
              0,
              "#0d0887"
             ],
             [
              0.1111111111111111,
              "#46039f"
             ],
             [
              0.2222222222222222,
              "#7201a8"
             ],
             [
              0.3333333333333333,
              "#9c179e"
             ],
             [
              0.4444444444444444,
              "#bd3786"
             ],
             [
              0.5555555555555556,
              "#d8576b"
             ],
             [
              0.6666666666666666,
              "#ed7953"
             ],
             [
              0.7777777777777778,
              "#fb9f3a"
             ],
             [
              0.8888888888888888,
              "#fdca26"
             ],
             [
              1,
              "#f0f921"
             ]
            ],
            "type": "contour"
           }
          ],
          "contourcarpet": [
           {
            "colorbar": {
             "outlinewidth": 0,
             "ticks": ""
            },
            "type": "contourcarpet"
           }
          ],
          "heatmap": [
           {
            "colorbar": {
             "outlinewidth": 0,
             "ticks": ""
            },
            "colorscale": [
             [
              0,
              "#0d0887"
             ],
             [
              0.1111111111111111,
              "#46039f"
             ],
             [
              0.2222222222222222,
              "#7201a8"
             ],
             [
              0.3333333333333333,
              "#9c179e"
             ],
             [
              0.4444444444444444,
              "#bd3786"
             ],
             [
              0.5555555555555556,
              "#d8576b"
             ],
             [
              0.6666666666666666,
              "#ed7953"
             ],
             [
              0.7777777777777778,
              "#fb9f3a"
             ],
             [
              0.8888888888888888,
              "#fdca26"
             ],
             [
              1,
              "#f0f921"
             ]
            ],
            "type": "heatmap"
           }
          ],
          "heatmapgl": [
           {
            "colorbar": {
             "outlinewidth": 0,
             "ticks": ""
            },
            "colorscale": [
             [
              0,
              "#0d0887"
             ],
             [
              0.1111111111111111,
              "#46039f"
             ],
             [
              0.2222222222222222,
              "#7201a8"
             ],
             [
              0.3333333333333333,
              "#9c179e"
             ],
             [
              0.4444444444444444,
              "#bd3786"
             ],
             [
              0.5555555555555556,
              "#d8576b"
             ],
             [
              0.6666666666666666,
              "#ed7953"
             ],
             [
              0.7777777777777778,
              "#fb9f3a"
             ],
             [
              0.8888888888888888,
              "#fdca26"
             ],
             [
              1,
              "#f0f921"
             ]
            ],
            "type": "heatmapgl"
           }
          ],
          "histogram": [
           {
            "marker": {
             "pattern": {
              "fillmode": "overlay",
              "size": 10,
              "solidity": 0.2
             }
            },
            "type": "histogram"
           }
          ],
          "histogram2d": [
           {
            "colorbar": {
             "outlinewidth": 0,
             "ticks": ""
            },
            "colorscale": [
             [
              0,
              "#0d0887"
             ],
             [
              0.1111111111111111,
              "#46039f"
             ],
             [
              0.2222222222222222,
              "#7201a8"
             ],
             [
              0.3333333333333333,
              "#9c179e"
             ],
             [
              0.4444444444444444,
              "#bd3786"
             ],
             [
              0.5555555555555556,
              "#d8576b"
             ],
             [
              0.6666666666666666,
              "#ed7953"
             ],
             [
              0.7777777777777778,
              "#fb9f3a"
             ],
             [
              0.8888888888888888,
              "#fdca26"
             ],
             [
              1,
              "#f0f921"
             ]
            ],
            "type": "histogram2d"
           }
          ],
          "histogram2dcontour": [
           {
            "colorbar": {
             "outlinewidth": 0,
             "ticks": ""
            },
            "colorscale": [
             [
              0,
              "#0d0887"
             ],
             [
              0.1111111111111111,
              "#46039f"
             ],
             [
              0.2222222222222222,
              "#7201a8"
             ],
             [
              0.3333333333333333,
              "#9c179e"
             ],
             [
              0.4444444444444444,
              "#bd3786"
             ],
             [
              0.5555555555555556,
              "#d8576b"
             ],
             [
              0.6666666666666666,
              "#ed7953"
             ],
             [
              0.7777777777777778,
              "#fb9f3a"
             ],
             [
              0.8888888888888888,
              "#fdca26"
             ],
             [
              1,
              "#f0f921"
             ]
            ],
            "type": "histogram2dcontour"
           }
          ],
          "mesh3d": [
           {
            "colorbar": {
             "outlinewidth": 0,
             "ticks": ""
            },
            "type": "mesh3d"
           }
          ],
          "parcoords": [
           {
            "line": {
             "colorbar": {
              "outlinewidth": 0,
              "ticks": ""
             }
            },
            "type": "parcoords"
           }
          ],
          "pie": [
           {
            "automargin": true,
            "type": "pie"
           }
          ],
          "scatter": [
           {
            "fillpattern": {
             "fillmode": "overlay",
             "size": 10,
             "solidity": 0.2
            },
            "type": "scatter"
           }
          ],
          "scatter3d": [
           {
            "line": {
             "colorbar": {
              "outlinewidth": 0,
              "ticks": ""
             }
            },
            "marker": {
             "colorbar": {
              "outlinewidth": 0,
              "ticks": ""
             }
            },
            "type": "scatter3d"
           }
          ],
          "scattercarpet": [
           {
            "marker": {
             "colorbar": {
              "outlinewidth": 0,
              "ticks": ""
             }
            },
            "type": "scattercarpet"
           }
          ],
          "scattergeo": [
           {
            "marker": {
             "colorbar": {
              "outlinewidth": 0,
              "ticks": ""
             }
            },
            "type": "scattergeo"
           }
          ],
          "scattergl": [
           {
            "marker": {
             "colorbar": {
              "outlinewidth": 0,
              "ticks": ""
             }
            },
            "type": "scattergl"
           }
          ],
          "scattermapbox": [
           {
            "marker": {
             "colorbar": {
              "outlinewidth": 0,
              "ticks": ""
             }
            },
            "type": "scattermapbox"
           }
          ],
          "scatterpolar": [
           {
            "marker": {
             "colorbar": {
              "outlinewidth": 0,
              "ticks": ""
             }
            },
            "type": "scatterpolar"
           }
          ],
          "scatterpolargl": [
           {
            "marker": {
             "colorbar": {
              "outlinewidth": 0,
              "ticks": ""
             }
            },
            "type": "scatterpolargl"
           }
          ],
          "scatterternary": [
           {
            "marker": {
             "colorbar": {
              "outlinewidth": 0,
              "ticks": ""
             }
            },
            "type": "scatterternary"
           }
          ],
          "surface": [
           {
            "colorbar": {
             "outlinewidth": 0,
             "ticks": ""
            },
            "colorscale": [
             [
              0,
              "#0d0887"
             ],
             [
              0.1111111111111111,
              "#46039f"
             ],
             [
              0.2222222222222222,
              "#7201a8"
             ],
             [
              0.3333333333333333,
              "#9c179e"
             ],
             [
              0.4444444444444444,
              "#bd3786"
             ],
             [
              0.5555555555555556,
              "#d8576b"
             ],
             [
              0.6666666666666666,
              "#ed7953"
             ],
             [
              0.7777777777777778,
              "#fb9f3a"
             ],
             [
              0.8888888888888888,
              "#fdca26"
             ],
             [
              1,
              "#f0f921"
             ]
            ],
            "type": "surface"
           }
          ],
          "table": [
           {
            "cells": {
             "fill": {
              "color": "#EBF0F8"
             },
             "line": {
              "color": "white"
             }
            },
            "header": {
             "fill": {
              "color": "#C8D4E3"
             },
             "line": {
              "color": "white"
             }
            },
            "type": "table"
           }
          ]
         },
         "layout": {
          "annotationdefaults": {
           "arrowcolor": "#2a3f5f",
           "arrowhead": 0,
           "arrowwidth": 1
          },
          "autotypenumbers": "strict",
          "coloraxis": {
           "colorbar": {
            "outlinewidth": 0,
            "ticks": ""
           }
          },
          "colorscale": {
           "diverging": [
            [
             0,
             "#8e0152"
            ],
            [
             0.1,
             "#c51b7d"
            ],
            [
             0.2,
             "#de77ae"
            ],
            [
             0.3,
             "#f1b6da"
            ],
            [
             0.4,
             "#fde0ef"
            ],
            [
             0.5,
             "#f7f7f7"
            ],
            [
             0.6,
             "#e6f5d0"
            ],
            [
             0.7,
             "#b8e186"
            ],
            [
             0.8,
             "#7fbc41"
            ],
            [
             0.9,
             "#4d9221"
            ],
            [
             1,
             "#276419"
            ]
           ],
           "sequential": [
            [
             0,
             "#0d0887"
            ],
            [
             0.1111111111111111,
             "#46039f"
            ],
            [
             0.2222222222222222,
             "#7201a8"
            ],
            [
             0.3333333333333333,
             "#9c179e"
            ],
            [
             0.4444444444444444,
             "#bd3786"
            ],
            [
             0.5555555555555556,
             "#d8576b"
            ],
            [
             0.6666666666666666,
             "#ed7953"
            ],
            [
             0.7777777777777778,
             "#fb9f3a"
            ],
            [
             0.8888888888888888,
             "#fdca26"
            ],
            [
             1,
             "#f0f921"
            ]
           ],
           "sequentialminus": [
            [
             0,
             "#0d0887"
            ],
            [
             0.1111111111111111,
             "#46039f"
            ],
            [
             0.2222222222222222,
             "#7201a8"
            ],
            [
             0.3333333333333333,
             "#9c179e"
            ],
            [
             0.4444444444444444,
             "#bd3786"
            ],
            [
             0.5555555555555556,
             "#d8576b"
            ],
            [
             0.6666666666666666,
             "#ed7953"
            ],
            [
             0.7777777777777778,
             "#fb9f3a"
            ],
            [
             0.8888888888888888,
             "#fdca26"
            ],
            [
             1,
             "#f0f921"
            ]
           ]
          },
          "colorway": [
           "#636efa",
           "#EF553B",
           "#00cc96",
           "#ab63fa",
           "#FFA15A",
           "#19d3f3",
           "#FF6692",
           "#B6E880",
           "#FF97FF",
           "#FECB52"
          ],
          "font": {
           "color": "#2a3f5f"
          },
          "geo": {
           "bgcolor": "white",
           "lakecolor": "white",
           "landcolor": "#E5ECF6",
           "showlakes": true,
           "showland": true,
           "subunitcolor": "white"
          },
          "hoverlabel": {
           "align": "left"
          },
          "hovermode": "closest",
          "mapbox": {
           "style": "light"
          },
          "paper_bgcolor": "white",
          "plot_bgcolor": "#E5ECF6",
          "polar": {
           "angularaxis": {
            "gridcolor": "white",
            "linecolor": "white",
            "ticks": ""
           },
           "bgcolor": "#E5ECF6",
           "radialaxis": {
            "gridcolor": "white",
            "linecolor": "white",
            "ticks": ""
           }
          },
          "scene": {
           "xaxis": {
            "backgroundcolor": "#E5ECF6",
            "gridcolor": "white",
            "gridwidth": 2,
            "linecolor": "white",
            "showbackground": true,
            "ticks": "",
            "zerolinecolor": "white"
           },
           "yaxis": {
            "backgroundcolor": "#E5ECF6",
            "gridcolor": "white",
            "gridwidth": 2,
            "linecolor": "white",
            "showbackground": true,
            "ticks": "",
            "zerolinecolor": "white"
           },
           "zaxis": {
            "backgroundcolor": "#E5ECF6",
            "gridcolor": "white",
            "gridwidth": 2,
            "linecolor": "white",
            "showbackground": true,
            "ticks": "",
            "zerolinecolor": "white"
           }
          },
          "shapedefaults": {
           "line": {
            "color": "#2a3f5f"
           }
          },
          "ternary": {
           "aaxis": {
            "gridcolor": "white",
            "linecolor": "white",
            "ticks": ""
           },
           "baxis": {
            "gridcolor": "white",
            "linecolor": "white",
            "ticks": ""
           },
           "bgcolor": "#E5ECF6",
           "caxis": {
            "gridcolor": "white",
            "linecolor": "white",
            "ticks": ""
           }
          },
          "title": {
           "x": 0.05
          },
          "xaxis": {
           "automargin": true,
           "gridcolor": "white",
           "linecolor": "white",
           "ticks": "",
           "title": {
            "standoff": 15
           },
           "zerolinecolor": "white",
           "zerolinewidth": 2
          },
          "yaxis": {
           "automargin": true,
           "gridcolor": "white",
           "linecolor": "white",
           "ticks": "",
           "title": {
            "standoff": 15
           },
           "zerolinecolor": "white",
           "zerolinewidth": 2
          }
         }
        },
        "xaxis": {
         "title": {
          "text": "Year"
         }
        },
        "yaxis": {
         "title": {
          "text": "Average_Mean_Debt_Grad"
         }
        }
       }
      }
     },
     "metadata": {},
     "output_type": "display_data"
    }
   ],
   "source": [
    "year=[2010, 2011, 2012, 2013, 2014, 2015, 2016, 2017, 2018, 2019, 2020]\n",
    "trace1 = go.Scatter(x=year, y=meanDebtTier1, mode=\"lines\", name=\"Tier 1\")\n",
    "trace2 = go.Scatter(x=year, y=meanDebtTier2, mode=\"lines\", name=\"Tier 2\", fill=\"tonextx\")\n",
    "\n",
    "\n",
    "fig = go.Figure(data=[trace1, trace2])\n",
    "fig.update_layout(\n",
    "    xaxis=dict(title=\"Year\"),\n",
    "    yaxis=dict(title=\"Average_Mean_Debt_Grad\"),\n",
    ")\n",
    "fig.show()"
   ]
  },
  {
   "cell_type": "markdown",
   "metadata": {},
   "source": [
    "Inferences...."
   ]
  },
  {
   "cell_type": "code",
   "execution_count": 89,
   "metadata": {},
   "outputs": [],
   "source": [
    "# Above we analysed the disparity between Tier-1 and Tier-2 institutes\n",
    "# Disparity between Tier-1 and Tier-2:\n",
    "# Tier-2 => Low Salary on graduation and burdened with high loans\n",
    "# If graduates are struggling financially, it can send a negative message to prospective students, discouraging them from applying.\n",
    "# News of graduates struggling with debt can lead to negative publicity for the institution, further impacting its reputation."
   ]
  },
  {
   "cell_type": "markdown",
   "metadata": {},
   "source": [
    "## Exploring the Reasons for the above disparity  between Tier-1 and Tier-2 ##"
   ]
  },
  {
   "cell_type": "markdown",
   "metadata": {},
   "source": [
    "Analysing the Acceptance-Rate, Sat_Scores and Completion/Graduation-Rates for Tier-1 and Tier-2"
   ]
  },
  {
   "cell_type": "code",
   "execution_count": 90,
   "metadata": {},
   "outputs": [],
   "source": [
    "# Now we'll analyse the characterisitics of the top-5 universities and compare them\n",
    "# with other tier-2 colleges\n",
    "\n",
    "# First lets analyse the acceptance-rate, sat-scores of universities and the completion"
   ]
  },
  {
   "cell_type": "code",
   "execution_count": 28,
   "metadata": {},
   "outputs": [
    {
     "data": {
      "text/html": [
       "<div>\n",
       "<style scoped>\n",
       "    .dataframe tbody tr th:only-of-type {\n",
       "        vertical-align: middle;\n",
       "    }\n",
       "\n",
       "    .dataframe tbody tr th {\n",
       "        vertical-align: top;\n",
       "    }\n",
       "\n",
       "    .dataframe thead th {\n",
       "        text-align: right;\n",
       "    }\n",
       "</style>\n",
       "<table border=\"1\" class=\"dataframe\">\n",
       "  <thead>\n",
       "    <tr style=\"text-align: right;\">\n",
       "      <th></th>\n",
       "      <th></th>\n",
       "      <th>INSTNM</th>\n",
       "      <th>ADM_RATE_ALL</th>\n",
       "      <th>SAT_AVG_ALL</th>\n",
       "    </tr>\n",
       "    <tr>\n",
       "      <th>year</th>\n",
       "      <th>rowNum</th>\n",
       "      <th></th>\n",
       "      <th></th>\n",
       "      <th></th>\n",
       "    </tr>\n",
       "  </thead>\n",
       "  <tbody>\n",
       "    <tr>\n",
       "      <th rowspan=\"5\" valign=\"top\">2010</th>\n",
       "      <th>83</th>\n",
       "      <td>University of Arizona</td>\n",
       "      <td>0.7800</td>\n",
       "      <td>1099.0</td>\n",
       "    </tr>\n",
       "    <tr>\n",
       "      <th>618</th>\n",
       "      <td>Colorado School of Mines</td>\n",
       "      <td>0.6150</td>\n",
       "      <td>1261.0</td>\n",
       "    </tr>\n",
       "    <tr>\n",
       "      <th>764</th>\n",
       "      <td>Bethune-Cookman University</td>\n",
       "      <td>0.6914</td>\n",
       "      <td>850.0</td>\n",
       "    </tr>\n",
       "    <tr>\n",
       "      <th>888</th>\n",
       "      <td>University of South Florida</td>\n",
       "      <td>0.4300</td>\n",
       "      <td>1141.0</td>\n",
       "    </tr>\n",
       "    <tr>\n",
       "      <th>1248</th>\n",
       "      <td>Ball State University</td>\n",
       "      <td>0.7368</td>\n",
       "      <td>1037.0</td>\n",
       "    </tr>\n",
       "    <tr>\n",
       "      <th>...</th>\n",
       "      <th>...</th>\n",
       "      <td>...</td>\n",
       "      <td>...</td>\n",
       "      <td>...</td>\n",
       "    </tr>\n",
       "    <tr>\n",
       "      <th rowspan=\"5\" valign=\"top\">2020</th>\n",
       "      <th>2150</th>\n",
       "      <td>Fordham University</td>\n",
       "      <td>0.4588</td>\n",
       "      <td>1356.0</td>\n",
       "    </tr>\n",
       "    <tr>\n",
       "      <th>2344</th>\n",
       "      <td>Bennett College</td>\n",
       "      <td>0.5896</td>\n",
       "      <td>NaN</td>\n",
       "    </tr>\n",
       "    <tr>\n",
       "      <th>2802</th>\n",
       "      <td>Cheyney University of Pennsylvania</td>\n",
       "      <td>NaN</td>\n",
       "      <td>NaN</td>\n",
       "    </tr>\n",
       "    <tr>\n",
       "      <th>2812</th>\n",
       "      <td>Drexel University</td>\n",
       "      <td>0.7470</td>\n",
       "      <td>1295.0</td>\n",
       "    </tr>\n",
       "    <tr>\n",
       "      <th>3300</th>\n",
       "      <td>University of North Texas</td>\n",
       "      <td>0.7361</td>\n",
       "      <td>1166.0</td>\n",
       "    </tr>\n",
       "  </tbody>\n",
       "</table>\n",
       "<p>165 rows × 3 columns</p>\n",
       "</div>"
      ],
      "text/plain": [
       "                                         INSTNM  ADM_RATE_ALL  SAT_AVG_ALL\n",
       "year rowNum                                                               \n",
       "2010 83                   University of Arizona        0.7800       1099.0\n",
       "     618               Colorado School of Mines        0.6150       1261.0\n",
       "     764             Bethune-Cookman University        0.6914        850.0\n",
       "     888            University of South Florida        0.4300       1141.0\n",
       "     1248                 Ball State University        0.7368       1037.0\n",
       "...                                         ...           ...          ...\n",
       "2020 2150                    Fordham University        0.4588       1356.0\n",
       "     2344                       Bennett College        0.5896          NaN\n",
       "     2802    Cheyney University of Pennsylvania           NaN          NaN\n",
       "     2812                     Drexel University        0.7470       1295.0\n",
       "     3300             University of North Texas        0.7361       1166.0\n",
       "\n",
       "[165 rows x 3 columns]"
      ]
     },
     "execution_count": 28,
     "metadata": {},
     "output_type": "execute_result"
    }
   ],
   "source": [
    "admittanceTier1 = (tier1Institutes.loc[2010:2020])[['INSTNM', 'ADM_RATE_ALL', 'SAT_AVG_ALL']]\n",
    "admittanceTier2 = (tier2Institutes.loc[2010:2020])[['INSTNM', 'ADM_RATE_ALL', 'SAT_AVG_ALL']]\n",
    "year = admittanceTier1.index.get_level_values('year')\n",
    "admittanceTier2"
   ]
  },
  {
   "cell_type": "code",
   "execution_count": 30,
   "metadata": {},
   "outputs": [
    {
     "data": {
      "application/vnd.plotly.v1+json": {
       "config": {
        "plotlyServerURL": "https://plot.ly"
       },
       "data": [
        {
         "marker": {
          "color": "red"
         },
         "mode": "markers",
         "name": "Tier1",
         "type": "scatter",
         "x": [
          2010,
          2010,
          2010,
          2010,
          2010,
          2010,
          2010,
          2010,
          2010,
          2010,
          2010,
          2010,
          2010,
          2010,
          2010,
          2011,
          2011,
          2011,
          2011,
          2011,
          2011,
          2011,
          2011,
          2011,
          2011,
          2011,
          2011,
          2011,
          2011,
          2011,
          2012,
          2012,
          2012,
          2012,
          2012,
          2012,
          2012,
          2012,
          2012,
          2012,
          2012,
          2012,
          2012,
          2012,
          2012,
          2013,
          2013,
          2013,
          2013,
          2013,
          2013,
          2013,
          2013,
          2013,
          2013,
          2013,
          2013,
          2013,
          2013,
          2013,
          2014,
          2014,
          2014,
          2014,
          2014,
          2014,
          2014,
          2014,
          2014,
          2014,
          2014,
          2014,
          2014,
          2014,
          2014,
          2015,
          2015,
          2015,
          2015,
          2015,
          2015,
          2015,
          2015,
          2015,
          2015,
          2015,
          2015,
          2015,
          2015,
          2015,
          2016,
          2016,
          2016,
          2016,
          2016,
          2016,
          2016,
          2016,
          2016,
          2016,
          2016,
          2016,
          2016,
          2016,
          2016,
          2017,
          2017,
          2017,
          2017,
          2017,
          2017,
          2017,
          2017,
          2017,
          2017,
          2017,
          2017,
          2017,
          2017,
          2017,
          2018,
          2018,
          2018,
          2018,
          2018,
          2018,
          2018,
          2018,
          2018,
          2018,
          2018,
          2018,
          2018,
          2018,
          2018,
          2019,
          2019,
          2019,
          2019,
          2019,
          2019,
          2019,
          2019,
          2019,
          2019,
          2019,
          2019,
          2019,
          2019,
          2019,
          2020,
          2020,
          2020,
          2020,
          2020,
          2020,
          2020,
          2020,
          2020,
          2020,
          2020,
          2020,
          2020,
          2020,
          2020
         ],
         "y": [
          0.1527,
          0.427,
          0.6091,
          0.262,
          0.2782,
          0.0719,
          0.107,
          0.2219,
          0.1347,
          0.1006,
          0.2238,
          0.1771,
          0.1117,
          0.2015,
          0.0797,
          0.1255,
          0.4322,
          0.5879,
          0.2715,
          0.2225,
          0.0723,
          0.1008,
          0.2129,
          0.1257,
          0.088,
          0.1886,
          0.1426,
          0.0934,
          0.1795,
          0.0731,
          0.1277,
          0.4318,
          0.5169,
          0.2313,
          0.194,
          0.0626,
          0.0973,
          0.1652,
          0.1168,
          0.0846,
          0.1648,
          0.1243,
          0.0891,
          0.1642,
          0.071,
          0.1277,
          0.441,
          0.5118,
          0.1803,
          0.1843,
          0.0581,
          0.0895,
          0.1788,
          0.1014,
          0.0785,
          0.1399,
          0.126,
          0.096,
          0.1423,
          0.0661,
          0.1055,
          0.4655,
          0.5493,
          0.1532,
          0.1813,
          0.0584,
          0.0815,
          0.1555,
          0.0978,
          0.0741,
          0.1342,
          0.1224,
          0.0918,
          0.1274,
          0.0569,
          0.0883,
          0.4552,
          0.3338,
          0.1311,
          0.1608,
          0.0596,
          0.0788,
          0.1713,
          0.115,
          0.0744,
          0.1141,
          0.1037,
          0.0874,
          0.1309,
          0.0509,
          0.0881,
          0.4772,
          0.3217,
          0.1304,
          0.1412,
          0.0558,
          0.083,
          0.1674,
          0.1097,
          0.0714,
          0.1142,
          0.1016,
          0.0949,
          0.1168,
          0.0504,
          0.0807,
          0.4642,
          0.2577,
          0.1066,
          0.1284,
          0.054,
          0.0794,
          0.1653,
          0.1059,
          0.0652,
          0.1083,
          0.0944,
          0.0931,
          0.1075,
          0.0481,
          0.0774,
          0.4266,
          0.234,
          0.0924,
          0.1254,
          0.0516,
          0.0717,
          0.1596,
          0.1045,
          0.0641,
          0.0986,
          0.093,
          0.0849,
          0.1085,
          0.0473,
          0.0662,
          0.3931,
          0.2153,
          0.0847,
          0.1148,
          0.0473,
          0.0674,
          0.1503,
          0.0874,
          0.0548,
          0.0891,
          0.0841,
          0.0767,
          0.0961,
          0.0436,
          0.0642,
          0.3618,
          0.2058,
          0.0905,
          0.1117,
          0.0464,
          0.067,
          0.1385,
          0.0793,
          0.0578,
          0.076,
          0.0766,
          0.0707,
          0.0912,
          0.0434
         ]
        },
        {
         "marker": {
          "color": "green"
         },
         "mode": "markers",
         "name": "Tier2",
         "type": "scatter",
         "x": [
          2010,
          2010,
          2010,
          2010,
          2010,
          2010,
          2010,
          2010,
          2010,
          2010,
          2010,
          2010,
          2010,
          2010,
          2010,
          2011,
          2011,
          2011,
          2011,
          2011,
          2011,
          2011,
          2011,
          2011,
          2011,
          2011,
          2011,
          2011,
          2011,
          2011,
          2012,
          2012,
          2012,
          2012,
          2012,
          2012,
          2012,
          2012,
          2012,
          2012,
          2012,
          2012,
          2012,
          2012,
          2012,
          2013,
          2013,
          2013,
          2013,
          2013,
          2013,
          2013,
          2013,
          2013,
          2013,
          2013,
          2013,
          2013,
          2013,
          2013,
          2014,
          2014,
          2014,
          2014,
          2014,
          2014,
          2014,
          2014,
          2014,
          2014,
          2014,
          2014,
          2014,
          2014,
          2014,
          2015,
          2015,
          2015,
          2015,
          2015,
          2015,
          2015,
          2015,
          2015,
          2015,
          2015,
          2015,
          2015,
          2015,
          2015,
          2016,
          2016,
          2016,
          2016,
          2016,
          2016,
          2016,
          2016,
          2016,
          2016,
          2016,
          2016,
          2016,
          2016,
          2016,
          2017,
          2017,
          2017,
          2017,
          2017,
          2017,
          2017,
          2017,
          2017,
          2017,
          2017,
          2017,
          2017,
          2017,
          2017,
          2018,
          2018,
          2018,
          2018,
          2018,
          2018,
          2018,
          2018,
          2018,
          2018,
          2018,
          2018,
          2018,
          2018,
          2018,
          2019,
          2019,
          2019,
          2019,
          2019,
          2019,
          2019,
          2019,
          2019,
          2019,
          2019,
          2019,
          2019,
          2019,
          2019,
          2020,
          2020,
          2020,
          2020,
          2020,
          2020,
          2020,
          2020,
          2020,
          2020,
          2020,
          2020,
          2020,
          2020,
          2020
         ],
         "y": [
          0.78,
          0.615,
          0.6914,
          0.43,
          0.7368,
          0.8846,
          0.2425,
          0.628,
          0.8693,
          0.4195,
          0.496,
          0.4556,
          null,
          0.5456,
          0.638,
          0.7536,
          0.4644,
          0.6874,
          0.4496,
          0.647,
          0.8982,
          0.2539,
          0.6082,
          0.8958,
          null,
          0.5066,
          0.5727,
          null,
          0.5506,
          0.6431,
          0.7536,
          0.4455,
          0.6696,
          0.387,
          0.6754,
          0.9389,
          0.3028,
          0.6211,
          0.8766,
          null,
          0.4239,
          0.6281,
          null,
          0.575,
          0.6499,
          0.7139,
          0.4455,
          0.7348,
          0.4394,
          0.6103,
          0.9522,
          0.4468,
          0.7081,
          0.8207,
          null,
          0.4292,
          0.7071,
          null,
          0.7486,
          0.6419,
          0.7692,
          0.3743,
          0.666,
          0.4499,
          0.6054,
          0.9576,
          0.3774,
          0.6744,
          0.8396,
          null,
          0.4713,
          0.8261,
          null,
          0.815,
          0.5969,
          0.7462,
          0.3647,
          0.6371,
          0.5094,
          0.5988,
          0.9553,
          0.4769,
          0.6503,
          0.8388,
          null,
          0.4812,
          0.9179,
          null,
          0.7601,
          0.6626,
          0.7643,
          0.3767,
          null,
          0.448,
          0.605,
          0.9473,
          0.3792,
          0.6384,
          0.7852,
          null,
          0.4757,
          0.9486,
          null,
          0.7474,
          0.6886,
          0.7862,
          0.4035,
          null,
          0.4588,
          0.6225,
          0.8623,
          0.49,
          0.6319,
          0.8281,
          0.6578,
          0.4522,
          0.9578,
          null,
          0.7465,
          0.7179,
          0.8358,
          0.5572,
          null,
          0.4447,
          0.6208,
          0.938,
          0.4528,
          0.6484,
          0.8803,
          0.352,
          0.4644,
          0.8893,
          null,
          0.7904,
          0.7241,
          0.8442,
          0.4919,
          null,
          0.4201,
          0.6478,
          0.965,
          0.7217,
          0.6307,
          0.8815,
          0.4478,
          0.4602,
          0.9634,
          null,
          0.7694,
          0.7105,
          0.8459,
          0.5308,
          0.8406,
          0.4555,
          0.7671,
          0.917,
          0.8065,
          0.6409,
          0.8822,
          0.4539,
          0.4588,
          0.5896,
          null,
          0.747,
          0.7361
         ]
        }
       ],
       "layout": {
        "height": 600,
        "template": {
         "data": {
          "bar": [
           {
            "error_x": {
             "color": "#2a3f5f"
            },
            "error_y": {
             "color": "#2a3f5f"
            },
            "marker": {
             "line": {
              "color": "#E5ECF6",
              "width": 0.5
             },
             "pattern": {
              "fillmode": "overlay",
              "size": 10,
              "solidity": 0.2
             }
            },
            "type": "bar"
           }
          ],
          "barpolar": [
           {
            "marker": {
             "line": {
              "color": "#E5ECF6",
              "width": 0.5
             },
             "pattern": {
              "fillmode": "overlay",
              "size": 10,
              "solidity": 0.2
             }
            },
            "type": "barpolar"
           }
          ],
          "carpet": [
           {
            "aaxis": {
             "endlinecolor": "#2a3f5f",
             "gridcolor": "white",
             "linecolor": "white",
             "minorgridcolor": "white",
             "startlinecolor": "#2a3f5f"
            },
            "baxis": {
             "endlinecolor": "#2a3f5f",
             "gridcolor": "white",
             "linecolor": "white",
             "minorgridcolor": "white",
             "startlinecolor": "#2a3f5f"
            },
            "type": "carpet"
           }
          ],
          "choropleth": [
           {
            "colorbar": {
             "outlinewidth": 0,
             "ticks": ""
            },
            "type": "choropleth"
           }
          ],
          "contour": [
           {
            "colorbar": {
             "outlinewidth": 0,
             "ticks": ""
            },
            "colorscale": [
             [
              0,
              "#0d0887"
             ],
             [
              0.1111111111111111,
              "#46039f"
             ],
             [
              0.2222222222222222,
              "#7201a8"
             ],
             [
              0.3333333333333333,
              "#9c179e"
             ],
             [
              0.4444444444444444,
              "#bd3786"
             ],
             [
              0.5555555555555556,
              "#d8576b"
             ],
             [
              0.6666666666666666,
              "#ed7953"
             ],
             [
              0.7777777777777778,
              "#fb9f3a"
             ],
             [
              0.8888888888888888,
              "#fdca26"
             ],
             [
              1,
              "#f0f921"
             ]
            ],
            "type": "contour"
           }
          ],
          "contourcarpet": [
           {
            "colorbar": {
             "outlinewidth": 0,
             "ticks": ""
            },
            "type": "contourcarpet"
           }
          ],
          "heatmap": [
           {
            "colorbar": {
             "outlinewidth": 0,
             "ticks": ""
            },
            "colorscale": [
             [
              0,
              "#0d0887"
             ],
             [
              0.1111111111111111,
              "#46039f"
             ],
             [
              0.2222222222222222,
              "#7201a8"
             ],
             [
              0.3333333333333333,
              "#9c179e"
             ],
             [
              0.4444444444444444,
              "#bd3786"
             ],
             [
              0.5555555555555556,
              "#d8576b"
             ],
             [
              0.6666666666666666,
              "#ed7953"
             ],
             [
              0.7777777777777778,
              "#fb9f3a"
             ],
             [
              0.8888888888888888,
              "#fdca26"
             ],
             [
              1,
              "#f0f921"
             ]
            ],
            "type": "heatmap"
           }
          ],
          "heatmapgl": [
           {
            "colorbar": {
             "outlinewidth": 0,
             "ticks": ""
            },
            "colorscale": [
             [
              0,
              "#0d0887"
             ],
             [
              0.1111111111111111,
              "#46039f"
             ],
             [
              0.2222222222222222,
              "#7201a8"
             ],
             [
              0.3333333333333333,
              "#9c179e"
             ],
             [
              0.4444444444444444,
              "#bd3786"
             ],
             [
              0.5555555555555556,
              "#d8576b"
             ],
             [
              0.6666666666666666,
              "#ed7953"
             ],
             [
              0.7777777777777778,
              "#fb9f3a"
             ],
             [
              0.8888888888888888,
              "#fdca26"
             ],
             [
              1,
              "#f0f921"
             ]
            ],
            "type": "heatmapgl"
           }
          ],
          "histogram": [
           {
            "marker": {
             "pattern": {
              "fillmode": "overlay",
              "size": 10,
              "solidity": 0.2
             }
            },
            "type": "histogram"
           }
          ],
          "histogram2d": [
           {
            "colorbar": {
             "outlinewidth": 0,
             "ticks": ""
            },
            "colorscale": [
             [
              0,
              "#0d0887"
             ],
             [
              0.1111111111111111,
              "#46039f"
             ],
             [
              0.2222222222222222,
              "#7201a8"
             ],
             [
              0.3333333333333333,
              "#9c179e"
             ],
             [
              0.4444444444444444,
              "#bd3786"
             ],
             [
              0.5555555555555556,
              "#d8576b"
             ],
             [
              0.6666666666666666,
              "#ed7953"
             ],
             [
              0.7777777777777778,
              "#fb9f3a"
             ],
             [
              0.8888888888888888,
              "#fdca26"
             ],
             [
              1,
              "#f0f921"
             ]
            ],
            "type": "histogram2d"
           }
          ],
          "histogram2dcontour": [
           {
            "colorbar": {
             "outlinewidth": 0,
             "ticks": ""
            },
            "colorscale": [
             [
              0,
              "#0d0887"
             ],
             [
              0.1111111111111111,
              "#46039f"
             ],
             [
              0.2222222222222222,
              "#7201a8"
             ],
             [
              0.3333333333333333,
              "#9c179e"
             ],
             [
              0.4444444444444444,
              "#bd3786"
             ],
             [
              0.5555555555555556,
              "#d8576b"
             ],
             [
              0.6666666666666666,
              "#ed7953"
             ],
             [
              0.7777777777777778,
              "#fb9f3a"
             ],
             [
              0.8888888888888888,
              "#fdca26"
             ],
             [
              1,
              "#f0f921"
             ]
            ],
            "type": "histogram2dcontour"
           }
          ],
          "mesh3d": [
           {
            "colorbar": {
             "outlinewidth": 0,
             "ticks": ""
            },
            "type": "mesh3d"
           }
          ],
          "parcoords": [
           {
            "line": {
             "colorbar": {
              "outlinewidth": 0,
              "ticks": ""
             }
            },
            "type": "parcoords"
           }
          ],
          "pie": [
           {
            "automargin": true,
            "type": "pie"
           }
          ],
          "scatter": [
           {
            "fillpattern": {
             "fillmode": "overlay",
             "size": 10,
             "solidity": 0.2
            },
            "type": "scatter"
           }
          ],
          "scatter3d": [
           {
            "line": {
             "colorbar": {
              "outlinewidth": 0,
              "ticks": ""
             }
            },
            "marker": {
             "colorbar": {
              "outlinewidth": 0,
              "ticks": ""
             }
            },
            "type": "scatter3d"
           }
          ],
          "scattercarpet": [
           {
            "marker": {
             "colorbar": {
              "outlinewidth": 0,
              "ticks": ""
             }
            },
            "type": "scattercarpet"
           }
          ],
          "scattergeo": [
           {
            "marker": {
             "colorbar": {
              "outlinewidth": 0,
              "ticks": ""
             }
            },
            "type": "scattergeo"
           }
          ],
          "scattergl": [
           {
            "marker": {
             "colorbar": {
              "outlinewidth": 0,
              "ticks": ""
             }
            },
            "type": "scattergl"
           }
          ],
          "scattermapbox": [
           {
            "marker": {
             "colorbar": {
              "outlinewidth": 0,
              "ticks": ""
             }
            },
            "type": "scattermapbox"
           }
          ],
          "scatterpolar": [
           {
            "marker": {
             "colorbar": {
              "outlinewidth": 0,
              "ticks": ""
             }
            },
            "type": "scatterpolar"
           }
          ],
          "scatterpolargl": [
           {
            "marker": {
             "colorbar": {
              "outlinewidth": 0,
              "ticks": ""
             }
            },
            "type": "scatterpolargl"
           }
          ],
          "scatterternary": [
           {
            "marker": {
             "colorbar": {
              "outlinewidth": 0,
              "ticks": ""
             }
            },
            "type": "scatterternary"
           }
          ],
          "surface": [
           {
            "colorbar": {
             "outlinewidth": 0,
             "ticks": ""
            },
            "colorscale": [
             [
              0,
              "#0d0887"
             ],
             [
              0.1111111111111111,
              "#46039f"
             ],
             [
              0.2222222222222222,
              "#7201a8"
             ],
             [
              0.3333333333333333,
              "#9c179e"
             ],
             [
              0.4444444444444444,
              "#bd3786"
             ],
             [
              0.5555555555555556,
              "#d8576b"
             ],
             [
              0.6666666666666666,
              "#ed7953"
             ],
             [
              0.7777777777777778,
              "#fb9f3a"
             ],
             [
              0.8888888888888888,
              "#fdca26"
             ],
             [
              1,
              "#f0f921"
             ]
            ],
            "type": "surface"
           }
          ],
          "table": [
           {
            "cells": {
             "fill": {
              "color": "#EBF0F8"
             },
             "line": {
              "color": "white"
             }
            },
            "header": {
             "fill": {
              "color": "#C8D4E3"
             },
             "line": {
              "color": "white"
             }
            },
            "type": "table"
           }
          ]
         },
         "layout": {
          "annotationdefaults": {
           "arrowcolor": "#2a3f5f",
           "arrowhead": 0,
           "arrowwidth": 1
          },
          "autotypenumbers": "strict",
          "coloraxis": {
           "colorbar": {
            "outlinewidth": 0,
            "ticks": ""
           }
          },
          "colorscale": {
           "diverging": [
            [
             0,
             "#8e0152"
            ],
            [
             0.1,
             "#c51b7d"
            ],
            [
             0.2,
             "#de77ae"
            ],
            [
             0.3,
             "#f1b6da"
            ],
            [
             0.4,
             "#fde0ef"
            ],
            [
             0.5,
             "#f7f7f7"
            ],
            [
             0.6,
             "#e6f5d0"
            ],
            [
             0.7,
             "#b8e186"
            ],
            [
             0.8,
             "#7fbc41"
            ],
            [
             0.9,
             "#4d9221"
            ],
            [
             1,
             "#276419"
            ]
           ],
           "sequential": [
            [
             0,
             "#0d0887"
            ],
            [
             0.1111111111111111,
             "#46039f"
            ],
            [
             0.2222222222222222,
             "#7201a8"
            ],
            [
             0.3333333333333333,
             "#9c179e"
            ],
            [
             0.4444444444444444,
             "#bd3786"
            ],
            [
             0.5555555555555556,
             "#d8576b"
            ],
            [
             0.6666666666666666,
             "#ed7953"
            ],
            [
             0.7777777777777778,
             "#fb9f3a"
            ],
            [
             0.8888888888888888,
             "#fdca26"
            ],
            [
             1,
             "#f0f921"
            ]
           ],
           "sequentialminus": [
            [
             0,
             "#0d0887"
            ],
            [
             0.1111111111111111,
             "#46039f"
            ],
            [
             0.2222222222222222,
             "#7201a8"
            ],
            [
             0.3333333333333333,
             "#9c179e"
            ],
            [
             0.4444444444444444,
             "#bd3786"
            ],
            [
             0.5555555555555556,
             "#d8576b"
            ],
            [
             0.6666666666666666,
             "#ed7953"
            ],
            [
             0.7777777777777778,
             "#fb9f3a"
            ],
            [
             0.8888888888888888,
             "#fdca26"
            ],
            [
             1,
             "#f0f921"
            ]
           ]
          },
          "colorway": [
           "#636efa",
           "#EF553B",
           "#00cc96",
           "#ab63fa",
           "#FFA15A",
           "#19d3f3",
           "#FF6692",
           "#B6E880",
           "#FF97FF",
           "#FECB52"
          ],
          "font": {
           "color": "#2a3f5f"
          },
          "geo": {
           "bgcolor": "white",
           "lakecolor": "white",
           "landcolor": "#E5ECF6",
           "showlakes": true,
           "showland": true,
           "subunitcolor": "white"
          },
          "hoverlabel": {
           "align": "left"
          },
          "hovermode": "closest",
          "mapbox": {
           "style": "light"
          },
          "paper_bgcolor": "white",
          "plot_bgcolor": "#E5ECF6",
          "polar": {
           "angularaxis": {
            "gridcolor": "white",
            "linecolor": "white",
            "ticks": ""
           },
           "bgcolor": "#E5ECF6",
           "radialaxis": {
            "gridcolor": "white",
            "linecolor": "white",
            "ticks": ""
           }
          },
          "scene": {
           "xaxis": {
            "backgroundcolor": "#E5ECF6",
            "gridcolor": "white",
            "gridwidth": 2,
            "linecolor": "white",
            "showbackground": true,
            "ticks": "",
            "zerolinecolor": "white"
           },
           "yaxis": {
            "backgroundcolor": "#E5ECF6",
            "gridcolor": "white",
            "gridwidth": 2,
            "linecolor": "white",
            "showbackground": true,
            "ticks": "",
            "zerolinecolor": "white"
           },
           "zaxis": {
            "backgroundcolor": "#E5ECF6",
            "gridcolor": "white",
            "gridwidth": 2,
            "linecolor": "white",
            "showbackground": true,
            "ticks": "",
            "zerolinecolor": "white"
           }
          },
          "shapedefaults": {
           "line": {
            "color": "#2a3f5f"
           }
          },
          "ternary": {
           "aaxis": {
            "gridcolor": "white",
            "linecolor": "white",
            "ticks": ""
           },
           "baxis": {
            "gridcolor": "white",
            "linecolor": "white",
            "ticks": ""
           },
           "bgcolor": "#E5ECF6",
           "caxis": {
            "gridcolor": "white",
            "linecolor": "white",
            "ticks": ""
           }
          },
          "title": {
           "x": 0.05
          },
          "xaxis": {
           "automargin": true,
           "gridcolor": "white",
           "linecolor": "white",
           "ticks": "",
           "title": {
            "standoff": 15
           },
           "zerolinecolor": "white",
           "zerolinewidth": 2
          },
          "yaxis": {
           "automargin": true,
           "gridcolor": "white",
           "linecolor": "white",
           "ticks": "",
           "title": {
            "standoff": 15
           },
           "zerolinecolor": "white",
           "zerolinewidth": 2
          }
         }
        },
        "width": 600,
        "xaxis": {
         "title": {
          "text": "Year"
         }
        },
        "yaxis": {
         "dtick": 0.05,
         "title": {
          "text": "Admission_Rate (Fraction)"
         }
        }
       }
      }
     },
     "metadata": {},
     "output_type": "display_data"
    }
   ],
   "source": [
    "fig = go.Figure()\n",
    "fig.add_trace(go.Scatter(\n",
    "    x=year,\n",
    "    y=admittanceTier1['ADM_RATE_ALL'],\n",
    "    marker_color=\"red\",\n",
    "    mode=\"markers\",\n",
    "    name=\"Tier1\"\n",
    "))\n",
    "\n",
    "fig.add_trace(go.Scatter(\n",
    "    x=year,\n",
    "    y=admittanceTier2['ADM_RATE_ALL'],\n",
    "    marker_color=\"green\",\n",
    "    mode=\"markers\",\n",
    "    name=\"Tier2\"\n",
    "))\n",
    "fig.update_layout(\n",
    "    yaxis=dict(dtick=0.05, title=\"Admission_Rate (Fraction)\"),\n",
    "    xaxis=dict(title=\"Year\"),\n",
    ")\n",
    "fig.layout.update(dict(width=600, height=600))\n",
    "fig.show()"
   ]
  },
  {
   "cell_type": "code",
   "execution_count": 31,
   "metadata": {},
   "outputs": [
    {
     "data": {
      "application/vnd.plotly.v1+json": {
       "config": {
        "plotlyServerURL": "https://plot.ly"
       },
       "data": [
        {
         "marker": {
          "color": "red"
         },
         "mode": "markers",
         "name": "Tier1",
         "type": "scatter",
         "x": [
          2010,
          2010,
          2010,
          2010,
          2010,
          2010,
          2010,
          2010,
          2010,
          2010,
          2010,
          2010,
          2010,
          2010,
          2010,
          2011,
          2011,
          2011,
          2011,
          2011,
          2011,
          2011,
          2011,
          2011,
          2011,
          2011,
          2011,
          2011,
          2011,
          2011,
          2012,
          2012,
          2012,
          2012,
          2012,
          2012,
          2012,
          2012,
          2012,
          2012,
          2012,
          2012,
          2012,
          2012,
          2012,
          2013,
          2013,
          2013,
          2013,
          2013,
          2013,
          2013,
          2013,
          2013,
          2013,
          2013,
          2013,
          2013,
          2013,
          2013,
          2014,
          2014,
          2014,
          2014,
          2014,
          2014,
          2014,
          2014,
          2014,
          2014,
          2014,
          2014,
          2014,
          2014,
          2014,
          2015,
          2015,
          2015,
          2015,
          2015,
          2015,
          2015,
          2015,
          2015,
          2015,
          2015,
          2015,
          2015,
          2015,
          2015,
          2016,
          2016,
          2016,
          2016,
          2016,
          2016,
          2016,
          2016,
          2016,
          2016,
          2016,
          2016,
          2016,
          2016,
          2016,
          2017,
          2017,
          2017,
          2017,
          2017,
          2017,
          2017,
          2017,
          2017,
          2017,
          2017,
          2017,
          2017,
          2017,
          2017,
          2018,
          2018,
          2018,
          2018,
          2018,
          2018,
          2018,
          2018,
          2018,
          2018,
          2018,
          2018,
          2018,
          2018,
          2018,
          2019,
          2019,
          2019,
          2019,
          2019,
          2019,
          2019,
          2019,
          2019,
          2019,
          2019,
          2019,
          2019,
          2019,
          2019,
          2020,
          2020,
          2020,
          2020,
          2020,
          2020,
          2020,
          2020,
          2020,
          2020,
          2020,
          2020,
          2020,
          2020,
          2020
         ],
         "y": [
          1514,
          1244,
          1323,
          1427,
          1395,
          1468,
          1472,
          1462,
          1432,
          1482,
          1440,
          1436,
          1420,
          1430,
          1436,
          1528,
          1265,
          1320,
          1434,
          1390,
          1478,
          1486,
          1465,
          1444,
          1485,
          1432,
          1435,
          1415,
          1433,
          1452,
          1520,
          1249,
          1329,
          1438,
          1393,
          1485,
          1490,
          1467,
          1454,
          1487,
          1435,
          1435,
          1387,
          1454,
          1446,
          1520,
          1271,
          1349,
          1452,
          1403,
          1497,
          1490,
          1478,
          1446,
          1492,
          1435,
          1439,
          1419,
          1471,
          1465,
          1534,
          1272,
          1352,
          1458,
          1418,
          1501,
          1503,
          1474,
          1446,
          1495,
          1444,
          1442,
          1425,
          1475,
          1466,
          1545,
          1273,
          1400,
          1461,
          1439,
          1501,
          1500,
          1478,
          1444,
          1491,
          1454,
          1452,
          1435,
          1481,
          1465,
          1544,
          1275,
          1403,
          1460,
          1453,
          1497,
          1507,
          1469,
          1437,
          1490,
          1450,
          1457,
          1457,
          1498,
          1479,
          1555,
          1279,
          1417,
          1470,
          1476,
          1506,
          1519,
          1472,
          1441,
          1493,
          1460,
          1481,
          1459,
          1495,
          1476,
          1558,
          1346,
          1389,
          1500,
          1524,
          1523,
          1532,
          1508,
          1483,
          1500,
          1488,
          1506,
          1494,
          1515,
          1489,
          1566,
          1353,
          1465,
          1508,
          1513,
          1520,
          1545,
          1506,
          1488,
          1503,
          1516,
          1492,
          1492,
          1514,
          1497,
          1557,
          1380,
          1418,
          1506,
          1514,
          1517,
          1547,
          1520,
          1500,
          1517,
          1522,
          1511,
          1511,
          1515,
          1503
         ]
        },
        {
         "marker": {
          "color": "green"
         },
         "mode": "markers",
         "name": "Tier2",
         "type": "scatter",
         "x": [
          2010,
          2010,
          2010,
          2010,
          2010,
          2010,
          2010,
          2010,
          2010,
          2010,
          2010,
          2010,
          2010,
          2010,
          2010,
          2011,
          2011,
          2011,
          2011,
          2011,
          2011,
          2011,
          2011,
          2011,
          2011,
          2011,
          2011,
          2011,
          2011,
          2011,
          2012,
          2012,
          2012,
          2012,
          2012,
          2012,
          2012,
          2012,
          2012,
          2012,
          2012,
          2012,
          2012,
          2012,
          2012,
          2013,
          2013,
          2013,
          2013,
          2013,
          2013,
          2013,
          2013,
          2013,
          2013,
          2013,
          2013,
          2013,
          2013,
          2013,
          2014,
          2014,
          2014,
          2014,
          2014,
          2014,
          2014,
          2014,
          2014,
          2014,
          2014,
          2014,
          2014,
          2014,
          2014,
          2015,
          2015,
          2015,
          2015,
          2015,
          2015,
          2015,
          2015,
          2015,
          2015,
          2015,
          2015,
          2015,
          2015,
          2015,
          2016,
          2016,
          2016,
          2016,
          2016,
          2016,
          2016,
          2016,
          2016,
          2016,
          2016,
          2016,
          2016,
          2016,
          2016,
          2017,
          2017,
          2017,
          2017,
          2017,
          2017,
          2017,
          2017,
          2017,
          2017,
          2017,
          2017,
          2017,
          2017,
          2017,
          2018,
          2018,
          2018,
          2018,
          2018,
          2018,
          2018,
          2018,
          2018,
          2018,
          2018,
          2018,
          2018,
          2018,
          2018,
          2019,
          2019,
          2019,
          2019,
          2019,
          2019,
          2019,
          2019,
          2019,
          2019,
          2019,
          2019,
          2019,
          2019,
          2019,
          2020,
          2020,
          2020,
          2020,
          2020,
          2020,
          2020,
          2020,
          2020,
          2020,
          2020,
          2020,
          2020,
          2020,
          2020
         ],
         "y": [
          1099,
          1261,
          850,
          1141,
          1037,
          1091,
          823,
          1068,
          1063,
          865,
          1246,
          null,
          null,
          1205,
          1071,
          1093,
          1280,
          825,
          1122,
          1056,
          1091,
          822,
          1088,
          1055,
          null,
          1254,
          null,
          null,
          1199,
          1093,
          1102,
          1297,
          834,
          1139,
          1052,
          1090,
          867,
          1088,
          1061,
          null,
          1250,
          null,
          null,
          1205,
          1093,
          1099,
          1297,
          780,
          1150,
          1036,
          1048,
          824,
          1104,
          1075,
          null,
          1258,
          null,
          null,
          1216,
          1093,
          1106,
          1298,
          812,
          1154,
          1053,
          1089,
          860,
          1089,
          1081,
          null,
          1258,
          null,
          null,
          1197,
          1100,
          null,
          1333,
          803,
          1161,
          1066,
          null,
          883,
          1104,
          1081,
          null,
          1254,
          null,
          null,
          1186,
          1090,
          null,
          1339,
          null,
          1167,
          1070,
          1089,
          931,
          1105,
          1084,
          null,
          1273,
          null,
          null,
          1214,
          1085,
          null,
          1354,
          null,
          1161,
          1057,
          1102,
          907,
          1105,
          1088,
          863,
          1281,
          null,
          null,
          1204,
          1090,
          null,
          1391,
          null,
          1234,
          1138,
          1159,
          982,
          1195,
          1165,
          null,
          1337,
          851,
          null,
          1269,
          1167,
          1198,
          1383,
          null,
          1256,
          null,
          1152,
          937,
          1219,
          1172,
          null,
          1354,
          911,
          null,
          1281,
          1163,
          1228,
          1342,
          925,
          1261,
          null,
          1168,
          1027,
          1218,
          1174,
          null,
          1356,
          null,
          null,
          1295,
          1166
         ]
        }
       ],
       "layout": {
        "height": 600,
        "template": {
         "data": {
          "bar": [
           {
            "error_x": {
             "color": "#2a3f5f"
            },
            "error_y": {
             "color": "#2a3f5f"
            },
            "marker": {
             "line": {
              "color": "#E5ECF6",
              "width": 0.5
             },
             "pattern": {
              "fillmode": "overlay",
              "size": 10,
              "solidity": 0.2
             }
            },
            "type": "bar"
           }
          ],
          "barpolar": [
           {
            "marker": {
             "line": {
              "color": "#E5ECF6",
              "width": 0.5
             },
             "pattern": {
              "fillmode": "overlay",
              "size": 10,
              "solidity": 0.2
             }
            },
            "type": "barpolar"
           }
          ],
          "carpet": [
           {
            "aaxis": {
             "endlinecolor": "#2a3f5f",
             "gridcolor": "white",
             "linecolor": "white",
             "minorgridcolor": "white",
             "startlinecolor": "#2a3f5f"
            },
            "baxis": {
             "endlinecolor": "#2a3f5f",
             "gridcolor": "white",
             "linecolor": "white",
             "minorgridcolor": "white",
             "startlinecolor": "#2a3f5f"
            },
            "type": "carpet"
           }
          ],
          "choropleth": [
           {
            "colorbar": {
             "outlinewidth": 0,
             "ticks": ""
            },
            "type": "choropleth"
           }
          ],
          "contour": [
           {
            "colorbar": {
             "outlinewidth": 0,
             "ticks": ""
            },
            "colorscale": [
             [
              0,
              "#0d0887"
             ],
             [
              0.1111111111111111,
              "#46039f"
             ],
             [
              0.2222222222222222,
              "#7201a8"
             ],
             [
              0.3333333333333333,
              "#9c179e"
             ],
             [
              0.4444444444444444,
              "#bd3786"
             ],
             [
              0.5555555555555556,
              "#d8576b"
             ],
             [
              0.6666666666666666,
              "#ed7953"
             ],
             [
              0.7777777777777778,
              "#fb9f3a"
             ],
             [
              0.8888888888888888,
              "#fdca26"
             ],
             [
              1,
              "#f0f921"
             ]
            ],
            "type": "contour"
           }
          ],
          "contourcarpet": [
           {
            "colorbar": {
             "outlinewidth": 0,
             "ticks": ""
            },
            "type": "contourcarpet"
           }
          ],
          "heatmap": [
           {
            "colorbar": {
             "outlinewidth": 0,
             "ticks": ""
            },
            "colorscale": [
             [
              0,
              "#0d0887"
             ],
             [
              0.1111111111111111,
              "#46039f"
             ],
             [
              0.2222222222222222,
              "#7201a8"
             ],
             [
              0.3333333333333333,
              "#9c179e"
             ],
             [
              0.4444444444444444,
              "#bd3786"
             ],
             [
              0.5555555555555556,
              "#d8576b"
             ],
             [
              0.6666666666666666,
              "#ed7953"
             ],
             [
              0.7777777777777778,
              "#fb9f3a"
             ],
             [
              0.8888888888888888,
              "#fdca26"
             ],
             [
              1,
              "#f0f921"
             ]
            ],
            "type": "heatmap"
           }
          ],
          "heatmapgl": [
           {
            "colorbar": {
             "outlinewidth": 0,
             "ticks": ""
            },
            "colorscale": [
             [
              0,
              "#0d0887"
             ],
             [
              0.1111111111111111,
              "#46039f"
             ],
             [
              0.2222222222222222,
              "#7201a8"
             ],
             [
              0.3333333333333333,
              "#9c179e"
             ],
             [
              0.4444444444444444,
              "#bd3786"
             ],
             [
              0.5555555555555556,
              "#d8576b"
             ],
             [
              0.6666666666666666,
              "#ed7953"
             ],
             [
              0.7777777777777778,
              "#fb9f3a"
             ],
             [
              0.8888888888888888,
              "#fdca26"
             ],
             [
              1,
              "#f0f921"
             ]
            ],
            "type": "heatmapgl"
           }
          ],
          "histogram": [
           {
            "marker": {
             "pattern": {
              "fillmode": "overlay",
              "size": 10,
              "solidity": 0.2
             }
            },
            "type": "histogram"
           }
          ],
          "histogram2d": [
           {
            "colorbar": {
             "outlinewidth": 0,
             "ticks": ""
            },
            "colorscale": [
             [
              0,
              "#0d0887"
             ],
             [
              0.1111111111111111,
              "#46039f"
             ],
             [
              0.2222222222222222,
              "#7201a8"
             ],
             [
              0.3333333333333333,
              "#9c179e"
             ],
             [
              0.4444444444444444,
              "#bd3786"
             ],
             [
              0.5555555555555556,
              "#d8576b"
             ],
             [
              0.6666666666666666,
              "#ed7953"
             ],
             [
              0.7777777777777778,
              "#fb9f3a"
             ],
             [
              0.8888888888888888,
              "#fdca26"
             ],
             [
              1,
              "#f0f921"
             ]
            ],
            "type": "histogram2d"
           }
          ],
          "histogram2dcontour": [
           {
            "colorbar": {
             "outlinewidth": 0,
             "ticks": ""
            },
            "colorscale": [
             [
              0,
              "#0d0887"
             ],
             [
              0.1111111111111111,
              "#46039f"
             ],
             [
              0.2222222222222222,
              "#7201a8"
             ],
             [
              0.3333333333333333,
              "#9c179e"
             ],
             [
              0.4444444444444444,
              "#bd3786"
             ],
             [
              0.5555555555555556,
              "#d8576b"
             ],
             [
              0.6666666666666666,
              "#ed7953"
             ],
             [
              0.7777777777777778,
              "#fb9f3a"
             ],
             [
              0.8888888888888888,
              "#fdca26"
             ],
             [
              1,
              "#f0f921"
             ]
            ],
            "type": "histogram2dcontour"
           }
          ],
          "mesh3d": [
           {
            "colorbar": {
             "outlinewidth": 0,
             "ticks": ""
            },
            "type": "mesh3d"
           }
          ],
          "parcoords": [
           {
            "line": {
             "colorbar": {
              "outlinewidth": 0,
              "ticks": ""
             }
            },
            "type": "parcoords"
           }
          ],
          "pie": [
           {
            "automargin": true,
            "type": "pie"
           }
          ],
          "scatter": [
           {
            "fillpattern": {
             "fillmode": "overlay",
             "size": 10,
             "solidity": 0.2
            },
            "type": "scatter"
           }
          ],
          "scatter3d": [
           {
            "line": {
             "colorbar": {
              "outlinewidth": 0,
              "ticks": ""
             }
            },
            "marker": {
             "colorbar": {
              "outlinewidth": 0,
              "ticks": ""
             }
            },
            "type": "scatter3d"
           }
          ],
          "scattercarpet": [
           {
            "marker": {
             "colorbar": {
              "outlinewidth": 0,
              "ticks": ""
             }
            },
            "type": "scattercarpet"
           }
          ],
          "scattergeo": [
           {
            "marker": {
             "colorbar": {
              "outlinewidth": 0,
              "ticks": ""
             }
            },
            "type": "scattergeo"
           }
          ],
          "scattergl": [
           {
            "marker": {
             "colorbar": {
              "outlinewidth": 0,
              "ticks": ""
             }
            },
            "type": "scattergl"
           }
          ],
          "scattermapbox": [
           {
            "marker": {
             "colorbar": {
              "outlinewidth": 0,
              "ticks": ""
             }
            },
            "type": "scattermapbox"
           }
          ],
          "scatterpolar": [
           {
            "marker": {
             "colorbar": {
              "outlinewidth": 0,
              "ticks": ""
             }
            },
            "type": "scatterpolar"
           }
          ],
          "scatterpolargl": [
           {
            "marker": {
             "colorbar": {
              "outlinewidth": 0,
              "ticks": ""
             }
            },
            "type": "scatterpolargl"
           }
          ],
          "scatterternary": [
           {
            "marker": {
             "colorbar": {
              "outlinewidth": 0,
              "ticks": ""
             }
            },
            "type": "scatterternary"
           }
          ],
          "surface": [
           {
            "colorbar": {
             "outlinewidth": 0,
             "ticks": ""
            },
            "colorscale": [
             [
              0,
              "#0d0887"
             ],
             [
              0.1111111111111111,
              "#46039f"
             ],
             [
              0.2222222222222222,
              "#7201a8"
             ],
             [
              0.3333333333333333,
              "#9c179e"
             ],
             [
              0.4444444444444444,
              "#bd3786"
             ],
             [
              0.5555555555555556,
              "#d8576b"
             ],
             [
              0.6666666666666666,
              "#ed7953"
             ],
             [
              0.7777777777777778,
              "#fb9f3a"
             ],
             [
              0.8888888888888888,
              "#fdca26"
             ],
             [
              1,
              "#f0f921"
             ]
            ],
            "type": "surface"
           }
          ],
          "table": [
           {
            "cells": {
             "fill": {
              "color": "#EBF0F8"
             },
             "line": {
              "color": "white"
             }
            },
            "header": {
             "fill": {
              "color": "#C8D4E3"
             },
             "line": {
              "color": "white"
             }
            },
            "type": "table"
           }
          ]
         },
         "layout": {
          "annotationdefaults": {
           "arrowcolor": "#2a3f5f",
           "arrowhead": 0,
           "arrowwidth": 1
          },
          "autotypenumbers": "strict",
          "coloraxis": {
           "colorbar": {
            "outlinewidth": 0,
            "ticks": ""
           }
          },
          "colorscale": {
           "diverging": [
            [
             0,
             "#8e0152"
            ],
            [
             0.1,
             "#c51b7d"
            ],
            [
             0.2,
             "#de77ae"
            ],
            [
             0.3,
             "#f1b6da"
            ],
            [
             0.4,
             "#fde0ef"
            ],
            [
             0.5,
             "#f7f7f7"
            ],
            [
             0.6,
             "#e6f5d0"
            ],
            [
             0.7,
             "#b8e186"
            ],
            [
             0.8,
             "#7fbc41"
            ],
            [
             0.9,
             "#4d9221"
            ],
            [
             1,
             "#276419"
            ]
           ],
           "sequential": [
            [
             0,
             "#0d0887"
            ],
            [
             0.1111111111111111,
             "#46039f"
            ],
            [
             0.2222222222222222,
             "#7201a8"
            ],
            [
             0.3333333333333333,
             "#9c179e"
            ],
            [
             0.4444444444444444,
             "#bd3786"
            ],
            [
             0.5555555555555556,
             "#d8576b"
            ],
            [
             0.6666666666666666,
             "#ed7953"
            ],
            [
             0.7777777777777778,
             "#fb9f3a"
            ],
            [
             0.8888888888888888,
             "#fdca26"
            ],
            [
             1,
             "#f0f921"
            ]
           ],
           "sequentialminus": [
            [
             0,
             "#0d0887"
            ],
            [
             0.1111111111111111,
             "#46039f"
            ],
            [
             0.2222222222222222,
             "#7201a8"
            ],
            [
             0.3333333333333333,
             "#9c179e"
            ],
            [
             0.4444444444444444,
             "#bd3786"
            ],
            [
             0.5555555555555556,
             "#d8576b"
            ],
            [
             0.6666666666666666,
             "#ed7953"
            ],
            [
             0.7777777777777778,
             "#fb9f3a"
            ],
            [
             0.8888888888888888,
             "#fdca26"
            ],
            [
             1,
             "#f0f921"
            ]
           ]
          },
          "colorway": [
           "#636efa",
           "#EF553B",
           "#00cc96",
           "#ab63fa",
           "#FFA15A",
           "#19d3f3",
           "#FF6692",
           "#B6E880",
           "#FF97FF",
           "#FECB52"
          ],
          "font": {
           "color": "#2a3f5f"
          },
          "geo": {
           "bgcolor": "white",
           "lakecolor": "white",
           "landcolor": "#E5ECF6",
           "showlakes": true,
           "showland": true,
           "subunitcolor": "white"
          },
          "hoverlabel": {
           "align": "left"
          },
          "hovermode": "closest",
          "mapbox": {
           "style": "light"
          },
          "paper_bgcolor": "white",
          "plot_bgcolor": "#E5ECF6",
          "polar": {
           "angularaxis": {
            "gridcolor": "white",
            "linecolor": "white",
            "ticks": ""
           },
           "bgcolor": "#E5ECF6",
           "radialaxis": {
            "gridcolor": "white",
            "linecolor": "white",
            "ticks": ""
           }
          },
          "scene": {
           "xaxis": {
            "backgroundcolor": "#E5ECF6",
            "gridcolor": "white",
            "gridwidth": 2,
            "linecolor": "white",
            "showbackground": true,
            "ticks": "",
            "zerolinecolor": "white"
           },
           "yaxis": {
            "backgroundcolor": "#E5ECF6",
            "gridcolor": "white",
            "gridwidth": 2,
            "linecolor": "white",
            "showbackground": true,
            "ticks": "",
            "zerolinecolor": "white"
           },
           "zaxis": {
            "backgroundcolor": "#E5ECF6",
            "gridcolor": "white",
            "gridwidth": 2,
            "linecolor": "white",
            "showbackground": true,
            "ticks": "",
            "zerolinecolor": "white"
           }
          },
          "shapedefaults": {
           "line": {
            "color": "#2a3f5f"
           }
          },
          "ternary": {
           "aaxis": {
            "gridcolor": "white",
            "linecolor": "white",
            "ticks": ""
           },
           "baxis": {
            "gridcolor": "white",
            "linecolor": "white",
            "ticks": ""
           },
           "bgcolor": "#E5ECF6",
           "caxis": {
            "gridcolor": "white",
            "linecolor": "white",
            "ticks": ""
           }
          },
          "title": {
           "x": 0.05
          },
          "xaxis": {
           "automargin": true,
           "gridcolor": "white",
           "linecolor": "white",
           "ticks": "",
           "title": {
            "standoff": 15
           },
           "zerolinecolor": "white",
           "zerolinewidth": 2
          },
          "yaxis": {
           "automargin": true,
           "gridcolor": "white",
           "linecolor": "white",
           "ticks": "",
           "title": {
            "standoff": 15
           },
           "zerolinecolor": "white",
           "zerolinewidth": 2
          }
         }
        },
        "width": 600,
        "xaxis": {
         "title": {
          "text": "Year"
         }
        },
        "yaxis": {
         "title": {
          "text": "SAT_SCORE"
         }
        }
       }
      }
     },
     "metadata": {},
     "output_type": "display_data"
    }
   ],
   "source": [
    "fig = go.Figure()\n",
    "fig.add_trace(go.Scatter(\n",
    "    x=year,\n",
    "    y=admittanceTier1['SAT_AVG_ALL'],\n",
    "    marker_color=\"red\",\n",
    "    mode=\"markers\",\n",
    "    name=\"Tier1\"\n",
    "))\n",
    "\n",
    "fig.add_trace(go.Scatter(\n",
    "    x=year,\n",
    "    y=admittanceTier2['SAT_AVG_ALL'],\n",
    "    marker_color=\"green\",\n",
    "    mode=\"markers\",\n",
    "    name=\"Tier2\"\n",
    "))\n",
    "fig.update_layout(\n",
    "    yaxis=dict(title=\"SAT_SCORE\"),\n",
    "    xaxis=dict(title=\"Year\"),\n",
    ")\n",
    "fig.layout.update(dict(width=600, height=600))\n",
    "fig.show()"
   ]
  },
  {
   "cell_type": "code",
   "execution_count": 32,
   "metadata": {},
   "outputs": [],
   "source": [
    "ffillByYear(tier1Institutes, 'C100_4', False, 2010, 2021)\n",
    "ffillByYear(tier2Institutes, 'C100_4', False, 2010, 2021)"
   ]
  },
  {
   "cell_type": "code",
   "execution_count": 33,
   "metadata": {},
   "outputs": [],
   "source": [
    "completionTier1 = tier1Institutes.loc[2010:2020]['C100_4']\n",
    "completionTier2 = tier2Institutes.loc[2010:2020]['C100_4']"
   ]
  },
  {
   "cell_type": "code",
   "execution_count": 34,
   "metadata": {},
   "outputs": [
    {
     "name": "stdout",
     "output_type": "stream",
     "text": [
      "[+] NullCompT1:  0.0  NullCompT2 0.0\n"
     ]
    }
   ],
   "source": [
    "# Completion rates\n",
    "nullPercentTier1 = completionTier1.isna().mean() * 100\n",
    "nullPercentTier2 = completionTier2.isna().mean() * 100\n",
    "\n",
    "print(\"[+] NullCompT1: \", nullPercentTier1, \" NullCompT2\", nullPercentTier2)"
   ]
  },
  {
   "cell_type": "code",
   "execution_count": 36,
   "metadata": {},
   "outputs": [
    {
     "data": {
      "application/vnd.plotly.v1+json": {
       "config": {
        "plotlyServerURL": "https://plot.ly"
       },
       "data": [
        {
         "marker": {
          "color": "red"
         },
         "mode": "markers",
         "name": "Tier1",
         "type": "scatter",
         "x": [
          2010,
          2010,
          2010,
          2010,
          2010,
          2010,
          2010,
          2010,
          2010,
          2010,
          2010,
          2010,
          2010,
          2010,
          2010,
          2011,
          2011,
          2011,
          2011,
          2011,
          2011,
          2011,
          2011,
          2011,
          2011,
          2011,
          2011,
          2011,
          2011,
          2011,
          2012,
          2012,
          2012,
          2012,
          2012,
          2012,
          2012,
          2012,
          2012,
          2012,
          2012,
          2012,
          2012,
          2012,
          2012,
          2013,
          2013,
          2013,
          2013,
          2013,
          2013,
          2013,
          2013,
          2013,
          2013,
          2013,
          2013,
          2013,
          2013,
          2013,
          2014,
          2014,
          2014,
          2014,
          2014,
          2014,
          2014,
          2014,
          2014,
          2014,
          2014,
          2014,
          2014,
          2014,
          2014,
          2015,
          2015,
          2015,
          2015,
          2015,
          2015,
          2015,
          2015,
          2015,
          2015,
          2015,
          2015,
          2015,
          2015,
          2015,
          2016,
          2016,
          2016,
          2016,
          2016,
          2016,
          2016,
          2016,
          2016,
          2016,
          2016,
          2016,
          2016,
          2016,
          2016,
          2017,
          2017,
          2017,
          2017,
          2017,
          2017,
          2017,
          2017,
          2017,
          2017,
          2017,
          2017,
          2017,
          2017,
          2017,
          2018,
          2018,
          2018,
          2018,
          2018,
          2018,
          2018,
          2018,
          2018,
          2018,
          2018,
          2018,
          2018,
          2018,
          2018,
          2019,
          2019,
          2019,
          2019,
          2019,
          2019,
          2019,
          2019,
          2019,
          2019,
          2019,
          2019,
          2019,
          2019,
          2019,
          2020,
          2020,
          2020,
          2020,
          2020,
          2020,
          2020,
          2020,
          2020,
          2020,
          2020,
          2020,
          2020,
          2020,
          2020
         ],
         "y": [
          0.7263,
          0.5815,
          0.3071,
          0.8727,
          0.8191,
          0.8775,
          0.8271,
          0.8436,
          0.8457,
          0.8992,
          0.885,
          0.8755,
          0.8563,
          0.8426,
          0.7933,
          0.8068,
          0.594,
          0.3285,
          0.8631,
          0.8234,
          0.8712,
          0.8448,
          0.8586,
          0.881,
          0.9009,
          0.8682,
          0.886,
          0.8565,
          0.8511,
          0.7836,
          0.7639,
          0.5861,
          0.313,
          0.855,
          0.8436,
          0.8681,
          0.8513,
          0.8644,
          0.8798,
          0.8709,
          0.885,
          0.8721,
          0.8318,
          0.8654,
          0.7892,
          0.7905,
          0.6434,
          0.3358,
          0.8583,
          0.8643,
          0.8624,
          0.8362,
          0.8819,
          0.8777,
          0.8779,
          0.8734,
          0.8723,
          0.8299,
          0.8659,
          0.7977,
          0.8225,
          0.6517,
          0.4088,
          0.8615,
          0.869,
          0.8654,
          0.8352,
          0.8823,
          0.8654,
          0.8777,
          0.8705,
          0.8787,
          0.8436,
          0.8665,
          0.7606,
          0.8475,
          0.672,
          0.3699,
          0.8536,
          0.8669,
          0.8575,
          0.8117,
          0.902,
          0.8776,
          0.9019,
          0.8713,
          0.8687,
          0.8454,
          0.8756,
          0.7622,
          0.8446,
          0.6635,
          0.4009,
          0.8242,
          0.869,
          0.8574,
          0.8199,
          0.8643,
          0.8591,
          0.8975,
          0.8618,
          0.8705,
          0.8309,
          0.8697,
          0.7518,
          0.8136,
          0.6738,
          0.4106,
          0.8396,
          0.8699,
          0.8623,
          0.8448,
          0.8833,
          0.8812,
          0.8917,
          0.8634,
          0.846,
          0.8368,
          0.8742,
          0.75,
          0.7901,
          0.68,
          0.3905,
          0.8429,
          0.8714,
          0.8424,
          0.8525,
          0.8793,
          0.8766,
          0.8862,
          0.8762,
          0.8557,
          0.8556,
          0.8607,
          0.7471,
          0.8061,
          0.6833,
          0.4004,
          0.8402,
          0.8699,
          0.867,
          0.8515,
          0.8759,
          0.8638,
          0.8738,
          0.8744,
          0.8521,
          0.8467,
          0.8926,
          0.7486,
          0.8434,
          0.6671,
          0.4558,
          0.8368,
          0.8658,
          0.8476,
          0.8691,
          0.8897,
          0.8683,
          0.898,
          0.8831,
          0.8571,
          0.8347,
          0.8799,
          0.7288
         ]
        },
        {
         "marker": {
          "color": "green"
         },
         "mode": "markers",
         "name": "Tier2",
         "type": "scatter",
         "x": [
          2010,
          2010,
          2010,
          2010,
          2010,
          2010,
          2010,
          2010,
          2010,
          2010,
          2010,
          2010,
          2010,
          2010,
          2010,
          2011,
          2011,
          2011,
          2011,
          2011,
          2011,
          2011,
          2011,
          2011,
          2011,
          2011,
          2011,
          2011,
          2011,
          2011,
          2012,
          2012,
          2012,
          2012,
          2012,
          2012,
          2012,
          2012,
          2012,
          2012,
          2012,
          2012,
          2012,
          2012,
          2012,
          2013,
          2013,
          2013,
          2013,
          2013,
          2013,
          2013,
          2013,
          2013,
          2013,
          2013,
          2013,
          2013,
          2013,
          2013,
          2014,
          2014,
          2014,
          2014,
          2014,
          2014,
          2014,
          2014,
          2014,
          2014,
          2014,
          2014,
          2014,
          2014,
          2014,
          2015,
          2015,
          2015,
          2015,
          2015,
          2015,
          2015,
          2015,
          2015,
          2015,
          2015,
          2015,
          2015,
          2015,
          2015,
          2016,
          2016,
          2016,
          2016,
          2016,
          2016,
          2016,
          2016,
          2016,
          2016,
          2016,
          2016,
          2016,
          2016,
          2016,
          2017,
          2017,
          2017,
          2017,
          2017,
          2017,
          2017,
          2017,
          2017,
          2017,
          2017,
          2017,
          2017,
          2017,
          2017,
          2018,
          2018,
          2018,
          2018,
          2018,
          2018,
          2018,
          2018,
          2018,
          2018,
          2018,
          2018,
          2018,
          2018,
          2018,
          2019,
          2019,
          2019,
          2019,
          2019,
          2019,
          2019,
          2019,
          2019,
          2019,
          2019,
          2019,
          2019,
          2019,
          2019,
          2020,
          2020,
          2020,
          2020,
          2020,
          2020,
          2020,
          2020,
          2020,
          2020,
          2020,
          2020,
          2020,
          2020,
          2020
         ],
         "y": [
          0.3235,
          0.4017,
          0.1354,
          0.213,
          0.3459,
          0.1532,
          0.0836,
          0.2606,
          0.1241,
          0.3563,
          0.7499,
          0.2768,
          0.1349,
          0.2467,
          0.1904,
          0.3378,
          0.3802,
          0.1443,
          0.2404,
          0.3407,
          0.1695,
          0.1209,
          0.275,
          0.1356,
          0.3563,
          0.7581,
          0.314,
          0.1327,
          0.2319,
          0.19,
          0.3637,
          0.3952,
          0.1533,
          0.2489,
          0.3255,
          0.2035,
          0.0466,
          0.2814,
          0.1622,
          0.0811,
          0.7393,
          0.2598,
          0.1285,
          0.2842,
          0.2137,
          0.3602,
          0.4029,
          0.1576,
          0.2903,
          0.3248,
          0.1703,
          0.0415,
          0.271,
          0.1726,
          0.1739,
          0.7661,
          0.2169,
          0.1076,
          0.2655,
          0.2178,
          0.3988,
          0.4119,
          0.1657,
          0.3556,
          0.3512,
          0.2154,
          0.0747,
          0.2941,
          0.1568,
          0.0625,
          0.7602,
          0.2511,
          0.0935,
          0.2834,
          0.2466,
          0.4006,
          0.4632,
          0.2754,
          0.3871,
          0.3704,
          0.1947,
          0.0657,
          0.3006,
          0.2066,
          0.092,
          0.7478,
          0.2813,
          0.1107,
          0.241,
          0.2589,
          0.4308,
          0.4897,
          0.2541,
          0.4272,
          0.4055,
          0.1829,
          0.059,
          0.3162,
          0.2199,
          0.0727,
          0.7499,
          0.3203,
          0.0591,
          0.2275,
          0.2707,
          0.4189,
          0.5195,
          0.1429,
          0.4427,
          0.4468,
          0.2153,
          0.0525,
          0.3431,
          0.2265,
          0.0727,
          0.7442,
          0.2609,
          0.0531,
          0.2726,
          0.2855,
          0.4504,
          0.5495,
          0.1275,
          0.513,
          0.4757,
          0.224,
          0.0911,
          0.3244,
          0.2642,
          0.087,
          0.7431,
          0.2152,
          0.0788,
          0.2712,
          0.2899,
          0.4655,
          0.5911,
          0.1403,
          0.5515,
          0.474,
          0.209,
          0.0489,
          0.347,
          0.2909,
          0.0408,
          0.7895,
          0.1953,
          0.0698,
          0.2534,
          0.2983,
          0.4733,
          0.6226,
          0.1495,
          0.5974,
          0.5315,
          0.2276,
          0.1172,
          0.3904,
          0.3278,
          0.234,
          0.7826,
          0.2835,
          0.1195,
          0.2586,
          0.3501
         ]
        }
       ],
       "layout": {
        "height": 600,
        "template": {
         "data": {
          "bar": [
           {
            "error_x": {
             "color": "#2a3f5f"
            },
            "error_y": {
             "color": "#2a3f5f"
            },
            "marker": {
             "line": {
              "color": "#E5ECF6",
              "width": 0.5
             },
             "pattern": {
              "fillmode": "overlay",
              "size": 10,
              "solidity": 0.2
             }
            },
            "type": "bar"
           }
          ],
          "barpolar": [
           {
            "marker": {
             "line": {
              "color": "#E5ECF6",
              "width": 0.5
             },
             "pattern": {
              "fillmode": "overlay",
              "size": 10,
              "solidity": 0.2
             }
            },
            "type": "barpolar"
           }
          ],
          "carpet": [
           {
            "aaxis": {
             "endlinecolor": "#2a3f5f",
             "gridcolor": "white",
             "linecolor": "white",
             "minorgridcolor": "white",
             "startlinecolor": "#2a3f5f"
            },
            "baxis": {
             "endlinecolor": "#2a3f5f",
             "gridcolor": "white",
             "linecolor": "white",
             "minorgridcolor": "white",
             "startlinecolor": "#2a3f5f"
            },
            "type": "carpet"
           }
          ],
          "choropleth": [
           {
            "colorbar": {
             "outlinewidth": 0,
             "ticks": ""
            },
            "type": "choropleth"
           }
          ],
          "contour": [
           {
            "colorbar": {
             "outlinewidth": 0,
             "ticks": ""
            },
            "colorscale": [
             [
              0,
              "#0d0887"
             ],
             [
              0.1111111111111111,
              "#46039f"
             ],
             [
              0.2222222222222222,
              "#7201a8"
             ],
             [
              0.3333333333333333,
              "#9c179e"
             ],
             [
              0.4444444444444444,
              "#bd3786"
             ],
             [
              0.5555555555555556,
              "#d8576b"
             ],
             [
              0.6666666666666666,
              "#ed7953"
             ],
             [
              0.7777777777777778,
              "#fb9f3a"
             ],
             [
              0.8888888888888888,
              "#fdca26"
             ],
             [
              1,
              "#f0f921"
             ]
            ],
            "type": "contour"
           }
          ],
          "contourcarpet": [
           {
            "colorbar": {
             "outlinewidth": 0,
             "ticks": ""
            },
            "type": "contourcarpet"
           }
          ],
          "heatmap": [
           {
            "colorbar": {
             "outlinewidth": 0,
             "ticks": ""
            },
            "colorscale": [
             [
              0,
              "#0d0887"
             ],
             [
              0.1111111111111111,
              "#46039f"
             ],
             [
              0.2222222222222222,
              "#7201a8"
             ],
             [
              0.3333333333333333,
              "#9c179e"
             ],
             [
              0.4444444444444444,
              "#bd3786"
             ],
             [
              0.5555555555555556,
              "#d8576b"
             ],
             [
              0.6666666666666666,
              "#ed7953"
             ],
             [
              0.7777777777777778,
              "#fb9f3a"
             ],
             [
              0.8888888888888888,
              "#fdca26"
             ],
             [
              1,
              "#f0f921"
             ]
            ],
            "type": "heatmap"
           }
          ],
          "heatmapgl": [
           {
            "colorbar": {
             "outlinewidth": 0,
             "ticks": ""
            },
            "colorscale": [
             [
              0,
              "#0d0887"
             ],
             [
              0.1111111111111111,
              "#46039f"
             ],
             [
              0.2222222222222222,
              "#7201a8"
             ],
             [
              0.3333333333333333,
              "#9c179e"
             ],
             [
              0.4444444444444444,
              "#bd3786"
             ],
             [
              0.5555555555555556,
              "#d8576b"
             ],
             [
              0.6666666666666666,
              "#ed7953"
             ],
             [
              0.7777777777777778,
              "#fb9f3a"
             ],
             [
              0.8888888888888888,
              "#fdca26"
             ],
             [
              1,
              "#f0f921"
             ]
            ],
            "type": "heatmapgl"
           }
          ],
          "histogram": [
           {
            "marker": {
             "pattern": {
              "fillmode": "overlay",
              "size": 10,
              "solidity": 0.2
             }
            },
            "type": "histogram"
           }
          ],
          "histogram2d": [
           {
            "colorbar": {
             "outlinewidth": 0,
             "ticks": ""
            },
            "colorscale": [
             [
              0,
              "#0d0887"
             ],
             [
              0.1111111111111111,
              "#46039f"
             ],
             [
              0.2222222222222222,
              "#7201a8"
             ],
             [
              0.3333333333333333,
              "#9c179e"
             ],
             [
              0.4444444444444444,
              "#bd3786"
             ],
             [
              0.5555555555555556,
              "#d8576b"
             ],
             [
              0.6666666666666666,
              "#ed7953"
             ],
             [
              0.7777777777777778,
              "#fb9f3a"
             ],
             [
              0.8888888888888888,
              "#fdca26"
             ],
             [
              1,
              "#f0f921"
             ]
            ],
            "type": "histogram2d"
           }
          ],
          "histogram2dcontour": [
           {
            "colorbar": {
             "outlinewidth": 0,
             "ticks": ""
            },
            "colorscale": [
             [
              0,
              "#0d0887"
             ],
             [
              0.1111111111111111,
              "#46039f"
             ],
             [
              0.2222222222222222,
              "#7201a8"
             ],
             [
              0.3333333333333333,
              "#9c179e"
             ],
             [
              0.4444444444444444,
              "#bd3786"
             ],
             [
              0.5555555555555556,
              "#d8576b"
             ],
             [
              0.6666666666666666,
              "#ed7953"
             ],
             [
              0.7777777777777778,
              "#fb9f3a"
             ],
             [
              0.8888888888888888,
              "#fdca26"
             ],
             [
              1,
              "#f0f921"
             ]
            ],
            "type": "histogram2dcontour"
           }
          ],
          "mesh3d": [
           {
            "colorbar": {
             "outlinewidth": 0,
             "ticks": ""
            },
            "type": "mesh3d"
           }
          ],
          "parcoords": [
           {
            "line": {
             "colorbar": {
              "outlinewidth": 0,
              "ticks": ""
             }
            },
            "type": "parcoords"
           }
          ],
          "pie": [
           {
            "automargin": true,
            "type": "pie"
           }
          ],
          "scatter": [
           {
            "fillpattern": {
             "fillmode": "overlay",
             "size": 10,
             "solidity": 0.2
            },
            "type": "scatter"
           }
          ],
          "scatter3d": [
           {
            "line": {
             "colorbar": {
              "outlinewidth": 0,
              "ticks": ""
             }
            },
            "marker": {
             "colorbar": {
              "outlinewidth": 0,
              "ticks": ""
             }
            },
            "type": "scatter3d"
           }
          ],
          "scattercarpet": [
           {
            "marker": {
             "colorbar": {
              "outlinewidth": 0,
              "ticks": ""
             }
            },
            "type": "scattercarpet"
           }
          ],
          "scattergeo": [
           {
            "marker": {
             "colorbar": {
              "outlinewidth": 0,
              "ticks": ""
             }
            },
            "type": "scattergeo"
           }
          ],
          "scattergl": [
           {
            "marker": {
             "colorbar": {
              "outlinewidth": 0,
              "ticks": ""
             }
            },
            "type": "scattergl"
           }
          ],
          "scattermapbox": [
           {
            "marker": {
             "colorbar": {
              "outlinewidth": 0,
              "ticks": ""
             }
            },
            "type": "scattermapbox"
           }
          ],
          "scatterpolar": [
           {
            "marker": {
             "colorbar": {
              "outlinewidth": 0,
              "ticks": ""
             }
            },
            "type": "scatterpolar"
           }
          ],
          "scatterpolargl": [
           {
            "marker": {
             "colorbar": {
              "outlinewidth": 0,
              "ticks": ""
             }
            },
            "type": "scatterpolargl"
           }
          ],
          "scatterternary": [
           {
            "marker": {
             "colorbar": {
              "outlinewidth": 0,
              "ticks": ""
             }
            },
            "type": "scatterternary"
           }
          ],
          "surface": [
           {
            "colorbar": {
             "outlinewidth": 0,
             "ticks": ""
            },
            "colorscale": [
             [
              0,
              "#0d0887"
             ],
             [
              0.1111111111111111,
              "#46039f"
             ],
             [
              0.2222222222222222,
              "#7201a8"
             ],
             [
              0.3333333333333333,
              "#9c179e"
             ],
             [
              0.4444444444444444,
              "#bd3786"
             ],
             [
              0.5555555555555556,
              "#d8576b"
             ],
             [
              0.6666666666666666,
              "#ed7953"
             ],
             [
              0.7777777777777778,
              "#fb9f3a"
             ],
             [
              0.8888888888888888,
              "#fdca26"
             ],
             [
              1,
              "#f0f921"
             ]
            ],
            "type": "surface"
           }
          ],
          "table": [
           {
            "cells": {
             "fill": {
              "color": "#EBF0F8"
             },
             "line": {
              "color": "white"
             }
            },
            "header": {
             "fill": {
              "color": "#C8D4E3"
             },
             "line": {
              "color": "white"
             }
            },
            "type": "table"
           }
          ]
         },
         "layout": {
          "annotationdefaults": {
           "arrowcolor": "#2a3f5f",
           "arrowhead": 0,
           "arrowwidth": 1
          },
          "autotypenumbers": "strict",
          "coloraxis": {
           "colorbar": {
            "outlinewidth": 0,
            "ticks": ""
           }
          },
          "colorscale": {
           "diverging": [
            [
             0,
             "#8e0152"
            ],
            [
             0.1,
             "#c51b7d"
            ],
            [
             0.2,
             "#de77ae"
            ],
            [
             0.3,
             "#f1b6da"
            ],
            [
             0.4,
             "#fde0ef"
            ],
            [
             0.5,
             "#f7f7f7"
            ],
            [
             0.6,
             "#e6f5d0"
            ],
            [
             0.7,
             "#b8e186"
            ],
            [
             0.8,
             "#7fbc41"
            ],
            [
             0.9,
             "#4d9221"
            ],
            [
             1,
             "#276419"
            ]
           ],
           "sequential": [
            [
             0,
             "#0d0887"
            ],
            [
             0.1111111111111111,
             "#46039f"
            ],
            [
             0.2222222222222222,
             "#7201a8"
            ],
            [
             0.3333333333333333,
             "#9c179e"
            ],
            [
             0.4444444444444444,
             "#bd3786"
            ],
            [
             0.5555555555555556,
             "#d8576b"
            ],
            [
             0.6666666666666666,
             "#ed7953"
            ],
            [
             0.7777777777777778,
             "#fb9f3a"
            ],
            [
             0.8888888888888888,
             "#fdca26"
            ],
            [
             1,
             "#f0f921"
            ]
           ],
           "sequentialminus": [
            [
             0,
             "#0d0887"
            ],
            [
             0.1111111111111111,
             "#46039f"
            ],
            [
             0.2222222222222222,
             "#7201a8"
            ],
            [
             0.3333333333333333,
             "#9c179e"
            ],
            [
             0.4444444444444444,
             "#bd3786"
            ],
            [
             0.5555555555555556,
             "#d8576b"
            ],
            [
             0.6666666666666666,
             "#ed7953"
            ],
            [
             0.7777777777777778,
             "#fb9f3a"
            ],
            [
             0.8888888888888888,
             "#fdca26"
            ],
            [
             1,
             "#f0f921"
            ]
           ]
          },
          "colorway": [
           "#636efa",
           "#EF553B",
           "#00cc96",
           "#ab63fa",
           "#FFA15A",
           "#19d3f3",
           "#FF6692",
           "#B6E880",
           "#FF97FF",
           "#FECB52"
          ],
          "font": {
           "color": "#2a3f5f"
          },
          "geo": {
           "bgcolor": "white",
           "lakecolor": "white",
           "landcolor": "#E5ECF6",
           "showlakes": true,
           "showland": true,
           "subunitcolor": "white"
          },
          "hoverlabel": {
           "align": "left"
          },
          "hovermode": "closest",
          "mapbox": {
           "style": "light"
          },
          "paper_bgcolor": "white",
          "plot_bgcolor": "#E5ECF6",
          "polar": {
           "angularaxis": {
            "gridcolor": "white",
            "linecolor": "white",
            "ticks": ""
           },
           "bgcolor": "#E5ECF6",
           "radialaxis": {
            "gridcolor": "white",
            "linecolor": "white",
            "ticks": ""
           }
          },
          "scene": {
           "xaxis": {
            "backgroundcolor": "#E5ECF6",
            "gridcolor": "white",
            "gridwidth": 2,
            "linecolor": "white",
            "showbackground": true,
            "ticks": "",
            "zerolinecolor": "white"
           },
           "yaxis": {
            "backgroundcolor": "#E5ECF6",
            "gridcolor": "white",
            "gridwidth": 2,
            "linecolor": "white",
            "showbackground": true,
            "ticks": "",
            "zerolinecolor": "white"
           },
           "zaxis": {
            "backgroundcolor": "#E5ECF6",
            "gridcolor": "white",
            "gridwidth": 2,
            "linecolor": "white",
            "showbackground": true,
            "ticks": "",
            "zerolinecolor": "white"
           }
          },
          "shapedefaults": {
           "line": {
            "color": "#2a3f5f"
           }
          },
          "ternary": {
           "aaxis": {
            "gridcolor": "white",
            "linecolor": "white",
            "ticks": ""
           },
           "baxis": {
            "gridcolor": "white",
            "linecolor": "white",
            "ticks": ""
           },
           "bgcolor": "#E5ECF6",
           "caxis": {
            "gridcolor": "white",
            "linecolor": "white",
            "ticks": ""
           }
          },
          "title": {
           "x": 0.05
          },
          "xaxis": {
           "automargin": true,
           "gridcolor": "white",
           "linecolor": "white",
           "ticks": "",
           "title": {
            "standoff": 15
           },
           "zerolinecolor": "white",
           "zerolinewidth": 2
          },
          "yaxis": {
           "automargin": true,
           "gridcolor": "white",
           "linecolor": "white",
           "ticks": "",
           "title": {
            "standoff": 15
           },
           "zerolinecolor": "white",
           "zerolinewidth": 2
          }
         }
        },
        "width": 600,
        "xaxis": {
         "title": {
          "text": "Year"
         }
        },
        "yaxis": {
         "dtick": 0.05,
         "title": {
          "text": "Completion_Rate"
         }
        }
       }
      }
     },
     "metadata": {},
     "output_type": "display_data"
    }
   ],
   "source": [
    "year = completionTier1.index.get_level_values('year')\n",
    "\n",
    "fig = go.Figure()\n",
    "fig.add_trace(go.Scatter(\n",
    "    x=year,\n",
    "    y=completionTier1,\n",
    "    marker_color=\"red\",\n",
    "    mode=\"markers\",\n",
    "    name=\"Tier1\"\n",
    "))\n",
    "\n",
    "fig.add_trace(go.Scatter(\n",
    "    x=year,\n",
    "    y=completionTier2,\n",
    "    marker_color=\"green\",\n",
    "    mode=\"markers\",\n",
    "    name=\"Tier2\"\n",
    "))\n",
    "fig.update_layout(\n",
    "    yaxis=dict(dtick=0.05,title=\"Completion_Rate\"),\n",
    "    xaxis=dict(title=\"Year\"),\n",
    ")\n",
    "fig.layout.update(dict(width=600, height=600))\n",
    "fig.show()"
   ]
  },
  {
   "cell_type": "markdown",
   "metadata": {},
   "source": [
    "Inferences...."
   ]
  },
  {
   "cell_type": "code",
   "execution_count": 98,
   "metadata": {},
   "outputs": [],
   "source": [
    "# From above 3 charts we can see that:\n",
    "# Since Tier2 have very high acceptance rates as compared to Tier1 and accept students with considerably low SAT scores\n",
    "# There is no-contention for the seats and thus they are accepting everybody who is good or bad, which is not good.\n",
    "# Thus they first need to build a strong reputation by actively engaging in academic conferences, research collaborations with Tier1\n",
    "# institutes.\n",
    "\n",
    "# Tier2 have very low graduation rates as compared to Tier1, which is kind of unusual since they have very high enrollment\n",
    "# Such low level of graduation rates suggest that the quality of education in these institutes is not upto mark, that's probably why students are not able to complete\n",
    "# their course on time.\n",
    "# Thus these institutes need to enhance their quality of education by reviewing and update curriculum regularly to ensure relevance to industry needs and\n",
    "# contemporary knowledge, provide faculty development opportunities through workshops"
   ]
  },
  {
   "cell_type": "markdown",
   "metadata": {},
   "source": [
    "Analysing the differences in the diversity of the students enrolled in Tier-1 and Tier-2 particularly Asians"
   ]
  },
  {
   "cell_type": "code",
   "execution_count": 37,
   "metadata": {},
   "outputs": [
    {
     "data": {
      "text/html": [
       "<div>\n",
       "<style scoped>\n",
       "    .dataframe tbody tr th:only-of-type {\n",
       "        vertical-align: middle;\n",
       "    }\n",
       "\n",
       "    .dataframe tbody tr th {\n",
       "        vertical-align: top;\n",
       "    }\n",
       "\n",
       "    .dataframe thead th {\n",
       "        text-align: right;\n",
       "    }\n",
       "</style>\n",
       "<table border=\"1\" class=\"dataframe\">\n",
       "  <thead>\n",
       "    <tr style=\"text-align: right;\">\n",
       "      <th></th>\n",
       "      <th></th>\n",
       "      <th>INSTNM</th>\n",
       "      <th>MD_EARN_WNE_P6</th>\n",
       "      <th>UGDS_WHITE</th>\n",
       "      <th>UGDS_BLACK</th>\n",
       "      <th>UGDS_ASIAN</th>\n",
       "    </tr>\n",
       "    <tr>\n",
       "      <th>year</th>\n",
       "      <th>rowNum</th>\n",
       "      <th></th>\n",
       "      <th></th>\n",
       "      <th></th>\n",
       "      <th></th>\n",
       "      <th></th>\n",
       "    </tr>\n",
       "  </thead>\n",
       "  <tbody>\n",
       "    <tr>\n",
       "      <th rowspan=\"5\" valign=\"top\">2010</th>\n",
       "      <th>239</th>\n",
       "      <td>California Institute of Technology</td>\n",
       "      <td>55700.0</td>\n",
       "      <td>0.294009</td>\n",
       "      <td>0.015191</td>\n",
       "      <td>0.411036</td>\n",
       "    </tr>\n",
       "    <tr>\n",
       "      <th>805</th>\n",
       "      <td>University of Florida</td>\n",
       "      <td>41300.0</td>\n",
       "      <td>0.560891</td>\n",
       "      <td>0.069900</td>\n",
       "      <td>0.083100</td>\n",
       "    </tr>\n",
       "    <tr>\n",
       "      <th>964</th>\n",
       "      <td>Georgia Institute of Technology-Main Campus</td>\n",
       "      <td>60200.0</td>\n",
       "      <td>0.630000</td>\n",
       "      <td>0.060100</td>\n",
       "      <td>0.164800</td>\n",
       "    </tr>\n",
       "    <tr>\n",
       "      <th>1188</th>\n",
       "      <td>Northwestern University</td>\n",
       "      <td>52800.0</td>\n",
       "      <td>0.501118</td>\n",
       "      <td>0.057455</td>\n",
       "      <td>0.178409</td>\n",
       "    </tr>\n",
       "    <tr>\n",
       "      <th>1738</th>\n",
       "      <td>Johns Hopkins University</td>\n",
       "      <td>61900.0</td>\n",
       "      <td>0.405309</td>\n",
       "      <td>0.062418</td>\n",
       "      <td>0.225018</td>\n",
       "    </tr>\n",
       "    <tr>\n",
       "      <th>...</th>\n",
       "      <th>...</th>\n",
       "      <td>...</td>\n",
       "      <td>...</td>\n",
       "      <td>...</td>\n",
       "      <td>...</td>\n",
       "      <td>...</td>\n",
       "    </tr>\n",
       "    <tr>\n",
       "      <th rowspan=\"5\" valign=\"top\">2020</th>\n",
       "      <th>2365</th>\n",
       "      <td>Duke University</td>\n",
       "      <td>82232.0</td>\n",
       "      <td>0.412900</td>\n",
       "      <td>0.088300</td>\n",
       "      <td>0.210100</td>\n",
       "    </tr>\n",
       "    <tr>\n",
       "      <th>2929</th>\n",
       "      <td>University of Pennsylvania</td>\n",
       "      <td>90173.0</td>\n",
       "      <td>0.399800</td>\n",
       "      <td>0.079900</td>\n",
       "      <td>0.215600</td>\n",
       "    </tr>\n",
       "    <tr>\n",
       "      <th>3008</th>\n",
       "      <td>Brown University</td>\n",
       "      <td>69988.0</td>\n",
       "      <td>0.427700</td>\n",
       "      <td>0.067700</td>\n",
       "      <td>0.166800</td>\n",
       "    </tr>\n",
       "    <tr>\n",
       "      <th>3200</th>\n",
       "      <td>Vanderbilt University</td>\n",
       "      <td>74018.0</td>\n",
       "      <td>0.440500</td>\n",
       "      <td>0.110000</td>\n",
       "      <td>0.143100</td>\n",
       "    </tr>\n",
       "    <tr>\n",
       "      <th>3765</th>\n",
       "      <td>Stanford University</td>\n",
       "      <td>91546.0</td>\n",
       "      <td>0.323700</td>\n",
       "      <td>0.068200</td>\n",
       "      <td>0.227300</td>\n",
       "    </tr>\n",
       "  </tbody>\n",
       "</table>\n",
       "<p>165 rows × 5 columns</p>\n",
       "</div>"
      ],
      "text/plain": [
       "                                                  INSTNM  MD_EARN_WNE_P6  \\\n",
       "year rowNum                                                                \n",
       "2010 239              California Institute of Technology         55700.0   \n",
       "     805                           University of Florida         41300.0   \n",
       "     964     Georgia Institute of Technology-Main Campus         60200.0   \n",
       "     1188                        Northwestern University         52800.0   \n",
       "     1738                       Johns Hopkins University         61900.0   \n",
       "...                                                  ...             ...   \n",
       "2020 2365                                Duke University         82232.0   \n",
       "     2929                     University of Pennsylvania         90173.0   \n",
       "     3008                               Brown University         69988.0   \n",
       "     3200                          Vanderbilt University         74018.0   \n",
       "     3765                            Stanford University         91546.0   \n",
       "\n",
       "             UGDS_WHITE  UGDS_BLACK  UGDS_ASIAN  \n",
       "year rowNum                                      \n",
       "2010 239       0.294009    0.015191    0.411036  \n",
       "     805       0.560891    0.069900    0.083100  \n",
       "     964       0.630000    0.060100    0.164800  \n",
       "     1188      0.501118    0.057455    0.178409  \n",
       "     1738      0.405309    0.062418    0.225018  \n",
       "...                 ...         ...         ...  \n",
       "2020 2365      0.412900    0.088300    0.210100  \n",
       "     2929      0.399800    0.079900    0.215600  \n",
       "     3008      0.427700    0.067700    0.166800  \n",
       "     3200      0.440500    0.110000    0.143100  \n",
       "     3765      0.323700    0.068200    0.227300  \n",
       "\n",
       "[165 rows x 5 columns]"
      ]
     },
     "execution_count": 37,
     "metadata": {},
     "output_type": "execute_result"
    }
   ],
   "source": [
    "# Analyse the diversity in these colleges\n",
    "pd.set_option('display.max_rows', 10)\n",
    "tier1Institutes.loc[2010:2020][['INSTNM', 'MD_EARN_WNE_P6', 'UGDS_WHITE', 'UGDS_BLACK', 'UGDS_ASIAN']]"
   ]
  },
  {
   "cell_type": "code",
   "execution_count": 38,
   "metadata": {},
   "outputs": [],
   "source": [
    "asianByWhiteTier1 = (tier1Institutes['UGDS_ASIAN'])\n",
    "asianByWhiteTier2 = (tier2Institutes['UGDS_ASIAN'])\n",
    "asianByWhiteTier1 = asianByWhiteTier1.loc[2010:2020]\n",
    "asianByWhiteTier2 = asianByWhiteTier2.loc[2010:2020]"
   ]
  },
  {
   "cell_type": "code",
   "execution_count": 39,
   "metadata": {},
   "outputs": [
    {
     "data": {
      "application/vnd.plotly.v1+json": {
       "config": {
        "plotlyServerURL": "https://plot.ly"
       },
       "data": [
        {
         "marker": {
          "color": "red"
         },
         "mode": "markers",
         "name": "Tier1",
         "type": "scatter",
         "x": [
          0.41103636363636364,
          0.0831,
          0.1648,
          0.1784090909090909,
          0.2250181818181818,
          0.0056,
          0.2506,
          0.17003636363636365,
          0.14724545454545454,
          0.1575,
          0.21313636363636365,
          0.19630909090909093,
          0.1525,
          0.11158181818181818,
          0.2056181818181818,
          0.394,
          0.0837,
          0.1678,
          0.194,
          0.1944,
          0.1512,
          0.2401,
          0.1472,
          0.1463,
          0.1688,
          0.2141,
          0.1764,
          0.1457,
          0.0693,
          0.1793,
          0.3875,
          0.0818,
          0.1683,
          0.186,
          0.1867,
          0.168,
          0.2418,
          0.1529,
          0.142,
          0.1773,
          0.2094,
          0.179,
          0.1352,
          0.0746,
          0.1815,
          0.3962,
          0.0783,
          0.1749,
          0.1795,
          0.1809,
          0.1751,
          0.2419,
          0.1661,
          0.1435,
          0.1922,
          0.2058,
          0.1819,
          0.1213,
          0.0804,
          0.1897,
          0.4248,
          0.0754,
          0.175,
          0.1704,
          0.1861,
          0.1777,
          0.2404,
          0.1738,
          0.1399,
          0.2008,
          0.2124,
          0.1815,
          0.1233,
          0.0848,
          0.1908,
          0.4385,
          0.0775,
          0.185,
          0.1693,
          0.204,
          0.1801,
          0.246,
          0.1807,
          0.1405,
          0.2086,
          0.2148,
          0.189,
          0.1285,
          0.1009,
          0.1979,
          0.4535,
          0.0797,
          0.1917,
          0.174,
          0.2221,
          0.1851,
          0.2501,
          0.1859,
          0.1521,
          0.215,
          0.2157,
          0.192,
          0.1332,
          0.1156,
          0.2047,
          0.427,
          0.0816,
          0.1959,
          0.1711,
          0.2448,
          0.1881,
          0.2589,
          0.1809,
          0.1525,
          0.2135,
          0.2165,
          0.1977,
          0.141,
          0.1246,
          0.2068,
          0.4329,
          0.0812,
          0.2007,
          0.1695,
          0.2587,
          0.1888,
          0.2662,
          0.1732,
          0.1497,
          0.2144,
          0.2109,
          0.2005,
          0.1477,
          0.1349,
          0.2167,
          0.404,
          0.0857,
          0.215,
          0.1734,
          0.2612,
          0.1922,
          0.2787,
          0.1642,
          0.1535,
          0.2143,
          0.2204,
          0.2074,
          0.1545,
          0.1392,
          0.2191,
          0.3657,
          0.0921,
          0.2264,
          0.1815,
          0.2646,
          0.1993,
          0.2967,
          0.1636,
          0.148,
          0.2231,
          0.2101,
          0.2156,
          0.1668,
          0.1431,
          0.2273
         ],
         "y": [
          55700,
          41300,
          60200,
          52800,
          61900,
          71500,
          81900,
          53700,
          51000,
          60900,
          63700,
          67300,
          46000,
          47700,
          71000,
          53295,
          36575,
          56430,
          50730,
          57475,
          68685,
          74005,
          47690,
          51680,
          45885,
          63555,
          64030,
          42370,
          44840,
          70205,
          56100,
          38500,
          59400,
          53400,
          60500,
          72300,
          77900,
          50200,
          54400,
          48300,
          66900,
          67400,
          44600,
          47200,
          73900,
          68200,
          38600,
          59600,
          54800,
          60900,
          68900,
          77900,
          50600,
          54600,
          52400,
          66400,
          67200,
          45200,
          48000,
          71000,
          65100,
          40400,
          61800,
          57300,
          62700,
          69700,
          79800,
          53800,
          54700,
          58300,
          68800,
          67500,
          49600,
          52000,
          71800,
          54500,
          42600,
          65500,
          58900,
          62700,
          70300,
          82200,
          56500,
          58900,
          60800,
          76300,
          71600,
          52500,
          53400,
          70400,
          122949,
          48757.8,
          74726.05,
          64473.65,
          71647.1,
          73925.2,
          106991.85,
          61315.85,
          67103.25,
          80477.35,
          73397,
          76422.75,
          57323.95,
          61997.95,
          84429.35,
          122949,
          48757.8,
          74726.05,
          64473.65,
          71647.1,
          73925.2,
          106991.85,
          61315.85,
          67103.25,
          80477.35,
          73397,
          76422.75,
          57323.95,
          61997.95,
          84429.35,
          122949,
          48757.8,
          74726.05,
          64473.65,
          71647.1,
          73925.2,
          106991.85,
          61315.85,
          67103.25,
          80477.35,
          73397,
          76422.75,
          57323.95,
          61997.95,
          84429.35,
          129420,
          51324,
          78659,
          67867,
          75418,
          77816,
          112623,
          64543,
          70635,
          84713,
          77260,
          80445,
          60341,
          65261,
          88873,
          147347,
          54871,
          84375,
          72370,
          83890,
          87213,
          118516,
          75755,
          78452,
          88273,
          82232,
          90173,
          69988,
          74018,
          91546
         ]
        },
        {
         "marker": {
          "color": "green"
         },
         "mode": "markers",
         "name": "Tier2",
         "type": "scatter",
         "x": [
          0.0545,
          0.047900000000000005,
          0.0018,
          0.06583636363636364,
          0.010527272727272727,
          0.0636,
          0.006527272727272729,
          0.011509090909090912,
          0.0552,
          0.00842,
          0.09674545454545455,
          0.0036666666666666666,
          0.0044142857142857135,
          0.15028181818181818,
          0.058909090909090904,
          0.0509,
          0.0524,
          0.0015,
          0.0639,
          0.0066,
          0.0643,
          0.0012,
          0.0086,
          0.0606,
          0.0068,
          0.0804,
          0.0036666666666666666,
          0.0044142857142857135,
          0.1242,
          0.0544,
          0.0565,
          0.0472,
          0.0009,
          0.0611,
          0.0071,
          0.0628,
          0.0022,
          0.0105,
          0.0584,
          0.0096,
          0.0839,
          0.0029,
          0.0044142857142857135,
          0.1171,
          0.0531,
          0.0556,
          0.0478,
          0.002,
          0.0611,
          0.0083,
          0.066,
          0.0029,
          0.0104,
          0.0629,
          0.006,
          0.0882,
          0.0036666666666666666,
          0.0044142857142857135,
          0.1174,
          0.0514,
          0.0561,
          0.0467,
          0.0021,
          0.0603,
          0.0082,
          0.0695,
          0.0061,
          0.0099,
          0.0656,
          0.00842,
          0.0882,
          0.0016,
          0.0008,
          0.1257,
          0.0535,
          0.0555,
          0.0454,
          0.0021,
          0.0622,
          0.0101,
          0.07,
          0.0049,
          0.0099,
          0.0685,
          0.0055,
          0.0924,
          0.0036666666666666666,
          0.001,
          0.1314,
          0.055,
          0.0566,
          0.0488,
          0.0008,
          0.0636,
          0.0104,
          0.0718,
          0.0078,
          0.0105,
          0.0723,
          0.0022,
          0.095,
          0.0036666666666666666,
          0.0029,
          0.1414,
          0.0554,
          0.0546,
          0.0478,
          0.0003,
          0.0682,
          0.0112,
          0.0734,
          0.0078,
          0.0121,
          0.0726,
          0.0038,
          0.0955,
          0.0036666666666666666,
          0.0044142857142857135,
          0.1483,
          0.0576,
          0.054,
          0.0495,
          0.0005,
          0.069,
          0.0118,
          0.0723,
          0.0111,
          0.013,
          0.0789,
          0.0118,
          0.099,
          0.0036666666666666666,
          0.0055,
          0.1617,
          0.0609,
          0.0526,
          0.0446,
          0.0006,
          0.0706,
          0.012,
          0.0725,
          0.0139,
          0.0138,
          0.0817,
          0.0216,
          0.1088,
          0.0036666666666666666,
          0.0043,
          0.1781,
          0.0642,
          0.0532,
          0.0472,
          0.0012583333333333333,
          0.0727,
          0.0131,
          0.0734,
          0.0085,
          0.0145,
          0.0823,
          0.0061,
          0.1118,
          0.0065,
          0.0051,
          0.1962,
          0.0699
         ],
         "y": [
          35700,
          65600,
          23200,
          35400,
          33000,
          34900,
          24500,
          32900,
          38600,
          33800,
          44200,
          20700,
          24800,
          53200,
          36400,
          31825,
          61085,
          20710,
          31350,
          29355,
          30875,
          20995,
          31920,
          33440,
          27075,
          39330,
          18145,
          21565,
          48545,
          32965,
          33500,
          64300,
          21800,
          33000,
          30900,
          32500,
          22100,
          33600,
          35200,
          28500,
          41400,
          19100,
          22700,
          51100,
          34700,
          33300,
          63700,
          21500,
          33300,
          31100,
          33700,
          22300,
          32800,
          34500,
          27900,
          42800,
          19000,
          21600,
          51300,
          34300,
          34800,
          67000,
          21900,
          34600,
          31900,
          35000,
          21900,
          33400,
          35300,
          30400,
          45000,
          20200,
          20700,
          52200,
          35500,
          36900,
          69200,
          23600,
          36800,
          34000,
          36000,
          23500,
          35400,
          37700,
          33800,
          49100,
          20900,
          21600,
          53400,
          37600,
          41594.8,
          72328.25,
          25824.8,
          41141.65,
          38338.2,
          37996.2,
          27156.7,
          38198.55,
          42049.85,
          33139.8,
          55413.5,
          26161.1,
          25966.35,
          61538.15,
          41034.3,
          41594.8,
          72328.25,
          25824.8,
          41141.65,
          38338.2,
          37996.2,
          27156.7,
          38198.55,
          42049.85,
          33139.8,
          55413.5,
          26161.1,
          25966.35,
          61538.15,
          41034.3,
          41594.8,
          72328.25,
          25824.8,
          41141.65,
          38338.2,
          37996.2,
          27156.7,
          38198.55,
          42049.85,
          33139.8,
          55413.5,
          26161.1,
          25966.35,
          61538.15,
          41034.3,
          43784,
          76135,
          27184,
          43307,
          40356,
          39996,
          28586,
          40209,
          44263,
          34884,
          58330,
          27538,
          27333,
          64777,
          43194,
          47045,
          79815,
          29210,
          45961,
          42460,
          42275,
          30112,
          42884,
          46774,
          36419,
          63774,
          27404,
          28251,
          69511,
          45431
         ]
        }
       ],
       "layout": {
        "height": 600,
        "template": {
         "data": {
          "bar": [
           {
            "error_x": {
             "color": "#2a3f5f"
            },
            "error_y": {
             "color": "#2a3f5f"
            },
            "marker": {
             "line": {
              "color": "#E5ECF6",
              "width": 0.5
             },
             "pattern": {
              "fillmode": "overlay",
              "size": 10,
              "solidity": 0.2
             }
            },
            "type": "bar"
           }
          ],
          "barpolar": [
           {
            "marker": {
             "line": {
              "color": "#E5ECF6",
              "width": 0.5
             },
             "pattern": {
              "fillmode": "overlay",
              "size": 10,
              "solidity": 0.2
             }
            },
            "type": "barpolar"
           }
          ],
          "carpet": [
           {
            "aaxis": {
             "endlinecolor": "#2a3f5f",
             "gridcolor": "white",
             "linecolor": "white",
             "minorgridcolor": "white",
             "startlinecolor": "#2a3f5f"
            },
            "baxis": {
             "endlinecolor": "#2a3f5f",
             "gridcolor": "white",
             "linecolor": "white",
             "minorgridcolor": "white",
             "startlinecolor": "#2a3f5f"
            },
            "type": "carpet"
           }
          ],
          "choropleth": [
           {
            "colorbar": {
             "outlinewidth": 0,
             "ticks": ""
            },
            "type": "choropleth"
           }
          ],
          "contour": [
           {
            "colorbar": {
             "outlinewidth": 0,
             "ticks": ""
            },
            "colorscale": [
             [
              0,
              "#0d0887"
             ],
             [
              0.1111111111111111,
              "#46039f"
             ],
             [
              0.2222222222222222,
              "#7201a8"
             ],
             [
              0.3333333333333333,
              "#9c179e"
             ],
             [
              0.4444444444444444,
              "#bd3786"
             ],
             [
              0.5555555555555556,
              "#d8576b"
             ],
             [
              0.6666666666666666,
              "#ed7953"
             ],
             [
              0.7777777777777778,
              "#fb9f3a"
             ],
             [
              0.8888888888888888,
              "#fdca26"
             ],
             [
              1,
              "#f0f921"
             ]
            ],
            "type": "contour"
           }
          ],
          "contourcarpet": [
           {
            "colorbar": {
             "outlinewidth": 0,
             "ticks": ""
            },
            "type": "contourcarpet"
           }
          ],
          "heatmap": [
           {
            "colorbar": {
             "outlinewidth": 0,
             "ticks": ""
            },
            "colorscale": [
             [
              0,
              "#0d0887"
             ],
             [
              0.1111111111111111,
              "#46039f"
             ],
             [
              0.2222222222222222,
              "#7201a8"
             ],
             [
              0.3333333333333333,
              "#9c179e"
             ],
             [
              0.4444444444444444,
              "#bd3786"
             ],
             [
              0.5555555555555556,
              "#d8576b"
             ],
             [
              0.6666666666666666,
              "#ed7953"
             ],
             [
              0.7777777777777778,
              "#fb9f3a"
             ],
             [
              0.8888888888888888,
              "#fdca26"
             ],
             [
              1,
              "#f0f921"
             ]
            ],
            "type": "heatmap"
           }
          ],
          "heatmapgl": [
           {
            "colorbar": {
             "outlinewidth": 0,
             "ticks": ""
            },
            "colorscale": [
             [
              0,
              "#0d0887"
             ],
             [
              0.1111111111111111,
              "#46039f"
             ],
             [
              0.2222222222222222,
              "#7201a8"
             ],
             [
              0.3333333333333333,
              "#9c179e"
             ],
             [
              0.4444444444444444,
              "#bd3786"
             ],
             [
              0.5555555555555556,
              "#d8576b"
             ],
             [
              0.6666666666666666,
              "#ed7953"
             ],
             [
              0.7777777777777778,
              "#fb9f3a"
             ],
             [
              0.8888888888888888,
              "#fdca26"
             ],
             [
              1,
              "#f0f921"
             ]
            ],
            "type": "heatmapgl"
           }
          ],
          "histogram": [
           {
            "marker": {
             "pattern": {
              "fillmode": "overlay",
              "size": 10,
              "solidity": 0.2
             }
            },
            "type": "histogram"
           }
          ],
          "histogram2d": [
           {
            "colorbar": {
             "outlinewidth": 0,
             "ticks": ""
            },
            "colorscale": [
             [
              0,
              "#0d0887"
             ],
             [
              0.1111111111111111,
              "#46039f"
             ],
             [
              0.2222222222222222,
              "#7201a8"
             ],
             [
              0.3333333333333333,
              "#9c179e"
             ],
             [
              0.4444444444444444,
              "#bd3786"
             ],
             [
              0.5555555555555556,
              "#d8576b"
             ],
             [
              0.6666666666666666,
              "#ed7953"
             ],
             [
              0.7777777777777778,
              "#fb9f3a"
             ],
             [
              0.8888888888888888,
              "#fdca26"
             ],
             [
              1,
              "#f0f921"
             ]
            ],
            "type": "histogram2d"
           }
          ],
          "histogram2dcontour": [
           {
            "colorbar": {
             "outlinewidth": 0,
             "ticks": ""
            },
            "colorscale": [
             [
              0,
              "#0d0887"
             ],
             [
              0.1111111111111111,
              "#46039f"
             ],
             [
              0.2222222222222222,
              "#7201a8"
             ],
             [
              0.3333333333333333,
              "#9c179e"
             ],
             [
              0.4444444444444444,
              "#bd3786"
             ],
             [
              0.5555555555555556,
              "#d8576b"
             ],
             [
              0.6666666666666666,
              "#ed7953"
             ],
             [
              0.7777777777777778,
              "#fb9f3a"
             ],
             [
              0.8888888888888888,
              "#fdca26"
             ],
             [
              1,
              "#f0f921"
             ]
            ],
            "type": "histogram2dcontour"
           }
          ],
          "mesh3d": [
           {
            "colorbar": {
             "outlinewidth": 0,
             "ticks": ""
            },
            "type": "mesh3d"
           }
          ],
          "parcoords": [
           {
            "line": {
             "colorbar": {
              "outlinewidth": 0,
              "ticks": ""
             }
            },
            "type": "parcoords"
           }
          ],
          "pie": [
           {
            "automargin": true,
            "type": "pie"
           }
          ],
          "scatter": [
           {
            "fillpattern": {
             "fillmode": "overlay",
             "size": 10,
             "solidity": 0.2
            },
            "type": "scatter"
           }
          ],
          "scatter3d": [
           {
            "line": {
             "colorbar": {
              "outlinewidth": 0,
              "ticks": ""
             }
            },
            "marker": {
             "colorbar": {
              "outlinewidth": 0,
              "ticks": ""
             }
            },
            "type": "scatter3d"
           }
          ],
          "scattercarpet": [
           {
            "marker": {
             "colorbar": {
              "outlinewidth": 0,
              "ticks": ""
             }
            },
            "type": "scattercarpet"
           }
          ],
          "scattergeo": [
           {
            "marker": {
             "colorbar": {
              "outlinewidth": 0,
              "ticks": ""
             }
            },
            "type": "scattergeo"
           }
          ],
          "scattergl": [
           {
            "marker": {
             "colorbar": {
              "outlinewidth": 0,
              "ticks": ""
             }
            },
            "type": "scattergl"
           }
          ],
          "scattermapbox": [
           {
            "marker": {
             "colorbar": {
              "outlinewidth": 0,
              "ticks": ""
             }
            },
            "type": "scattermapbox"
           }
          ],
          "scatterpolar": [
           {
            "marker": {
             "colorbar": {
              "outlinewidth": 0,
              "ticks": ""
             }
            },
            "type": "scatterpolar"
           }
          ],
          "scatterpolargl": [
           {
            "marker": {
             "colorbar": {
              "outlinewidth": 0,
              "ticks": ""
             }
            },
            "type": "scatterpolargl"
           }
          ],
          "scatterternary": [
           {
            "marker": {
             "colorbar": {
              "outlinewidth": 0,
              "ticks": ""
             }
            },
            "type": "scatterternary"
           }
          ],
          "surface": [
           {
            "colorbar": {
             "outlinewidth": 0,
             "ticks": ""
            },
            "colorscale": [
             [
              0,
              "#0d0887"
             ],
             [
              0.1111111111111111,
              "#46039f"
             ],
             [
              0.2222222222222222,
              "#7201a8"
             ],
             [
              0.3333333333333333,
              "#9c179e"
             ],
             [
              0.4444444444444444,
              "#bd3786"
             ],
             [
              0.5555555555555556,
              "#d8576b"
             ],
             [
              0.6666666666666666,
              "#ed7953"
             ],
             [
              0.7777777777777778,
              "#fb9f3a"
             ],
             [
              0.8888888888888888,
              "#fdca26"
             ],
             [
              1,
              "#f0f921"
             ]
            ],
            "type": "surface"
           }
          ],
          "table": [
           {
            "cells": {
             "fill": {
              "color": "#EBF0F8"
             },
             "line": {
              "color": "white"
             }
            },
            "header": {
             "fill": {
              "color": "#C8D4E3"
             },
             "line": {
              "color": "white"
             }
            },
            "type": "table"
           }
          ]
         },
         "layout": {
          "annotationdefaults": {
           "arrowcolor": "#2a3f5f",
           "arrowhead": 0,
           "arrowwidth": 1
          },
          "autotypenumbers": "strict",
          "coloraxis": {
           "colorbar": {
            "outlinewidth": 0,
            "ticks": ""
           }
          },
          "colorscale": {
           "diverging": [
            [
             0,
             "#8e0152"
            ],
            [
             0.1,
             "#c51b7d"
            ],
            [
             0.2,
             "#de77ae"
            ],
            [
             0.3,
             "#f1b6da"
            ],
            [
             0.4,
             "#fde0ef"
            ],
            [
             0.5,
             "#f7f7f7"
            ],
            [
             0.6,
             "#e6f5d0"
            ],
            [
             0.7,
             "#b8e186"
            ],
            [
             0.8,
             "#7fbc41"
            ],
            [
             0.9,
             "#4d9221"
            ],
            [
             1,
             "#276419"
            ]
           ],
           "sequential": [
            [
             0,
             "#0d0887"
            ],
            [
             0.1111111111111111,
             "#46039f"
            ],
            [
             0.2222222222222222,
             "#7201a8"
            ],
            [
             0.3333333333333333,
             "#9c179e"
            ],
            [
             0.4444444444444444,
             "#bd3786"
            ],
            [
             0.5555555555555556,
             "#d8576b"
            ],
            [
             0.6666666666666666,
             "#ed7953"
            ],
            [
             0.7777777777777778,
             "#fb9f3a"
            ],
            [
             0.8888888888888888,
             "#fdca26"
            ],
            [
             1,
             "#f0f921"
            ]
           ],
           "sequentialminus": [
            [
             0,
             "#0d0887"
            ],
            [
             0.1111111111111111,
             "#46039f"
            ],
            [
             0.2222222222222222,
             "#7201a8"
            ],
            [
             0.3333333333333333,
             "#9c179e"
            ],
            [
             0.4444444444444444,
             "#bd3786"
            ],
            [
             0.5555555555555556,
             "#d8576b"
            ],
            [
             0.6666666666666666,
             "#ed7953"
            ],
            [
             0.7777777777777778,
             "#fb9f3a"
            ],
            [
             0.8888888888888888,
             "#fdca26"
            ],
            [
             1,
             "#f0f921"
            ]
           ]
          },
          "colorway": [
           "#636efa",
           "#EF553B",
           "#00cc96",
           "#ab63fa",
           "#FFA15A",
           "#19d3f3",
           "#FF6692",
           "#B6E880",
           "#FF97FF",
           "#FECB52"
          ],
          "font": {
           "color": "#2a3f5f"
          },
          "geo": {
           "bgcolor": "white",
           "lakecolor": "white",
           "landcolor": "#E5ECF6",
           "showlakes": true,
           "showland": true,
           "subunitcolor": "white"
          },
          "hoverlabel": {
           "align": "left"
          },
          "hovermode": "closest",
          "mapbox": {
           "style": "light"
          },
          "paper_bgcolor": "white",
          "plot_bgcolor": "#E5ECF6",
          "polar": {
           "angularaxis": {
            "gridcolor": "white",
            "linecolor": "white",
            "ticks": ""
           },
           "bgcolor": "#E5ECF6",
           "radialaxis": {
            "gridcolor": "white",
            "linecolor": "white",
            "ticks": ""
           }
          },
          "scene": {
           "xaxis": {
            "backgroundcolor": "#E5ECF6",
            "gridcolor": "white",
            "gridwidth": 2,
            "linecolor": "white",
            "showbackground": true,
            "ticks": "",
            "zerolinecolor": "white"
           },
           "yaxis": {
            "backgroundcolor": "#E5ECF6",
            "gridcolor": "white",
            "gridwidth": 2,
            "linecolor": "white",
            "showbackground": true,
            "ticks": "",
            "zerolinecolor": "white"
           },
           "zaxis": {
            "backgroundcolor": "#E5ECF6",
            "gridcolor": "white",
            "gridwidth": 2,
            "linecolor": "white",
            "showbackground": true,
            "ticks": "",
            "zerolinecolor": "white"
           }
          },
          "shapedefaults": {
           "line": {
            "color": "#2a3f5f"
           }
          },
          "ternary": {
           "aaxis": {
            "gridcolor": "white",
            "linecolor": "white",
            "ticks": ""
           },
           "baxis": {
            "gridcolor": "white",
            "linecolor": "white",
            "ticks": ""
           },
           "bgcolor": "#E5ECF6",
           "caxis": {
            "gridcolor": "white",
            "linecolor": "white",
            "ticks": ""
           }
          },
          "title": {
           "x": 0.05
          },
          "xaxis": {
           "automargin": true,
           "gridcolor": "white",
           "linecolor": "white",
           "ticks": "",
           "title": {
            "standoff": 15
           },
           "zerolinecolor": "white",
           "zerolinewidth": 2
          },
          "yaxis": {
           "automargin": true,
           "gridcolor": "white",
           "linecolor": "white",
           "ticks": "",
           "title": {
            "standoff": 15
           },
           "zerolinecolor": "white",
           "zerolinewidth": 2
          }
         }
        },
        "width": 600,
        "xaxis": {
         "title": {
          "text": "Fraction of Asian Students"
         }
        },
        "yaxis": {
         "title": {
          "text": "Median_Income(2010-2020)"
         }
        }
       }
      }
     },
     "metadata": {},
     "output_type": "display_data"
    }
   ],
   "source": [
    "fig = go.Figure()\n",
    "fig.add_trace(go.Scatter(\n",
    "    x=asianByWhiteTier1,\n",
    "    y=tier1Institutes['MD_EARN_WNE_P6'].loc[2010:2020],\n",
    "    marker_color=\"red\",\n",
    "    mode=\"markers\",\n",
    "    name=\"Tier1\"\n",
    "))\n",
    "\n",
    "fig.add_trace(go.Scatter(\n",
    "    x=asianByWhiteTier2,\n",
    "    y=tier2Institutes['MD_EARN_WNE_P6'].loc[2010:2020],\n",
    "    marker_color=\"green\",\n",
    "    mode=\"markers\",\n",
    "    name=\"Tier2\"\n",
    "))\n",
    "fig.update_layout(\n",
    "    yaxis=dict(title=\"Median_Income(2010-2020)\"),\n",
    "    xaxis=dict(title=\"Fraction of Asian Students\"),\n",
    ")\n",
    "fig.layout.update(dict(width=600, height=600))\n",
    "fig.show()\n"
   ]
  },
  {
   "cell_type": "markdown",
   "metadata": {},
   "source": [
    "Inferences..."
   ]
  },
  {
   "cell_type": "code",
   "execution_count": 102,
   "metadata": {},
   "outputs": [],
   "source": [
    "# We can see that as the number of asian-students increase the median-income of institutions have gradually increased\n",
    "# Tier1 have high percentages of asian-students as compared to Tier2\n",
    "# Tier2 need to increase the diversity of students in their colleges.\n",
    "# Tier2 may engage on social media platforms that are popular in different countries, as well as websites, podcasts\n",
    "# Create scholarship programs specifically targeting students from other countries."
   ]
  },
  {
   "cell_type": "code",
   "execution_count": 41,
   "metadata": {},
   "outputs": [],
   "source": [
    "# Now let's analyse the net average cost of attending these institutes\n",
    "# This code may take upto 10sec to run\n",
    "ffillByYear(tier1Institutes, 'NPT4_PRIV', True)\n",
    "ffillByYear(tier1Institutes, 'NPT4_PUB', True)\n",
    "\n",
    "ffillByYear(tier1Institutes, 'NPT41_PRIV', True)\n",
    "ffillByYear(tier1Institutes, 'NPT41_PUB', True)\n",
    "\n",
    "ffillByYear(tier1Institutes, 'NPT43_PRIV', True)\n",
    "ffillByYear(tier1Institutes, 'NPT43_PUB', True)\n",
    "\n",
    "ffillByYear(tier2Institutes, 'NPT4_PRIV', True)\n",
    "ffillByYear(tier2Institutes, 'NPT4_PUB', True)\n",
    "\n",
    "ffillByYear(tier2Institutes, 'NPT41_PRIV', True)\n",
    "ffillByYear(tier2Institutes, 'NPT41_PUB', True)\n",
    "\n",
    "ffillByYear(tier2Institutes, 'NPT43_PRIV', True)\n",
    "ffillByYear(tier2Institutes, 'NPT43_PUB', True)"
   ]
  },
  {
   "cell_type": "code",
   "execution_count": 42,
   "metadata": {},
   "outputs": [],
   "source": [
    "def calcMean(year, ser):\n",
    "    sum, count = 0, 0\n",
    "    subSeries = ser.loc[year]\n",
    "\n",
    "    for val in subSeries:\n",
    "        if (val > 1000):\n",
    "            sum += val\n",
    "            count += 1\n",
    "    return sum / count"
   ]
  },
  {
   "cell_type": "code",
   "execution_count": 43,
   "metadata": {},
   "outputs": [],
   "source": [
    "def correctNegatives(series):\n",
    "    for i in range(0, 11):\n",
    "        mean = calcMean(i + 2010, series)\n",
    "        start, end = int(i * len(series) / 11), int(i * len(series) / 11 + len(series) / 11)\n",
    "        for j in range(start, end):\n",
    "            if (pd.isna(series.iloc[j]) or series.iloc[j] < 1000):\n",
    "                series.iloc[j] = mean\n",
    "    return\n",
    "                "
   ]
  },
  {
   "cell_type": "code",
   "execution_count": 44,
   "metadata": {},
   "outputs": [
    {
     "name": "stderr",
     "output_type": "stream",
     "text": [
      "/var/folders/2v/33p_wnzd3gj0lfp0r82qrhl00000gp/T/ipykernel_1822/2584098630.py:7: SettingWithCopyWarning:\n",
      "\n",
      "\n",
      "A value is trying to be set on a copy of a slice from a DataFrame\n",
      "\n",
      "See the caveats in the documentation: https://pandas.pydata.org/pandas-docs/stable/user_guide/indexing.html#returning-a-view-versus-a-copy\n",
      "\n"
     ]
    }
   ],
   "source": [
    "pd.set_option('display.max_rows', None)\n",
    "# --------------\n",
    "# Some Universities like stanford have anomaly in data, i.e, negative net avg-cost or less than $1000 fees\n",
    "# --------------\n",
    "\n",
    "avgNetPriceTier1 = tier1Institutes.loc[2010:2020]['NPT4_PRIV']\n",
    "correctNegatives(avgNetPriceTier1)\n",
    "\n",
    "avgNetPriceLowIncomeTier1 = tier1Institutes.loc[2010:2020]['NPT41_PRIV']\n",
    "correctNegatives(avgNetPriceLowIncomeTier1)\n",
    "\n",
    "avgNetPriceMedIncomeTier1 = tier1Institutes.loc[2010:2020]['NPT43_PRIV']\n",
    "correctNegatives(avgNetPriceMedIncomeTier1)\n",
    "\n",
    "# avgNetPriceTier1.describe()\n",
    "\n",
    "avgNetPriceTier1 = avgNetPriceTier1.groupby(level='year').mean()\n",
    "avgNetPriceLowIncomeTier1 = avgNetPriceLowIncomeTier1.groupby(level='year').mean()\n",
    "avgNetPriceMedIncomeTier1 = avgNetPriceMedIncomeTier1.groupby(level='year').mean()\n"
   ]
  },
  {
   "cell_type": "code",
   "execution_count": 45,
   "metadata": {},
   "outputs": [],
   "source": [
    "def extractCost(val, colName1, colName2):\n",
    "    if (np.isnan(val[colName1]) and np.isnan(val[colName2])):\n",
    "        return 0.0\n",
    "    elif (np.isnan(val[colName1])):\n",
    "        return val[colName2]\n",
    "    return val[colName1]\n",
    "\n",
    "avgNetPriceTier2 = tier2Institutes.loc[2010:2020][['NPT4_PRIV', 'NPT4_PUB']].apply(extractCost, axis = 1, colName1='NPT4_PRIV', colName2='NPT4_PUB')\n",
    "correctNegatives(avgNetPriceTier2)\n",
    "\n",
    "avgNetPriceLowIncomeTier2 = tier2Institutes.loc[2010:2020][['NPT41_PRIV', 'NPT41_PUB']].apply(extractCost, axis=1, colName1='NPT41_PRIV', colName2='NPT41_PUB')\n",
    "correctNegatives(avgNetPriceLowIncomeTier2)\n",
    "\n",
    "avgNetPriceMedIncomeTier2 = tier2Institutes.loc[2010:2020][['NPT43_PRIV', 'NPT43_PUB']].apply(extractCost, axis=1, colName1='NPT43_PRIV', colName2='NPT43_PUB')\n",
    "correctNegatives(avgNetPriceMedIncomeTier2)\n",
    "\n",
    "# avgNetPriceTier2.describe()\n",
    "\n",
    "avgNetPriceTier2 = avgNetPriceTier2.groupby(level='year').mean()\n",
    "avgNetPriceLowIncomeTier2 = avgNetPriceLowIncomeTier2.groupby(level='year').mean()\n",
    "avgNetPriceMedIncomeTier2 = avgNetPriceMedIncomeTier2.groupby(level='year').mean()"
   ]
  },
  {
   "cell_type": "code",
   "execution_count": 46,
   "metadata": {},
   "outputs": [],
   "source": [
    "year = avgNetPriceTier1.loc[2010:2020].index.get_level_values('year')"
   ]
  },
  {
   "cell_type": "markdown",
   "metadata": {},
   "source": [
    "Analysing the differences in the Net Avg Cost between the students of both types of institutes"
   ]
  },
  {
   "cell_type": "code",
   "execution_count": 47,
   "metadata": {},
   "outputs": [],
   "source": [
    "pd.set_option('display.max_rows', None)\n",
    "year = [2010, 2011, 2012, 2013, 2014, 2015, 2016, 2017, 2018, 2019, 2020]"
   ]
  },
  {
   "cell_type": "code",
   "execution_count": 48,
   "metadata": {},
   "outputs": [],
   "source": [
    "def drawBarGraph(year, yT1, yT2, xlabel, ylabel, title):\n",
    "    tier1Color = \"blue\"\n",
    "    tier2Color = \"orange\"\n",
    "\n",
    "    fig = go.Figure()\n",
    "    fig.add_trace(\n",
    "        go.Bar(\n",
    "            x=year,\n",
    "            y=yT1,\n",
    "            name=\"Tier-1\",\n",
    "            marker_color=tier1Color,\n",
    "        )\n",
    "    )\n",
    "    fig.add_trace(\n",
    "        go.Bar(\n",
    "            x=year,\n",
    "            y=yT2,\n",
    "            name=\"Tier-2\",\n",
    "            marker_color=tier2Color,\n",
    "        )\n",
    "    )\n",
    "    fig.update_layout(\n",
    "        yaxis=dict(title=ylabel),\n",
    "        xaxis=dict(title=xlabel),\n",
    "        title=title\n",
    "    )\n",
    "    fig.show()"
   ]
  },
  {
   "cell_type": "code",
   "execution_count": 49,
   "metadata": {},
   "outputs": [
    {
     "data": {
      "application/vnd.plotly.v1+json": {
       "config": {
        "plotlyServerURL": "https://plot.ly"
       },
       "data": [
        {
         "marker": {
          "color": "blue"
         },
         "name": "Tier-1",
         "type": "bar",
         "x": [
          2010,
          2011,
          2012,
          2013,
          2014,
          2015,
          2016,
          2017,
          2018,
          2019,
          2020
         ],
         "y": [
          6845.3076923076915,
          7647.75,
          7457.818181818182,
          7216.153846153846,
          7415.307692307692,
          6742.307692307692,
          8675.461538461539,
          5838.769230769231,
          6677.47,
          6038.25,
          4274.9
         ]
        },
        {
         "marker": {
          "color": "orange"
         },
         "name": "Tier-2",
         "type": "bar",
         "x": [
          2010,
          2011,
          2012,
          2013,
          2014,
          2015,
          2016,
          2017,
          2018,
          2019,
          2020
         ],
         "y": [
          11936,
          10979.333333333334,
          12114.733333333334,
          13346.6,
          13600.666666666666,
          12823,
          14130.733333333334,
          14138.866666666667,
          13875.866666666667,
          13429.4,
          13393.4
         ]
        }
       ],
       "layout": {
        "template": {
         "data": {
          "bar": [
           {
            "error_x": {
             "color": "#2a3f5f"
            },
            "error_y": {
             "color": "#2a3f5f"
            },
            "marker": {
             "line": {
              "color": "#E5ECF6",
              "width": 0.5
             },
             "pattern": {
              "fillmode": "overlay",
              "size": 10,
              "solidity": 0.2
             }
            },
            "type": "bar"
           }
          ],
          "barpolar": [
           {
            "marker": {
             "line": {
              "color": "#E5ECF6",
              "width": 0.5
             },
             "pattern": {
              "fillmode": "overlay",
              "size": 10,
              "solidity": 0.2
             }
            },
            "type": "barpolar"
           }
          ],
          "carpet": [
           {
            "aaxis": {
             "endlinecolor": "#2a3f5f",
             "gridcolor": "white",
             "linecolor": "white",
             "minorgridcolor": "white",
             "startlinecolor": "#2a3f5f"
            },
            "baxis": {
             "endlinecolor": "#2a3f5f",
             "gridcolor": "white",
             "linecolor": "white",
             "minorgridcolor": "white",
             "startlinecolor": "#2a3f5f"
            },
            "type": "carpet"
           }
          ],
          "choropleth": [
           {
            "colorbar": {
             "outlinewidth": 0,
             "ticks": ""
            },
            "type": "choropleth"
           }
          ],
          "contour": [
           {
            "colorbar": {
             "outlinewidth": 0,
             "ticks": ""
            },
            "colorscale": [
             [
              0,
              "#0d0887"
             ],
             [
              0.1111111111111111,
              "#46039f"
             ],
             [
              0.2222222222222222,
              "#7201a8"
             ],
             [
              0.3333333333333333,
              "#9c179e"
             ],
             [
              0.4444444444444444,
              "#bd3786"
             ],
             [
              0.5555555555555556,
              "#d8576b"
             ],
             [
              0.6666666666666666,
              "#ed7953"
             ],
             [
              0.7777777777777778,
              "#fb9f3a"
             ],
             [
              0.8888888888888888,
              "#fdca26"
             ],
             [
              1,
              "#f0f921"
             ]
            ],
            "type": "contour"
           }
          ],
          "contourcarpet": [
           {
            "colorbar": {
             "outlinewidth": 0,
             "ticks": ""
            },
            "type": "contourcarpet"
           }
          ],
          "heatmap": [
           {
            "colorbar": {
             "outlinewidth": 0,
             "ticks": ""
            },
            "colorscale": [
             [
              0,
              "#0d0887"
             ],
             [
              0.1111111111111111,
              "#46039f"
             ],
             [
              0.2222222222222222,
              "#7201a8"
             ],
             [
              0.3333333333333333,
              "#9c179e"
             ],
             [
              0.4444444444444444,
              "#bd3786"
             ],
             [
              0.5555555555555556,
              "#d8576b"
             ],
             [
              0.6666666666666666,
              "#ed7953"
             ],
             [
              0.7777777777777778,
              "#fb9f3a"
             ],
             [
              0.8888888888888888,
              "#fdca26"
             ],
             [
              1,
              "#f0f921"
             ]
            ],
            "type": "heatmap"
           }
          ],
          "heatmapgl": [
           {
            "colorbar": {
             "outlinewidth": 0,
             "ticks": ""
            },
            "colorscale": [
             [
              0,
              "#0d0887"
             ],
             [
              0.1111111111111111,
              "#46039f"
             ],
             [
              0.2222222222222222,
              "#7201a8"
             ],
             [
              0.3333333333333333,
              "#9c179e"
             ],
             [
              0.4444444444444444,
              "#bd3786"
             ],
             [
              0.5555555555555556,
              "#d8576b"
             ],
             [
              0.6666666666666666,
              "#ed7953"
             ],
             [
              0.7777777777777778,
              "#fb9f3a"
             ],
             [
              0.8888888888888888,
              "#fdca26"
             ],
             [
              1,
              "#f0f921"
             ]
            ],
            "type": "heatmapgl"
           }
          ],
          "histogram": [
           {
            "marker": {
             "pattern": {
              "fillmode": "overlay",
              "size": 10,
              "solidity": 0.2
             }
            },
            "type": "histogram"
           }
          ],
          "histogram2d": [
           {
            "colorbar": {
             "outlinewidth": 0,
             "ticks": ""
            },
            "colorscale": [
             [
              0,
              "#0d0887"
             ],
             [
              0.1111111111111111,
              "#46039f"
             ],
             [
              0.2222222222222222,
              "#7201a8"
             ],
             [
              0.3333333333333333,
              "#9c179e"
             ],
             [
              0.4444444444444444,
              "#bd3786"
             ],
             [
              0.5555555555555556,
              "#d8576b"
             ],
             [
              0.6666666666666666,
              "#ed7953"
             ],
             [
              0.7777777777777778,
              "#fb9f3a"
             ],
             [
              0.8888888888888888,
              "#fdca26"
             ],
             [
              1,
              "#f0f921"
             ]
            ],
            "type": "histogram2d"
           }
          ],
          "histogram2dcontour": [
           {
            "colorbar": {
             "outlinewidth": 0,
             "ticks": ""
            },
            "colorscale": [
             [
              0,
              "#0d0887"
             ],
             [
              0.1111111111111111,
              "#46039f"
             ],
             [
              0.2222222222222222,
              "#7201a8"
             ],
             [
              0.3333333333333333,
              "#9c179e"
             ],
             [
              0.4444444444444444,
              "#bd3786"
             ],
             [
              0.5555555555555556,
              "#d8576b"
             ],
             [
              0.6666666666666666,
              "#ed7953"
             ],
             [
              0.7777777777777778,
              "#fb9f3a"
             ],
             [
              0.8888888888888888,
              "#fdca26"
             ],
             [
              1,
              "#f0f921"
             ]
            ],
            "type": "histogram2dcontour"
           }
          ],
          "mesh3d": [
           {
            "colorbar": {
             "outlinewidth": 0,
             "ticks": ""
            },
            "type": "mesh3d"
           }
          ],
          "parcoords": [
           {
            "line": {
             "colorbar": {
              "outlinewidth": 0,
              "ticks": ""
             }
            },
            "type": "parcoords"
           }
          ],
          "pie": [
           {
            "automargin": true,
            "type": "pie"
           }
          ],
          "scatter": [
           {
            "fillpattern": {
             "fillmode": "overlay",
             "size": 10,
             "solidity": 0.2
            },
            "type": "scatter"
           }
          ],
          "scatter3d": [
           {
            "line": {
             "colorbar": {
              "outlinewidth": 0,
              "ticks": ""
             }
            },
            "marker": {
             "colorbar": {
              "outlinewidth": 0,
              "ticks": ""
             }
            },
            "type": "scatter3d"
           }
          ],
          "scattercarpet": [
           {
            "marker": {
             "colorbar": {
              "outlinewidth": 0,
              "ticks": ""
             }
            },
            "type": "scattercarpet"
           }
          ],
          "scattergeo": [
           {
            "marker": {
             "colorbar": {
              "outlinewidth": 0,
              "ticks": ""
             }
            },
            "type": "scattergeo"
           }
          ],
          "scattergl": [
           {
            "marker": {
             "colorbar": {
              "outlinewidth": 0,
              "ticks": ""
             }
            },
            "type": "scattergl"
           }
          ],
          "scattermapbox": [
           {
            "marker": {
             "colorbar": {
              "outlinewidth": 0,
              "ticks": ""
             }
            },
            "type": "scattermapbox"
           }
          ],
          "scatterpolar": [
           {
            "marker": {
             "colorbar": {
              "outlinewidth": 0,
              "ticks": ""
             }
            },
            "type": "scatterpolar"
           }
          ],
          "scatterpolargl": [
           {
            "marker": {
             "colorbar": {
              "outlinewidth": 0,
              "ticks": ""
             }
            },
            "type": "scatterpolargl"
           }
          ],
          "scatterternary": [
           {
            "marker": {
             "colorbar": {
              "outlinewidth": 0,
              "ticks": ""
             }
            },
            "type": "scatterternary"
           }
          ],
          "surface": [
           {
            "colorbar": {
             "outlinewidth": 0,
             "ticks": ""
            },
            "colorscale": [
             [
              0,
              "#0d0887"
             ],
             [
              0.1111111111111111,
              "#46039f"
             ],
             [
              0.2222222222222222,
              "#7201a8"
             ],
             [
              0.3333333333333333,
              "#9c179e"
             ],
             [
              0.4444444444444444,
              "#bd3786"
             ],
             [
              0.5555555555555556,
              "#d8576b"
             ],
             [
              0.6666666666666666,
              "#ed7953"
             ],
             [
              0.7777777777777778,
              "#fb9f3a"
             ],
             [
              0.8888888888888888,
              "#fdca26"
             ],
             [
              1,
              "#f0f921"
             ]
            ],
            "type": "surface"
           }
          ],
          "table": [
           {
            "cells": {
             "fill": {
              "color": "#EBF0F8"
             },
             "line": {
              "color": "white"
             }
            },
            "header": {
             "fill": {
              "color": "#C8D4E3"
             },
             "line": {
              "color": "white"
             }
            },
            "type": "table"
           }
          ]
         },
         "layout": {
          "annotationdefaults": {
           "arrowcolor": "#2a3f5f",
           "arrowhead": 0,
           "arrowwidth": 1
          },
          "autotypenumbers": "strict",
          "coloraxis": {
           "colorbar": {
            "outlinewidth": 0,
            "ticks": ""
           }
          },
          "colorscale": {
           "diverging": [
            [
             0,
             "#8e0152"
            ],
            [
             0.1,
             "#c51b7d"
            ],
            [
             0.2,
             "#de77ae"
            ],
            [
             0.3,
             "#f1b6da"
            ],
            [
             0.4,
             "#fde0ef"
            ],
            [
             0.5,
             "#f7f7f7"
            ],
            [
             0.6,
             "#e6f5d0"
            ],
            [
             0.7,
             "#b8e186"
            ],
            [
             0.8,
             "#7fbc41"
            ],
            [
             0.9,
             "#4d9221"
            ],
            [
             1,
             "#276419"
            ]
           ],
           "sequential": [
            [
             0,
             "#0d0887"
            ],
            [
             0.1111111111111111,
             "#46039f"
            ],
            [
             0.2222222222222222,
             "#7201a8"
            ],
            [
             0.3333333333333333,
             "#9c179e"
            ],
            [
             0.4444444444444444,
             "#bd3786"
            ],
            [
             0.5555555555555556,
             "#d8576b"
            ],
            [
             0.6666666666666666,
             "#ed7953"
            ],
            [
             0.7777777777777778,
             "#fb9f3a"
            ],
            [
             0.8888888888888888,
             "#fdca26"
            ],
            [
             1,
             "#f0f921"
            ]
           ],
           "sequentialminus": [
            [
             0,
             "#0d0887"
            ],
            [
             0.1111111111111111,
             "#46039f"
            ],
            [
             0.2222222222222222,
             "#7201a8"
            ],
            [
             0.3333333333333333,
             "#9c179e"
            ],
            [
             0.4444444444444444,
             "#bd3786"
            ],
            [
             0.5555555555555556,
             "#d8576b"
            ],
            [
             0.6666666666666666,
             "#ed7953"
            ],
            [
             0.7777777777777778,
             "#fb9f3a"
            ],
            [
             0.8888888888888888,
             "#fdca26"
            ],
            [
             1,
             "#f0f921"
            ]
           ]
          },
          "colorway": [
           "#636efa",
           "#EF553B",
           "#00cc96",
           "#ab63fa",
           "#FFA15A",
           "#19d3f3",
           "#FF6692",
           "#B6E880",
           "#FF97FF",
           "#FECB52"
          ],
          "font": {
           "color": "#2a3f5f"
          },
          "geo": {
           "bgcolor": "white",
           "lakecolor": "white",
           "landcolor": "#E5ECF6",
           "showlakes": true,
           "showland": true,
           "subunitcolor": "white"
          },
          "hoverlabel": {
           "align": "left"
          },
          "hovermode": "closest",
          "mapbox": {
           "style": "light"
          },
          "paper_bgcolor": "white",
          "plot_bgcolor": "#E5ECF6",
          "polar": {
           "angularaxis": {
            "gridcolor": "white",
            "linecolor": "white",
            "ticks": ""
           },
           "bgcolor": "#E5ECF6",
           "radialaxis": {
            "gridcolor": "white",
            "linecolor": "white",
            "ticks": ""
           }
          },
          "scene": {
           "xaxis": {
            "backgroundcolor": "#E5ECF6",
            "gridcolor": "white",
            "gridwidth": 2,
            "linecolor": "white",
            "showbackground": true,
            "ticks": "",
            "zerolinecolor": "white"
           },
           "yaxis": {
            "backgroundcolor": "#E5ECF6",
            "gridcolor": "white",
            "gridwidth": 2,
            "linecolor": "white",
            "showbackground": true,
            "ticks": "",
            "zerolinecolor": "white"
           },
           "zaxis": {
            "backgroundcolor": "#E5ECF6",
            "gridcolor": "white",
            "gridwidth": 2,
            "linecolor": "white",
            "showbackground": true,
            "ticks": "",
            "zerolinecolor": "white"
           }
          },
          "shapedefaults": {
           "line": {
            "color": "#2a3f5f"
           }
          },
          "ternary": {
           "aaxis": {
            "gridcolor": "white",
            "linecolor": "white",
            "ticks": ""
           },
           "baxis": {
            "gridcolor": "white",
            "linecolor": "white",
            "ticks": ""
           },
           "bgcolor": "#E5ECF6",
           "caxis": {
            "gridcolor": "white",
            "linecolor": "white",
            "ticks": ""
           }
          },
          "title": {
           "x": 0.05
          },
          "xaxis": {
           "automargin": true,
           "gridcolor": "white",
           "linecolor": "white",
           "ticks": "",
           "title": {
            "standoff": 15
           },
           "zerolinecolor": "white",
           "zerolinewidth": 2
          },
          "yaxis": {
           "automargin": true,
           "gridcolor": "white",
           "linecolor": "white",
           "ticks": "",
           "title": {
            "standoff": 15
           },
           "zerolinecolor": "white",
           "zerolinewidth": 2
          }
         }
        },
        "title": {
         "text": "Net-Avg Cost for Low Income Families(<=$30K)"
        },
        "xaxis": {
         "title": {
          "text": "Year"
         }
        },
        "yaxis": {
         "title": {
          "text": "Net-Avg Cost(TotalCost - Aid)"
         }
        }
       }
      }
     },
     "metadata": {},
     "output_type": "display_data"
    }
   ],
   "source": [
    "drawBarGraph(year, avgNetPriceLowIncomeTier1, avgNetPriceLowIncomeTier2, 'Year', 'Net-Avg Cost(TotalCost - Aid)', 'Net-Avg Cost for Low Income Families(<=$30K)')"
   ]
  },
  {
   "cell_type": "code",
   "execution_count": 50,
   "metadata": {},
   "outputs": [
    {
     "data": {
      "application/vnd.plotly.v1+json": {
       "config": {
        "plotlyServerURL": "https://plot.ly"
       },
       "data": [
        {
         "marker": {
          "color": "blue"
         },
         "name": "Tier-1",
         "type": "bar",
         "x": [
          2010,
          2011,
          2012,
          2013,
          2014,
          2015,
          2016,
          2017,
          2018,
          2019,
          2020
         ],
         "y": [
          11452.23076923077,
          11338.615384615385,
          11133.846153846154,
          10880.846153846154,
          11317.384615384615,
          11374.76923076923,
          11748.615384615385,
          9420.461538461537,
          8971.461538461537,
          9456.416666666666,
          7699.307692307692
         ]
        },
        {
         "marker": {
          "color": "orange"
         },
         "name": "Tier-2",
         "type": "bar",
         "x": [
          2010,
          2011,
          2012,
          2013,
          2014,
          2015,
          2016,
          2017,
          2018,
          2019,
          2020
         ],
         "y": [
          15948.066666666668,
          15951,
          17065.6,
          17991.2,
          18257.866666666665,
          18245.936666666665,
          18642.266666666666,
          18022.303333333333,
          18476.33,
          18138.596666666668,
          17336.133333333335
         ]
        }
       ],
       "layout": {
        "template": {
         "data": {
          "bar": [
           {
            "error_x": {
             "color": "#2a3f5f"
            },
            "error_y": {
             "color": "#2a3f5f"
            },
            "marker": {
             "line": {
              "color": "#E5ECF6",
              "width": 0.5
             },
             "pattern": {
              "fillmode": "overlay",
              "size": 10,
              "solidity": 0.2
             }
            },
            "type": "bar"
           }
          ],
          "barpolar": [
           {
            "marker": {
             "line": {
              "color": "#E5ECF6",
              "width": 0.5
             },
             "pattern": {
              "fillmode": "overlay",
              "size": 10,
              "solidity": 0.2
             }
            },
            "type": "barpolar"
           }
          ],
          "carpet": [
           {
            "aaxis": {
             "endlinecolor": "#2a3f5f",
             "gridcolor": "white",
             "linecolor": "white",
             "minorgridcolor": "white",
             "startlinecolor": "#2a3f5f"
            },
            "baxis": {
             "endlinecolor": "#2a3f5f",
             "gridcolor": "white",
             "linecolor": "white",
             "minorgridcolor": "white",
             "startlinecolor": "#2a3f5f"
            },
            "type": "carpet"
           }
          ],
          "choropleth": [
           {
            "colorbar": {
             "outlinewidth": 0,
             "ticks": ""
            },
            "type": "choropleth"
           }
          ],
          "contour": [
           {
            "colorbar": {
             "outlinewidth": 0,
             "ticks": ""
            },
            "colorscale": [
             [
              0,
              "#0d0887"
             ],
             [
              0.1111111111111111,
              "#46039f"
             ],
             [
              0.2222222222222222,
              "#7201a8"
             ],
             [
              0.3333333333333333,
              "#9c179e"
             ],
             [
              0.4444444444444444,
              "#bd3786"
             ],
             [
              0.5555555555555556,
              "#d8576b"
             ],
             [
              0.6666666666666666,
              "#ed7953"
             ],
             [
              0.7777777777777778,
              "#fb9f3a"
             ],
             [
              0.8888888888888888,
              "#fdca26"
             ],
             [
              1,
              "#f0f921"
             ]
            ],
            "type": "contour"
           }
          ],
          "contourcarpet": [
           {
            "colorbar": {
             "outlinewidth": 0,
             "ticks": ""
            },
            "type": "contourcarpet"
           }
          ],
          "heatmap": [
           {
            "colorbar": {
             "outlinewidth": 0,
             "ticks": ""
            },
            "colorscale": [
             [
              0,
              "#0d0887"
             ],
             [
              0.1111111111111111,
              "#46039f"
             ],
             [
              0.2222222222222222,
              "#7201a8"
             ],
             [
              0.3333333333333333,
              "#9c179e"
             ],
             [
              0.4444444444444444,
              "#bd3786"
             ],
             [
              0.5555555555555556,
              "#d8576b"
             ],
             [
              0.6666666666666666,
              "#ed7953"
             ],
             [
              0.7777777777777778,
              "#fb9f3a"
             ],
             [
              0.8888888888888888,
              "#fdca26"
             ],
             [
              1,
              "#f0f921"
             ]
            ],
            "type": "heatmap"
           }
          ],
          "heatmapgl": [
           {
            "colorbar": {
             "outlinewidth": 0,
             "ticks": ""
            },
            "colorscale": [
             [
              0,
              "#0d0887"
             ],
             [
              0.1111111111111111,
              "#46039f"
             ],
             [
              0.2222222222222222,
              "#7201a8"
             ],
             [
              0.3333333333333333,
              "#9c179e"
             ],
             [
              0.4444444444444444,
              "#bd3786"
             ],
             [
              0.5555555555555556,
              "#d8576b"
             ],
             [
              0.6666666666666666,
              "#ed7953"
             ],
             [
              0.7777777777777778,
              "#fb9f3a"
             ],
             [
              0.8888888888888888,
              "#fdca26"
             ],
             [
              1,
              "#f0f921"
             ]
            ],
            "type": "heatmapgl"
           }
          ],
          "histogram": [
           {
            "marker": {
             "pattern": {
              "fillmode": "overlay",
              "size": 10,
              "solidity": 0.2
             }
            },
            "type": "histogram"
           }
          ],
          "histogram2d": [
           {
            "colorbar": {
             "outlinewidth": 0,
             "ticks": ""
            },
            "colorscale": [
             [
              0,
              "#0d0887"
             ],
             [
              0.1111111111111111,
              "#46039f"
             ],
             [
              0.2222222222222222,
              "#7201a8"
             ],
             [
              0.3333333333333333,
              "#9c179e"
             ],
             [
              0.4444444444444444,
              "#bd3786"
             ],
             [
              0.5555555555555556,
              "#d8576b"
             ],
             [
              0.6666666666666666,
              "#ed7953"
             ],
             [
              0.7777777777777778,
              "#fb9f3a"
             ],
             [
              0.8888888888888888,
              "#fdca26"
             ],
             [
              1,
              "#f0f921"
             ]
            ],
            "type": "histogram2d"
           }
          ],
          "histogram2dcontour": [
           {
            "colorbar": {
             "outlinewidth": 0,
             "ticks": ""
            },
            "colorscale": [
             [
              0,
              "#0d0887"
             ],
             [
              0.1111111111111111,
              "#46039f"
             ],
             [
              0.2222222222222222,
              "#7201a8"
             ],
             [
              0.3333333333333333,
              "#9c179e"
             ],
             [
              0.4444444444444444,
              "#bd3786"
             ],
             [
              0.5555555555555556,
              "#d8576b"
             ],
             [
              0.6666666666666666,
              "#ed7953"
             ],
             [
              0.7777777777777778,
              "#fb9f3a"
             ],
             [
              0.8888888888888888,
              "#fdca26"
             ],
             [
              1,
              "#f0f921"
             ]
            ],
            "type": "histogram2dcontour"
           }
          ],
          "mesh3d": [
           {
            "colorbar": {
             "outlinewidth": 0,
             "ticks": ""
            },
            "type": "mesh3d"
           }
          ],
          "parcoords": [
           {
            "line": {
             "colorbar": {
              "outlinewidth": 0,
              "ticks": ""
             }
            },
            "type": "parcoords"
           }
          ],
          "pie": [
           {
            "automargin": true,
            "type": "pie"
           }
          ],
          "scatter": [
           {
            "fillpattern": {
             "fillmode": "overlay",
             "size": 10,
             "solidity": 0.2
            },
            "type": "scatter"
           }
          ],
          "scatter3d": [
           {
            "line": {
             "colorbar": {
              "outlinewidth": 0,
              "ticks": ""
             }
            },
            "marker": {
             "colorbar": {
              "outlinewidth": 0,
              "ticks": ""
             }
            },
            "type": "scatter3d"
           }
          ],
          "scattercarpet": [
           {
            "marker": {
             "colorbar": {
              "outlinewidth": 0,
              "ticks": ""
             }
            },
            "type": "scattercarpet"
           }
          ],
          "scattergeo": [
           {
            "marker": {
             "colorbar": {
              "outlinewidth": 0,
              "ticks": ""
             }
            },
            "type": "scattergeo"
           }
          ],
          "scattergl": [
           {
            "marker": {
             "colorbar": {
              "outlinewidth": 0,
              "ticks": ""
             }
            },
            "type": "scattergl"
           }
          ],
          "scattermapbox": [
           {
            "marker": {
             "colorbar": {
              "outlinewidth": 0,
              "ticks": ""
             }
            },
            "type": "scattermapbox"
           }
          ],
          "scatterpolar": [
           {
            "marker": {
             "colorbar": {
              "outlinewidth": 0,
              "ticks": ""
             }
            },
            "type": "scatterpolar"
           }
          ],
          "scatterpolargl": [
           {
            "marker": {
             "colorbar": {
              "outlinewidth": 0,
              "ticks": ""
             }
            },
            "type": "scatterpolargl"
           }
          ],
          "scatterternary": [
           {
            "marker": {
             "colorbar": {
              "outlinewidth": 0,
              "ticks": ""
             }
            },
            "type": "scatterternary"
           }
          ],
          "surface": [
           {
            "colorbar": {
             "outlinewidth": 0,
             "ticks": ""
            },
            "colorscale": [
             [
              0,
              "#0d0887"
             ],
             [
              0.1111111111111111,
              "#46039f"
             ],
             [
              0.2222222222222222,
              "#7201a8"
             ],
             [
              0.3333333333333333,
              "#9c179e"
             ],
             [
              0.4444444444444444,
              "#bd3786"
             ],
             [
              0.5555555555555556,
              "#d8576b"
             ],
             [
              0.6666666666666666,
              "#ed7953"
             ],
             [
              0.7777777777777778,
              "#fb9f3a"
             ],
             [
              0.8888888888888888,
              "#fdca26"
             ],
             [
              1,
              "#f0f921"
             ]
            ],
            "type": "surface"
           }
          ],
          "table": [
           {
            "cells": {
             "fill": {
              "color": "#EBF0F8"
             },
             "line": {
              "color": "white"
             }
            },
            "header": {
             "fill": {
              "color": "#C8D4E3"
             },
             "line": {
              "color": "white"
             }
            },
            "type": "table"
           }
          ]
         },
         "layout": {
          "annotationdefaults": {
           "arrowcolor": "#2a3f5f",
           "arrowhead": 0,
           "arrowwidth": 1
          },
          "autotypenumbers": "strict",
          "coloraxis": {
           "colorbar": {
            "outlinewidth": 0,
            "ticks": ""
           }
          },
          "colorscale": {
           "diverging": [
            [
             0,
             "#8e0152"
            ],
            [
             0.1,
             "#c51b7d"
            ],
            [
             0.2,
             "#de77ae"
            ],
            [
             0.3,
             "#f1b6da"
            ],
            [
             0.4,
             "#fde0ef"
            ],
            [
             0.5,
             "#f7f7f7"
            ],
            [
             0.6,
             "#e6f5d0"
            ],
            [
             0.7,
             "#b8e186"
            ],
            [
             0.8,
             "#7fbc41"
            ],
            [
             0.9,
             "#4d9221"
            ],
            [
             1,
             "#276419"
            ]
           ],
           "sequential": [
            [
             0,
             "#0d0887"
            ],
            [
             0.1111111111111111,
             "#46039f"
            ],
            [
             0.2222222222222222,
             "#7201a8"
            ],
            [
             0.3333333333333333,
             "#9c179e"
            ],
            [
             0.4444444444444444,
             "#bd3786"
            ],
            [
             0.5555555555555556,
             "#d8576b"
            ],
            [
             0.6666666666666666,
             "#ed7953"
            ],
            [
             0.7777777777777778,
             "#fb9f3a"
            ],
            [
             0.8888888888888888,
             "#fdca26"
            ],
            [
             1,
             "#f0f921"
            ]
           ],
           "sequentialminus": [
            [
             0,
             "#0d0887"
            ],
            [
             0.1111111111111111,
             "#46039f"
            ],
            [
             0.2222222222222222,
             "#7201a8"
            ],
            [
             0.3333333333333333,
             "#9c179e"
            ],
            [
             0.4444444444444444,
             "#bd3786"
            ],
            [
             0.5555555555555556,
             "#d8576b"
            ],
            [
             0.6666666666666666,
             "#ed7953"
            ],
            [
             0.7777777777777778,
             "#fb9f3a"
            ],
            [
             0.8888888888888888,
             "#fdca26"
            ],
            [
             1,
             "#f0f921"
            ]
           ]
          },
          "colorway": [
           "#636efa",
           "#EF553B",
           "#00cc96",
           "#ab63fa",
           "#FFA15A",
           "#19d3f3",
           "#FF6692",
           "#B6E880",
           "#FF97FF",
           "#FECB52"
          ],
          "font": {
           "color": "#2a3f5f"
          },
          "geo": {
           "bgcolor": "white",
           "lakecolor": "white",
           "landcolor": "#E5ECF6",
           "showlakes": true,
           "showland": true,
           "subunitcolor": "white"
          },
          "hoverlabel": {
           "align": "left"
          },
          "hovermode": "closest",
          "mapbox": {
           "style": "light"
          },
          "paper_bgcolor": "white",
          "plot_bgcolor": "#E5ECF6",
          "polar": {
           "angularaxis": {
            "gridcolor": "white",
            "linecolor": "white",
            "ticks": ""
           },
           "bgcolor": "#E5ECF6",
           "radialaxis": {
            "gridcolor": "white",
            "linecolor": "white",
            "ticks": ""
           }
          },
          "scene": {
           "xaxis": {
            "backgroundcolor": "#E5ECF6",
            "gridcolor": "white",
            "gridwidth": 2,
            "linecolor": "white",
            "showbackground": true,
            "ticks": "",
            "zerolinecolor": "white"
           },
           "yaxis": {
            "backgroundcolor": "#E5ECF6",
            "gridcolor": "white",
            "gridwidth": 2,
            "linecolor": "white",
            "showbackground": true,
            "ticks": "",
            "zerolinecolor": "white"
           },
           "zaxis": {
            "backgroundcolor": "#E5ECF6",
            "gridcolor": "white",
            "gridwidth": 2,
            "linecolor": "white",
            "showbackground": true,
            "ticks": "",
            "zerolinecolor": "white"
           }
          },
          "shapedefaults": {
           "line": {
            "color": "#2a3f5f"
           }
          },
          "ternary": {
           "aaxis": {
            "gridcolor": "white",
            "linecolor": "white",
            "ticks": ""
           },
           "baxis": {
            "gridcolor": "white",
            "linecolor": "white",
            "ticks": ""
           },
           "bgcolor": "#E5ECF6",
           "caxis": {
            "gridcolor": "white",
            "linecolor": "white",
            "ticks": ""
           }
          },
          "title": {
           "x": 0.05
          },
          "xaxis": {
           "automargin": true,
           "gridcolor": "white",
           "linecolor": "white",
           "ticks": "",
           "title": {
            "standoff": 15
           },
           "zerolinecolor": "white",
           "zerolinewidth": 2
          },
          "yaxis": {
           "automargin": true,
           "gridcolor": "white",
           "linecolor": "white",
           "ticks": "",
           "title": {
            "standoff": 15
           },
           "zerolinecolor": "white",
           "zerolinewidth": 2
          }
         }
        },
        "title": {
         "text": "Net-Avg Cost for Medium Income Families($48K-$75K)"
        },
        "xaxis": {
         "title": {
          "text": "Year"
         }
        },
        "yaxis": {
         "title": {
          "text": "Net-Avg Cost(TotalCost - Aid)"
         }
        }
       }
      }
     },
     "metadata": {},
     "output_type": "display_data"
    }
   ],
   "source": [
    "drawBarGraph(year, avgNetPriceMedIncomeTier1, avgNetPriceMedIncomeTier2, 'Year', 'Net-Avg Cost(TotalCost - Aid)', 'Net-Avg Cost for Medium Income Families($48K-$75K)')"
   ]
  },
  {
   "cell_type": "code",
   "execution_count": 51,
   "metadata": {},
   "outputs": [
    {
     "data": {
      "application/vnd.plotly.v1+json": {
       "config": {
        "plotlyServerURL": "https://plot.ly"
       },
       "data": [
        {
         "marker": {
          "color": "blue"
         },
         "name": "Tier-1",
         "type": "bar",
         "x": [
          2010,
          2011,
          2012,
          2013,
          2014,
          2015,
          2016,
          2017,
          2018,
          2019,
          2020
         ],
         "y": [
          20627,
          20659.30769230769,
          21982.46153846154,
          22428.53846153846,
          22863.846153846152,
          22456.846153846152,
          24522,
          23504.69230769231,
          23780.46153846154,
          22654.076923076926,
          22708.923076923074
         ]
        },
        {
         "marker": {
          "color": "orange"
         },
         "name": "Tier-2",
         "type": "bar",
         "x": [
          2010,
          2011,
          2012,
          2013,
          2014,
          2015,
          2016,
          2017,
          2018,
          2019,
          2020
         ],
         "y": [
          15195.533333333333,
          14964.466666666667,
          15942,
          17047.933333333334,
          17271.2,
          17163.066666666666,
          18227.266666666666,
          18239.933333333334,
          18304.2,
          17598.8,
          17833.933333333334
         ]
        }
       ],
       "layout": {
        "template": {
         "data": {
          "bar": [
           {
            "error_x": {
             "color": "#2a3f5f"
            },
            "error_y": {
             "color": "#2a3f5f"
            },
            "marker": {
             "line": {
              "color": "#E5ECF6",
              "width": 0.5
             },
             "pattern": {
              "fillmode": "overlay",
              "size": 10,
              "solidity": 0.2
             }
            },
            "type": "bar"
           }
          ],
          "barpolar": [
           {
            "marker": {
             "line": {
              "color": "#E5ECF6",
              "width": 0.5
             },
             "pattern": {
              "fillmode": "overlay",
              "size": 10,
              "solidity": 0.2
             }
            },
            "type": "barpolar"
           }
          ],
          "carpet": [
           {
            "aaxis": {
             "endlinecolor": "#2a3f5f",
             "gridcolor": "white",
             "linecolor": "white",
             "minorgridcolor": "white",
             "startlinecolor": "#2a3f5f"
            },
            "baxis": {
             "endlinecolor": "#2a3f5f",
             "gridcolor": "white",
             "linecolor": "white",
             "minorgridcolor": "white",
             "startlinecolor": "#2a3f5f"
            },
            "type": "carpet"
           }
          ],
          "choropleth": [
           {
            "colorbar": {
             "outlinewidth": 0,
             "ticks": ""
            },
            "type": "choropleth"
           }
          ],
          "contour": [
           {
            "colorbar": {
             "outlinewidth": 0,
             "ticks": ""
            },
            "colorscale": [
             [
              0,
              "#0d0887"
             ],
             [
              0.1111111111111111,
              "#46039f"
             ],
             [
              0.2222222222222222,
              "#7201a8"
             ],
             [
              0.3333333333333333,
              "#9c179e"
             ],
             [
              0.4444444444444444,
              "#bd3786"
             ],
             [
              0.5555555555555556,
              "#d8576b"
             ],
             [
              0.6666666666666666,
              "#ed7953"
             ],
             [
              0.7777777777777778,
              "#fb9f3a"
             ],
             [
              0.8888888888888888,
              "#fdca26"
             ],
             [
              1,
              "#f0f921"
             ]
            ],
            "type": "contour"
           }
          ],
          "contourcarpet": [
           {
            "colorbar": {
             "outlinewidth": 0,
             "ticks": ""
            },
            "type": "contourcarpet"
           }
          ],
          "heatmap": [
           {
            "colorbar": {
             "outlinewidth": 0,
             "ticks": ""
            },
            "colorscale": [
             [
              0,
              "#0d0887"
             ],
             [
              0.1111111111111111,
              "#46039f"
             ],
             [
              0.2222222222222222,
              "#7201a8"
             ],
             [
              0.3333333333333333,
              "#9c179e"
             ],
             [
              0.4444444444444444,
              "#bd3786"
             ],
             [
              0.5555555555555556,
              "#d8576b"
             ],
             [
              0.6666666666666666,
              "#ed7953"
             ],
             [
              0.7777777777777778,
              "#fb9f3a"
             ],
             [
              0.8888888888888888,
              "#fdca26"
             ],
             [
              1,
              "#f0f921"
             ]
            ],
            "type": "heatmap"
           }
          ],
          "heatmapgl": [
           {
            "colorbar": {
             "outlinewidth": 0,
             "ticks": ""
            },
            "colorscale": [
             [
              0,
              "#0d0887"
             ],
             [
              0.1111111111111111,
              "#46039f"
             ],
             [
              0.2222222222222222,
              "#7201a8"
             ],
             [
              0.3333333333333333,
              "#9c179e"
             ],
             [
              0.4444444444444444,
              "#bd3786"
             ],
             [
              0.5555555555555556,
              "#d8576b"
             ],
             [
              0.6666666666666666,
              "#ed7953"
             ],
             [
              0.7777777777777778,
              "#fb9f3a"
             ],
             [
              0.8888888888888888,
              "#fdca26"
             ],
             [
              1,
              "#f0f921"
             ]
            ],
            "type": "heatmapgl"
           }
          ],
          "histogram": [
           {
            "marker": {
             "pattern": {
              "fillmode": "overlay",
              "size": 10,
              "solidity": 0.2
             }
            },
            "type": "histogram"
           }
          ],
          "histogram2d": [
           {
            "colorbar": {
             "outlinewidth": 0,
             "ticks": ""
            },
            "colorscale": [
             [
              0,
              "#0d0887"
             ],
             [
              0.1111111111111111,
              "#46039f"
             ],
             [
              0.2222222222222222,
              "#7201a8"
             ],
             [
              0.3333333333333333,
              "#9c179e"
             ],
             [
              0.4444444444444444,
              "#bd3786"
             ],
             [
              0.5555555555555556,
              "#d8576b"
             ],
             [
              0.6666666666666666,
              "#ed7953"
             ],
             [
              0.7777777777777778,
              "#fb9f3a"
             ],
             [
              0.8888888888888888,
              "#fdca26"
             ],
             [
              1,
              "#f0f921"
             ]
            ],
            "type": "histogram2d"
           }
          ],
          "histogram2dcontour": [
           {
            "colorbar": {
             "outlinewidth": 0,
             "ticks": ""
            },
            "colorscale": [
             [
              0,
              "#0d0887"
             ],
             [
              0.1111111111111111,
              "#46039f"
             ],
             [
              0.2222222222222222,
              "#7201a8"
             ],
             [
              0.3333333333333333,
              "#9c179e"
             ],
             [
              0.4444444444444444,
              "#bd3786"
             ],
             [
              0.5555555555555556,
              "#d8576b"
             ],
             [
              0.6666666666666666,
              "#ed7953"
             ],
             [
              0.7777777777777778,
              "#fb9f3a"
             ],
             [
              0.8888888888888888,
              "#fdca26"
             ],
             [
              1,
              "#f0f921"
             ]
            ],
            "type": "histogram2dcontour"
           }
          ],
          "mesh3d": [
           {
            "colorbar": {
             "outlinewidth": 0,
             "ticks": ""
            },
            "type": "mesh3d"
           }
          ],
          "parcoords": [
           {
            "line": {
             "colorbar": {
              "outlinewidth": 0,
              "ticks": ""
             }
            },
            "type": "parcoords"
           }
          ],
          "pie": [
           {
            "automargin": true,
            "type": "pie"
           }
          ],
          "scatter": [
           {
            "fillpattern": {
             "fillmode": "overlay",
             "size": 10,
             "solidity": 0.2
            },
            "type": "scatter"
           }
          ],
          "scatter3d": [
           {
            "line": {
             "colorbar": {
              "outlinewidth": 0,
              "ticks": ""
             }
            },
            "marker": {
             "colorbar": {
              "outlinewidth": 0,
              "ticks": ""
             }
            },
            "type": "scatter3d"
           }
          ],
          "scattercarpet": [
           {
            "marker": {
             "colorbar": {
              "outlinewidth": 0,
              "ticks": ""
             }
            },
            "type": "scattercarpet"
           }
          ],
          "scattergeo": [
           {
            "marker": {
             "colorbar": {
              "outlinewidth": 0,
              "ticks": ""
             }
            },
            "type": "scattergeo"
           }
          ],
          "scattergl": [
           {
            "marker": {
             "colorbar": {
              "outlinewidth": 0,
              "ticks": ""
             }
            },
            "type": "scattergl"
           }
          ],
          "scattermapbox": [
           {
            "marker": {
             "colorbar": {
              "outlinewidth": 0,
              "ticks": ""
             }
            },
            "type": "scattermapbox"
           }
          ],
          "scatterpolar": [
           {
            "marker": {
             "colorbar": {
              "outlinewidth": 0,
              "ticks": ""
             }
            },
            "type": "scatterpolar"
           }
          ],
          "scatterpolargl": [
           {
            "marker": {
             "colorbar": {
              "outlinewidth": 0,
              "ticks": ""
             }
            },
            "type": "scatterpolargl"
           }
          ],
          "scatterternary": [
           {
            "marker": {
             "colorbar": {
              "outlinewidth": 0,
              "ticks": ""
             }
            },
            "type": "scatterternary"
           }
          ],
          "surface": [
           {
            "colorbar": {
             "outlinewidth": 0,
             "ticks": ""
            },
            "colorscale": [
             [
              0,
              "#0d0887"
             ],
             [
              0.1111111111111111,
              "#46039f"
             ],
             [
              0.2222222222222222,
              "#7201a8"
             ],
             [
              0.3333333333333333,
              "#9c179e"
             ],
             [
              0.4444444444444444,
              "#bd3786"
             ],
             [
              0.5555555555555556,
              "#d8576b"
             ],
             [
              0.6666666666666666,
              "#ed7953"
             ],
             [
              0.7777777777777778,
              "#fb9f3a"
             ],
             [
              0.8888888888888888,
              "#fdca26"
             ],
             [
              1,
              "#f0f921"
             ]
            ],
            "type": "surface"
           }
          ],
          "table": [
           {
            "cells": {
             "fill": {
              "color": "#EBF0F8"
             },
             "line": {
              "color": "white"
             }
            },
            "header": {
             "fill": {
              "color": "#C8D4E3"
             },
             "line": {
              "color": "white"
             }
            },
            "type": "table"
           }
          ]
         },
         "layout": {
          "annotationdefaults": {
           "arrowcolor": "#2a3f5f",
           "arrowhead": 0,
           "arrowwidth": 1
          },
          "autotypenumbers": "strict",
          "coloraxis": {
           "colorbar": {
            "outlinewidth": 0,
            "ticks": ""
           }
          },
          "colorscale": {
           "diverging": [
            [
             0,
             "#8e0152"
            ],
            [
             0.1,
             "#c51b7d"
            ],
            [
             0.2,
             "#de77ae"
            ],
            [
             0.3,
             "#f1b6da"
            ],
            [
             0.4,
             "#fde0ef"
            ],
            [
             0.5,
             "#f7f7f7"
            ],
            [
             0.6,
             "#e6f5d0"
            ],
            [
             0.7,
             "#b8e186"
            ],
            [
             0.8,
             "#7fbc41"
            ],
            [
             0.9,
             "#4d9221"
            ],
            [
             1,
             "#276419"
            ]
           ],
           "sequential": [
            [
             0,
             "#0d0887"
            ],
            [
             0.1111111111111111,
             "#46039f"
            ],
            [
             0.2222222222222222,
             "#7201a8"
            ],
            [
             0.3333333333333333,
             "#9c179e"
            ],
            [
             0.4444444444444444,
             "#bd3786"
            ],
            [
             0.5555555555555556,
             "#d8576b"
            ],
            [
             0.6666666666666666,
             "#ed7953"
            ],
            [
             0.7777777777777778,
             "#fb9f3a"
            ],
            [
             0.8888888888888888,
             "#fdca26"
            ],
            [
             1,
             "#f0f921"
            ]
           ],
           "sequentialminus": [
            [
             0,
             "#0d0887"
            ],
            [
             0.1111111111111111,
             "#46039f"
            ],
            [
             0.2222222222222222,
             "#7201a8"
            ],
            [
             0.3333333333333333,
             "#9c179e"
            ],
            [
             0.4444444444444444,
             "#bd3786"
            ],
            [
             0.5555555555555556,
             "#d8576b"
            ],
            [
             0.6666666666666666,
             "#ed7953"
            ],
            [
             0.7777777777777778,
             "#fb9f3a"
            ],
            [
             0.8888888888888888,
             "#fdca26"
            ],
            [
             1,
             "#f0f921"
            ]
           ]
          },
          "colorway": [
           "#636efa",
           "#EF553B",
           "#00cc96",
           "#ab63fa",
           "#FFA15A",
           "#19d3f3",
           "#FF6692",
           "#B6E880",
           "#FF97FF",
           "#FECB52"
          ],
          "font": {
           "color": "#2a3f5f"
          },
          "geo": {
           "bgcolor": "white",
           "lakecolor": "white",
           "landcolor": "#E5ECF6",
           "showlakes": true,
           "showland": true,
           "subunitcolor": "white"
          },
          "hoverlabel": {
           "align": "left"
          },
          "hovermode": "closest",
          "mapbox": {
           "style": "light"
          },
          "paper_bgcolor": "white",
          "plot_bgcolor": "#E5ECF6",
          "polar": {
           "angularaxis": {
            "gridcolor": "white",
            "linecolor": "white",
            "ticks": ""
           },
           "bgcolor": "#E5ECF6",
           "radialaxis": {
            "gridcolor": "white",
            "linecolor": "white",
            "ticks": ""
           }
          },
          "scene": {
           "xaxis": {
            "backgroundcolor": "#E5ECF6",
            "gridcolor": "white",
            "gridwidth": 2,
            "linecolor": "white",
            "showbackground": true,
            "ticks": "",
            "zerolinecolor": "white"
           },
           "yaxis": {
            "backgroundcolor": "#E5ECF6",
            "gridcolor": "white",
            "gridwidth": 2,
            "linecolor": "white",
            "showbackground": true,
            "ticks": "",
            "zerolinecolor": "white"
           },
           "zaxis": {
            "backgroundcolor": "#E5ECF6",
            "gridcolor": "white",
            "gridwidth": 2,
            "linecolor": "white",
            "showbackground": true,
            "ticks": "",
            "zerolinecolor": "white"
           }
          },
          "shapedefaults": {
           "line": {
            "color": "#2a3f5f"
           }
          },
          "ternary": {
           "aaxis": {
            "gridcolor": "white",
            "linecolor": "white",
            "ticks": ""
           },
           "baxis": {
            "gridcolor": "white",
            "linecolor": "white",
            "ticks": ""
           },
           "bgcolor": "#E5ECF6",
           "caxis": {
            "gridcolor": "white",
            "linecolor": "white",
            "ticks": ""
           }
          },
          "title": {
           "x": 0.05
          },
          "xaxis": {
           "automargin": true,
           "gridcolor": "white",
           "linecolor": "white",
           "ticks": "",
           "title": {
            "standoff": 15
           },
           "zerolinecolor": "white",
           "zerolinewidth": 2
          },
          "yaxis": {
           "automargin": true,
           "gridcolor": "white",
           "linecolor": "white",
           "ticks": "",
           "title": {
            "standoff": 15
           },
           "zerolinecolor": "white",
           "zerolinewidth": 2
          }
         }
        },
        "title": {
         "text": "Net-Avg Cost calculated by considering all income brackets"
        },
        "xaxis": {
         "title": {
          "text": "Year"
         }
        },
        "yaxis": {
         "title": {
          "text": "Net-Avg Cost(TotalCost - Aid)"
         }
        }
       }
      }
     },
     "metadata": {},
     "output_type": "display_data"
    }
   ],
   "source": [
    "drawBarGraph(year, avgNetPriceTier1, avgNetPriceTier2, 'Year', 'Net-Avg Cost(TotalCost - Aid)', 'Net-Avg Cost calculated by considering all income brackets')"
   ]
  },
  {
   "cell_type": "markdown",
   "metadata": {},
   "source": [
    "Inferences..."
   ]
  },
  {
   "cell_type": "code",
   "execution_count": 114,
   "metadata": {},
   "outputs": [],
   "source": [
    "# We can see that the net-average cost for attendance of Tier-1 institutes is less than that of Tier-2 institutes for\n",
    "# low and medium income families.\n",
    "# This may lead to students being burdened by high debt and financial worries may struggle to focus on their studies,\n",
    "# leading to lower academic performance, higher dropout rates."
   ]
  },
  {
   "cell_type": "code",
   "execution_count": 115,
   "metadata": {},
   "outputs": [],
   "source": [
    "# Now lets analyse the Top-3 subjects in which degrees are awarded in Tier-1 and Tier-2 institutes."
   ]
  },
  {
   "cell_type": "code",
   "execution_count": 52,
   "metadata": {},
   "outputs": [
    {
     "data": {
      "text/html": [
       "<div>\n",
       "<style scoped>\n",
       "    .dataframe tbody tr th:only-of-type {\n",
       "        vertical-align: middle;\n",
       "    }\n",
       "\n",
       "    .dataframe tbody tr th {\n",
       "        vertical-align: top;\n",
       "    }\n",
       "\n",
       "    .dataframe thead th {\n",
       "        text-align: right;\n",
       "    }\n",
       "</style>\n",
       "<table border=\"1\" class=\"dataframe\">\n",
       "  <thead>\n",
       "    <tr style=\"text-align: right;\">\n",
       "      <th></th>\n",
       "      <th></th>\n",
       "      <th>UNITID</th>\n",
       "      <th>INSTNM</th>\n",
       "      <th>CONTROL</th>\n",
       "      <th>ADM_RATE_ALL</th>\n",
       "      <th>C100_4</th>\n",
       "      <th>SAT_AVG_ALL</th>\n",
       "      <th>UGDS</th>\n",
       "      <th>UGDS_WHITE</th>\n",
       "      <th>UGDS_BLACK</th>\n",
       "      <th>UGDS_ASIAN</th>\n",
       "      <th>UGDS_HISP</th>\n",
       "      <th>MD_EARN_WNE_P6</th>\n",
       "      <th>GRAD_DEBT_MDN</th>\n",
       "      <th>FTFTPCTFLOAN</th>\n",
       "      <th>NPT4_PRIV</th>\n",
       "      <th>NPT4_PUB</th>\n",
       "      <th>NPT41_PUB</th>\n",
       "      <th>NPT41_PRIV</th>\n",
       "      <th>NPT42_PUB</th>\n",
       "      <th>NPT42_PRIV</th>\n",
       "      <th>NPT43_PUB</th>\n",
       "      <th>NPT43_PRIV</th>\n",
       "      <th>PCIP01</th>\n",
       "      <th>PCIP03</th>\n",
       "      <th>PCIP05</th>\n",
       "      <th>PCIP09</th>\n",
       "      <th>PCIP10</th>\n",
       "      <th>PCIP11</th>\n",
       "      <th>PCIP12</th>\n",
       "      <th>PCIP13</th>\n",
       "      <th>PCIP14</th>\n",
       "      <th>PCIP15</th>\n",
       "      <th>PCIP16</th>\n",
       "      <th>PCIP19</th>\n",
       "      <th>PCIP22</th>\n",
       "      <th>PCIP23</th>\n",
       "      <th>PCIP24</th>\n",
       "      <th>PCIP25</th>\n",
       "      <th>PCIP26</th>\n",
       "      <th>PCIP27</th>\n",
       "      <th>PCIP29</th>\n",
       "      <th>PCIP30</th>\n",
       "      <th>PCIP31</th>\n",
       "      <th>PCIP38</th>\n",
       "      <th>PCIP39</th>\n",
       "      <th>PCIP40</th>\n",
       "      <th>PCIP41</th>\n",
       "      <th>PCIP42</th>\n",
       "      <th>PCIP43</th>\n",
       "      <th>PCIP44</th>\n",
       "      <th>PCIP45</th>\n",
       "      <th>PCIP46</th>\n",
       "      <th>PCIP47</th>\n",
       "      <th>PCIP48</th>\n",
       "      <th>PCIP49</th>\n",
       "      <th>PCIP50</th>\n",
       "      <th>PCIP51</th>\n",
       "      <th>PCIP52</th>\n",
       "      <th>PCIP54</th>\n",
       "    </tr>\n",
       "    <tr>\n",
       "      <th>year</th>\n",
       "      <th>rowNum</th>\n",
       "      <th></th>\n",
       "      <th></th>\n",
       "      <th></th>\n",
       "      <th></th>\n",
       "      <th></th>\n",
       "      <th></th>\n",
       "      <th></th>\n",
       "      <th></th>\n",
       "      <th></th>\n",
       "      <th></th>\n",
       "      <th></th>\n",
       "      <th></th>\n",
       "      <th></th>\n",
       "      <th></th>\n",
       "      <th></th>\n",
       "      <th></th>\n",
       "      <th></th>\n",
       "      <th></th>\n",
       "      <th></th>\n",
       "      <th></th>\n",
       "      <th></th>\n",
       "      <th></th>\n",
       "      <th></th>\n",
       "      <th></th>\n",
       "      <th></th>\n",
       "      <th></th>\n",
       "      <th></th>\n",
       "      <th></th>\n",
       "      <th></th>\n",
       "      <th></th>\n",
       "      <th></th>\n",
       "      <th></th>\n",
       "      <th></th>\n",
       "      <th></th>\n",
       "      <th></th>\n",
       "      <th></th>\n",
       "      <th></th>\n",
       "      <th></th>\n",
       "      <th></th>\n",
       "      <th></th>\n",
       "      <th></th>\n",
       "      <th></th>\n",
       "      <th></th>\n",
       "      <th></th>\n",
       "      <th></th>\n",
       "      <th></th>\n",
       "      <th></th>\n",
       "      <th></th>\n",
       "      <th></th>\n",
       "      <th></th>\n",
       "      <th></th>\n",
       "      <th></th>\n",
       "      <th></th>\n",
       "      <th></th>\n",
       "      <th></th>\n",
       "      <th></th>\n",
       "      <th></th>\n",
       "      <th></th>\n",
       "      <th></th>\n",
       "    </tr>\n",
       "  </thead>\n",
       "  <tbody>\n",
       "    <tr>\n",
       "      <th rowspan=\"5\" valign=\"top\">2000</th>\n",
       "      <th>271</th>\n",
       "      <td>110404</td>\n",
       "      <td>California Institute of Technology</td>\n",
       "      <td>2.0</td>\n",
       "      <td>NaN</td>\n",
       "      <td>NaN</td>\n",
       "      <td>NaN</td>\n",
       "      <td>942.0</td>\n",
       "      <td>0.294009</td>\n",
       "      <td>0.015191</td>\n",
       "      <td>0.411036</td>\n",
       "      <td>NaN</td>\n",
       "      <td>52630.0</td>\n",
       "      <td>5625.0</td>\n",
       "      <td>NaN</td>\n",
       "      <td>20743.25</td>\n",
       "      <td>NaN</td>\n",
       "      <td>NaN</td>\n",
       "      <td>3236.65</td>\n",
       "      <td>NaN</td>\n",
       "      <td>NaN</td>\n",
       "      <td>NaN</td>\n",
       "      <td>8067.40</td>\n",
       "      <td>0.0000</td>\n",
       "      <td>0.0000</td>\n",
       "      <td>0.0000</td>\n",
       "      <td>0.0000</td>\n",
       "      <td>0.0000</td>\n",
       "      <td>0.0000</td>\n",
       "      <td>0.0</td>\n",
       "      <td>0.0000</td>\n",
       "      <td>0.4752</td>\n",
       "      <td>0.0000</td>\n",
       "      <td>0.0000</td>\n",
       "      <td>0.0000</td>\n",
       "      <td>0.0</td>\n",
       "      <td>0.0000</td>\n",
       "      <td>0.0000</td>\n",
       "      <td>0.0</td>\n",
       "      <td>0.1139</td>\n",
       "      <td>0.0594</td>\n",
       "      <td>0.0</td>\n",
       "      <td>0.0000</td>\n",
       "      <td>0.0000</td>\n",
       "      <td>0.0000</td>\n",
       "      <td>0.0</td>\n",
       "      <td>0.3267</td>\n",
       "      <td>0.0</td>\n",
       "      <td>0.0000</td>\n",
       "      <td>0.0000</td>\n",
       "      <td>0.0000</td>\n",
       "      <td>0.0248</td>\n",
       "      <td>0.0</td>\n",
       "      <td>0.0</td>\n",
       "      <td>0.0</td>\n",
       "      <td>0.0</td>\n",
       "      <td>0.0000</td>\n",
       "      <td>0.0000</td>\n",
       "      <td>0.0000</td>\n",
       "      <td>0.0000</td>\n",
       "    </tr>\n",
       "    <tr>\n",
       "      <th>890</th>\n",
       "      <td>134130</td>\n",
       "      <td>University of Florida</td>\n",
       "      <td>1.0</td>\n",
       "      <td>NaN</td>\n",
       "      <td>NaN</td>\n",
       "      <td>NaN</td>\n",
       "      <td>32598.0</td>\n",
       "      <td>0.560891</td>\n",
       "      <td>0.069900</td>\n",
       "      <td>0.083100</td>\n",
       "      <td>NaN</td>\n",
       "      <td>39995.0</td>\n",
       "      <td>12261.0</td>\n",
       "      <td>NaN</td>\n",
       "      <td>NaN</td>\n",
       "      <td>7125.0</td>\n",
       "      <td>3028.6</td>\n",
       "      <td>NaN</td>\n",
       "      <td>NaN</td>\n",
       "      <td>NaN</td>\n",
       "      <td>3398.15</td>\n",
       "      <td>NaN</td>\n",
       "      <td>0.0500</td>\n",
       "      <td>0.0171</td>\n",
       "      <td>0.0001</td>\n",
       "      <td>0.0818</td>\n",
       "      <td>0.0000</td>\n",
       "      <td>0.0093</td>\n",
       "      <td>0.0</td>\n",
       "      <td>0.0624</td>\n",
       "      <td>0.0986</td>\n",
       "      <td>0.0167</td>\n",
       "      <td>0.0082</td>\n",
       "      <td>0.0076</td>\n",
       "      <td>0.0</td>\n",
       "      <td>0.0321</td>\n",
       "      <td>0.0519</td>\n",
       "      <td>0.0</td>\n",
       "      <td>0.0458</td>\n",
       "      <td>0.0088</td>\n",
       "      <td>0.0</td>\n",
       "      <td>0.0069</td>\n",
       "      <td>0.0310</td>\n",
       "      <td>0.0051</td>\n",
       "      <td>0.0</td>\n",
       "      <td>0.0077</td>\n",
       "      <td>0.0</td>\n",
       "      <td>0.0491</td>\n",
       "      <td>0.0198</td>\n",
       "      <td>0.0000</td>\n",
       "      <td>0.0732</td>\n",
       "      <td>0.0</td>\n",
       "      <td>0.0</td>\n",
       "      <td>0.0</td>\n",
       "      <td>0.0</td>\n",
       "      <td>0.0271</td>\n",
       "      <td>0.0640</td>\n",
       "      <td>0.1890</td>\n",
       "      <td>0.0216</td>\n",
       "    </tr>\n",
       "    <tr>\n",
       "      <th>1062</th>\n",
       "      <td>139755</td>\n",
       "      <td>Georgia Institute of Technology-Main Campus</td>\n",
       "      <td>1.0</td>\n",
       "      <td>NaN</td>\n",
       "      <td>NaN</td>\n",
       "      <td>NaN</td>\n",
       "      <td>10888.0</td>\n",
       "      <td>0.540877</td>\n",
       "      <td>0.065469</td>\n",
       "      <td>0.190685</td>\n",
       "      <td>NaN</td>\n",
       "      <td>52535.0</td>\n",
       "      <td>15250.0</td>\n",
       "      <td>NaN</td>\n",
       "      <td>NaN</td>\n",
       "      <td>7102.2</td>\n",
       "      <td>3315.5</td>\n",
       "      <td>NaN</td>\n",
       "      <td>NaN</td>\n",
       "      <td>NaN</td>\n",
       "      <td>8084.50</td>\n",
       "      <td>NaN</td>\n",
       "      <td>0.0000</td>\n",
       "      <td>0.0000</td>\n",
       "      <td>0.0000</td>\n",
       "      <td>0.0000</td>\n",
       "      <td>0.0000</td>\n",
       "      <td>0.1021</td>\n",
       "      <td>0.0</td>\n",
       "      <td>0.0000</td>\n",
       "      <td>0.6073</td>\n",
       "      <td>0.0128</td>\n",
       "      <td>0.0000</td>\n",
       "      <td>0.0000</td>\n",
       "      <td>0.0</td>\n",
       "      <td>0.0000</td>\n",
       "      <td>0.0000</td>\n",
       "      <td>0.0</td>\n",
       "      <td>0.0247</td>\n",
       "      <td>0.0030</td>\n",
       "      <td>0.0</td>\n",
       "      <td>0.0089</td>\n",
       "      <td>0.0000</td>\n",
       "      <td>0.0000</td>\n",
       "      <td>0.0</td>\n",
       "      <td>0.0261</td>\n",
       "      <td>0.0</td>\n",
       "      <td>0.0089</td>\n",
       "      <td>0.0000</td>\n",
       "      <td>0.0000</td>\n",
       "      <td>0.0247</td>\n",
       "      <td>0.0</td>\n",
       "      <td>0.0</td>\n",
       "      <td>0.0</td>\n",
       "      <td>0.0</td>\n",
       "      <td>0.0158</td>\n",
       "      <td>0.0000</td>\n",
       "      <td>0.1347</td>\n",
       "      <td>0.0069</td>\n",
       "    </tr>\n",
       "    <tr>\n",
       "      <th>1316</th>\n",
       "      <td>147767</td>\n",
       "      <td>Northwestern University</td>\n",
       "      <td>2.0</td>\n",
       "      <td>NaN</td>\n",
       "      <td>NaN</td>\n",
       "      <td>NaN</td>\n",
       "      <td>8158.0</td>\n",
       "      <td>0.501118</td>\n",
       "      <td>0.057455</td>\n",
       "      <td>0.178409</td>\n",
       "      <td>NaN</td>\n",
       "      <td>44935.0</td>\n",
       "      <td>11359.0</td>\n",
       "      <td>NaN</td>\n",
       "      <td>27876.80</td>\n",
       "      <td>NaN</td>\n",
       "      <td>NaN</td>\n",
       "      <td>12143.85</td>\n",
       "      <td>NaN</td>\n",
       "      <td>NaN</td>\n",
       "      <td>NaN</td>\n",
       "      <td>20008.90</td>\n",
       "      <td>0.0000</td>\n",
       "      <td>0.0005</td>\n",
       "      <td>0.0065</td>\n",
       "      <td>0.1148</td>\n",
       "      <td>0.0000</td>\n",
       "      <td>0.0249</td>\n",
       "      <td>0.0</td>\n",
       "      <td>0.0109</td>\n",
       "      <td>0.1670</td>\n",
       "      <td>0.0000</td>\n",
       "      <td>0.0258</td>\n",
       "      <td>0.0000</td>\n",
       "      <td>0.0</td>\n",
       "      <td>0.1108</td>\n",
       "      <td>0.0035</td>\n",
       "      <td>0.0</td>\n",
       "      <td>0.0601</td>\n",
       "      <td>0.0114</td>\n",
       "      <td>0.0</td>\n",
       "      <td>0.0139</td>\n",
       "      <td>0.0000</td>\n",
       "      <td>0.0070</td>\n",
       "      <td>0.0</td>\n",
       "      <td>0.0109</td>\n",
       "      <td>0.0</td>\n",
       "      <td>0.0775</td>\n",
       "      <td>0.0000</td>\n",
       "      <td>0.0159</td>\n",
       "      <td>0.1585</td>\n",
       "      <td>0.0</td>\n",
       "      <td>0.0</td>\n",
       "      <td>0.0</td>\n",
       "      <td>0.0</td>\n",
       "      <td>0.1064</td>\n",
       "      <td>0.0134</td>\n",
       "      <td>0.0154</td>\n",
       "      <td>0.0447</td>\n",
       "    </tr>\n",
       "    <tr>\n",
       "      <th>1917</th>\n",
       "      <td>162928</td>\n",
       "      <td>Johns Hopkins University</td>\n",
       "      <td>2.0</td>\n",
       "      <td>NaN</td>\n",
       "      <td>NaN</td>\n",
       "      <td>NaN</td>\n",
       "      <td>5125.0</td>\n",
       "      <td>0.405309</td>\n",
       "      <td>0.062418</td>\n",
       "      <td>0.225018</td>\n",
       "      <td>NaN</td>\n",
       "      <td>49115.0</td>\n",
       "      <td>14500.0</td>\n",
       "      <td>NaN</td>\n",
       "      <td>27414.15</td>\n",
       "      <td>NaN</td>\n",
       "      <td>NaN</td>\n",
       "      <td>13003.60</td>\n",
       "      <td>NaN</td>\n",
       "      <td>NaN</td>\n",
       "      <td>NaN</td>\n",
       "      <td>15603.75</td>\n",
       "      <td>0.0000</td>\n",
       "      <td>0.0000</td>\n",
       "      <td>0.0030</td>\n",
       "      <td>0.0000</td>\n",
       "      <td>0.0015</td>\n",
       "      <td>0.0286</td>\n",
       "      <td>0.0</td>\n",
       "      <td>0.0008</td>\n",
       "      <td>0.1792</td>\n",
       "      <td>0.0000</td>\n",
       "      <td>0.0113</td>\n",
       "      <td>0.0000</td>\n",
       "      <td>0.0</td>\n",
       "      <td>0.0474</td>\n",
       "      <td>0.0151</td>\n",
       "      <td>0.0</td>\n",
       "      <td>0.0738</td>\n",
       "      <td>0.0136</td>\n",
       "      <td>0.0</td>\n",
       "      <td>0.0377</td>\n",
       "      <td>0.0000</td>\n",
       "      <td>0.0008</td>\n",
       "      <td>0.0</td>\n",
       "      <td>0.0226</td>\n",
       "      <td>0.0</td>\n",
       "      <td>0.0467</td>\n",
       "      <td>0.0000</td>\n",
       "      <td>0.0000</td>\n",
       "      <td>0.1875</td>\n",
       "      <td>0.0</td>\n",
       "      <td>0.0</td>\n",
       "      <td>0.0</td>\n",
       "      <td>0.0</td>\n",
       "      <td>0.0693</td>\n",
       "      <td>0.1890</td>\n",
       "      <td>0.0535</td>\n",
       "      <td>0.0188</td>\n",
       "    </tr>\n",
       "    <tr>\n",
       "      <th>...</th>\n",
       "      <th>...</th>\n",
       "      <td>...</td>\n",
       "      <td>...</td>\n",
       "      <td>...</td>\n",
       "      <td>...</td>\n",
       "      <td>...</td>\n",
       "      <td>...</td>\n",
       "      <td>...</td>\n",
       "      <td>...</td>\n",
       "      <td>...</td>\n",
       "      <td>...</td>\n",
       "      <td>...</td>\n",
       "      <td>...</td>\n",
       "      <td>...</td>\n",
       "      <td>...</td>\n",
       "      <td>...</td>\n",
       "      <td>...</td>\n",
       "      <td>...</td>\n",
       "      <td>...</td>\n",
       "      <td>...</td>\n",
       "      <td>...</td>\n",
       "      <td>...</td>\n",
       "      <td>...</td>\n",
       "      <td>...</td>\n",
       "      <td>...</td>\n",
       "      <td>...</td>\n",
       "      <td>...</td>\n",
       "      <td>...</td>\n",
       "      <td>...</td>\n",
       "      <td>...</td>\n",
       "      <td>...</td>\n",
       "      <td>...</td>\n",
       "      <td>...</td>\n",
       "      <td>...</td>\n",
       "      <td>...</td>\n",
       "      <td>...</td>\n",
       "      <td>...</td>\n",
       "      <td>...</td>\n",
       "      <td>...</td>\n",
       "      <td>...</td>\n",
       "      <td>...</td>\n",
       "      <td>...</td>\n",
       "      <td>...</td>\n",
       "      <td>...</td>\n",
       "      <td>...</td>\n",
       "      <td>...</td>\n",
       "      <td>...</td>\n",
       "      <td>...</td>\n",
       "      <td>...</td>\n",
       "      <td>...</td>\n",
       "      <td>...</td>\n",
       "      <td>...</td>\n",
       "      <td>...</td>\n",
       "      <td>...</td>\n",
       "      <td>...</td>\n",
       "      <td>...</td>\n",
       "      <td>...</td>\n",
       "      <td>...</td>\n",
       "      <td>...</td>\n",
       "      <td>...</td>\n",
       "    </tr>\n",
       "    <tr>\n",
       "      <th rowspan=\"5\" valign=\"top\">2001</th>\n",
       "      <th>271</th>\n",
       "      <td>110404</td>\n",
       "      <td>California Institute of Technology</td>\n",
       "      <td>2.0</td>\n",
       "      <td>0.1530</td>\n",
       "      <td>0.7156</td>\n",
       "      <td>1520.0</td>\n",
       "      <td>942.0</td>\n",
       "      <td>0.294009</td>\n",
       "      <td>0.015191</td>\n",
       "      <td>0.411036</td>\n",
       "      <td>NaN</td>\n",
       "      <td>52630.0</td>\n",
       "      <td>5500.0</td>\n",
       "      <td>NaN</td>\n",
       "      <td>20743.25</td>\n",
       "      <td>NaN</td>\n",
       "      <td>NaN</td>\n",
       "      <td>3236.65</td>\n",
       "      <td>NaN</td>\n",
       "      <td>NaN</td>\n",
       "      <td>NaN</td>\n",
       "      <td>8067.40</td>\n",
       "      <td>0.0000</td>\n",
       "      <td>0.0000</td>\n",
       "      <td>0.0000</td>\n",
       "      <td>0.0000</td>\n",
       "      <td>0.0000</td>\n",
       "      <td>0.0000</td>\n",
       "      <td>0.0</td>\n",
       "      <td>0.0000</td>\n",
       "      <td>0.5000</td>\n",
       "      <td>0.0000</td>\n",
       "      <td>0.0000</td>\n",
       "      <td>0.0000</td>\n",
       "      <td>0.0</td>\n",
       "      <td>0.0049</td>\n",
       "      <td>0.0000</td>\n",
       "      <td>0.0</td>\n",
       "      <td>0.0882</td>\n",
       "      <td>0.0686</td>\n",
       "      <td>0.0</td>\n",
       "      <td>0.0000</td>\n",
       "      <td>0.0000</td>\n",
       "      <td>0.0000</td>\n",
       "      <td>0.0</td>\n",
       "      <td>0.3284</td>\n",
       "      <td>0.0</td>\n",
       "      <td>0.0000</td>\n",
       "      <td>0.0000</td>\n",
       "      <td>0.0000</td>\n",
       "      <td>0.0098</td>\n",
       "      <td>0.0</td>\n",
       "      <td>0.0</td>\n",
       "      <td>0.0</td>\n",
       "      <td>0.0</td>\n",
       "      <td>0.0000</td>\n",
       "      <td>0.0000</td>\n",
       "      <td>0.0000</td>\n",
       "      <td>0.0000</td>\n",
       "    </tr>\n",
       "    <tr>\n",
       "      <th>888</th>\n",
       "      <td>134130</td>\n",
       "      <td>University of Florida</td>\n",
       "      <td>1.0</td>\n",
       "      <td>0.6006</td>\n",
       "      <td>0.4320</td>\n",
       "      <td>1220.0</td>\n",
       "      <td>32598.0</td>\n",
       "      <td>0.560891</td>\n",
       "      <td>0.069900</td>\n",
       "      <td>0.083100</td>\n",
       "      <td>NaN</td>\n",
       "      <td>39995.0</td>\n",
       "      <td>11343.0</td>\n",
       "      <td>NaN</td>\n",
       "      <td>NaN</td>\n",
       "      <td>7125.0</td>\n",
       "      <td>3028.6</td>\n",
       "      <td>NaN</td>\n",
       "      <td>NaN</td>\n",
       "      <td>NaN</td>\n",
       "      <td>3398.15</td>\n",
       "      <td>NaN</td>\n",
       "      <td>0.0504</td>\n",
       "      <td>0.0153</td>\n",
       "      <td>0.0001</td>\n",
       "      <td>0.0872</td>\n",
       "      <td>0.0000</td>\n",
       "      <td>0.0136</td>\n",
       "      <td>0.0</td>\n",
       "      <td>0.0348</td>\n",
       "      <td>0.0937</td>\n",
       "      <td>0.0174</td>\n",
       "      <td>0.0125</td>\n",
       "      <td>0.0084</td>\n",
       "      <td>0.0</td>\n",
       "      <td>0.0316</td>\n",
       "      <td>0.0418</td>\n",
       "      <td>0.0</td>\n",
       "      <td>0.0468</td>\n",
       "      <td>0.0065</td>\n",
       "      <td>0.0</td>\n",
       "      <td>0.0083</td>\n",
       "      <td>0.0443</td>\n",
       "      <td>0.0048</td>\n",
       "      <td>0.0</td>\n",
       "      <td>0.0093</td>\n",
       "      <td>0.0</td>\n",
       "      <td>0.0503</td>\n",
       "      <td>0.0175</td>\n",
       "      <td>0.0000</td>\n",
       "      <td>0.0775</td>\n",
       "      <td>0.0</td>\n",
       "      <td>0.0</td>\n",
       "      <td>0.0</td>\n",
       "      <td>0.0</td>\n",
       "      <td>0.0264</td>\n",
       "      <td>0.0674</td>\n",
       "      <td>0.1994</td>\n",
       "      <td>0.0224</td>\n",
       "    </tr>\n",
       "    <tr>\n",
       "      <th>1056</th>\n",
       "      <td>139755</td>\n",
       "      <td>Georgia Institute of Technology-Main Campus</td>\n",
       "      <td>1.0</td>\n",
       "      <td>0.5442</td>\n",
       "      <td>0.2127</td>\n",
       "      <td>1335.0</td>\n",
       "      <td>10888.0</td>\n",
       "      <td>0.540877</td>\n",
       "      <td>0.065469</td>\n",
       "      <td>0.190685</td>\n",
       "      <td>NaN</td>\n",
       "      <td>52535.0</td>\n",
       "      <td>14500.0</td>\n",
       "      <td>NaN</td>\n",
       "      <td>NaN</td>\n",
       "      <td>7102.2</td>\n",
       "      <td>3315.5</td>\n",
       "      <td>NaN</td>\n",
       "      <td>NaN</td>\n",
       "      <td>NaN</td>\n",
       "      <td>8084.50</td>\n",
       "      <td>NaN</td>\n",
       "      <td>0.0000</td>\n",
       "      <td>0.0000</td>\n",
       "      <td>0.0000</td>\n",
       "      <td>0.0000</td>\n",
       "      <td>0.0000</td>\n",
       "      <td>0.1258</td>\n",
       "      <td>0.0</td>\n",
       "      <td>0.0000</td>\n",
       "      <td>0.5744</td>\n",
       "      <td>0.0000</td>\n",
       "      <td>0.0000</td>\n",
       "      <td>0.0000</td>\n",
       "      <td>0.0</td>\n",
       "      <td>0.0000</td>\n",
       "      <td>0.0000</td>\n",
       "      <td>0.0</td>\n",
       "      <td>0.0260</td>\n",
       "      <td>0.0079</td>\n",
       "      <td>0.0</td>\n",
       "      <td>0.0093</td>\n",
       "      <td>0.0000</td>\n",
       "      <td>0.0000</td>\n",
       "      <td>0.0</td>\n",
       "      <td>0.0246</td>\n",
       "      <td>0.0</td>\n",
       "      <td>0.0069</td>\n",
       "      <td>0.0000</td>\n",
       "      <td>0.0020</td>\n",
       "      <td>0.0251</td>\n",
       "      <td>0.0</td>\n",
       "      <td>0.0</td>\n",
       "      <td>0.0</td>\n",
       "      <td>0.0</td>\n",
       "      <td>0.0123</td>\n",
       "      <td>0.0000</td>\n",
       "      <td>0.1489</td>\n",
       "      <td>0.0084</td>\n",
       "    </tr>\n",
       "    <tr>\n",
       "      <th>1309</th>\n",
       "      <td>147767</td>\n",
       "      <td>Northwestern University</td>\n",
       "      <td>2.0</td>\n",
       "      <td>0.3278</td>\n",
       "      <td>0.8188</td>\n",
       "      <td>1380.0</td>\n",
       "      <td>8158.0</td>\n",
       "      <td>0.501118</td>\n",
       "      <td>0.057455</td>\n",
       "      <td>0.178409</td>\n",
       "      <td>NaN</td>\n",
       "      <td>44935.0</td>\n",
       "      <td>12079.5</td>\n",
       "      <td>NaN</td>\n",
       "      <td>27876.80</td>\n",
       "      <td>NaN</td>\n",
       "      <td>NaN</td>\n",
       "      <td>12143.85</td>\n",
       "      <td>NaN</td>\n",
       "      <td>NaN</td>\n",
       "      <td>NaN</td>\n",
       "      <td>20008.90</td>\n",
       "      <td>0.0000</td>\n",
       "      <td>0.0020</td>\n",
       "      <td>0.0074</td>\n",
       "      <td>0.1202</td>\n",
       "      <td>0.0000</td>\n",
       "      <td>0.0336</td>\n",
       "      <td>0.0</td>\n",
       "      <td>0.0158</td>\n",
       "      <td>0.1400</td>\n",
       "      <td>0.0000</td>\n",
       "      <td>0.0129</td>\n",
       "      <td>0.0000</td>\n",
       "      <td>0.0</td>\n",
       "      <td>0.1073</td>\n",
       "      <td>0.0030</td>\n",
       "      <td>0.0</td>\n",
       "      <td>0.0598</td>\n",
       "      <td>0.0168</td>\n",
       "      <td>0.0</td>\n",
       "      <td>0.0129</td>\n",
       "      <td>0.0000</td>\n",
       "      <td>0.0138</td>\n",
       "      <td>0.0</td>\n",
       "      <td>0.0094</td>\n",
       "      <td>0.0</td>\n",
       "      <td>0.0732</td>\n",
       "      <td>0.0000</td>\n",
       "      <td>0.0134</td>\n",
       "      <td>0.1785</td>\n",
       "      <td>0.0</td>\n",
       "      <td>0.0</td>\n",
       "      <td>0.0</td>\n",
       "      <td>0.0</td>\n",
       "      <td>0.1029</td>\n",
       "      <td>0.0089</td>\n",
       "      <td>0.0292</td>\n",
       "      <td>0.0391</td>\n",
       "    </tr>\n",
       "    <tr>\n",
       "      <th>1906</th>\n",
       "      <td>162928</td>\n",
       "      <td>Johns Hopkins University</td>\n",
       "      <td>2.0</td>\n",
       "      <td>0.3431</td>\n",
       "      <td>0.7824</td>\n",
       "      <td>1405.0</td>\n",
       "      <td>5125.0</td>\n",
       "      <td>0.405309</td>\n",
       "      <td>0.062418</td>\n",
       "      <td>0.225018</td>\n",
       "      <td>NaN</td>\n",
       "      <td>49115.0</td>\n",
       "      <td>14500.0</td>\n",
       "      <td>NaN</td>\n",
       "      <td>27414.15</td>\n",
       "      <td>NaN</td>\n",
       "      <td>NaN</td>\n",
       "      <td>13003.60</td>\n",
       "      <td>NaN</td>\n",
       "      <td>NaN</td>\n",
       "      <td>NaN</td>\n",
       "      <td>15603.75</td>\n",
       "      <td>0.0000</td>\n",
       "      <td>0.0000</td>\n",
       "      <td>0.0063</td>\n",
       "      <td>0.0000</td>\n",
       "      <td>0.0008</td>\n",
       "      <td>0.0364</td>\n",
       "      <td>0.0</td>\n",
       "      <td>0.0032</td>\n",
       "      <td>0.1834</td>\n",
       "      <td>0.0000</td>\n",
       "      <td>0.0119</td>\n",
       "      <td>0.0000</td>\n",
       "      <td>0.0</td>\n",
       "      <td>0.0474</td>\n",
       "      <td>0.0087</td>\n",
       "      <td>0.0</td>\n",
       "      <td>0.0696</td>\n",
       "      <td>0.0103</td>\n",
       "      <td>0.0</td>\n",
       "      <td>0.0514</td>\n",
       "      <td>0.0000</td>\n",
       "      <td>0.0055</td>\n",
       "      <td>0.0</td>\n",
       "      <td>0.0206</td>\n",
       "      <td>0.0</td>\n",
       "      <td>0.0443</td>\n",
       "      <td>0.0000</td>\n",
       "      <td>0.0000</td>\n",
       "      <td>0.1684</td>\n",
       "      <td>0.0</td>\n",
       "      <td>0.0</td>\n",
       "      <td>0.0</td>\n",
       "      <td>0.0</td>\n",
       "      <td>0.0609</td>\n",
       "      <td>0.2040</td>\n",
       "      <td>0.0482</td>\n",
       "      <td>0.0190</td>\n",
       "    </tr>\n",
       "  </tbody>\n",
       "</table>\n",
       "<p>20 rows × 59 columns</p>\n",
       "</div>"
      ],
      "text/plain": [
       "             UNITID                                       INSTNM  CONTROL  \\\n",
       "year rowNum                                                                 \n",
       "2000 271     110404           California Institute of Technology      2.0   \n",
       "     890     134130                        University of Florida      1.0   \n",
       "     1062    139755  Georgia Institute of Technology-Main Campus      1.0   \n",
       "     1316    147767                      Northwestern University      2.0   \n",
       "     1917    162928                     Johns Hopkins University      2.0   \n",
       "...             ...                                          ...      ...   \n",
       "2001 271     110404           California Institute of Technology      2.0   \n",
       "     888     134130                        University of Florida      1.0   \n",
       "     1056    139755  Georgia Institute of Technology-Main Campus      1.0   \n",
       "     1309    147767                      Northwestern University      2.0   \n",
       "     1906    162928                     Johns Hopkins University      2.0   \n",
       "\n",
       "             ADM_RATE_ALL  C100_4  SAT_AVG_ALL     UGDS  UGDS_WHITE  \\\n",
       "year rowNum                                                           \n",
       "2000 271              NaN     NaN          NaN    942.0    0.294009   \n",
       "     890              NaN     NaN          NaN  32598.0    0.560891   \n",
       "     1062             NaN     NaN          NaN  10888.0    0.540877   \n",
       "     1316             NaN     NaN          NaN   8158.0    0.501118   \n",
       "     1917             NaN     NaN          NaN   5125.0    0.405309   \n",
       "...                   ...     ...          ...      ...         ...   \n",
       "2001 271           0.1530  0.7156       1520.0    942.0    0.294009   \n",
       "     888           0.6006  0.4320       1220.0  32598.0    0.560891   \n",
       "     1056          0.5442  0.2127       1335.0  10888.0    0.540877   \n",
       "     1309          0.3278  0.8188       1380.0   8158.0    0.501118   \n",
       "     1906          0.3431  0.7824       1405.0   5125.0    0.405309   \n",
       "\n",
       "             UGDS_BLACK  UGDS_ASIAN  UGDS_HISP  MD_EARN_WNE_P6  GRAD_DEBT_MDN  \\\n",
       "year rowNum                                                                     \n",
       "2000 271       0.015191    0.411036        NaN         52630.0         5625.0   \n",
       "     890       0.069900    0.083100        NaN         39995.0        12261.0   \n",
       "     1062      0.065469    0.190685        NaN         52535.0        15250.0   \n",
       "     1316      0.057455    0.178409        NaN         44935.0        11359.0   \n",
       "     1917      0.062418    0.225018        NaN         49115.0        14500.0   \n",
       "...                 ...         ...        ...             ...            ...   \n",
       "2001 271       0.015191    0.411036        NaN         52630.0         5500.0   \n",
       "     888       0.069900    0.083100        NaN         39995.0        11343.0   \n",
       "     1056      0.065469    0.190685        NaN         52535.0        14500.0   \n",
       "     1309      0.057455    0.178409        NaN         44935.0        12079.5   \n",
       "     1906      0.062418    0.225018        NaN         49115.0        14500.0   \n",
       "\n",
       "             FTFTPCTFLOAN  NPT4_PRIV  NPT4_PUB  NPT41_PUB  NPT41_PRIV  \\\n",
       "year rowNum                                                             \n",
       "2000 271              NaN   20743.25       NaN        NaN     3236.65   \n",
       "     890              NaN        NaN    7125.0     3028.6         NaN   \n",
       "     1062             NaN        NaN    7102.2     3315.5         NaN   \n",
       "     1316             NaN   27876.80       NaN        NaN    12143.85   \n",
       "     1917             NaN   27414.15       NaN        NaN    13003.60   \n",
       "...                   ...        ...       ...        ...         ...   \n",
       "2001 271              NaN   20743.25       NaN        NaN     3236.65   \n",
       "     888              NaN        NaN    7125.0     3028.6         NaN   \n",
       "     1056             NaN        NaN    7102.2     3315.5         NaN   \n",
       "     1309             NaN   27876.80       NaN        NaN    12143.85   \n",
       "     1906             NaN   27414.15       NaN        NaN    13003.60   \n",
       "\n",
       "             NPT42_PUB  NPT42_PRIV  NPT43_PUB  NPT43_PRIV  PCIP01  PCIP03  \\\n",
       "year rowNum                                                                 \n",
       "2000 271           NaN         NaN        NaN     8067.40  0.0000  0.0000   \n",
       "     890           NaN         NaN    3398.15         NaN  0.0500  0.0171   \n",
       "     1062          NaN         NaN    8084.50         NaN  0.0000  0.0000   \n",
       "     1316          NaN         NaN        NaN    20008.90  0.0000  0.0005   \n",
       "     1917          NaN         NaN        NaN    15603.75  0.0000  0.0000   \n",
       "...                ...         ...        ...         ...     ...     ...   \n",
       "2001 271           NaN         NaN        NaN     8067.40  0.0000  0.0000   \n",
       "     888           NaN         NaN    3398.15         NaN  0.0504  0.0153   \n",
       "     1056          NaN         NaN    8084.50         NaN  0.0000  0.0000   \n",
       "     1309          NaN         NaN        NaN    20008.90  0.0000  0.0020   \n",
       "     1906          NaN         NaN        NaN    15603.75  0.0000  0.0000   \n",
       "\n",
       "             PCIP05  PCIP09  PCIP10  PCIP11  PCIP12  PCIP13  PCIP14  PCIP15  \\\n",
       "year rowNum                                                                   \n",
       "2000 271     0.0000  0.0000  0.0000  0.0000     0.0  0.0000  0.4752  0.0000   \n",
       "     890     0.0001  0.0818  0.0000  0.0093     0.0  0.0624  0.0986  0.0167   \n",
       "     1062    0.0000  0.0000  0.0000  0.1021     0.0  0.0000  0.6073  0.0128   \n",
       "     1316    0.0065  0.1148  0.0000  0.0249     0.0  0.0109  0.1670  0.0000   \n",
       "     1917    0.0030  0.0000  0.0015  0.0286     0.0  0.0008  0.1792  0.0000   \n",
       "...             ...     ...     ...     ...     ...     ...     ...     ...   \n",
       "2001 271     0.0000  0.0000  0.0000  0.0000     0.0  0.0000  0.5000  0.0000   \n",
       "     888     0.0001  0.0872  0.0000  0.0136     0.0  0.0348  0.0937  0.0174   \n",
       "     1056    0.0000  0.0000  0.0000  0.1258     0.0  0.0000  0.5744  0.0000   \n",
       "     1309    0.0074  0.1202  0.0000  0.0336     0.0  0.0158  0.1400  0.0000   \n",
       "     1906    0.0063  0.0000  0.0008  0.0364     0.0  0.0032  0.1834  0.0000   \n",
       "\n",
       "             PCIP16  PCIP19  PCIP22  PCIP23  PCIP24  PCIP25  PCIP26  PCIP27  \\\n",
       "year rowNum                                                                   \n",
       "2000 271     0.0000  0.0000     0.0  0.0000  0.0000     0.0  0.1139  0.0594   \n",
       "     890     0.0082  0.0076     0.0  0.0321  0.0519     0.0  0.0458  0.0088   \n",
       "     1062    0.0000  0.0000     0.0  0.0000  0.0000     0.0  0.0247  0.0030   \n",
       "     1316    0.0258  0.0000     0.0  0.1108  0.0035     0.0  0.0601  0.0114   \n",
       "     1917    0.0113  0.0000     0.0  0.0474  0.0151     0.0  0.0738  0.0136   \n",
       "...             ...     ...     ...     ...     ...     ...     ...     ...   \n",
       "2001 271     0.0000  0.0000     0.0  0.0049  0.0000     0.0  0.0882  0.0686   \n",
       "     888     0.0125  0.0084     0.0  0.0316  0.0418     0.0  0.0468  0.0065   \n",
       "     1056    0.0000  0.0000     0.0  0.0000  0.0000     0.0  0.0260  0.0079   \n",
       "     1309    0.0129  0.0000     0.0  0.1073  0.0030     0.0  0.0598  0.0168   \n",
       "     1906    0.0119  0.0000     0.0  0.0474  0.0087     0.0  0.0696  0.0103   \n",
       "\n",
       "             PCIP29  PCIP30  PCIP31  PCIP38  PCIP39  PCIP40  PCIP41  PCIP42  \\\n",
       "year rowNum                                                                   \n",
       "2000 271        0.0  0.0000  0.0000  0.0000     0.0  0.3267     0.0  0.0000   \n",
       "     890        0.0  0.0069  0.0310  0.0051     0.0  0.0077     0.0  0.0491   \n",
       "     1062       0.0  0.0089  0.0000  0.0000     0.0  0.0261     0.0  0.0089   \n",
       "     1316       0.0  0.0139  0.0000  0.0070     0.0  0.0109     0.0  0.0775   \n",
       "     1917       0.0  0.0377  0.0000  0.0008     0.0  0.0226     0.0  0.0467   \n",
       "...             ...     ...     ...     ...     ...     ...     ...     ...   \n",
       "2001 271        0.0  0.0000  0.0000  0.0000     0.0  0.3284     0.0  0.0000   \n",
       "     888        0.0  0.0083  0.0443  0.0048     0.0  0.0093     0.0  0.0503   \n",
       "     1056       0.0  0.0093  0.0000  0.0000     0.0  0.0246     0.0  0.0069   \n",
       "     1309       0.0  0.0129  0.0000  0.0138     0.0  0.0094     0.0  0.0732   \n",
       "     1906       0.0  0.0514  0.0000  0.0055     0.0  0.0206     0.0  0.0443   \n",
       "\n",
       "             PCIP43  PCIP44  PCIP45  PCIP46  PCIP47  PCIP48  PCIP49  PCIP50  \\\n",
       "year rowNum                                                                   \n",
       "2000 271     0.0000  0.0000  0.0248     0.0     0.0     0.0     0.0  0.0000   \n",
       "     890     0.0198  0.0000  0.0732     0.0     0.0     0.0     0.0  0.0271   \n",
       "     1062    0.0000  0.0000  0.0247     0.0     0.0     0.0     0.0  0.0158   \n",
       "     1316    0.0000  0.0159  0.1585     0.0     0.0     0.0     0.0  0.1064   \n",
       "     1917    0.0000  0.0000  0.1875     0.0     0.0     0.0     0.0  0.0693   \n",
       "...             ...     ...     ...     ...     ...     ...     ...     ...   \n",
       "2001 271     0.0000  0.0000  0.0098     0.0     0.0     0.0     0.0  0.0000   \n",
       "     888     0.0175  0.0000  0.0775     0.0     0.0     0.0     0.0  0.0264   \n",
       "     1056    0.0000  0.0020  0.0251     0.0     0.0     0.0     0.0  0.0123   \n",
       "     1309    0.0000  0.0134  0.1785     0.0     0.0     0.0     0.0  0.1029   \n",
       "     1906    0.0000  0.0000  0.1684     0.0     0.0     0.0     0.0  0.0609   \n",
       "\n",
       "             PCIP51  PCIP52  PCIP54  \n",
       "year rowNum                          \n",
       "2000 271     0.0000  0.0000  0.0000  \n",
       "     890     0.0640  0.1890  0.0216  \n",
       "     1062    0.0000  0.1347  0.0069  \n",
       "     1316    0.0134  0.0154  0.0447  \n",
       "     1917    0.1890  0.0535  0.0188  \n",
       "...             ...     ...     ...  \n",
       "2001 271     0.0000  0.0000  0.0000  \n",
       "     888     0.0674  0.1994  0.0224  \n",
       "     1056    0.0000  0.1489  0.0084  \n",
       "     1309    0.0089  0.0292  0.0391  \n",
       "     1906    0.2040  0.0482  0.0190  \n",
       "\n",
       "[20 rows x 59 columns]"
      ]
     },
     "execution_count": 52,
     "metadata": {},
     "output_type": "execute_result"
    }
   ],
   "source": [
    "pd.set_option('display.max_rows', 10)\n",
    "tier1Institutes.head(20)"
   ]
  },
  {
   "cell_type": "code",
   "execution_count": 53,
   "metadata": {},
   "outputs": [],
   "source": [
    "computerTier1 = tier1Institutes.loc[2010:2020]['PCIP11'] # PCIP11 => Computing Subjects\n",
    "computerTier2 = tier2Institutes.loc[2010:2020]['PCIP11']\n",
    "\n",
    "mathsAndStatsTier1 = tier1Institutes.loc[2010:2020]['PCIP27'] # PCIP27 => Mathematics and Statistics Subjects\n",
    "mathsAndStatsTier2 = tier2Institutes.loc[2010:2020]['PCIP27']\n",
    "\n",
    "businessTier1 = tier1Institutes.loc[2010:2020]['PCIP52'] # PCIP52 => Business and Marketing Subjects\n",
    "businessTier2 = tier2Institutes.loc[2010:2020]['PCIP52']\n",
    "\n",
    "biomedicineTier1 = tier1Institutes.loc[2010:2020]['PCIP26'] # PCIP26 => Biology and Biomedicine Related Subjects\n",
    "biomedicineTier2 = tier2Institutes.loc[2010:2020]['PCIP26']\n",
    "\n",
    "computerTier1ByYr = computerTier1.groupby(level='year').mean()\n",
    "computerTier2ByYr = computerTier2.groupby(level='year').mean()\n",
    "\n",
    "mathsAndStatsTier1ByYr = mathsAndStatsTier1.groupby(level='year').mean()\n",
    "mathsAndStatsTier2ByYr = mathsAndStatsTier2.groupby(level='year').mean()\n",
    "\n",
    "businessTier1ByYr = businessTier1.groupby(level='year').mean()\n",
    "businessTier2ByYr = businessTier2.groupby(level='year').mean()\n",
    "\n",
    "biomedicineTier1ByYr = biomedicineTier1.groupby(level='year').mean()\n",
    "biomedicineTier2ByYr = biomedicineTier2.groupby(level='year').mean()"
   ]
  },
  {
   "cell_type": "code",
   "execution_count": 54,
   "metadata": {},
   "outputs": [
    {
     "data": {
      "application/vnd.plotly.v1+json": {
       "config": {
        "plotlyServerURL": "https://plot.ly"
       },
       "data": [
        {
         "mode": "lines",
         "name": "Tier 1_Computer_Science",
         "type": "scatter",
         "x": [
          2010,
          2011,
          2012,
          2013,
          2014,
          2015,
          2016,
          2017,
          2018,
          2019,
          2020
         ],
         "y": [
          0.031053333333333332,
          0.03213333333333333,
          0.03623333333333333,
          0.039466666666666664,
          0.045353333333333336,
          0.06015333333333333,
          0.06724,
          0.07947333333333333,
          0.09345333333333333,
          0.10494,
          0.11518666666666667
         ]
        },
        {
         "fill": "tonextx",
         "mode": "lines",
         "name": "Tier 2_Computer_Science",
         "type": "scatter",
         "x": [
          2010,
          2011,
          2012,
          2013,
          2014,
          2015,
          2016,
          2017,
          2018,
          2019,
          2020
         ],
         "y": [
          0.01638,
          0.0167,
          0.016353333333333334,
          0.021866666666666666,
          0.01588,
          0.019726666666666667,
          0.02338,
          0.02171333333333333,
          0.028386666666666668,
          0.032753333333333336,
          0.035546666666666664
         ]
        }
       ],
       "layout": {
        "template": {
         "data": {
          "bar": [
           {
            "error_x": {
             "color": "#2a3f5f"
            },
            "error_y": {
             "color": "#2a3f5f"
            },
            "marker": {
             "line": {
              "color": "#E5ECF6",
              "width": 0.5
             },
             "pattern": {
              "fillmode": "overlay",
              "size": 10,
              "solidity": 0.2
             }
            },
            "type": "bar"
           }
          ],
          "barpolar": [
           {
            "marker": {
             "line": {
              "color": "#E5ECF6",
              "width": 0.5
             },
             "pattern": {
              "fillmode": "overlay",
              "size": 10,
              "solidity": 0.2
             }
            },
            "type": "barpolar"
           }
          ],
          "carpet": [
           {
            "aaxis": {
             "endlinecolor": "#2a3f5f",
             "gridcolor": "white",
             "linecolor": "white",
             "minorgridcolor": "white",
             "startlinecolor": "#2a3f5f"
            },
            "baxis": {
             "endlinecolor": "#2a3f5f",
             "gridcolor": "white",
             "linecolor": "white",
             "minorgridcolor": "white",
             "startlinecolor": "#2a3f5f"
            },
            "type": "carpet"
           }
          ],
          "choropleth": [
           {
            "colorbar": {
             "outlinewidth": 0,
             "ticks": ""
            },
            "type": "choropleth"
           }
          ],
          "contour": [
           {
            "colorbar": {
             "outlinewidth": 0,
             "ticks": ""
            },
            "colorscale": [
             [
              0,
              "#0d0887"
             ],
             [
              0.1111111111111111,
              "#46039f"
             ],
             [
              0.2222222222222222,
              "#7201a8"
             ],
             [
              0.3333333333333333,
              "#9c179e"
             ],
             [
              0.4444444444444444,
              "#bd3786"
             ],
             [
              0.5555555555555556,
              "#d8576b"
             ],
             [
              0.6666666666666666,
              "#ed7953"
             ],
             [
              0.7777777777777778,
              "#fb9f3a"
             ],
             [
              0.8888888888888888,
              "#fdca26"
             ],
             [
              1,
              "#f0f921"
             ]
            ],
            "type": "contour"
           }
          ],
          "contourcarpet": [
           {
            "colorbar": {
             "outlinewidth": 0,
             "ticks": ""
            },
            "type": "contourcarpet"
           }
          ],
          "heatmap": [
           {
            "colorbar": {
             "outlinewidth": 0,
             "ticks": ""
            },
            "colorscale": [
             [
              0,
              "#0d0887"
             ],
             [
              0.1111111111111111,
              "#46039f"
             ],
             [
              0.2222222222222222,
              "#7201a8"
             ],
             [
              0.3333333333333333,
              "#9c179e"
             ],
             [
              0.4444444444444444,
              "#bd3786"
             ],
             [
              0.5555555555555556,
              "#d8576b"
             ],
             [
              0.6666666666666666,
              "#ed7953"
             ],
             [
              0.7777777777777778,
              "#fb9f3a"
             ],
             [
              0.8888888888888888,
              "#fdca26"
             ],
             [
              1,
              "#f0f921"
             ]
            ],
            "type": "heatmap"
           }
          ],
          "heatmapgl": [
           {
            "colorbar": {
             "outlinewidth": 0,
             "ticks": ""
            },
            "colorscale": [
             [
              0,
              "#0d0887"
             ],
             [
              0.1111111111111111,
              "#46039f"
             ],
             [
              0.2222222222222222,
              "#7201a8"
             ],
             [
              0.3333333333333333,
              "#9c179e"
             ],
             [
              0.4444444444444444,
              "#bd3786"
             ],
             [
              0.5555555555555556,
              "#d8576b"
             ],
             [
              0.6666666666666666,
              "#ed7953"
             ],
             [
              0.7777777777777778,
              "#fb9f3a"
             ],
             [
              0.8888888888888888,
              "#fdca26"
             ],
             [
              1,
              "#f0f921"
             ]
            ],
            "type": "heatmapgl"
           }
          ],
          "histogram": [
           {
            "marker": {
             "pattern": {
              "fillmode": "overlay",
              "size": 10,
              "solidity": 0.2
             }
            },
            "type": "histogram"
           }
          ],
          "histogram2d": [
           {
            "colorbar": {
             "outlinewidth": 0,
             "ticks": ""
            },
            "colorscale": [
             [
              0,
              "#0d0887"
             ],
             [
              0.1111111111111111,
              "#46039f"
             ],
             [
              0.2222222222222222,
              "#7201a8"
             ],
             [
              0.3333333333333333,
              "#9c179e"
             ],
             [
              0.4444444444444444,
              "#bd3786"
             ],
             [
              0.5555555555555556,
              "#d8576b"
             ],
             [
              0.6666666666666666,
              "#ed7953"
             ],
             [
              0.7777777777777778,
              "#fb9f3a"
             ],
             [
              0.8888888888888888,
              "#fdca26"
             ],
             [
              1,
              "#f0f921"
             ]
            ],
            "type": "histogram2d"
           }
          ],
          "histogram2dcontour": [
           {
            "colorbar": {
             "outlinewidth": 0,
             "ticks": ""
            },
            "colorscale": [
             [
              0,
              "#0d0887"
             ],
             [
              0.1111111111111111,
              "#46039f"
             ],
             [
              0.2222222222222222,
              "#7201a8"
             ],
             [
              0.3333333333333333,
              "#9c179e"
             ],
             [
              0.4444444444444444,
              "#bd3786"
             ],
             [
              0.5555555555555556,
              "#d8576b"
             ],
             [
              0.6666666666666666,
              "#ed7953"
             ],
             [
              0.7777777777777778,
              "#fb9f3a"
             ],
             [
              0.8888888888888888,
              "#fdca26"
             ],
             [
              1,
              "#f0f921"
             ]
            ],
            "type": "histogram2dcontour"
           }
          ],
          "mesh3d": [
           {
            "colorbar": {
             "outlinewidth": 0,
             "ticks": ""
            },
            "type": "mesh3d"
           }
          ],
          "parcoords": [
           {
            "line": {
             "colorbar": {
              "outlinewidth": 0,
              "ticks": ""
             }
            },
            "type": "parcoords"
           }
          ],
          "pie": [
           {
            "automargin": true,
            "type": "pie"
           }
          ],
          "scatter": [
           {
            "fillpattern": {
             "fillmode": "overlay",
             "size": 10,
             "solidity": 0.2
            },
            "type": "scatter"
           }
          ],
          "scatter3d": [
           {
            "line": {
             "colorbar": {
              "outlinewidth": 0,
              "ticks": ""
             }
            },
            "marker": {
             "colorbar": {
              "outlinewidth": 0,
              "ticks": ""
             }
            },
            "type": "scatter3d"
           }
          ],
          "scattercarpet": [
           {
            "marker": {
             "colorbar": {
              "outlinewidth": 0,
              "ticks": ""
             }
            },
            "type": "scattercarpet"
           }
          ],
          "scattergeo": [
           {
            "marker": {
             "colorbar": {
              "outlinewidth": 0,
              "ticks": ""
             }
            },
            "type": "scattergeo"
           }
          ],
          "scattergl": [
           {
            "marker": {
             "colorbar": {
              "outlinewidth": 0,
              "ticks": ""
             }
            },
            "type": "scattergl"
           }
          ],
          "scattermapbox": [
           {
            "marker": {
             "colorbar": {
              "outlinewidth": 0,
              "ticks": ""
             }
            },
            "type": "scattermapbox"
           }
          ],
          "scatterpolar": [
           {
            "marker": {
             "colorbar": {
              "outlinewidth": 0,
              "ticks": ""
             }
            },
            "type": "scatterpolar"
           }
          ],
          "scatterpolargl": [
           {
            "marker": {
             "colorbar": {
              "outlinewidth": 0,
              "ticks": ""
             }
            },
            "type": "scatterpolargl"
           }
          ],
          "scatterternary": [
           {
            "marker": {
             "colorbar": {
              "outlinewidth": 0,
              "ticks": ""
             }
            },
            "type": "scatterternary"
           }
          ],
          "surface": [
           {
            "colorbar": {
             "outlinewidth": 0,
             "ticks": ""
            },
            "colorscale": [
             [
              0,
              "#0d0887"
             ],
             [
              0.1111111111111111,
              "#46039f"
             ],
             [
              0.2222222222222222,
              "#7201a8"
             ],
             [
              0.3333333333333333,
              "#9c179e"
             ],
             [
              0.4444444444444444,
              "#bd3786"
             ],
             [
              0.5555555555555556,
              "#d8576b"
             ],
             [
              0.6666666666666666,
              "#ed7953"
             ],
             [
              0.7777777777777778,
              "#fb9f3a"
             ],
             [
              0.8888888888888888,
              "#fdca26"
             ],
             [
              1,
              "#f0f921"
             ]
            ],
            "type": "surface"
           }
          ],
          "table": [
           {
            "cells": {
             "fill": {
              "color": "#EBF0F8"
             },
             "line": {
              "color": "white"
             }
            },
            "header": {
             "fill": {
              "color": "#C8D4E3"
             },
             "line": {
              "color": "white"
             }
            },
            "type": "table"
           }
          ]
         },
         "layout": {
          "annotationdefaults": {
           "arrowcolor": "#2a3f5f",
           "arrowhead": 0,
           "arrowwidth": 1
          },
          "autotypenumbers": "strict",
          "coloraxis": {
           "colorbar": {
            "outlinewidth": 0,
            "ticks": ""
           }
          },
          "colorscale": {
           "diverging": [
            [
             0,
             "#8e0152"
            ],
            [
             0.1,
             "#c51b7d"
            ],
            [
             0.2,
             "#de77ae"
            ],
            [
             0.3,
             "#f1b6da"
            ],
            [
             0.4,
             "#fde0ef"
            ],
            [
             0.5,
             "#f7f7f7"
            ],
            [
             0.6,
             "#e6f5d0"
            ],
            [
             0.7,
             "#b8e186"
            ],
            [
             0.8,
             "#7fbc41"
            ],
            [
             0.9,
             "#4d9221"
            ],
            [
             1,
             "#276419"
            ]
           ],
           "sequential": [
            [
             0,
             "#0d0887"
            ],
            [
             0.1111111111111111,
             "#46039f"
            ],
            [
             0.2222222222222222,
             "#7201a8"
            ],
            [
             0.3333333333333333,
             "#9c179e"
            ],
            [
             0.4444444444444444,
             "#bd3786"
            ],
            [
             0.5555555555555556,
             "#d8576b"
            ],
            [
             0.6666666666666666,
             "#ed7953"
            ],
            [
             0.7777777777777778,
             "#fb9f3a"
            ],
            [
             0.8888888888888888,
             "#fdca26"
            ],
            [
             1,
             "#f0f921"
            ]
           ],
           "sequentialminus": [
            [
             0,
             "#0d0887"
            ],
            [
             0.1111111111111111,
             "#46039f"
            ],
            [
             0.2222222222222222,
             "#7201a8"
            ],
            [
             0.3333333333333333,
             "#9c179e"
            ],
            [
             0.4444444444444444,
             "#bd3786"
            ],
            [
             0.5555555555555556,
             "#d8576b"
            ],
            [
             0.6666666666666666,
             "#ed7953"
            ],
            [
             0.7777777777777778,
             "#fb9f3a"
            ],
            [
             0.8888888888888888,
             "#fdca26"
            ],
            [
             1,
             "#f0f921"
            ]
           ]
          },
          "colorway": [
           "#636efa",
           "#EF553B",
           "#00cc96",
           "#ab63fa",
           "#FFA15A",
           "#19d3f3",
           "#FF6692",
           "#B6E880",
           "#FF97FF",
           "#FECB52"
          ],
          "font": {
           "color": "#2a3f5f"
          },
          "geo": {
           "bgcolor": "white",
           "lakecolor": "white",
           "landcolor": "#E5ECF6",
           "showlakes": true,
           "showland": true,
           "subunitcolor": "white"
          },
          "hoverlabel": {
           "align": "left"
          },
          "hovermode": "closest",
          "mapbox": {
           "style": "light"
          },
          "paper_bgcolor": "white",
          "plot_bgcolor": "#E5ECF6",
          "polar": {
           "angularaxis": {
            "gridcolor": "white",
            "linecolor": "white",
            "ticks": ""
           },
           "bgcolor": "#E5ECF6",
           "radialaxis": {
            "gridcolor": "white",
            "linecolor": "white",
            "ticks": ""
           }
          },
          "scene": {
           "xaxis": {
            "backgroundcolor": "#E5ECF6",
            "gridcolor": "white",
            "gridwidth": 2,
            "linecolor": "white",
            "showbackground": true,
            "ticks": "",
            "zerolinecolor": "white"
           },
           "yaxis": {
            "backgroundcolor": "#E5ECF6",
            "gridcolor": "white",
            "gridwidth": 2,
            "linecolor": "white",
            "showbackground": true,
            "ticks": "",
            "zerolinecolor": "white"
           },
           "zaxis": {
            "backgroundcolor": "#E5ECF6",
            "gridcolor": "white",
            "gridwidth": 2,
            "linecolor": "white",
            "showbackground": true,
            "ticks": "",
            "zerolinecolor": "white"
           }
          },
          "shapedefaults": {
           "line": {
            "color": "#2a3f5f"
           }
          },
          "ternary": {
           "aaxis": {
            "gridcolor": "white",
            "linecolor": "white",
            "ticks": ""
           },
           "baxis": {
            "gridcolor": "white",
            "linecolor": "white",
            "ticks": ""
           },
           "bgcolor": "#E5ECF6",
           "caxis": {
            "gridcolor": "white",
            "linecolor": "white",
            "ticks": ""
           }
          },
          "title": {
           "x": 0.05
          },
          "xaxis": {
           "automargin": true,
           "gridcolor": "white",
           "linecolor": "white",
           "ticks": "",
           "title": {
            "standoff": 15
           },
           "zerolinecolor": "white",
           "zerolinewidth": 2
          },
          "yaxis": {
           "automargin": true,
           "gridcolor": "white",
           "linecolor": "white",
           "ticks": "",
           "title": {
            "standoff": 15
           },
           "zerolinecolor": "white",
           "zerolinewidth": 2
          }
         }
        },
        "title": {
         "text": "Trends in Computer_and_Information_Sciences_and_Support_Services degree over the Years"
        },
        "xaxis": {
         "title": {
          "text": "Year"
         }
        },
        "yaxis": {
         "title": {
          "text": "Fraction of degrees awarded"
         }
        }
       }
      }
     },
     "metadata": {},
     "output_type": "display_data"
    }
   ],
   "source": [
    "year=[2010, 2011, 2012, 2013, 2014, 2015, 2016, 2017, 2018, 2019, 2020]\n",
    "trace1 = go.Scatter(x=year, y=computerTier1ByYr, mode=\"lines\", name=\"Tier 1_Computer_Science\")\n",
    "trace2 = go.Scatter(x=year, y=computerTier2ByYr, mode=\"lines\", name=\"Tier 2_Computer_Science\", fill=\"tonextx\")\n",
    "\n",
    "\n",
    "fig = go.Figure(data=[trace1, trace2])\n",
    "fig.update_layout(\n",
    "    xaxis=dict(title=\"Year\"),\n",
    "    yaxis=dict(title=\"Fraction of degrees awarded\"),\n",
    "    title=\"Trends in Computer_and_Information_Sciences_and_Support_Services degree over the Years\"\n",
    ")\n",
    "fig.show()"
   ]
  },
  {
   "cell_type": "markdown",
   "metadata": {},
   "source": [
    "Analysing which subjects are a part of major foucs in the respective type of colleges"
   ]
  },
  {
   "cell_type": "code",
   "execution_count": 55,
   "metadata": {},
   "outputs": [
    {
     "data": {
      "application/vnd.plotly.v1+json": {
       "config": {
        "plotlyServerURL": "https://plot.ly"
       },
       "data": [
        {
         "mode": "lines",
         "name": "Tier 1_Maths_and_Stats",
         "type": "scatter",
         "x": [
          2010,
          2011,
          2012,
          2013,
          2014,
          2015,
          2016,
          2017,
          2018,
          2019,
          2020
         ],
         "y": [
          0.03414,
          0.03880666666666666,
          0.033780000000000004,
          0.03428,
          0.03764,
          0.03762666666666667,
          0.04037333333333334,
          0.043666666666666666,
          0.04296,
          0.04374,
          0.04733333333333333
         ]
        },
        {
         "fill": "tonextx",
         "mode": "lines",
         "name": "Tier 2_Maths_and_Stats",
         "type": "scatter",
         "x": [
          2010,
          2011,
          2012,
          2013,
          2014,
          2015,
          2016,
          2017,
          2018,
          2019,
          2020
         ],
         "y": [
          0.011166666666666667,
          0.009953333333333335,
          0.011953333333333335,
          0.01136,
          0.012313333333333334,
          0.009819999999999999,
          0.01032,
          0.012119999999999999,
          0.009166666666666667,
          0.008646666666666667,
          0.012539999999999999
         ]
        }
       ],
       "layout": {
        "template": {
         "data": {
          "bar": [
           {
            "error_x": {
             "color": "#2a3f5f"
            },
            "error_y": {
             "color": "#2a3f5f"
            },
            "marker": {
             "line": {
              "color": "#E5ECF6",
              "width": 0.5
             },
             "pattern": {
              "fillmode": "overlay",
              "size": 10,
              "solidity": 0.2
             }
            },
            "type": "bar"
           }
          ],
          "barpolar": [
           {
            "marker": {
             "line": {
              "color": "#E5ECF6",
              "width": 0.5
             },
             "pattern": {
              "fillmode": "overlay",
              "size": 10,
              "solidity": 0.2
             }
            },
            "type": "barpolar"
           }
          ],
          "carpet": [
           {
            "aaxis": {
             "endlinecolor": "#2a3f5f",
             "gridcolor": "white",
             "linecolor": "white",
             "minorgridcolor": "white",
             "startlinecolor": "#2a3f5f"
            },
            "baxis": {
             "endlinecolor": "#2a3f5f",
             "gridcolor": "white",
             "linecolor": "white",
             "minorgridcolor": "white",
             "startlinecolor": "#2a3f5f"
            },
            "type": "carpet"
           }
          ],
          "choropleth": [
           {
            "colorbar": {
             "outlinewidth": 0,
             "ticks": ""
            },
            "type": "choropleth"
           }
          ],
          "contour": [
           {
            "colorbar": {
             "outlinewidth": 0,
             "ticks": ""
            },
            "colorscale": [
             [
              0,
              "#0d0887"
             ],
             [
              0.1111111111111111,
              "#46039f"
             ],
             [
              0.2222222222222222,
              "#7201a8"
             ],
             [
              0.3333333333333333,
              "#9c179e"
             ],
             [
              0.4444444444444444,
              "#bd3786"
             ],
             [
              0.5555555555555556,
              "#d8576b"
             ],
             [
              0.6666666666666666,
              "#ed7953"
             ],
             [
              0.7777777777777778,
              "#fb9f3a"
             ],
             [
              0.8888888888888888,
              "#fdca26"
             ],
             [
              1,
              "#f0f921"
             ]
            ],
            "type": "contour"
           }
          ],
          "contourcarpet": [
           {
            "colorbar": {
             "outlinewidth": 0,
             "ticks": ""
            },
            "type": "contourcarpet"
           }
          ],
          "heatmap": [
           {
            "colorbar": {
             "outlinewidth": 0,
             "ticks": ""
            },
            "colorscale": [
             [
              0,
              "#0d0887"
             ],
             [
              0.1111111111111111,
              "#46039f"
             ],
             [
              0.2222222222222222,
              "#7201a8"
             ],
             [
              0.3333333333333333,
              "#9c179e"
             ],
             [
              0.4444444444444444,
              "#bd3786"
             ],
             [
              0.5555555555555556,
              "#d8576b"
             ],
             [
              0.6666666666666666,
              "#ed7953"
             ],
             [
              0.7777777777777778,
              "#fb9f3a"
             ],
             [
              0.8888888888888888,
              "#fdca26"
             ],
             [
              1,
              "#f0f921"
             ]
            ],
            "type": "heatmap"
           }
          ],
          "heatmapgl": [
           {
            "colorbar": {
             "outlinewidth": 0,
             "ticks": ""
            },
            "colorscale": [
             [
              0,
              "#0d0887"
             ],
             [
              0.1111111111111111,
              "#46039f"
             ],
             [
              0.2222222222222222,
              "#7201a8"
             ],
             [
              0.3333333333333333,
              "#9c179e"
             ],
             [
              0.4444444444444444,
              "#bd3786"
             ],
             [
              0.5555555555555556,
              "#d8576b"
             ],
             [
              0.6666666666666666,
              "#ed7953"
             ],
             [
              0.7777777777777778,
              "#fb9f3a"
             ],
             [
              0.8888888888888888,
              "#fdca26"
             ],
             [
              1,
              "#f0f921"
             ]
            ],
            "type": "heatmapgl"
           }
          ],
          "histogram": [
           {
            "marker": {
             "pattern": {
              "fillmode": "overlay",
              "size": 10,
              "solidity": 0.2
             }
            },
            "type": "histogram"
           }
          ],
          "histogram2d": [
           {
            "colorbar": {
             "outlinewidth": 0,
             "ticks": ""
            },
            "colorscale": [
             [
              0,
              "#0d0887"
             ],
             [
              0.1111111111111111,
              "#46039f"
             ],
             [
              0.2222222222222222,
              "#7201a8"
             ],
             [
              0.3333333333333333,
              "#9c179e"
             ],
             [
              0.4444444444444444,
              "#bd3786"
             ],
             [
              0.5555555555555556,
              "#d8576b"
             ],
             [
              0.6666666666666666,
              "#ed7953"
             ],
             [
              0.7777777777777778,
              "#fb9f3a"
             ],
             [
              0.8888888888888888,
              "#fdca26"
             ],
             [
              1,
              "#f0f921"
             ]
            ],
            "type": "histogram2d"
           }
          ],
          "histogram2dcontour": [
           {
            "colorbar": {
             "outlinewidth": 0,
             "ticks": ""
            },
            "colorscale": [
             [
              0,
              "#0d0887"
             ],
             [
              0.1111111111111111,
              "#46039f"
             ],
             [
              0.2222222222222222,
              "#7201a8"
             ],
             [
              0.3333333333333333,
              "#9c179e"
             ],
             [
              0.4444444444444444,
              "#bd3786"
             ],
             [
              0.5555555555555556,
              "#d8576b"
             ],
             [
              0.6666666666666666,
              "#ed7953"
             ],
             [
              0.7777777777777778,
              "#fb9f3a"
             ],
             [
              0.8888888888888888,
              "#fdca26"
             ],
             [
              1,
              "#f0f921"
             ]
            ],
            "type": "histogram2dcontour"
           }
          ],
          "mesh3d": [
           {
            "colorbar": {
             "outlinewidth": 0,
             "ticks": ""
            },
            "type": "mesh3d"
           }
          ],
          "parcoords": [
           {
            "line": {
             "colorbar": {
              "outlinewidth": 0,
              "ticks": ""
             }
            },
            "type": "parcoords"
           }
          ],
          "pie": [
           {
            "automargin": true,
            "type": "pie"
           }
          ],
          "scatter": [
           {
            "fillpattern": {
             "fillmode": "overlay",
             "size": 10,
             "solidity": 0.2
            },
            "type": "scatter"
           }
          ],
          "scatter3d": [
           {
            "line": {
             "colorbar": {
              "outlinewidth": 0,
              "ticks": ""
             }
            },
            "marker": {
             "colorbar": {
              "outlinewidth": 0,
              "ticks": ""
             }
            },
            "type": "scatter3d"
           }
          ],
          "scattercarpet": [
           {
            "marker": {
             "colorbar": {
              "outlinewidth": 0,
              "ticks": ""
             }
            },
            "type": "scattercarpet"
           }
          ],
          "scattergeo": [
           {
            "marker": {
             "colorbar": {
              "outlinewidth": 0,
              "ticks": ""
             }
            },
            "type": "scattergeo"
           }
          ],
          "scattergl": [
           {
            "marker": {
             "colorbar": {
              "outlinewidth": 0,
              "ticks": ""
             }
            },
            "type": "scattergl"
           }
          ],
          "scattermapbox": [
           {
            "marker": {
             "colorbar": {
              "outlinewidth": 0,
              "ticks": ""
             }
            },
            "type": "scattermapbox"
           }
          ],
          "scatterpolar": [
           {
            "marker": {
             "colorbar": {
              "outlinewidth": 0,
              "ticks": ""
             }
            },
            "type": "scatterpolar"
           }
          ],
          "scatterpolargl": [
           {
            "marker": {
             "colorbar": {
              "outlinewidth": 0,
              "ticks": ""
             }
            },
            "type": "scatterpolargl"
           }
          ],
          "scatterternary": [
           {
            "marker": {
             "colorbar": {
              "outlinewidth": 0,
              "ticks": ""
             }
            },
            "type": "scatterternary"
           }
          ],
          "surface": [
           {
            "colorbar": {
             "outlinewidth": 0,
             "ticks": ""
            },
            "colorscale": [
             [
              0,
              "#0d0887"
             ],
             [
              0.1111111111111111,
              "#46039f"
             ],
             [
              0.2222222222222222,
              "#7201a8"
             ],
             [
              0.3333333333333333,
              "#9c179e"
             ],
             [
              0.4444444444444444,
              "#bd3786"
             ],
             [
              0.5555555555555556,
              "#d8576b"
             ],
             [
              0.6666666666666666,
              "#ed7953"
             ],
             [
              0.7777777777777778,
              "#fb9f3a"
             ],
             [
              0.8888888888888888,
              "#fdca26"
             ],
             [
              1,
              "#f0f921"
             ]
            ],
            "type": "surface"
           }
          ],
          "table": [
           {
            "cells": {
             "fill": {
              "color": "#EBF0F8"
             },
             "line": {
              "color": "white"
             }
            },
            "header": {
             "fill": {
              "color": "#C8D4E3"
             },
             "line": {
              "color": "white"
             }
            },
            "type": "table"
           }
          ]
         },
         "layout": {
          "annotationdefaults": {
           "arrowcolor": "#2a3f5f",
           "arrowhead": 0,
           "arrowwidth": 1
          },
          "autotypenumbers": "strict",
          "coloraxis": {
           "colorbar": {
            "outlinewidth": 0,
            "ticks": ""
           }
          },
          "colorscale": {
           "diverging": [
            [
             0,
             "#8e0152"
            ],
            [
             0.1,
             "#c51b7d"
            ],
            [
             0.2,
             "#de77ae"
            ],
            [
             0.3,
             "#f1b6da"
            ],
            [
             0.4,
             "#fde0ef"
            ],
            [
             0.5,
             "#f7f7f7"
            ],
            [
             0.6,
             "#e6f5d0"
            ],
            [
             0.7,
             "#b8e186"
            ],
            [
             0.8,
             "#7fbc41"
            ],
            [
             0.9,
             "#4d9221"
            ],
            [
             1,
             "#276419"
            ]
           ],
           "sequential": [
            [
             0,
             "#0d0887"
            ],
            [
             0.1111111111111111,
             "#46039f"
            ],
            [
             0.2222222222222222,
             "#7201a8"
            ],
            [
             0.3333333333333333,
             "#9c179e"
            ],
            [
             0.4444444444444444,
             "#bd3786"
            ],
            [
             0.5555555555555556,
             "#d8576b"
            ],
            [
             0.6666666666666666,
             "#ed7953"
            ],
            [
             0.7777777777777778,
             "#fb9f3a"
            ],
            [
             0.8888888888888888,
             "#fdca26"
            ],
            [
             1,
             "#f0f921"
            ]
           ],
           "sequentialminus": [
            [
             0,
             "#0d0887"
            ],
            [
             0.1111111111111111,
             "#46039f"
            ],
            [
             0.2222222222222222,
             "#7201a8"
            ],
            [
             0.3333333333333333,
             "#9c179e"
            ],
            [
             0.4444444444444444,
             "#bd3786"
            ],
            [
             0.5555555555555556,
             "#d8576b"
            ],
            [
             0.6666666666666666,
             "#ed7953"
            ],
            [
             0.7777777777777778,
             "#fb9f3a"
            ],
            [
             0.8888888888888888,
             "#fdca26"
            ],
            [
             1,
             "#f0f921"
            ]
           ]
          },
          "colorway": [
           "#636efa",
           "#EF553B",
           "#00cc96",
           "#ab63fa",
           "#FFA15A",
           "#19d3f3",
           "#FF6692",
           "#B6E880",
           "#FF97FF",
           "#FECB52"
          ],
          "font": {
           "color": "#2a3f5f"
          },
          "geo": {
           "bgcolor": "white",
           "lakecolor": "white",
           "landcolor": "#E5ECF6",
           "showlakes": true,
           "showland": true,
           "subunitcolor": "white"
          },
          "hoverlabel": {
           "align": "left"
          },
          "hovermode": "closest",
          "mapbox": {
           "style": "light"
          },
          "paper_bgcolor": "white",
          "plot_bgcolor": "#E5ECF6",
          "polar": {
           "angularaxis": {
            "gridcolor": "white",
            "linecolor": "white",
            "ticks": ""
           },
           "bgcolor": "#E5ECF6",
           "radialaxis": {
            "gridcolor": "white",
            "linecolor": "white",
            "ticks": ""
           }
          },
          "scene": {
           "xaxis": {
            "backgroundcolor": "#E5ECF6",
            "gridcolor": "white",
            "gridwidth": 2,
            "linecolor": "white",
            "showbackground": true,
            "ticks": "",
            "zerolinecolor": "white"
           },
           "yaxis": {
            "backgroundcolor": "#E5ECF6",
            "gridcolor": "white",
            "gridwidth": 2,
            "linecolor": "white",
            "showbackground": true,
            "ticks": "",
            "zerolinecolor": "white"
           },
           "zaxis": {
            "backgroundcolor": "#E5ECF6",
            "gridcolor": "white",
            "gridwidth": 2,
            "linecolor": "white",
            "showbackground": true,
            "ticks": "",
            "zerolinecolor": "white"
           }
          },
          "shapedefaults": {
           "line": {
            "color": "#2a3f5f"
           }
          },
          "ternary": {
           "aaxis": {
            "gridcolor": "white",
            "linecolor": "white",
            "ticks": ""
           },
           "baxis": {
            "gridcolor": "white",
            "linecolor": "white",
            "ticks": ""
           },
           "bgcolor": "#E5ECF6",
           "caxis": {
            "gridcolor": "white",
            "linecolor": "white",
            "ticks": ""
           }
          },
          "title": {
           "x": 0.05
          },
          "xaxis": {
           "automargin": true,
           "gridcolor": "white",
           "linecolor": "white",
           "ticks": "",
           "title": {
            "standoff": 15
           },
           "zerolinecolor": "white",
           "zerolinewidth": 2
          },
          "yaxis": {
           "automargin": true,
           "gridcolor": "white",
           "linecolor": "white",
           "ticks": "",
           "title": {
            "standoff": 15
           },
           "zerolinecolor": "white",
           "zerolinewidth": 2
          }
         }
        },
        "title": {
         "text": "Trends in Mathematics_and_Statistics degree over the Years"
        },
        "xaxis": {
         "title": {
          "text": "Year"
         }
        },
        "yaxis": {
         "title": {
          "text": "Fraction of degrees awarded"
         }
        }
       }
      }
     },
     "metadata": {},
     "output_type": "display_data"
    }
   ],
   "source": [
    "year=[2010, 2011, 2012, 2013, 2014, 2015, 2016, 2017, 2018, 2019, 2020]\n",
    "trace1 = go.Scatter(x=year, y=mathsAndStatsTier1ByYr, mode=\"lines\", name=\"Tier 1_Maths_and_Stats\")\n",
    "trace2 = go.Scatter(x=year, y=mathsAndStatsTier2ByYr, mode=\"lines\", name=\"Tier 2_Maths_and_Stats\", fill=\"tonextx\")\n",
    "\n",
    "\n",
    "fig = go.Figure(data=[trace1, trace2])\n",
    "fig.update_layout(\n",
    "    xaxis=dict(title=\"Year\"),\n",
    "    yaxis=dict(title=\"Fraction of degrees awarded\"),\n",
    "    title=\"Trends in Mathematics_and_Statistics degree over the Years\"\n",
    ")\n",
    "fig.show()"
   ]
  },
  {
   "cell_type": "code",
   "execution_count": 56,
   "metadata": {},
   "outputs": [
    {
     "data": {
      "application/vnd.plotly.v1+json": {
       "config": {
        "plotlyServerURL": "https://plot.ly"
       },
       "data": [
        {
         "mode": "lines",
         "name": "Tier 1_Biomedicine",
         "type": "scatter",
         "x": [
          2010,
          2011,
          2012,
          2013,
          2014,
          2015,
          2016,
          2017,
          2018,
          2019,
          2020
         ],
         "y": [
          0.07485333333333334,
          0.08776666666666667,
          0.08617999999999999,
          0.09308666666666668,
          0.09824666666666666,
          0.10412,
          0.09687333333333334,
          0.09737333333333334,
          0.09265999999999999,
          0.09541333333333334,
          0.09847333333333334
         ]
        },
        {
         "fill": "tonextx",
         "mode": "lines",
         "name": "Tier 2_Biomedicine",
         "type": "scatter",
         "x": [
          2010,
          2011,
          2012,
          2013,
          2014,
          2015,
          2016,
          2017,
          2018,
          2019,
          2020
         ],
         "y": [
          0.05038,
          0.049506666666666664,
          0.059506666666666666,
          0.05558,
          0.06147333333333334,
          0.05596,
          0.05635333333333334,
          0.06946000000000001,
          0.0699,
          0.06266,
          0.07987999999999999
         ]
        }
       ],
       "layout": {
        "template": {
         "data": {
          "bar": [
           {
            "error_x": {
             "color": "#2a3f5f"
            },
            "error_y": {
             "color": "#2a3f5f"
            },
            "marker": {
             "line": {
              "color": "#E5ECF6",
              "width": 0.5
             },
             "pattern": {
              "fillmode": "overlay",
              "size": 10,
              "solidity": 0.2
             }
            },
            "type": "bar"
           }
          ],
          "barpolar": [
           {
            "marker": {
             "line": {
              "color": "#E5ECF6",
              "width": 0.5
             },
             "pattern": {
              "fillmode": "overlay",
              "size": 10,
              "solidity": 0.2
             }
            },
            "type": "barpolar"
           }
          ],
          "carpet": [
           {
            "aaxis": {
             "endlinecolor": "#2a3f5f",
             "gridcolor": "white",
             "linecolor": "white",
             "minorgridcolor": "white",
             "startlinecolor": "#2a3f5f"
            },
            "baxis": {
             "endlinecolor": "#2a3f5f",
             "gridcolor": "white",
             "linecolor": "white",
             "minorgridcolor": "white",
             "startlinecolor": "#2a3f5f"
            },
            "type": "carpet"
           }
          ],
          "choropleth": [
           {
            "colorbar": {
             "outlinewidth": 0,
             "ticks": ""
            },
            "type": "choropleth"
           }
          ],
          "contour": [
           {
            "colorbar": {
             "outlinewidth": 0,
             "ticks": ""
            },
            "colorscale": [
             [
              0,
              "#0d0887"
             ],
             [
              0.1111111111111111,
              "#46039f"
             ],
             [
              0.2222222222222222,
              "#7201a8"
             ],
             [
              0.3333333333333333,
              "#9c179e"
             ],
             [
              0.4444444444444444,
              "#bd3786"
             ],
             [
              0.5555555555555556,
              "#d8576b"
             ],
             [
              0.6666666666666666,
              "#ed7953"
             ],
             [
              0.7777777777777778,
              "#fb9f3a"
             ],
             [
              0.8888888888888888,
              "#fdca26"
             ],
             [
              1,
              "#f0f921"
             ]
            ],
            "type": "contour"
           }
          ],
          "contourcarpet": [
           {
            "colorbar": {
             "outlinewidth": 0,
             "ticks": ""
            },
            "type": "contourcarpet"
           }
          ],
          "heatmap": [
           {
            "colorbar": {
             "outlinewidth": 0,
             "ticks": ""
            },
            "colorscale": [
             [
              0,
              "#0d0887"
             ],
             [
              0.1111111111111111,
              "#46039f"
             ],
             [
              0.2222222222222222,
              "#7201a8"
             ],
             [
              0.3333333333333333,
              "#9c179e"
             ],
             [
              0.4444444444444444,
              "#bd3786"
             ],
             [
              0.5555555555555556,
              "#d8576b"
             ],
             [
              0.6666666666666666,
              "#ed7953"
             ],
             [
              0.7777777777777778,
              "#fb9f3a"
             ],
             [
              0.8888888888888888,
              "#fdca26"
             ],
             [
              1,
              "#f0f921"
             ]
            ],
            "type": "heatmap"
           }
          ],
          "heatmapgl": [
           {
            "colorbar": {
             "outlinewidth": 0,
             "ticks": ""
            },
            "colorscale": [
             [
              0,
              "#0d0887"
             ],
             [
              0.1111111111111111,
              "#46039f"
             ],
             [
              0.2222222222222222,
              "#7201a8"
             ],
             [
              0.3333333333333333,
              "#9c179e"
             ],
             [
              0.4444444444444444,
              "#bd3786"
             ],
             [
              0.5555555555555556,
              "#d8576b"
             ],
             [
              0.6666666666666666,
              "#ed7953"
             ],
             [
              0.7777777777777778,
              "#fb9f3a"
             ],
             [
              0.8888888888888888,
              "#fdca26"
             ],
             [
              1,
              "#f0f921"
             ]
            ],
            "type": "heatmapgl"
           }
          ],
          "histogram": [
           {
            "marker": {
             "pattern": {
              "fillmode": "overlay",
              "size": 10,
              "solidity": 0.2
             }
            },
            "type": "histogram"
           }
          ],
          "histogram2d": [
           {
            "colorbar": {
             "outlinewidth": 0,
             "ticks": ""
            },
            "colorscale": [
             [
              0,
              "#0d0887"
             ],
             [
              0.1111111111111111,
              "#46039f"
             ],
             [
              0.2222222222222222,
              "#7201a8"
             ],
             [
              0.3333333333333333,
              "#9c179e"
             ],
             [
              0.4444444444444444,
              "#bd3786"
             ],
             [
              0.5555555555555556,
              "#d8576b"
             ],
             [
              0.6666666666666666,
              "#ed7953"
             ],
             [
              0.7777777777777778,
              "#fb9f3a"
             ],
             [
              0.8888888888888888,
              "#fdca26"
             ],
             [
              1,
              "#f0f921"
             ]
            ],
            "type": "histogram2d"
           }
          ],
          "histogram2dcontour": [
           {
            "colorbar": {
             "outlinewidth": 0,
             "ticks": ""
            },
            "colorscale": [
             [
              0,
              "#0d0887"
             ],
             [
              0.1111111111111111,
              "#46039f"
             ],
             [
              0.2222222222222222,
              "#7201a8"
             ],
             [
              0.3333333333333333,
              "#9c179e"
             ],
             [
              0.4444444444444444,
              "#bd3786"
             ],
             [
              0.5555555555555556,
              "#d8576b"
             ],
             [
              0.6666666666666666,
              "#ed7953"
             ],
             [
              0.7777777777777778,
              "#fb9f3a"
             ],
             [
              0.8888888888888888,
              "#fdca26"
             ],
             [
              1,
              "#f0f921"
             ]
            ],
            "type": "histogram2dcontour"
           }
          ],
          "mesh3d": [
           {
            "colorbar": {
             "outlinewidth": 0,
             "ticks": ""
            },
            "type": "mesh3d"
           }
          ],
          "parcoords": [
           {
            "line": {
             "colorbar": {
              "outlinewidth": 0,
              "ticks": ""
             }
            },
            "type": "parcoords"
           }
          ],
          "pie": [
           {
            "automargin": true,
            "type": "pie"
           }
          ],
          "scatter": [
           {
            "fillpattern": {
             "fillmode": "overlay",
             "size": 10,
             "solidity": 0.2
            },
            "type": "scatter"
           }
          ],
          "scatter3d": [
           {
            "line": {
             "colorbar": {
              "outlinewidth": 0,
              "ticks": ""
             }
            },
            "marker": {
             "colorbar": {
              "outlinewidth": 0,
              "ticks": ""
             }
            },
            "type": "scatter3d"
           }
          ],
          "scattercarpet": [
           {
            "marker": {
             "colorbar": {
              "outlinewidth": 0,
              "ticks": ""
             }
            },
            "type": "scattercarpet"
           }
          ],
          "scattergeo": [
           {
            "marker": {
             "colorbar": {
              "outlinewidth": 0,
              "ticks": ""
             }
            },
            "type": "scattergeo"
           }
          ],
          "scattergl": [
           {
            "marker": {
             "colorbar": {
              "outlinewidth": 0,
              "ticks": ""
             }
            },
            "type": "scattergl"
           }
          ],
          "scattermapbox": [
           {
            "marker": {
             "colorbar": {
              "outlinewidth": 0,
              "ticks": ""
             }
            },
            "type": "scattermapbox"
           }
          ],
          "scatterpolar": [
           {
            "marker": {
             "colorbar": {
              "outlinewidth": 0,
              "ticks": ""
             }
            },
            "type": "scatterpolar"
           }
          ],
          "scatterpolargl": [
           {
            "marker": {
             "colorbar": {
              "outlinewidth": 0,
              "ticks": ""
             }
            },
            "type": "scatterpolargl"
           }
          ],
          "scatterternary": [
           {
            "marker": {
             "colorbar": {
              "outlinewidth": 0,
              "ticks": ""
             }
            },
            "type": "scatterternary"
           }
          ],
          "surface": [
           {
            "colorbar": {
             "outlinewidth": 0,
             "ticks": ""
            },
            "colorscale": [
             [
              0,
              "#0d0887"
             ],
             [
              0.1111111111111111,
              "#46039f"
             ],
             [
              0.2222222222222222,
              "#7201a8"
             ],
             [
              0.3333333333333333,
              "#9c179e"
             ],
             [
              0.4444444444444444,
              "#bd3786"
             ],
             [
              0.5555555555555556,
              "#d8576b"
             ],
             [
              0.6666666666666666,
              "#ed7953"
             ],
             [
              0.7777777777777778,
              "#fb9f3a"
             ],
             [
              0.8888888888888888,
              "#fdca26"
             ],
             [
              1,
              "#f0f921"
             ]
            ],
            "type": "surface"
           }
          ],
          "table": [
           {
            "cells": {
             "fill": {
              "color": "#EBF0F8"
             },
             "line": {
              "color": "white"
             }
            },
            "header": {
             "fill": {
              "color": "#C8D4E3"
             },
             "line": {
              "color": "white"
             }
            },
            "type": "table"
           }
          ]
         },
         "layout": {
          "annotationdefaults": {
           "arrowcolor": "#2a3f5f",
           "arrowhead": 0,
           "arrowwidth": 1
          },
          "autotypenumbers": "strict",
          "coloraxis": {
           "colorbar": {
            "outlinewidth": 0,
            "ticks": ""
           }
          },
          "colorscale": {
           "diverging": [
            [
             0,
             "#8e0152"
            ],
            [
             0.1,
             "#c51b7d"
            ],
            [
             0.2,
             "#de77ae"
            ],
            [
             0.3,
             "#f1b6da"
            ],
            [
             0.4,
             "#fde0ef"
            ],
            [
             0.5,
             "#f7f7f7"
            ],
            [
             0.6,
             "#e6f5d0"
            ],
            [
             0.7,
             "#b8e186"
            ],
            [
             0.8,
             "#7fbc41"
            ],
            [
             0.9,
             "#4d9221"
            ],
            [
             1,
             "#276419"
            ]
           ],
           "sequential": [
            [
             0,
             "#0d0887"
            ],
            [
             0.1111111111111111,
             "#46039f"
            ],
            [
             0.2222222222222222,
             "#7201a8"
            ],
            [
             0.3333333333333333,
             "#9c179e"
            ],
            [
             0.4444444444444444,
             "#bd3786"
            ],
            [
             0.5555555555555556,
             "#d8576b"
            ],
            [
             0.6666666666666666,
             "#ed7953"
            ],
            [
             0.7777777777777778,
             "#fb9f3a"
            ],
            [
             0.8888888888888888,
             "#fdca26"
            ],
            [
             1,
             "#f0f921"
            ]
           ],
           "sequentialminus": [
            [
             0,
             "#0d0887"
            ],
            [
             0.1111111111111111,
             "#46039f"
            ],
            [
             0.2222222222222222,
             "#7201a8"
            ],
            [
             0.3333333333333333,
             "#9c179e"
            ],
            [
             0.4444444444444444,
             "#bd3786"
            ],
            [
             0.5555555555555556,
             "#d8576b"
            ],
            [
             0.6666666666666666,
             "#ed7953"
            ],
            [
             0.7777777777777778,
             "#fb9f3a"
            ],
            [
             0.8888888888888888,
             "#fdca26"
            ],
            [
             1,
             "#f0f921"
            ]
           ]
          },
          "colorway": [
           "#636efa",
           "#EF553B",
           "#00cc96",
           "#ab63fa",
           "#FFA15A",
           "#19d3f3",
           "#FF6692",
           "#B6E880",
           "#FF97FF",
           "#FECB52"
          ],
          "font": {
           "color": "#2a3f5f"
          },
          "geo": {
           "bgcolor": "white",
           "lakecolor": "white",
           "landcolor": "#E5ECF6",
           "showlakes": true,
           "showland": true,
           "subunitcolor": "white"
          },
          "hoverlabel": {
           "align": "left"
          },
          "hovermode": "closest",
          "mapbox": {
           "style": "light"
          },
          "paper_bgcolor": "white",
          "plot_bgcolor": "#E5ECF6",
          "polar": {
           "angularaxis": {
            "gridcolor": "white",
            "linecolor": "white",
            "ticks": ""
           },
           "bgcolor": "#E5ECF6",
           "radialaxis": {
            "gridcolor": "white",
            "linecolor": "white",
            "ticks": ""
           }
          },
          "scene": {
           "xaxis": {
            "backgroundcolor": "#E5ECF6",
            "gridcolor": "white",
            "gridwidth": 2,
            "linecolor": "white",
            "showbackground": true,
            "ticks": "",
            "zerolinecolor": "white"
           },
           "yaxis": {
            "backgroundcolor": "#E5ECF6",
            "gridcolor": "white",
            "gridwidth": 2,
            "linecolor": "white",
            "showbackground": true,
            "ticks": "",
            "zerolinecolor": "white"
           },
           "zaxis": {
            "backgroundcolor": "#E5ECF6",
            "gridcolor": "white",
            "gridwidth": 2,
            "linecolor": "white",
            "showbackground": true,
            "ticks": "",
            "zerolinecolor": "white"
           }
          },
          "shapedefaults": {
           "line": {
            "color": "#2a3f5f"
           }
          },
          "ternary": {
           "aaxis": {
            "gridcolor": "white",
            "linecolor": "white",
            "ticks": ""
           },
           "baxis": {
            "gridcolor": "white",
            "linecolor": "white",
            "ticks": ""
           },
           "bgcolor": "#E5ECF6",
           "caxis": {
            "gridcolor": "white",
            "linecolor": "white",
            "ticks": ""
           }
          },
          "title": {
           "x": 0.05
          },
          "xaxis": {
           "automargin": true,
           "gridcolor": "white",
           "linecolor": "white",
           "ticks": "",
           "title": {
            "standoff": 15
           },
           "zerolinecolor": "white",
           "zerolinewidth": 2
          },
          "yaxis": {
           "automargin": true,
           "gridcolor": "white",
           "linecolor": "white",
           "ticks": "",
           "title": {
            "standoff": 15
           },
           "zerolinecolor": "white",
           "zerolinewidth": 2
          }
         }
        },
        "title": {
         "text": "Trends in Biological_&_Biomedical_Sciences degrees over the Years"
        },
        "xaxis": {
         "title": {
          "text": "Year"
         }
        },
        "yaxis": {
         "title": {
          "text": "Fraction of degrees awarded"
         }
        }
       }
      }
     },
     "metadata": {},
     "output_type": "display_data"
    }
   ],
   "source": [
    "trace1 = go.Scatter(x=year, y=biomedicineTier1ByYr, mode=\"lines\", name=\"Tier 1_Biomedicine\")\n",
    "trace2 = go.Scatter(x=year, y=biomedicineTier2ByYr, mode=\"lines\", name=\"Tier 2_Biomedicine\", fill=\"tonextx\")\n",
    "\n",
    "\n",
    "fig = go.Figure(data=[trace1, trace2])\n",
    "fig.update_layout(\n",
    "    xaxis=dict(title=\"Year\"),\n",
    "    yaxis=dict(title=\"Fraction of degrees awarded\"),\n",
    "    title=\"Trends in Biological_&_Biomedical_Sciences degrees over the Years\"\n",
    ")\n",
    "fig.show()"
   ]
  },
  {
   "cell_type": "code",
   "execution_count": 57,
   "metadata": {},
   "outputs": [
    {
     "data": {
      "application/vnd.plotly.v1+json": {
       "config": {
        "plotlyServerURL": "https://plot.ly"
       },
       "data": [
        {
         "mode": "lines",
         "name": "Tier 1_Business",
         "type": "scatter",
         "x": [
          2010,
          2011,
          2012,
          2013,
          2014,
          2015,
          2016,
          2017,
          2018,
          2019,
          2020
         ],
         "y": [
          0.05138666666666667,
          0.05336,
          0.051346666666666665,
          0.047939999999999997,
          0.04580666666666667,
          0.049819999999999996,
          0.049819999999999996,
          0.04720666666666667,
          0.049120000000000004,
          0.0473,
          0.044239999999999995
         ]
        },
        {
         "fill": "tonextx",
         "mode": "lines",
         "name": "Tier 2_Business",
         "type": "scatter",
         "x": [
          2010,
          2011,
          2012,
          2013,
          2014,
          2015,
          2016,
          2017,
          2018,
          2019,
          2020
         ],
         "y": [
          0.17638,
          0.18433333333333335,
          0.17794666666666667,
          0.17730666666666667,
          0.16049333333333332,
          0.14994,
          0.16885333333333333,
          0.15898666666666667,
          0.15343333333333334,
          0.17598666666666668,
          0.17821333333333333
         ]
        }
       ],
       "layout": {
        "template": {
         "data": {
          "bar": [
           {
            "error_x": {
             "color": "#2a3f5f"
            },
            "error_y": {
             "color": "#2a3f5f"
            },
            "marker": {
             "line": {
              "color": "#E5ECF6",
              "width": 0.5
             },
             "pattern": {
              "fillmode": "overlay",
              "size": 10,
              "solidity": 0.2
             }
            },
            "type": "bar"
           }
          ],
          "barpolar": [
           {
            "marker": {
             "line": {
              "color": "#E5ECF6",
              "width": 0.5
             },
             "pattern": {
              "fillmode": "overlay",
              "size": 10,
              "solidity": 0.2
             }
            },
            "type": "barpolar"
           }
          ],
          "carpet": [
           {
            "aaxis": {
             "endlinecolor": "#2a3f5f",
             "gridcolor": "white",
             "linecolor": "white",
             "minorgridcolor": "white",
             "startlinecolor": "#2a3f5f"
            },
            "baxis": {
             "endlinecolor": "#2a3f5f",
             "gridcolor": "white",
             "linecolor": "white",
             "minorgridcolor": "white",
             "startlinecolor": "#2a3f5f"
            },
            "type": "carpet"
           }
          ],
          "choropleth": [
           {
            "colorbar": {
             "outlinewidth": 0,
             "ticks": ""
            },
            "type": "choropleth"
           }
          ],
          "contour": [
           {
            "colorbar": {
             "outlinewidth": 0,
             "ticks": ""
            },
            "colorscale": [
             [
              0,
              "#0d0887"
             ],
             [
              0.1111111111111111,
              "#46039f"
             ],
             [
              0.2222222222222222,
              "#7201a8"
             ],
             [
              0.3333333333333333,
              "#9c179e"
             ],
             [
              0.4444444444444444,
              "#bd3786"
             ],
             [
              0.5555555555555556,
              "#d8576b"
             ],
             [
              0.6666666666666666,
              "#ed7953"
             ],
             [
              0.7777777777777778,
              "#fb9f3a"
             ],
             [
              0.8888888888888888,
              "#fdca26"
             ],
             [
              1,
              "#f0f921"
             ]
            ],
            "type": "contour"
           }
          ],
          "contourcarpet": [
           {
            "colorbar": {
             "outlinewidth": 0,
             "ticks": ""
            },
            "type": "contourcarpet"
           }
          ],
          "heatmap": [
           {
            "colorbar": {
             "outlinewidth": 0,
             "ticks": ""
            },
            "colorscale": [
             [
              0,
              "#0d0887"
             ],
             [
              0.1111111111111111,
              "#46039f"
             ],
             [
              0.2222222222222222,
              "#7201a8"
             ],
             [
              0.3333333333333333,
              "#9c179e"
             ],
             [
              0.4444444444444444,
              "#bd3786"
             ],
             [
              0.5555555555555556,
              "#d8576b"
             ],
             [
              0.6666666666666666,
              "#ed7953"
             ],
             [
              0.7777777777777778,
              "#fb9f3a"
             ],
             [
              0.8888888888888888,
              "#fdca26"
             ],
             [
              1,
              "#f0f921"
             ]
            ],
            "type": "heatmap"
           }
          ],
          "heatmapgl": [
           {
            "colorbar": {
             "outlinewidth": 0,
             "ticks": ""
            },
            "colorscale": [
             [
              0,
              "#0d0887"
             ],
             [
              0.1111111111111111,
              "#46039f"
             ],
             [
              0.2222222222222222,
              "#7201a8"
             ],
             [
              0.3333333333333333,
              "#9c179e"
             ],
             [
              0.4444444444444444,
              "#bd3786"
             ],
             [
              0.5555555555555556,
              "#d8576b"
             ],
             [
              0.6666666666666666,
              "#ed7953"
             ],
             [
              0.7777777777777778,
              "#fb9f3a"
             ],
             [
              0.8888888888888888,
              "#fdca26"
             ],
             [
              1,
              "#f0f921"
             ]
            ],
            "type": "heatmapgl"
           }
          ],
          "histogram": [
           {
            "marker": {
             "pattern": {
              "fillmode": "overlay",
              "size": 10,
              "solidity": 0.2
             }
            },
            "type": "histogram"
           }
          ],
          "histogram2d": [
           {
            "colorbar": {
             "outlinewidth": 0,
             "ticks": ""
            },
            "colorscale": [
             [
              0,
              "#0d0887"
             ],
             [
              0.1111111111111111,
              "#46039f"
             ],
             [
              0.2222222222222222,
              "#7201a8"
             ],
             [
              0.3333333333333333,
              "#9c179e"
             ],
             [
              0.4444444444444444,
              "#bd3786"
             ],
             [
              0.5555555555555556,
              "#d8576b"
             ],
             [
              0.6666666666666666,
              "#ed7953"
             ],
             [
              0.7777777777777778,
              "#fb9f3a"
             ],
             [
              0.8888888888888888,
              "#fdca26"
             ],
             [
              1,
              "#f0f921"
             ]
            ],
            "type": "histogram2d"
           }
          ],
          "histogram2dcontour": [
           {
            "colorbar": {
             "outlinewidth": 0,
             "ticks": ""
            },
            "colorscale": [
             [
              0,
              "#0d0887"
             ],
             [
              0.1111111111111111,
              "#46039f"
             ],
             [
              0.2222222222222222,
              "#7201a8"
             ],
             [
              0.3333333333333333,
              "#9c179e"
             ],
             [
              0.4444444444444444,
              "#bd3786"
             ],
             [
              0.5555555555555556,
              "#d8576b"
             ],
             [
              0.6666666666666666,
              "#ed7953"
             ],
             [
              0.7777777777777778,
              "#fb9f3a"
             ],
             [
              0.8888888888888888,
              "#fdca26"
             ],
             [
              1,
              "#f0f921"
             ]
            ],
            "type": "histogram2dcontour"
           }
          ],
          "mesh3d": [
           {
            "colorbar": {
             "outlinewidth": 0,
             "ticks": ""
            },
            "type": "mesh3d"
           }
          ],
          "parcoords": [
           {
            "line": {
             "colorbar": {
              "outlinewidth": 0,
              "ticks": ""
             }
            },
            "type": "parcoords"
           }
          ],
          "pie": [
           {
            "automargin": true,
            "type": "pie"
           }
          ],
          "scatter": [
           {
            "fillpattern": {
             "fillmode": "overlay",
             "size": 10,
             "solidity": 0.2
            },
            "type": "scatter"
           }
          ],
          "scatter3d": [
           {
            "line": {
             "colorbar": {
              "outlinewidth": 0,
              "ticks": ""
             }
            },
            "marker": {
             "colorbar": {
              "outlinewidth": 0,
              "ticks": ""
             }
            },
            "type": "scatter3d"
           }
          ],
          "scattercarpet": [
           {
            "marker": {
             "colorbar": {
              "outlinewidth": 0,
              "ticks": ""
             }
            },
            "type": "scattercarpet"
           }
          ],
          "scattergeo": [
           {
            "marker": {
             "colorbar": {
              "outlinewidth": 0,
              "ticks": ""
             }
            },
            "type": "scattergeo"
           }
          ],
          "scattergl": [
           {
            "marker": {
             "colorbar": {
              "outlinewidth": 0,
              "ticks": ""
             }
            },
            "type": "scattergl"
           }
          ],
          "scattermapbox": [
           {
            "marker": {
             "colorbar": {
              "outlinewidth": 0,
              "ticks": ""
             }
            },
            "type": "scattermapbox"
           }
          ],
          "scatterpolar": [
           {
            "marker": {
             "colorbar": {
              "outlinewidth": 0,
              "ticks": ""
             }
            },
            "type": "scatterpolar"
           }
          ],
          "scatterpolargl": [
           {
            "marker": {
             "colorbar": {
              "outlinewidth": 0,
              "ticks": ""
             }
            },
            "type": "scatterpolargl"
           }
          ],
          "scatterternary": [
           {
            "marker": {
             "colorbar": {
              "outlinewidth": 0,
              "ticks": ""
             }
            },
            "type": "scatterternary"
           }
          ],
          "surface": [
           {
            "colorbar": {
             "outlinewidth": 0,
             "ticks": ""
            },
            "colorscale": [
             [
              0,
              "#0d0887"
             ],
             [
              0.1111111111111111,
              "#46039f"
             ],
             [
              0.2222222222222222,
              "#7201a8"
             ],
             [
              0.3333333333333333,
              "#9c179e"
             ],
             [
              0.4444444444444444,
              "#bd3786"
             ],
             [
              0.5555555555555556,
              "#d8576b"
             ],
             [
              0.6666666666666666,
              "#ed7953"
             ],
             [
              0.7777777777777778,
              "#fb9f3a"
             ],
             [
              0.8888888888888888,
              "#fdca26"
             ],
             [
              1,
              "#f0f921"
             ]
            ],
            "type": "surface"
           }
          ],
          "table": [
           {
            "cells": {
             "fill": {
              "color": "#EBF0F8"
             },
             "line": {
              "color": "white"
             }
            },
            "header": {
             "fill": {
              "color": "#C8D4E3"
             },
             "line": {
              "color": "white"
             }
            },
            "type": "table"
           }
          ]
         },
         "layout": {
          "annotationdefaults": {
           "arrowcolor": "#2a3f5f",
           "arrowhead": 0,
           "arrowwidth": 1
          },
          "autotypenumbers": "strict",
          "coloraxis": {
           "colorbar": {
            "outlinewidth": 0,
            "ticks": ""
           }
          },
          "colorscale": {
           "diverging": [
            [
             0,
             "#8e0152"
            ],
            [
             0.1,
             "#c51b7d"
            ],
            [
             0.2,
             "#de77ae"
            ],
            [
             0.3,
             "#f1b6da"
            ],
            [
             0.4,
             "#fde0ef"
            ],
            [
             0.5,
             "#f7f7f7"
            ],
            [
             0.6,
             "#e6f5d0"
            ],
            [
             0.7,
             "#b8e186"
            ],
            [
             0.8,
             "#7fbc41"
            ],
            [
             0.9,
             "#4d9221"
            ],
            [
             1,
             "#276419"
            ]
           ],
           "sequential": [
            [
             0,
             "#0d0887"
            ],
            [
             0.1111111111111111,
             "#46039f"
            ],
            [
             0.2222222222222222,
             "#7201a8"
            ],
            [
             0.3333333333333333,
             "#9c179e"
            ],
            [
             0.4444444444444444,
             "#bd3786"
            ],
            [
             0.5555555555555556,
             "#d8576b"
            ],
            [
             0.6666666666666666,
             "#ed7953"
            ],
            [
             0.7777777777777778,
             "#fb9f3a"
            ],
            [
             0.8888888888888888,
             "#fdca26"
            ],
            [
             1,
             "#f0f921"
            ]
           ],
           "sequentialminus": [
            [
             0,
             "#0d0887"
            ],
            [
             0.1111111111111111,
             "#46039f"
            ],
            [
             0.2222222222222222,
             "#7201a8"
            ],
            [
             0.3333333333333333,
             "#9c179e"
            ],
            [
             0.4444444444444444,
             "#bd3786"
            ],
            [
             0.5555555555555556,
             "#d8576b"
            ],
            [
             0.6666666666666666,
             "#ed7953"
            ],
            [
             0.7777777777777778,
             "#fb9f3a"
            ],
            [
             0.8888888888888888,
             "#fdca26"
            ],
            [
             1,
             "#f0f921"
            ]
           ]
          },
          "colorway": [
           "#636efa",
           "#EF553B",
           "#00cc96",
           "#ab63fa",
           "#FFA15A",
           "#19d3f3",
           "#FF6692",
           "#B6E880",
           "#FF97FF",
           "#FECB52"
          ],
          "font": {
           "color": "#2a3f5f"
          },
          "geo": {
           "bgcolor": "white",
           "lakecolor": "white",
           "landcolor": "#E5ECF6",
           "showlakes": true,
           "showland": true,
           "subunitcolor": "white"
          },
          "hoverlabel": {
           "align": "left"
          },
          "hovermode": "closest",
          "mapbox": {
           "style": "light"
          },
          "paper_bgcolor": "white",
          "plot_bgcolor": "#E5ECF6",
          "polar": {
           "angularaxis": {
            "gridcolor": "white",
            "linecolor": "white",
            "ticks": ""
           },
           "bgcolor": "#E5ECF6",
           "radialaxis": {
            "gridcolor": "white",
            "linecolor": "white",
            "ticks": ""
           }
          },
          "scene": {
           "xaxis": {
            "backgroundcolor": "#E5ECF6",
            "gridcolor": "white",
            "gridwidth": 2,
            "linecolor": "white",
            "showbackground": true,
            "ticks": "",
            "zerolinecolor": "white"
           },
           "yaxis": {
            "backgroundcolor": "#E5ECF6",
            "gridcolor": "white",
            "gridwidth": 2,
            "linecolor": "white",
            "showbackground": true,
            "ticks": "",
            "zerolinecolor": "white"
           },
           "zaxis": {
            "backgroundcolor": "#E5ECF6",
            "gridcolor": "white",
            "gridwidth": 2,
            "linecolor": "white",
            "showbackground": true,
            "ticks": "",
            "zerolinecolor": "white"
           }
          },
          "shapedefaults": {
           "line": {
            "color": "#2a3f5f"
           }
          },
          "ternary": {
           "aaxis": {
            "gridcolor": "white",
            "linecolor": "white",
            "ticks": ""
           },
           "baxis": {
            "gridcolor": "white",
            "linecolor": "white",
            "ticks": ""
           },
           "bgcolor": "#E5ECF6",
           "caxis": {
            "gridcolor": "white",
            "linecolor": "white",
            "ticks": ""
           }
          },
          "title": {
           "x": 0.05
          },
          "xaxis": {
           "automargin": true,
           "gridcolor": "white",
           "linecolor": "white",
           "ticks": "",
           "title": {
            "standoff": 15
           },
           "zerolinecolor": "white",
           "zerolinewidth": 2
          },
          "yaxis": {
           "automargin": true,
           "gridcolor": "white",
           "linecolor": "white",
           "ticks": "",
           "title": {
            "standoff": 15
           },
           "zerolinecolor": "white",
           "zerolinewidth": 2
          }
         }
        },
        "title": {
         "text": "Trends in Business, Management, Marketing, and Related Support Services degrees over the Years"
        },
        "xaxis": {
         "title": {
          "text": "Year"
         }
        },
        "yaxis": {
         "title": {
          "text": "Fraction of degrees awarded"
         }
        }
       }
      }
     },
     "metadata": {},
     "output_type": "display_data"
    }
   ],
   "source": [
    "trace1 = go.Scatter(x=year, y=businessTier1ByYr, mode=\"lines\", name=\"Tier 1_Business\")\n",
    "trace2 = go.Scatter(x=year, y=businessTier2ByYr, mode=\"lines\", name=\"Tier 2_Business\", fill=\"tonextx\")\n",
    "\n",
    "\n",
    "fig = go.Figure(data=[trace1, trace2])\n",
    "fig.update_layout(\n",
    "    xaxis=dict(title=\"Year\"),\n",
    "    yaxis=dict(title=\"Fraction of degrees awarded\"),\n",
    "    title=\"Trends in Business, Management, Marketing, and Related Support Services degrees over the Years\"\n",
    ")\n",
    "fig.show()"
   ]
  },
  {
   "cell_type": "markdown",
   "metadata": {},
   "source": [
    "Conclusion...."
   ]
  },
  {
   "cell_type": "code",
   "execution_count": 122,
   "metadata": {},
   "outputs": [],
   "source": [
    "# From above  graphs we can see that Tier1 Institutes have more focus on computer-science and core-maths and statistics degrees while Tier2 Institutes have more focus on\n",
    "# biomedicines and business.\n",
    "\n",
    "# Thus Tier-2 institutes should try to have more specialisations in computer-science and core-maths and statistics discplines which would attract a lot of intellectual people.\n",
    "# Tier-1 should do more work on business related degrees."
   ]
  }
 ],
 "metadata": {
  "kernelspec": {
   "display_name": "base",
   "language": "python",
   "name": "python3"
  },
  "language_info": {
   "codemirror_mode": {
    "name": "ipython",
    "version": 3
   },
   "file_extension": ".py",
   "mimetype": "text/x-python",
   "name": "python",
   "nbconvert_exporter": "python",
   "pygments_lexer": "ipython3",
   "version": "3.11.5"
  }
 },
 "nbformat": 4,
 "nbformat_minor": 2
}
