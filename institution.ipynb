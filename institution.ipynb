{
 "cells": [
  {
   "cell_type": "markdown",
   "metadata": {},
   "source": [
    "## Bridging the Gap Between Tier-1 and Tier-2 Universities\n",
    "\n",
    "Variables we have taken:\n",
    "<br>\n",
    "1: UNITID: UnitId for an Institution<br>\n",
    "2: INSTNM: Institution Name<br>\n",
    "3: MAIN: Flag for the Main Campus ( 0: Branch Campus, 1: Main Campus)\n",
    "<br>\n",
    "4: OPEFLAG: Title IV Eligibility Type {\n",
    "   1: Participates in Title IV federal financial aid programs,\n",
    "   <br>\n",
    "      2: Branch campus of a main campus that participates in Title IV,\n",
    "   <br>\n",
    "      3: Deferment only - limited participation,\n",
    "   <br>\n",
    "      5: Not currently participating in Title IV, has an OPE ID number\n",
    "   }\n",
    "<br><br>\n",
    "5: ICLEVEL: Level of An Insitution(1: 4-yr, 2: 2-yr, 3: Less than 2-yr)\n",
    "<br>\n",
    "6: UGDS: Enrollment of all undergraduate students<br>\n",
    "7: UGDS_WHITE: Fraction of students who are white<br>\n",
    "8: UGDS_ASIAN: Fraction of students who are asian<br>\n",
    "9: MD_EARN_WNE_P6: Median earnings of students working and not enrolled 6 years after entry<br>\n",
    "10: GRAD_DEBT_MDN: The median debt for students who have completed<br>\n",
    "11: ADM_RATE_ALL: Admission rate for all campuses rolled up to the 6-digit OPEID<br>\n",
    "12: C100_4: Completion rate for first-time, full-time students at four-year institutions (100% of expected time to completion)<br>\n",
    "13: SAT_AVG_ALL: Average SAT equivalent score of students admitted for all campuses rolled up to the 6-digit OPEID<br>\n",
    "14: NPT4_PRIV: Average net price(Cost-Aid) for Title IV institutions (private for-profit and nonprofit institutions)<br>\n",
    "15: NPT4_PUB: Average net price(Cost-Aid) for Title IV institutions (public institutions)<br>\n",
    "16: NPT41_PRIV: Average net price for $0-$30,000 family income (private for-profit and nonprofit institutions)<br>\n",
    "17: NPT41_PUB: Average net price for $0-$30,000 family income (public institutions)<br>\n",
    "18: NPT43_PRIV: Average net price for $48,001-$75,000 family income (public institutions)<br>\n",
    "19: NPT43_PUB: Average net price for $48,001-$75,000 family income (private for-profit and nonprofit institutions)<br>\n",
    "20: PCIP11: Percentage of degrees awarded in Computer And Information Sciences And Support Services.<br>\n",
    "21: PCIP26: Percentage of degrees awarded in Biological And Biomedical Sciences.<br>\n",
    "22: PCIP27: Percentage of degrees awarded in Mathematics And Statistics.<br>\n",
    "23: PCIP52: Percentage of degrees awarded in Business, Management, Marketing, And Related Support Services.<br>\n"
   ]
  },
  {
   "cell_type": "code",
   "execution_count": 1,
   "metadata": {},
   "outputs": [],
   "source": [
    "import pandas as pd\n",
    "import numpy as np\n",
    "import plotly.graph_objects as go\n",
    "\n",
    "pd.set_option('display.max_columns', None)\n",
    "pd.set_option('display.max_rows', 20)"
   ]
  },
  {
   "cell_type": "markdown",
   "metadata": {},
   "source": [
    "## Loading the Data ##"
   ]
  },
  {
   "cell_type": "code",
   "execution_count": 2,
   "metadata": {},
   "outputs": [
    {
     "name": "stderr",
     "output_type": "stream",
     "text": [
      "/var/folders/2v/33p_wnzd3gj0lfp0r82qrhl00000gp/T/ipykernel_3960/802281297.py:19: DtypeWarning: Columns (1,1615) have mixed types. Specify dtype option on import or set low_memory=False.\n",
      "  df1 = pd.read_csv('../Project1_Data/data/MERGED2000_01_PP.csv', usecols=reqCols)\n",
      "/var/folders/2v/33p_wnzd3gj0lfp0r82qrhl00000gp/T/ipykernel_3960/802281297.py:20: DtypeWarning: Columns (1,1615) have mixed types. Specify dtype option on import or set low_memory=False.\n",
      "  df2 = pd.read_csv('../Project1_Data/data/MERGED2001_02_PP.csv', usecols=reqCols)\n",
      "/var/folders/2v/33p_wnzd3gj0lfp0r82qrhl00000gp/T/ipykernel_3960/802281297.py:21: DtypeWarning: Columns (1,1615) have mixed types. Specify dtype option on import or set low_memory=False.\n",
      "  df3 = pd.read_csv('../Project1_Data/data/MERGED2002_03_PP.csv', usecols=reqCols)\n",
      "/var/folders/2v/33p_wnzd3gj0lfp0r82qrhl00000gp/T/ipykernel_3960/802281297.py:22: DtypeWarning: Columns (1,1503,1615) have mixed types. Specify dtype option on import or set low_memory=False.\n",
      "  df4 = pd.read_csv('../Project1_Data/data/MERGED2003_04_PP.csv', usecols=reqCols)\n",
      "/var/folders/2v/33p_wnzd3gj0lfp0r82qrhl00000gp/T/ipykernel_3960/802281297.py:23: DtypeWarning: Columns (1) have mixed types. Specify dtype option on import or set low_memory=False.\n",
      "  df5 = pd.read_csv('../Project1_Data/data/MERGED2004_05_PP.csv', usecols=reqCols)\n",
      "/var/folders/2v/33p_wnzd3gj0lfp0r82qrhl00000gp/T/ipykernel_3960/802281297.py:24: DtypeWarning: Columns (1) have mixed types. Specify dtype option on import or set low_memory=False.\n",
      "  df6 = pd.read_csv('../Project1_Data/data/MERGED2005_06_PP.csv', usecols=reqCols)\n",
      "/var/folders/2v/33p_wnzd3gj0lfp0r82qrhl00000gp/T/ipykernel_3960/802281297.py:25: DtypeWarning: Columns (1,1615) have mixed types. Specify dtype option on import or set low_memory=False.\n",
      "  df7 = pd.read_csv('../Project1_Data/data/MERGED2006_07_PP.csv', usecols=reqCols)\n",
      "/var/folders/2v/33p_wnzd3gj0lfp0r82qrhl00000gp/T/ipykernel_3960/802281297.py:26: DtypeWarning: Columns (1,1615) have mixed types. Specify dtype option on import or set low_memory=False.\n",
      "  df8 = pd.read_csv('../Project1_Data/data/MERGED2007_08_PP.csv', usecols=reqCols)\n",
      "/var/folders/2v/33p_wnzd3gj0lfp0r82qrhl00000gp/T/ipykernel_3960/802281297.py:27: DtypeWarning: Columns (1,1615) have mixed types. Specify dtype option on import or set low_memory=False.\n",
      "  df9 = pd.read_csv('../Project1_Data/data/MERGED2008_09_PP.csv', usecols=reqCols)\n",
      "/var/folders/2v/33p_wnzd3gj0lfp0r82qrhl00000gp/T/ipykernel_3960/802281297.py:28: DtypeWarning: Columns (1,1615) have mixed types. Specify dtype option on import or set low_memory=False.\n",
      "  df10 = pd.read_csv('../Project1_Data/data/MERGED2009_10_PP.csv',usecols=reqCols)\n",
      "/var/folders/2v/33p_wnzd3gj0lfp0r82qrhl00000gp/T/ipykernel_3960/802281297.py:29: DtypeWarning: Columns (1,1503,1511,1512,1615) have mixed types. Specify dtype option on import or set low_memory=False.\n",
      "  df11 = pd.read_csv('../Project1_Data/data/MERGED2010_11_PP.csv',usecols=reqCols)\n",
      "/var/folders/2v/33p_wnzd3gj0lfp0r82qrhl00000gp/T/ipykernel_3960/802281297.py:30: DtypeWarning: Columns (1615) have mixed types. Specify dtype option on import or set low_memory=False.\n",
      "  df12 = pd.read_csv('../Project1_Data/data/MERGED2011_12_PP.csv',usecols=reqCols)\n",
      "/var/folders/2v/33p_wnzd3gj0lfp0r82qrhl00000gp/T/ipykernel_3960/802281297.py:31: DtypeWarning: Columns (1615) have mixed types. Specify dtype option on import or set low_memory=False.\n",
      "  df13 = pd.read_csv('../Project1_Data/data/MERGED2012_13_PP.csv',usecols=reqCols)\n",
      "/var/folders/2v/33p_wnzd3gj0lfp0r82qrhl00000gp/T/ipykernel_3960/802281297.py:33: DtypeWarning: Columns (1615) have mixed types. Specify dtype option on import or set low_memory=False.\n",
      "  df15 = pd.read_csv('../Project1_Data/data/MERGED2014_15_PP.csv',usecols=reqCols)\n",
      "/var/folders/2v/33p_wnzd3gj0lfp0r82qrhl00000gp/T/ipykernel_3960/802281297.py:34: DtypeWarning: Columns (1615) have mixed types. Specify dtype option on import or set low_memory=False.\n",
      "  df16 = pd.read_csv('../Project1_Data/data/MERGED2015_16_PP.csv',usecols=reqCols)\n",
      "/var/folders/2v/33p_wnzd3gj0lfp0r82qrhl00000gp/T/ipykernel_3960/802281297.py:38: DtypeWarning: Columns (1503) have mixed types. Specify dtype option on import or set low_memory=False.\n",
      "  df20 = pd.read_csv('../Project1_Data/data/MERGED2019_20_PP.csv',usecols=reqCols)\n",
      "/var/folders/2v/33p_wnzd3gj0lfp0r82qrhl00000gp/T/ipykernel_3960/802281297.py:39: DtypeWarning: Columns (1992) have mixed types. Specify dtype option on import or set low_memory=False.\n",
      "  df21 = pd.read_csv('../Project1_Data/data/MERGED2020_21_PP.csv',usecols=reqCols)\n",
      "/var/folders/2v/33p_wnzd3gj0lfp0r82qrhl00000gp/T/ipykernel_3960/802281297.py:40: DtypeWarning: Columns (1830) have mixed types. Specify dtype option on import or set low_memory=False.\n",
      "  df22 = pd.read_csv('../Project1_Data/data/MERGED2021_22_PP.csv',usecols=reqCols)\n"
     ]
    }
   ],
   "source": [
    "str1 = 'MERGED20' #fileName: MERGED2004_05_PP\n",
    "str2 = '_PP.csv'\n",
    "reqCols = ['UNITID', 'OPEID', 'OPEID6', 'INSTNM', 'STABBR', 'CITY', 'ZIP', 'ACCREDAGENCY', 'CURROPER', 'MAIN', 'NUMBRANCH',\n",
    "           'CONTROL', 'CIPCODE1', 'CIPCODE2', 'CIPCODE3', 'OPEFLAG', 'ICLEVEL', 'HIGHDEG', 'PREDDEG', 'DISTANCEONLY', 'ADM_RATE',\n",
    "           'ADM_RATE_ALL', 'C100_4_POOLED_SUPP', 'UGDS', 'UGDS_WHITE', 'UGDS_BLACK', 'UGDS_ASIAN', 'UGDS_HISP']\n",
    "availCourseCode = [1,3,5,9,10,11,12,13,14,15,16,19,22,23,24,25,26,27,29,30,31,38,39,40,41,42,43,44,45,46,47,48,49,50,51,52,54]\n",
    "\n",
    "for num in availCourseCode:\n",
    "    reqCols.append('PCIP' + str(f\"{num:02d}\"))\n",
    "\n",
    "arr1 = ['C100_4','NPT4_PUB', 'NPT4_PRIV', 'NPT41_PUB', 'NPT42_PUB', 'NPT43_PUB',\n",
    "        'NPT41_PRIV', 'NPT42_PRIV', 'NPT43_PRIV', 'FTFTPCTFLOAN', 'FTFTPCTPELL', 'DEBT_MDN', 'GRAD_DEBT_MDN', 'PELL_DEBT_MDN', 'NOPELL_DEBT_MDN',\n",
    "        'TUITFTE', 'HCM2', 'MD_FAMINC', 'MD_EARN_WNE_P8', 'MD_EARN_WNE_P6', 'MD_EARN_WNE_INC1_P6', 'MD_EARN_WNE_INC1_P6', 'MD_EARN_WNE_INC2_P6','MD_EARN_WNE_INC3_P6',\n",
    "        'MD_EARN_WNE_1YR', 'MD_EARN_WNE_4YR', 'BBRR1_FED_UG_MAKEPROG', 'BBRR1_FED_UG_PAIDINFULL', 'CDR2', 'CDR3', 'PCTFLOAN', 'SAT_AVG_ALL',\n",
    "        'COSTT4_A', 'STUFACR', 'PLUS_DEBT_INST_MD', 'NUM41_PUB', 'NUM42_PUB', 'NUM43_PUB', 'NUM44_PUB', 'NUM45_PUB',  'NUM41_PRIV', 'NUM42_PRIV',\n",
    "        'NUM43_PRIV', 'NUM44_PRIV', 'NUM45_PRIV', 'DEATH_YR2_RT', 'LO_INC_DEATH_YR2_RT', 'MD_INC_DEATH_YR2_RT', 'HI_INC_DEATH_YR2_RT']\n",
    "reqCols.extend(arr1)\n",
    "\n",
    "df1 = pd.read_csv('../Project1_Data/data/MERGED2000_01_PP.csv', usecols=reqCols)\n",
    "df2 = pd.read_csv('../Project1_Data/data/MERGED2001_02_PP.csv', usecols=reqCols)\n",
    "df3 = pd.read_csv('../Project1_Data/data/MERGED2002_03_PP.csv', usecols=reqCols)\n",
    "df4 = pd.read_csv('../Project1_Data/data/MERGED2003_04_PP.csv', usecols=reqCols)\n",
    "df5 = pd.read_csv('../Project1_Data/data/MERGED2004_05_PP.csv', usecols=reqCols)\n",
    "df6 = pd.read_csv('../Project1_Data/data/MERGED2005_06_PP.csv', usecols=reqCols)\n",
    "df7 = pd.read_csv('../Project1_Data/data/MERGED2006_07_PP.csv', usecols=reqCols)\n",
    "df8 = pd.read_csv('../Project1_Data/data/MERGED2007_08_PP.csv', usecols=reqCols)\n",
    "df9 = pd.read_csv('../Project1_Data/data/MERGED2008_09_PP.csv', usecols=reqCols)\n",
    "df10 = pd.read_csv('../Project1_Data/data/MERGED2009_10_PP.csv',usecols=reqCols)\n",
    "df11 = pd.read_csv('../Project1_Data/data/MERGED2010_11_PP.csv',usecols=reqCols)\n",
    "df12 = pd.read_csv('../Project1_Data/data/MERGED2011_12_PP.csv',usecols=reqCols)\n",
    "df13 = pd.read_csv('../Project1_Data/data/MERGED2012_13_PP.csv',usecols=reqCols)\n",
    "df14 = pd.read_csv('../Project1_Data/data/MERGED2013_14_PP.csv',usecols=reqCols)\n",
    "df15 = pd.read_csv('../Project1_Data/data/MERGED2014_15_PP.csv',usecols=reqCols)\n",
    "df16 = pd.read_csv('../Project1_Data/data/MERGED2015_16_PP.csv',usecols=reqCols)\n",
    "df17 = pd.read_csv('../Project1_Data/data/MERGED2016_17_PP.csv',usecols=reqCols)\n",
    "df18 = pd.read_csv('../Project1_Data/data/MERGED2017_18_PP.csv',usecols=reqCols)\n",
    "df19 = pd.read_csv('../Project1_Data/data/MERGED2018_19_PP.csv',usecols=reqCols)\n",
    "df20 = pd.read_csv('../Project1_Data/data/MERGED2019_20_PP.csv',usecols=reqCols)\n",
    "df21 = pd.read_csv('../Project1_Data/data/MERGED2020_21_PP.csv',usecols=reqCols)\n",
    "df22 = pd.read_csv('../Project1_Data/data/MERGED2021_22_PP.csv',usecols=reqCols)\n"
   ]
  },
  {
   "cell_type": "code",
   "execution_count": 3,
   "metadata": {},
   "outputs": [
    {
     "name": "stdout",
     "output_type": "stream",
     "text": [
      "[+] dfShape:  (156672, 113)  mainNull:  0.0\n"
     ]
    },
    {
     "data": {
      "text/html": [
       "<div>\n",
       "<style scoped>\n",
       "    .dataframe tbody tr th:only-of-type {\n",
       "        vertical-align: middle;\n",
       "    }\n",
       "\n",
       "    .dataframe tbody tr th {\n",
       "        vertical-align: top;\n",
       "    }\n",
       "\n",
       "    .dataframe thead th {\n",
       "        text-align: right;\n",
       "    }\n",
       "</style>\n",
       "<table border=\"1\" class=\"dataframe\">\n",
       "  <thead>\n",
       "    <tr style=\"text-align: right;\">\n",
       "      <th></th>\n",
       "      <th></th>\n",
       "      <th>UNITID</th>\n",
       "      <th>OPEID</th>\n",
       "      <th>OPEID6</th>\n",
       "      <th>INSTNM</th>\n",
       "      <th>CITY</th>\n",
       "      <th>STABBR</th>\n",
       "      <th>ZIP</th>\n",
       "      <th>ACCREDAGENCY</th>\n",
       "      <th>HCM2</th>\n",
       "      <th>MAIN</th>\n",
       "      <th>NUMBRANCH</th>\n",
       "      <th>PREDDEG</th>\n",
       "      <th>HIGHDEG</th>\n",
       "      <th>CONTROL</th>\n",
       "      <th>ADM_RATE</th>\n",
       "      <th>ADM_RATE_ALL</th>\n",
       "      <th>SAT_AVG_ALL</th>\n",
       "      <th>PCIP01</th>\n",
       "      <th>PCIP03</th>\n",
       "      <th>PCIP05</th>\n",
       "      <th>PCIP09</th>\n",
       "      <th>PCIP10</th>\n",
       "      <th>PCIP11</th>\n",
       "      <th>PCIP12</th>\n",
       "      <th>PCIP13</th>\n",
       "      <th>PCIP14</th>\n",
       "      <th>PCIP15</th>\n",
       "      <th>PCIP16</th>\n",
       "      <th>PCIP19</th>\n",
       "      <th>PCIP22</th>\n",
       "      <th>PCIP23</th>\n",
       "      <th>PCIP24</th>\n",
       "      <th>PCIP25</th>\n",
       "      <th>PCIP26</th>\n",
       "      <th>PCIP27</th>\n",
       "      <th>PCIP29</th>\n",
       "      <th>PCIP30</th>\n",
       "      <th>PCIP31</th>\n",
       "      <th>PCIP38</th>\n",
       "      <th>PCIP39</th>\n",
       "      <th>PCIP40</th>\n",
       "      <th>PCIP41</th>\n",
       "      <th>PCIP42</th>\n",
       "      <th>PCIP43</th>\n",
       "      <th>PCIP44</th>\n",
       "      <th>PCIP45</th>\n",
       "      <th>PCIP46</th>\n",
       "      <th>PCIP47</th>\n",
       "      <th>PCIP48</th>\n",
       "      <th>PCIP49</th>\n",
       "      <th>PCIP50</th>\n",
       "      <th>PCIP51</th>\n",
       "      <th>PCIP52</th>\n",
       "      <th>PCIP54</th>\n",
       "      <th>DISTANCEONLY</th>\n",
       "      <th>UGDS</th>\n",
       "      <th>UGDS_WHITE</th>\n",
       "      <th>UGDS_BLACK</th>\n",
       "      <th>UGDS_HISP</th>\n",
       "      <th>UGDS_ASIAN</th>\n",
       "      <th>CURROPER</th>\n",
       "      <th>NPT4_PUB</th>\n",
       "      <th>NPT4_PRIV</th>\n",
       "      <th>NPT41_PUB</th>\n",
       "      <th>NPT42_PUB</th>\n",
       "      <th>NPT43_PUB</th>\n",
       "      <th>NPT41_PRIV</th>\n",
       "      <th>NPT42_PRIV</th>\n",
       "      <th>NPT43_PRIV</th>\n",
       "      <th>NUM41_PUB</th>\n",
       "      <th>NUM42_PUB</th>\n",
       "      <th>NUM43_PUB</th>\n",
       "      <th>NUM44_PUB</th>\n",
       "      <th>NUM45_PUB</th>\n",
       "      <th>NUM41_PRIV</th>\n",
       "      <th>NUM42_PRIV</th>\n",
       "      <th>NUM43_PRIV</th>\n",
       "      <th>NUM44_PRIV</th>\n",
       "      <th>NUM45_PRIV</th>\n",
       "      <th>COSTT4_A</th>\n",
       "      <th>TUITFTE</th>\n",
       "      <th>PCTFLOAN</th>\n",
       "      <th>CDR2</th>\n",
       "      <th>CDR3</th>\n",
       "      <th>DEATH_YR2_RT</th>\n",
       "      <th>LO_INC_DEATH_YR2_RT</th>\n",
       "      <th>MD_INC_DEATH_YR2_RT</th>\n",
       "      <th>HI_INC_DEATH_YR2_RT</th>\n",
       "      <th>DEBT_MDN</th>\n",
       "      <th>GRAD_DEBT_MDN</th>\n",
       "      <th>PELL_DEBT_MDN</th>\n",
       "      <th>NOPELL_DEBT_MDN</th>\n",
       "      <th>MD_FAMINC</th>\n",
       "      <th>MD_EARN_WNE_P6</th>\n",
       "      <th>MD_EARN_WNE_P8</th>\n",
       "      <th>C100_4</th>\n",
       "      <th>ICLEVEL</th>\n",
       "      <th>C100_4_POOLED_SUPP</th>\n",
       "      <th>OPEFLAG</th>\n",
       "      <th>CIPCODE1</th>\n",
       "      <th>CIPCODE2</th>\n",
       "      <th>CIPCODE3</th>\n",
       "      <th>FTFTPCTPELL</th>\n",
       "      <th>FTFTPCTFLOAN</th>\n",
       "      <th>PLUS_DEBT_INST_MD</th>\n",
       "      <th>BBRR1_FED_UG_MAKEPROG</th>\n",
       "      <th>BBRR1_FED_UG_PAIDINFULL</th>\n",
       "      <th>MD_EARN_WNE_INC1_P6</th>\n",
       "      <th>MD_EARN_WNE_INC2_P6</th>\n",
       "      <th>MD_EARN_WNE_INC3_P6</th>\n",
       "      <th>STUFACR</th>\n",
       "      <th>MD_EARN_WNE_1YR</th>\n",
       "      <th>MD_EARN_WNE_4YR</th>\n",
       "    </tr>\n",
       "    <tr>\n",
       "      <th>year</th>\n",
       "      <th>rowNum</th>\n",
       "      <th></th>\n",
       "      <th></th>\n",
       "      <th></th>\n",
       "      <th></th>\n",
       "      <th></th>\n",
       "      <th></th>\n",
       "      <th></th>\n",
       "      <th></th>\n",
       "      <th></th>\n",
       "      <th></th>\n",
       "      <th></th>\n",
       "      <th></th>\n",
       "      <th></th>\n",
       "      <th></th>\n",
       "      <th></th>\n",
       "      <th></th>\n",
       "      <th></th>\n",
       "      <th></th>\n",
       "      <th></th>\n",
       "      <th></th>\n",
       "      <th></th>\n",
       "      <th></th>\n",
       "      <th></th>\n",
       "      <th></th>\n",
       "      <th></th>\n",
       "      <th></th>\n",
       "      <th></th>\n",
       "      <th></th>\n",
       "      <th></th>\n",
       "      <th></th>\n",
       "      <th></th>\n",
       "      <th></th>\n",
       "      <th></th>\n",
       "      <th></th>\n",
       "      <th></th>\n",
       "      <th></th>\n",
       "      <th></th>\n",
       "      <th></th>\n",
       "      <th></th>\n",
       "      <th></th>\n",
       "      <th></th>\n",
       "      <th></th>\n",
       "      <th></th>\n",
       "      <th></th>\n",
       "      <th></th>\n",
       "      <th></th>\n",
       "      <th></th>\n",
       "      <th></th>\n",
       "      <th></th>\n",
       "      <th></th>\n",
       "      <th></th>\n",
       "      <th></th>\n",
       "      <th></th>\n",
       "      <th></th>\n",
       "      <th></th>\n",
       "      <th></th>\n",
       "      <th></th>\n",
       "      <th></th>\n",
       "      <th></th>\n",
       "      <th></th>\n",
       "      <th></th>\n",
       "      <th></th>\n",
       "      <th></th>\n",
       "      <th></th>\n",
       "      <th></th>\n",
       "      <th></th>\n",
       "      <th></th>\n",
       "      <th></th>\n",
       "      <th></th>\n",
       "      <th></th>\n",
       "      <th></th>\n",
       "      <th></th>\n",
       "      <th></th>\n",
       "      <th></th>\n",
       "      <th></th>\n",
       "      <th></th>\n",
       "      <th></th>\n",
       "      <th></th>\n",
       "      <th></th>\n",
       "      <th></th>\n",
       "      <th></th>\n",
       "      <th></th>\n",
       "      <th></th>\n",
       "      <th></th>\n",
       "      <th></th>\n",
       "      <th></th>\n",
       "      <th></th>\n",
       "      <th></th>\n",
       "      <th></th>\n",
       "      <th></th>\n",
       "      <th></th>\n",
       "      <th></th>\n",
       "      <th></th>\n",
       "      <th></th>\n",
       "      <th></th>\n",
       "      <th></th>\n",
       "      <th></th>\n",
       "      <th></th>\n",
       "      <th></th>\n",
       "      <th></th>\n",
       "      <th></th>\n",
       "      <th></th>\n",
       "      <th></th>\n",
       "      <th></th>\n",
       "      <th></th>\n",
       "      <th></th>\n",
       "      <th></th>\n",
       "      <th></th>\n",
       "      <th></th>\n",
       "      <th></th>\n",
       "      <th></th>\n",
       "      <th></th>\n",
       "      <th></th>\n",
       "    </tr>\n",
       "  </thead>\n",
       "  <tbody>\n",
       "    <tr>\n",
       "      <th rowspan=\"5\" valign=\"top\">2000</th>\n",
       "      <th>0</th>\n",
       "      <td>100636</td>\n",
       "      <td>01230800</td>\n",
       "      <td>12308.0</td>\n",
       "      <td>Community College of the Air Force</td>\n",
       "      <td>Montgomery</td>\n",
       "      <td>AL</td>\n",
       "      <td>36114-3011</td>\n",
       "      <td>NaN</td>\n",
       "      <td>NaN</td>\n",
       "      <td>1</td>\n",
       "      <td>1</td>\n",
       "      <td>2</td>\n",
       "      <td>2</td>\n",
       "      <td>1.0</td>\n",
       "      <td>NaN</td>\n",
       "      <td>NaN</td>\n",
       "      <td>NaN</td>\n",
       "      <td>0.0000</td>\n",
       "      <td>0.0000</td>\n",
       "      <td>0.0000</td>\n",
       "      <td>0.0024</td>\n",
       "      <td>0.0420</td>\n",
       "      <td>0.0115</td>\n",
       "      <td>0.0</td>\n",
       "      <td>0.0888</td>\n",
       "      <td>0.0000</td>\n",
       "      <td>0.1370</td>\n",
       "      <td>0.0000</td>\n",
       "      <td>0.0020</td>\n",
       "      <td>0.0065</td>\n",
       "      <td>0.0000</td>\n",
       "      <td>0.0</td>\n",
       "      <td>0.0</td>\n",
       "      <td>0.0000</td>\n",
       "      <td>0.0000</td>\n",
       "      <td>0.0583</td>\n",
       "      <td>0.0000</td>\n",
       "      <td>0.0077</td>\n",
       "      <td>0.0000</td>\n",
       "      <td>0.0</td>\n",
       "      <td>0.0084</td>\n",
       "      <td>0.0019</td>\n",
       "      <td>0.0000</td>\n",
       "      <td>0.0746</td>\n",
       "      <td>0.0032</td>\n",
       "      <td>0.0000</td>\n",
       "      <td>0.0</td>\n",
       "      <td>0.1973</td>\n",
       "      <td>0.0</td>\n",
       "      <td>0.0517</td>\n",
       "      <td>0.0064</td>\n",
       "      <td>0.0777</td>\n",
       "      <td>0.2225</td>\n",
       "      <td>0.0003</td>\n",
       "      <td>NaN</td>\n",
       "      <td>NaN</td>\n",
       "      <td>NaN</td>\n",
       "      <td>NaN</td>\n",
       "      <td>NaN</td>\n",
       "      <td>NaN</td>\n",
       "      <td>NaN</td>\n",
       "      <td>NaN</td>\n",
       "      <td>NaN</td>\n",
       "      <td>NaN</td>\n",
       "      <td>NaN</td>\n",
       "      <td>NaN</td>\n",
       "      <td>NaN</td>\n",
       "      <td>NaN</td>\n",
       "      <td>NaN</td>\n",
       "      <td>NaN</td>\n",
       "      <td>NaN</td>\n",
       "      <td>NaN</td>\n",
       "      <td>NaN</td>\n",
       "      <td>NaN</td>\n",
       "      <td>NaN</td>\n",
       "      <td>NaN</td>\n",
       "      <td>NaN</td>\n",
       "      <td>NaN</td>\n",
       "      <td>NaN</td>\n",
       "      <td>NaN</td>\n",
       "      <td>0.0</td>\n",
       "      <td>NaN</td>\n",
       "      <td>NaN</td>\n",
       "      <td>NaN</td>\n",
       "      <td>NaN</td>\n",
       "      <td>NaN</td>\n",
       "      <td>NaN</td>\n",
       "      <td>NaN</td>\n",
       "      <td>NaN</td>\n",
       "      <td>NaN</td>\n",
       "      <td>NaN</td>\n",
       "      <td>NaN</td>\n",
       "      <td>NaN</td>\n",
       "      <td>NaN</td>\n",
       "      <td>NaN</td>\n",
       "      <td>NaN</td>\n",
       "      <td>2.0</td>\n",
       "      <td>NaN</td>\n",
       "      <td>3</td>\n",
       "      <td>NaN</td>\n",
       "      <td>NaN</td>\n",
       "      <td>NaN</td>\n",
       "      <td>NaN</td>\n",
       "      <td>NaN</td>\n",
       "      <td>NaN</td>\n",
       "      <td>NaN</td>\n",
       "      <td>NaN</td>\n",
       "      <td>NaN</td>\n",
       "      <td>NaN</td>\n",
       "      <td>NaN</td>\n",
       "      <td>NaN</td>\n",
       "      <td>NaN</td>\n",
       "      <td>NaN</td>\n",
       "    </tr>\n",
       "    <tr>\n",
       "      <th>1</th>\n",
       "      <td>100654</td>\n",
       "      <td>00100200</td>\n",
       "      <td>1002.0</td>\n",
       "      <td>Alabama A &amp; M University</td>\n",
       "      <td>Normal</td>\n",
       "      <td>AL</td>\n",
       "      <td>35762</td>\n",
       "      <td>NaN</td>\n",
       "      <td>NaN</td>\n",
       "      <td>1</td>\n",
       "      <td>1</td>\n",
       "      <td>3</td>\n",
       "      <td>4</td>\n",
       "      <td>1.0</td>\n",
       "      <td>NaN</td>\n",
       "      <td>NaN</td>\n",
       "      <td>NaN</td>\n",
       "      <td>0.0624</td>\n",
       "      <td>0.0183</td>\n",
       "      <td>0.0000</td>\n",
       "      <td>0.0000</td>\n",
       "      <td>0.0239</td>\n",
       "      <td>0.0349</td>\n",
       "      <td>0.0</td>\n",
       "      <td>0.2569</td>\n",
       "      <td>0.0183</td>\n",
       "      <td>0.1083</td>\n",
       "      <td>0.0000</td>\n",
       "      <td>0.0294</td>\n",
       "      <td>0.0000</td>\n",
       "      <td>0.0092</td>\n",
       "      <td>0.0</td>\n",
       "      <td>0.0</td>\n",
       "      <td>0.0661</td>\n",
       "      <td>0.0202</td>\n",
       "      <td>0.0000</td>\n",
       "      <td>0.0000</td>\n",
       "      <td>0.0000</td>\n",
       "      <td>0.0000</td>\n",
       "      <td>0.0</td>\n",
       "      <td>0.0183</td>\n",
       "      <td>0.0000</td>\n",
       "      <td>0.0514</td>\n",
       "      <td>0.0000</td>\n",
       "      <td>0.0440</td>\n",
       "      <td>0.0422</td>\n",
       "      <td>0.0</td>\n",
       "      <td>0.0000</td>\n",
       "      <td>0.0</td>\n",
       "      <td>0.0000</td>\n",
       "      <td>0.0037</td>\n",
       "      <td>0.0000</td>\n",
       "      <td>0.1798</td>\n",
       "      <td>0.0018</td>\n",
       "      <td>NaN</td>\n",
       "      <td>NaN</td>\n",
       "      <td>NaN</td>\n",
       "      <td>NaN</td>\n",
       "      <td>NaN</td>\n",
       "      <td>NaN</td>\n",
       "      <td>NaN</td>\n",
       "      <td>NaN</td>\n",
       "      <td>NaN</td>\n",
       "      <td>NaN</td>\n",
       "      <td>NaN</td>\n",
       "      <td>NaN</td>\n",
       "      <td>NaN</td>\n",
       "      <td>NaN</td>\n",
       "      <td>NaN</td>\n",
       "      <td>NaN</td>\n",
       "      <td>NaN</td>\n",
       "      <td>NaN</td>\n",
       "      <td>NaN</td>\n",
       "      <td>NaN</td>\n",
       "      <td>NaN</td>\n",
       "      <td>NaN</td>\n",
       "      <td>NaN</td>\n",
       "      <td>NaN</td>\n",
       "      <td>NaN</td>\n",
       "      <td>NaN</td>\n",
       "      <td>3486.0</td>\n",
       "      <td>NaN</td>\n",
       "      <td>0.119</td>\n",
       "      <td>NaN</td>\n",
       "      <td>PrivacySuppressed</td>\n",
       "      <td>PrivacySuppressed</td>\n",
       "      <td>PrivacySuppressed</td>\n",
       "      <td>PrivacySuppressed</td>\n",
       "      <td>4625</td>\n",
       "      <td>15374</td>\n",
       "      <td>4617.5</td>\n",
       "      <td>4625.5</td>\n",
       "      <td>18979</td>\n",
       "      <td>NaN</td>\n",
       "      <td>NaN</td>\n",
       "      <td>NaN</td>\n",
       "      <td>1.0</td>\n",
       "      <td>NaN</td>\n",
       "      <td>1</td>\n",
       "      <td>NaN</td>\n",
       "      <td>NaN</td>\n",
       "      <td>NaN</td>\n",
       "      <td>NaN</td>\n",
       "      <td>NaN</td>\n",
       "      <td>NaN</td>\n",
       "      <td>NaN</td>\n",
       "      <td>NaN</td>\n",
       "      <td>NaN</td>\n",
       "      <td>NaN</td>\n",
       "      <td>NaN</td>\n",
       "      <td>NaN</td>\n",
       "      <td>NaN</td>\n",
       "      <td>NaN</td>\n",
       "    </tr>\n",
       "    <tr>\n",
       "      <th>2</th>\n",
       "      <td>100663</td>\n",
       "      <td>00105200</td>\n",
       "      <td>1052.0</td>\n",
       "      <td>University of Alabama at Birmingham</td>\n",
       "      <td>Birmingham</td>\n",
       "      <td>AL</td>\n",
       "      <td>35294-0110</td>\n",
       "      <td>NaN</td>\n",
       "      <td>NaN</td>\n",
       "      <td>1</td>\n",
       "      <td>1</td>\n",
       "      <td>3</td>\n",
       "      <td>4</td>\n",
       "      <td>1.0</td>\n",
       "      <td>NaN</td>\n",
       "      <td>NaN</td>\n",
       "      <td>NaN</td>\n",
       "      <td>0.0000</td>\n",
       "      <td>0.0000</td>\n",
       "      <td>0.0000</td>\n",
       "      <td>0.0352</td>\n",
       "      <td>0.0000</td>\n",
       "      <td>0.0224</td>\n",
       "      <td>0.0</td>\n",
       "      <td>0.1223</td>\n",
       "      <td>0.0525</td>\n",
       "      <td>0.0000</td>\n",
       "      <td>0.0051</td>\n",
       "      <td>0.0000</td>\n",
       "      <td>0.0000</td>\n",
       "      <td>0.0166</td>\n",
       "      <td>0.0</td>\n",
       "      <td>0.0</td>\n",
       "      <td>0.0743</td>\n",
       "      <td>0.0038</td>\n",
       "      <td>0.0000</td>\n",
       "      <td>0.0019</td>\n",
       "      <td>0.0000</td>\n",
       "      <td>0.0083</td>\n",
       "      <td>0.0</td>\n",
       "      <td>0.0134</td>\n",
       "      <td>0.0000</td>\n",
       "      <td>0.0794</td>\n",
       "      <td>0.0467</td>\n",
       "      <td>0.0173</td>\n",
       "      <td>0.0551</td>\n",
       "      <td>0.0</td>\n",
       "      <td>0.0000</td>\n",
       "      <td>0.0</td>\n",
       "      <td>0.0000</td>\n",
       "      <td>0.0262</td>\n",
       "      <td>0.1895</td>\n",
       "      <td>0.1914</td>\n",
       "      <td>0.0384</td>\n",
       "      <td>NaN</td>\n",
       "      <td>NaN</td>\n",
       "      <td>NaN</td>\n",
       "      <td>NaN</td>\n",
       "      <td>NaN</td>\n",
       "      <td>NaN</td>\n",
       "      <td>NaN</td>\n",
       "      <td>NaN</td>\n",
       "      <td>NaN</td>\n",
       "      <td>NaN</td>\n",
       "      <td>NaN</td>\n",
       "      <td>NaN</td>\n",
       "      <td>NaN</td>\n",
       "      <td>NaN</td>\n",
       "      <td>NaN</td>\n",
       "      <td>NaN</td>\n",
       "      <td>NaN</td>\n",
       "      <td>NaN</td>\n",
       "      <td>NaN</td>\n",
       "      <td>NaN</td>\n",
       "      <td>NaN</td>\n",
       "      <td>NaN</td>\n",
       "      <td>NaN</td>\n",
       "      <td>NaN</td>\n",
       "      <td>NaN</td>\n",
       "      <td>NaN</td>\n",
       "      <td>6348.0</td>\n",
       "      <td>NaN</td>\n",
       "      <td>0.054</td>\n",
       "      <td>NaN</td>\n",
       "      <td>PrivacySuppressed</td>\n",
       "      <td>PrivacySuppressed</td>\n",
       "      <td>PrivacySuppressed</td>\n",
       "      <td>PrivacySuppressed</td>\n",
       "      <td>5000</td>\n",
       "      <td>4125</td>\n",
       "      <td>4766.5</td>\n",
       "      <td>5250</td>\n",
       "      <td>22336</td>\n",
       "      <td>NaN</td>\n",
       "      <td>NaN</td>\n",
       "      <td>NaN</td>\n",
       "      <td>1.0</td>\n",
       "      <td>NaN</td>\n",
       "      <td>1</td>\n",
       "      <td>NaN</td>\n",
       "      <td>NaN</td>\n",
       "      <td>NaN</td>\n",
       "      <td>NaN</td>\n",
       "      <td>NaN</td>\n",
       "      <td>NaN</td>\n",
       "      <td>NaN</td>\n",
       "      <td>NaN</td>\n",
       "      <td>NaN</td>\n",
       "      <td>NaN</td>\n",
       "      <td>NaN</td>\n",
       "      <td>NaN</td>\n",
       "      <td>NaN</td>\n",
       "      <td>NaN</td>\n",
       "    </tr>\n",
       "    <tr>\n",
       "      <th>3</th>\n",
       "      <td>100690</td>\n",
       "      <td>02503400</td>\n",
       "      <td>25034.0</td>\n",
       "      <td>Amridge University</td>\n",
       "      <td>Montgomery</td>\n",
       "      <td>AL</td>\n",
       "      <td>36117-3553</td>\n",
       "      <td>NaN</td>\n",
       "      <td>NaN</td>\n",
       "      <td>1</td>\n",
       "      <td>1</td>\n",
       "      <td>3</td>\n",
       "      <td>4</td>\n",
       "      <td>2.0</td>\n",
       "      <td>NaN</td>\n",
       "      <td>NaN</td>\n",
       "      <td>NaN</td>\n",
       "      <td>0.0000</td>\n",
       "      <td>0.0000</td>\n",
       "      <td>0.0000</td>\n",
       "      <td>0.0000</td>\n",
       "      <td>0.0000</td>\n",
       "      <td>0.0000</td>\n",
       "      <td>0.0</td>\n",
       "      <td>0.0000</td>\n",
       "      <td>0.0000</td>\n",
       "      <td>0.0000</td>\n",
       "      <td>0.0000</td>\n",
       "      <td>0.0000</td>\n",
       "      <td>0.0000</td>\n",
       "      <td>0.0000</td>\n",
       "      <td>0.0</td>\n",
       "      <td>0.0</td>\n",
       "      <td>0.0000</td>\n",
       "      <td>0.0000</td>\n",
       "      <td>0.0000</td>\n",
       "      <td>0.0000</td>\n",
       "      <td>0.0000</td>\n",
       "      <td>0.0000</td>\n",
       "      <td>1.0</td>\n",
       "      <td>0.0000</td>\n",
       "      <td>0.0000</td>\n",
       "      <td>0.0000</td>\n",
       "      <td>0.0000</td>\n",
       "      <td>0.0000</td>\n",
       "      <td>0.0000</td>\n",
       "      <td>0.0</td>\n",
       "      <td>0.0000</td>\n",
       "      <td>0.0</td>\n",
       "      <td>0.0000</td>\n",
       "      <td>0.0000</td>\n",
       "      <td>0.0000</td>\n",
       "      <td>0.0000</td>\n",
       "      <td>0.0000</td>\n",
       "      <td>NaN</td>\n",
       "      <td>NaN</td>\n",
       "      <td>NaN</td>\n",
       "      <td>NaN</td>\n",
       "      <td>NaN</td>\n",
       "      <td>NaN</td>\n",
       "      <td>NaN</td>\n",
       "      <td>NaN</td>\n",
       "      <td>NaN</td>\n",
       "      <td>NaN</td>\n",
       "      <td>NaN</td>\n",
       "      <td>NaN</td>\n",
       "      <td>NaN</td>\n",
       "      <td>NaN</td>\n",
       "      <td>NaN</td>\n",
       "      <td>NaN</td>\n",
       "      <td>NaN</td>\n",
       "      <td>NaN</td>\n",
       "      <td>NaN</td>\n",
       "      <td>NaN</td>\n",
       "      <td>NaN</td>\n",
       "      <td>NaN</td>\n",
       "      <td>NaN</td>\n",
       "      <td>NaN</td>\n",
       "      <td>NaN</td>\n",
       "      <td>NaN</td>\n",
       "      <td>5397.0</td>\n",
       "      <td>NaN</td>\n",
       "      <td>0.016</td>\n",
       "      <td>NaN</td>\n",
       "      <td>PrivacySuppressed</td>\n",
       "      <td>PrivacySuppressed</td>\n",
       "      <td>PrivacySuppressed</td>\n",
       "      <td>PrivacySuppressed</td>\n",
       "      <td>5655.5</td>\n",
       "      <td>9900</td>\n",
       "      <td>5500</td>\n",
       "      <td>8087</td>\n",
       "      <td>24892</td>\n",
       "      <td>NaN</td>\n",
       "      <td>NaN</td>\n",
       "      <td>NaN</td>\n",
       "      <td>1.0</td>\n",
       "      <td>NaN</td>\n",
       "      <td>1</td>\n",
       "      <td>NaN</td>\n",
       "      <td>NaN</td>\n",
       "      <td>NaN</td>\n",
       "      <td>NaN</td>\n",
       "      <td>NaN</td>\n",
       "      <td>NaN</td>\n",
       "      <td>NaN</td>\n",
       "      <td>NaN</td>\n",
       "      <td>NaN</td>\n",
       "      <td>NaN</td>\n",
       "      <td>NaN</td>\n",
       "      <td>NaN</td>\n",
       "      <td>NaN</td>\n",
       "      <td>NaN</td>\n",
       "    </tr>\n",
       "    <tr>\n",
       "      <th>4</th>\n",
       "      <td>100706</td>\n",
       "      <td>00105500</td>\n",
       "      <td>1055.0</td>\n",
       "      <td>University of Alabama in Huntsville</td>\n",
       "      <td>Huntsville</td>\n",
       "      <td>AL</td>\n",
       "      <td>35899</td>\n",
       "      <td>NaN</td>\n",
       "      <td>NaN</td>\n",
       "      <td>1</td>\n",
       "      <td>1</td>\n",
       "      <td>3</td>\n",
       "      <td>4</td>\n",
       "      <td>1.0</td>\n",
       "      <td>NaN</td>\n",
       "      <td>NaN</td>\n",
       "      <td>NaN</td>\n",
       "      <td>0.0000</td>\n",
       "      <td>0.0000</td>\n",
       "      <td>0.0015</td>\n",
       "      <td>0.0000</td>\n",
       "      <td>0.0000</td>\n",
       "      <td>0.0550</td>\n",
       "      <td>0.0</td>\n",
       "      <td>0.0267</td>\n",
       "      <td>0.2719</td>\n",
       "      <td>0.0000</td>\n",
       "      <td>0.0208</td>\n",
       "      <td>0.0000</td>\n",
       "      <td>0.0000</td>\n",
       "      <td>0.0416</td>\n",
       "      <td>0.0</td>\n",
       "      <td>0.0</td>\n",
       "      <td>0.0475</td>\n",
       "      <td>0.0134</td>\n",
       "      <td>0.0000</td>\n",
       "      <td>0.0000</td>\n",
       "      <td>0.0000</td>\n",
       "      <td>0.0045</td>\n",
       "      <td>0.0</td>\n",
       "      <td>0.0208</td>\n",
       "      <td>0.0000</td>\n",
       "      <td>0.0208</td>\n",
       "      <td>0.0000</td>\n",
       "      <td>0.0000</td>\n",
       "      <td>0.0238</td>\n",
       "      <td>0.0</td>\n",
       "      <td>0.0000</td>\n",
       "      <td>0.0</td>\n",
       "      <td>0.0000</td>\n",
       "      <td>0.0223</td>\n",
       "      <td>0.1694</td>\n",
       "      <td>0.2392</td>\n",
       "      <td>0.0208</td>\n",
       "      <td>NaN</td>\n",
       "      <td>NaN</td>\n",
       "      <td>NaN</td>\n",
       "      <td>NaN</td>\n",
       "      <td>NaN</td>\n",
       "      <td>NaN</td>\n",
       "      <td>NaN</td>\n",
       "      <td>NaN</td>\n",
       "      <td>NaN</td>\n",
       "      <td>NaN</td>\n",
       "      <td>NaN</td>\n",
       "      <td>NaN</td>\n",
       "      <td>NaN</td>\n",
       "      <td>NaN</td>\n",
       "      <td>NaN</td>\n",
       "      <td>NaN</td>\n",
       "      <td>NaN</td>\n",
       "      <td>NaN</td>\n",
       "      <td>NaN</td>\n",
       "      <td>NaN</td>\n",
       "      <td>NaN</td>\n",
       "      <td>NaN</td>\n",
       "      <td>NaN</td>\n",
       "      <td>NaN</td>\n",
       "      <td>NaN</td>\n",
       "      <td>NaN</td>\n",
       "      <td>4200.0</td>\n",
       "      <td>NaN</td>\n",
       "      <td>0.048</td>\n",
       "      <td>NaN</td>\n",
       "      <td>PrivacySuppressed</td>\n",
       "      <td>PrivacySuppressed</td>\n",
       "      <td>PrivacySuppressed</td>\n",
       "      <td>PrivacySuppressed</td>\n",
       "      <td>5500</td>\n",
       "      <td>12001.5</td>\n",
       "      <td>5500</td>\n",
       "      <td>5250</td>\n",
       "      <td>27289.5</td>\n",
       "      <td>NaN</td>\n",
       "      <td>NaN</td>\n",
       "      <td>NaN</td>\n",
       "      <td>1.0</td>\n",
       "      <td>NaN</td>\n",
       "      <td>1</td>\n",
       "      <td>NaN</td>\n",
       "      <td>NaN</td>\n",
       "      <td>NaN</td>\n",
       "      <td>NaN</td>\n",
       "      <td>NaN</td>\n",
       "      <td>NaN</td>\n",
       "      <td>NaN</td>\n",
       "      <td>NaN</td>\n",
       "      <td>NaN</td>\n",
       "      <td>NaN</td>\n",
       "      <td>NaN</td>\n",
       "      <td>NaN</td>\n",
       "      <td>NaN</td>\n",
       "      <td>NaN</td>\n",
       "    </tr>\n",
       "  </tbody>\n",
       "</table>\n",
       "</div>"
      ],
      "text/plain": [
       "             UNITID     OPEID   OPEID6                               INSTNM  \\\n",
       "year rowNum                                                                   \n",
       "2000 0       100636  01230800  12308.0   Community College of the Air Force   \n",
       "     1       100654  00100200   1002.0             Alabama A & M University   \n",
       "     2       100663  00105200   1052.0  University of Alabama at Birmingham   \n",
       "     3       100690  02503400  25034.0                   Amridge University   \n",
       "     4       100706  00105500   1055.0  University of Alabama in Huntsville   \n",
       "\n",
       "                   CITY STABBR         ZIP  ACCREDAGENCY  HCM2  MAIN  \\\n",
       "year rowNum                                                            \n",
       "2000 0       Montgomery     AL  36114-3011           NaN   NaN     1   \n",
       "     1           Normal     AL       35762           NaN   NaN     1   \n",
       "     2       Birmingham     AL  35294-0110           NaN   NaN     1   \n",
       "     3       Montgomery     AL  36117-3553           NaN   NaN     1   \n",
       "     4       Huntsville     AL       35899           NaN   NaN     1   \n",
       "\n",
       "             NUMBRANCH  PREDDEG  HIGHDEG  CONTROL  ADM_RATE  ADM_RATE_ALL  \\\n",
       "year rowNum                                                                 \n",
       "2000 0               1        2        2      1.0       NaN           NaN   \n",
       "     1               1        3        4      1.0       NaN           NaN   \n",
       "     2               1        3        4      1.0       NaN           NaN   \n",
       "     3               1        3        4      2.0       NaN           NaN   \n",
       "     4               1        3        4      1.0       NaN           NaN   \n",
       "\n",
       "             SAT_AVG_ALL  PCIP01  PCIP03  PCIP05  PCIP09  PCIP10  PCIP11  \\\n",
       "year rowNum                                                                \n",
       "2000 0               NaN  0.0000  0.0000  0.0000  0.0024  0.0420  0.0115   \n",
       "     1               NaN  0.0624  0.0183  0.0000  0.0000  0.0239  0.0349   \n",
       "     2               NaN  0.0000  0.0000  0.0000  0.0352  0.0000  0.0224   \n",
       "     3               NaN  0.0000  0.0000  0.0000  0.0000  0.0000  0.0000   \n",
       "     4               NaN  0.0000  0.0000  0.0015  0.0000  0.0000  0.0550   \n",
       "\n",
       "             PCIP12  PCIP13  PCIP14  PCIP15  PCIP16  PCIP19  PCIP22  PCIP23  \\\n",
       "year rowNum                                                                   \n",
       "2000 0          0.0  0.0888  0.0000  0.1370  0.0000  0.0020  0.0065  0.0000   \n",
       "     1          0.0  0.2569  0.0183  0.1083  0.0000  0.0294  0.0000  0.0092   \n",
       "     2          0.0  0.1223  0.0525  0.0000  0.0051  0.0000  0.0000  0.0166   \n",
       "     3          0.0  0.0000  0.0000  0.0000  0.0000  0.0000  0.0000  0.0000   \n",
       "     4          0.0  0.0267  0.2719  0.0000  0.0208  0.0000  0.0000  0.0416   \n",
       "\n",
       "             PCIP24  PCIP25  PCIP26  PCIP27  PCIP29  PCIP30  PCIP31  PCIP38  \\\n",
       "year rowNum                                                                   \n",
       "2000 0          0.0     0.0  0.0000  0.0000  0.0583  0.0000  0.0077  0.0000   \n",
       "     1          0.0     0.0  0.0661  0.0202  0.0000  0.0000  0.0000  0.0000   \n",
       "     2          0.0     0.0  0.0743  0.0038  0.0000  0.0019  0.0000  0.0083   \n",
       "     3          0.0     0.0  0.0000  0.0000  0.0000  0.0000  0.0000  0.0000   \n",
       "     4          0.0     0.0  0.0475  0.0134  0.0000  0.0000  0.0000  0.0045   \n",
       "\n",
       "             PCIP39  PCIP40  PCIP41  PCIP42  PCIP43  PCIP44  PCIP45  PCIP46  \\\n",
       "year rowNum                                                                   \n",
       "2000 0          0.0  0.0084  0.0019  0.0000  0.0746  0.0032  0.0000     0.0   \n",
       "     1          0.0  0.0183  0.0000  0.0514  0.0000  0.0440  0.0422     0.0   \n",
       "     2          0.0  0.0134  0.0000  0.0794  0.0467  0.0173  0.0551     0.0   \n",
       "     3          1.0  0.0000  0.0000  0.0000  0.0000  0.0000  0.0000     0.0   \n",
       "     4          0.0  0.0208  0.0000  0.0208  0.0000  0.0000  0.0238     0.0   \n",
       "\n",
       "             PCIP47  PCIP48  PCIP49  PCIP50  PCIP51  PCIP52  PCIP54  \\\n",
       "year rowNum                                                           \n",
       "2000 0       0.1973     0.0  0.0517  0.0064  0.0777  0.2225  0.0003   \n",
       "     1       0.0000     0.0  0.0000  0.0037  0.0000  0.1798  0.0018   \n",
       "     2       0.0000     0.0  0.0000  0.0262  0.1895  0.1914  0.0384   \n",
       "     3       0.0000     0.0  0.0000  0.0000  0.0000  0.0000  0.0000   \n",
       "     4       0.0000     0.0  0.0000  0.0223  0.1694  0.2392  0.0208   \n",
       "\n",
       "             DISTANCEONLY  UGDS  UGDS_WHITE  UGDS_BLACK  UGDS_HISP  \\\n",
       "year rowNum                                                          \n",
       "2000 0                NaN   NaN         NaN         NaN        NaN   \n",
       "     1                NaN   NaN         NaN         NaN        NaN   \n",
       "     2                NaN   NaN         NaN         NaN        NaN   \n",
       "     3                NaN   NaN         NaN         NaN        NaN   \n",
       "     4                NaN   NaN         NaN         NaN        NaN   \n",
       "\n",
       "             UGDS_ASIAN  CURROPER  NPT4_PUB  NPT4_PRIV  NPT41_PUB  NPT42_PUB  \\\n",
       "year rowNum                                                                    \n",
       "2000 0              NaN       NaN       NaN        NaN        NaN        NaN   \n",
       "     1              NaN       NaN       NaN        NaN        NaN        NaN   \n",
       "     2              NaN       NaN       NaN        NaN        NaN        NaN   \n",
       "     3              NaN       NaN       NaN        NaN        NaN        NaN   \n",
       "     4              NaN       NaN       NaN        NaN        NaN        NaN   \n",
       "\n",
       "             NPT43_PUB  NPT41_PRIV  NPT42_PRIV  NPT43_PRIV  NUM41_PUB  \\\n",
       "year rowNum                                                             \n",
       "2000 0             NaN         NaN         NaN         NaN        NaN   \n",
       "     1             NaN         NaN         NaN         NaN        NaN   \n",
       "     2             NaN         NaN         NaN         NaN        NaN   \n",
       "     3             NaN         NaN         NaN         NaN        NaN   \n",
       "     4             NaN         NaN         NaN         NaN        NaN   \n",
       "\n",
       "             NUM42_PUB  NUM43_PUB  NUM44_PUB  NUM45_PUB  NUM41_PRIV  \\\n",
       "year rowNum                                                           \n",
       "2000 0             NaN        NaN        NaN        NaN         NaN   \n",
       "     1             NaN        NaN        NaN        NaN         NaN   \n",
       "     2             NaN        NaN        NaN        NaN         NaN   \n",
       "     3             NaN        NaN        NaN        NaN         NaN   \n",
       "     4             NaN        NaN        NaN        NaN         NaN   \n",
       "\n",
       "             NUM42_PRIV  NUM43_PRIV  NUM44_PRIV  NUM45_PRIV  COSTT4_A  \\\n",
       "year rowNum                                                             \n",
       "2000 0              NaN         NaN         NaN         NaN       NaN   \n",
       "     1              NaN         NaN         NaN         NaN       NaN   \n",
       "     2              NaN         NaN         NaN         NaN       NaN   \n",
       "     3              NaN         NaN         NaN         NaN       NaN   \n",
       "     4              NaN         NaN         NaN         NaN       NaN   \n",
       "\n",
       "             TUITFTE  PCTFLOAN   CDR2  CDR3       DEATH_YR2_RT  \\\n",
       "year rowNum                                                      \n",
       "2000 0           0.0       NaN    NaN   NaN                NaN   \n",
       "     1        3486.0       NaN  0.119   NaN  PrivacySuppressed   \n",
       "     2        6348.0       NaN  0.054   NaN  PrivacySuppressed   \n",
       "     3        5397.0       NaN  0.016   NaN  PrivacySuppressed   \n",
       "     4        4200.0       NaN  0.048   NaN  PrivacySuppressed   \n",
       "\n",
       "            LO_INC_DEATH_YR2_RT MD_INC_DEATH_YR2_RT HI_INC_DEATH_YR2_RT  \\\n",
       "year rowNum                                                               \n",
       "2000 0                      NaN                 NaN                 NaN   \n",
       "     1        PrivacySuppressed   PrivacySuppressed   PrivacySuppressed   \n",
       "     2        PrivacySuppressed   PrivacySuppressed   PrivacySuppressed   \n",
       "     3        PrivacySuppressed   PrivacySuppressed   PrivacySuppressed   \n",
       "     4        PrivacySuppressed   PrivacySuppressed   PrivacySuppressed   \n",
       "\n",
       "            DEBT_MDN GRAD_DEBT_MDN PELL_DEBT_MDN NOPELL_DEBT_MDN MD_FAMINC  \\\n",
       "year rowNum                                                                  \n",
       "2000 0           NaN           NaN           NaN             NaN       NaN   \n",
       "     1          4625         15374        4617.5          4625.5     18979   \n",
       "     2          5000          4125        4766.5            5250     22336   \n",
       "     3        5655.5          9900          5500            8087     24892   \n",
       "     4          5500       12001.5          5500            5250   27289.5   \n",
       "\n",
       "            MD_EARN_WNE_P6 MD_EARN_WNE_P8  C100_4  ICLEVEL  \\\n",
       "year rowNum                                                  \n",
       "2000 0                 NaN            NaN     NaN      2.0   \n",
       "     1                 NaN            NaN     NaN      1.0   \n",
       "     2                 NaN            NaN     NaN      1.0   \n",
       "     3                 NaN            NaN     NaN      1.0   \n",
       "     4                 NaN            NaN     NaN      1.0   \n",
       "\n",
       "             C100_4_POOLED_SUPP  OPEFLAG  CIPCODE1  CIPCODE2  CIPCODE3  \\\n",
       "year rowNum                                                              \n",
       "2000 0                      NaN        3       NaN       NaN       NaN   \n",
       "     1                      NaN        1       NaN       NaN       NaN   \n",
       "     2                      NaN        1       NaN       NaN       NaN   \n",
       "     3                      NaN        1       NaN       NaN       NaN   \n",
       "     4                      NaN        1       NaN       NaN       NaN   \n",
       "\n",
       "             FTFTPCTPELL  FTFTPCTFLOAN PLUS_DEBT_INST_MD  \\\n",
       "year rowNum                                                \n",
       "2000 0               NaN           NaN               NaN   \n",
       "     1               NaN           NaN               NaN   \n",
       "     2               NaN           NaN               NaN   \n",
       "     3               NaN           NaN               NaN   \n",
       "     4               NaN           NaN               NaN   \n",
       "\n",
       "            BBRR1_FED_UG_MAKEPROG BBRR1_FED_UG_PAIDINFULL  \\\n",
       "year rowNum                                                 \n",
       "2000 0                        NaN                     NaN   \n",
       "     1                        NaN                     NaN   \n",
       "     2                        NaN                     NaN   \n",
       "     3                        NaN                     NaN   \n",
       "     4                        NaN                     NaN   \n",
       "\n",
       "             MD_EARN_WNE_INC1_P6  MD_EARN_WNE_INC2_P6  MD_EARN_WNE_INC3_P6  \\\n",
       "year rowNum                                                                  \n",
       "2000 0                       NaN                  NaN                  NaN   \n",
       "     1                       NaN                  NaN                  NaN   \n",
       "     2                       NaN                  NaN                  NaN   \n",
       "     3                       NaN                  NaN                  NaN   \n",
       "     4                       NaN                  NaN                  NaN   \n",
       "\n",
       "             STUFACR  MD_EARN_WNE_1YR  MD_EARN_WNE_4YR  \n",
       "year rowNum                                             \n",
       "2000 0           NaN              NaN              NaN  \n",
       "     1           NaN              NaN              NaN  \n",
       "     2           NaN              NaN              NaN  \n",
       "     3           NaN              NaN              NaN  \n",
       "     4           NaN              NaN              NaN  "
      ]
     },
     "execution_count": 3,
     "metadata": {},
     "output_type": "execute_result"
    }
   ],
   "source": [
    "years = [2000, 2001, 2002, 2003, 2004, 2005, 2006, 2007, 2008, 2009, 2010, 2011, 2012, 2013, 2014, 2015, 2016, 2017, 2018, 2019, 2020, 2021]\n",
    "df = pd.concat([df1, df2, df3, df4, df5, df6, df7, df8, df9, df10, df10, df11, df12, df13, df14, df15, df16, df17, df18, df19, df20, df21, df22], keys=years, axis=0)\n",
    "shape = df.shape\n",
    "nullPercent = df['MAIN'].isna().mean() * 100\n",
    "\n",
    "print(\"[+] dfShape: \", shape, \" mainNull: \", nullPercent)\n",
    "df.index.names = ['year', 'rowNum']\n",
    "df.head()"
   ]
  },
  {
   "cell_type": "markdown",
   "metadata": {},
   "source": [
    "## Filtering the Institutes ##\n",
    "1: First Only select the Main Campus, as many institutes have branch campuses\n",
    "\n",
    "2: Next Select only the institutes that are eligible for Title IV Aid  by  Federal Government\n",
    "\n",
    "3: Now filter those institutes that are  4 year institutions"
   ]
  },
  {
   "cell_type": "code",
   "execution_count": 4,
   "metadata": {},
   "outputs": [
    {
     "name": "stdout",
     "output_type": "stream",
     "text": [
      "[+] mainShape:  (123172, 113)  titleIVNull:  0.0\n"
     ]
    },
    {
     "data": {
      "text/html": [
       "<div>\n",
       "<style scoped>\n",
       "    .dataframe tbody tr th:only-of-type {\n",
       "        vertical-align: middle;\n",
       "    }\n",
       "\n",
       "    .dataframe tbody tr th {\n",
       "        vertical-align: top;\n",
       "    }\n",
       "\n",
       "    .dataframe thead th {\n",
       "        text-align: right;\n",
       "    }\n",
       "</style>\n",
       "<table border=\"1\" class=\"dataframe\">\n",
       "  <thead>\n",
       "    <tr style=\"text-align: right;\">\n",
       "      <th></th>\n",
       "      <th></th>\n",
       "      <th>UNITID</th>\n",
       "      <th>OPEID</th>\n",
       "      <th>OPEID6</th>\n",
       "      <th>INSTNM</th>\n",
       "      <th>CITY</th>\n",
       "      <th>STABBR</th>\n",
       "      <th>ZIP</th>\n",
       "      <th>ACCREDAGENCY</th>\n",
       "      <th>HCM2</th>\n",
       "      <th>MAIN</th>\n",
       "      <th>NUMBRANCH</th>\n",
       "      <th>PREDDEG</th>\n",
       "      <th>HIGHDEG</th>\n",
       "      <th>CONTROL</th>\n",
       "      <th>ADM_RATE</th>\n",
       "      <th>ADM_RATE_ALL</th>\n",
       "      <th>SAT_AVG_ALL</th>\n",
       "      <th>PCIP01</th>\n",
       "      <th>PCIP03</th>\n",
       "      <th>PCIP05</th>\n",
       "      <th>PCIP09</th>\n",
       "      <th>PCIP10</th>\n",
       "      <th>PCIP11</th>\n",
       "      <th>PCIP12</th>\n",
       "      <th>PCIP13</th>\n",
       "      <th>PCIP14</th>\n",
       "      <th>PCIP15</th>\n",
       "      <th>PCIP16</th>\n",
       "      <th>PCIP19</th>\n",
       "      <th>PCIP22</th>\n",
       "      <th>PCIP23</th>\n",
       "      <th>PCIP24</th>\n",
       "      <th>PCIP25</th>\n",
       "      <th>PCIP26</th>\n",
       "      <th>PCIP27</th>\n",
       "      <th>PCIP29</th>\n",
       "      <th>PCIP30</th>\n",
       "      <th>PCIP31</th>\n",
       "      <th>PCIP38</th>\n",
       "      <th>PCIP39</th>\n",
       "      <th>PCIP40</th>\n",
       "      <th>PCIP41</th>\n",
       "      <th>PCIP42</th>\n",
       "      <th>PCIP43</th>\n",
       "      <th>PCIP44</th>\n",
       "      <th>PCIP45</th>\n",
       "      <th>PCIP46</th>\n",
       "      <th>PCIP47</th>\n",
       "      <th>PCIP48</th>\n",
       "      <th>PCIP49</th>\n",
       "      <th>PCIP50</th>\n",
       "      <th>PCIP51</th>\n",
       "      <th>PCIP52</th>\n",
       "      <th>PCIP54</th>\n",
       "      <th>DISTANCEONLY</th>\n",
       "      <th>UGDS</th>\n",
       "      <th>UGDS_WHITE</th>\n",
       "      <th>UGDS_BLACK</th>\n",
       "      <th>UGDS_HISP</th>\n",
       "      <th>UGDS_ASIAN</th>\n",
       "      <th>CURROPER</th>\n",
       "      <th>NPT4_PUB</th>\n",
       "      <th>NPT4_PRIV</th>\n",
       "      <th>NPT41_PUB</th>\n",
       "      <th>NPT42_PUB</th>\n",
       "      <th>NPT43_PUB</th>\n",
       "      <th>NPT41_PRIV</th>\n",
       "      <th>NPT42_PRIV</th>\n",
       "      <th>NPT43_PRIV</th>\n",
       "      <th>NUM41_PUB</th>\n",
       "      <th>NUM42_PUB</th>\n",
       "      <th>NUM43_PUB</th>\n",
       "      <th>NUM44_PUB</th>\n",
       "      <th>NUM45_PUB</th>\n",
       "      <th>NUM41_PRIV</th>\n",
       "      <th>NUM42_PRIV</th>\n",
       "      <th>NUM43_PRIV</th>\n",
       "      <th>NUM44_PRIV</th>\n",
       "      <th>NUM45_PRIV</th>\n",
       "      <th>COSTT4_A</th>\n",
       "      <th>TUITFTE</th>\n",
       "      <th>PCTFLOAN</th>\n",
       "      <th>CDR2</th>\n",
       "      <th>CDR3</th>\n",
       "      <th>DEATH_YR2_RT</th>\n",
       "      <th>LO_INC_DEATH_YR2_RT</th>\n",
       "      <th>MD_INC_DEATH_YR2_RT</th>\n",
       "      <th>HI_INC_DEATH_YR2_RT</th>\n",
       "      <th>DEBT_MDN</th>\n",
       "      <th>GRAD_DEBT_MDN</th>\n",
       "      <th>PELL_DEBT_MDN</th>\n",
       "      <th>NOPELL_DEBT_MDN</th>\n",
       "      <th>MD_FAMINC</th>\n",
       "      <th>MD_EARN_WNE_P6</th>\n",
       "      <th>MD_EARN_WNE_P8</th>\n",
       "      <th>C100_4</th>\n",
       "      <th>ICLEVEL</th>\n",
       "      <th>C100_4_POOLED_SUPP</th>\n",
       "      <th>OPEFLAG</th>\n",
       "      <th>CIPCODE1</th>\n",
       "      <th>CIPCODE2</th>\n",
       "      <th>CIPCODE3</th>\n",
       "      <th>FTFTPCTPELL</th>\n",
       "      <th>FTFTPCTFLOAN</th>\n",
       "      <th>PLUS_DEBT_INST_MD</th>\n",
       "      <th>BBRR1_FED_UG_MAKEPROG</th>\n",
       "      <th>BBRR1_FED_UG_PAIDINFULL</th>\n",
       "      <th>MD_EARN_WNE_INC1_P6</th>\n",
       "      <th>MD_EARN_WNE_INC2_P6</th>\n",
       "      <th>MD_EARN_WNE_INC3_P6</th>\n",
       "      <th>STUFACR</th>\n",
       "      <th>MD_EARN_WNE_1YR</th>\n",
       "      <th>MD_EARN_WNE_4YR</th>\n",
       "    </tr>\n",
       "    <tr>\n",
       "      <th>year</th>\n",
       "      <th>rowNum</th>\n",
       "      <th></th>\n",
       "      <th></th>\n",
       "      <th></th>\n",
       "      <th></th>\n",
       "      <th></th>\n",
       "      <th></th>\n",
       "      <th></th>\n",
       "      <th></th>\n",
       "      <th></th>\n",
       "      <th></th>\n",
       "      <th></th>\n",
       "      <th></th>\n",
       "      <th></th>\n",
       "      <th></th>\n",
       "      <th></th>\n",
       "      <th></th>\n",
       "      <th></th>\n",
       "      <th></th>\n",
       "      <th></th>\n",
       "      <th></th>\n",
       "      <th></th>\n",
       "      <th></th>\n",
       "      <th></th>\n",
       "      <th></th>\n",
       "      <th></th>\n",
       "      <th></th>\n",
       "      <th></th>\n",
       "      <th></th>\n",
       "      <th></th>\n",
       "      <th></th>\n",
       "      <th></th>\n",
       "      <th></th>\n",
       "      <th></th>\n",
       "      <th></th>\n",
       "      <th></th>\n",
       "      <th></th>\n",
       "      <th></th>\n",
       "      <th></th>\n",
       "      <th></th>\n",
       "      <th></th>\n",
       "      <th></th>\n",
       "      <th></th>\n",
       "      <th></th>\n",
       "      <th></th>\n",
       "      <th></th>\n",
       "      <th></th>\n",
       "      <th></th>\n",
       "      <th></th>\n",
       "      <th></th>\n",
       "      <th></th>\n",
       "      <th></th>\n",
       "      <th></th>\n",
       "      <th></th>\n",
       "      <th></th>\n",
       "      <th></th>\n",
       "      <th></th>\n",
       "      <th></th>\n",
       "      <th></th>\n",
       "      <th></th>\n",
       "      <th></th>\n",
       "      <th></th>\n",
       "      <th></th>\n",
       "      <th></th>\n",
       "      <th></th>\n",
       "      <th></th>\n",
       "      <th></th>\n",
       "      <th></th>\n",
       "      <th></th>\n",
       "      <th></th>\n",
       "      <th></th>\n",
       "      <th></th>\n",
       "      <th></th>\n",
       "      <th></th>\n",
       "      <th></th>\n",
       "      <th></th>\n",
       "      <th></th>\n",
       "      <th></th>\n",
       "      <th></th>\n",
       "      <th></th>\n",
       "      <th></th>\n",
       "      <th></th>\n",
       "      <th></th>\n",
       "      <th></th>\n",
       "      <th></th>\n",
       "      <th></th>\n",
       "      <th></th>\n",
       "      <th></th>\n",
       "      <th></th>\n",
       "      <th></th>\n",
       "      <th></th>\n",
       "      <th></th>\n",
       "      <th></th>\n",
       "      <th></th>\n",
       "      <th></th>\n",
       "      <th></th>\n",
       "      <th></th>\n",
       "      <th></th>\n",
       "      <th></th>\n",
       "      <th></th>\n",
       "      <th></th>\n",
       "      <th></th>\n",
       "      <th></th>\n",
       "      <th></th>\n",
       "      <th></th>\n",
       "      <th></th>\n",
       "      <th></th>\n",
       "      <th></th>\n",
       "      <th></th>\n",
       "      <th></th>\n",
       "      <th></th>\n",
       "      <th></th>\n",
       "      <th></th>\n",
       "      <th></th>\n",
       "    </tr>\n",
       "  </thead>\n",
       "  <tbody>\n",
       "    <tr>\n",
       "      <th rowspan=\"5\" valign=\"top\">2000</th>\n",
       "      <th>0</th>\n",
       "      <td>100636</td>\n",
       "      <td>01230800</td>\n",
       "      <td>12308.0</td>\n",
       "      <td>Community College of the Air Force</td>\n",
       "      <td>Montgomery</td>\n",
       "      <td>AL</td>\n",
       "      <td>36114-3011</td>\n",
       "      <td>NaN</td>\n",
       "      <td>NaN</td>\n",
       "      <td>1</td>\n",
       "      <td>1</td>\n",
       "      <td>2</td>\n",
       "      <td>2</td>\n",
       "      <td>1.0</td>\n",
       "      <td>NaN</td>\n",
       "      <td>NaN</td>\n",
       "      <td>NaN</td>\n",
       "      <td>0.0000</td>\n",
       "      <td>0.0000</td>\n",
       "      <td>0.0000</td>\n",
       "      <td>0.0024</td>\n",
       "      <td>0.0420</td>\n",
       "      <td>0.0115</td>\n",
       "      <td>0.0</td>\n",
       "      <td>0.0888</td>\n",
       "      <td>0.0000</td>\n",
       "      <td>0.1370</td>\n",
       "      <td>0.0000</td>\n",
       "      <td>0.0020</td>\n",
       "      <td>0.0065</td>\n",
       "      <td>0.0000</td>\n",
       "      <td>0.0</td>\n",
       "      <td>0.0</td>\n",
       "      <td>0.0000</td>\n",
       "      <td>0.0000</td>\n",
       "      <td>0.0583</td>\n",
       "      <td>0.0000</td>\n",
       "      <td>0.0077</td>\n",
       "      <td>0.0000</td>\n",
       "      <td>0.0</td>\n",
       "      <td>0.0084</td>\n",
       "      <td>0.0019</td>\n",
       "      <td>0.0000</td>\n",
       "      <td>0.0746</td>\n",
       "      <td>0.0032</td>\n",
       "      <td>0.0000</td>\n",
       "      <td>0.0</td>\n",
       "      <td>0.1973</td>\n",
       "      <td>0.0</td>\n",
       "      <td>0.0517</td>\n",
       "      <td>0.0064</td>\n",
       "      <td>0.0777</td>\n",
       "      <td>0.2225</td>\n",
       "      <td>0.0003</td>\n",
       "      <td>NaN</td>\n",
       "      <td>NaN</td>\n",
       "      <td>NaN</td>\n",
       "      <td>NaN</td>\n",
       "      <td>NaN</td>\n",
       "      <td>NaN</td>\n",
       "      <td>NaN</td>\n",
       "      <td>NaN</td>\n",
       "      <td>NaN</td>\n",
       "      <td>NaN</td>\n",
       "      <td>NaN</td>\n",
       "      <td>NaN</td>\n",
       "      <td>NaN</td>\n",
       "      <td>NaN</td>\n",
       "      <td>NaN</td>\n",
       "      <td>NaN</td>\n",
       "      <td>NaN</td>\n",
       "      <td>NaN</td>\n",
       "      <td>NaN</td>\n",
       "      <td>NaN</td>\n",
       "      <td>NaN</td>\n",
       "      <td>NaN</td>\n",
       "      <td>NaN</td>\n",
       "      <td>NaN</td>\n",
       "      <td>NaN</td>\n",
       "      <td>NaN</td>\n",
       "      <td>0.0</td>\n",
       "      <td>NaN</td>\n",
       "      <td>NaN</td>\n",
       "      <td>NaN</td>\n",
       "      <td>NaN</td>\n",
       "      <td>NaN</td>\n",
       "      <td>NaN</td>\n",
       "      <td>NaN</td>\n",
       "      <td>NaN</td>\n",
       "      <td>NaN</td>\n",
       "      <td>NaN</td>\n",
       "      <td>NaN</td>\n",
       "      <td>NaN</td>\n",
       "      <td>NaN</td>\n",
       "      <td>NaN</td>\n",
       "      <td>NaN</td>\n",
       "      <td>2.0</td>\n",
       "      <td>NaN</td>\n",
       "      <td>3</td>\n",
       "      <td>NaN</td>\n",
       "      <td>NaN</td>\n",
       "      <td>NaN</td>\n",
       "      <td>NaN</td>\n",
       "      <td>NaN</td>\n",
       "      <td>NaN</td>\n",
       "      <td>NaN</td>\n",
       "      <td>NaN</td>\n",
       "      <td>NaN</td>\n",
       "      <td>NaN</td>\n",
       "      <td>NaN</td>\n",
       "      <td>NaN</td>\n",
       "      <td>NaN</td>\n",
       "      <td>NaN</td>\n",
       "    </tr>\n",
       "    <tr>\n",
       "      <th>1</th>\n",
       "      <td>100654</td>\n",
       "      <td>00100200</td>\n",
       "      <td>1002.0</td>\n",
       "      <td>Alabama A &amp; M University</td>\n",
       "      <td>Normal</td>\n",
       "      <td>AL</td>\n",
       "      <td>35762</td>\n",
       "      <td>NaN</td>\n",
       "      <td>NaN</td>\n",
       "      <td>1</td>\n",
       "      <td>1</td>\n",
       "      <td>3</td>\n",
       "      <td>4</td>\n",
       "      <td>1.0</td>\n",
       "      <td>NaN</td>\n",
       "      <td>NaN</td>\n",
       "      <td>NaN</td>\n",
       "      <td>0.0624</td>\n",
       "      <td>0.0183</td>\n",
       "      <td>0.0000</td>\n",
       "      <td>0.0000</td>\n",
       "      <td>0.0239</td>\n",
       "      <td>0.0349</td>\n",
       "      <td>0.0</td>\n",
       "      <td>0.2569</td>\n",
       "      <td>0.0183</td>\n",
       "      <td>0.1083</td>\n",
       "      <td>0.0000</td>\n",
       "      <td>0.0294</td>\n",
       "      <td>0.0000</td>\n",
       "      <td>0.0092</td>\n",
       "      <td>0.0</td>\n",
       "      <td>0.0</td>\n",
       "      <td>0.0661</td>\n",
       "      <td>0.0202</td>\n",
       "      <td>0.0000</td>\n",
       "      <td>0.0000</td>\n",
       "      <td>0.0000</td>\n",
       "      <td>0.0000</td>\n",
       "      <td>0.0</td>\n",
       "      <td>0.0183</td>\n",
       "      <td>0.0000</td>\n",
       "      <td>0.0514</td>\n",
       "      <td>0.0000</td>\n",
       "      <td>0.0440</td>\n",
       "      <td>0.0422</td>\n",
       "      <td>0.0</td>\n",
       "      <td>0.0000</td>\n",
       "      <td>0.0</td>\n",
       "      <td>0.0000</td>\n",
       "      <td>0.0037</td>\n",
       "      <td>0.0000</td>\n",
       "      <td>0.1798</td>\n",
       "      <td>0.0018</td>\n",
       "      <td>NaN</td>\n",
       "      <td>NaN</td>\n",
       "      <td>NaN</td>\n",
       "      <td>NaN</td>\n",
       "      <td>NaN</td>\n",
       "      <td>NaN</td>\n",
       "      <td>NaN</td>\n",
       "      <td>NaN</td>\n",
       "      <td>NaN</td>\n",
       "      <td>NaN</td>\n",
       "      <td>NaN</td>\n",
       "      <td>NaN</td>\n",
       "      <td>NaN</td>\n",
       "      <td>NaN</td>\n",
       "      <td>NaN</td>\n",
       "      <td>NaN</td>\n",
       "      <td>NaN</td>\n",
       "      <td>NaN</td>\n",
       "      <td>NaN</td>\n",
       "      <td>NaN</td>\n",
       "      <td>NaN</td>\n",
       "      <td>NaN</td>\n",
       "      <td>NaN</td>\n",
       "      <td>NaN</td>\n",
       "      <td>NaN</td>\n",
       "      <td>NaN</td>\n",
       "      <td>3486.0</td>\n",
       "      <td>NaN</td>\n",
       "      <td>0.119</td>\n",
       "      <td>NaN</td>\n",
       "      <td>PrivacySuppressed</td>\n",
       "      <td>PrivacySuppressed</td>\n",
       "      <td>PrivacySuppressed</td>\n",
       "      <td>PrivacySuppressed</td>\n",
       "      <td>4625</td>\n",
       "      <td>15374</td>\n",
       "      <td>4617.5</td>\n",
       "      <td>4625.5</td>\n",
       "      <td>18979</td>\n",
       "      <td>NaN</td>\n",
       "      <td>NaN</td>\n",
       "      <td>NaN</td>\n",
       "      <td>1.0</td>\n",
       "      <td>NaN</td>\n",
       "      <td>1</td>\n",
       "      <td>NaN</td>\n",
       "      <td>NaN</td>\n",
       "      <td>NaN</td>\n",
       "      <td>NaN</td>\n",
       "      <td>NaN</td>\n",
       "      <td>NaN</td>\n",
       "      <td>NaN</td>\n",
       "      <td>NaN</td>\n",
       "      <td>NaN</td>\n",
       "      <td>NaN</td>\n",
       "      <td>NaN</td>\n",
       "      <td>NaN</td>\n",
       "      <td>NaN</td>\n",
       "      <td>NaN</td>\n",
       "    </tr>\n",
       "    <tr>\n",
       "      <th>2</th>\n",
       "      <td>100663</td>\n",
       "      <td>00105200</td>\n",
       "      <td>1052.0</td>\n",
       "      <td>University of Alabama at Birmingham</td>\n",
       "      <td>Birmingham</td>\n",
       "      <td>AL</td>\n",
       "      <td>35294-0110</td>\n",
       "      <td>NaN</td>\n",
       "      <td>NaN</td>\n",
       "      <td>1</td>\n",
       "      <td>1</td>\n",
       "      <td>3</td>\n",
       "      <td>4</td>\n",
       "      <td>1.0</td>\n",
       "      <td>NaN</td>\n",
       "      <td>NaN</td>\n",
       "      <td>NaN</td>\n",
       "      <td>0.0000</td>\n",
       "      <td>0.0000</td>\n",
       "      <td>0.0000</td>\n",
       "      <td>0.0352</td>\n",
       "      <td>0.0000</td>\n",
       "      <td>0.0224</td>\n",
       "      <td>0.0</td>\n",
       "      <td>0.1223</td>\n",
       "      <td>0.0525</td>\n",
       "      <td>0.0000</td>\n",
       "      <td>0.0051</td>\n",
       "      <td>0.0000</td>\n",
       "      <td>0.0000</td>\n",
       "      <td>0.0166</td>\n",
       "      <td>0.0</td>\n",
       "      <td>0.0</td>\n",
       "      <td>0.0743</td>\n",
       "      <td>0.0038</td>\n",
       "      <td>0.0000</td>\n",
       "      <td>0.0019</td>\n",
       "      <td>0.0000</td>\n",
       "      <td>0.0083</td>\n",
       "      <td>0.0</td>\n",
       "      <td>0.0134</td>\n",
       "      <td>0.0000</td>\n",
       "      <td>0.0794</td>\n",
       "      <td>0.0467</td>\n",
       "      <td>0.0173</td>\n",
       "      <td>0.0551</td>\n",
       "      <td>0.0</td>\n",
       "      <td>0.0000</td>\n",
       "      <td>0.0</td>\n",
       "      <td>0.0000</td>\n",
       "      <td>0.0262</td>\n",
       "      <td>0.1895</td>\n",
       "      <td>0.1914</td>\n",
       "      <td>0.0384</td>\n",
       "      <td>NaN</td>\n",
       "      <td>NaN</td>\n",
       "      <td>NaN</td>\n",
       "      <td>NaN</td>\n",
       "      <td>NaN</td>\n",
       "      <td>NaN</td>\n",
       "      <td>NaN</td>\n",
       "      <td>NaN</td>\n",
       "      <td>NaN</td>\n",
       "      <td>NaN</td>\n",
       "      <td>NaN</td>\n",
       "      <td>NaN</td>\n",
       "      <td>NaN</td>\n",
       "      <td>NaN</td>\n",
       "      <td>NaN</td>\n",
       "      <td>NaN</td>\n",
       "      <td>NaN</td>\n",
       "      <td>NaN</td>\n",
       "      <td>NaN</td>\n",
       "      <td>NaN</td>\n",
       "      <td>NaN</td>\n",
       "      <td>NaN</td>\n",
       "      <td>NaN</td>\n",
       "      <td>NaN</td>\n",
       "      <td>NaN</td>\n",
       "      <td>NaN</td>\n",
       "      <td>6348.0</td>\n",
       "      <td>NaN</td>\n",
       "      <td>0.054</td>\n",
       "      <td>NaN</td>\n",
       "      <td>PrivacySuppressed</td>\n",
       "      <td>PrivacySuppressed</td>\n",
       "      <td>PrivacySuppressed</td>\n",
       "      <td>PrivacySuppressed</td>\n",
       "      <td>5000</td>\n",
       "      <td>4125</td>\n",
       "      <td>4766.5</td>\n",
       "      <td>5250</td>\n",
       "      <td>22336</td>\n",
       "      <td>NaN</td>\n",
       "      <td>NaN</td>\n",
       "      <td>NaN</td>\n",
       "      <td>1.0</td>\n",
       "      <td>NaN</td>\n",
       "      <td>1</td>\n",
       "      <td>NaN</td>\n",
       "      <td>NaN</td>\n",
       "      <td>NaN</td>\n",
       "      <td>NaN</td>\n",
       "      <td>NaN</td>\n",
       "      <td>NaN</td>\n",
       "      <td>NaN</td>\n",
       "      <td>NaN</td>\n",
       "      <td>NaN</td>\n",
       "      <td>NaN</td>\n",
       "      <td>NaN</td>\n",
       "      <td>NaN</td>\n",
       "      <td>NaN</td>\n",
       "      <td>NaN</td>\n",
       "    </tr>\n",
       "    <tr>\n",
       "      <th>3</th>\n",
       "      <td>100690</td>\n",
       "      <td>02503400</td>\n",
       "      <td>25034.0</td>\n",
       "      <td>Amridge University</td>\n",
       "      <td>Montgomery</td>\n",
       "      <td>AL</td>\n",
       "      <td>36117-3553</td>\n",
       "      <td>NaN</td>\n",
       "      <td>NaN</td>\n",
       "      <td>1</td>\n",
       "      <td>1</td>\n",
       "      <td>3</td>\n",
       "      <td>4</td>\n",
       "      <td>2.0</td>\n",
       "      <td>NaN</td>\n",
       "      <td>NaN</td>\n",
       "      <td>NaN</td>\n",
       "      <td>0.0000</td>\n",
       "      <td>0.0000</td>\n",
       "      <td>0.0000</td>\n",
       "      <td>0.0000</td>\n",
       "      <td>0.0000</td>\n",
       "      <td>0.0000</td>\n",
       "      <td>0.0</td>\n",
       "      <td>0.0000</td>\n",
       "      <td>0.0000</td>\n",
       "      <td>0.0000</td>\n",
       "      <td>0.0000</td>\n",
       "      <td>0.0000</td>\n",
       "      <td>0.0000</td>\n",
       "      <td>0.0000</td>\n",
       "      <td>0.0</td>\n",
       "      <td>0.0</td>\n",
       "      <td>0.0000</td>\n",
       "      <td>0.0000</td>\n",
       "      <td>0.0000</td>\n",
       "      <td>0.0000</td>\n",
       "      <td>0.0000</td>\n",
       "      <td>0.0000</td>\n",
       "      <td>1.0</td>\n",
       "      <td>0.0000</td>\n",
       "      <td>0.0000</td>\n",
       "      <td>0.0000</td>\n",
       "      <td>0.0000</td>\n",
       "      <td>0.0000</td>\n",
       "      <td>0.0000</td>\n",
       "      <td>0.0</td>\n",
       "      <td>0.0000</td>\n",
       "      <td>0.0</td>\n",
       "      <td>0.0000</td>\n",
       "      <td>0.0000</td>\n",
       "      <td>0.0000</td>\n",
       "      <td>0.0000</td>\n",
       "      <td>0.0000</td>\n",
       "      <td>NaN</td>\n",
       "      <td>NaN</td>\n",
       "      <td>NaN</td>\n",
       "      <td>NaN</td>\n",
       "      <td>NaN</td>\n",
       "      <td>NaN</td>\n",
       "      <td>NaN</td>\n",
       "      <td>NaN</td>\n",
       "      <td>NaN</td>\n",
       "      <td>NaN</td>\n",
       "      <td>NaN</td>\n",
       "      <td>NaN</td>\n",
       "      <td>NaN</td>\n",
       "      <td>NaN</td>\n",
       "      <td>NaN</td>\n",
       "      <td>NaN</td>\n",
       "      <td>NaN</td>\n",
       "      <td>NaN</td>\n",
       "      <td>NaN</td>\n",
       "      <td>NaN</td>\n",
       "      <td>NaN</td>\n",
       "      <td>NaN</td>\n",
       "      <td>NaN</td>\n",
       "      <td>NaN</td>\n",
       "      <td>NaN</td>\n",
       "      <td>NaN</td>\n",
       "      <td>5397.0</td>\n",
       "      <td>NaN</td>\n",
       "      <td>0.016</td>\n",
       "      <td>NaN</td>\n",
       "      <td>PrivacySuppressed</td>\n",
       "      <td>PrivacySuppressed</td>\n",
       "      <td>PrivacySuppressed</td>\n",
       "      <td>PrivacySuppressed</td>\n",
       "      <td>5655.5</td>\n",
       "      <td>9900</td>\n",
       "      <td>5500</td>\n",
       "      <td>8087</td>\n",
       "      <td>24892</td>\n",
       "      <td>NaN</td>\n",
       "      <td>NaN</td>\n",
       "      <td>NaN</td>\n",
       "      <td>1.0</td>\n",
       "      <td>NaN</td>\n",
       "      <td>1</td>\n",
       "      <td>NaN</td>\n",
       "      <td>NaN</td>\n",
       "      <td>NaN</td>\n",
       "      <td>NaN</td>\n",
       "      <td>NaN</td>\n",
       "      <td>NaN</td>\n",
       "      <td>NaN</td>\n",
       "      <td>NaN</td>\n",
       "      <td>NaN</td>\n",
       "      <td>NaN</td>\n",
       "      <td>NaN</td>\n",
       "      <td>NaN</td>\n",
       "      <td>NaN</td>\n",
       "      <td>NaN</td>\n",
       "    </tr>\n",
       "    <tr>\n",
       "      <th>4</th>\n",
       "      <td>100706</td>\n",
       "      <td>00105500</td>\n",
       "      <td>1055.0</td>\n",
       "      <td>University of Alabama in Huntsville</td>\n",
       "      <td>Huntsville</td>\n",
       "      <td>AL</td>\n",
       "      <td>35899</td>\n",
       "      <td>NaN</td>\n",
       "      <td>NaN</td>\n",
       "      <td>1</td>\n",
       "      <td>1</td>\n",
       "      <td>3</td>\n",
       "      <td>4</td>\n",
       "      <td>1.0</td>\n",
       "      <td>NaN</td>\n",
       "      <td>NaN</td>\n",
       "      <td>NaN</td>\n",
       "      <td>0.0000</td>\n",
       "      <td>0.0000</td>\n",
       "      <td>0.0015</td>\n",
       "      <td>0.0000</td>\n",
       "      <td>0.0000</td>\n",
       "      <td>0.0550</td>\n",
       "      <td>0.0</td>\n",
       "      <td>0.0267</td>\n",
       "      <td>0.2719</td>\n",
       "      <td>0.0000</td>\n",
       "      <td>0.0208</td>\n",
       "      <td>0.0000</td>\n",
       "      <td>0.0000</td>\n",
       "      <td>0.0416</td>\n",
       "      <td>0.0</td>\n",
       "      <td>0.0</td>\n",
       "      <td>0.0475</td>\n",
       "      <td>0.0134</td>\n",
       "      <td>0.0000</td>\n",
       "      <td>0.0000</td>\n",
       "      <td>0.0000</td>\n",
       "      <td>0.0045</td>\n",
       "      <td>0.0</td>\n",
       "      <td>0.0208</td>\n",
       "      <td>0.0000</td>\n",
       "      <td>0.0208</td>\n",
       "      <td>0.0000</td>\n",
       "      <td>0.0000</td>\n",
       "      <td>0.0238</td>\n",
       "      <td>0.0</td>\n",
       "      <td>0.0000</td>\n",
       "      <td>0.0</td>\n",
       "      <td>0.0000</td>\n",
       "      <td>0.0223</td>\n",
       "      <td>0.1694</td>\n",
       "      <td>0.2392</td>\n",
       "      <td>0.0208</td>\n",
       "      <td>NaN</td>\n",
       "      <td>NaN</td>\n",
       "      <td>NaN</td>\n",
       "      <td>NaN</td>\n",
       "      <td>NaN</td>\n",
       "      <td>NaN</td>\n",
       "      <td>NaN</td>\n",
       "      <td>NaN</td>\n",
       "      <td>NaN</td>\n",
       "      <td>NaN</td>\n",
       "      <td>NaN</td>\n",
       "      <td>NaN</td>\n",
       "      <td>NaN</td>\n",
       "      <td>NaN</td>\n",
       "      <td>NaN</td>\n",
       "      <td>NaN</td>\n",
       "      <td>NaN</td>\n",
       "      <td>NaN</td>\n",
       "      <td>NaN</td>\n",
       "      <td>NaN</td>\n",
       "      <td>NaN</td>\n",
       "      <td>NaN</td>\n",
       "      <td>NaN</td>\n",
       "      <td>NaN</td>\n",
       "      <td>NaN</td>\n",
       "      <td>NaN</td>\n",
       "      <td>4200.0</td>\n",
       "      <td>NaN</td>\n",
       "      <td>0.048</td>\n",
       "      <td>NaN</td>\n",
       "      <td>PrivacySuppressed</td>\n",
       "      <td>PrivacySuppressed</td>\n",
       "      <td>PrivacySuppressed</td>\n",
       "      <td>PrivacySuppressed</td>\n",
       "      <td>5500</td>\n",
       "      <td>12001.5</td>\n",
       "      <td>5500</td>\n",
       "      <td>5250</td>\n",
       "      <td>27289.5</td>\n",
       "      <td>NaN</td>\n",
       "      <td>NaN</td>\n",
       "      <td>NaN</td>\n",
       "      <td>1.0</td>\n",
       "      <td>NaN</td>\n",
       "      <td>1</td>\n",
       "      <td>NaN</td>\n",
       "      <td>NaN</td>\n",
       "      <td>NaN</td>\n",
       "      <td>NaN</td>\n",
       "      <td>NaN</td>\n",
       "      <td>NaN</td>\n",
       "      <td>NaN</td>\n",
       "      <td>NaN</td>\n",
       "      <td>NaN</td>\n",
       "      <td>NaN</td>\n",
       "      <td>NaN</td>\n",
       "      <td>NaN</td>\n",
       "      <td>NaN</td>\n",
       "      <td>NaN</td>\n",
       "    </tr>\n",
       "  </tbody>\n",
       "</table>\n",
       "</div>"
      ],
      "text/plain": [
       "             UNITID     OPEID   OPEID6                               INSTNM  \\\n",
       "year rowNum                                                                   \n",
       "2000 0       100636  01230800  12308.0   Community College of the Air Force   \n",
       "     1       100654  00100200   1002.0             Alabama A & M University   \n",
       "     2       100663  00105200   1052.0  University of Alabama at Birmingham   \n",
       "     3       100690  02503400  25034.0                   Amridge University   \n",
       "     4       100706  00105500   1055.0  University of Alabama in Huntsville   \n",
       "\n",
       "                   CITY STABBR         ZIP  ACCREDAGENCY  HCM2  MAIN  \\\n",
       "year rowNum                                                            \n",
       "2000 0       Montgomery     AL  36114-3011           NaN   NaN     1   \n",
       "     1           Normal     AL       35762           NaN   NaN     1   \n",
       "     2       Birmingham     AL  35294-0110           NaN   NaN     1   \n",
       "     3       Montgomery     AL  36117-3553           NaN   NaN     1   \n",
       "     4       Huntsville     AL       35899           NaN   NaN     1   \n",
       "\n",
       "             NUMBRANCH  PREDDEG  HIGHDEG  CONTROL  ADM_RATE  ADM_RATE_ALL  \\\n",
       "year rowNum                                                                 \n",
       "2000 0               1        2        2      1.0       NaN           NaN   \n",
       "     1               1        3        4      1.0       NaN           NaN   \n",
       "     2               1        3        4      1.0       NaN           NaN   \n",
       "     3               1        3        4      2.0       NaN           NaN   \n",
       "     4               1        3        4      1.0       NaN           NaN   \n",
       "\n",
       "             SAT_AVG_ALL  PCIP01  PCIP03  PCIP05  PCIP09  PCIP10  PCIP11  \\\n",
       "year rowNum                                                                \n",
       "2000 0               NaN  0.0000  0.0000  0.0000  0.0024  0.0420  0.0115   \n",
       "     1               NaN  0.0624  0.0183  0.0000  0.0000  0.0239  0.0349   \n",
       "     2               NaN  0.0000  0.0000  0.0000  0.0352  0.0000  0.0224   \n",
       "     3               NaN  0.0000  0.0000  0.0000  0.0000  0.0000  0.0000   \n",
       "     4               NaN  0.0000  0.0000  0.0015  0.0000  0.0000  0.0550   \n",
       "\n",
       "             PCIP12  PCIP13  PCIP14  PCIP15  PCIP16  PCIP19  PCIP22  PCIP23  \\\n",
       "year rowNum                                                                   \n",
       "2000 0          0.0  0.0888  0.0000  0.1370  0.0000  0.0020  0.0065  0.0000   \n",
       "     1          0.0  0.2569  0.0183  0.1083  0.0000  0.0294  0.0000  0.0092   \n",
       "     2          0.0  0.1223  0.0525  0.0000  0.0051  0.0000  0.0000  0.0166   \n",
       "     3          0.0  0.0000  0.0000  0.0000  0.0000  0.0000  0.0000  0.0000   \n",
       "     4          0.0  0.0267  0.2719  0.0000  0.0208  0.0000  0.0000  0.0416   \n",
       "\n",
       "             PCIP24  PCIP25  PCIP26  PCIP27  PCIP29  PCIP30  PCIP31  PCIP38  \\\n",
       "year rowNum                                                                   \n",
       "2000 0          0.0     0.0  0.0000  0.0000  0.0583  0.0000  0.0077  0.0000   \n",
       "     1          0.0     0.0  0.0661  0.0202  0.0000  0.0000  0.0000  0.0000   \n",
       "     2          0.0     0.0  0.0743  0.0038  0.0000  0.0019  0.0000  0.0083   \n",
       "     3          0.0     0.0  0.0000  0.0000  0.0000  0.0000  0.0000  0.0000   \n",
       "     4          0.0     0.0  0.0475  0.0134  0.0000  0.0000  0.0000  0.0045   \n",
       "\n",
       "             PCIP39  PCIP40  PCIP41  PCIP42  PCIP43  PCIP44  PCIP45  PCIP46  \\\n",
       "year rowNum                                                                   \n",
       "2000 0          0.0  0.0084  0.0019  0.0000  0.0746  0.0032  0.0000     0.0   \n",
       "     1          0.0  0.0183  0.0000  0.0514  0.0000  0.0440  0.0422     0.0   \n",
       "     2          0.0  0.0134  0.0000  0.0794  0.0467  0.0173  0.0551     0.0   \n",
       "     3          1.0  0.0000  0.0000  0.0000  0.0000  0.0000  0.0000     0.0   \n",
       "     4          0.0  0.0208  0.0000  0.0208  0.0000  0.0000  0.0238     0.0   \n",
       "\n",
       "             PCIP47  PCIP48  PCIP49  PCIP50  PCIP51  PCIP52  PCIP54  \\\n",
       "year rowNum                                                           \n",
       "2000 0       0.1973     0.0  0.0517  0.0064  0.0777  0.2225  0.0003   \n",
       "     1       0.0000     0.0  0.0000  0.0037  0.0000  0.1798  0.0018   \n",
       "     2       0.0000     0.0  0.0000  0.0262  0.1895  0.1914  0.0384   \n",
       "     3       0.0000     0.0  0.0000  0.0000  0.0000  0.0000  0.0000   \n",
       "     4       0.0000     0.0  0.0000  0.0223  0.1694  0.2392  0.0208   \n",
       "\n",
       "             DISTANCEONLY  UGDS  UGDS_WHITE  UGDS_BLACK  UGDS_HISP  \\\n",
       "year rowNum                                                          \n",
       "2000 0                NaN   NaN         NaN         NaN        NaN   \n",
       "     1                NaN   NaN         NaN         NaN        NaN   \n",
       "     2                NaN   NaN         NaN         NaN        NaN   \n",
       "     3                NaN   NaN         NaN         NaN        NaN   \n",
       "     4                NaN   NaN         NaN         NaN        NaN   \n",
       "\n",
       "             UGDS_ASIAN  CURROPER  NPT4_PUB  NPT4_PRIV  NPT41_PUB  NPT42_PUB  \\\n",
       "year rowNum                                                                    \n",
       "2000 0              NaN       NaN       NaN        NaN        NaN        NaN   \n",
       "     1              NaN       NaN       NaN        NaN        NaN        NaN   \n",
       "     2              NaN       NaN       NaN        NaN        NaN        NaN   \n",
       "     3              NaN       NaN       NaN        NaN        NaN        NaN   \n",
       "     4              NaN       NaN       NaN        NaN        NaN        NaN   \n",
       "\n",
       "             NPT43_PUB  NPT41_PRIV  NPT42_PRIV  NPT43_PRIV  NUM41_PUB  \\\n",
       "year rowNum                                                             \n",
       "2000 0             NaN         NaN         NaN         NaN        NaN   \n",
       "     1             NaN         NaN         NaN         NaN        NaN   \n",
       "     2             NaN         NaN         NaN         NaN        NaN   \n",
       "     3             NaN         NaN         NaN         NaN        NaN   \n",
       "     4             NaN         NaN         NaN         NaN        NaN   \n",
       "\n",
       "             NUM42_PUB  NUM43_PUB  NUM44_PUB  NUM45_PUB  NUM41_PRIV  \\\n",
       "year rowNum                                                           \n",
       "2000 0             NaN        NaN        NaN        NaN         NaN   \n",
       "     1             NaN        NaN        NaN        NaN         NaN   \n",
       "     2             NaN        NaN        NaN        NaN         NaN   \n",
       "     3             NaN        NaN        NaN        NaN         NaN   \n",
       "     4             NaN        NaN        NaN        NaN         NaN   \n",
       "\n",
       "             NUM42_PRIV  NUM43_PRIV  NUM44_PRIV  NUM45_PRIV  COSTT4_A  \\\n",
       "year rowNum                                                             \n",
       "2000 0              NaN         NaN         NaN         NaN       NaN   \n",
       "     1              NaN         NaN         NaN         NaN       NaN   \n",
       "     2              NaN         NaN         NaN         NaN       NaN   \n",
       "     3              NaN         NaN         NaN         NaN       NaN   \n",
       "     4              NaN         NaN         NaN         NaN       NaN   \n",
       "\n",
       "             TUITFTE  PCTFLOAN   CDR2  CDR3       DEATH_YR2_RT  \\\n",
       "year rowNum                                                      \n",
       "2000 0           0.0       NaN    NaN   NaN                NaN   \n",
       "     1        3486.0       NaN  0.119   NaN  PrivacySuppressed   \n",
       "     2        6348.0       NaN  0.054   NaN  PrivacySuppressed   \n",
       "     3        5397.0       NaN  0.016   NaN  PrivacySuppressed   \n",
       "     4        4200.0       NaN  0.048   NaN  PrivacySuppressed   \n",
       "\n",
       "            LO_INC_DEATH_YR2_RT MD_INC_DEATH_YR2_RT HI_INC_DEATH_YR2_RT  \\\n",
       "year rowNum                                                               \n",
       "2000 0                      NaN                 NaN                 NaN   \n",
       "     1        PrivacySuppressed   PrivacySuppressed   PrivacySuppressed   \n",
       "     2        PrivacySuppressed   PrivacySuppressed   PrivacySuppressed   \n",
       "     3        PrivacySuppressed   PrivacySuppressed   PrivacySuppressed   \n",
       "     4        PrivacySuppressed   PrivacySuppressed   PrivacySuppressed   \n",
       "\n",
       "            DEBT_MDN GRAD_DEBT_MDN PELL_DEBT_MDN NOPELL_DEBT_MDN MD_FAMINC  \\\n",
       "year rowNum                                                                  \n",
       "2000 0           NaN           NaN           NaN             NaN       NaN   \n",
       "     1          4625         15374        4617.5          4625.5     18979   \n",
       "     2          5000          4125        4766.5            5250     22336   \n",
       "     3        5655.5          9900          5500            8087     24892   \n",
       "     4          5500       12001.5          5500            5250   27289.5   \n",
       "\n",
       "            MD_EARN_WNE_P6 MD_EARN_WNE_P8  C100_4  ICLEVEL  \\\n",
       "year rowNum                                                  \n",
       "2000 0                 NaN            NaN     NaN      2.0   \n",
       "     1                 NaN            NaN     NaN      1.0   \n",
       "     2                 NaN            NaN     NaN      1.0   \n",
       "     3                 NaN            NaN     NaN      1.0   \n",
       "     4                 NaN            NaN     NaN      1.0   \n",
       "\n",
       "             C100_4_POOLED_SUPP  OPEFLAG  CIPCODE1  CIPCODE2  CIPCODE3  \\\n",
       "year rowNum                                                              \n",
       "2000 0                      NaN        3       NaN       NaN       NaN   \n",
       "     1                      NaN        1       NaN       NaN       NaN   \n",
       "     2                      NaN        1       NaN       NaN       NaN   \n",
       "     3                      NaN        1       NaN       NaN       NaN   \n",
       "     4                      NaN        1       NaN       NaN       NaN   \n",
       "\n",
       "             FTFTPCTPELL  FTFTPCTFLOAN PLUS_DEBT_INST_MD  \\\n",
       "year rowNum                                                \n",
       "2000 0               NaN           NaN               NaN   \n",
       "     1               NaN           NaN               NaN   \n",
       "     2               NaN           NaN               NaN   \n",
       "     3               NaN           NaN               NaN   \n",
       "     4               NaN           NaN               NaN   \n",
       "\n",
       "            BBRR1_FED_UG_MAKEPROG BBRR1_FED_UG_PAIDINFULL  \\\n",
       "year rowNum                                                 \n",
       "2000 0                        NaN                     NaN   \n",
       "     1                        NaN                     NaN   \n",
       "     2                        NaN                     NaN   \n",
       "     3                        NaN                     NaN   \n",
       "     4                        NaN                     NaN   \n",
       "\n",
       "             MD_EARN_WNE_INC1_P6  MD_EARN_WNE_INC2_P6  MD_EARN_WNE_INC3_P6  \\\n",
       "year rowNum                                                                  \n",
       "2000 0                       NaN                  NaN                  NaN   \n",
       "     1                       NaN                  NaN                  NaN   \n",
       "     2                       NaN                  NaN                  NaN   \n",
       "     3                       NaN                  NaN                  NaN   \n",
       "     4                       NaN                  NaN                  NaN   \n",
       "\n",
       "             STUFACR  MD_EARN_WNE_1YR  MD_EARN_WNE_4YR  \n",
       "year rowNum                                             \n",
       "2000 0           NaN              NaN              NaN  \n",
       "     1           NaN              NaN              NaN  \n",
       "     2           NaN              NaN              NaN  \n",
       "     3           NaN              NaN              NaN  \n",
       "     4           NaN              NaN              NaN  "
      ]
     },
     "execution_count": 4,
     "metadata": {},
     "output_type": "execute_result"
    }
   ],
   "source": [
    "main = df[df['MAIN'] == 1]\n",
    "shape = main.shape\n",
    "nullPercent = main['OPEFLAG'].isna().mean() * 100\n",
    "\n",
    "print(\"[+] mainShape: \", shape, \" titleIVNull: \", nullPercent)\n",
    "main.head()"
   ]
  },
  {
   "cell_type": "code",
   "execution_count": 5,
   "metadata": {},
   "outputs": [
    {
     "name": "stdout",
     "output_type": "stream",
     "text": [
      "[+] titleIVShape:  (121696, 113)  IclevelNull:  0.0\n"
     ]
    },
    {
     "data": {
      "text/html": [
       "<div>\n",
       "<style scoped>\n",
       "    .dataframe tbody tr th:only-of-type {\n",
       "        vertical-align: middle;\n",
       "    }\n",
       "\n",
       "    .dataframe tbody tr th {\n",
       "        vertical-align: top;\n",
       "    }\n",
       "\n",
       "    .dataframe thead th {\n",
       "        text-align: right;\n",
       "    }\n",
       "</style>\n",
       "<table border=\"1\" class=\"dataframe\">\n",
       "  <thead>\n",
       "    <tr style=\"text-align: right;\">\n",
       "      <th></th>\n",
       "      <th></th>\n",
       "      <th>UNITID</th>\n",
       "      <th>OPEID</th>\n",
       "      <th>OPEID6</th>\n",
       "      <th>INSTNM</th>\n",
       "      <th>CITY</th>\n",
       "      <th>STABBR</th>\n",
       "      <th>ZIP</th>\n",
       "      <th>ACCREDAGENCY</th>\n",
       "      <th>HCM2</th>\n",
       "      <th>MAIN</th>\n",
       "      <th>NUMBRANCH</th>\n",
       "      <th>PREDDEG</th>\n",
       "      <th>HIGHDEG</th>\n",
       "      <th>CONTROL</th>\n",
       "      <th>ADM_RATE</th>\n",
       "      <th>ADM_RATE_ALL</th>\n",
       "      <th>SAT_AVG_ALL</th>\n",
       "      <th>PCIP01</th>\n",
       "      <th>PCIP03</th>\n",
       "      <th>PCIP05</th>\n",
       "      <th>PCIP09</th>\n",
       "      <th>PCIP10</th>\n",
       "      <th>PCIP11</th>\n",
       "      <th>PCIP12</th>\n",
       "      <th>PCIP13</th>\n",
       "      <th>PCIP14</th>\n",
       "      <th>PCIP15</th>\n",
       "      <th>PCIP16</th>\n",
       "      <th>PCIP19</th>\n",
       "      <th>PCIP22</th>\n",
       "      <th>PCIP23</th>\n",
       "      <th>PCIP24</th>\n",
       "      <th>PCIP25</th>\n",
       "      <th>PCIP26</th>\n",
       "      <th>PCIP27</th>\n",
       "      <th>PCIP29</th>\n",
       "      <th>PCIP30</th>\n",
       "      <th>PCIP31</th>\n",
       "      <th>PCIP38</th>\n",
       "      <th>PCIP39</th>\n",
       "      <th>PCIP40</th>\n",
       "      <th>PCIP41</th>\n",
       "      <th>PCIP42</th>\n",
       "      <th>PCIP43</th>\n",
       "      <th>PCIP44</th>\n",
       "      <th>PCIP45</th>\n",
       "      <th>PCIP46</th>\n",
       "      <th>PCIP47</th>\n",
       "      <th>PCIP48</th>\n",
       "      <th>PCIP49</th>\n",
       "      <th>PCIP50</th>\n",
       "      <th>PCIP51</th>\n",
       "      <th>PCIP52</th>\n",
       "      <th>PCIP54</th>\n",
       "      <th>DISTANCEONLY</th>\n",
       "      <th>UGDS</th>\n",
       "      <th>UGDS_WHITE</th>\n",
       "      <th>UGDS_BLACK</th>\n",
       "      <th>UGDS_HISP</th>\n",
       "      <th>UGDS_ASIAN</th>\n",
       "      <th>CURROPER</th>\n",
       "      <th>NPT4_PUB</th>\n",
       "      <th>NPT4_PRIV</th>\n",
       "      <th>NPT41_PUB</th>\n",
       "      <th>NPT42_PUB</th>\n",
       "      <th>NPT43_PUB</th>\n",
       "      <th>NPT41_PRIV</th>\n",
       "      <th>NPT42_PRIV</th>\n",
       "      <th>NPT43_PRIV</th>\n",
       "      <th>NUM41_PUB</th>\n",
       "      <th>NUM42_PUB</th>\n",
       "      <th>NUM43_PUB</th>\n",
       "      <th>NUM44_PUB</th>\n",
       "      <th>NUM45_PUB</th>\n",
       "      <th>NUM41_PRIV</th>\n",
       "      <th>NUM42_PRIV</th>\n",
       "      <th>NUM43_PRIV</th>\n",
       "      <th>NUM44_PRIV</th>\n",
       "      <th>NUM45_PRIV</th>\n",
       "      <th>COSTT4_A</th>\n",
       "      <th>TUITFTE</th>\n",
       "      <th>PCTFLOAN</th>\n",
       "      <th>CDR2</th>\n",
       "      <th>CDR3</th>\n",
       "      <th>DEATH_YR2_RT</th>\n",
       "      <th>LO_INC_DEATH_YR2_RT</th>\n",
       "      <th>MD_INC_DEATH_YR2_RT</th>\n",
       "      <th>HI_INC_DEATH_YR2_RT</th>\n",
       "      <th>DEBT_MDN</th>\n",
       "      <th>GRAD_DEBT_MDN</th>\n",
       "      <th>PELL_DEBT_MDN</th>\n",
       "      <th>NOPELL_DEBT_MDN</th>\n",
       "      <th>MD_FAMINC</th>\n",
       "      <th>MD_EARN_WNE_P6</th>\n",
       "      <th>MD_EARN_WNE_P8</th>\n",
       "      <th>C100_4</th>\n",
       "      <th>ICLEVEL</th>\n",
       "      <th>C100_4_POOLED_SUPP</th>\n",
       "      <th>OPEFLAG</th>\n",
       "      <th>CIPCODE1</th>\n",
       "      <th>CIPCODE2</th>\n",
       "      <th>CIPCODE3</th>\n",
       "      <th>FTFTPCTPELL</th>\n",
       "      <th>FTFTPCTFLOAN</th>\n",
       "      <th>PLUS_DEBT_INST_MD</th>\n",
       "      <th>BBRR1_FED_UG_MAKEPROG</th>\n",
       "      <th>BBRR1_FED_UG_PAIDINFULL</th>\n",
       "      <th>MD_EARN_WNE_INC1_P6</th>\n",
       "      <th>MD_EARN_WNE_INC2_P6</th>\n",
       "      <th>MD_EARN_WNE_INC3_P6</th>\n",
       "      <th>STUFACR</th>\n",
       "      <th>MD_EARN_WNE_1YR</th>\n",
       "      <th>MD_EARN_WNE_4YR</th>\n",
       "    </tr>\n",
       "    <tr>\n",
       "      <th>year</th>\n",
       "      <th>rowNum</th>\n",
       "      <th></th>\n",
       "      <th></th>\n",
       "      <th></th>\n",
       "      <th></th>\n",
       "      <th></th>\n",
       "      <th></th>\n",
       "      <th></th>\n",
       "      <th></th>\n",
       "      <th></th>\n",
       "      <th></th>\n",
       "      <th></th>\n",
       "      <th></th>\n",
       "      <th></th>\n",
       "      <th></th>\n",
       "      <th></th>\n",
       "      <th></th>\n",
       "      <th></th>\n",
       "      <th></th>\n",
       "      <th></th>\n",
       "      <th></th>\n",
       "      <th></th>\n",
       "      <th></th>\n",
       "      <th></th>\n",
       "      <th></th>\n",
       "      <th></th>\n",
       "      <th></th>\n",
       "      <th></th>\n",
       "      <th></th>\n",
       "      <th></th>\n",
       "      <th></th>\n",
       "      <th></th>\n",
       "      <th></th>\n",
       "      <th></th>\n",
       "      <th></th>\n",
       "      <th></th>\n",
       "      <th></th>\n",
       "      <th></th>\n",
       "      <th></th>\n",
       "      <th></th>\n",
       "      <th></th>\n",
       "      <th></th>\n",
       "      <th></th>\n",
       "      <th></th>\n",
       "      <th></th>\n",
       "      <th></th>\n",
       "      <th></th>\n",
       "      <th></th>\n",
       "      <th></th>\n",
       "      <th></th>\n",
       "      <th></th>\n",
       "      <th></th>\n",
       "      <th></th>\n",
       "      <th></th>\n",
       "      <th></th>\n",
       "      <th></th>\n",
       "      <th></th>\n",
       "      <th></th>\n",
       "      <th></th>\n",
       "      <th></th>\n",
       "      <th></th>\n",
       "      <th></th>\n",
       "      <th></th>\n",
       "      <th></th>\n",
       "      <th></th>\n",
       "      <th></th>\n",
       "      <th></th>\n",
       "      <th></th>\n",
       "      <th></th>\n",
       "      <th></th>\n",
       "      <th></th>\n",
       "      <th></th>\n",
       "      <th></th>\n",
       "      <th></th>\n",
       "      <th></th>\n",
       "      <th></th>\n",
       "      <th></th>\n",
       "      <th></th>\n",
       "      <th></th>\n",
       "      <th></th>\n",
       "      <th></th>\n",
       "      <th></th>\n",
       "      <th></th>\n",
       "      <th></th>\n",
       "      <th></th>\n",
       "      <th></th>\n",
       "      <th></th>\n",
       "      <th></th>\n",
       "      <th></th>\n",
       "      <th></th>\n",
       "      <th></th>\n",
       "      <th></th>\n",
       "      <th></th>\n",
       "      <th></th>\n",
       "      <th></th>\n",
       "      <th></th>\n",
       "      <th></th>\n",
       "      <th></th>\n",
       "      <th></th>\n",
       "      <th></th>\n",
       "      <th></th>\n",
       "      <th></th>\n",
       "      <th></th>\n",
       "      <th></th>\n",
       "      <th></th>\n",
       "      <th></th>\n",
       "      <th></th>\n",
       "      <th></th>\n",
       "      <th></th>\n",
       "      <th></th>\n",
       "      <th></th>\n",
       "      <th></th>\n",
       "      <th></th>\n",
       "      <th></th>\n",
       "    </tr>\n",
       "  </thead>\n",
       "  <tbody>\n",
       "    <tr>\n",
       "      <th rowspan=\"5\" valign=\"top\">2000</th>\n",
       "      <th>1</th>\n",
       "      <td>100654</td>\n",
       "      <td>00100200</td>\n",
       "      <td>1002.0</td>\n",
       "      <td>Alabama A &amp; M University</td>\n",
       "      <td>Normal</td>\n",
       "      <td>AL</td>\n",
       "      <td>35762</td>\n",
       "      <td>NaN</td>\n",
       "      <td>NaN</td>\n",
       "      <td>1</td>\n",
       "      <td>1</td>\n",
       "      <td>3</td>\n",
       "      <td>4</td>\n",
       "      <td>1.0</td>\n",
       "      <td>NaN</td>\n",
       "      <td>NaN</td>\n",
       "      <td>NaN</td>\n",
       "      <td>0.0624</td>\n",
       "      <td>0.0183</td>\n",
       "      <td>0.0000</td>\n",
       "      <td>0.0000</td>\n",
       "      <td>0.0239</td>\n",
       "      <td>0.0349</td>\n",
       "      <td>0.0</td>\n",
       "      <td>0.2569</td>\n",
       "      <td>0.0183</td>\n",
       "      <td>0.1083</td>\n",
       "      <td>0.0000</td>\n",
       "      <td>0.0294</td>\n",
       "      <td>0.0</td>\n",
       "      <td>0.0092</td>\n",
       "      <td>0.0</td>\n",
       "      <td>0.0</td>\n",
       "      <td>0.0661</td>\n",
       "      <td>0.0202</td>\n",
       "      <td>0.0</td>\n",
       "      <td>0.0000</td>\n",
       "      <td>0.0000</td>\n",
       "      <td>0.0000</td>\n",
       "      <td>0.0</td>\n",
       "      <td>0.0183</td>\n",
       "      <td>0.0</td>\n",
       "      <td>0.0514</td>\n",
       "      <td>0.0000</td>\n",
       "      <td>0.0440</td>\n",
       "      <td>0.0422</td>\n",
       "      <td>0.0</td>\n",
       "      <td>0.0</td>\n",
       "      <td>0.0</td>\n",
       "      <td>0.0</td>\n",
       "      <td>0.0037</td>\n",
       "      <td>0.0000</td>\n",
       "      <td>0.1798</td>\n",
       "      <td>0.0018</td>\n",
       "      <td>NaN</td>\n",
       "      <td>NaN</td>\n",
       "      <td>NaN</td>\n",
       "      <td>NaN</td>\n",
       "      <td>NaN</td>\n",
       "      <td>NaN</td>\n",
       "      <td>NaN</td>\n",
       "      <td>NaN</td>\n",
       "      <td>NaN</td>\n",
       "      <td>NaN</td>\n",
       "      <td>NaN</td>\n",
       "      <td>NaN</td>\n",
       "      <td>NaN</td>\n",
       "      <td>NaN</td>\n",
       "      <td>NaN</td>\n",
       "      <td>NaN</td>\n",
       "      <td>NaN</td>\n",
       "      <td>NaN</td>\n",
       "      <td>NaN</td>\n",
       "      <td>NaN</td>\n",
       "      <td>NaN</td>\n",
       "      <td>NaN</td>\n",
       "      <td>NaN</td>\n",
       "      <td>NaN</td>\n",
       "      <td>NaN</td>\n",
       "      <td>NaN</td>\n",
       "      <td>3486.0</td>\n",
       "      <td>NaN</td>\n",
       "      <td>0.119</td>\n",
       "      <td>NaN</td>\n",
       "      <td>PrivacySuppressed</td>\n",
       "      <td>PrivacySuppressed</td>\n",
       "      <td>PrivacySuppressed</td>\n",
       "      <td>PrivacySuppressed</td>\n",
       "      <td>4625</td>\n",
       "      <td>15374</td>\n",
       "      <td>4617.5</td>\n",
       "      <td>4625.5</td>\n",
       "      <td>18979</td>\n",
       "      <td>NaN</td>\n",
       "      <td>NaN</td>\n",
       "      <td>NaN</td>\n",
       "      <td>1.0</td>\n",
       "      <td>NaN</td>\n",
       "      <td>1</td>\n",
       "      <td>NaN</td>\n",
       "      <td>NaN</td>\n",
       "      <td>NaN</td>\n",
       "      <td>NaN</td>\n",
       "      <td>NaN</td>\n",
       "      <td>NaN</td>\n",
       "      <td>NaN</td>\n",
       "      <td>NaN</td>\n",
       "      <td>NaN</td>\n",
       "      <td>NaN</td>\n",
       "      <td>NaN</td>\n",
       "      <td>NaN</td>\n",
       "      <td>NaN</td>\n",
       "      <td>NaN</td>\n",
       "    </tr>\n",
       "    <tr>\n",
       "      <th>2</th>\n",
       "      <td>100663</td>\n",
       "      <td>00105200</td>\n",
       "      <td>1052.0</td>\n",
       "      <td>University of Alabama at Birmingham</td>\n",
       "      <td>Birmingham</td>\n",
       "      <td>AL</td>\n",
       "      <td>35294-0110</td>\n",
       "      <td>NaN</td>\n",
       "      <td>NaN</td>\n",
       "      <td>1</td>\n",
       "      <td>1</td>\n",
       "      <td>3</td>\n",
       "      <td>4</td>\n",
       "      <td>1.0</td>\n",
       "      <td>NaN</td>\n",
       "      <td>NaN</td>\n",
       "      <td>NaN</td>\n",
       "      <td>0.0000</td>\n",
       "      <td>0.0000</td>\n",
       "      <td>0.0000</td>\n",
       "      <td>0.0352</td>\n",
       "      <td>0.0000</td>\n",
       "      <td>0.0224</td>\n",
       "      <td>0.0</td>\n",
       "      <td>0.1223</td>\n",
       "      <td>0.0525</td>\n",
       "      <td>0.0000</td>\n",
       "      <td>0.0051</td>\n",
       "      <td>0.0000</td>\n",
       "      <td>0.0</td>\n",
       "      <td>0.0166</td>\n",
       "      <td>0.0</td>\n",
       "      <td>0.0</td>\n",
       "      <td>0.0743</td>\n",
       "      <td>0.0038</td>\n",
       "      <td>0.0</td>\n",
       "      <td>0.0019</td>\n",
       "      <td>0.0000</td>\n",
       "      <td>0.0083</td>\n",
       "      <td>0.0</td>\n",
       "      <td>0.0134</td>\n",
       "      <td>0.0</td>\n",
       "      <td>0.0794</td>\n",
       "      <td>0.0467</td>\n",
       "      <td>0.0173</td>\n",
       "      <td>0.0551</td>\n",
       "      <td>0.0</td>\n",
       "      <td>0.0</td>\n",
       "      <td>0.0</td>\n",
       "      <td>0.0</td>\n",
       "      <td>0.0262</td>\n",
       "      <td>0.1895</td>\n",
       "      <td>0.1914</td>\n",
       "      <td>0.0384</td>\n",
       "      <td>NaN</td>\n",
       "      <td>NaN</td>\n",
       "      <td>NaN</td>\n",
       "      <td>NaN</td>\n",
       "      <td>NaN</td>\n",
       "      <td>NaN</td>\n",
       "      <td>NaN</td>\n",
       "      <td>NaN</td>\n",
       "      <td>NaN</td>\n",
       "      <td>NaN</td>\n",
       "      <td>NaN</td>\n",
       "      <td>NaN</td>\n",
       "      <td>NaN</td>\n",
       "      <td>NaN</td>\n",
       "      <td>NaN</td>\n",
       "      <td>NaN</td>\n",
       "      <td>NaN</td>\n",
       "      <td>NaN</td>\n",
       "      <td>NaN</td>\n",
       "      <td>NaN</td>\n",
       "      <td>NaN</td>\n",
       "      <td>NaN</td>\n",
       "      <td>NaN</td>\n",
       "      <td>NaN</td>\n",
       "      <td>NaN</td>\n",
       "      <td>NaN</td>\n",
       "      <td>6348.0</td>\n",
       "      <td>NaN</td>\n",
       "      <td>0.054</td>\n",
       "      <td>NaN</td>\n",
       "      <td>PrivacySuppressed</td>\n",
       "      <td>PrivacySuppressed</td>\n",
       "      <td>PrivacySuppressed</td>\n",
       "      <td>PrivacySuppressed</td>\n",
       "      <td>5000</td>\n",
       "      <td>4125</td>\n",
       "      <td>4766.5</td>\n",
       "      <td>5250</td>\n",
       "      <td>22336</td>\n",
       "      <td>NaN</td>\n",
       "      <td>NaN</td>\n",
       "      <td>NaN</td>\n",
       "      <td>1.0</td>\n",
       "      <td>NaN</td>\n",
       "      <td>1</td>\n",
       "      <td>NaN</td>\n",
       "      <td>NaN</td>\n",
       "      <td>NaN</td>\n",
       "      <td>NaN</td>\n",
       "      <td>NaN</td>\n",
       "      <td>NaN</td>\n",
       "      <td>NaN</td>\n",
       "      <td>NaN</td>\n",
       "      <td>NaN</td>\n",
       "      <td>NaN</td>\n",
       "      <td>NaN</td>\n",
       "      <td>NaN</td>\n",
       "      <td>NaN</td>\n",
       "      <td>NaN</td>\n",
       "    </tr>\n",
       "    <tr>\n",
       "      <th>3</th>\n",
       "      <td>100690</td>\n",
       "      <td>02503400</td>\n",
       "      <td>25034.0</td>\n",
       "      <td>Amridge University</td>\n",
       "      <td>Montgomery</td>\n",
       "      <td>AL</td>\n",
       "      <td>36117-3553</td>\n",
       "      <td>NaN</td>\n",
       "      <td>NaN</td>\n",
       "      <td>1</td>\n",
       "      <td>1</td>\n",
       "      <td>3</td>\n",
       "      <td>4</td>\n",
       "      <td>2.0</td>\n",
       "      <td>NaN</td>\n",
       "      <td>NaN</td>\n",
       "      <td>NaN</td>\n",
       "      <td>0.0000</td>\n",
       "      <td>0.0000</td>\n",
       "      <td>0.0000</td>\n",
       "      <td>0.0000</td>\n",
       "      <td>0.0000</td>\n",
       "      <td>0.0000</td>\n",
       "      <td>0.0</td>\n",
       "      <td>0.0000</td>\n",
       "      <td>0.0000</td>\n",
       "      <td>0.0000</td>\n",
       "      <td>0.0000</td>\n",
       "      <td>0.0000</td>\n",
       "      <td>0.0</td>\n",
       "      <td>0.0000</td>\n",
       "      <td>0.0</td>\n",
       "      <td>0.0</td>\n",
       "      <td>0.0000</td>\n",
       "      <td>0.0000</td>\n",
       "      <td>0.0</td>\n",
       "      <td>0.0000</td>\n",
       "      <td>0.0000</td>\n",
       "      <td>0.0000</td>\n",
       "      <td>1.0</td>\n",
       "      <td>0.0000</td>\n",
       "      <td>0.0</td>\n",
       "      <td>0.0000</td>\n",
       "      <td>0.0000</td>\n",
       "      <td>0.0000</td>\n",
       "      <td>0.0000</td>\n",
       "      <td>0.0</td>\n",
       "      <td>0.0</td>\n",
       "      <td>0.0</td>\n",
       "      <td>0.0</td>\n",
       "      <td>0.0000</td>\n",
       "      <td>0.0000</td>\n",
       "      <td>0.0000</td>\n",
       "      <td>0.0000</td>\n",
       "      <td>NaN</td>\n",
       "      <td>NaN</td>\n",
       "      <td>NaN</td>\n",
       "      <td>NaN</td>\n",
       "      <td>NaN</td>\n",
       "      <td>NaN</td>\n",
       "      <td>NaN</td>\n",
       "      <td>NaN</td>\n",
       "      <td>NaN</td>\n",
       "      <td>NaN</td>\n",
       "      <td>NaN</td>\n",
       "      <td>NaN</td>\n",
       "      <td>NaN</td>\n",
       "      <td>NaN</td>\n",
       "      <td>NaN</td>\n",
       "      <td>NaN</td>\n",
       "      <td>NaN</td>\n",
       "      <td>NaN</td>\n",
       "      <td>NaN</td>\n",
       "      <td>NaN</td>\n",
       "      <td>NaN</td>\n",
       "      <td>NaN</td>\n",
       "      <td>NaN</td>\n",
       "      <td>NaN</td>\n",
       "      <td>NaN</td>\n",
       "      <td>NaN</td>\n",
       "      <td>5397.0</td>\n",
       "      <td>NaN</td>\n",
       "      <td>0.016</td>\n",
       "      <td>NaN</td>\n",
       "      <td>PrivacySuppressed</td>\n",
       "      <td>PrivacySuppressed</td>\n",
       "      <td>PrivacySuppressed</td>\n",
       "      <td>PrivacySuppressed</td>\n",
       "      <td>5655.5</td>\n",
       "      <td>9900</td>\n",
       "      <td>5500</td>\n",
       "      <td>8087</td>\n",
       "      <td>24892</td>\n",
       "      <td>NaN</td>\n",
       "      <td>NaN</td>\n",
       "      <td>NaN</td>\n",
       "      <td>1.0</td>\n",
       "      <td>NaN</td>\n",
       "      <td>1</td>\n",
       "      <td>NaN</td>\n",
       "      <td>NaN</td>\n",
       "      <td>NaN</td>\n",
       "      <td>NaN</td>\n",
       "      <td>NaN</td>\n",
       "      <td>NaN</td>\n",
       "      <td>NaN</td>\n",
       "      <td>NaN</td>\n",
       "      <td>NaN</td>\n",
       "      <td>NaN</td>\n",
       "      <td>NaN</td>\n",
       "      <td>NaN</td>\n",
       "      <td>NaN</td>\n",
       "      <td>NaN</td>\n",
       "    </tr>\n",
       "    <tr>\n",
       "      <th>4</th>\n",
       "      <td>100706</td>\n",
       "      <td>00105500</td>\n",
       "      <td>1055.0</td>\n",
       "      <td>University of Alabama in Huntsville</td>\n",
       "      <td>Huntsville</td>\n",
       "      <td>AL</td>\n",
       "      <td>35899</td>\n",
       "      <td>NaN</td>\n",
       "      <td>NaN</td>\n",
       "      <td>1</td>\n",
       "      <td>1</td>\n",
       "      <td>3</td>\n",
       "      <td>4</td>\n",
       "      <td>1.0</td>\n",
       "      <td>NaN</td>\n",
       "      <td>NaN</td>\n",
       "      <td>NaN</td>\n",
       "      <td>0.0000</td>\n",
       "      <td>0.0000</td>\n",
       "      <td>0.0015</td>\n",
       "      <td>0.0000</td>\n",
       "      <td>0.0000</td>\n",
       "      <td>0.0550</td>\n",
       "      <td>0.0</td>\n",
       "      <td>0.0267</td>\n",
       "      <td>0.2719</td>\n",
       "      <td>0.0000</td>\n",
       "      <td>0.0208</td>\n",
       "      <td>0.0000</td>\n",
       "      <td>0.0</td>\n",
       "      <td>0.0416</td>\n",
       "      <td>0.0</td>\n",
       "      <td>0.0</td>\n",
       "      <td>0.0475</td>\n",
       "      <td>0.0134</td>\n",
       "      <td>0.0</td>\n",
       "      <td>0.0000</td>\n",
       "      <td>0.0000</td>\n",
       "      <td>0.0045</td>\n",
       "      <td>0.0</td>\n",
       "      <td>0.0208</td>\n",
       "      <td>0.0</td>\n",
       "      <td>0.0208</td>\n",
       "      <td>0.0000</td>\n",
       "      <td>0.0000</td>\n",
       "      <td>0.0238</td>\n",
       "      <td>0.0</td>\n",
       "      <td>0.0</td>\n",
       "      <td>0.0</td>\n",
       "      <td>0.0</td>\n",
       "      <td>0.0223</td>\n",
       "      <td>0.1694</td>\n",
       "      <td>0.2392</td>\n",
       "      <td>0.0208</td>\n",
       "      <td>NaN</td>\n",
       "      <td>NaN</td>\n",
       "      <td>NaN</td>\n",
       "      <td>NaN</td>\n",
       "      <td>NaN</td>\n",
       "      <td>NaN</td>\n",
       "      <td>NaN</td>\n",
       "      <td>NaN</td>\n",
       "      <td>NaN</td>\n",
       "      <td>NaN</td>\n",
       "      <td>NaN</td>\n",
       "      <td>NaN</td>\n",
       "      <td>NaN</td>\n",
       "      <td>NaN</td>\n",
       "      <td>NaN</td>\n",
       "      <td>NaN</td>\n",
       "      <td>NaN</td>\n",
       "      <td>NaN</td>\n",
       "      <td>NaN</td>\n",
       "      <td>NaN</td>\n",
       "      <td>NaN</td>\n",
       "      <td>NaN</td>\n",
       "      <td>NaN</td>\n",
       "      <td>NaN</td>\n",
       "      <td>NaN</td>\n",
       "      <td>NaN</td>\n",
       "      <td>4200.0</td>\n",
       "      <td>NaN</td>\n",
       "      <td>0.048</td>\n",
       "      <td>NaN</td>\n",
       "      <td>PrivacySuppressed</td>\n",
       "      <td>PrivacySuppressed</td>\n",
       "      <td>PrivacySuppressed</td>\n",
       "      <td>PrivacySuppressed</td>\n",
       "      <td>5500</td>\n",
       "      <td>12001.5</td>\n",
       "      <td>5500</td>\n",
       "      <td>5250</td>\n",
       "      <td>27289.5</td>\n",
       "      <td>NaN</td>\n",
       "      <td>NaN</td>\n",
       "      <td>NaN</td>\n",
       "      <td>1.0</td>\n",
       "      <td>NaN</td>\n",
       "      <td>1</td>\n",
       "      <td>NaN</td>\n",
       "      <td>NaN</td>\n",
       "      <td>NaN</td>\n",
       "      <td>NaN</td>\n",
       "      <td>NaN</td>\n",
       "      <td>NaN</td>\n",
       "      <td>NaN</td>\n",
       "      <td>NaN</td>\n",
       "      <td>NaN</td>\n",
       "      <td>NaN</td>\n",
       "      <td>NaN</td>\n",
       "      <td>NaN</td>\n",
       "      <td>NaN</td>\n",
       "      <td>NaN</td>\n",
       "    </tr>\n",
       "    <tr>\n",
       "      <th>5</th>\n",
       "      <td>100724</td>\n",
       "      <td>00100500</td>\n",
       "      <td>1005.0</td>\n",
       "      <td>Alabama State University</td>\n",
       "      <td>Montgomery</td>\n",
       "      <td>AL</td>\n",
       "      <td>36104-0271</td>\n",
       "      <td>NaN</td>\n",
       "      <td>NaN</td>\n",
       "      <td>1</td>\n",
       "      <td>1</td>\n",
       "      <td>3</td>\n",
       "      <td>4</td>\n",
       "      <td>1.0</td>\n",
       "      <td>NaN</td>\n",
       "      <td>NaN</td>\n",
       "      <td>NaN</td>\n",
       "      <td>0.0000</td>\n",
       "      <td>0.0000</td>\n",
       "      <td>0.0000</td>\n",
       "      <td>0.0509</td>\n",
       "      <td>0.0000</td>\n",
       "      <td>0.0959</td>\n",
       "      <td>0.0</td>\n",
       "      <td>0.3738</td>\n",
       "      <td>0.0000</td>\n",
       "      <td>0.0000</td>\n",
       "      <td>0.0000</td>\n",
       "      <td>0.0000</td>\n",
       "      <td>0.0</td>\n",
       "      <td>0.0117</td>\n",
       "      <td>0.0</td>\n",
       "      <td>0.0</td>\n",
       "      <td>0.0411</td>\n",
       "      <td>0.0157</td>\n",
       "      <td>0.0</td>\n",
       "      <td>0.0000</td>\n",
       "      <td>0.0254</td>\n",
       "      <td>0.0000</td>\n",
       "      <td>0.0</td>\n",
       "      <td>0.0059</td>\n",
       "      <td>0.0</td>\n",
       "      <td>0.0411</td>\n",
       "      <td>0.0900</td>\n",
       "      <td>0.0528</td>\n",
       "      <td>0.0176</td>\n",
       "      <td>0.0</td>\n",
       "      <td>0.0</td>\n",
       "      <td>0.0</td>\n",
       "      <td>0.0</td>\n",
       "      <td>0.0196</td>\n",
       "      <td>0.0020</td>\n",
       "      <td>0.1526</td>\n",
       "      <td>0.0039</td>\n",
       "      <td>NaN</td>\n",
       "      <td>NaN</td>\n",
       "      <td>NaN</td>\n",
       "      <td>NaN</td>\n",
       "      <td>NaN</td>\n",
       "      <td>NaN</td>\n",
       "      <td>NaN</td>\n",
       "      <td>NaN</td>\n",
       "      <td>NaN</td>\n",
       "      <td>NaN</td>\n",
       "      <td>NaN</td>\n",
       "      <td>NaN</td>\n",
       "      <td>NaN</td>\n",
       "      <td>NaN</td>\n",
       "      <td>NaN</td>\n",
       "      <td>NaN</td>\n",
       "      <td>NaN</td>\n",
       "      <td>NaN</td>\n",
       "      <td>NaN</td>\n",
       "      <td>NaN</td>\n",
       "      <td>NaN</td>\n",
       "      <td>NaN</td>\n",
       "      <td>NaN</td>\n",
       "      <td>NaN</td>\n",
       "      <td>NaN</td>\n",
       "      <td>NaN</td>\n",
       "      <td>68868.0</td>\n",
       "      <td>NaN</td>\n",
       "      <td>0.188</td>\n",
       "      <td>NaN</td>\n",
       "      <td>PrivacySuppressed</td>\n",
       "      <td>PrivacySuppressed</td>\n",
       "      <td>PrivacySuppressed</td>\n",
       "      <td>PrivacySuppressed</td>\n",
       "      <td>4000</td>\n",
       "      <td>16814</td>\n",
       "      <td>3938</td>\n",
       "      <td>4768</td>\n",
       "      <td>16584.5</td>\n",
       "      <td>NaN</td>\n",
       "      <td>NaN</td>\n",
       "      <td>NaN</td>\n",
       "      <td>1.0</td>\n",
       "      <td>NaN</td>\n",
       "      <td>1</td>\n",
       "      <td>NaN</td>\n",
       "      <td>NaN</td>\n",
       "      <td>NaN</td>\n",
       "      <td>NaN</td>\n",
       "      <td>NaN</td>\n",
       "      <td>NaN</td>\n",
       "      <td>NaN</td>\n",
       "      <td>NaN</td>\n",
       "      <td>NaN</td>\n",
       "      <td>NaN</td>\n",
       "      <td>NaN</td>\n",
       "      <td>NaN</td>\n",
       "      <td>NaN</td>\n",
       "      <td>NaN</td>\n",
       "    </tr>\n",
       "  </tbody>\n",
       "</table>\n",
       "</div>"
      ],
      "text/plain": [
       "             UNITID     OPEID   OPEID6                               INSTNM  \\\n",
       "year rowNum                                                                   \n",
       "2000 1       100654  00100200   1002.0             Alabama A & M University   \n",
       "     2       100663  00105200   1052.0  University of Alabama at Birmingham   \n",
       "     3       100690  02503400  25034.0                   Amridge University   \n",
       "     4       100706  00105500   1055.0  University of Alabama in Huntsville   \n",
       "     5       100724  00100500   1005.0             Alabama State University   \n",
       "\n",
       "                   CITY STABBR         ZIP  ACCREDAGENCY  HCM2  MAIN  \\\n",
       "year rowNum                                                            \n",
       "2000 1           Normal     AL       35762           NaN   NaN     1   \n",
       "     2       Birmingham     AL  35294-0110           NaN   NaN     1   \n",
       "     3       Montgomery     AL  36117-3553           NaN   NaN     1   \n",
       "     4       Huntsville     AL       35899           NaN   NaN     1   \n",
       "     5       Montgomery     AL  36104-0271           NaN   NaN     1   \n",
       "\n",
       "             NUMBRANCH  PREDDEG  HIGHDEG  CONTROL  ADM_RATE  ADM_RATE_ALL  \\\n",
       "year rowNum                                                                 \n",
       "2000 1               1        3        4      1.0       NaN           NaN   \n",
       "     2               1        3        4      1.0       NaN           NaN   \n",
       "     3               1        3        4      2.0       NaN           NaN   \n",
       "     4               1        3        4      1.0       NaN           NaN   \n",
       "     5               1        3        4      1.0       NaN           NaN   \n",
       "\n",
       "             SAT_AVG_ALL  PCIP01  PCIP03  PCIP05  PCIP09  PCIP10  PCIP11  \\\n",
       "year rowNum                                                                \n",
       "2000 1               NaN  0.0624  0.0183  0.0000  0.0000  0.0239  0.0349   \n",
       "     2               NaN  0.0000  0.0000  0.0000  0.0352  0.0000  0.0224   \n",
       "     3               NaN  0.0000  0.0000  0.0000  0.0000  0.0000  0.0000   \n",
       "     4               NaN  0.0000  0.0000  0.0015  0.0000  0.0000  0.0550   \n",
       "     5               NaN  0.0000  0.0000  0.0000  0.0509  0.0000  0.0959   \n",
       "\n",
       "             PCIP12  PCIP13  PCIP14  PCIP15  PCIP16  PCIP19  PCIP22  PCIP23  \\\n",
       "year rowNum                                                                   \n",
       "2000 1          0.0  0.2569  0.0183  0.1083  0.0000  0.0294     0.0  0.0092   \n",
       "     2          0.0  0.1223  0.0525  0.0000  0.0051  0.0000     0.0  0.0166   \n",
       "     3          0.0  0.0000  0.0000  0.0000  0.0000  0.0000     0.0  0.0000   \n",
       "     4          0.0  0.0267  0.2719  0.0000  0.0208  0.0000     0.0  0.0416   \n",
       "     5          0.0  0.3738  0.0000  0.0000  0.0000  0.0000     0.0  0.0117   \n",
       "\n",
       "             PCIP24  PCIP25  PCIP26  PCIP27  PCIP29  PCIP30  PCIP31  PCIP38  \\\n",
       "year rowNum                                                                   \n",
       "2000 1          0.0     0.0  0.0661  0.0202     0.0  0.0000  0.0000  0.0000   \n",
       "     2          0.0     0.0  0.0743  0.0038     0.0  0.0019  0.0000  0.0083   \n",
       "     3          0.0     0.0  0.0000  0.0000     0.0  0.0000  0.0000  0.0000   \n",
       "     4          0.0     0.0  0.0475  0.0134     0.0  0.0000  0.0000  0.0045   \n",
       "     5          0.0     0.0  0.0411  0.0157     0.0  0.0000  0.0254  0.0000   \n",
       "\n",
       "             PCIP39  PCIP40  PCIP41  PCIP42  PCIP43  PCIP44  PCIP45  PCIP46  \\\n",
       "year rowNum                                                                   \n",
       "2000 1          0.0  0.0183     0.0  0.0514  0.0000  0.0440  0.0422     0.0   \n",
       "     2          0.0  0.0134     0.0  0.0794  0.0467  0.0173  0.0551     0.0   \n",
       "     3          1.0  0.0000     0.0  0.0000  0.0000  0.0000  0.0000     0.0   \n",
       "     4          0.0  0.0208     0.0  0.0208  0.0000  0.0000  0.0238     0.0   \n",
       "     5          0.0  0.0059     0.0  0.0411  0.0900  0.0528  0.0176     0.0   \n",
       "\n",
       "             PCIP47  PCIP48  PCIP49  PCIP50  PCIP51  PCIP52  PCIP54  \\\n",
       "year rowNum                                                           \n",
       "2000 1          0.0     0.0     0.0  0.0037  0.0000  0.1798  0.0018   \n",
       "     2          0.0     0.0     0.0  0.0262  0.1895  0.1914  0.0384   \n",
       "     3          0.0     0.0     0.0  0.0000  0.0000  0.0000  0.0000   \n",
       "     4          0.0     0.0     0.0  0.0223  0.1694  0.2392  0.0208   \n",
       "     5          0.0     0.0     0.0  0.0196  0.0020  0.1526  0.0039   \n",
       "\n",
       "             DISTANCEONLY  UGDS  UGDS_WHITE  UGDS_BLACK  UGDS_HISP  \\\n",
       "year rowNum                                                          \n",
       "2000 1                NaN   NaN         NaN         NaN        NaN   \n",
       "     2                NaN   NaN         NaN         NaN        NaN   \n",
       "     3                NaN   NaN         NaN         NaN        NaN   \n",
       "     4                NaN   NaN         NaN         NaN        NaN   \n",
       "     5                NaN   NaN         NaN         NaN        NaN   \n",
       "\n",
       "             UGDS_ASIAN  CURROPER  NPT4_PUB  NPT4_PRIV  NPT41_PUB  NPT42_PUB  \\\n",
       "year rowNum                                                                    \n",
       "2000 1              NaN       NaN       NaN        NaN        NaN        NaN   \n",
       "     2              NaN       NaN       NaN        NaN        NaN        NaN   \n",
       "     3              NaN       NaN       NaN        NaN        NaN        NaN   \n",
       "     4              NaN       NaN       NaN        NaN        NaN        NaN   \n",
       "     5              NaN       NaN       NaN        NaN        NaN        NaN   \n",
       "\n",
       "             NPT43_PUB  NPT41_PRIV  NPT42_PRIV  NPT43_PRIV  NUM41_PUB  \\\n",
       "year rowNum                                                             \n",
       "2000 1             NaN         NaN         NaN         NaN        NaN   \n",
       "     2             NaN         NaN         NaN         NaN        NaN   \n",
       "     3             NaN         NaN         NaN         NaN        NaN   \n",
       "     4             NaN         NaN         NaN         NaN        NaN   \n",
       "     5             NaN         NaN         NaN         NaN        NaN   \n",
       "\n",
       "             NUM42_PUB  NUM43_PUB  NUM44_PUB  NUM45_PUB  NUM41_PRIV  \\\n",
       "year rowNum                                                           \n",
       "2000 1             NaN        NaN        NaN        NaN         NaN   \n",
       "     2             NaN        NaN        NaN        NaN         NaN   \n",
       "     3             NaN        NaN        NaN        NaN         NaN   \n",
       "     4             NaN        NaN        NaN        NaN         NaN   \n",
       "     5             NaN        NaN        NaN        NaN         NaN   \n",
       "\n",
       "             NUM42_PRIV  NUM43_PRIV  NUM44_PRIV  NUM45_PRIV  COSTT4_A  \\\n",
       "year rowNum                                                             \n",
       "2000 1              NaN         NaN         NaN         NaN       NaN   \n",
       "     2              NaN         NaN         NaN         NaN       NaN   \n",
       "     3              NaN         NaN         NaN         NaN       NaN   \n",
       "     4              NaN         NaN         NaN         NaN       NaN   \n",
       "     5              NaN         NaN         NaN         NaN       NaN   \n",
       "\n",
       "             TUITFTE  PCTFLOAN   CDR2  CDR3       DEATH_YR2_RT  \\\n",
       "year rowNum                                                      \n",
       "2000 1        3486.0       NaN  0.119   NaN  PrivacySuppressed   \n",
       "     2        6348.0       NaN  0.054   NaN  PrivacySuppressed   \n",
       "     3        5397.0       NaN  0.016   NaN  PrivacySuppressed   \n",
       "     4        4200.0       NaN  0.048   NaN  PrivacySuppressed   \n",
       "     5       68868.0       NaN  0.188   NaN  PrivacySuppressed   \n",
       "\n",
       "            LO_INC_DEATH_YR2_RT MD_INC_DEATH_YR2_RT HI_INC_DEATH_YR2_RT  \\\n",
       "year rowNum                                                               \n",
       "2000 1        PrivacySuppressed   PrivacySuppressed   PrivacySuppressed   \n",
       "     2        PrivacySuppressed   PrivacySuppressed   PrivacySuppressed   \n",
       "     3        PrivacySuppressed   PrivacySuppressed   PrivacySuppressed   \n",
       "     4        PrivacySuppressed   PrivacySuppressed   PrivacySuppressed   \n",
       "     5        PrivacySuppressed   PrivacySuppressed   PrivacySuppressed   \n",
       "\n",
       "            DEBT_MDN GRAD_DEBT_MDN PELL_DEBT_MDN NOPELL_DEBT_MDN MD_FAMINC  \\\n",
       "year rowNum                                                                  \n",
       "2000 1          4625         15374        4617.5          4625.5     18979   \n",
       "     2          5000          4125        4766.5            5250     22336   \n",
       "     3        5655.5          9900          5500            8087     24892   \n",
       "     4          5500       12001.5          5500            5250   27289.5   \n",
       "     5          4000         16814          3938            4768   16584.5   \n",
       "\n",
       "            MD_EARN_WNE_P6 MD_EARN_WNE_P8  C100_4  ICLEVEL  \\\n",
       "year rowNum                                                  \n",
       "2000 1                 NaN            NaN     NaN      1.0   \n",
       "     2                 NaN            NaN     NaN      1.0   \n",
       "     3                 NaN            NaN     NaN      1.0   \n",
       "     4                 NaN            NaN     NaN      1.0   \n",
       "     5                 NaN            NaN     NaN      1.0   \n",
       "\n",
       "             C100_4_POOLED_SUPP  OPEFLAG  CIPCODE1  CIPCODE2  CIPCODE3  \\\n",
       "year rowNum                                                              \n",
       "2000 1                      NaN        1       NaN       NaN       NaN   \n",
       "     2                      NaN        1       NaN       NaN       NaN   \n",
       "     3                      NaN        1       NaN       NaN       NaN   \n",
       "     4                      NaN        1       NaN       NaN       NaN   \n",
       "     5                      NaN        1       NaN       NaN       NaN   \n",
       "\n",
       "             FTFTPCTPELL  FTFTPCTFLOAN PLUS_DEBT_INST_MD  \\\n",
       "year rowNum                                                \n",
       "2000 1               NaN           NaN               NaN   \n",
       "     2               NaN           NaN               NaN   \n",
       "     3               NaN           NaN               NaN   \n",
       "     4               NaN           NaN               NaN   \n",
       "     5               NaN           NaN               NaN   \n",
       "\n",
       "            BBRR1_FED_UG_MAKEPROG BBRR1_FED_UG_PAIDINFULL  \\\n",
       "year rowNum                                                 \n",
       "2000 1                        NaN                     NaN   \n",
       "     2                        NaN                     NaN   \n",
       "     3                        NaN                     NaN   \n",
       "     4                        NaN                     NaN   \n",
       "     5                        NaN                     NaN   \n",
       "\n",
       "             MD_EARN_WNE_INC1_P6  MD_EARN_WNE_INC2_P6  MD_EARN_WNE_INC3_P6  \\\n",
       "year rowNum                                                                  \n",
       "2000 1                       NaN                  NaN                  NaN   \n",
       "     2                       NaN                  NaN                  NaN   \n",
       "     3                       NaN                  NaN                  NaN   \n",
       "     4                       NaN                  NaN                  NaN   \n",
       "     5                       NaN                  NaN                  NaN   \n",
       "\n",
       "             STUFACR  MD_EARN_WNE_1YR  MD_EARN_WNE_4YR  \n",
       "year rowNum                                             \n",
       "2000 1           NaN              NaN              NaN  \n",
       "     2           NaN              NaN              NaN  \n",
       "     3           NaN              NaN              NaN  \n",
       "     4           NaN              NaN              NaN  \n",
       "     5           NaN              NaN              NaN  "
      ]
     },
     "execution_count": 5,
     "metadata": {},
     "output_type": "execute_result"
    }
   ],
   "source": [
    "titleIV = main[main['OPEFLAG'] == 1]\n",
    "shape = titleIV.shape\n",
    "nullPercent = titleIV['ICLEVEL'].isna().mean() * 100\n",
    "\n",
    "print(\"[+] titleIVShape: \", shape, \" IclevelNull: \", nullPercent)\n",
    "titleIV.head()"
   ]
  },
  {
   "cell_type": "code",
   "execution_count": 6,
   "metadata": {},
   "outputs": [
    {
     "name": "stdout",
     "output_type": "stream",
     "text": [
      "[+]  fourYearShape:  (51404, 113)\n"
     ]
    },
    {
     "data": {
      "text/html": [
       "<div>\n",
       "<style scoped>\n",
       "    .dataframe tbody tr th:only-of-type {\n",
       "        vertical-align: middle;\n",
       "    }\n",
       "\n",
       "    .dataframe tbody tr th {\n",
       "        vertical-align: top;\n",
       "    }\n",
       "\n",
       "    .dataframe thead th {\n",
       "        text-align: right;\n",
       "    }\n",
       "</style>\n",
       "<table border=\"1\" class=\"dataframe\">\n",
       "  <thead>\n",
       "    <tr style=\"text-align: right;\">\n",
       "      <th></th>\n",
       "      <th></th>\n",
       "      <th>UNITID</th>\n",
       "      <th>OPEID</th>\n",
       "      <th>OPEID6</th>\n",
       "      <th>INSTNM</th>\n",
       "      <th>CITY</th>\n",
       "      <th>STABBR</th>\n",
       "      <th>ZIP</th>\n",
       "      <th>ACCREDAGENCY</th>\n",
       "      <th>HCM2</th>\n",
       "      <th>MAIN</th>\n",
       "      <th>NUMBRANCH</th>\n",
       "      <th>PREDDEG</th>\n",
       "      <th>HIGHDEG</th>\n",
       "      <th>CONTROL</th>\n",
       "      <th>ADM_RATE</th>\n",
       "      <th>ADM_RATE_ALL</th>\n",
       "      <th>SAT_AVG_ALL</th>\n",
       "      <th>PCIP01</th>\n",
       "      <th>PCIP03</th>\n",
       "      <th>PCIP05</th>\n",
       "      <th>PCIP09</th>\n",
       "      <th>PCIP10</th>\n",
       "      <th>PCIP11</th>\n",
       "      <th>PCIP12</th>\n",
       "      <th>PCIP13</th>\n",
       "      <th>PCIP14</th>\n",
       "      <th>PCIP15</th>\n",
       "      <th>PCIP16</th>\n",
       "      <th>PCIP19</th>\n",
       "      <th>PCIP22</th>\n",
       "      <th>PCIP23</th>\n",
       "      <th>PCIP24</th>\n",
       "      <th>PCIP25</th>\n",
       "      <th>PCIP26</th>\n",
       "      <th>PCIP27</th>\n",
       "      <th>PCIP29</th>\n",
       "      <th>PCIP30</th>\n",
       "      <th>PCIP31</th>\n",
       "      <th>PCIP38</th>\n",
       "      <th>PCIP39</th>\n",
       "      <th>PCIP40</th>\n",
       "      <th>PCIP41</th>\n",
       "      <th>PCIP42</th>\n",
       "      <th>PCIP43</th>\n",
       "      <th>PCIP44</th>\n",
       "      <th>PCIP45</th>\n",
       "      <th>PCIP46</th>\n",
       "      <th>PCIP47</th>\n",
       "      <th>PCIP48</th>\n",
       "      <th>PCIP49</th>\n",
       "      <th>PCIP50</th>\n",
       "      <th>PCIP51</th>\n",
       "      <th>PCIP52</th>\n",
       "      <th>PCIP54</th>\n",
       "      <th>DISTANCEONLY</th>\n",
       "      <th>UGDS</th>\n",
       "      <th>UGDS_WHITE</th>\n",
       "      <th>UGDS_BLACK</th>\n",
       "      <th>UGDS_HISP</th>\n",
       "      <th>UGDS_ASIAN</th>\n",
       "      <th>CURROPER</th>\n",
       "      <th>NPT4_PUB</th>\n",
       "      <th>NPT4_PRIV</th>\n",
       "      <th>NPT41_PUB</th>\n",
       "      <th>NPT42_PUB</th>\n",
       "      <th>NPT43_PUB</th>\n",
       "      <th>NPT41_PRIV</th>\n",
       "      <th>NPT42_PRIV</th>\n",
       "      <th>NPT43_PRIV</th>\n",
       "      <th>NUM41_PUB</th>\n",
       "      <th>NUM42_PUB</th>\n",
       "      <th>NUM43_PUB</th>\n",
       "      <th>NUM44_PUB</th>\n",
       "      <th>NUM45_PUB</th>\n",
       "      <th>NUM41_PRIV</th>\n",
       "      <th>NUM42_PRIV</th>\n",
       "      <th>NUM43_PRIV</th>\n",
       "      <th>NUM44_PRIV</th>\n",
       "      <th>NUM45_PRIV</th>\n",
       "      <th>COSTT4_A</th>\n",
       "      <th>TUITFTE</th>\n",
       "      <th>PCTFLOAN</th>\n",
       "      <th>CDR2</th>\n",
       "      <th>CDR3</th>\n",
       "      <th>DEATH_YR2_RT</th>\n",
       "      <th>LO_INC_DEATH_YR2_RT</th>\n",
       "      <th>MD_INC_DEATH_YR2_RT</th>\n",
       "      <th>HI_INC_DEATH_YR2_RT</th>\n",
       "      <th>DEBT_MDN</th>\n",
       "      <th>GRAD_DEBT_MDN</th>\n",
       "      <th>PELL_DEBT_MDN</th>\n",
       "      <th>NOPELL_DEBT_MDN</th>\n",
       "      <th>MD_FAMINC</th>\n",
       "      <th>MD_EARN_WNE_P6</th>\n",
       "      <th>MD_EARN_WNE_P8</th>\n",
       "      <th>C100_4</th>\n",
       "      <th>ICLEVEL</th>\n",
       "      <th>C100_4_POOLED_SUPP</th>\n",
       "      <th>OPEFLAG</th>\n",
       "      <th>CIPCODE1</th>\n",
       "      <th>CIPCODE2</th>\n",
       "      <th>CIPCODE3</th>\n",
       "      <th>FTFTPCTPELL</th>\n",
       "      <th>FTFTPCTFLOAN</th>\n",
       "      <th>PLUS_DEBT_INST_MD</th>\n",
       "      <th>BBRR1_FED_UG_MAKEPROG</th>\n",
       "      <th>BBRR1_FED_UG_PAIDINFULL</th>\n",
       "      <th>MD_EARN_WNE_INC1_P6</th>\n",
       "      <th>MD_EARN_WNE_INC2_P6</th>\n",
       "      <th>MD_EARN_WNE_INC3_P6</th>\n",
       "      <th>STUFACR</th>\n",
       "      <th>MD_EARN_WNE_1YR</th>\n",
       "      <th>MD_EARN_WNE_4YR</th>\n",
       "    </tr>\n",
       "    <tr>\n",
       "      <th>year</th>\n",
       "      <th>rowNum</th>\n",
       "      <th></th>\n",
       "      <th></th>\n",
       "      <th></th>\n",
       "      <th></th>\n",
       "      <th></th>\n",
       "      <th></th>\n",
       "      <th></th>\n",
       "      <th></th>\n",
       "      <th></th>\n",
       "      <th></th>\n",
       "      <th></th>\n",
       "      <th></th>\n",
       "      <th></th>\n",
       "      <th></th>\n",
       "      <th></th>\n",
       "      <th></th>\n",
       "      <th></th>\n",
       "      <th></th>\n",
       "      <th></th>\n",
       "      <th></th>\n",
       "      <th></th>\n",
       "      <th></th>\n",
       "      <th></th>\n",
       "      <th></th>\n",
       "      <th></th>\n",
       "      <th></th>\n",
       "      <th></th>\n",
       "      <th></th>\n",
       "      <th></th>\n",
       "      <th></th>\n",
       "      <th></th>\n",
       "      <th></th>\n",
       "      <th></th>\n",
       "      <th></th>\n",
       "      <th></th>\n",
       "      <th></th>\n",
       "      <th></th>\n",
       "      <th></th>\n",
       "      <th></th>\n",
       "      <th></th>\n",
       "      <th></th>\n",
       "      <th></th>\n",
       "      <th></th>\n",
       "      <th></th>\n",
       "      <th></th>\n",
       "      <th></th>\n",
       "      <th></th>\n",
       "      <th></th>\n",
       "      <th></th>\n",
       "      <th></th>\n",
       "      <th></th>\n",
       "      <th></th>\n",
       "      <th></th>\n",
       "      <th></th>\n",
       "      <th></th>\n",
       "      <th></th>\n",
       "      <th></th>\n",
       "      <th></th>\n",
       "      <th></th>\n",
       "      <th></th>\n",
       "      <th></th>\n",
       "      <th></th>\n",
       "      <th></th>\n",
       "      <th></th>\n",
       "      <th></th>\n",
       "      <th></th>\n",
       "      <th></th>\n",
       "      <th></th>\n",
       "      <th></th>\n",
       "      <th></th>\n",
       "      <th></th>\n",
       "      <th></th>\n",
       "      <th></th>\n",
       "      <th></th>\n",
       "      <th></th>\n",
       "      <th></th>\n",
       "      <th></th>\n",
       "      <th></th>\n",
       "      <th></th>\n",
       "      <th></th>\n",
       "      <th></th>\n",
       "      <th></th>\n",
       "      <th></th>\n",
       "      <th></th>\n",
       "      <th></th>\n",
       "      <th></th>\n",
       "      <th></th>\n",
       "      <th></th>\n",
       "      <th></th>\n",
       "      <th></th>\n",
       "      <th></th>\n",
       "      <th></th>\n",
       "      <th></th>\n",
       "      <th></th>\n",
       "      <th></th>\n",
       "      <th></th>\n",
       "      <th></th>\n",
       "      <th></th>\n",
       "      <th></th>\n",
       "      <th></th>\n",
       "      <th></th>\n",
       "      <th></th>\n",
       "      <th></th>\n",
       "      <th></th>\n",
       "      <th></th>\n",
       "      <th></th>\n",
       "      <th></th>\n",
       "      <th></th>\n",
       "      <th></th>\n",
       "      <th></th>\n",
       "      <th></th>\n",
       "      <th></th>\n",
       "      <th></th>\n",
       "    </tr>\n",
       "  </thead>\n",
       "  <tbody>\n",
       "    <tr>\n",
       "      <th rowspan=\"5\" valign=\"top\">2000</th>\n",
       "      <th>1</th>\n",
       "      <td>100654</td>\n",
       "      <td>00100200</td>\n",
       "      <td>1002.0</td>\n",
       "      <td>Alabama A &amp; M University</td>\n",
       "      <td>Normal</td>\n",
       "      <td>AL</td>\n",
       "      <td>35762</td>\n",
       "      <td>NaN</td>\n",
       "      <td>NaN</td>\n",
       "      <td>1</td>\n",
       "      <td>1</td>\n",
       "      <td>3</td>\n",
       "      <td>4</td>\n",
       "      <td>1.0</td>\n",
       "      <td>NaN</td>\n",
       "      <td>NaN</td>\n",
       "      <td>NaN</td>\n",
       "      <td>0.0624</td>\n",
       "      <td>0.0183</td>\n",
       "      <td>0.0000</td>\n",
       "      <td>0.0000</td>\n",
       "      <td>0.0239</td>\n",
       "      <td>0.0349</td>\n",
       "      <td>0.0</td>\n",
       "      <td>0.2569</td>\n",
       "      <td>0.0183</td>\n",
       "      <td>0.1083</td>\n",
       "      <td>0.0000</td>\n",
       "      <td>0.0294</td>\n",
       "      <td>0.0</td>\n",
       "      <td>0.0092</td>\n",
       "      <td>0.0</td>\n",
       "      <td>0.0</td>\n",
       "      <td>0.0661</td>\n",
       "      <td>0.0202</td>\n",
       "      <td>0.0</td>\n",
       "      <td>0.0000</td>\n",
       "      <td>0.0000</td>\n",
       "      <td>0.0000</td>\n",
       "      <td>0.0</td>\n",
       "      <td>0.0183</td>\n",
       "      <td>0.0</td>\n",
       "      <td>0.0514</td>\n",
       "      <td>0.0000</td>\n",
       "      <td>0.0440</td>\n",
       "      <td>0.0422</td>\n",
       "      <td>0.0</td>\n",
       "      <td>0.0</td>\n",
       "      <td>0.0</td>\n",
       "      <td>0.0</td>\n",
       "      <td>0.0037</td>\n",
       "      <td>0.0000</td>\n",
       "      <td>0.1798</td>\n",
       "      <td>0.0018</td>\n",
       "      <td>NaN</td>\n",
       "      <td>NaN</td>\n",
       "      <td>NaN</td>\n",
       "      <td>NaN</td>\n",
       "      <td>NaN</td>\n",
       "      <td>NaN</td>\n",
       "      <td>NaN</td>\n",
       "      <td>NaN</td>\n",
       "      <td>NaN</td>\n",
       "      <td>NaN</td>\n",
       "      <td>NaN</td>\n",
       "      <td>NaN</td>\n",
       "      <td>NaN</td>\n",
       "      <td>NaN</td>\n",
       "      <td>NaN</td>\n",
       "      <td>NaN</td>\n",
       "      <td>NaN</td>\n",
       "      <td>NaN</td>\n",
       "      <td>NaN</td>\n",
       "      <td>NaN</td>\n",
       "      <td>NaN</td>\n",
       "      <td>NaN</td>\n",
       "      <td>NaN</td>\n",
       "      <td>NaN</td>\n",
       "      <td>NaN</td>\n",
       "      <td>NaN</td>\n",
       "      <td>3486.0</td>\n",
       "      <td>NaN</td>\n",
       "      <td>0.119</td>\n",
       "      <td>NaN</td>\n",
       "      <td>PrivacySuppressed</td>\n",
       "      <td>PrivacySuppressed</td>\n",
       "      <td>PrivacySuppressed</td>\n",
       "      <td>PrivacySuppressed</td>\n",
       "      <td>4625</td>\n",
       "      <td>15374</td>\n",
       "      <td>4617.5</td>\n",
       "      <td>4625.5</td>\n",
       "      <td>18979</td>\n",
       "      <td>NaN</td>\n",
       "      <td>NaN</td>\n",
       "      <td>NaN</td>\n",
       "      <td>1.0</td>\n",
       "      <td>NaN</td>\n",
       "      <td>1</td>\n",
       "      <td>NaN</td>\n",
       "      <td>NaN</td>\n",
       "      <td>NaN</td>\n",
       "      <td>NaN</td>\n",
       "      <td>NaN</td>\n",
       "      <td>NaN</td>\n",
       "      <td>NaN</td>\n",
       "      <td>NaN</td>\n",
       "      <td>NaN</td>\n",
       "      <td>NaN</td>\n",
       "      <td>NaN</td>\n",
       "      <td>NaN</td>\n",
       "      <td>NaN</td>\n",
       "      <td>NaN</td>\n",
       "    </tr>\n",
       "    <tr>\n",
       "      <th>2</th>\n",
       "      <td>100663</td>\n",
       "      <td>00105200</td>\n",
       "      <td>1052.0</td>\n",
       "      <td>University of Alabama at Birmingham</td>\n",
       "      <td>Birmingham</td>\n",
       "      <td>AL</td>\n",
       "      <td>35294-0110</td>\n",
       "      <td>NaN</td>\n",
       "      <td>NaN</td>\n",
       "      <td>1</td>\n",
       "      <td>1</td>\n",
       "      <td>3</td>\n",
       "      <td>4</td>\n",
       "      <td>1.0</td>\n",
       "      <td>NaN</td>\n",
       "      <td>NaN</td>\n",
       "      <td>NaN</td>\n",
       "      <td>0.0000</td>\n",
       "      <td>0.0000</td>\n",
       "      <td>0.0000</td>\n",
       "      <td>0.0352</td>\n",
       "      <td>0.0000</td>\n",
       "      <td>0.0224</td>\n",
       "      <td>0.0</td>\n",
       "      <td>0.1223</td>\n",
       "      <td>0.0525</td>\n",
       "      <td>0.0000</td>\n",
       "      <td>0.0051</td>\n",
       "      <td>0.0000</td>\n",
       "      <td>0.0</td>\n",
       "      <td>0.0166</td>\n",
       "      <td>0.0</td>\n",
       "      <td>0.0</td>\n",
       "      <td>0.0743</td>\n",
       "      <td>0.0038</td>\n",
       "      <td>0.0</td>\n",
       "      <td>0.0019</td>\n",
       "      <td>0.0000</td>\n",
       "      <td>0.0083</td>\n",
       "      <td>0.0</td>\n",
       "      <td>0.0134</td>\n",
       "      <td>0.0</td>\n",
       "      <td>0.0794</td>\n",
       "      <td>0.0467</td>\n",
       "      <td>0.0173</td>\n",
       "      <td>0.0551</td>\n",
       "      <td>0.0</td>\n",
       "      <td>0.0</td>\n",
       "      <td>0.0</td>\n",
       "      <td>0.0</td>\n",
       "      <td>0.0262</td>\n",
       "      <td>0.1895</td>\n",
       "      <td>0.1914</td>\n",
       "      <td>0.0384</td>\n",
       "      <td>NaN</td>\n",
       "      <td>NaN</td>\n",
       "      <td>NaN</td>\n",
       "      <td>NaN</td>\n",
       "      <td>NaN</td>\n",
       "      <td>NaN</td>\n",
       "      <td>NaN</td>\n",
       "      <td>NaN</td>\n",
       "      <td>NaN</td>\n",
       "      <td>NaN</td>\n",
       "      <td>NaN</td>\n",
       "      <td>NaN</td>\n",
       "      <td>NaN</td>\n",
       "      <td>NaN</td>\n",
       "      <td>NaN</td>\n",
       "      <td>NaN</td>\n",
       "      <td>NaN</td>\n",
       "      <td>NaN</td>\n",
       "      <td>NaN</td>\n",
       "      <td>NaN</td>\n",
       "      <td>NaN</td>\n",
       "      <td>NaN</td>\n",
       "      <td>NaN</td>\n",
       "      <td>NaN</td>\n",
       "      <td>NaN</td>\n",
       "      <td>NaN</td>\n",
       "      <td>6348.0</td>\n",
       "      <td>NaN</td>\n",
       "      <td>0.054</td>\n",
       "      <td>NaN</td>\n",
       "      <td>PrivacySuppressed</td>\n",
       "      <td>PrivacySuppressed</td>\n",
       "      <td>PrivacySuppressed</td>\n",
       "      <td>PrivacySuppressed</td>\n",
       "      <td>5000</td>\n",
       "      <td>4125</td>\n",
       "      <td>4766.5</td>\n",
       "      <td>5250</td>\n",
       "      <td>22336</td>\n",
       "      <td>NaN</td>\n",
       "      <td>NaN</td>\n",
       "      <td>NaN</td>\n",
       "      <td>1.0</td>\n",
       "      <td>NaN</td>\n",
       "      <td>1</td>\n",
       "      <td>NaN</td>\n",
       "      <td>NaN</td>\n",
       "      <td>NaN</td>\n",
       "      <td>NaN</td>\n",
       "      <td>NaN</td>\n",
       "      <td>NaN</td>\n",
       "      <td>NaN</td>\n",
       "      <td>NaN</td>\n",
       "      <td>NaN</td>\n",
       "      <td>NaN</td>\n",
       "      <td>NaN</td>\n",
       "      <td>NaN</td>\n",
       "      <td>NaN</td>\n",
       "      <td>NaN</td>\n",
       "    </tr>\n",
       "    <tr>\n",
       "      <th>3</th>\n",
       "      <td>100690</td>\n",
       "      <td>02503400</td>\n",
       "      <td>25034.0</td>\n",
       "      <td>Amridge University</td>\n",
       "      <td>Montgomery</td>\n",
       "      <td>AL</td>\n",
       "      <td>36117-3553</td>\n",
       "      <td>NaN</td>\n",
       "      <td>NaN</td>\n",
       "      <td>1</td>\n",
       "      <td>1</td>\n",
       "      <td>3</td>\n",
       "      <td>4</td>\n",
       "      <td>2.0</td>\n",
       "      <td>NaN</td>\n",
       "      <td>NaN</td>\n",
       "      <td>NaN</td>\n",
       "      <td>0.0000</td>\n",
       "      <td>0.0000</td>\n",
       "      <td>0.0000</td>\n",
       "      <td>0.0000</td>\n",
       "      <td>0.0000</td>\n",
       "      <td>0.0000</td>\n",
       "      <td>0.0</td>\n",
       "      <td>0.0000</td>\n",
       "      <td>0.0000</td>\n",
       "      <td>0.0000</td>\n",
       "      <td>0.0000</td>\n",
       "      <td>0.0000</td>\n",
       "      <td>0.0</td>\n",
       "      <td>0.0000</td>\n",
       "      <td>0.0</td>\n",
       "      <td>0.0</td>\n",
       "      <td>0.0000</td>\n",
       "      <td>0.0000</td>\n",
       "      <td>0.0</td>\n",
       "      <td>0.0000</td>\n",
       "      <td>0.0000</td>\n",
       "      <td>0.0000</td>\n",
       "      <td>1.0</td>\n",
       "      <td>0.0000</td>\n",
       "      <td>0.0</td>\n",
       "      <td>0.0000</td>\n",
       "      <td>0.0000</td>\n",
       "      <td>0.0000</td>\n",
       "      <td>0.0000</td>\n",
       "      <td>0.0</td>\n",
       "      <td>0.0</td>\n",
       "      <td>0.0</td>\n",
       "      <td>0.0</td>\n",
       "      <td>0.0000</td>\n",
       "      <td>0.0000</td>\n",
       "      <td>0.0000</td>\n",
       "      <td>0.0000</td>\n",
       "      <td>NaN</td>\n",
       "      <td>NaN</td>\n",
       "      <td>NaN</td>\n",
       "      <td>NaN</td>\n",
       "      <td>NaN</td>\n",
       "      <td>NaN</td>\n",
       "      <td>NaN</td>\n",
       "      <td>NaN</td>\n",
       "      <td>NaN</td>\n",
       "      <td>NaN</td>\n",
       "      <td>NaN</td>\n",
       "      <td>NaN</td>\n",
       "      <td>NaN</td>\n",
       "      <td>NaN</td>\n",
       "      <td>NaN</td>\n",
       "      <td>NaN</td>\n",
       "      <td>NaN</td>\n",
       "      <td>NaN</td>\n",
       "      <td>NaN</td>\n",
       "      <td>NaN</td>\n",
       "      <td>NaN</td>\n",
       "      <td>NaN</td>\n",
       "      <td>NaN</td>\n",
       "      <td>NaN</td>\n",
       "      <td>NaN</td>\n",
       "      <td>NaN</td>\n",
       "      <td>5397.0</td>\n",
       "      <td>NaN</td>\n",
       "      <td>0.016</td>\n",
       "      <td>NaN</td>\n",
       "      <td>PrivacySuppressed</td>\n",
       "      <td>PrivacySuppressed</td>\n",
       "      <td>PrivacySuppressed</td>\n",
       "      <td>PrivacySuppressed</td>\n",
       "      <td>5655.5</td>\n",
       "      <td>9900</td>\n",
       "      <td>5500</td>\n",
       "      <td>8087</td>\n",
       "      <td>24892</td>\n",
       "      <td>NaN</td>\n",
       "      <td>NaN</td>\n",
       "      <td>NaN</td>\n",
       "      <td>1.0</td>\n",
       "      <td>NaN</td>\n",
       "      <td>1</td>\n",
       "      <td>NaN</td>\n",
       "      <td>NaN</td>\n",
       "      <td>NaN</td>\n",
       "      <td>NaN</td>\n",
       "      <td>NaN</td>\n",
       "      <td>NaN</td>\n",
       "      <td>NaN</td>\n",
       "      <td>NaN</td>\n",
       "      <td>NaN</td>\n",
       "      <td>NaN</td>\n",
       "      <td>NaN</td>\n",
       "      <td>NaN</td>\n",
       "      <td>NaN</td>\n",
       "      <td>NaN</td>\n",
       "    </tr>\n",
       "    <tr>\n",
       "      <th>4</th>\n",
       "      <td>100706</td>\n",
       "      <td>00105500</td>\n",
       "      <td>1055.0</td>\n",
       "      <td>University of Alabama in Huntsville</td>\n",
       "      <td>Huntsville</td>\n",
       "      <td>AL</td>\n",
       "      <td>35899</td>\n",
       "      <td>NaN</td>\n",
       "      <td>NaN</td>\n",
       "      <td>1</td>\n",
       "      <td>1</td>\n",
       "      <td>3</td>\n",
       "      <td>4</td>\n",
       "      <td>1.0</td>\n",
       "      <td>NaN</td>\n",
       "      <td>NaN</td>\n",
       "      <td>NaN</td>\n",
       "      <td>0.0000</td>\n",
       "      <td>0.0000</td>\n",
       "      <td>0.0015</td>\n",
       "      <td>0.0000</td>\n",
       "      <td>0.0000</td>\n",
       "      <td>0.0550</td>\n",
       "      <td>0.0</td>\n",
       "      <td>0.0267</td>\n",
       "      <td>0.2719</td>\n",
       "      <td>0.0000</td>\n",
       "      <td>0.0208</td>\n",
       "      <td>0.0000</td>\n",
       "      <td>0.0</td>\n",
       "      <td>0.0416</td>\n",
       "      <td>0.0</td>\n",
       "      <td>0.0</td>\n",
       "      <td>0.0475</td>\n",
       "      <td>0.0134</td>\n",
       "      <td>0.0</td>\n",
       "      <td>0.0000</td>\n",
       "      <td>0.0000</td>\n",
       "      <td>0.0045</td>\n",
       "      <td>0.0</td>\n",
       "      <td>0.0208</td>\n",
       "      <td>0.0</td>\n",
       "      <td>0.0208</td>\n",
       "      <td>0.0000</td>\n",
       "      <td>0.0000</td>\n",
       "      <td>0.0238</td>\n",
       "      <td>0.0</td>\n",
       "      <td>0.0</td>\n",
       "      <td>0.0</td>\n",
       "      <td>0.0</td>\n",
       "      <td>0.0223</td>\n",
       "      <td>0.1694</td>\n",
       "      <td>0.2392</td>\n",
       "      <td>0.0208</td>\n",
       "      <td>NaN</td>\n",
       "      <td>NaN</td>\n",
       "      <td>NaN</td>\n",
       "      <td>NaN</td>\n",
       "      <td>NaN</td>\n",
       "      <td>NaN</td>\n",
       "      <td>NaN</td>\n",
       "      <td>NaN</td>\n",
       "      <td>NaN</td>\n",
       "      <td>NaN</td>\n",
       "      <td>NaN</td>\n",
       "      <td>NaN</td>\n",
       "      <td>NaN</td>\n",
       "      <td>NaN</td>\n",
       "      <td>NaN</td>\n",
       "      <td>NaN</td>\n",
       "      <td>NaN</td>\n",
       "      <td>NaN</td>\n",
       "      <td>NaN</td>\n",
       "      <td>NaN</td>\n",
       "      <td>NaN</td>\n",
       "      <td>NaN</td>\n",
       "      <td>NaN</td>\n",
       "      <td>NaN</td>\n",
       "      <td>NaN</td>\n",
       "      <td>NaN</td>\n",
       "      <td>4200.0</td>\n",
       "      <td>NaN</td>\n",
       "      <td>0.048</td>\n",
       "      <td>NaN</td>\n",
       "      <td>PrivacySuppressed</td>\n",
       "      <td>PrivacySuppressed</td>\n",
       "      <td>PrivacySuppressed</td>\n",
       "      <td>PrivacySuppressed</td>\n",
       "      <td>5500</td>\n",
       "      <td>12001.5</td>\n",
       "      <td>5500</td>\n",
       "      <td>5250</td>\n",
       "      <td>27289.5</td>\n",
       "      <td>NaN</td>\n",
       "      <td>NaN</td>\n",
       "      <td>NaN</td>\n",
       "      <td>1.0</td>\n",
       "      <td>NaN</td>\n",
       "      <td>1</td>\n",
       "      <td>NaN</td>\n",
       "      <td>NaN</td>\n",
       "      <td>NaN</td>\n",
       "      <td>NaN</td>\n",
       "      <td>NaN</td>\n",
       "      <td>NaN</td>\n",
       "      <td>NaN</td>\n",
       "      <td>NaN</td>\n",
       "      <td>NaN</td>\n",
       "      <td>NaN</td>\n",
       "      <td>NaN</td>\n",
       "      <td>NaN</td>\n",
       "      <td>NaN</td>\n",
       "      <td>NaN</td>\n",
       "    </tr>\n",
       "    <tr>\n",
       "      <th>5</th>\n",
       "      <td>100724</td>\n",
       "      <td>00100500</td>\n",
       "      <td>1005.0</td>\n",
       "      <td>Alabama State University</td>\n",
       "      <td>Montgomery</td>\n",
       "      <td>AL</td>\n",
       "      <td>36104-0271</td>\n",
       "      <td>NaN</td>\n",
       "      <td>NaN</td>\n",
       "      <td>1</td>\n",
       "      <td>1</td>\n",
       "      <td>3</td>\n",
       "      <td>4</td>\n",
       "      <td>1.0</td>\n",
       "      <td>NaN</td>\n",
       "      <td>NaN</td>\n",
       "      <td>NaN</td>\n",
       "      <td>0.0000</td>\n",
       "      <td>0.0000</td>\n",
       "      <td>0.0000</td>\n",
       "      <td>0.0509</td>\n",
       "      <td>0.0000</td>\n",
       "      <td>0.0959</td>\n",
       "      <td>0.0</td>\n",
       "      <td>0.3738</td>\n",
       "      <td>0.0000</td>\n",
       "      <td>0.0000</td>\n",
       "      <td>0.0000</td>\n",
       "      <td>0.0000</td>\n",
       "      <td>0.0</td>\n",
       "      <td>0.0117</td>\n",
       "      <td>0.0</td>\n",
       "      <td>0.0</td>\n",
       "      <td>0.0411</td>\n",
       "      <td>0.0157</td>\n",
       "      <td>0.0</td>\n",
       "      <td>0.0000</td>\n",
       "      <td>0.0254</td>\n",
       "      <td>0.0000</td>\n",
       "      <td>0.0</td>\n",
       "      <td>0.0059</td>\n",
       "      <td>0.0</td>\n",
       "      <td>0.0411</td>\n",
       "      <td>0.0900</td>\n",
       "      <td>0.0528</td>\n",
       "      <td>0.0176</td>\n",
       "      <td>0.0</td>\n",
       "      <td>0.0</td>\n",
       "      <td>0.0</td>\n",
       "      <td>0.0</td>\n",
       "      <td>0.0196</td>\n",
       "      <td>0.0020</td>\n",
       "      <td>0.1526</td>\n",
       "      <td>0.0039</td>\n",
       "      <td>NaN</td>\n",
       "      <td>NaN</td>\n",
       "      <td>NaN</td>\n",
       "      <td>NaN</td>\n",
       "      <td>NaN</td>\n",
       "      <td>NaN</td>\n",
       "      <td>NaN</td>\n",
       "      <td>NaN</td>\n",
       "      <td>NaN</td>\n",
       "      <td>NaN</td>\n",
       "      <td>NaN</td>\n",
       "      <td>NaN</td>\n",
       "      <td>NaN</td>\n",
       "      <td>NaN</td>\n",
       "      <td>NaN</td>\n",
       "      <td>NaN</td>\n",
       "      <td>NaN</td>\n",
       "      <td>NaN</td>\n",
       "      <td>NaN</td>\n",
       "      <td>NaN</td>\n",
       "      <td>NaN</td>\n",
       "      <td>NaN</td>\n",
       "      <td>NaN</td>\n",
       "      <td>NaN</td>\n",
       "      <td>NaN</td>\n",
       "      <td>NaN</td>\n",
       "      <td>68868.0</td>\n",
       "      <td>NaN</td>\n",
       "      <td>0.188</td>\n",
       "      <td>NaN</td>\n",
       "      <td>PrivacySuppressed</td>\n",
       "      <td>PrivacySuppressed</td>\n",
       "      <td>PrivacySuppressed</td>\n",
       "      <td>PrivacySuppressed</td>\n",
       "      <td>4000</td>\n",
       "      <td>16814</td>\n",
       "      <td>3938</td>\n",
       "      <td>4768</td>\n",
       "      <td>16584.5</td>\n",
       "      <td>NaN</td>\n",
       "      <td>NaN</td>\n",
       "      <td>NaN</td>\n",
       "      <td>1.0</td>\n",
       "      <td>NaN</td>\n",
       "      <td>1</td>\n",
       "      <td>NaN</td>\n",
       "      <td>NaN</td>\n",
       "      <td>NaN</td>\n",
       "      <td>NaN</td>\n",
       "      <td>NaN</td>\n",
       "      <td>NaN</td>\n",
       "      <td>NaN</td>\n",
       "      <td>NaN</td>\n",
       "      <td>NaN</td>\n",
       "      <td>NaN</td>\n",
       "      <td>NaN</td>\n",
       "      <td>NaN</td>\n",
       "      <td>NaN</td>\n",
       "      <td>NaN</td>\n",
       "    </tr>\n",
       "  </tbody>\n",
       "</table>\n",
       "</div>"
      ],
      "text/plain": [
       "             UNITID     OPEID   OPEID6                               INSTNM  \\\n",
       "year rowNum                                                                   \n",
       "2000 1       100654  00100200   1002.0             Alabama A & M University   \n",
       "     2       100663  00105200   1052.0  University of Alabama at Birmingham   \n",
       "     3       100690  02503400  25034.0                   Amridge University   \n",
       "     4       100706  00105500   1055.0  University of Alabama in Huntsville   \n",
       "     5       100724  00100500   1005.0             Alabama State University   \n",
       "\n",
       "                   CITY STABBR         ZIP  ACCREDAGENCY  HCM2  MAIN  \\\n",
       "year rowNum                                                            \n",
       "2000 1           Normal     AL       35762           NaN   NaN     1   \n",
       "     2       Birmingham     AL  35294-0110           NaN   NaN     1   \n",
       "     3       Montgomery     AL  36117-3553           NaN   NaN     1   \n",
       "     4       Huntsville     AL       35899           NaN   NaN     1   \n",
       "     5       Montgomery     AL  36104-0271           NaN   NaN     1   \n",
       "\n",
       "             NUMBRANCH  PREDDEG  HIGHDEG  CONTROL  ADM_RATE  ADM_RATE_ALL  \\\n",
       "year rowNum                                                                 \n",
       "2000 1               1        3        4      1.0       NaN           NaN   \n",
       "     2               1        3        4      1.0       NaN           NaN   \n",
       "     3               1        3        4      2.0       NaN           NaN   \n",
       "     4               1        3        4      1.0       NaN           NaN   \n",
       "     5               1        3        4      1.0       NaN           NaN   \n",
       "\n",
       "             SAT_AVG_ALL  PCIP01  PCIP03  PCIP05  PCIP09  PCIP10  PCIP11  \\\n",
       "year rowNum                                                                \n",
       "2000 1               NaN  0.0624  0.0183  0.0000  0.0000  0.0239  0.0349   \n",
       "     2               NaN  0.0000  0.0000  0.0000  0.0352  0.0000  0.0224   \n",
       "     3               NaN  0.0000  0.0000  0.0000  0.0000  0.0000  0.0000   \n",
       "     4               NaN  0.0000  0.0000  0.0015  0.0000  0.0000  0.0550   \n",
       "     5               NaN  0.0000  0.0000  0.0000  0.0509  0.0000  0.0959   \n",
       "\n",
       "             PCIP12  PCIP13  PCIP14  PCIP15  PCIP16  PCIP19  PCIP22  PCIP23  \\\n",
       "year rowNum                                                                   \n",
       "2000 1          0.0  0.2569  0.0183  0.1083  0.0000  0.0294     0.0  0.0092   \n",
       "     2          0.0  0.1223  0.0525  0.0000  0.0051  0.0000     0.0  0.0166   \n",
       "     3          0.0  0.0000  0.0000  0.0000  0.0000  0.0000     0.0  0.0000   \n",
       "     4          0.0  0.0267  0.2719  0.0000  0.0208  0.0000     0.0  0.0416   \n",
       "     5          0.0  0.3738  0.0000  0.0000  0.0000  0.0000     0.0  0.0117   \n",
       "\n",
       "             PCIP24  PCIP25  PCIP26  PCIP27  PCIP29  PCIP30  PCIP31  PCIP38  \\\n",
       "year rowNum                                                                   \n",
       "2000 1          0.0     0.0  0.0661  0.0202     0.0  0.0000  0.0000  0.0000   \n",
       "     2          0.0     0.0  0.0743  0.0038     0.0  0.0019  0.0000  0.0083   \n",
       "     3          0.0     0.0  0.0000  0.0000     0.0  0.0000  0.0000  0.0000   \n",
       "     4          0.0     0.0  0.0475  0.0134     0.0  0.0000  0.0000  0.0045   \n",
       "     5          0.0     0.0  0.0411  0.0157     0.0  0.0000  0.0254  0.0000   \n",
       "\n",
       "             PCIP39  PCIP40  PCIP41  PCIP42  PCIP43  PCIP44  PCIP45  PCIP46  \\\n",
       "year rowNum                                                                   \n",
       "2000 1          0.0  0.0183     0.0  0.0514  0.0000  0.0440  0.0422     0.0   \n",
       "     2          0.0  0.0134     0.0  0.0794  0.0467  0.0173  0.0551     0.0   \n",
       "     3          1.0  0.0000     0.0  0.0000  0.0000  0.0000  0.0000     0.0   \n",
       "     4          0.0  0.0208     0.0  0.0208  0.0000  0.0000  0.0238     0.0   \n",
       "     5          0.0  0.0059     0.0  0.0411  0.0900  0.0528  0.0176     0.0   \n",
       "\n",
       "             PCIP47  PCIP48  PCIP49  PCIP50  PCIP51  PCIP52  PCIP54  \\\n",
       "year rowNum                                                           \n",
       "2000 1          0.0     0.0     0.0  0.0037  0.0000  0.1798  0.0018   \n",
       "     2          0.0     0.0     0.0  0.0262  0.1895  0.1914  0.0384   \n",
       "     3          0.0     0.0     0.0  0.0000  0.0000  0.0000  0.0000   \n",
       "     4          0.0     0.0     0.0  0.0223  0.1694  0.2392  0.0208   \n",
       "     5          0.0     0.0     0.0  0.0196  0.0020  0.1526  0.0039   \n",
       "\n",
       "             DISTANCEONLY  UGDS  UGDS_WHITE  UGDS_BLACK  UGDS_HISP  \\\n",
       "year rowNum                                                          \n",
       "2000 1                NaN   NaN         NaN         NaN        NaN   \n",
       "     2                NaN   NaN         NaN         NaN        NaN   \n",
       "     3                NaN   NaN         NaN         NaN        NaN   \n",
       "     4                NaN   NaN         NaN         NaN        NaN   \n",
       "     5                NaN   NaN         NaN         NaN        NaN   \n",
       "\n",
       "             UGDS_ASIAN  CURROPER  NPT4_PUB  NPT4_PRIV  NPT41_PUB  NPT42_PUB  \\\n",
       "year rowNum                                                                    \n",
       "2000 1              NaN       NaN       NaN        NaN        NaN        NaN   \n",
       "     2              NaN       NaN       NaN        NaN        NaN        NaN   \n",
       "     3              NaN       NaN       NaN        NaN        NaN        NaN   \n",
       "     4              NaN       NaN       NaN        NaN        NaN        NaN   \n",
       "     5              NaN       NaN       NaN        NaN        NaN        NaN   \n",
       "\n",
       "             NPT43_PUB  NPT41_PRIV  NPT42_PRIV  NPT43_PRIV  NUM41_PUB  \\\n",
       "year rowNum                                                             \n",
       "2000 1             NaN         NaN         NaN         NaN        NaN   \n",
       "     2             NaN         NaN         NaN         NaN        NaN   \n",
       "     3             NaN         NaN         NaN         NaN        NaN   \n",
       "     4             NaN         NaN         NaN         NaN        NaN   \n",
       "     5             NaN         NaN         NaN         NaN        NaN   \n",
       "\n",
       "             NUM42_PUB  NUM43_PUB  NUM44_PUB  NUM45_PUB  NUM41_PRIV  \\\n",
       "year rowNum                                                           \n",
       "2000 1             NaN        NaN        NaN        NaN         NaN   \n",
       "     2             NaN        NaN        NaN        NaN         NaN   \n",
       "     3             NaN        NaN        NaN        NaN         NaN   \n",
       "     4             NaN        NaN        NaN        NaN         NaN   \n",
       "     5             NaN        NaN        NaN        NaN         NaN   \n",
       "\n",
       "             NUM42_PRIV  NUM43_PRIV  NUM44_PRIV  NUM45_PRIV  COSTT4_A  \\\n",
       "year rowNum                                                             \n",
       "2000 1              NaN         NaN         NaN         NaN       NaN   \n",
       "     2              NaN         NaN         NaN         NaN       NaN   \n",
       "     3              NaN         NaN         NaN         NaN       NaN   \n",
       "     4              NaN         NaN         NaN         NaN       NaN   \n",
       "     5              NaN         NaN         NaN         NaN       NaN   \n",
       "\n",
       "             TUITFTE  PCTFLOAN   CDR2  CDR3       DEATH_YR2_RT  \\\n",
       "year rowNum                                                      \n",
       "2000 1        3486.0       NaN  0.119   NaN  PrivacySuppressed   \n",
       "     2        6348.0       NaN  0.054   NaN  PrivacySuppressed   \n",
       "     3        5397.0       NaN  0.016   NaN  PrivacySuppressed   \n",
       "     4        4200.0       NaN  0.048   NaN  PrivacySuppressed   \n",
       "     5       68868.0       NaN  0.188   NaN  PrivacySuppressed   \n",
       "\n",
       "            LO_INC_DEATH_YR2_RT MD_INC_DEATH_YR2_RT HI_INC_DEATH_YR2_RT  \\\n",
       "year rowNum                                                               \n",
       "2000 1        PrivacySuppressed   PrivacySuppressed   PrivacySuppressed   \n",
       "     2        PrivacySuppressed   PrivacySuppressed   PrivacySuppressed   \n",
       "     3        PrivacySuppressed   PrivacySuppressed   PrivacySuppressed   \n",
       "     4        PrivacySuppressed   PrivacySuppressed   PrivacySuppressed   \n",
       "     5        PrivacySuppressed   PrivacySuppressed   PrivacySuppressed   \n",
       "\n",
       "            DEBT_MDN GRAD_DEBT_MDN PELL_DEBT_MDN NOPELL_DEBT_MDN MD_FAMINC  \\\n",
       "year rowNum                                                                  \n",
       "2000 1          4625         15374        4617.5          4625.5     18979   \n",
       "     2          5000          4125        4766.5            5250     22336   \n",
       "     3        5655.5          9900          5500            8087     24892   \n",
       "     4          5500       12001.5          5500            5250   27289.5   \n",
       "     5          4000         16814          3938            4768   16584.5   \n",
       "\n",
       "            MD_EARN_WNE_P6 MD_EARN_WNE_P8  C100_4  ICLEVEL  \\\n",
       "year rowNum                                                  \n",
       "2000 1                 NaN            NaN     NaN      1.0   \n",
       "     2                 NaN            NaN     NaN      1.0   \n",
       "     3                 NaN            NaN     NaN      1.0   \n",
       "     4                 NaN            NaN     NaN      1.0   \n",
       "     5                 NaN            NaN     NaN      1.0   \n",
       "\n",
       "             C100_4_POOLED_SUPP  OPEFLAG  CIPCODE1  CIPCODE2  CIPCODE3  \\\n",
       "year rowNum                                                              \n",
       "2000 1                      NaN        1       NaN       NaN       NaN   \n",
       "     2                      NaN        1       NaN       NaN       NaN   \n",
       "     3                      NaN        1       NaN       NaN       NaN   \n",
       "     4                      NaN        1       NaN       NaN       NaN   \n",
       "     5                      NaN        1       NaN       NaN       NaN   \n",
       "\n",
       "             FTFTPCTPELL  FTFTPCTFLOAN PLUS_DEBT_INST_MD  \\\n",
       "year rowNum                                                \n",
       "2000 1               NaN           NaN               NaN   \n",
       "     2               NaN           NaN               NaN   \n",
       "     3               NaN           NaN               NaN   \n",
       "     4               NaN           NaN               NaN   \n",
       "     5               NaN           NaN               NaN   \n",
       "\n",
       "            BBRR1_FED_UG_MAKEPROG BBRR1_FED_UG_PAIDINFULL  \\\n",
       "year rowNum                                                 \n",
       "2000 1                        NaN                     NaN   \n",
       "     2                        NaN                     NaN   \n",
       "     3                        NaN                     NaN   \n",
       "     4                        NaN                     NaN   \n",
       "     5                        NaN                     NaN   \n",
       "\n",
       "             MD_EARN_WNE_INC1_P6  MD_EARN_WNE_INC2_P6  MD_EARN_WNE_INC3_P6  \\\n",
       "year rowNum                                                                  \n",
       "2000 1                       NaN                  NaN                  NaN   \n",
       "     2                       NaN                  NaN                  NaN   \n",
       "     3                       NaN                  NaN                  NaN   \n",
       "     4                       NaN                  NaN                  NaN   \n",
       "     5                       NaN                  NaN                  NaN   \n",
       "\n",
       "             STUFACR  MD_EARN_WNE_1YR  MD_EARN_WNE_4YR  \n",
       "year rowNum                                             \n",
       "2000 1           NaN              NaN              NaN  \n",
       "     2           NaN              NaN              NaN  \n",
       "     3           NaN              NaN              NaN  \n",
       "     4           NaN              NaN              NaN  \n",
       "     5           NaN              NaN              NaN  "
      ]
     },
     "execution_count": 6,
     "metadata": {},
     "output_type": "execute_result"
    }
   ],
   "source": [
    "fourYear = titleIV[titleIV['ICLEVEL'] == 1]\n",
    "shape = fourYear.shape\n",
    "\n",
    "print(\"[+]  fourYearShape: \", shape)\n",
    "fourYear.head()"
   ]
  },
  {
   "cell_type": "code",
   "execution_count": 7,
   "metadata": {},
   "outputs": [],
   "source": [
    "def ffillByYear(df, colName, flag=False, start=2000, end=2021):\n",
    "    for yr in range(start, end):\n",
    "        x = df.loc[yr]\n",
    "        arr1 = x['UNITID']\n",
    "        idx1 = x.index\n",
    "        \n",
    "        for i, id in enumerate(arr1):\n",
    "            num1 = x[x['UNITID'] == id][colName].iloc[0]\n",
    "            if (np.isnan(num1) or num1 == 0.0):\n",
    "                for nextYr in range(yr + 1, 2021):\n",
    "                    y = df.loc[nextYr]\n",
    "                    num2 = y[y['UNITID'] == id][colName]\n",
    "\n",
    "                    if ( (len(num2) > 0) and (not np.isnan(num2.iloc[0])) and (num2.iloc[0] > 0)):\n",
    "                        if (not flag):\n",
    "                            df.loc[yr].loc[idx1[i], colName] = num2.iloc[0]\n",
    "                        else:\n",
    "                            df.loc[yr].loc[idx1[i], colName] = num2.iloc[0] - 0.05 * num2.iloc[0]\n",
    "                        break "
   ]
  },
  {
   "cell_type": "code",
   "execution_count": 8,
   "metadata": {},
   "outputs": [
    {
     "data": {
      "text/html": [
       "<div>\n",
       "<style scoped>\n",
       "    .dataframe tbody tr th:only-of-type {\n",
       "        vertical-align: middle;\n",
       "    }\n",
       "\n",
       "    .dataframe tbody tr th {\n",
       "        vertical-align: top;\n",
       "    }\n",
       "\n",
       "    .dataframe thead th {\n",
       "        text-align: right;\n",
       "    }\n",
       "</style>\n",
       "<table border=\"1\" class=\"dataframe\">\n",
       "  <thead>\n",
       "    <tr style=\"text-align: right;\">\n",
       "      <th></th>\n",
       "      <th>count</th>\n",
       "      <th>mean</th>\n",
       "      <th>std</th>\n",
       "      <th>min</th>\n",
       "      <th>25%</th>\n",
       "      <th>50%</th>\n",
       "      <th>75%</th>\n",
       "      <th>max</th>\n",
       "    </tr>\n",
       "    <tr>\n",
       "      <th>UNITID</th>\n",
       "      <th></th>\n",
       "      <th></th>\n",
       "      <th></th>\n",
       "      <th></th>\n",
       "      <th></th>\n",
       "      <th></th>\n",
       "      <th></th>\n",
       "      <th></th>\n",
       "    </tr>\n",
       "  </thead>\n",
       "  <tbody>\n",
       "    <tr>\n",
       "      <th>100654</th>\n",
       "      <td>11.0</td>\n",
       "      <td>0.929336</td>\n",
       "      <td>0.023026</td>\n",
       "      <td>0.9022</td>\n",
       "      <td>0.909650</td>\n",
       "      <td>0.92160</td>\n",
       "      <td>0.952650</td>\n",
       "      <td>0.9617</td>\n",
       "    </tr>\n",
       "    <tr>\n",
       "      <th>100663</th>\n",
       "      <td>11.0</td>\n",
       "      <td>0.257464</td>\n",
       "      <td>0.009440</td>\n",
       "      <td>0.2401</td>\n",
       "      <td>0.254700</td>\n",
       "      <td>0.25900</td>\n",
       "      <td>0.264000</td>\n",
       "      <td>0.2684</td>\n",
       "    </tr>\n",
       "    <tr>\n",
       "      <th>100690</th>\n",
       "      <td>11.0</td>\n",
       "      <td>0.469755</td>\n",
       "      <td>0.206927</td>\n",
       "      <td>0.1778</td>\n",
       "      <td>0.342050</td>\n",
       "      <td>0.41920</td>\n",
       "      <td>0.703200</td>\n",
       "      <td>0.7288</td>\n",
       "    </tr>\n",
       "    <tr>\n",
       "      <th>100706</th>\n",
       "      <td>11.0</td>\n",
       "      <td>0.119100</td>\n",
       "      <td>0.021636</td>\n",
       "      <td>0.0879</td>\n",
       "      <td>0.102100</td>\n",
       "      <td>0.12300</td>\n",
       "      <td>0.135900</td>\n",
       "      <td>0.1495</td>\n",
       "    </tr>\n",
       "    <tr>\n",
       "      <th>100724</th>\n",
       "      <td>14.0</td>\n",
       "      <td>0.944443</td>\n",
       "      <td>0.020141</td>\n",
       "      <td>0.9208</td>\n",
       "      <td>0.927750</td>\n",
       "      <td>0.93655</td>\n",
       "      <td>0.955200</td>\n",
       "      <td>0.9776</td>\n",
       "    </tr>\n",
       "    <tr>\n",
       "      <th>...</th>\n",
       "      <td>...</td>\n",
       "      <td>...</td>\n",
       "      <td>...</td>\n",
       "      <td>...</td>\n",
       "      <td>...</td>\n",
       "      <td>...</td>\n",
       "      <td>...</td>\n",
       "      <td>...</td>\n",
       "    </tr>\n",
       "    <tr>\n",
       "      <th>493822</th>\n",
       "      <td>2.0</td>\n",
       "      <td>0.227200</td>\n",
       "      <td>0.001273</td>\n",
       "      <td>0.2263</td>\n",
       "      <td>0.226750</td>\n",
       "      <td>0.22720</td>\n",
       "      <td>0.227650</td>\n",
       "      <td>0.2281</td>\n",
       "    </tr>\n",
       "    <tr>\n",
       "      <th>494621</th>\n",
       "      <td>1.0</td>\n",
       "      <td>0.210500</td>\n",
       "      <td>NaN</td>\n",
       "      <td>0.2105</td>\n",
       "      <td>0.210500</td>\n",
       "      <td>0.21050</td>\n",
       "      <td>0.210500</td>\n",
       "      <td>0.2105</td>\n",
       "    </tr>\n",
       "    <tr>\n",
       "      <th>494685</th>\n",
       "      <td>2.0</td>\n",
       "      <td>0.051950</td>\n",
       "      <td>0.012657</td>\n",
       "      <td>0.0430</td>\n",
       "      <td>0.047475</td>\n",
       "      <td>0.05195</td>\n",
       "      <td>0.056425</td>\n",
       "      <td>0.0609</td>\n",
       "    </tr>\n",
       "    <tr>\n",
       "      <th>495059</th>\n",
       "      <td>1.0</td>\n",
       "      <td>0.083300</td>\n",
       "      <td>NaN</td>\n",
       "      <td>0.0833</td>\n",
       "      <td>0.083300</td>\n",
       "      <td>0.08330</td>\n",
       "      <td>0.083300</td>\n",
       "      <td>0.0833</td>\n",
       "    </tr>\n",
       "    <tr>\n",
       "      <th>495767</th>\n",
       "      <td>1.0</td>\n",
       "      <td>0.058800</td>\n",
       "      <td>NaN</td>\n",
       "      <td>0.0588</td>\n",
       "      <td>0.058800</td>\n",
       "      <td>0.05880</td>\n",
       "      <td>0.058800</td>\n",
       "      <td>0.0588</td>\n",
       "    </tr>\n",
       "  </tbody>\n",
       "</table>\n",
       "<p>2365 rows × 8 columns</p>\n",
       "</div>"
      ],
      "text/plain": [
       "        count      mean       std     min       25%      50%       75%     max\n",
       "UNITID                                                                        \n",
       "100654   11.0  0.929336  0.023026  0.9022  0.909650  0.92160  0.952650  0.9617\n",
       "100663   11.0  0.257464  0.009440  0.2401  0.254700  0.25900  0.264000  0.2684\n",
       "100690   11.0  0.469755  0.206927  0.1778  0.342050  0.41920  0.703200  0.7288\n",
       "100706   11.0  0.119100  0.021636  0.0879  0.102100  0.12300  0.135900  0.1495\n",
       "100724   14.0  0.944443  0.020141  0.9208  0.927750  0.93655  0.955200  0.9776\n",
       "...       ...       ...       ...     ...       ...      ...       ...     ...\n",
       "493822    2.0  0.227200  0.001273  0.2263  0.226750  0.22720  0.227650  0.2281\n",
       "494621    1.0  0.210500       NaN  0.2105  0.210500  0.21050  0.210500  0.2105\n",
       "494685    2.0  0.051950  0.012657  0.0430  0.047475  0.05195  0.056425  0.0609\n",
       "495059    1.0  0.083300       NaN  0.0833  0.083300  0.08330  0.083300  0.0833\n",
       "495767    1.0  0.058800       NaN  0.0588  0.058800  0.05880  0.058800  0.0588\n",
       "\n",
       "[2365 rows x 8 columns]"
      ]
     },
     "execution_count": 8,
     "metadata": {},
     "output_type": "execute_result"
    }
   ],
   "source": [
    "pd.set_option('display.max_rows', 10)\n",
    "filtered_public_institutions = fourYear[(fourYear['UGDS_BLACK'].notna()) & (fourYear['UGDS_BLACK'] != 0.0)]\n",
    "grpInstitutions = filtered_public_institutions.groupby('UNITID')\n",
    "stat = grpInstitutions['UGDS_BLACK'].describe()\n",
    "stat"
   ]
  },
  {
   "cell_type": "code",
   "execution_count": 9,
   "metadata": {},
   "outputs": [
    {
     "data": {
      "text/plain": [
       "Series([], Name: count, dtype: int64)"
      ]
     },
     "execution_count": 9,
     "metadata": {},
     "output_type": "execute_result"
    }
   ],
   "source": [
    "fourYear[fourYear['UNITID'] == 102322.0]['UGDS_WHITE'].value_counts()\n",
    "# Some institutes have NaN all across in UGDS_WHITE"
   ]
  },
  {
   "cell_type": "markdown",
   "metadata": {},
   "source": [
    "UGDS_WHITE: Fraction of undergrads that are white\n",
    "UGDS_BLACK: Fraction of undergrads that are black\n",
    "UGDS_ASIAN: Fraction of undergrads that are asian\n",
    "\n",
    "Below Code handles the NaNs in the UGDS_WHITE, UGDS_BLACK and UGDS_ASIAN columns\n",
    "As we  can see in the above table of stats, there is not much variablity in the UGDS_BLACK column(max and min are very-close and deviation is very\n",
    "low) for a given institution.\n",
    "\n",
    "The code replaces the NaNs and 0s with mean values, and if an institution got established only in that year it replaces the values with minimum valid value in that institution over the next years."
   ]
  },
  {
   "cell_type": "code",
   "execution_count": 10,
   "metadata": {},
   "outputs": [],
   "source": [
    "filtered_institutions = 0 # This code may take upto 10 sec to run.\n",
    "stat = 0\n",
    "\n",
    "def createRaceStat(df, race):\n",
    "    global filtered_institutions\n",
    "    filtered_institutions = df[(df[race].notna()) & (df[race] != 0.0)]\n",
    "    grpInstitutions = filtered_institutions.groupby('UNITID')\n",
    "    stat = grpInstitutions[race].describe()\n",
    "    return stat\n",
    "\n",
    "def updateRace(val, race):\n",
    "    if (val['UNITID'] not in stat.index):\n",
    "        return filtered_institutions[race].min()\n",
    "    elif ( (np.isnan(val[race])) or (val[race] == 0.0) ):\n",
    "        return stat['mean'].loc[val['UNITID']]\n",
    "    return val[race]\n",
    "\n",
    "stat = createRaceStat(fourYear, 'UGDS_WHITE')\n",
    "fourYear.loc[:, 'UGDS_WHITE'] = fourYear[['UNITID', 'UGDS_WHITE']].apply(updateRace, axis=1, race='UGDS_WHITE')\n",
    "\n",
    "stat = createRaceStat(fourYear, 'UGDS_BLACK')\n",
    "fourYear.loc[:, 'UGDS_BLACK'] = fourYear[['UNITID', 'UGDS_BLACK']].apply(updateRace, axis=1, race='UGDS_BLACK')\n",
    "\n",
    "stat = createRaceStat(fourYear, 'UGDS_ASIAN')\n",
    "fourYear.loc[:, 'UGDS_ASIAN'] = fourYear[['UNITID', 'UGDS_ASIAN']].apply(updateRace, axis=1, race='UGDS_ASIAN')"
   ]
  },
  {
   "cell_type": "markdown",
   "metadata": {},
   "source": [
    "UGDS => No. of undergraduates enrolled in a given year.\n",
    "\n",
    "Below code handles the NaNs in UGDS column, by filling it with the next non-null, non-zero value found in the next year that has a valid value in the UGDS column of the same institution.\n",
    "\n",
    "Since number of undergrads enrolled won't change signifincatly between a few years this method is mostly correct"
   ]
  },
  {
   "cell_type": "code",
   "execution_count": 11,
   "metadata": {},
   "outputs": [
    {
     "data": {
      "text/plain": [
       "dtype('float64')"
      ]
     },
     "execution_count": 11,
     "metadata": {},
     "output_type": "execute_result"
    }
   ],
   "source": [
    "ffillByYear(fourYear, 'UGDS') # This code may take upto 40 seconds to run\n",
    "fourYear['UGDS'].dtype"
   ]
  },
  {
   "cell_type": "code",
   "execution_count": 12,
   "metadata": {},
   "outputs": [
    {
     "name": "stdout",
     "output_type": "stream",
     "text": [
      "[+] DataType:  object\n"
     ]
    }
   ],
   "source": [
    "salaryDtype = fourYear['MD_EARN_WNE_P6'].dtype\n",
    "print(\"[+] DataType: \", salaryDtype)"
   ]
  },
  {
   "cell_type": "markdown",
   "metadata": {},
   "source": [
    "Changing the data type to float and replacing the NaNs and PrivacySuppressed values with 0 in the Median Earnings columns"
   ]
  },
  {
   "cell_type": "code",
   "execution_count": 13,
   "metadata": {},
   "outputs": [
    {
     "name": "stderr",
     "output_type": "stream",
     "text": [
      "/var/folders/2v/33p_wnzd3gj0lfp0r82qrhl00000gp/T/ipykernel_3960/2461558728.py:7: SettingWithCopyWarning: \n",
      "A value is trying to be set on a copy of a slice from a DataFrame.\n",
      "Try using .loc[row_indexer,col_indexer] = value instead\n",
      "\n",
      "See the caveats in the documentation: https://pandas.pydata.org/pandas-docs/stable/user_guide/indexing.html#returning-a-view-versus-a-copy\n",
      "  fourYear['MD_EARN_WNE_P6'] = fourYear['MD_EARN_WNE_P6'].apply(updateEarnings)\n",
      "/var/folders/2v/33p_wnzd3gj0lfp0r82qrhl00000gp/T/ipykernel_3960/2461558728.py:8: SettingWithCopyWarning: \n",
      "A value is trying to be set on a copy of a slice from a DataFrame.\n",
      "Try using .loc[row_indexer,col_indexer] = value instead\n",
      "\n",
      "See the caveats in the documentation: https://pandas.pydata.org/pandas-docs/stable/user_guide/indexing.html#returning-a-view-versus-a-copy\n",
      "  fourYear['MD_EARN_WNE_P6'] = fourYear['MD_EARN_WNE_P6'].astype(float)\n",
      "/var/folders/2v/33p_wnzd3gj0lfp0r82qrhl00000gp/T/ipykernel_3960/2461558728.py:10: SettingWithCopyWarning: \n",
      "A value is trying to be set on a copy of a slice from a DataFrame.\n",
      "Try using .loc[row_indexer,col_indexer] = value instead\n",
      "\n",
      "See the caveats in the documentation: https://pandas.pydata.org/pandas-docs/stable/user_guide/indexing.html#returning-a-view-versus-a-copy\n",
      "  fourYear['GRAD_DEBT_MDN'] = fourYear['GRAD_DEBT_MDN'].apply(updateEarnings)\n",
      "/var/folders/2v/33p_wnzd3gj0lfp0r82qrhl00000gp/T/ipykernel_3960/2461558728.py:11: SettingWithCopyWarning: \n",
      "A value is trying to be set on a copy of a slice from a DataFrame.\n",
      "Try using .loc[row_indexer,col_indexer] = value instead\n",
      "\n",
      "See the caveats in the documentation: https://pandas.pydata.org/pandas-docs/stable/user_guide/indexing.html#returning-a-view-versus-a-copy\n",
      "  fourYear['GRAD_DEBT_MDN'] = fourYear['GRAD_DEBT_MDN'].astype(float)\n"
     ]
    }
   ],
   "source": [
    "#Clean the MD_EARN_WNE_P6\n",
    "def updateEarnings(val):\n",
    "    if (val == 'PrivacySuppressed' or pd.isna(val)):\n",
    "        return 0.0\n",
    "    return float(val)\n",
    "\n",
    "fourYear['MD_EARN_WNE_P6'] = fourYear['MD_EARN_WNE_P6'].apply(updateEarnings)\n",
    "fourYear['MD_EARN_WNE_P6'] = fourYear['MD_EARN_WNE_P6'].astype(float)\n",
    "\n",
    "fourYear['GRAD_DEBT_MDN'] = fourYear['GRAD_DEBT_MDN'].apply(updateEarnings)\n",
    "fourYear['GRAD_DEBT_MDN'] = fourYear['GRAD_DEBT_MDN'].astype(float)"
   ]
  },
  {
   "cell_type": "code",
   "execution_count": 14,
   "metadata": {},
   "outputs": [],
   "source": [
    "# Generating the required columns\n",
    "reqCols = ['UNITID', 'INSTNM', 'CONTROL', 'ADM_RATE_ALL', 'C100_4', 'SAT_AVG_ALL', 'UGDS', 'UGDS_WHITE', 'UGDS_BLACK', 'UGDS_ASIAN', 'UGDS_HISP', 'MD_EARN_WNE_P6', 'GRAD_DEBT_MDN', 'NPT4_PRIV', 'NPT4_PUB', 'NPT41_PUB', 'NPT41_PRIV', 'NPT42_PUB', 'NPT42_PRIV', 'NPT43_PUB', 'NPT43_PRIV', 'COSTT4_A', 'STUFACR', 'FTFTPCTFLOAN', 'FTFTPCTPELL', 'PLUS_DEBT_INST_MD',\n",
    "           'NUM41_PUB', 'NUM42_PUB', 'NUM43_PUB', 'NUM44_PUB', 'NUM45_PUB', 'NUM41_PRIV', 'NUM42_PRIV', 'NUM43_PRIV', 'NUM44_PRIV', 'NUM45_PRIV',\n",
    "           ]\n",
    "\n",
    "for num in availCourseCode:\n",
    "    reqCols.append('PCIP' + str(f\"{num:02d}\"))"
   ]
  },
  {
   "cell_type": "code",
   "execution_count": 15,
   "metadata": {},
   "outputs": [],
   "source": [
    "# fourYear[fourYear['INSTNM'].str.contains('University of Texas at Austin')]"
   ]
  },
  {
   "cell_type": "markdown",
   "metadata": {},
   "source": [
    "## University Selection\n",
    "<br>\n",
    "There are two types of institutes that have been selected:<br><br>\n",
    "1: Type-1(Ivy/Ivy League Plus  referred to as elite-colleges in the story):<br>\n",
    "'Massachusetts Institute of Technology', 'Stanford University', 'University of Pennsylvania', 'Princeton University', 'Harvard University', <br>\n",
    "'Northwestern University', 'Johns Hopkins University', 'Brown University', 'Washington University in St Louis', 'Duke University'\n",
    "\n",
    "2: Type-2(Non-Ivy League Plus Colleges referred to as non-elite colleges in the story):<br>\n",
    "'University of Nevada-Las Vegas', 'University of North Texas', 'University of Nevada-Reno','University of South Florida', 'University of Arizona',<br>\n",
    "'Wichita State University', 'Louisiana Tech University', 'Ball State University', 'Cleveland State University', 'University of Arkansas'\n"
   ]
  },
  {
   "cell_type": "code",
   "execution_count": 16,
   "metadata": {},
   "outputs": [
    {
     "data": {
      "text/html": [
       "<div>\n",
       "<style scoped>\n",
       "    .dataframe tbody tr th:only-of-type {\n",
       "        vertical-align: middle;\n",
       "    }\n",
       "\n",
       "    .dataframe tbody tr th {\n",
       "        vertical-align: top;\n",
       "    }\n",
       "\n",
       "    .dataframe thead th {\n",
       "        text-align: right;\n",
       "    }\n",
       "</style>\n",
       "<table border=\"1\" class=\"dataframe\">\n",
       "  <thead>\n",
       "    <tr style=\"text-align: right;\">\n",
       "      <th></th>\n",
       "      <th></th>\n",
       "      <th>INSTNM</th>\n",
       "      <th>ADM_RATE_ALL</th>\n",
       "      <th>UGDS</th>\n",
       "      <th>COSTT4_A</th>\n",
       "      <th>STUFACR</th>\n",
       "      <th>FTFTPCTFLOAN</th>\n",
       "      <th>FTFTPCTPELL</th>\n",
       "      <th>NUM41_PRIV</th>\n",
       "      <th>NUM42_PRIV</th>\n",
       "      <th>NUM43_PRIV</th>\n",
       "      <th>NUM44_PRIV</th>\n",
       "      <th>NUM45_PRIV</th>\n",
       "    </tr>\n",
       "    <tr>\n",
       "      <th>year</th>\n",
       "      <th>rowNum</th>\n",
       "      <th></th>\n",
       "      <th></th>\n",
       "      <th></th>\n",
       "      <th></th>\n",
       "      <th></th>\n",
       "      <th></th>\n",
       "      <th></th>\n",
       "      <th></th>\n",
       "      <th></th>\n",
       "      <th></th>\n",
       "      <th></th>\n",
       "      <th></th>\n",
       "    </tr>\n",
       "  </thead>\n",
       "  <tbody>\n",
       "    <tr>\n",
       "      <th rowspan=\"10\" valign=\"top\">2010</th>\n",
       "      <th>1188</th>\n",
       "      <td>Northwestern University</td>\n",
       "      <td>0.2620</td>\n",
       "      <td>8905.0</td>\n",
       "      <td>52080.0</td>\n",
       "      <td>7.0</td>\n",
       "      <td>0.3056</td>\n",
       "      <td>0.0664</td>\n",
       "      <td>68.0</td>\n",
       "      <td>73.0</td>\n",
       "      <td>122.0</td>\n",
       "      <td>211.0</td>\n",
       "      <td>328.0</td>\n",
       "    </tr>\n",
       "    <tr>\n",
       "      <th>1738</th>\n",
       "      <td>Johns Hopkins University</td>\n",
       "      <td>0.2782</td>\n",
       "      <td>5801.0</td>\n",
       "      <td>51478.0</td>\n",
       "      <td>11.0</td>\n",
       "      <td>0.3402</td>\n",
       "      <td>0.1063</td>\n",
       "      <td>63.0</td>\n",
       "      <td>67.0</td>\n",
       "      <td>80.0</td>\n",
       "      <td>120.0</td>\n",
       "      <td>254.0</td>\n",
       "    </tr>\n",
       "    <tr>\n",
       "      <th>1833</th>\n",
       "      <td>Harvard University</td>\n",
       "      <td>0.0719</td>\n",
       "      <td>7181.0</td>\n",
       "      <td>50250.0</td>\n",
       "      <td>7.0</td>\n",
       "      <td>0.0270</td>\n",
       "      <td>0.1273</td>\n",
       "      <td>65.0</td>\n",
       "      <td>72.0</td>\n",
       "      <td>51.0</td>\n",
       "      <td>16.0</td>\n",
       "      <td>39.0</td>\n",
       "    </tr>\n",
       "    <tr>\n",
       "      <th>1857</th>\n",
       "      <td>Massachusetts Institute of Technology</td>\n",
       "      <td>0.1070</td>\n",
       "      <td>4218.0</td>\n",
       "      <td>50100.0</td>\n",
       "      <td>8.0</td>\n",
       "      <td>0.2252</td>\n",
       "      <td>0.1679</td>\n",
       "      <td>66.0</td>\n",
       "      <td>63.0</td>\n",
       "      <td>53.0</td>\n",
       "      <td>68.0</td>\n",
       "      <td>179.0</td>\n",
       "    </tr>\n",
       "    <tr>\n",
       "      <th>2297</th>\n",
       "      <td>Washington University in St Louis</td>\n",
       "      <td>0.2219</td>\n",
       "      <td>6436.0</td>\n",
       "      <td>52464.0</td>\n",
       "      <td>7.0</td>\n",
       "      <td>0.2781</td>\n",
       "      <td>0.0621</td>\n",
       "      <td>37.0</td>\n",
       "      <td>52.0</td>\n",
       "      <td>80.0</td>\n",
       "      <td>129.0</td>\n",
       "      <td>227.0</td>\n",
       "    </tr>\n",
       "    <tr>\n",
       "      <th>2486</th>\n",
       "      <td>Princeton University</td>\n",
       "      <td>0.1006</td>\n",
       "      <td>5029.0</td>\n",
       "      <td>49830.0</td>\n",
       "      <td>6.0</td>\n",
       "      <td>0.0410</td>\n",
       "      <td>0.0981</td>\n",
       "      <td>48.0</td>\n",
       "      <td>47.0</td>\n",
       "      <td>42.0</td>\n",
       "      <td>10.0</td>\n",
       "      <td>27.0</td>\n",
       "    </tr>\n",
       "    <tr>\n",
       "      <th>2905</th>\n",
       "      <td>Duke University</td>\n",
       "      <td>0.2238</td>\n",
       "      <td>6416.0</td>\n",
       "      <td>50974.0</td>\n",
       "      <td>8.0</td>\n",
       "      <td>0.2490</td>\n",
       "      <td>0.0877</td>\n",
       "      <td>73.0</td>\n",
       "      <td>68.0</td>\n",
       "      <td>78.0</td>\n",
       "      <td>110.0</td>\n",
       "      <td>227.0</td>\n",
       "    </tr>\n",
       "    <tr>\n",
       "      <th>3592</th>\n",
       "      <td>University of Pennsylvania</td>\n",
       "      <td>0.1771</td>\n",
       "      <td>10842.0</td>\n",
       "      <td>51299.0</td>\n",
       "      <td>6.0</td>\n",
       "      <td>0.2938</td>\n",
       "      <td>0.1017</td>\n",
       "      <td>87.0</td>\n",
       "      <td>101.0</td>\n",
       "      <td>152.0</td>\n",
       "      <td>185.0</td>\n",
       "      <td>436.0</td>\n",
       "    </tr>\n",
       "    <tr>\n",
       "      <th>3678</th>\n",
       "      <td>Brown University</td>\n",
       "      <td>0.1117</td>\n",
       "      <td>6013.0</td>\n",
       "      <td>50560.0</td>\n",
       "      <td>9.0</td>\n",
       "      <td>0.2119</td>\n",
       "      <td>0.1195</td>\n",
       "      <td>71.0</td>\n",
       "      <td>64.0</td>\n",
       "      <td>42.0</td>\n",
       "      <td>84.0</td>\n",
       "      <td>263.0</td>\n",
       "    </tr>\n",
       "    <tr>\n",
       "      <th>4548</th>\n",
       "      <td>Stanford University</td>\n",
       "      <td>0.0797</td>\n",
       "      <td>6564.0</td>\n",
       "      <td>51760.0</td>\n",
       "      <td>10.0</td>\n",
       "      <td>0.1122</td>\n",
       "      <td>0.1503</td>\n",
       "      <td>115.0</td>\n",
       "      <td>95.0</td>\n",
       "      <td>55.0</td>\n",
       "      <td>34.0</td>\n",
       "      <td>102.0</td>\n",
       "    </tr>\n",
       "    <tr>\n",
       "      <th rowspan=\"10\" valign=\"top\">2020</th>\n",
       "      <th>969</th>\n",
       "      <td>Northwestern University</td>\n",
       "      <td>0.0905</td>\n",
       "      <td>8530.0</td>\n",
       "      <td>74630.0</td>\n",
       "      <td>6.0</td>\n",
       "      <td>0.2527</td>\n",
       "      <td>0.2056</td>\n",
       "      <td>53.0</td>\n",
       "      <td>92.0</td>\n",
       "      <td>159.0</td>\n",
       "      <td>135.0</td>\n",
       "      <td>376.0</td>\n",
       "    </tr>\n",
       "    <tr>\n",
       "      <th>1386</th>\n",
       "      <td>Johns Hopkins University</td>\n",
       "      <td>0.1117</td>\n",
       "      <td>5729.0</td>\n",
       "      <td>71901.0</td>\n",
       "      <td>6.0</td>\n",
       "      <td>0.2831</td>\n",
       "      <td>0.1556</td>\n",
       "      <td>38.0</td>\n",
       "      <td>62.0</td>\n",
       "      <td>93.0</td>\n",
       "      <td>95.0</td>\n",
       "      <td>363.0</td>\n",
       "    </tr>\n",
       "    <tr>\n",
       "      <th>1465</th>\n",
       "      <td>Harvard University</td>\n",
       "      <td>0.0464</td>\n",
       "      <td>7547.0</td>\n",
       "      <td>73485.0</td>\n",
       "      <td>6.0</td>\n",
       "      <td>0.0200</td>\n",
       "      <td>0.1845</td>\n",
       "      <td>67.0</td>\n",
       "      <td>87.0</td>\n",
       "      <td>99.0</td>\n",
       "      <td>36.0</td>\n",
       "      <td>106.0</td>\n",
       "    </tr>\n",
       "    <tr>\n",
       "      <th>1481</th>\n",
       "      <td>Massachusetts Institute of Technology</td>\n",
       "      <td>0.0670</td>\n",
       "      <td>4516.0</td>\n",
       "      <td>70240.0</td>\n",
       "      <td>3.0</td>\n",
       "      <td>0.0754</td>\n",
       "      <td>0.1921</td>\n",
       "      <td>45.0</td>\n",
       "      <td>59.0</td>\n",
       "      <td>74.0</td>\n",
       "      <td>42.0</td>\n",
       "      <td>103.0</td>\n",
       "    </tr>\n",
       "    <tr>\n",
       "      <th>1844</th>\n",
       "      <td>Washington University in St Louis</td>\n",
       "      <td>0.1385</td>\n",
       "      <td>7404.0</td>\n",
       "      <td>74361.0</td>\n",
       "      <td>7.0</td>\n",
       "      <td>0.1591</td>\n",
       "      <td>0.1440</td>\n",
       "      <td>81.0</td>\n",
       "      <td>78.0</td>\n",
       "      <td>80.0</td>\n",
       "      <td>91.0</td>\n",
       "      <td>248.0</td>\n",
       "    </tr>\n",
       "    <tr>\n",
       "      <th>2004</th>\n",
       "      <td>Princeton University</td>\n",
       "      <td>0.0578</td>\n",
       "      <td>5308.0</td>\n",
       "      <td>70900.0</td>\n",
       "      <td>5.0</td>\n",
       "      <td>0.0389</td>\n",
       "      <td>0.2085</td>\n",
       "      <td>95.0</td>\n",
       "      <td>68.0</td>\n",
       "      <td>90.0</td>\n",
       "      <td>32.0</td>\n",
       "      <td>68.0</td>\n",
       "    </tr>\n",
       "    <tr>\n",
       "      <th>2365</th>\n",
       "      <td>Duke University</td>\n",
       "      <td>0.0760</td>\n",
       "      <td>6546.0</td>\n",
       "      <td>75105.0</td>\n",
       "      <td>6.0</td>\n",
       "      <td>0.1903</td>\n",
       "      <td>0.1186</td>\n",
       "      <td>42.0</td>\n",
       "      <td>62.0</td>\n",
       "      <td>83.0</td>\n",
       "      <td>82.0</td>\n",
       "      <td>269.0</td>\n",
       "    </tr>\n",
       "    <tr>\n",
       "      <th>2929</th>\n",
       "      <td>University of Pennsylvania</td>\n",
       "      <td>0.0766</td>\n",
       "      <td>10774.0</td>\n",
       "      <td>75303.0</td>\n",
       "      <td>6.0</td>\n",
       "      <td>0.1172</td>\n",
       "      <td>0.1290</td>\n",
       "      <td>77.0</td>\n",
       "      <td>110.0</td>\n",
       "      <td>127.0</td>\n",
       "      <td>138.0</td>\n",
       "      <td>411.0</td>\n",
       "    </tr>\n",
       "    <tr>\n",
       "      <th>3008</th>\n",
       "      <td>Brown University</td>\n",
       "      <td>0.0707</td>\n",
       "      <td>6834.0</td>\n",
       "      <td>73892.0</td>\n",
       "      <td>6.0</td>\n",
       "      <td>0.1398</td>\n",
       "      <td>0.1356</td>\n",
       "      <td>48.0</td>\n",
       "      <td>57.0</td>\n",
       "      <td>88.0</td>\n",
       "      <td>107.0</td>\n",
       "      <td>358.0</td>\n",
       "    </tr>\n",
       "    <tr>\n",
       "      <th>3765</th>\n",
       "      <td>Stanford University</td>\n",
       "      <td>0.0434</td>\n",
       "      <td>6994.0</td>\n",
       "      <td>71587.0</td>\n",
       "      <td>5.0</td>\n",
       "      <td>0.0666</td>\n",
       "      <td>0.1757</td>\n",
       "      <td>79.0</td>\n",
       "      <td>105.0</td>\n",
       "      <td>96.0</td>\n",
       "      <td>27.0</td>\n",
       "      <td>89.0</td>\n",
       "    </tr>\n",
       "  </tbody>\n",
       "</table>\n",
       "</div>"
      ],
      "text/plain": [
       "                                            INSTNM  ADM_RATE_ALL     UGDS  \\\n",
       "year rowNum                                                                 \n",
       "2010 1188                  Northwestern University        0.2620   8905.0   \n",
       "     1738                 Johns Hopkins University        0.2782   5801.0   \n",
       "     1833                       Harvard University        0.0719   7181.0   \n",
       "     1857    Massachusetts Institute of Technology        0.1070   4218.0   \n",
       "     2297        Washington University in St Louis        0.2219   6436.0   \n",
       "     2486                     Princeton University        0.1006   5029.0   \n",
       "     2905                          Duke University        0.2238   6416.0   \n",
       "     3592               University of Pennsylvania        0.1771  10842.0   \n",
       "     3678                         Brown University        0.1117   6013.0   \n",
       "     4548                      Stanford University        0.0797   6564.0   \n",
       "2020 969                   Northwestern University        0.0905   8530.0   \n",
       "     1386                 Johns Hopkins University        0.1117   5729.0   \n",
       "     1465                       Harvard University        0.0464   7547.0   \n",
       "     1481    Massachusetts Institute of Technology        0.0670   4516.0   \n",
       "     1844        Washington University in St Louis        0.1385   7404.0   \n",
       "     2004                     Princeton University        0.0578   5308.0   \n",
       "     2365                          Duke University        0.0760   6546.0   \n",
       "     2929               University of Pennsylvania        0.0766  10774.0   \n",
       "     3008                         Brown University        0.0707   6834.0   \n",
       "     3765                      Stanford University        0.0434   6994.0   \n",
       "\n",
       "             COSTT4_A  STUFACR  FTFTPCTFLOAN  FTFTPCTPELL  NUM41_PRIV  \\\n",
       "year rowNum                                                             \n",
       "2010 1188     52080.0      7.0        0.3056       0.0664        68.0   \n",
       "     1738     51478.0     11.0        0.3402       0.1063        63.0   \n",
       "     1833     50250.0      7.0        0.0270       0.1273        65.0   \n",
       "     1857     50100.0      8.0        0.2252       0.1679        66.0   \n",
       "     2297     52464.0      7.0        0.2781       0.0621        37.0   \n",
       "     2486     49830.0      6.0        0.0410       0.0981        48.0   \n",
       "     2905     50974.0      8.0        0.2490       0.0877        73.0   \n",
       "     3592     51299.0      6.0        0.2938       0.1017        87.0   \n",
       "     3678     50560.0      9.0        0.2119       0.1195        71.0   \n",
       "     4548     51760.0     10.0        0.1122       0.1503       115.0   \n",
       "2020 969      74630.0      6.0        0.2527       0.2056        53.0   \n",
       "     1386     71901.0      6.0        0.2831       0.1556        38.0   \n",
       "     1465     73485.0      6.0        0.0200       0.1845        67.0   \n",
       "     1481     70240.0      3.0        0.0754       0.1921        45.0   \n",
       "     1844     74361.0      7.0        0.1591       0.1440        81.0   \n",
       "     2004     70900.0      5.0        0.0389       0.2085        95.0   \n",
       "     2365     75105.0      6.0        0.1903       0.1186        42.0   \n",
       "     2929     75303.0      6.0        0.1172       0.1290        77.0   \n",
       "     3008     73892.0      6.0        0.1398       0.1356        48.0   \n",
       "     3765     71587.0      5.0        0.0666       0.1757        79.0   \n",
       "\n",
       "             NUM42_PRIV  NUM43_PRIV  NUM44_PRIV  NUM45_PRIV  \n",
       "year rowNum                                                  \n",
       "2010 1188          73.0       122.0       211.0       328.0  \n",
       "     1738          67.0        80.0       120.0       254.0  \n",
       "     1833          72.0        51.0        16.0        39.0  \n",
       "     1857          63.0        53.0        68.0       179.0  \n",
       "     2297          52.0        80.0       129.0       227.0  \n",
       "     2486          47.0        42.0        10.0        27.0  \n",
       "     2905          68.0        78.0       110.0       227.0  \n",
       "     3592         101.0       152.0       185.0       436.0  \n",
       "     3678          64.0        42.0        84.0       263.0  \n",
       "     4548          95.0        55.0        34.0       102.0  \n",
       "2020 969           92.0       159.0       135.0       376.0  \n",
       "     1386          62.0        93.0        95.0       363.0  \n",
       "     1465          87.0        99.0        36.0       106.0  \n",
       "     1481          59.0        74.0        42.0       103.0  \n",
       "     1844          78.0        80.0        91.0       248.0  \n",
       "     2004          68.0        90.0        32.0        68.0  \n",
       "     2365          62.0        83.0        82.0       269.0  \n",
       "     2929         110.0       127.0       138.0       411.0  \n",
       "     3008          57.0        88.0       107.0       358.0  \n",
       "     3765         105.0        96.0        27.0        89.0  "
      ]
     },
     "execution_count": 16,
     "metadata": {},
     "output_type": "execute_result"
    }
   ],
   "source": [
    "pd.set_option('display.max_rows', None)\n",
    "tier1Institutes = fourYear[fourYear['INSTNM'].isin(['Massachusetts Institute of Technology', 'Stanford University', 'University of Pennsylvania', 'Princeton University', 'Harvard University',\n",
    "                                                    'Northwestern University', 'Johns Hopkins University', 'Brown University', 'Washington University in St Louis', 'Duke University'])][reqCols]\n",
    "tier1Institutes = tier1Institutes.loc[2010:2020]\n",
    "tier1Institutes.loc[[2010,2020]][['INSTNM', 'ADM_RATE_ALL', 'UGDS', 'COSTT4_A', 'STUFACR', 'FTFTPCTFLOAN', 'FTFTPCTPELL', 'NUM41_PRIV', 'NUM42_PRIV', 'NUM43_PRIV', 'NUM44_PRIV', 'NUM45_PRIV']]"
   ]
  },
  {
   "cell_type": "code",
   "execution_count": 17,
   "metadata": {},
   "outputs": [],
   "source": [
    "# pd.set_option('display.max_rows', None)\n",
    "# fourYear[fourYear['INSTNM'].str.contains('University of Nevada-Las Vegas')][['INSTNM', 'ADM_RATE_ALL', 'UGDS', 'SAT_AVG_ALL']]\n",
    "# x = fourYear.loc[2020]\n",
    "# y = x[(x['UGDS'] > 18000) & (x['UGDS'] < 28000) & (x['ADM_RATE_ALL'] > 0.5)]\n",
    "# y[['INSTNM', 'ADM_RATE_ALL', 'UGDS']]"
   ]
  },
  {
   "cell_type": "code",
   "execution_count": 18,
   "metadata": {},
   "outputs": [
    {
     "data": {
      "text/html": [
       "<div>\n",
       "<style scoped>\n",
       "    .dataframe tbody tr th:only-of-type {\n",
       "        vertical-align: middle;\n",
       "    }\n",
       "\n",
       "    .dataframe tbody tr th {\n",
       "        vertical-align: top;\n",
       "    }\n",
       "\n",
       "    .dataframe thead th {\n",
       "        text-align: right;\n",
       "    }\n",
       "</style>\n",
       "<table border=\"1\" class=\"dataframe\">\n",
       "  <thead>\n",
       "    <tr style=\"text-align: right;\">\n",
       "      <th></th>\n",
       "      <th></th>\n",
       "      <th>INSTNM</th>\n",
       "      <th>ADM_RATE_ALL</th>\n",
       "      <th>UGDS</th>\n",
       "      <th>COSTT4_A</th>\n",
       "      <th>STUFACR</th>\n",
       "      <th>FTFTPCTFLOAN</th>\n",
       "      <th>FTFTPCTPELL</th>\n",
       "      <th>NUM41_PRIV</th>\n",
       "      <th>NUM42_PRIV</th>\n",
       "      <th>NUM43_PRIV</th>\n",
       "      <th>NUM44_PRIV</th>\n",
       "      <th>NUM45_PRIV</th>\n",
       "    </tr>\n",
       "    <tr>\n",
       "      <th>year</th>\n",
       "      <th>rowNum</th>\n",
       "      <th></th>\n",
       "      <th></th>\n",
       "      <th></th>\n",
       "      <th></th>\n",
       "      <th></th>\n",
       "      <th></th>\n",
       "      <th></th>\n",
       "      <th></th>\n",
       "      <th></th>\n",
       "      <th></th>\n",
       "      <th></th>\n",
       "      <th></th>\n",
       "    </tr>\n",
       "  </thead>\n",
       "  <tbody>\n",
       "    <tr>\n",
       "      <th rowspan=\"10\" valign=\"top\">2010</th>\n",
       "      <th>83</th>\n",
       "      <td>University of Arizona</td>\n",
       "      <td>0.7800</td>\n",
       "      <td>30036.0</td>\n",
       "      <td>18008.0</td>\n",
       "      <td>20.0</td>\n",
       "      <td>0.2875</td>\n",
       "      <td>0.1948</td>\n",
       "      <td>NaN</td>\n",
       "      <td>NaN</td>\n",
       "      <td>NaN</td>\n",
       "      <td>NaN</td>\n",
       "      <td>NaN</td>\n",
       "    </tr>\n",
       "    <tr>\n",
       "      <th>143</th>\n",
       "      <td>University of Arkansas</td>\n",
       "      <td>0.5609</td>\n",
       "      <td>15347.0</td>\n",
       "      <td>18461.0</td>\n",
       "      <td>18.0</td>\n",
       "      <td>0.3948</td>\n",
       "      <td>0.1796</td>\n",
       "      <td>NaN</td>\n",
       "      <td>NaN</td>\n",
       "      <td>NaN</td>\n",
       "      <td>NaN</td>\n",
       "      <td>NaN</td>\n",
       "    </tr>\n",
       "    <tr>\n",
       "      <th>888</th>\n",
       "      <td>University of South Florida</td>\n",
       "      <td>0.4300</td>\n",
       "      <td>29911.0</td>\n",
       "      <td>17671.0</td>\n",
       "      <td>27.0</td>\n",
       "      <td>0.3466</td>\n",
       "      <td>0.2643</td>\n",
       "      <td>NaN</td>\n",
       "      <td>NaN</td>\n",
       "      <td>NaN</td>\n",
       "      <td>NaN</td>\n",
       "      <td>NaN</td>\n",
       "    </tr>\n",
       "    <tr>\n",
       "      <th>1248</th>\n",
       "      <td>Ball State University</td>\n",
       "      <td>0.7368</td>\n",
       "      <td>17403.0</td>\n",
       "      <td>18700.0</td>\n",
       "      <td>18.0</td>\n",
       "      <td>0.5901</td>\n",
       "      <td>0.2111</td>\n",
       "      <td>NaN</td>\n",
       "      <td>NaN</td>\n",
       "      <td>NaN</td>\n",
       "      <td>NaN</td>\n",
       "      <td>NaN</td>\n",
       "    </tr>\n",
       "    <tr>\n",
       "      <th>1496</th>\n",
       "      <td>Wichita State University</td>\n",
       "      <td>0.8846</td>\n",
       "      <td>10930.0</td>\n",
       "      <td>14475.0</td>\n",
       "      <td>20.0</td>\n",
       "      <td>0.3947</td>\n",
       "      <td>0.2540</td>\n",
       "      <td>NaN</td>\n",
       "      <td>NaN</td>\n",
       "      <td>NaN</td>\n",
       "      <td>NaN</td>\n",
       "      <td>NaN</td>\n",
       "    </tr>\n",
       "    <tr>\n",
       "      <th>1624</th>\n",
       "      <td>Louisiana Tech University</td>\n",
       "      <td>0.6280</td>\n",
       "      <td>7101.0</td>\n",
       "      <td>15034.0</td>\n",
       "      <td>20.0</td>\n",
       "      <td>0.4170</td>\n",
       "      <td>0.2875</td>\n",
       "      <td>NaN</td>\n",
       "      <td>NaN</td>\n",
       "      <td>NaN</td>\n",
       "      <td>NaN</td>\n",
       "      <td>NaN</td>\n",
       "    </tr>\n",
       "    <tr>\n",
       "      <th>2375</th>\n",
       "      <td>University of Nevada-Las Vegas</td>\n",
       "      <td>0.7765</td>\n",
       "      <td>21679.0</td>\n",
       "      <td>12733.0</td>\n",
       "      <td>21.0</td>\n",
       "      <td>0.2622</td>\n",
       "      <td>0.2298</td>\n",
       "      <td>NaN</td>\n",
       "      <td>NaN</td>\n",
       "      <td>NaN</td>\n",
       "      <td>NaN</td>\n",
       "      <td>NaN</td>\n",
       "    </tr>\n",
       "    <tr>\n",
       "      <th>2376</th>\n",
       "      <td>University of Nevada-Reno</td>\n",
       "      <td>0.8693</td>\n",
       "      <td>12891.0</td>\n",
       "      <td>18119.0</td>\n",
       "      <td>23.0</td>\n",
       "      <td>0.2678</td>\n",
       "      <td>0.1306</td>\n",
       "      <td>NaN</td>\n",
       "      <td>NaN</td>\n",
       "      <td>NaN</td>\n",
       "      <td>NaN</td>\n",
       "      <td>NaN</td>\n",
       "    </tr>\n",
       "    <tr>\n",
       "      <th>3086</th>\n",
       "      <td>Cleveland State University</td>\n",
       "      <td>0.6402</td>\n",
       "      <td>9864.0</td>\n",
       "      <td>18555.0</td>\n",
       "      <td>16.0</td>\n",
       "      <td>0.5968</td>\n",
       "      <td>0.4429</td>\n",
       "      <td>NaN</td>\n",
       "      <td>NaN</td>\n",
       "      <td>NaN</td>\n",
       "      <td>NaN</td>\n",
       "      <td>NaN</td>\n",
       "    </tr>\n",
       "    <tr>\n",
       "      <th>4012</th>\n",
       "      <td>University of North Texas</td>\n",
       "      <td>0.6380</td>\n",
       "      <td>27468.0</td>\n",
       "      <td>16373.0</td>\n",
       "      <td>23.0</td>\n",
       "      <td>0.5672</td>\n",
       "      <td>0.2322</td>\n",
       "      <td>NaN</td>\n",
       "      <td>NaN</td>\n",
       "      <td>NaN</td>\n",
       "      <td>NaN</td>\n",
       "      <td>NaN</td>\n",
       "    </tr>\n",
       "    <tr>\n",
       "      <th rowspan=\"10\" valign=\"top\">2020</th>\n",
       "      <th>72</th>\n",
       "      <td>University of Arizona</td>\n",
       "      <td>0.8459</td>\n",
       "      <td>33715.0</td>\n",
       "      <td>27417.0</td>\n",
       "      <td>15.0</td>\n",
       "      <td>0.3339</td>\n",
       "      <td>0.2505</td>\n",
       "      <td>NaN</td>\n",
       "      <td>NaN</td>\n",
       "      <td>NaN</td>\n",
       "      <td>NaN</td>\n",
       "      <td>NaN</td>\n",
       "    </tr>\n",
       "    <tr>\n",
       "      <th>115</th>\n",
       "      <td>University of Arkansas</td>\n",
       "      <td>0.7709</td>\n",
       "      <td>22766.0</td>\n",
       "      <td>23390.0</td>\n",
       "      <td>18.0</td>\n",
       "      <td>0.4203</td>\n",
       "      <td>0.1915</td>\n",
       "      <td>NaN</td>\n",
       "      <td>NaN</td>\n",
       "      <td>NaN</td>\n",
       "      <td>NaN</td>\n",
       "      <td>NaN</td>\n",
       "    </tr>\n",
       "    <tr>\n",
       "      <th>720</th>\n",
       "      <td>University of South Florida</td>\n",
       "      <td>0.4555</td>\n",
       "      <td>31765.0</td>\n",
       "      <td>21282.0</td>\n",
       "      <td>23.0</td>\n",
       "      <td>0.2881</td>\n",
       "      <td>0.3146</td>\n",
       "      <td>NaN</td>\n",
       "      <td>NaN</td>\n",
       "      <td>NaN</td>\n",
       "      <td>NaN</td>\n",
       "      <td>NaN</td>\n",
       "    </tr>\n",
       "    <tr>\n",
       "      <th>1020</th>\n",
       "      <td>Ball State University</td>\n",
       "      <td>0.7671</td>\n",
       "      <td>15610.0</td>\n",
       "      <td>24093.0</td>\n",
       "      <td>14.0</td>\n",
       "      <td>0.6248</td>\n",
       "      <td>0.3701</td>\n",
       "      <td>NaN</td>\n",
       "      <td>NaN</td>\n",
       "      <td>NaN</td>\n",
       "      <td>NaN</td>\n",
       "      <td>NaN</td>\n",
       "    </tr>\n",
       "    <tr>\n",
       "      <th>1214</th>\n",
       "      <td>Wichita State University</td>\n",
       "      <td>0.9170</td>\n",
       "      <td>11199.0</td>\n",
       "      <td>19593.0</td>\n",
       "      <td>19.0</td>\n",
       "      <td>0.5194</td>\n",
       "      <td>0.3598</td>\n",
       "      <td>NaN</td>\n",
       "      <td>NaN</td>\n",
       "      <td>NaN</td>\n",
       "      <td>NaN</td>\n",
       "      <td>NaN</td>\n",
       "    </tr>\n",
       "    <tr>\n",
       "      <th>1305</th>\n",
       "      <td>Louisiana Tech University</td>\n",
       "      <td>0.6409</td>\n",
       "      <td>8141.0</td>\n",
       "      <td>22727.0</td>\n",
       "      <td>22.0</td>\n",
       "      <td>0.4333</td>\n",
       "      <td>0.3104</td>\n",
       "      <td>NaN</td>\n",
       "      <td>NaN</td>\n",
       "      <td>NaN</td>\n",
       "      <td>NaN</td>\n",
       "      <td>NaN</td>\n",
       "    </tr>\n",
       "    <tr>\n",
       "      <th>1910</th>\n",
       "      <td>University of Nevada-Las Vegas</td>\n",
       "      <td>0.8069</td>\n",
       "      <td>25236.0</td>\n",
       "      <td>18102.0</td>\n",
       "      <td>20.0</td>\n",
       "      <td>0.3020</td>\n",
       "      <td>0.4145</td>\n",
       "      <td>NaN</td>\n",
       "      <td>NaN</td>\n",
       "      <td>NaN</td>\n",
       "      <td>NaN</td>\n",
       "      <td>NaN</td>\n",
       "    </tr>\n",
       "    <tr>\n",
       "      <th>1911</th>\n",
       "      <td>University of Nevada-Reno</td>\n",
       "      <td>0.8822</td>\n",
       "      <td>16917.0</td>\n",
       "      <td>22731.0</td>\n",
       "      <td>18.0</td>\n",
       "      <td>0.3846</td>\n",
       "      <td>0.2671</td>\n",
       "      <td>NaN</td>\n",
       "      <td>NaN</td>\n",
       "      <td>NaN</td>\n",
       "      <td>NaN</td>\n",
       "      <td>NaN</td>\n",
       "    </tr>\n",
       "    <tr>\n",
       "      <th>2522</th>\n",
       "      <td>Cleveland State University</td>\n",
       "      <td>0.9401</td>\n",
       "      <td>11267.0</td>\n",
       "      <td>23579.0</td>\n",
       "      <td>16.0</td>\n",
       "      <td>0.5961</td>\n",
       "      <td>0.4394</td>\n",
       "      <td>NaN</td>\n",
       "      <td>NaN</td>\n",
       "      <td>NaN</td>\n",
       "      <td>NaN</td>\n",
       "      <td>NaN</td>\n",
       "    </tr>\n",
       "    <tr>\n",
       "      <th>3300</th>\n",
       "      <td>University of North Texas</td>\n",
       "      <td>0.7361</td>\n",
       "      <td>32159.0</td>\n",
       "      <td>23462.0</td>\n",
       "      <td>26.0</td>\n",
       "      <td>0.4734</td>\n",
       "      <td>0.3979</td>\n",
       "      <td>NaN</td>\n",
       "      <td>NaN</td>\n",
       "      <td>NaN</td>\n",
       "      <td>NaN</td>\n",
       "      <td>NaN</td>\n",
       "    </tr>\n",
       "  </tbody>\n",
       "</table>\n",
       "</div>"
      ],
      "text/plain": [
       "                                     INSTNM  ADM_RATE_ALL     UGDS  COSTT4_A  \\\n",
       "year rowNum                                                                    \n",
       "2010 83               University of Arizona        0.7800  30036.0   18008.0   \n",
       "     143             University of Arkansas        0.5609  15347.0   18461.0   \n",
       "     888        University of South Florida        0.4300  29911.0   17671.0   \n",
       "     1248             Ball State University        0.7368  17403.0   18700.0   \n",
       "     1496          Wichita State University        0.8846  10930.0   14475.0   \n",
       "     1624         Louisiana Tech University        0.6280   7101.0   15034.0   \n",
       "     2375    University of Nevada-Las Vegas        0.7765  21679.0   12733.0   \n",
       "     2376         University of Nevada-Reno        0.8693  12891.0   18119.0   \n",
       "     3086        Cleveland State University        0.6402   9864.0   18555.0   \n",
       "     4012         University of North Texas        0.6380  27468.0   16373.0   \n",
       "2020 72               University of Arizona        0.8459  33715.0   27417.0   \n",
       "     115             University of Arkansas        0.7709  22766.0   23390.0   \n",
       "     720        University of South Florida        0.4555  31765.0   21282.0   \n",
       "     1020             Ball State University        0.7671  15610.0   24093.0   \n",
       "     1214          Wichita State University        0.9170  11199.0   19593.0   \n",
       "     1305         Louisiana Tech University        0.6409   8141.0   22727.0   \n",
       "     1910    University of Nevada-Las Vegas        0.8069  25236.0   18102.0   \n",
       "     1911         University of Nevada-Reno        0.8822  16917.0   22731.0   \n",
       "     2522        Cleveland State University        0.9401  11267.0   23579.0   \n",
       "     3300         University of North Texas        0.7361  32159.0   23462.0   \n",
       "\n",
       "             STUFACR  FTFTPCTFLOAN  FTFTPCTPELL  NUM41_PRIV  NUM42_PRIV  \\\n",
       "year rowNum                                                               \n",
       "2010 83         20.0        0.2875       0.1948         NaN         NaN   \n",
       "     143        18.0        0.3948       0.1796         NaN         NaN   \n",
       "     888        27.0        0.3466       0.2643         NaN         NaN   \n",
       "     1248       18.0        0.5901       0.2111         NaN         NaN   \n",
       "     1496       20.0        0.3947       0.2540         NaN         NaN   \n",
       "     1624       20.0        0.4170       0.2875         NaN         NaN   \n",
       "     2375       21.0        0.2622       0.2298         NaN         NaN   \n",
       "     2376       23.0        0.2678       0.1306         NaN         NaN   \n",
       "     3086       16.0        0.5968       0.4429         NaN         NaN   \n",
       "     4012       23.0        0.5672       0.2322         NaN         NaN   \n",
       "2020 72         15.0        0.3339       0.2505         NaN         NaN   \n",
       "     115        18.0        0.4203       0.1915         NaN         NaN   \n",
       "     720        23.0        0.2881       0.3146         NaN         NaN   \n",
       "     1020       14.0        0.6248       0.3701         NaN         NaN   \n",
       "     1214       19.0        0.5194       0.3598         NaN         NaN   \n",
       "     1305       22.0        0.4333       0.3104         NaN         NaN   \n",
       "     1910       20.0        0.3020       0.4145         NaN         NaN   \n",
       "     1911       18.0        0.3846       0.2671         NaN         NaN   \n",
       "     2522       16.0        0.5961       0.4394         NaN         NaN   \n",
       "     3300       26.0        0.4734       0.3979         NaN         NaN   \n",
       "\n",
       "             NUM43_PRIV  NUM44_PRIV  NUM45_PRIV  \n",
       "year rowNum                                      \n",
       "2010 83             NaN         NaN         NaN  \n",
       "     143            NaN         NaN         NaN  \n",
       "     888            NaN         NaN         NaN  \n",
       "     1248           NaN         NaN         NaN  \n",
       "     1496           NaN         NaN         NaN  \n",
       "     1624           NaN         NaN         NaN  \n",
       "     2375           NaN         NaN         NaN  \n",
       "     2376           NaN         NaN         NaN  \n",
       "     3086           NaN         NaN         NaN  \n",
       "     4012           NaN         NaN         NaN  \n",
       "2020 72             NaN         NaN         NaN  \n",
       "     115            NaN         NaN         NaN  \n",
       "     720            NaN         NaN         NaN  \n",
       "     1020           NaN         NaN         NaN  \n",
       "     1214           NaN         NaN         NaN  \n",
       "     1305           NaN         NaN         NaN  \n",
       "     1910           NaN         NaN         NaN  \n",
       "     1911           NaN         NaN         NaN  \n",
       "     2522           NaN         NaN         NaN  \n",
       "     3300           NaN         NaN         NaN  "
      ]
     },
     "execution_count": 18,
     "metadata": {},
     "output_type": "execute_result"
    }
   ],
   "source": [
    "pd.set_option('display.max_rows', None)\n",
    "tier2Institutes = fourYear[fourYear['INSTNM'].isin(['University of Nevada-Las Vegas', 'University of North Texas', 'University of Nevada-Reno','University of South Florida', 'University of Arizona',\n",
    "                                                    'Wichita State University', 'Louisiana Tech University', 'Ball State University', 'Cleveland State University', 'University of Arkansas'])][reqCols]\n",
    "tier2Institutes = tier2Institutes.loc[2010:2020]\n",
    "tier2Institutes.loc[[2010,2020]][['INSTNM', 'ADM_RATE_ALL', 'UGDS', 'COSTT4_A', 'STUFACR', 'FTFTPCTFLOAN', 'FTFTPCTPELL', 'NUM41_PRIV', 'NUM42_PRIV', 'NUM43_PRIV', 'NUM44_PRIV', 'NUM45_PRIV']]"
   ]
  },
  {
   "cell_type": "code",
   "execution_count": 19,
   "metadata": {},
   "outputs": [],
   "source": [
    "year = [2010, 2011, 2012, 2013, 2014, 2015, 2016, 2017, 2018, 2019, 2020]"
   ]
  },
  {
   "cell_type": "code",
   "execution_count": 20,
   "metadata": {},
   "outputs": [],
   "source": [
    "# Handling Admission Rates\n",
    "ffillByYear(tier2Institutes, 'ADM_RATE_ALL', False, 2010) # 12% null values\n",
    "admRateMean = tier2Institutes['ADM_RATE_ALL'].mean()\n",
    "tier2Institutes['ADM_RATE_ALL'].fillna(admRateMean, inplace=True)\n"
   ]
  },
  {
   "cell_type": "code",
   "execution_count": 21,
   "metadata": {},
   "outputs": [],
   "source": [
    "def calcApplications(x):\n",
    "    return x['UGDS'] / x['ADM_RATE_ALL']\n",
    "\n",
    "# Application Rates and Enrollment:\n",
    "tier1Institutes['APPLICATIONS'] = tier1Institutes[['ADM_RATE_ALL', 'UGDS']].apply(calcApplications, axis=1)\n",
    "tier1Institutes['APPLICATIONS'] = tier1Institutes['APPLICATIONS'].astype(int)\n",
    "tier2Institutes['APPLICATIONS'] = tier2Institutes[['ADM_RATE_ALL', 'UGDS']].apply(calcApplications, axis=1)\n",
    "tier2Institutes['APPLICATIONS'] = tier2Institutes['APPLICATIONS'].astype(int)"
   ]
  },
  {
   "cell_type": "code",
   "execution_count": 22,
   "metadata": {},
   "outputs": [],
   "source": [
    "# tier2Institutes[['INSTNM', 'UGDS', 'APPLICATIONS']]"
   ]
  },
  {
   "cell_type": "code",
   "execution_count": 23,
   "metadata": {},
   "outputs": [],
   "source": [
    "applicationTier1 = tier1Institutes['APPLICATIONS'].groupby(level='year')\n",
    "applicationTier1 = applicationTier1.quantile(0.5) # value under which 60% of data"
   ]
  },
  {
   "cell_type": "code",
   "execution_count": 24,
   "metadata": {},
   "outputs": [],
   "source": [
    "applicationTier2 = tier2Institutes['APPLICATIONS'].groupby(level='year')\n",
    "applicationTier2 = applicationTier2.quantile(0.5) # value under which 60% of data lies"
   ]
  },
  {
   "cell_type": "code",
   "execution_count": 25,
   "metadata": {},
   "outputs": [],
   "source": [
    "# Normalise the values\n",
    "def normalise(arr, start):\n",
    "    for i in range(len(arr)):\n",
    "        arr.iloc[i] = arr.iloc[i] / start\n",
    "    return arr"
   ]
  },
  {
   "cell_type": "code",
   "execution_count": 26,
   "metadata": {},
   "outputs": [],
   "source": [
    "applicationTier1 = normalise(applicationTier1, applicationTier1.iloc[0])\n",
    "applicationTier2 = normalise(applicationTier2, applicationTier2.iloc[0])"
   ]
  },
  {
   "cell_type": "code",
   "execution_count": 27,
   "metadata": {},
   "outputs": [
    {
     "data": {
      "application/vnd.plotly.v1+json": {
       "config": {
        "plotlyServerURL": "https://plot.ly"
       },
       "data": [
        {
         "mode": "lines",
         "name": "Elite Colleges",
         "type": "scatter",
         "x": [
          2010,
          2011,
          2012,
          2013,
          2014,
          2015,
          2016,
          2017,
          2018,
          2019,
          2020
         ],
         "y": [
          1,
          1.1289564925623532,
          1.183670730343362,
          1.273985012862096,
          1.3996420981993065,
          1.5347723968236215,
          1.4803936919807628,
          1.688647802259255,
          1.7940163292696567,
          2.0664802594788054,
          2.0812772620512248
         ]
        },
        {
         "line": {
          "dash": "dash"
         },
         "mode": "lines",
         "name": "Non-Elite Colleges",
         "type": "scatter",
         "x": [
          2010,
          2011,
          2012,
          2013,
          2014,
          2015,
          2016,
          2017,
          2018,
          2019,
          2020
         ],
         "y": [
          1,
          1.0845821890937624,
          1.0168105139270303,
          1.0606708513142409,
          1.0419968615143194,
          1.0473126716359356,
          1.026167124362495,
          1.0857198901530012,
          1.1139270302079247,
          1.0609062377402902,
          0.9784229109454688
         ]
        }
       ],
       "layout": {
        "template": {
         "data": {
          "bar": [
           {
            "error_x": {
             "color": "#2a3f5f"
            },
            "error_y": {
             "color": "#2a3f5f"
            },
            "marker": {
             "line": {
              "color": "#E5ECF6",
              "width": 0.5
             },
             "pattern": {
              "fillmode": "overlay",
              "size": 10,
              "solidity": 0.2
             }
            },
            "type": "bar"
           }
          ],
          "barpolar": [
           {
            "marker": {
             "line": {
              "color": "#E5ECF6",
              "width": 0.5
             },
             "pattern": {
              "fillmode": "overlay",
              "size": 10,
              "solidity": 0.2
             }
            },
            "type": "barpolar"
           }
          ],
          "carpet": [
           {
            "aaxis": {
             "endlinecolor": "#2a3f5f",
             "gridcolor": "white",
             "linecolor": "white",
             "minorgridcolor": "white",
             "startlinecolor": "#2a3f5f"
            },
            "baxis": {
             "endlinecolor": "#2a3f5f",
             "gridcolor": "white",
             "linecolor": "white",
             "minorgridcolor": "white",
             "startlinecolor": "#2a3f5f"
            },
            "type": "carpet"
           }
          ],
          "choropleth": [
           {
            "colorbar": {
             "outlinewidth": 0,
             "ticks": ""
            },
            "type": "choropleth"
           }
          ],
          "contour": [
           {
            "colorbar": {
             "outlinewidth": 0,
             "ticks": ""
            },
            "colorscale": [
             [
              0,
              "#0d0887"
             ],
             [
              0.1111111111111111,
              "#46039f"
             ],
             [
              0.2222222222222222,
              "#7201a8"
             ],
             [
              0.3333333333333333,
              "#9c179e"
             ],
             [
              0.4444444444444444,
              "#bd3786"
             ],
             [
              0.5555555555555556,
              "#d8576b"
             ],
             [
              0.6666666666666666,
              "#ed7953"
             ],
             [
              0.7777777777777778,
              "#fb9f3a"
             ],
             [
              0.8888888888888888,
              "#fdca26"
             ],
             [
              1,
              "#f0f921"
             ]
            ],
            "type": "contour"
           }
          ],
          "contourcarpet": [
           {
            "colorbar": {
             "outlinewidth": 0,
             "ticks": ""
            },
            "type": "contourcarpet"
           }
          ],
          "heatmap": [
           {
            "colorbar": {
             "outlinewidth": 0,
             "ticks": ""
            },
            "colorscale": [
             [
              0,
              "#0d0887"
             ],
             [
              0.1111111111111111,
              "#46039f"
             ],
             [
              0.2222222222222222,
              "#7201a8"
             ],
             [
              0.3333333333333333,
              "#9c179e"
             ],
             [
              0.4444444444444444,
              "#bd3786"
             ],
             [
              0.5555555555555556,
              "#d8576b"
             ],
             [
              0.6666666666666666,
              "#ed7953"
             ],
             [
              0.7777777777777778,
              "#fb9f3a"
             ],
             [
              0.8888888888888888,
              "#fdca26"
             ],
             [
              1,
              "#f0f921"
             ]
            ],
            "type": "heatmap"
           }
          ],
          "heatmapgl": [
           {
            "colorbar": {
             "outlinewidth": 0,
             "ticks": ""
            },
            "colorscale": [
             [
              0,
              "#0d0887"
             ],
             [
              0.1111111111111111,
              "#46039f"
             ],
             [
              0.2222222222222222,
              "#7201a8"
             ],
             [
              0.3333333333333333,
              "#9c179e"
             ],
             [
              0.4444444444444444,
              "#bd3786"
             ],
             [
              0.5555555555555556,
              "#d8576b"
             ],
             [
              0.6666666666666666,
              "#ed7953"
             ],
             [
              0.7777777777777778,
              "#fb9f3a"
             ],
             [
              0.8888888888888888,
              "#fdca26"
             ],
             [
              1,
              "#f0f921"
             ]
            ],
            "type": "heatmapgl"
           }
          ],
          "histogram": [
           {
            "marker": {
             "pattern": {
              "fillmode": "overlay",
              "size": 10,
              "solidity": 0.2
             }
            },
            "type": "histogram"
           }
          ],
          "histogram2d": [
           {
            "colorbar": {
             "outlinewidth": 0,
             "ticks": ""
            },
            "colorscale": [
             [
              0,
              "#0d0887"
             ],
             [
              0.1111111111111111,
              "#46039f"
             ],
             [
              0.2222222222222222,
              "#7201a8"
             ],
             [
              0.3333333333333333,
              "#9c179e"
             ],
             [
              0.4444444444444444,
              "#bd3786"
             ],
             [
              0.5555555555555556,
              "#d8576b"
             ],
             [
              0.6666666666666666,
              "#ed7953"
             ],
             [
              0.7777777777777778,
              "#fb9f3a"
             ],
             [
              0.8888888888888888,
              "#fdca26"
             ],
             [
              1,
              "#f0f921"
             ]
            ],
            "type": "histogram2d"
           }
          ],
          "histogram2dcontour": [
           {
            "colorbar": {
             "outlinewidth": 0,
             "ticks": ""
            },
            "colorscale": [
             [
              0,
              "#0d0887"
             ],
             [
              0.1111111111111111,
              "#46039f"
             ],
             [
              0.2222222222222222,
              "#7201a8"
             ],
             [
              0.3333333333333333,
              "#9c179e"
             ],
             [
              0.4444444444444444,
              "#bd3786"
             ],
             [
              0.5555555555555556,
              "#d8576b"
             ],
             [
              0.6666666666666666,
              "#ed7953"
             ],
             [
              0.7777777777777778,
              "#fb9f3a"
             ],
             [
              0.8888888888888888,
              "#fdca26"
             ],
             [
              1,
              "#f0f921"
             ]
            ],
            "type": "histogram2dcontour"
           }
          ],
          "mesh3d": [
           {
            "colorbar": {
             "outlinewidth": 0,
             "ticks": ""
            },
            "type": "mesh3d"
           }
          ],
          "parcoords": [
           {
            "line": {
             "colorbar": {
              "outlinewidth": 0,
              "ticks": ""
             }
            },
            "type": "parcoords"
           }
          ],
          "pie": [
           {
            "automargin": true,
            "type": "pie"
           }
          ],
          "scatter": [
           {
            "fillpattern": {
             "fillmode": "overlay",
             "size": 10,
             "solidity": 0.2
            },
            "type": "scatter"
           }
          ],
          "scatter3d": [
           {
            "line": {
             "colorbar": {
              "outlinewidth": 0,
              "ticks": ""
             }
            },
            "marker": {
             "colorbar": {
              "outlinewidth": 0,
              "ticks": ""
             }
            },
            "type": "scatter3d"
           }
          ],
          "scattercarpet": [
           {
            "marker": {
             "colorbar": {
              "outlinewidth": 0,
              "ticks": ""
             }
            },
            "type": "scattercarpet"
           }
          ],
          "scattergeo": [
           {
            "marker": {
             "colorbar": {
              "outlinewidth": 0,
              "ticks": ""
             }
            },
            "type": "scattergeo"
           }
          ],
          "scattergl": [
           {
            "marker": {
             "colorbar": {
              "outlinewidth": 0,
              "ticks": ""
             }
            },
            "type": "scattergl"
           }
          ],
          "scattermapbox": [
           {
            "marker": {
             "colorbar": {
              "outlinewidth": 0,
              "ticks": ""
             }
            },
            "type": "scattermapbox"
           }
          ],
          "scatterpolar": [
           {
            "marker": {
             "colorbar": {
              "outlinewidth": 0,
              "ticks": ""
             }
            },
            "type": "scatterpolar"
           }
          ],
          "scatterpolargl": [
           {
            "marker": {
             "colorbar": {
              "outlinewidth": 0,
              "ticks": ""
             }
            },
            "type": "scatterpolargl"
           }
          ],
          "scatterternary": [
           {
            "marker": {
             "colorbar": {
              "outlinewidth": 0,
              "ticks": ""
             }
            },
            "type": "scatterternary"
           }
          ],
          "surface": [
           {
            "colorbar": {
             "outlinewidth": 0,
             "ticks": ""
            },
            "colorscale": [
             [
              0,
              "#0d0887"
             ],
             [
              0.1111111111111111,
              "#46039f"
             ],
             [
              0.2222222222222222,
              "#7201a8"
             ],
             [
              0.3333333333333333,
              "#9c179e"
             ],
             [
              0.4444444444444444,
              "#bd3786"
             ],
             [
              0.5555555555555556,
              "#d8576b"
             ],
             [
              0.6666666666666666,
              "#ed7953"
             ],
             [
              0.7777777777777778,
              "#fb9f3a"
             ],
             [
              0.8888888888888888,
              "#fdca26"
             ],
             [
              1,
              "#f0f921"
             ]
            ],
            "type": "surface"
           }
          ],
          "table": [
           {
            "cells": {
             "fill": {
              "color": "#EBF0F8"
             },
             "line": {
              "color": "white"
             }
            },
            "header": {
             "fill": {
              "color": "#C8D4E3"
             },
             "line": {
              "color": "white"
             }
            },
            "type": "table"
           }
          ]
         },
         "layout": {
          "annotationdefaults": {
           "arrowcolor": "#2a3f5f",
           "arrowhead": 0,
           "arrowwidth": 1
          },
          "autotypenumbers": "strict",
          "coloraxis": {
           "colorbar": {
            "outlinewidth": 0,
            "ticks": ""
           }
          },
          "colorscale": {
           "diverging": [
            [
             0,
             "#8e0152"
            ],
            [
             0.1,
             "#c51b7d"
            ],
            [
             0.2,
             "#de77ae"
            ],
            [
             0.3,
             "#f1b6da"
            ],
            [
             0.4,
             "#fde0ef"
            ],
            [
             0.5,
             "#f7f7f7"
            ],
            [
             0.6,
             "#e6f5d0"
            ],
            [
             0.7,
             "#b8e186"
            ],
            [
             0.8,
             "#7fbc41"
            ],
            [
             0.9,
             "#4d9221"
            ],
            [
             1,
             "#276419"
            ]
           ],
           "sequential": [
            [
             0,
             "#0d0887"
            ],
            [
             0.1111111111111111,
             "#46039f"
            ],
            [
             0.2222222222222222,
             "#7201a8"
            ],
            [
             0.3333333333333333,
             "#9c179e"
            ],
            [
             0.4444444444444444,
             "#bd3786"
            ],
            [
             0.5555555555555556,
             "#d8576b"
            ],
            [
             0.6666666666666666,
             "#ed7953"
            ],
            [
             0.7777777777777778,
             "#fb9f3a"
            ],
            [
             0.8888888888888888,
             "#fdca26"
            ],
            [
             1,
             "#f0f921"
            ]
           ],
           "sequentialminus": [
            [
             0,
             "#0d0887"
            ],
            [
             0.1111111111111111,
             "#46039f"
            ],
            [
             0.2222222222222222,
             "#7201a8"
            ],
            [
             0.3333333333333333,
             "#9c179e"
            ],
            [
             0.4444444444444444,
             "#bd3786"
            ],
            [
             0.5555555555555556,
             "#d8576b"
            ],
            [
             0.6666666666666666,
             "#ed7953"
            ],
            [
             0.7777777777777778,
             "#fb9f3a"
            ],
            [
             0.8888888888888888,
             "#fdca26"
            ],
            [
             1,
             "#f0f921"
            ]
           ]
          },
          "colorway": [
           "#636efa",
           "#EF553B",
           "#00cc96",
           "#ab63fa",
           "#FFA15A",
           "#19d3f3",
           "#FF6692",
           "#B6E880",
           "#FF97FF",
           "#FECB52"
          ],
          "font": {
           "color": "#2a3f5f"
          },
          "geo": {
           "bgcolor": "white",
           "lakecolor": "white",
           "landcolor": "#E5ECF6",
           "showlakes": true,
           "showland": true,
           "subunitcolor": "white"
          },
          "hoverlabel": {
           "align": "left"
          },
          "hovermode": "closest",
          "mapbox": {
           "style": "light"
          },
          "paper_bgcolor": "white",
          "plot_bgcolor": "#E5ECF6",
          "polar": {
           "angularaxis": {
            "gridcolor": "white",
            "linecolor": "white",
            "ticks": ""
           },
           "bgcolor": "#E5ECF6",
           "radialaxis": {
            "gridcolor": "white",
            "linecolor": "white",
            "ticks": ""
           }
          },
          "scene": {
           "xaxis": {
            "backgroundcolor": "#E5ECF6",
            "gridcolor": "white",
            "gridwidth": 2,
            "linecolor": "white",
            "showbackground": true,
            "ticks": "",
            "zerolinecolor": "white"
           },
           "yaxis": {
            "backgroundcolor": "#E5ECF6",
            "gridcolor": "white",
            "gridwidth": 2,
            "linecolor": "white",
            "showbackground": true,
            "ticks": "",
            "zerolinecolor": "white"
           },
           "zaxis": {
            "backgroundcolor": "#E5ECF6",
            "gridcolor": "white",
            "gridwidth": 2,
            "linecolor": "white",
            "showbackground": true,
            "ticks": "",
            "zerolinecolor": "white"
           }
          },
          "shapedefaults": {
           "line": {
            "color": "#2a3f5f"
           }
          },
          "ternary": {
           "aaxis": {
            "gridcolor": "white",
            "linecolor": "white",
            "ticks": ""
           },
           "baxis": {
            "gridcolor": "white",
            "linecolor": "white",
            "ticks": ""
           },
           "bgcolor": "#E5ECF6",
           "caxis": {
            "gridcolor": "white",
            "linecolor": "white",
            "ticks": ""
           }
          },
          "title": {
           "x": 0.05
          },
          "xaxis": {
           "automargin": true,
           "gridcolor": "white",
           "linecolor": "white",
           "ticks": "",
           "title": {
            "standoff": 15
           },
           "zerolinecolor": "white",
           "zerolinewidth": 2
          },
          "yaxis": {
           "automargin": true,
           "gridcolor": "white",
           "linecolor": "white",
           "ticks": "",
           "title": {
            "standoff": 15
           },
           "zerolinecolor": "white",
           "zerolinewidth": 2
          }
         }
        },
        "title": {
         "text": "Trends in application rates over a decade<br>(Applications are normalised, i.e, number of applications<br>in 2010 are represented as 1.0)"
        },
        "width": 600,
        "xaxis": {
         "title": {
          "text": "Year"
         }
        },
        "yaxis": {
         "title": {
          "text": ""
         }
        }
       }
      }
     },
     "metadata": {},
     "output_type": "display_data"
    }
   ],
   "source": [
    "# Plot the application rates\n",
    "trace1 = go.Scatter(x=year, y=applicationTier1, mode=\"lines\", name=\"Elite Colleges\")\n",
    "trace2 = go.Scatter(x=year, y=applicationTier2, mode=\"lines\", name=\"Non-Elite Colleges\", line=dict(dash='dash'))\n",
    "\n",
    "fig = go.Figure(data=[trace1, trace2])\n",
    "fig.update_layout(\n",
    "    width= 600,\n",
    "    xaxis=dict(title=\"Year\"),\n",
    "    yaxis=dict(title=\"\"),\n",
    "    title=\"Trends in application rates over a decade<br>(Applications are normalised, i.e, number of applications<br>in 2010 are represented as 1.0)\"\n",
    ")\n",
    "fig.show()"
   ]
  },
  {
   "cell_type": "code",
   "execution_count": 28,
   "metadata": {},
   "outputs": [],
   "source": [
    "# Analyse trends in enrolled students\n",
    "enrolledTier1 = tier1Institutes['UGDS'].groupby(level='year').quantile(0.5)\n",
    "enrolledTier2 = tier2Institutes['UGDS'].groupby(level='year').quantile(0.5)"
   ]
  },
  {
   "cell_type": "code",
   "execution_count": 29,
   "metadata": {},
   "outputs": [],
   "source": [
    "enrolledTier1 = normalise(enrolledTier1, enrolledTier1.iloc[0])\n",
    "enrolledTier2 = normalise(enrolledTier2, enrolledTier2.iloc[0])"
   ]
  },
  {
   "cell_type": "code",
   "execution_count": 30,
   "metadata": {},
   "outputs": [
    {
     "data": {
      "application/vnd.plotly.v1+json": {
       "config": {
        "plotlyServerURL": "https://plot.ly"
       },
       "data": [
        {
         "mode": "lines",
         "name": "Elite",
         "type": "scatter",
         "x": [
          2010,
          2011,
          2012,
          2013,
          2014,
          2015,
          2016,
          2017,
          2018,
          2019,
          2020
         ],
         "y": [
          1,
          1.0182850918145037,
          1.0264550264550265,
          1.0266884531590414,
          1.0389044506691565,
          1.0420946156240274,
          1.0500311235605353,
          1.059134765017118,
          1.0680049797696856,
          1.0764861500155618,
          1.0759414877061937
         ]
        },
        {
         "line": {
          "dash": "dash"
         },
         "mode": "lines",
         "name": "Non-Elite",
         "type": "scatter",
         "x": [
          2010,
          2011,
          2012,
          2013,
          2014,
          2015,
          2016,
          2017,
          2018,
          2019,
          2020
         ],
         "y": [
          1,
          1.0558473282442749,
          1.0919083969465648,
          1.1084274809160306,
          1.1224732824427481,
          1.1522137404580153,
          1.1941984732824427,
          1.2225954198473283,
          1.2425343511450382,
          1.240732824427481,
          1.2116946564885496
         ]
        }
       ],
       "layout": {
        "template": {
         "data": {
          "bar": [
           {
            "error_x": {
             "color": "#2a3f5f"
            },
            "error_y": {
             "color": "#2a3f5f"
            },
            "marker": {
             "line": {
              "color": "#E5ECF6",
              "width": 0.5
             },
             "pattern": {
              "fillmode": "overlay",
              "size": 10,
              "solidity": 0.2
             }
            },
            "type": "bar"
           }
          ],
          "barpolar": [
           {
            "marker": {
             "line": {
              "color": "#E5ECF6",
              "width": 0.5
             },
             "pattern": {
              "fillmode": "overlay",
              "size": 10,
              "solidity": 0.2
             }
            },
            "type": "barpolar"
           }
          ],
          "carpet": [
           {
            "aaxis": {
             "endlinecolor": "#2a3f5f",
             "gridcolor": "white",
             "linecolor": "white",
             "minorgridcolor": "white",
             "startlinecolor": "#2a3f5f"
            },
            "baxis": {
             "endlinecolor": "#2a3f5f",
             "gridcolor": "white",
             "linecolor": "white",
             "minorgridcolor": "white",
             "startlinecolor": "#2a3f5f"
            },
            "type": "carpet"
           }
          ],
          "choropleth": [
           {
            "colorbar": {
             "outlinewidth": 0,
             "ticks": ""
            },
            "type": "choropleth"
           }
          ],
          "contour": [
           {
            "colorbar": {
             "outlinewidth": 0,
             "ticks": ""
            },
            "colorscale": [
             [
              0,
              "#0d0887"
             ],
             [
              0.1111111111111111,
              "#46039f"
             ],
             [
              0.2222222222222222,
              "#7201a8"
             ],
             [
              0.3333333333333333,
              "#9c179e"
             ],
             [
              0.4444444444444444,
              "#bd3786"
             ],
             [
              0.5555555555555556,
              "#d8576b"
             ],
             [
              0.6666666666666666,
              "#ed7953"
             ],
             [
              0.7777777777777778,
              "#fb9f3a"
             ],
             [
              0.8888888888888888,
              "#fdca26"
             ],
             [
              1,
              "#f0f921"
             ]
            ],
            "type": "contour"
           }
          ],
          "contourcarpet": [
           {
            "colorbar": {
             "outlinewidth": 0,
             "ticks": ""
            },
            "type": "contourcarpet"
           }
          ],
          "heatmap": [
           {
            "colorbar": {
             "outlinewidth": 0,
             "ticks": ""
            },
            "colorscale": [
             [
              0,
              "#0d0887"
             ],
             [
              0.1111111111111111,
              "#46039f"
             ],
             [
              0.2222222222222222,
              "#7201a8"
             ],
             [
              0.3333333333333333,
              "#9c179e"
             ],
             [
              0.4444444444444444,
              "#bd3786"
             ],
             [
              0.5555555555555556,
              "#d8576b"
             ],
             [
              0.6666666666666666,
              "#ed7953"
             ],
             [
              0.7777777777777778,
              "#fb9f3a"
             ],
             [
              0.8888888888888888,
              "#fdca26"
             ],
             [
              1,
              "#f0f921"
             ]
            ],
            "type": "heatmap"
           }
          ],
          "heatmapgl": [
           {
            "colorbar": {
             "outlinewidth": 0,
             "ticks": ""
            },
            "colorscale": [
             [
              0,
              "#0d0887"
             ],
             [
              0.1111111111111111,
              "#46039f"
             ],
             [
              0.2222222222222222,
              "#7201a8"
             ],
             [
              0.3333333333333333,
              "#9c179e"
             ],
             [
              0.4444444444444444,
              "#bd3786"
             ],
             [
              0.5555555555555556,
              "#d8576b"
             ],
             [
              0.6666666666666666,
              "#ed7953"
             ],
             [
              0.7777777777777778,
              "#fb9f3a"
             ],
             [
              0.8888888888888888,
              "#fdca26"
             ],
             [
              1,
              "#f0f921"
             ]
            ],
            "type": "heatmapgl"
           }
          ],
          "histogram": [
           {
            "marker": {
             "pattern": {
              "fillmode": "overlay",
              "size": 10,
              "solidity": 0.2
             }
            },
            "type": "histogram"
           }
          ],
          "histogram2d": [
           {
            "colorbar": {
             "outlinewidth": 0,
             "ticks": ""
            },
            "colorscale": [
             [
              0,
              "#0d0887"
             ],
             [
              0.1111111111111111,
              "#46039f"
             ],
             [
              0.2222222222222222,
              "#7201a8"
             ],
             [
              0.3333333333333333,
              "#9c179e"
             ],
             [
              0.4444444444444444,
              "#bd3786"
             ],
             [
              0.5555555555555556,
              "#d8576b"
             ],
             [
              0.6666666666666666,
              "#ed7953"
             ],
             [
              0.7777777777777778,
              "#fb9f3a"
             ],
             [
              0.8888888888888888,
              "#fdca26"
             ],
             [
              1,
              "#f0f921"
             ]
            ],
            "type": "histogram2d"
           }
          ],
          "histogram2dcontour": [
           {
            "colorbar": {
             "outlinewidth": 0,
             "ticks": ""
            },
            "colorscale": [
             [
              0,
              "#0d0887"
             ],
             [
              0.1111111111111111,
              "#46039f"
             ],
             [
              0.2222222222222222,
              "#7201a8"
             ],
             [
              0.3333333333333333,
              "#9c179e"
             ],
             [
              0.4444444444444444,
              "#bd3786"
             ],
             [
              0.5555555555555556,
              "#d8576b"
             ],
             [
              0.6666666666666666,
              "#ed7953"
             ],
             [
              0.7777777777777778,
              "#fb9f3a"
             ],
             [
              0.8888888888888888,
              "#fdca26"
             ],
             [
              1,
              "#f0f921"
             ]
            ],
            "type": "histogram2dcontour"
           }
          ],
          "mesh3d": [
           {
            "colorbar": {
             "outlinewidth": 0,
             "ticks": ""
            },
            "type": "mesh3d"
           }
          ],
          "parcoords": [
           {
            "line": {
             "colorbar": {
              "outlinewidth": 0,
              "ticks": ""
             }
            },
            "type": "parcoords"
           }
          ],
          "pie": [
           {
            "automargin": true,
            "type": "pie"
           }
          ],
          "scatter": [
           {
            "fillpattern": {
             "fillmode": "overlay",
             "size": 10,
             "solidity": 0.2
            },
            "type": "scatter"
           }
          ],
          "scatter3d": [
           {
            "line": {
             "colorbar": {
              "outlinewidth": 0,
              "ticks": ""
             }
            },
            "marker": {
             "colorbar": {
              "outlinewidth": 0,
              "ticks": ""
             }
            },
            "type": "scatter3d"
           }
          ],
          "scattercarpet": [
           {
            "marker": {
             "colorbar": {
              "outlinewidth": 0,
              "ticks": ""
             }
            },
            "type": "scattercarpet"
           }
          ],
          "scattergeo": [
           {
            "marker": {
             "colorbar": {
              "outlinewidth": 0,
              "ticks": ""
             }
            },
            "type": "scattergeo"
           }
          ],
          "scattergl": [
           {
            "marker": {
             "colorbar": {
              "outlinewidth": 0,
              "ticks": ""
             }
            },
            "type": "scattergl"
           }
          ],
          "scattermapbox": [
           {
            "marker": {
             "colorbar": {
              "outlinewidth": 0,
              "ticks": ""
             }
            },
            "type": "scattermapbox"
           }
          ],
          "scatterpolar": [
           {
            "marker": {
             "colorbar": {
              "outlinewidth": 0,
              "ticks": ""
             }
            },
            "type": "scatterpolar"
           }
          ],
          "scatterpolargl": [
           {
            "marker": {
             "colorbar": {
              "outlinewidth": 0,
              "ticks": ""
             }
            },
            "type": "scatterpolargl"
           }
          ],
          "scatterternary": [
           {
            "marker": {
             "colorbar": {
              "outlinewidth": 0,
              "ticks": ""
             }
            },
            "type": "scatterternary"
           }
          ],
          "surface": [
           {
            "colorbar": {
             "outlinewidth": 0,
             "ticks": ""
            },
            "colorscale": [
             [
              0,
              "#0d0887"
             ],
             [
              0.1111111111111111,
              "#46039f"
             ],
             [
              0.2222222222222222,
              "#7201a8"
             ],
             [
              0.3333333333333333,
              "#9c179e"
             ],
             [
              0.4444444444444444,
              "#bd3786"
             ],
             [
              0.5555555555555556,
              "#d8576b"
             ],
             [
              0.6666666666666666,
              "#ed7953"
             ],
             [
              0.7777777777777778,
              "#fb9f3a"
             ],
             [
              0.8888888888888888,
              "#fdca26"
             ],
             [
              1,
              "#f0f921"
             ]
            ],
            "type": "surface"
           }
          ],
          "table": [
           {
            "cells": {
             "fill": {
              "color": "#EBF0F8"
             },
             "line": {
              "color": "white"
             }
            },
            "header": {
             "fill": {
              "color": "#C8D4E3"
             },
             "line": {
              "color": "white"
             }
            },
            "type": "table"
           }
          ]
         },
         "layout": {
          "annotationdefaults": {
           "arrowcolor": "#2a3f5f",
           "arrowhead": 0,
           "arrowwidth": 1
          },
          "autotypenumbers": "strict",
          "coloraxis": {
           "colorbar": {
            "outlinewidth": 0,
            "ticks": ""
           }
          },
          "colorscale": {
           "diverging": [
            [
             0,
             "#8e0152"
            ],
            [
             0.1,
             "#c51b7d"
            ],
            [
             0.2,
             "#de77ae"
            ],
            [
             0.3,
             "#f1b6da"
            ],
            [
             0.4,
             "#fde0ef"
            ],
            [
             0.5,
             "#f7f7f7"
            ],
            [
             0.6,
             "#e6f5d0"
            ],
            [
             0.7,
             "#b8e186"
            ],
            [
             0.8,
             "#7fbc41"
            ],
            [
             0.9,
             "#4d9221"
            ],
            [
             1,
             "#276419"
            ]
           ],
           "sequential": [
            [
             0,
             "#0d0887"
            ],
            [
             0.1111111111111111,
             "#46039f"
            ],
            [
             0.2222222222222222,
             "#7201a8"
            ],
            [
             0.3333333333333333,
             "#9c179e"
            ],
            [
             0.4444444444444444,
             "#bd3786"
            ],
            [
             0.5555555555555556,
             "#d8576b"
            ],
            [
             0.6666666666666666,
             "#ed7953"
            ],
            [
             0.7777777777777778,
             "#fb9f3a"
            ],
            [
             0.8888888888888888,
             "#fdca26"
            ],
            [
             1,
             "#f0f921"
            ]
           ],
           "sequentialminus": [
            [
             0,
             "#0d0887"
            ],
            [
             0.1111111111111111,
             "#46039f"
            ],
            [
             0.2222222222222222,
             "#7201a8"
            ],
            [
             0.3333333333333333,
             "#9c179e"
            ],
            [
             0.4444444444444444,
             "#bd3786"
            ],
            [
             0.5555555555555556,
             "#d8576b"
            ],
            [
             0.6666666666666666,
             "#ed7953"
            ],
            [
             0.7777777777777778,
             "#fb9f3a"
            ],
            [
             0.8888888888888888,
             "#fdca26"
            ],
            [
             1,
             "#f0f921"
            ]
           ]
          },
          "colorway": [
           "#636efa",
           "#EF553B",
           "#00cc96",
           "#ab63fa",
           "#FFA15A",
           "#19d3f3",
           "#FF6692",
           "#B6E880",
           "#FF97FF",
           "#FECB52"
          ],
          "font": {
           "color": "#2a3f5f"
          },
          "geo": {
           "bgcolor": "white",
           "lakecolor": "white",
           "landcolor": "#E5ECF6",
           "showlakes": true,
           "showland": true,
           "subunitcolor": "white"
          },
          "hoverlabel": {
           "align": "left"
          },
          "hovermode": "closest",
          "mapbox": {
           "style": "light"
          },
          "paper_bgcolor": "white",
          "plot_bgcolor": "#E5ECF6",
          "polar": {
           "angularaxis": {
            "gridcolor": "white",
            "linecolor": "white",
            "ticks": ""
           },
           "bgcolor": "#E5ECF6",
           "radialaxis": {
            "gridcolor": "white",
            "linecolor": "white",
            "ticks": ""
           }
          },
          "scene": {
           "xaxis": {
            "backgroundcolor": "#E5ECF6",
            "gridcolor": "white",
            "gridwidth": 2,
            "linecolor": "white",
            "showbackground": true,
            "ticks": "",
            "zerolinecolor": "white"
           },
           "yaxis": {
            "backgroundcolor": "#E5ECF6",
            "gridcolor": "white",
            "gridwidth": 2,
            "linecolor": "white",
            "showbackground": true,
            "ticks": "",
            "zerolinecolor": "white"
           },
           "zaxis": {
            "backgroundcolor": "#E5ECF6",
            "gridcolor": "white",
            "gridwidth": 2,
            "linecolor": "white",
            "showbackground": true,
            "ticks": "",
            "zerolinecolor": "white"
           }
          },
          "shapedefaults": {
           "line": {
            "color": "#2a3f5f"
           }
          },
          "ternary": {
           "aaxis": {
            "gridcolor": "white",
            "linecolor": "white",
            "ticks": ""
           },
           "baxis": {
            "gridcolor": "white",
            "linecolor": "white",
            "ticks": ""
           },
           "bgcolor": "#E5ECF6",
           "caxis": {
            "gridcolor": "white",
            "linecolor": "white",
            "ticks": ""
           }
          },
          "title": {
           "x": 0.05
          },
          "xaxis": {
           "automargin": true,
           "gridcolor": "white",
           "linecolor": "white",
           "ticks": "",
           "title": {
            "standoff": 15
           },
           "zerolinecolor": "white",
           "zerolinewidth": 2
          },
          "yaxis": {
           "automargin": true,
           "gridcolor": "white",
           "linecolor": "white",
           "ticks": "",
           "title": {
            "standoff": 15
           },
           "zerolinecolor": "white",
           "zerolinewidth": 2
          }
         }
        },
        "title": {
         "text": "Trends in enrollment rates over a decade<br>(Enrollments are normalised, i.e, number of enrollments in<br>2010 are represented as 1.0)"
        },
        "width": 600,
        "xaxis": {
         "title": {
          "text": "Year"
         }
        },
        "yaxis": {
         "title": {
          "text": ""
         }
        }
       }
      }
     },
     "metadata": {},
     "output_type": "display_data"
    }
   ],
   "source": [
    "# Plot the application rates\n",
    "trace1 = go.Scatter(x=year, y=enrolledTier1, mode=\"lines\", name=\"Elite\")\n",
    "trace2 = go.Scatter(x=year, y=enrolledTier2, mode=\"lines\", name=\"Non-Elite\", line=dict(dash='dash'))\n",
    "\n",
    "fig = go.Figure(data=[trace1, trace2])\n",
    "fig.update_layout(\n",
    "    width=600,\n",
    "    xaxis=dict(title=\"Year\"),\n",
    "    yaxis=dict(title=\"\"),\n",
    "    title=\"Trends in enrollment rates over a decade<br>(Enrollments are normalised, i.e, number of enrollments in<br>2010 are represented as 1.0)\"\n",
    ")\n",
    "fig.show()"
   ]
  },
  {
   "cell_type": "code",
   "execution_count": 31,
   "metadata": {},
   "outputs": [],
   "source": [
    "# Analysing the cost of attending a Elite Vs Non-Elite college\n",
    "costTier1 = tier1Institutes['COSTT4_A'].groupby(level='year').mean() # very less deviations check using  costTier1.describe()\n",
    "costTier2 = tier2Institutes['COSTT4_A'].groupby(level='year').mean() # very less deviations check using  costTier2.describe()"
   ]
  },
  {
   "cell_type": "code",
   "execution_count": 32,
   "metadata": {},
   "outputs": [
    {
     "data": {
      "application/vnd.plotly.v1+json": {
       "config": {
        "plotlyServerURL": "https://plot.ly"
       },
       "data": [
        {
         "mode": "lines",
         "name": "Elite Colleges",
         "type": "scatter",
         "x": [
          2010,
          2011,
          2012,
          2013,
          2014,
          2015,
          2016,
          2017,
          2018,
          2019,
          2020
         ],
         "y": [
          51079.5,
          52949,
          54928.9,
          56896.6,
          58836.9,
          60895.3,
          63103.3,
          65428.3,
          67843.1,
          70552.2,
          73140.4
         ]
        },
        {
         "line": {
          "dash": "dash"
         },
         "mode": "lines",
         "name": "Non-Elite Colleges",
         "type": "scatter",
         "x": [
          2010,
          2011,
          2012,
          2013,
          2014,
          2015,
          2016,
          2017,
          2018,
          2019,
          2020
         ],
         "y": [
          16812.9,
          17213.3,
          17918.5,
          18922.5,
          19547.9,
          19885.4,
          20186.2,
          20815.7,
          21207,
          21845.3,
          22637.6
         ]
        }
       ],
       "layout": {
        "template": {
         "data": {
          "bar": [
           {
            "error_x": {
             "color": "#2a3f5f"
            },
            "error_y": {
             "color": "#2a3f5f"
            },
            "marker": {
             "line": {
              "color": "#E5ECF6",
              "width": 0.5
             },
             "pattern": {
              "fillmode": "overlay",
              "size": 10,
              "solidity": 0.2
             }
            },
            "type": "bar"
           }
          ],
          "barpolar": [
           {
            "marker": {
             "line": {
              "color": "#E5ECF6",
              "width": 0.5
             },
             "pattern": {
              "fillmode": "overlay",
              "size": 10,
              "solidity": 0.2
             }
            },
            "type": "barpolar"
           }
          ],
          "carpet": [
           {
            "aaxis": {
             "endlinecolor": "#2a3f5f",
             "gridcolor": "white",
             "linecolor": "white",
             "minorgridcolor": "white",
             "startlinecolor": "#2a3f5f"
            },
            "baxis": {
             "endlinecolor": "#2a3f5f",
             "gridcolor": "white",
             "linecolor": "white",
             "minorgridcolor": "white",
             "startlinecolor": "#2a3f5f"
            },
            "type": "carpet"
           }
          ],
          "choropleth": [
           {
            "colorbar": {
             "outlinewidth": 0,
             "ticks": ""
            },
            "type": "choropleth"
           }
          ],
          "contour": [
           {
            "colorbar": {
             "outlinewidth": 0,
             "ticks": ""
            },
            "colorscale": [
             [
              0,
              "#0d0887"
             ],
             [
              0.1111111111111111,
              "#46039f"
             ],
             [
              0.2222222222222222,
              "#7201a8"
             ],
             [
              0.3333333333333333,
              "#9c179e"
             ],
             [
              0.4444444444444444,
              "#bd3786"
             ],
             [
              0.5555555555555556,
              "#d8576b"
             ],
             [
              0.6666666666666666,
              "#ed7953"
             ],
             [
              0.7777777777777778,
              "#fb9f3a"
             ],
             [
              0.8888888888888888,
              "#fdca26"
             ],
             [
              1,
              "#f0f921"
             ]
            ],
            "type": "contour"
           }
          ],
          "contourcarpet": [
           {
            "colorbar": {
             "outlinewidth": 0,
             "ticks": ""
            },
            "type": "contourcarpet"
           }
          ],
          "heatmap": [
           {
            "colorbar": {
             "outlinewidth": 0,
             "ticks": ""
            },
            "colorscale": [
             [
              0,
              "#0d0887"
             ],
             [
              0.1111111111111111,
              "#46039f"
             ],
             [
              0.2222222222222222,
              "#7201a8"
             ],
             [
              0.3333333333333333,
              "#9c179e"
             ],
             [
              0.4444444444444444,
              "#bd3786"
             ],
             [
              0.5555555555555556,
              "#d8576b"
             ],
             [
              0.6666666666666666,
              "#ed7953"
             ],
             [
              0.7777777777777778,
              "#fb9f3a"
             ],
             [
              0.8888888888888888,
              "#fdca26"
             ],
             [
              1,
              "#f0f921"
             ]
            ],
            "type": "heatmap"
           }
          ],
          "heatmapgl": [
           {
            "colorbar": {
             "outlinewidth": 0,
             "ticks": ""
            },
            "colorscale": [
             [
              0,
              "#0d0887"
             ],
             [
              0.1111111111111111,
              "#46039f"
             ],
             [
              0.2222222222222222,
              "#7201a8"
             ],
             [
              0.3333333333333333,
              "#9c179e"
             ],
             [
              0.4444444444444444,
              "#bd3786"
             ],
             [
              0.5555555555555556,
              "#d8576b"
             ],
             [
              0.6666666666666666,
              "#ed7953"
             ],
             [
              0.7777777777777778,
              "#fb9f3a"
             ],
             [
              0.8888888888888888,
              "#fdca26"
             ],
             [
              1,
              "#f0f921"
             ]
            ],
            "type": "heatmapgl"
           }
          ],
          "histogram": [
           {
            "marker": {
             "pattern": {
              "fillmode": "overlay",
              "size": 10,
              "solidity": 0.2
             }
            },
            "type": "histogram"
           }
          ],
          "histogram2d": [
           {
            "colorbar": {
             "outlinewidth": 0,
             "ticks": ""
            },
            "colorscale": [
             [
              0,
              "#0d0887"
             ],
             [
              0.1111111111111111,
              "#46039f"
             ],
             [
              0.2222222222222222,
              "#7201a8"
             ],
             [
              0.3333333333333333,
              "#9c179e"
             ],
             [
              0.4444444444444444,
              "#bd3786"
             ],
             [
              0.5555555555555556,
              "#d8576b"
             ],
             [
              0.6666666666666666,
              "#ed7953"
             ],
             [
              0.7777777777777778,
              "#fb9f3a"
             ],
             [
              0.8888888888888888,
              "#fdca26"
             ],
             [
              1,
              "#f0f921"
             ]
            ],
            "type": "histogram2d"
           }
          ],
          "histogram2dcontour": [
           {
            "colorbar": {
             "outlinewidth": 0,
             "ticks": ""
            },
            "colorscale": [
             [
              0,
              "#0d0887"
             ],
             [
              0.1111111111111111,
              "#46039f"
             ],
             [
              0.2222222222222222,
              "#7201a8"
             ],
             [
              0.3333333333333333,
              "#9c179e"
             ],
             [
              0.4444444444444444,
              "#bd3786"
             ],
             [
              0.5555555555555556,
              "#d8576b"
             ],
             [
              0.6666666666666666,
              "#ed7953"
             ],
             [
              0.7777777777777778,
              "#fb9f3a"
             ],
             [
              0.8888888888888888,
              "#fdca26"
             ],
             [
              1,
              "#f0f921"
             ]
            ],
            "type": "histogram2dcontour"
           }
          ],
          "mesh3d": [
           {
            "colorbar": {
             "outlinewidth": 0,
             "ticks": ""
            },
            "type": "mesh3d"
           }
          ],
          "parcoords": [
           {
            "line": {
             "colorbar": {
              "outlinewidth": 0,
              "ticks": ""
             }
            },
            "type": "parcoords"
           }
          ],
          "pie": [
           {
            "automargin": true,
            "type": "pie"
           }
          ],
          "scatter": [
           {
            "fillpattern": {
             "fillmode": "overlay",
             "size": 10,
             "solidity": 0.2
            },
            "type": "scatter"
           }
          ],
          "scatter3d": [
           {
            "line": {
             "colorbar": {
              "outlinewidth": 0,
              "ticks": ""
             }
            },
            "marker": {
             "colorbar": {
              "outlinewidth": 0,
              "ticks": ""
             }
            },
            "type": "scatter3d"
           }
          ],
          "scattercarpet": [
           {
            "marker": {
             "colorbar": {
              "outlinewidth": 0,
              "ticks": ""
             }
            },
            "type": "scattercarpet"
           }
          ],
          "scattergeo": [
           {
            "marker": {
             "colorbar": {
              "outlinewidth": 0,
              "ticks": ""
             }
            },
            "type": "scattergeo"
           }
          ],
          "scattergl": [
           {
            "marker": {
             "colorbar": {
              "outlinewidth": 0,
              "ticks": ""
             }
            },
            "type": "scattergl"
           }
          ],
          "scattermapbox": [
           {
            "marker": {
             "colorbar": {
              "outlinewidth": 0,
              "ticks": ""
             }
            },
            "type": "scattermapbox"
           }
          ],
          "scatterpolar": [
           {
            "marker": {
             "colorbar": {
              "outlinewidth": 0,
              "ticks": ""
             }
            },
            "type": "scatterpolar"
           }
          ],
          "scatterpolargl": [
           {
            "marker": {
             "colorbar": {
              "outlinewidth": 0,
              "ticks": ""
             }
            },
            "type": "scatterpolargl"
           }
          ],
          "scatterternary": [
           {
            "marker": {
             "colorbar": {
              "outlinewidth": 0,
              "ticks": ""
             }
            },
            "type": "scatterternary"
           }
          ],
          "surface": [
           {
            "colorbar": {
             "outlinewidth": 0,
             "ticks": ""
            },
            "colorscale": [
             [
              0,
              "#0d0887"
             ],
             [
              0.1111111111111111,
              "#46039f"
             ],
             [
              0.2222222222222222,
              "#7201a8"
             ],
             [
              0.3333333333333333,
              "#9c179e"
             ],
             [
              0.4444444444444444,
              "#bd3786"
             ],
             [
              0.5555555555555556,
              "#d8576b"
             ],
             [
              0.6666666666666666,
              "#ed7953"
             ],
             [
              0.7777777777777778,
              "#fb9f3a"
             ],
             [
              0.8888888888888888,
              "#fdca26"
             ],
             [
              1,
              "#f0f921"
             ]
            ],
            "type": "surface"
           }
          ],
          "table": [
           {
            "cells": {
             "fill": {
              "color": "#EBF0F8"
             },
             "line": {
              "color": "white"
             }
            },
            "header": {
             "fill": {
              "color": "#C8D4E3"
             },
             "line": {
              "color": "white"
             }
            },
            "type": "table"
           }
          ]
         },
         "layout": {
          "annotationdefaults": {
           "arrowcolor": "#2a3f5f",
           "arrowhead": 0,
           "arrowwidth": 1
          },
          "autotypenumbers": "strict",
          "coloraxis": {
           "colorbar": {
            "outlinewidth": 0,
            "ticks": ""
           }
          },
          "colorscale": {
           "diverging": [
            [
             0,
             "#8e0152"
            ],
            [
             0.1,
             "#c51b7d"
            ],
            [
             0.2,
             "#de77ae"
            ],
            [
             0.3,
             "#f1b6da"
            ],
            [
             0.4,
             "#fde0ef"
            ],
            [
             0.5,
             "#f7f7f7"
            ],
            [
             0.6,
             "#e6f5d0"
            ],
            [
             0.7,
             "#b8e186"
            ],
            [
             0.8,
             "#7fbc41"
            ],
            [
             0.9,
             "#4d9221"
            ],
            [
             1,
             "#276419"
            ]
           ],
           "sequential": [
            [
             0,
             "#0d0887"
            ],
            [
             0.1111111111111111,
             "#46039f"
            ],
            [
             0.2222222222222222,
             "#7201a8"
            ],
            [
             0.3333333333333333,
             "#9c179e"
            ],
            [
             0.4444444444444444,
             "#bd3786"
            ],
            [
             0.5555555555555556,
             "#d8576b"
            ],
            [
             0.6666666666666666,
             "#ed7953"
            ],
            [
             0.7777777777777778,
             "#fb9f3a"
            ],
            [
             0.8888888888888888,
             "#fdca26"
            ],
            [
             1,
             "#f0f921"
            ]
           ],
           "sequentialminus": [
            [
             0,
             "#0d0887"
            ],
            [
             0.1111111111111111,
             "#46039f"
            ],
            [
             0.2222222222222222,
             "#7201a8"
            ],
            [
             0.3333333333333333,
             "#9c179e"
            ],
            [
             0.4444444444444444,
             "#bd3786"
            ],
            [
             0.5555555555555556,
             "#d8576b"
            ],
            [
             0.6666666666666666,
             "#ed7953"
            ],
            [
             0.7777777777777778,
             "#fb9f3a"
            ],
            [
             0.8888888888888888,
             "#fdca26"
            ],
            [
             1,
             "#f0f921"
            ]
           ]
          },
          "colorway": [
           "#636efa",
           "#EF553B",
           "#00cc96",
           "#ab63fa",
           "#FFA15A",
           "#19d3f3",
           "#FF6692",
           "#B6E880",
           "#FF97FF",
           "#FECB52"
          ],
          "font": {
           "color": "#2a3f5f"
          },
          "geo": {
           "bgcolor": "white",
           "lakecolor": "white",
           "landcolor": "#E5ECF6",
           "showlakes": true,
           "showland": true,
           "subunitcolor": "white"
          },
          "hoverlabel": {
           "align": "left"
          },
          "hovermode": "closest",
          "mapbox": {
           "style": "light"
          },
          "paper_bgcolor": "white",
          "plot_bgcolor": "#E5ECF6",
          "polar": {
           "angularaxis": {
            "gridcolor": "white",
            "linecolor": "white",
            "ticks": ""
           },
           "bgcolor": "#E5ECF6",
           "radialaxis": {
            "gridcolor": "white",
            "linecolor": "white",
            "ticks": ""
           }
          },
          "scene": {
           "xaxis": {
            "backgroundcolor": "#E5ECF6",
            "gridcolor": "white",
            "gridwidth": 2,
            "linecolor": "white",
            "showbackground": true,
            "ticks": "",
            "zerolinecolor": "white"
           },
           "yaxis": {
            "backgroundcolor": "#E5ECF6",
            "gridcolor": "white",
            "gridwidth": 2,
            "linecolor": "white",
            "showbackground": true,
            "ticks": "",
            "zerolinecolor": "white"
           },
           "zaxis": {
            "backgroundcolor": "#E5ECF6",
            "gridcolor": "white",
            "gridwidth": 2,
            "linecolor": "white",
            "showbackground": true,
            "ticks": "",
            "zerolinecolor": "white"
           }
          },
          "shapedefaults": {
           "line": {
            "color": "#2a3f5f"
           }
          },
          "ternary": {
           "aaxis": {
            "gridcolor": "white",
            "linecolor": "white",
            "ticks": ""
           },
           "baxis": {
            "gridcolor": "white",
            "linecolor": "white",
            "ticks": ""
           },
           "bgcolor": "#E5ECF6",
           "caxis": {
            "gridcolor": "white",
            "linecolor": "white",
            "ticks": ""
           }
          },
          "title": {
           "x": 0.05
          },
          "xaxis": {
           "automargin": true,
           "gridcolor": "white",
           "linecolor": "white",
           "ticks": "",
           "title": {
            "standoff": 15
           },
           "zerolinecolor": "white",
           "zerolinewidth": 2
          },
          "yaxis": {
           "automargin": true,
           "gridcolor": "white",
           "linecolor": "white",
           "ticks": "",
           "title": {
            "standoff": 15
           },
           "zerolinecolor": "white",
           "zerolinewidth": 2
          }
         }
        },
        "title": {
         "text": "Trends in tuition fees over a decade"
        },
        "width": 600,
        "xaxis": {
         "title": {
          "text": "Year"
         }
        },
        "yaxis": {
         "title": {
          "text": ""
         }
        }
       }
      }
     },
     "metadata": {},
     "output_type": "display_data"
    }
   ],
   "source": [
    "# Plot the application rates\n",
    "trace1 = go.Scatter(x=year, y=costTier1, mode=\"lines\", name=\"Elite Colleges\")\n",
    "trace2 = go.Scatter(x=year, y=costTier2, mode=\"lines\", name=\"Non-Elite Colleges\", line=dict(dash='dash'))\n",
    "\n",
    "fig = go.Figure(data=[trace1, trace2])\n",
    "fig.update_layout(\n",
    "    width=600,\n",
    "    xaxis=dict(title=\"Year\"),\n",
    "    yaxis=dict(title=\"\"),\n",
    "    title=\"Trends in tuition fees over a decade\"\n",
    ")\n",
    "fig.show()"
   ]
  },
  {
   "cell_type": "code",
   "execution_count": 33,
   "metadata": {},
   "outputs": [],
   "source": [
    "# Prepare MD_EARN_WNE_P6 for Tier1\n",
    "pd.set_option('display.max_rows', 10)\n",
    "ffillByYear(tier1Institutes, 'MD_EARN_WNE_P6', True, 2010)\n",
    "# tier1Institutes[['INSTNM', 'MD_EARN_WNE_P6']]"
   ]
  },
  {
   "cell_type": "code",
   "execution_count": 34,
   "metadata": {},
   "outputs": [
    {
     "data": {
      "text/plain": [
       "11"
      ]
     },
     "execution_count": 34,
     "metadata": {},
     "output_type": "execute_result"
    }
   ],
   "source": [
    "stat = tier1Institutes.loc[2010:2020]\n",
    "grpTier1 = stat.groupby(level='year')\n",
    "\n",
    "medianEarnTier1 = grpTier1['MD_EARN_WNE_P6'].median() # MIT has unsually large median earnings\n",
    "medianEarnTier1 = medianEarnTier1[medianEarnTier1 > 0]\n",
    "\n",
    "year = medianEarnTier1.index\n",
    "\n",
    "medianEarnTier1 = np.array(medianEarnTier1)\n",
    "len(medianEarnTier1)"
   ]
  },
  {
   "cell_type": "code",
   "execution_count": 35,
   "metadata": {},
   "outputs": [
    {
     "data": {
      "text/plain": [
       "array([10460.15, 11166.4 , 12151.4 , 12827.7 , 13074.8 , 13081.65,\n",
       "       13211.2 , 13098.45, 14064.1 , 14208.2 , 13654.6 ])"
      ]
     },
     "execution_count": 35,
     "metadata": {},
     "output_type": "execute_result"
    }
   ],
   "source": [
    "meanDebtTier1 = grpTier1['GRAD_DEBT_MDN'].mean()\n",
    "meanDebtTier1 = np.array(meanDebtTier1)\n",
    "meanDebtTier1"
   ]
  },
  {
   "cell_type": "code",
   "execution_count": 36,
   "metadata": {},
   "outputs": [],
   "source": [
    "# Prepare MD_EARN_WNE_P6 for Tier2\n",
    "pd.set_option('display.max_rows', 10)\n",
    "ffillByYear(tier2Institutes, 'MD_EARN_WNE_P6', True, 2010)\n",
    "# tier2Institutes[['INSTNM', 'MD_EARN_WNE_P6']]"
   ]
  },
  {
   "cell_type": "code",
   "execution_count": 37,
   "metadata": {},
   "outputs": [
    {
     "data": {
      "text/plain": [
       "11"
      ]
     },
     "execution_count": 37,
     "metadata": {},
     "output_type": "execute_result"
    }
   ],
   "source": [
    "stat = tier2Institutes.loc[2010:2020]\n",
    "grpTier2 = stat.groupby(level='year')\n",
    "medianEarnTier2 = grpTier2['MD_EARN_WNE_P6'].median()\n",
    "medianEarnTier2 = medianEarnTier2[medianEarnTier2 > 0]\n",
    "\n",
    "medianEarnTier2 = np.array(medianEarnTier2)\n",
    "len(medianEarnTier2)"
   ]
  },
  {
   "cell_type": "code",
   "execution_count": 38,
   "metadata": {},
   "outputs": [
    {
     "data": {
      "text/plain": [
       "array([15051.9 , 16299.55, 17507.  , 18622.2 , 19565.1 , 20089.35,\n",
       "       20201.9 , 20322.4 , 20780.7 , 20739.9 , 20654.8 ])"
      ]
     },
     "execution_count": 38,
     "metadata": {},
     "output_type": "execute_result"
    }
   ],
   "source": [
    "meanDebtTier2 = grpTier2['GRAD_DEBT_MDN'].mean()\n",
    "meanDebtTier2 = np.array(meanDebtTier2)\n",
    "meanDebtTier2"
   ]
  },
  {
   "cell_type": "markdown",
   "metadata": {},
   "source": [
    "## Analysing the disparity between Tier-1 and Tier-2 institutes ##"
   ]
  },
  {
   "cell_type": "code",
   "execution_count": 39,
   "metadata": {},
   "outputs": [
    {
     "data": {
      "application/vnd.plotly.v1+json": {
       "config": {
        "plotlyServerURL": "https://plot.ly"
       },
       "data": [
        {
         "mode": "lines",
         "name": "Elite",
         "type": "scatter",
         "x": [
          2010,
          2011,
          2012,
          2013,
          2014,
          2015,
          2016,
          2017,
          2018,
          2019,
          2020
         ],
         "y": [
          62800,
          60515,
          63700,
          63650,
          65100,
          66500,
          73661.1,
          73661.1,
          73661.1,
          77538,
          85551.5
         ]
        },
        {
         "fill": "tonextx",
         "mode": "lines",
         "name": "Non-Elite",
         "opacity": 0,
         "type": "scatter",
         "x": [
          2010,
          2011,
          2012,
          2013,
          2014,
          2015,
          2016,
          2017,
          2018,
          2019,
          2020
         ],
         "y": [
          35150,
          31872.5,
          33550,
          33500,
          34900,
          36650,
          40862.350000000006,
          40862.350000000006,
          40862.350000000006,
          43013,
          44368.5
         ]
        }
       ],
       "layout": {
        "height": 400,
        "template": {
         "data": {
          "bar": [
           {
            "error_x": {
             "color": "#2a3f5f"
            },
            "error_y": {
             "color": "#2a3f5f"
            },
            "marker": {
             "line": {
              "color": "#E5ECF6",
              "width": 0.5
             },
             "pattern": {
              "fillmode": "overlay",
              "size": 10,
              "solidity": 0.2
             }
            },
            "type": "bar"
           }
          ],
          "barpolar": [
           {
            "marker": {
             "line": {
              "color": "#E5ECF6",
              "width": 0.5
             },
             "pattern": {
              "fillmode": "overlay",
              "size": 10,
              "solidity": 0.2
             }
            },
            "type": "barpolar"
           }
          ],
          "carpet": [
           {
            "aaxis": {
             "endlinecolor": "#2a3f5f",
             "gridcolor": "white",
             "linecolor": "white",
             "minorgridcolor": "white",
             "startlinecolor": "#2a3f5f"
            },
            "baxis": {
             "endlinecolor": "#2a3f5f",
             "gridcolor": "white",
             "linecolor": "white",
             "minorgridcolor": "white",
             "startlinecolor": "#2a3f5f"
            },
            "type": "carpet"
           }
          ],
          "choropleth": [
           {
            "colorbar": {
             "outlinewidth": 0,
             "ticks": ""
            },
            "type": "choropleth"
           }
          ],
          "contour": [
           {
            "colorbar": {
             "outlinewidth": 0,
             "ticks": ""
            },
            "colorscale": [
             [
              0,
              "#0d0887"
             ],
             [
              0.1111111111111111,
              "#46039f"
             ],
             [
              0.2222222222222222,
              "#7201a8"
             ],
             [
              0.3333333333333333,
              "#9c179e"
             ],
             [
              0.4444444444444444,
              "#bd3786"
             ],
             [
              0.5555555555555556,
              "#d8576b"
             ],
             [
              0.6666666666666666,
              "#ed7953"
             ],
             [
              0.7777777777777778,
              "#fb9f3a"
             ],
             [
              0.8888888888888888,
              "#fdca26"
             ],
             [
              1,
              "#f0f921"
             ]
            ],
            "type": "contour"
           }
          ],
          "contourcarpet": [
           {
            "colorbar": {
             "outlinewidth": 0,
             "ticks": ""
            },
            "type": "contourcarpet"
           }
          ],
          "heatmap": [
           {
            "colorbar": {
             "outlinewidth": 0,
             "ticks": ""
            },
            "colorscale": [
             [
              0,
              "#0d0887"
             ],
             [
              0.1111111111111111,
              "#46039f"
             ],
             [
              0.2222222222222222,
              "#7201a8"
             ],
             [
              0.3333333333333333,
              "#9c179e"
             ],
             [
              0.4444444444444444,
              "#bd3786"
             ],
             [
              0.5555555555555556,
              "#d8576b"
             ],
             [
              0.6666666666666666,
              "#ed7953"
             ],
             [
              0.7777777777777778,
              "#fb9f3a"
             ],
             [
              0.8888888888888888,
              "#fdca26"
             ],
             [
              1,
              "#f0f921"
             ]
            ],
            "type": "heatmap"
           }
          ],
          "heatmapgl": [
           {
            "colorbar": {
             "outlinewidth": 0,
             "ticks": ""
            },
            "colorscale": [
             [
              0,
              "#0d0887"
             ],
             [
              0.1111111111111111,
              "#46039f"
             ],
             [
              0.2222222222222222,
              "#7201a8"
             ],
             [
              0.3333333333333333,
              "#9c179e"
             ],
             [
              0.4444444444444444,
              "#bd3786"
             ],
             [
              0.5555555555555556,
              "#d8576b"
             ],
             [
              0.6666666666666666,
              "#ed7953"
             ],
             [
              0.7777777777777778,
              "#fb9f3a"
             ],
             [
              0.8888888888888888,
              "#fdca26"
             ],
             [
              1,
              "#f0f921"
             ]
            ],
            "type": "heatmapgl"
           }
          ],
          "histogram": [
           {
            "marker": {
             "pattern": {
              "fillmode": "overlay",
              "size": 10,
              "solidity": 0.2
             }
            },
            "type": "histogram"
           }
          ],
          "histogram2d": [
           {
            "colorbar": {
             "outlinewidth": 0,
             "ticks": ""
            },
            "colorscale": [
             [
              0,
              "#0d0887"
             ],
             [
              0.1111111111111111,
              "#46039f"
             ],
             [
              0.2222222222222222,
              "#7201a8"
             ],
             [
              0.3333333333333333,
              "#9c179e"
             ],
             [
              0.4444444444444444,
              "#bd3786"
             ],
             [
              0.5555555555555556,
              "#d8576b"
             ],
             [
              0.6666666666666666,
              "#ed7953"
             ],
             [
              0.7777777777777778,
              "#fb9f3a"
             ],
             [
              0.8888888888888888,
              "#fdca26"
             ],
             [
              1,
              "#f0f921"
             ]
            ],
            "type": "histogram2d"
           }
          ],
          "histogram2dcontour": [
           {
            "colorbar": {
             "outlinewidth": 0,
             "ticks": ""
            },
            "colorscale": [
             [
              0,
              "#0d0887"
             ],
             [
              0.1111111111111111,
              "#46039f"
             ],
             [
              0.2222222222222222,
              "#7201a8"
             ],
             [
              0.3333333333333333,
              "#9c179e"
             ],
             [
              0.4444444444444444,
              "#bd3786"
             ],
             [
              0.5555555555555556,
              "#d8576b"
             ],
             [
              0.6666666666666666,
              "#ed7953"
             ],
             [
              0.7777777777777778,
              "#fb9f3a"
             ],
             [
              0.8888888888888888,
              "#fdca26"
             ],
             [
              1,
              "#f0f921"
             ]
            ],
            "type": "histogram2dcontour"
           }
          ],
          "mesh3d": [
           {
            "colorbar": {
             "outlinewidth": 0,
             "ticks": ""
            },
            "type": "mesh3d"
           }
          ],
          "parcoords": [
           {
            "line": {
             "colorbar": {
              "outlinewidth": 0,
              "ticks": ""
             }
            },
            "type": "parcoords"
           }
          ],
          "pie": [
           {
            "automargin": true,
            "type": "pie"
           }
          ],
          "scatter": [
           {
            "fillpattern": {
             "fillmode": "overlay",
             "size": 10,
             "solidity": 0.2
            },
            "type": "scatter"
           }
          ],
          "scatter3d": [
           {
            "line": {
             "colorbar": {
              "outlinewidth": 0,
              "ticks": ""
             }
            },
            "marker": {
             "colorbar": {
              "outlinewidth": 0,
              "ticks": ""
             }
            },
            "type": "scatter3d"
           }
          ],
          "scattercarpet": [
           {
            "marker": {
             "colorbar": {
              "outlinewidth": 0,
              "ticks": ""
             }
            },
            "type": "scattercarpet"
           }
          ],
          "scattergeo": [
           {
            "marker": {
             "colorbar": {
              "outlinewidth": 0,
              "ticks": ""
             }
            },
            "type": "scattergeo"
           }
          ],
          "scattergl": [
           {
            "marker": {
             "colorbar": {
              "outlinewidth": 0,
              "ticks": ""
             }
            },
            "type": "scattergl"
           }
          ],
          "scattermapbox": [
           {
            "marker": {
             "colorbar": {
              "outlinewidth": 0,
              "ticks": ""
             }
            },
            "type": "scattermapbox"
           }
          ],
          "scatterpolar": [
           {
            "marker": {
             "colorbar": {
              "outlinewidth": 0,
              "ticks": ""
             }
            },
            "type": "scatterpolar"
           }
          ],
          "scatterpolargl": [
           {
            "marker": {
             "colorbar": {
              "outlinewidth": 0,
              "ticks": ""
             }
            },
            "type": "scatterpolargl"
           }
          ],
          "scatterternary": [
           {
            "marker": {
             "colorbar": {
              "outlinewidth": 0,
              "ticks": ""
             }
            },
            "type": "scatterternary"
           }
          ],
          "surface": [
           {
            "colorbar": {
             "outlinewidth": 0,
             "ticks": ""
            },
            "colorscale": [
             [
              0,
              "#0d0887"
             ],
             [
              0.1111111111111111,
              "#46039f"
             ],
             [
              0.2222222222222222,
              "#7201a8"
             ],
             [
              0.3333333333333333,
              "#9c179e"
             ],
             [
              0.4444444444444444,
              "#bd3786"
             ],
             [
              0.5555555555555556,
              "#d8576b"
             ],
             [
              0.6666666666666666,
              "#ed7953"
             ],
             [
              0.7777777777777778,
              "#fb9f3a"
             ],
             [
              0.8888888888888888,
              "#fdca26"
             ],
             [
              1,
              "#f0f921"
             ]
            ],
            "type": "surface"
           }
          ],
          "table": [
           {
            "cells": {
             "fill": {
              "color": "#EBF0F8"
             },
             "line": {
              "color": "white"
             }
            },
            "header": {
             "fill": {
              "color": "#C8D4E3"
             },
             "line": {
              "color": "white"
             }
            },
            "type": "table"
           }
          ]
         },
         "layout": {
          "annotationdefaults": {
           "arrowcolor": "#2a3f5f",
           "arrowhead": 0,
           "arrowwidth": 1
          },
          "autotypenumbers": "strict",
          "coloraxis": {
           "colorbar": {
            "outlinewidth": 0,
            "ticks": ""
           }
          },
          "colorscale": {
           "diverging": [
            [
             0,
             "#8e0152"
            ],
            [
             0.1,
             "#c51b7d"
            ],
            [
             0.2,
             "#de77ae"
            ],
            [
             0.3,
             "#f1b6da"
            ],
            [
             0.4,
             "#fde0ef"
            ],
            [
             0.5,
             "#f7f7f7"
            ],
            [
             0.6,
             "#e6f5d0"
            ],
            [
             0.7,
             "#b8e186"
            ],
            [
             0.8,
             "#7fbc41"
            ],
            [
             0.9,
             "#4d9221"
            ],
            [
             1,
             "#276419"
            ]
           ],
           "sequential": [
            [
             0,
             "#0d0887"
            ],
            [
             0.1111111111111111,
             "#46039f"
            ],
            [
             0.2222222222222222,
             "#7201a8"
            ],
            [
             0.3333333333333333,
             "#9c179e"
            ],
            [
             0.4444444444444444,
             "#bd3786"
            ],
            [
             0.5555555555555556,
             "#d8576b"
            ],
            [
             0.6666666666666666,
             "#ed7953"
            ],
            [
             0.7777777777777778,
             "#fb9f3a"
            ],
            [
             0.8888888888888888,
             "#fdca26"
            ],
            [
             1,
             "#f0f921"
            ]
           ],
           "sequentialminus": [
            [
             0,
             "#0d0887"
            ],
            [
             0.1111111111111111,
             "#46039f"
            ],
            [
             0.2222222222222222,
             "#7201a8"
            ],
            [
             0.3333333333333333,
             "#9c179e"
            ],
            [
             0.4444444444444444,
             "#bd3786"
            ],
            [
             0.5555555555555556,
             "#d8576b"
            ],
            [
             0.6666666666666666,
             "#ed7953"
            ],
            [
             0.7777777777777778,
             "#fb9f3a"
            ],
            [
             0.8888888888888888,
             "#fdca26"
            ],
            [
             1,
             "#f0f921"
            ]
           ]
          },
          "colorway": [
           "#636efa",
           "#EF553B",
           "#00cc96",
           "#ab63fa",
           "#FFA15A",
           "#19d3f3",
           "#FF6692",
           "#B6E880",
           "#FF97FF",
           "#FECB52"
          ],
          "font": {
           "color": "#2a3f5f"
          },
          "geo": {
           "bgcolor": "white",
           "lakecolor": "white",
           "landcolor": "#E5ECF6",
           "showlakes": true,
           "showland": true,
           "subunitcolor": "white"
          },
          "hoverlabel": {
           "align": "left"
          },
          "hovermode": "closest",
          "mapbox": {
           "style": "light"
          },
          "paper_bgcolor": "white",
          "plot_bgcolor": "#E5ECF6",
          "polar": {
           "angularaxis": {
            "gridcolor": "white",
            "linecolor": "white",
            "ticks": ""
           },
           "bgcolor": "#E5ECF6",
           "radialaxis": {
            "gridcolor": "white",
            "linecolor": "white",
            "ticks": ""
           }
          },
          "scene": {
           "xaxis": {
            "backgroundcolor": "#E5ECF6",
            "gridcolor": "white",
            "gridwidth": 2,
            "linecolor": "white",
            "showbackground": true,
            "ticks": "",
            "zerolinecolor": "white"
           },
           "yaxis": {
            "backgroundcolor": "#E5ECF6",
            "gridcolor": "white",
            "gridwidth": 2,
            "linecolor": "white",
            "showbackground": true,
            "ticks": "",
            "zerolinecolor": "white"
           },
           "zaxis": {
            "backgroundcolor": "#E5ECF6",
            "gridcolor": "white",
            "gridwidth": 2,
            "linecolor": "white",
            "showbackground": true,
            "ticks": "",
            "zerolinecolor": "white"
           }
          },
          "shapedefaults": {
           "line": {
            "color": "#2a3f5f"
           }
          },
          "ternary": {
           "aaxis": {
            "gridcolor": "white",
            "linecolor": "white",
            "ticks": ""
           },
           "baxis": {
            "gridcolor": "white",
            "linecolor": "white",
            "ticks": ""
           },
           "bgcolor": "#E5ECF6",
           "caxis": {
            "gridcolor": "white",
            "linecolor": "white",
            "ticks": ""
           }
          },
          "title": {
           "x": 0.05
          },
          "xaxis": {
           "automargin": true,
           "gridcolor": "white",
           "linecolor": "white",
           "ticks": "",
           "title": {
            "standoff": 15
           },
           "zerolinecolor": "white",
           "zerolinewidth": 2
          },
          "yaxis": {
           "automargin": true,
           "gridcolor": "white",
           "linecolor": "white",
           "ticks": "",
           "title": {
            "standoff": 15
           },
           "zerolinecolor": "white",
           "zerolinewidth": 2
          }
         }
        },
        "title": {
         "text": "These salaries are calculated 6-years after enrollment and thus<br>represent the future prospects that a student has after<br>attending an institute"
        },
        "width": 600,
        "xaxis": {
         "title": {
          "text": "Year"
         }
        },
        "yaxis": {
         "title": {
          "text": "Average_Median_Salary"
         }
        }
       }
      }
     },
     "metadata": {},
     "output_type": "display_data"
    }
   ],
   "source": [
    "trace1 = go.Scatter(x=year, y=medianEarnTier1, mode=\"lines\", name=\"Elite\")\n",
    "trace2 = go.Scatter(x=year, y=medianEarnTier2, mode=\"lines\", name=\"Non-Elite\", fill=\"tonextx\",opacity=0)\n",
    "\n",
    "\n",
    "fig = go.Figure(data=[trace1, trace2])\n",
    "fig.update_layout(\n",
    "    width= 600,\n",
    "    height=400,\n",
    "    xaxis=dict(title=\"Year\"),\n",
    "    yaxis=dict(title=\"Average_Median_Salary\"),\n",
    "    title=\"These salaries are calculated 6-years after enrollment and thus<br>represent the future prospects that a student has after<br>attending an institute\"\n",
    ")\n",
    "fig.show()"
   ]
  },
  {
   "cell_type": "code",
   "execution_count": 40,
   "metadata": {},
   "outputs": [
    {
     "data": {
      "application/vnd.plotly.v1+json": {
       "config": {
        "plotlyServerURL": "https://plot.ly"
       },
       "data": [
        {
         "mode": "lines",
         "name": "Elite",
         "type": "scatter",
         "x": [
          2010,
          2011,
          2012,
          2013,
          2014,
          2015,
          2016,
          2017,
          2018,
          2019,
          2020
         ],
         "y": [
          10460.15,
          11166.4,
          12151.4,
          12827.7,
          13074.8,
          13081.65,
          13211.2,
          13098.45,
          14064.1,
          14208.2,
          13654.6
         ]
        },
        {
         "fill": "tonextx",
         "mode": "lines",
         "name": "Non-Elite",
         "type": "scatter",
         "x": [
          2010,
          2011,
          2012,
          2013,
          2014,
          2015,
          2016,
          2017,
          2018,
          2019,
          2020
         ],
         "y": [
          15051.9,
          16299.55,
          17507,
          18622.2,
          19565.1,
          20089.35,
          20201.9,
          20322.4,
          20780.7,
          20739.9,
          20654.8
         ]
        }
       ],
       "layout": {
        "height": 400,
        "template": {
         "data": {
          "bar": [
           {
            "error_x": {
             "color": "#2a3f5f"
            },
            "error_y": {
             "color": "#2a3f5f"
            },
            "marker": {
             "line": {
              "color": "#E5ECF6",
              "width": 0.5
             },
             "pattern": {
              "fillmode": "overlay",
              "size": 10,
              "solidity": 0.2
             }
            },
            "type": "bar"
           }
          ],
          "barpolar": [
           {
            "marker": {
             "line": {
              "color": "#E5ECF6",
              "width": 0.5
             },
             "pattern": {
              "fillmode": "overlay",
              "size": 10,
              "solidity": 0.2
             }
            },
            "type": "barpolar"
           }
          ],
          "carpet": [
           {
            "aaxis": {
             "endlinecolor": "#2a3f5f",
             "gridcolor": "white",
             "linecolor": "white",
             "minorgridcolor": "white",
             "startlinecolor": "#2a3f5f"
            },
            "baxis": {
             "endlinecolor": "#2a3f5f",
             "gridcolor": "white",
             "linecolor": "white",
             "minorgridcolor": "white",
             "startlinecolor": "#2a3f5f"
            },
            "type": "carpet"
           }
          ],
          "choropleth": [
           {
            "colorbar": {
             "outlinewidth": 0,
             "ticks": ""
            },
            "type": "choropleth"
           }
          ],
          "contour": [
           {
            "colorbar": {
             "outlinewidth": 0,
             "ticks": ""
            },
            "colorscale": [
             [
              0,
              "#0d0887"
             ],
             [
              0.1111111111111111,
              "#46039f"
             ],
             [
              0.2222222222222222,
              "#7201a8"
             ],
             [
              0.3333333333333333,
              "#9c179e"
             ],
             [
              0.4444444444444444,
              "#bd3786"
             ],
             [
              0.5555555555555556,
              "#d8576b"
             ],
             [
              0.6666666666666666,
              "#ed7953"
             ],
             [
              0.7777777777777778,
              "#fb9f3a"
             ],
             [
              0.8888888888888888,
              "#fdca26"
             ],
             [
              1,
              "#f0f921"
             ]
            ],
            "type": "contour"
           }
          ],
          "contourcarpet": [
           {
            "colorbar": {
             "outlinewidth": 0,
             "ticks": ""
            },
            "type": "contourcarpet"
           }
          ],
          "heatmap": [
           {
            "colorbar": {
             "outlinewidth": 0,
             "ticks": ""
            },
            "colorscale": [
             [
              0,
              "#0d0887"
             ],
             [
              0.1111111111111111,
              "#46039f"
             ],
             [
              0.2222222222222222,
              "#7201a8"
             ],
             [
              0.3333333333333333,
              "#9c179e"
             ],
             [
              0.4444444444444444,
              "#bd3786"
             ],
             [
              0.5555555555555556,
              "#d8576b"
             ],
             [
              0.6666666666666666,
              "#ed7953"
             ],
             [
              0.7777777777777778,
              "#fb9f3a"
             ],
             [
              0.8888888888888888,
              "#fdca26"
             ],
             [
              1,
              "#f0f921"
             ]
            ],
            "type": "heatmap"
           }
          ],
          "heatmapgl": [
           {
            "colorbar": {
             "outlinewidth": 0,
             "ticks": ""
            },
            "colorscale": [
             [
              0,
              "#0d0887"
             ],
             [
              0.1111111111111111,
              "#46039f"
             ],
             [
              0.2222222222222222,
              "#7201a8"
             ],
             [
              0.3333333333333333,
              "#9c179e"
             ],
             [
              0.4444444444444444,
              "#bd3786"
             ],
             [
              0.5555555555555556,
              "#d8576b"
             ],
             [
              0.6666666666666666,
              "#ed7953"
             ],
             [
              0.7777777777777778,
              "#fb9f3a"
             ],
             [
              0.8888888888888888,
              "#fdca26"
             ],
             [
              1,
              "#f0f921"
             ]
            ],
            "type": "heatmapgl"
           }
          ],
          "histogram": [
           {
            "marker": {
             "pattern": {
              "fillmode": "overlay",
              "size": 10,
              "solidity": 0.2
             }
            },
            "type": "histogram"
           }
          ],
          "histogram2d": [
           {
            "colorbar": {
             "outlinewidth": 0,
             "ticks": ""
            },
            "colorscale": [
             [
              0,
              "#0d0887"
             ],
             [
              0.1111111111111111,
              "#46039f"
             ],
             [
              0.2222222222222222,
              "#7201a8"
             ],
             [
              0.3333333333333333,
              "#9c179e"
             ],
             [
              0.4444444444444444,
              "#bd3786"
             ],
             [
              0.5555555555555556,
              "#d8576b"
             ],
             [
              0.6666666666666666,
              "#ed7953"
             ],
             [
              0.7777777777777778,
              "#fb9f3a"
             ],
             [
              0.8888888888888888,
              "#fdca26"
             ],
             [
              1,
              "#f0f921"
             ]
            ],
            "type": "histogram2d"
           }
          ],
          "histogram2dcontour": [
           {
            "colorbar": {
             "outlinewidth": 0,
             "ticks": ""
            },
            "colorscale": [
             [
              0,
              "#0d0887"
             ],
             [
              0.1111111111111111,
              "#46039f"
             ],
             [
              0.2222222222222222,
              "#7201a8"
             ],
             [
              0.3333333333333333,
              "#9c179e"
             ],
             [
              0.4444444444444444,
              "#bd3786"
             ],
             [
              0.5555555555555556,
              "#d8576b"
             ],
             [
              0.6666666666666666,
              "#ed7953"
             ],
             [
              0.7777777777777778,
              "#fb9f3a"
             ],
             [
              0.8888888888888888,
              "#fdca26"
             ],
             [
              1,
              "#f0f921"
             ]
            ],
            "type": "histogram2dcontour"
           }
          ],
          "mesh3d": [
           {
            "colorbar": {
             "outlinewidth": 0,
             "ticks": ""
            },
            "type": "mesh3d"
           }
          ],
          "parcoords": [
           {
            "line": {
             "colorbar": {
              "outlinewidth": 0,
              "ticks": ""
             }
            },
            "type": "parcoords"
           }
          ],
          "pie": [
           {
            "automargin": true,
            "type": "pie"
           }
          ],
          "scatter": [
           {
            "fillpattern": {
             "fillmode": "overlay",
             "size": 10,
             "solidity": 0.2
            },
            "type": "scatter"
           }
          ],
          "scatter3d": [
           {
            "line": {
             "colorbar": {
              "outlinewidth": 0,
              "ticks": ""
             }
            },
            "marker": {
             "colorbar": {
              "outlinewidth": 0,
              "ticks": ""
             }
            },
            "type": "scatter3d"
           }
          ],
          "scattercarpet": [
           {
            "marker": {
             "colorbar": {
              "outlinewidth": 0,
              "ticks": ""
             }
            },
            "type": "scattercarpet"
           }
          ],
          "scattergeo": [
           {
            "marker": {
             "colorbar": {
              "outlinewidth": 0,
              "ticks": ""
             }
            },
            "type": "scattergeo"
           }
          ],
          "scattergl": [
           {
            "marker": {
             "colorbar": {
              "outlinewidth": 0,
              "ticks": ""
             }
            },
            "type": "scattergl"
           }
          ],
          "scattermapbox": [
           {
            "marker": {
             "colorbar": {
              "outlinewidth": 0,
              "ticks": ""
             }
            },
            "type": "scattermapbox"
           }
          ],
          "scatterpolar": [
           {
            "marker": {
             "colorbar": {
              "outlinewidth": 0,
              "ticks": ""
             }
            },
            "type": "scatterpolar"
           }
          ],
          "scatterpolargl": [
           {
            "marker": {
             "colorbar": {
              "outlinewidth": 0,
              "ticks": ""
             }
            },
            "type": "scatterpolargl"
           }
          ],
          "scatterternary": [
           {
            "marker": {
             "colorbar": {
              "outlinewidth": 0,
              "ticks": ""
             }
            },
            "type": "scatterternary"
           }
          ],
          "surface": [
           {
            "colorbar": {
             "outlinewidth": 0,
             "ticks": ""
            },
            "colorscale": [
             [
              0,
              "#0d0887"
             ],
             [
              0.1111111111111111,
              "#46039f"
             ],
             [
              0.2222222222222222,
              "#7201a8"
             ],
             [
              0.3333333333333333,
              "#9c179e"
             ],
             [
              0.4444444444444444,
              "#bd3786"
             ],
             [
              0.5555555555555556,
              "#d8576b"
             ],
             [
              0.6666666666666666,
              "#ed7953"
             ],
             [
              0.7777777777777778,
              "#fb9f3a"
             ],
             [
              0.8888888888888888,
              "#fdca26"
             ],
             [
              1,
              "#f0f921"
             ]
            ],
            "type": "surface"
           }
          ],
          "table": [
           {
            "cells": {
             "fill": {
              "color": "#EBF0F8"
             },
             "line": {
              "color": "white"
             }
            },
            "header": {
             "fill": {
              "color": "#C8D4E3"
             },
             "line": {
              "color": "white"
             }
            },
            "type": "table"
           }
          ]
         },
         "layout": {
          "annotationdefaults": {
           "arrowcolor": "#2a3f5f",
           "arrowhead": 0,
           "arrowwidth": 1
          },
          "autotypenumbers": "strict",
          "coloraxis": {
           "colorbar": {
            "outlinewidth": 0,
            "ticks": ""
           }
          },
          "colorscale": {
           "diverging": [
            [
             0,
             "#8e0152"
            ],
            [
             0.1,
             "#c51b7d"
            ],
            [
             0.2,
             "#de77ae"
            ],
            [
             0.3,
             "#f1b6da"
            ],
            [
             0.4,
             "#fde0ef"
            ],
            [
             0.5,
             "#f7f7f7"
            ],
            [
             0.6,
             "#e6f5d0"
            ],
            [
             0.7,
             "#b8e186"
            ],
            [
             0.8,
             "#7fbc41"
            ],
            [
             0.9,
             "#4d9221"
            ],
            [
             1,
             "#276419"
            ]
           ],
           "sequential": [
            [
             0,
             "#0d0887"
            ],
            [
             0.1111111111111111,
             "#46039f"
            ],
            [
             0.2222222222222222,
             "#7201a8"
            ],
            [
             0.3333333333333333,
             "#9c179e"
            ],
            [
             0.4444444444444444,
             "#bd3786"
            ],
            [
             0.5555555555555556,
             "#d8576b"
            ],
            [
             0.6666666666666666,
             "#ed7953"
            ],
            [
             0.7777777777777778,
             "#fb9f3a"
            ],
            [
             0.8888888888888888,
             "#fdca26"
            ],
            [
             1,
             "#f0f921"
            ]
           ],
           "sequentialminus": [
            [
             0,
             "#0d0887"
            ],
            [
             0.1111111111111111,
             "#46039f"
            ],
            [
             0.2222222222222222,
             "#7201a8"
            ],
            [
             0.3333333333333333,
             "#9c179e"
            ],
            [
             0.4444444444444444,
             "#bd3786"
            ],
            [
             0.5555555555555556,
             "#d8576b"
            ],
            [
             0.6666666666666666,
             "#ed7953"
            ],
            [
             0.7777777777777778,
             "#fb9f3a"
            ],
            [
             0.8888888888888888,
             "#fdca26"
            ],
            [
             1,
             "#f0f921"
            ]
           ]
          },
          "colorway": [
           "#636efa",
           "#EF553B",
           "#00cc96",
           "#ab63fa",
           "#FFA15A",
           "#19d3f3",
           "#FF6692",
           "#B6E880",
           "#FF97FF",
           "#FECB52"
          ],
          "font": {
           "color": "#2a3f5f"
          },
          "geo": {
           "bgcolor": "white",
           "lakecolor": "white",
           "landcolor": "#E5ECF6",
           "showlakes": true,
           "showland": true,
           "subunitcolor": "white"
          },
          "hoverlabel": {
           "align": "left"
          },
          "hovermode": "closest",
          "mapbox": {
           "style": "light"
          },
          "paper_bgcolor": "white",
          "plot_bgcolor": "#E5ECF6",
          "polar": {
           "angularaxis": {
            "gridcolor": "white",
            "linecolor": "white",
            "ticks": ""
           },
           "bgcolor": "#E5ECF6",
           "radialaxis": {
            "gridcolor": "white",
            "linecolor": "white",
            "ticks": ""
           }
          },
          "scene": {
           "xaxis": {
            "backgroundcolor": "#E5ECF6",
            "gridcolor": "white",
            "gridwidth": 2,
            "linecolor": "white",
            "showbackground": true,
            "ticks": "",
            "zerolinecolor": "white"
           },
           "yaxis": {
            "backgroundcolor": "#E5ECF6",
            "gridcolor": "white",
            "gridwidth": 2,
            "linecolor": "white",
            "showbackground": true,
            "ticks": "",
            "zerolinecolor": "white"
           },
           "zaxis": {
            "backgroundcolor": "#E5ECF6",
            "gridcolor": "white",
            "gridwidth": 2,
            "linecolor": "white",
            "showbackground": true,
            "ticks": "",
            "zerolinecolor": "white"
           }
          },
          "shapedefaults": {
           "line": {
            "color": "#2a3f5f"
           }
          },
          "ternary": {
           "aaxis": {
            "gridcolor": "white",
            "linecolor": "white",
            "ticks": ""
           },
           "baxis": {
            "gridcolor": "white",
            "linecolor": "white",
            "ticks": ""
           },
           "bgcolor": "#E5ECF6",
           "caxis": {
            "gridcolor": "white",
            "linecolor": "white",
            "ticks": ""
           }
          },
          "title": {
           "x": 0.05
          },
          "xaxis": {
           "automargin": true,
           "gridcolor": "white",
           "linecolor": "white",
           "ticks": "",
           "title": {
            "standoff": 15
           },
           "zerolinecolor": "white",
           "zerolinewidth": 2
          },
          "yaxis": {
           "automargin": true,
           "gridcolor": "white",
           "linecolor": "white",
           "ticks": "",
           "title": {
            "standoff": 15
           },
           "zerolinecolor": "white",
           "zerolinewidth": 2
          }
         }
        },
        "title": {
         "text": "Debts are calculated when a student graduates"
        },
        "width": 600,
        "xaxis": {
         "title": {
          "text": "Year"
         }
        },
        "yaxis": {
         "title": {
          "text": "Average_Mean_Debt_Grad"
         }
        }
       }
      }
     },
     "metadata": {},
     "output_type": "display_data"
    }
   ],
   "source": [
    "year=[2010, 2011, 2012, 2013, 2014, 2015, 2016, 2017, 2018, 2019, 2020]\n",
    "trace1 = go.Scatter(x=year, y=meanDebtTier1, mode=\"lines\", name=\"Elite\")\n",
    "trace2 = go.Scatter(x=year, y=meanDebtTier2, mode=\"lines\", name=\"Non-Elite\", fill=\"tonextx\")\n",
    "\n",
    "\n",
    "fig = go.Figure(data=[trace1, trace2])\n",
    "fig.update_layout(\n",
    "    width=600,\n",
    "    height=400,\n",
    "    xaxis=dict(title=\"Year\"),\n",
    "    yaxis=dict(title=\"Average_Mean_Debt_Grad\"),\n",
    "    title=\"Debts are calculated when a student graduates\"\n",
    ")\n",
    "fig.show()"
   ]
  },
  {
   "cell_type": "code",
   "execution_count": 41,
   "metadata": {},
   "outputs": [],
   "source": [
    "stufacrTier1 = tier1Institutes['STUFACR'].groupby(level='year').median() # 0% null values\n",
    "stufacrTier2 = tier2Institutes['STUFACR'].groupby(level='year').median() # 0% null values\n"
   ]
  },
  {
   "cell_type": "code",
   "execution_count": 42,
   "metadata": {},
   "outputs": [
    {
     "data": {
      "application/vnd.plotly.v1+json": {
       "config": {
        "plotlyServerURL": "https://plot.ly"
       },
       "data": [
        {
         "mode": "lines",
         "name": "Elite",
         "type": "scatter",
         "x": [
          2010,
          2011,
          2012,
          2013,
          2014,
          2015,
          2016,
          2017,
          2018,
          2019,
          2020
         ],
         "y": [
          7.5,
          7.5,
          7,
          7,
          8,
          8,
          7,
          7,
          7,
          6,
          6
         ]
        },
        {
         "line": {
          "dash": "dash"
         },
         "mode": "lines",
         "name": "Non-Elite",
         "type": "scatter",
         "x": [
          2010,
          2011,
          2012,
          2013,
          2014,
          2015,
          2016,
          2017,
          2018,
          2019,
          2020
         ],
         "y": [
          20,
          21.5,
          20.5,
          21,
          21,
          21,
          22,
          20.5,
          20,
          19,
          18.5
         ]
        }
       ],
       "layout": {
        "height": 400,
        "template": {
         "data": {
          "bar": [
           {
            "error_x": {
             "color": "#2a3f5f"
            },
            "error_y": {
             "color": "#2a3f5f"
            },
            "marker": {
             "line": {
              "color": "#E5ECF6",
              "width": 0.5
             },
             "pattern": {
              "fillmode": "overlay",
              "size": 10,
              "solidity": 0.2
             }
            },
            "type": "bar"
           }
          ],
          "barpolar": [
           {
            "marker": {
             "line": {
              "color": "#E5ECF6",
              "width": 0.5
             },
             "pattern": {
              "fillmode": "overlay",
              "size": 10,
              "solidity": 0.2
             }
            },
            "type": "barpolar"
           }
          ],
          "carpet": [
           {
            "aaxis": {
             "endlinecolor": "#2a3f5f",
             "gridcolor": "white",
             "linecolor": "white",
             "minorgridcolor": "white",
             "startlinecolor": "#2a3f5f"
            },
            "baxis": {
             "endlinecolor": "#2a3f5f",
             "gridcolor": "white",
             "linecolor": "white",
             "minorgridcolor": "white",
             "startlinecolor": "#2a3f5f"
            },
            "type": "carpet"
           }
          ],
          "choropleth": [
           {
            "colorbar": {
             "outlinewidth": 0,
             "ticks": ""
            },
            "type": "choropleth"
           }
          ],
          "contour": [
           {
            "colorbar": {
             "outlinewidth": 0,
             "ticks": ""
            },
            "colorscale": [
             [
              0,
              "#0d0887"
             ],
             [
              0.1111111111111111,
              "#46039f"
             ],
             [
              0.2222222222222222,
              "#7201a8"
             ],
             [
              0.3333333333333333,
              "#9c179e"
             ],
             [
              0.4444444444444444,
              "#bd3786"
             ],
             [
              0.5555555555555556,
              "#d8576b"
             ],
             [
              0.6666666666666666,
              "#ed7953"
             ],
             [
              0.7777777777777778,
              "#fb9f3a"
             ],
             [
              0.8888888888888888,
              "#fdca26"
             ],
             [
              1,
              "#f0f921"
             ]
            ],
            "type": "contour"
           }
          ],
          "contourcarpet": [
           {
            "colorbar": {
             "outlinewidth": 0,
             "ticks": ""
            },
            "type": "contourcarpet"
           }
          ],
          "heatmap": [
           {
            "colorbar": {
             "outlinewidth": 0,
             "ticks": ""
            },
            "colorscale": [
             [
              0,
              "#0d0887"
             ],
             [
              0.1111111111111111,
              "#46039f"
             ],
             [
              0.2222222222222222,
              "#7201a8"
             ],
             [
              0.3333333333333333,
              "#9c179e"
             ],
             [
              0.4444444444444444,
              "#bd3786"
             ],
             [
              0.5555555555555556,
              "#d8576b"
             ],
             [
              0.6666666666666666,
              "#ed7953"
             ],
             [
              0.7777777777777778,
              "#fb9f3a"
             ],
             [
              0.8888888888888888,
              "#fdca26"
             ],
             [
              1,
              "#f0f921"
             ]
            ],
            "type": "heatmap"
           }
          ],
          "heatmapgl": [
           {
            "colorbar": {
             "outlinewidth": 0,
             "ticks": ""
            },
            "colorscale": [
             [
              0,
              "#0d0887"
             ],
             [
              0.1111111111111111,
              "#46039f"
             ],
             [
              0.2222222222222222,
              "#7201a8"
             ],
             [
              0.3333333333333333,
              "#9c179e"
             ],
             [
              0.4444444444444444,
              "#bd3786"
             ],
             [
              0.5555555555555556,
              "#d8576b"
             ],
             [
              0.6666666666666666,
              "#ed7953"
             ],
             [
              0.7777777777777778,
              "#fb9f3a"
             ],
             [
              0.8888888888888888,
              "#fdca26"
             ],
             [
              1,
              "#f0f921"
             ]
            ],
            "type": "heatmapgl"
           }
          ],
          "histogram": [
           {
            "marker": {
             "pattern": {
              "fillmode": "overlay",
              "size": 10,
              "solidity": 0.2
             }
            },
            "type": "histogram"
           }
          ],
          "histogram2d": [
           {
            "colorbar": {
             "outlinewidth": 0,
             "ticks": ""
            },
            "colorscale": [
             [
              0,
              "#0d0887"
             ],
             [
              0.1111111111111111,
              "#46039f"
             ],
             [
              0.2222222222222222,
              "#7201a8"
             ],
             [
              0.3333333333333333,
              "#9c179e"
             ],
             [
              0.4444444444444444,
              "#bd3786"
             ],
             [
              0.5555555555555556,
              "#d8576b"
             ],
             [
              0.6666666666666666,
              "#ed7953"
             ],
             [
              0.7777777777777778,
              "#fb9f3a"
             ],
             [
              0.8888888888888888,
              "#fdca26"
             ],
             [
              1,
              "#f0f921"
             ]
            ],
            "type": "histogram2d"
           }
          ],
          "histogram2dcontour": [
           {
            "colorbar": {
             "outlinewidth": 0,
             "ticks": ""
            },
            "colorscale": [
             [
              0,
              "#0d0887"
             ],
             [
              0.1111111111111111,
              "#46039f"
             ],
             [
              0.2222222222222222,
              "#7201a8"
             ],
             [
              0.3333333333333333,
              "#9c179e"
             ],
             [
              0.4444444444444444,
              "#bd3786"
             ],
             [
              0.5555555555555556,
              "#d8576b"
             ],
             [
              0.6666666666666666,
              "#ed7953"
             ],
             [
              0.7777777777777778,
              "#fb9f3a"
             ],
             [
              0.8888888888888888,
              "#fdca26"
             ],
             [
              1,
              "#f0f921"
             ]
            ],
            "type": "histogram2dcontour"
           }
          ],
          "mesh3d": [
           {
            "colorbar": {
             "outlinewidth": 0,
             "ticks": ""
            },
            "type": "mesh3d"
           }
          ],
          "parcoords": [
           {
            "line": {
             "colorbar": {
              "outlinewidth": 0,
              "ticks": ""
             }
            },
            "type": "parcoords"
           }
          ],
          "pie": [
           {
            "automargin": true,
            "type": "pie"
           }
          ],
          "scatter": [
           {
            "fillpattern": {
             "fillmode": "overlay",
             "size": 10,
             "solidity": 0.2
            },
            "type": "scatter"
           }
          ],
          "scatter3d": [
           {
            "line": {
             "colorbar": {
              "outlinewidth": 0,
              "ticks": ""
             }
            },
            "marker": {
             "colorbar": {
              "outlinewidth": 0,
              "ticks": ""
             }
            },
            "type": "scatter3d"
           }
          ],
          "scattercarpet": [
           {
            "marker": {
             "colorbar": {
              "outlinewidth": 0,
              "ticks": ""
             }
            },
            "type": "scattercarpet"
           }
          ],
          "scattergeo": [
           {
            "marker": {
             "colorbar": {
              "outlinewidth": 0,
              "ticks": ""
             }
            },
            "type": "scattergeo"
           }
          ],
          "scattergl": [
           {
            "marker": {
             "colorbar": {
              "outlinewidth": 0,
              "ticks": ""
             }
            },
            "type": "scattergl"
           }
          ],
          "scattermapbox": [
           {
            "marker": {
             "colorbar": {
              "outlinewidth": 0,
              "ticks": ""
             }
            },
            "type": "scattermapbox"
           }
          ],
          "scatterpolar": [
           {
            "marker": {
             "colorbar": {
              "outlinewidth": 0,
              "ticks": ""
             }
            },
            "type": "scatterpolar"
           }
          ],
          "scatterpolargl": [
           {
            "marker": {
             "colorbar": {
              "outlinewidth": 0,
              "ticks": ""
             }
            },
            "type": "scatterpolargl"
           }
          ],
          "scatterternary": [
           {
            "marker": {
             "colorbar": {
              "outlinewidth": 0,
              "ticks": ""
             }
            },
            "type": "scatterternary"
           }
          ],
          "surface": [
           {
            "colorbar": {
             "outlinewidth": 0,
             "ticks": ""
            },
            "colorscale": [
             [
              0,
              "#0d0887"
             ],
             [
              0.1111111111111111,
              "#46039f"
             ],
             [
              0.2222222222222222,
              "#7201a8"
             ],
             [
              0.3333333333333333,
              "#9c179e"
             ],
             [
              0.4444444444444444,
              "#bd3786"
             ],
             [
              0.5555555555555556,
              "#d8576b"
             ],
             [
              0.6666666666666666,
              "#ed7953"
             ],
             [
              0.7777777777777778,
              "#fb9f3a"
             ],
             [
              0.8888888888888888,
              "#fdca26"
             ],
             [
              1,
              "#f0f921"
             ]
            ],
            "type": "surface"
           }
          ],
          "table": [
           {
            "cells": {
             "fill": {
              "color": "#EBF0F8"
             },
             "line": {
              "color": "white"
             }
            },
            "header": {
             "fill": {
              "color": "#C8D4E3"
             },
             "line": {
              "color": "white"
             }
            },
            "type": "table"
           }
          ]
         },
         "layout": {
          "annotationdefaults": {
           "arrowcolor": "#2a3f5f",
           "arrowhead": 0,
           "arrowwidth": 1
          },
          "autotypenumbers": "strict",
          "coloraxis": {
           "colorbar": {
            "outlinewidth": 0,
            "ticks": ""
           }
          },
          "colorscale": {
           "diverging": [
            [
             0,
             "#8e0152"
            ],
            [
             0.1,
             "#c51b7d"
            ],
            [
             0.2,
             "#de77ae"
            ],
            [
             0.3,
             "#f1b6da"
            ],
            [
             0.4,
             "#fde0ef"
            ],
            [
             0.5,
             "#f7f7f7"
            ],
            [
             0.6,
             "#e6f5d0"
            ],
            [
             0.7,
             "#b8e186"
            ],
            [
             0.8,
             "#7fbc41"
            ],
            [
             0.9,
             "#4d9221"
            ],
            [
             1,
             "#276419"
            ]
           ],
           "sequential": [
            [
             0,
             "#0d0887"
            ],
            [
             0.1111111111111111,
             "#46039f"
            ],
            [
             0.2222222222222222,
             "#7201a8"
            ],
            [
             0.3333333333333333,
             "#9c179e"
            ],
            [
             0.4444444444444444,
             "#bd3786"
            ],
            [
             0.5555555555555556,
             "#d8576b"
            ],
            [
             0.6666666666666666,
             "#ed7953"
            ],
            [
             0.7777777777777778,
             "#fb9f3a"
            ],
            [
             0.8888888888888888,
             "#fdca26"
            ],
            [
             1,
             "#f0f921"
            ]
           ],
           "sequentialminus": [
            [
             0,
             "#0d0887"
            ],
            [
             0.1111111111111111,
             "#46039f"
            ],
            [
             0.2222222222222222,
             "#7201a8"
            ],
            [
             0.3333333333333333,
             "#9c179e"
            ],
            [
             0.4444444444444444,
             "#bd3786"
            ],
            [
             0.5555555555555556,
             "#d8576b"
            ],
            [
             0.6666666666666666,
             "#ed7953"
            ],
            [
             0.7777777777777778,
             "#fb9f3a"
            ],
            [
             0.8888888888888888,
             "#fdca26"
            ],
            [
             1,
             "#f0f921"
            ]
           ]
          },
          "colorway": [
           "#636efa",
           "#EF553B",
           "#00cc96",
           "#ab63fa",
           "#FFA15A",
           "#19d3f3",
           "#FF6692",
           "#B6E880",
           "#FF97FF",
           "#FECB52"
          ],
          "font": {
           "color": "#2a3f5f"
          },
          "geo": {
           "bgcolor": "white",
           "lakecolor": "white",
           "landcolor": "#E5ECF6",
           "showlakes": true,
           "showland": true,
           "subunitcolor": "white"
          },
          "hoverlabel": {
           "align": "left"
          },
          "hovermode": "closest",
          "mapbox": {
           "style": "light"
          },
          "paper_bgcolor": "white",
          "plot_bgcolor": "#E5ECF6",
          "polar": {
           "angularaxis": {
            "gridcolor": "white",
            "linecolor": "white",
            "ticks": ""
           },
           "bgcolor": "#E5ECF6",
           "radialaxis": {
            "gridcolor": "white",
            "linecolor": "white",
            "ticks": ""
           }
          },
          "scene": {
           "xaxis": {
            "backgroundcolor": "#E5ECF6",
            "gridcolor": "white",
            "gridwidth": 2,
            "linecolor": "white",
            "showbackground": true,
            "ticks": "",
            "zerolinecolor": "white"
           },
           "yaxis": {
            "backgroundcolor": "#E5ECF6",
            "gridcolor": "white",
            "gridwidth": 2,
            "linecolor": "white",
            "showbackground": true,
            "ticks": "",
            "zerolinecolor": "white"
           },
           "zaxis": {
            "backgroundcolor": "#E5ECF6",
            "gridcolor": "white",
            "gridwidth": 2,
            "linecolor": "white",
            "showbackground": true,
            "ticks": "",
            "zerolinecolor": "white"
           }
          },
          "shapedefaults": {
           "line": {
            "color": "#2a3f5f"
           }
          },
          "ternary": {
           "aaxis": {
            "gridcolor": "white",
            "linecolor": "white",
            "ticks": ""
           },
           "baxis": {
            "gridcolor": "white",
            "linecolor": "white",
            "ticks": ""
           },
           "bgcolor": "#E5ECF6",
           "caxis": {
            "gridcolor": "white",
            "linecolor": "white",
            "ticks": ""
           }
          },
          "title": {
           "x": 0.05
          },
          "xaxis": {
           "automargin": true,
           "gridcolor": "white",
           "linecolor": "white",
           "ticks": "",
           "title": {
            "standoff": 15
           },
           "zerolinecolor": "white",
           "zerolinewidth": 2
          },
          "yaxis": {
           "automargin": true,
           "gridcolor": "white",
           "linecolor": "white",
           "ticks": "",
           "title": {
            "standoff": 15
           },
           "zerolinecolor": "white",
           "zerolinewidth": 2
          }
         }
        },
        "width": 600,
        "xaxis": {
         "title": {
          "text": "Year"
         }
        },
        "yaxis": {
         "title": {
          "text": "Student-to-Faculty Ratio"
         }
        }
       }
      }
     },
     "metadata": {},
     "output_type": "display_data"
    }
   ],
   "source": [
    "trace1 = go.Scatter(x=year, y=stufacrTier1, mode=\"lines\", name=\"Elite\")\n",
    "trace2 = go.Scatter(x=year, y=stufacrTier2, mode=\"lines\", name=\"Non-Elite\", line=dict(dash='dash'))\n",
    "\n",
    "\n",
    "fig = go.Figure(data=[trace1, trace2])\n",
    "fig.update_layout(\n",
    "    width=600,\n",
    "    height=400,\n",
    "    xaxis=dict(title=\"Year\"),\n",
    "    yaxis=dict(title=\"Student-to-Faculty Ratio\"),\n",
    ")\n",
    "fig.show()"
   ]
  },
  {
   "cell_type": "markdown",
   "metadata": {},
   "source": [
    "Inferences...."
   ]
  },
  {
   "cell_type": "code",
   "execution_count": 43,
   "metadata": {},
   "outputs": [],
   "source": [
    "# Above we analysed the disparity between Tier-1 and Tier-2 institutes\n",
    "# Disparity between Tier-1 and Tier-2:\n",
    "# Tier-2 => Low Salary on graduation and burdened with high loans\n",
    "# If graduates are struggling financially, it can send a negative message to prospective students, discouraging them from applying.\n",
    "# News of graduates struggling with debt can lead to negative publicity for the institution, further impacting its reputation."
   ]
  },
  {
   "cell_type": "markdown",
   "metadata": {},
   "source": [
    "## Exploring the Reasons for the above disparity  between Tier-1 and Tier-2 ##"
   ]
  },
  {
   "cell_type": "markdown",
   "metadata": {},
   "source": [
    "Analysing the Acceptance-Rate, Sat_Scores and Completion/Graduation-Rates for Tier-1 and Tier-2"
   ]
  },
  {
   "cell_type": "code",
   "execution_count": 44,
   "metadata": {},
   "outputs": [],
   "source": [
    "# Now we'll analyse the characterisitics of the top-5 universities and compare them\n",
    "# with other tier-2 colleges\n",
    "\n",
    "# First lets analyse the acceptance-rate, sat-scores of universities and the completion"
   ]
  },
  {
   "cell_type": "code",
   "execution_count": 45,
   "metadata": {},
   "outputs": [
    {
     "data": {
      "text/html": [
       "<div>\n",
       "<style scoped>\n",
       "    .dataframe tbody tr th:only-of-type {\n",
       "        vertical-align: middle;\n",
       "    }\n",
       "\n",
       "    .dataframe tbody tr th {\n",
       "        vertical-align: top;\n",
       "    }\n",
       "\n",
       "    .dataframe thead th {\n",
       "        text-align: right;\n",
       "    }\n",
       "</style>\n",
       "<table border=\"1\" class=\"dataframe\">\n",
       "  <thead>\n",
       "    <tr style=\"text-align: right;\">\n",
       "      <th></th>\n",
       "      <th></th>\n",
       "      <th>INSTNM</th>\n",
       "      <th>ADM_RATE_ALL</th>\n",
       "      <th>SAT_AVG_ALL</th>\n",
       "    </tr>\n",
       "    <tr>\n",
       "      <th>year</th>\n",
       "      <th>rowNum</th>\n",
       "      <th></th>\n",
       "      <th></th>\n",
       "      <th></th>\n",
       "    </tr>\n",
       "  </thead>\n",
       "  <tbody>\n",
       "    <tr>\n",
       "      <th rowspan=\"10\" valign=\"top\">2010</th>\n",
       "      <th>1188</th>\n",
       "      <td>Northwestern University</td>\n",
       "      <td>0.2620</td>\n",
       "      <td>1427.0</td>\n",
       "    </tr>\n",
       "    <tr>\n",
       "      <th>1738</th>\n",
       "      <td>Johns Hopkins University</td>\n",
       "      <td>0.2782</td>\n",
       "      <td>1395.0</td>\n",
       "    </tr>\n",
       "    <tr>\n",
       "      <th>1833</th>\n",
       "      <td>Harvard University</td>\n",
       "      <td>0.0719</td>\n",
       "      <td>1468.0</td>\n",
       "    </tr>\n",
       "    <tr>\n",
       "      <th>1857</th>\n",
       "      <td>Massachusetts Institute of Technology</td>\n",
       "      <td>0.1070</td>\n",
       "      <td>1472.0</td>\n",
       "    </tr>\n",
       "    <tr>\n",
       "      <th>2297</th>\n",
       "      <td>Washington University in St Louis</td>\n",
       "      <td>0.2219</td>\n",
       "      <td>1462.0</td>\n",
       "    </tr>\n",
       "    <tr>\n",
       "      <th>2486</th>\n",
       "      <td>Princeton University</td>\n",
       "      <td>0.1006</td>\n",
       "      <td>1482.0</td>\n",
       "    </tr>\n",
       "    <tr>\n",
       "      <th>2905</th>\n",
       "      <td>Duke University</td>\n",
       "      <td>0.2238</td>\n",
       "      <td>1440.0</td>\n",
       "    </tr>\n",
       "    <tr>\n",
       "      <th>3592</th>\n",
       "      <td>University of Pennsylvania</td>\n",
       "      <td>0.1771</td>\n",
       "      <td>1436.0</td>\n",
       "    </tr>\n",
       "    <tr>\n",
       "      <th>3678</th>\n",
       "      <td>Brown University</td>\n",
       "      <td>0.1117</td>\n",
       "      <td>1420.0</td>\n",
       "    </tr>\n",
       "    <tr>\n",
       "      <th>4548</th>\n",
       "      <td>Stanford University</td>\n",
       "      <td>0.0797</td>\n",
       "      <td>1436.0</td>\n",
       "    </tr>\n",
       "    <tr>\n",
       "      <th rowspan=\"10\" valign=\"top\">2020</th>\n",
       "      <th>969</th>\n",
       "      <td>Northwestern University</td>\n",
       "      <td>0.0905</td>\n",
       "      <td>1506.0</td>\n",
       "    </tr>\n",
       "    <tr>\n",
       "      <th>1386</th>\n",
       "      <td>Johns Hopkins University</td>\n",
       "      <td>0.1117</td>\n",
       "      <td>1514.0</td>\n",
       "    </tr>\n",
       "    <tr>\n",
       "      <th>1465</th>\n",
       "      <td>Harvard University</td>\n",
       "      <td>0.0464</td>\n",
       "      <td>1517.0</td>\n",
       "    </tr>\n",
       "    <tr>\n",
       "      <th>1481</th>\n",
       "      <td>Massachusetts Institute of Technology</td>\n",
       "      <td>0.0670</td>\n",
       "      <td>1547.0</td>\n",
       "    </tr>\n",
       "    <tr>\n",
       "      <th>1844</th>\n",
       "      <td>Washington University in St Louis</td>\n",
       "      <td>0.1385</td>\n",
       "      <td>1520.0</td>\n",
       "    </tr>\n",
       "    <tr>\n",
       "      <th>2004</th>\n",
       "      <td>Princeton University</td>\n",
       "      <td>0.0578</td>\n",
       "      <td>1517.0</td>\n",
       "    </tr>\n",
       "    <tr>\n",
       "      <th>2365</th>\n",
       "      <td>Duke University</td>\n",
       "      <td>0.0760</td>\n",
       "      <td>1522.0</td>\n",
       "    </tr>\n",
       "    <tr>\n",
       "      <th>2929</th>\n",
       "      <td>University of Pennsylvania</td>\n",
       "      <td>0.0766</td>\n",
       "      <td>1511.0</td>\n",
       "    </tr>\n",
       "    <tr>\n",
       "      <th>3008</th>\n",
       "      <td>Brown University</td>\n",
       "      <td>0.0707</td>\n",
       "      <td>1511.0</td>\n",
       "    </tr>\n",
       "    <tr>\n",
       "      <th>3765</th>\n",
       "      <td>Stanford University</td>\n",
       "      <td>0.0434</td>\n",
       "      <td>1503.0</td>\n",
       "    </tr>\n",
       "  </tbody>\n",
       "</table>\n",
       "</div>"
      ],
      "text/plain": [
       "                                            INSTNM  ADM_RATE_ALL  SAT_AVG_ALL\n",
       "year rowNum                                                                  \n",
       "2010 1188                  Northwestern University        0.2620       1427.0\n",
       "     1738                 Johns Hopkins University        0.2782       1395.0\n",
       "     1833                       Harvard University        0.0719       1468.0\n",
       "     1857    Massachusetts Institute of Technology        0.1070       1472.0\n",
       "     2297        Washington University in St Louis        0.2219       1462.0\n",
       "     2486                     Princeton University        0.1006       1482.0\n",
       "     2905                          Duke University        0.2238       1440.0\n",
       "     3592               University of Pennsylvania        0.1771       1436.0\n",
       "     3678                         Brown University        0.1117       1420.0\n",
       "     4548                      Stanford University        0.0797       1436.0\n",
       "2020 969                   Northwestern University        0.0905       1506.0\n",
       "     1386                 Johns Hopkins University        0.1117       1514.0\n",
       "     1465                       Harvard University        0.0464       1517.0\n",
       "     1481    Massachusetts Institute of Technology        0.0670       1547.0\n",
       "     1844        Washington University in St Louis        0.1385       1520.0\n",
       "     2004                     Princeton University        0.0578       1517.0\n",
       "     2365                          Duke University        0.0760       1522.0\n",
       "     2929               University of Pennsylvania        0.0766       1511.0\n",
       "     3008                         Brown University        0.0707       1511.0\n",
       "     3765                      Stanford University        0.0434       1503.0"
      ]
     },
     "execution_count": 45,
     "metadata": {},
     "output_type": "execute_result"
    }
   ],
   "source": [
    "pd.set_option('display.max_rows', None)\n",
    "admittanceTier1 = (tier1Institutes.loc[2010:2020])[['INSTNM', 'ADM_RATE_ALL', 'SAT_AVG_ALL']]\n",
    "admittanceTier2 = (tier2Institutes.loc[2010:2020])[['INSTNM', 'ADM_RATE_ALL', 'SAT_AVG_ALL']]\n",
    "year = admittanceTier1.index.get_level_values('year')\n",
    "admittanceTier1.loc[[2010, 2020]]"
   ]
  },
  {
   "cell_type": "code",
   "execution_count": 46,
   "metadata": {},
   "outputs": [
    {
     "data": {
      "application/vnd.plotly.v1+json": {
       "config": {
        "plotlyServerURL": "https://plot.ly"
       },
       "data": [
        {
         "marker": {
          "color": "red"
         },
         "mode": "markers",
         "name": "Elite",
         "type": "scatter",
         "x": [
          2010,
          2010,
          2010,
          2010,
          2010,
          2010,
          2010,
          2010,
          2010,
          2010,
          2011,
          2011,
          2011,
          2011,
          2011,
          2011,
          2011,
          2011,
          2011,
          2011,
          2012,
          2012,
          2012,
          2012,
          2012,
          2012,
          2012,
          2012,
          2012,
          2012,
          2013,
          2013,
          2013,
          2013,
          2013,
          2013,
          2013,
          2013,
          2013,
          2013,
          2014,
          2014,
          2014,
          2014,
          2014,
          2014,
          2014,
          2014,
          2014,
          2014,
          2015,
          2015,
          2015,
          2015,
          2015,
          2015,
          2015,
          2015,
          2015,
          2015,
          2016,
          2016,
          2016,
          2016,
          2016,
          2016,
          2016,
          2016,
          2016,
          2016,
          2017,
          2017,
          2017,
          2017,
          2017,
          2017,
          2017,
          2017,
          2017,
          2017,
          2018,
          2018,
          2018,
          2018,
          2018,
          2018,
          2018,
          2018,
          2018,
          2018,
          2019,
          2019,
          2019,
          2019,
          2019,
          2019,
          2019,
          2019,
          2019,
          2019,
          2020,
          2020,
          2020,
          2020,
          2020,
          2020,
          2020,
          2020,
          2020,
          2020
         ],
         "y": [
          0.262,
          0.2782,
          0.0719,
          0.107,
          0.2219,
          0.1006,
          0.2238,
          0.1771,
          0.1117,
          0.0797,
          0.2715,
          0.2225,
          0.0723,
          0.1008,
          0.2129,
          0.088,
          0.1886,
          0.1426,
          0.0934,
          0.0731,
          0.2313,
          0.194,
          0.0626,
          0.0973,
          0.1652,
          0.0846,
          0.1648,
          0.1243,
          0.0891,
          0.071,
          0.1803,
          0.1843,
          0.0581,
          0.0895,
          0.1788,
          0.0785,
          0.1399,
          0.126,
          0.096,
          0.0661,
          0.1532,
          0.1813,
          0.0584,
          0.0815,
          0.1555,
          0.0741,
          0.1342,
          0.1224,
          0.0918,
          0.0569,
          0.1311,
          0.1608,
          0.0596,
          0.0788,
          0.1713,
          0.0744,
          0.1141,
          0.1037,
          0.0874,
          0.0509,
          0.1304,
          0.1412,
          0.0558,
          0.083,
          0.1674,
          0.0714,
          0.1142,
          0.1016,
          0.0949,
          0.0504,
          0.1066,
          0.1284,
          0.054,
          0.0794,
          0.1653,
          0.0652,
          0.1083,
          0.0944,
          0.0931,
          0.0481,
          0.0924,
          0.1254,
          0.0516,
          0.0717,
          0.1596,
          0.0641,
          0.0986,
          0.093,
          0.0849,
          0.0473,
          0.0847,
          0.1148,
          0.0473,
          0.0674,
          0.1503,
          0.0548,
          0.0891,
          0.0841,
          0.0767,
          0.0436,
          0.0905,
          0.1117,
          0.0464,
          0.067,
          0.1385,
          0.0578,
          0.076,
          0.0766,
          0.0707,
          0.0434
         ]
        },
        {
         "marker": {
          "color": "green"
         },
         "mode": "markers",
         "name": "Non-Elite",
         "type": "scatter",
         "x": [
          2010,
          2010,
          2010,
          2010,
          2010,
          2010,
          2010,
          2010,
          2010,
          2010,
          2011,
          2011,
          2011,
          2011,
          2011,
          2011,
          2011,
          2011,
          2011,
          2011,
          2012,
          2012,
          2012,
          2012,
          2012,
          2012,
          2012,
          2012,
          2012,
          2012,
          2013,
          2013,
          2013,
          2013,
          2013,
          2013,
          2013,
          2013,
          2013,
          2013,
          2014,
          2014,
          2014,
          2014,
          2014,
          2014,
          2014,
          2014,
          2014,
          2014,
          2015,
          2015,
          2015,
          2015,
          2015,
          2015,
          2015,
          2015,
          2015,
          2015,
          2016,
          2016,
          2016,
          2016,
          2016,
          2016,
          2016,
          2016,
          2016,
          2016,
          2017,
          2017,
          2017,
          2017,
          2017,
          2017,
          2017,
          2017,
          2017,
          2017,
          2018,
          2018,
          2018,
          2018,
          2018,
          2018,
          2018,
          2018,
          2018,
          2018,
          2019,
          2019,
          2019,
          2019,
          2019,
          2019,
          2019,
          2019,
          2019,
          2019,
          2020,
          2020,
          2020,
          2020,
          2020,
          2020,
          2020,
          2020,
          2020,
          2020
         ],
         "y": [
          0.78,
          0.5609,
          0.43,
          0.7368,
          0.8846,
          0.628,
          0.7765,
          0.8693,
          0.6402,
          0.638,
          0.7536,
          0.604,
          0.4496,
          0.647,
          0.8982,
          0.6082,
          0.7765,
          0.8958,
          0.6427,
          0.6431,
          0.7536,
          0.609,
          0.387,
          0.6754,
          0.9389,
          0.6211,
          0.8181,
          0.8766,
          0.4672,
          0.6499,
          0.7139,
          0.6347,
          0.4394,
          0.6103,
          0.9522,
          0.7081,
          0.8063,
          0.8207,
          0.6315,
          0.6419,
          0.7692,
          0.5858,
          0.4499,
          0.6054,
          0.9576,
          0.6744,
          0.8512,
          0.8396,
          0.6287,
          0.5969,
          0.7462,
          0.6204,
          0.5094,
          0.5988,
          0.9553,
          0.6503,
          0.8689,
          0.8388,
          0.8421,
          0.6626,
          0.7643,
          0.6006,
          0.448,
          0.605,
          0.9473,
          0.6384,
          0.8841,
          0.7852,
          0.8804,
          0.6886,
          0.7862,
          0.632,
          0.4588,
          0.6225,
          0.8623,
          0.6319,
          0.8278,
          0.8281,
          0.8745,
          0.7179,
          0.8358,
          0.6596,
          0.4447,
          0.6208,
          0.938,
          0.6484,
          0.8107,
          0.8803,
          0.9006,
          0.7241,
          0.8442,
          0.7747,
          0.4201,
          0.6478,
          0.965,
          0.6307,
          0.8204,
          0.8815,
          0.8834,
          0.7105,
          0.8459,
          0.7709,
          0.4555,
          0.7671,
          0.917,
          0.6409,
          0.8069,
          0.8822,
          0.9401,
          0.7361
         ]
        }
       ],
       "layout": {
        "height": 600,
        "template": {
         "data": {
          "bar": [
           {
            "error_x": {
             "color": "#2a3f5f"
            },
            "error_y": {
             "color": "#2a3f5f"
            },
            "marker": {
             "line": {
              "color": "#E5ECF6",
              "width": 0.5
             },
             "pattern": {
              "fillmode": "overlay",
              "size": 10,
              "solidity": 0.2
             }
            },
            "type": "bar"
           }
          ],
          "barpolar": [
           {
            "marker": {
             "line": {
              "color": "#E5ECF6",
              "width": 0.5
             },
             "pattern": {
              "fillmode": "overlay",
              "size": 10,
              "solidity": 0.2
             }
            },
            "type": "barpolar"
           }
          ],
          "carpet": [
           {
            "aaxis": {
             "endlinecolor": "#2a3f5f",
             "gridcolor": "white",
             "linecolor": "white",
             "minorgridcolor": "white",
             "startlinecolor": "#2a3f5f"
            },
            "baxis": {
             "endlinecolor": "#2a3f5f",
             "gridcolor": "white",
             "linecolor": "white",
             "minorgridcolor": "white",
             "startlinecolor": "#2a3f5f"
            },
            "type": "carpet"
           }
          ],
          "choropleth": [
           {
            "colorbar": {
             "outlinewidth": 0,
             "ticks": ""
            },
            "type": "choropleth"
           }
          ],
          "contour": [
           {
            "colorbar": {
             "outlinewidth": 0,
             "ticks": ""
            },
            "colorscale": [
             [
              0,
              "#0d0887"
             ],
             [
              0.1111111111111111,
              "#46039f"
             ],
             [
              0.2222222222222222,
              "#7201a8"
             ],
             [
              0.3333333333333333,
              "#9c179e"
             ],
             [
              0.4444444444444444,
              "#bd3786"
             ],
             [
              0.5555555555555556,
              "#d8576b"
             ],
             [
              0.6666666666666666,
              "#ed7953"
             ],
             [
              0.7777777777777778,
              "#fb9f3a"
             ],
             [
              0.8888888888888888,
              "#fdca26"
             ],
             [
              1,
              "#f0f921"
             ]
            ],
            "type": "contour"
           }
          ],
          "contourcarpet": [
           {
            "colorbar": {
             "outlinewidth": 0,
             "ticks": ""
            },
            "type": "contourcarpet"
           }
          ],
          "heatmap": [
           {
            "colorbar": {
             "outlinewidth": 0,
             "ticks": ""
            },
            "colorscale": [
             [
              0,
              "#0d0887"
             ],
             [
              0.1111111111111111,
              "#46039f"
             ],
             [
              0.2222222222222222,
              "#7201a8"
             ],
             [
              0.3333333333333333,
              "#9c179e"
             ],
             [
              0.4444444444444444,
              "#bd3786"
             ],
             [
              0.5555555555555556,
              "#d8576b"
             ],
             [
              0.6666666666666666,
              "#ed7953"
             ],
             [
              0.7777777777777778,
              "#fb9f3a"
             ],
             [
              0.8888888888888888,
              "#fdca26"
             ],
             [
              1,
              "#f0f921"
             ]
            ],
            "type": "heatmap"
           }
          ],
          "heatmapgl": [
           {
            "colorbar": {
             "outlinewidth": 0,
             "ticks": ""
            },
            "colorscale": [
             [
              0,
              "#0d0887"
             ],
             [
              0.1111111111111111,
              "#46039f"
             ],
             [
              0.2222222222222222,
              "#7201a8"
             ],
             [
              0.3333333333333333,
              "#9c179e"
             ],
             [
              0.4444444444444444,
              "#bd3786"
             ],
             [
              0.5555555555555556,
              "#d8576b"
             ],
             [
              0.6666666666666666,
              "#ed7953"
             ],
             [
              0.7777777777777778,
              "#fb9f3a"
             ],
             [
              0.8888888888888888,
              "#fdca26"
             ],
             [
              1,
              "#f0f921"
             ]
            ],
            "type": "heatmapgl"
           }
          ],
          "histogram": [
           {
            "marker": {
             "pattern": {
              "fillmode": "overlay",
              "size": 10,
              "solidity": 0.2
             }
            },
            "type": "histogram"
           }
          ],
          "histogram2d": [
           {
            "colorbar": {
             "outlinewidth": 0,
             "ticks": ""
            },
            "colorscale": [
             [
              0,
              "#0d0887"
             ],
             [
              0.1111111111111111,
              "#46039f"
             ],
             [
              0.2222222222222222,
              "#7201a8"
             ],
             [
              0.3333333333333333,
              "#9c179e"
             ],
             [
              0.4444444444444444,
              "#bd3786"
             ],
             [
              0.5555555555555556,
              "#d8576b"
             ],
             [
              0.6666666666666666,
              "#ed7953"
             ],
             [
              0.7777777777777778,
              "#fb9f3a"
             ],
             [
              0.8888888888888888,
              "#fdca26"
             ],
             [
              1,
              "#f0f921"
             ]
            ],
            "type": "histogram2d"
           }
          ],
          "histogram2dcontour": [
           {
            "colorbar": {
             "outlinewidth": 0,
             "ticks": ""
            },
            "colorscale": [
             [
              0,
              "#0d0887"
             ],
             [
              0.1111111111111111,
              "#46039f"
             ],
             [
              0.2222222222222222,
              "#7201a8"
             ],
             [
              0.3333333333333333,
              "#9c179e"
             ],
             [
              0.4444444444444444,
              "#bd3786"
             ],
             [
              0.5555555555555556,
              "#d8576b"
             ],
             [
              0.6666666666666666,
              "#ed7953"
             ],
             [
              0.7777777777777778,
              "#fb9f3a"
             ],
             [
              0.8888888888888888,
              "#fdca26"
             ],
             [
              1,
              "#f0f921"
             ]
            ],
            "type": "histogram2dcontour"
           }
          ],
          "mesh3d": [
           {
            "colorbar": {
             "outlinewidth": 0,
             "ticks": ""
            },
            "type": "mesh3d"
           }
          ],
          "parcoords": [
           {
            "line": {
             "colorbar": {
              "outlinewidth": 0,
              "ticks": ""
             }
            },
            "type": "parcoords"
           }
          ],
          "pie": [
           {
            "automargin": true,
            "type": "pie"
           }
          ],
          "scatter": [
           {
            "fillpattern": {
             "fillmode": "overlay",
             "size": 10,
             "solidity": 0.2
            },
            "type": "scatter"
           }
          ],
          "scatter3d": [
           {
            "line": {
             "colorbar": {
              "outlinewidth": 0,
              "ticks": ""
             }
            },
            "marker": {
             "colorbar": {
              "outlinewidth": 0,
              "ticks": ""
             }
            },
            "type": "scatter3d"
           }
          ],
          "scattercarpet": [
           {
            "marker": {
             "colorbar": {
              "outlinewidth": 0,
              "ticks": ""
             }
            },
            "type": "scattercarpet"
           }
          ],
          "scattergeo": [
           {
            "marker": {
             "colorbar": {
              "outlinewidth": 0,
              "ticks": ""
             }
            },
            "type": "scattergeo"
           }
          ],
          "scattergl": [
           {
            "marker": {
             "colorbar": {
              "outlinewidth": 0,
              "ticks": ""
             }
            },
            "type": "scattergl"
           }
          ],
          "scattermapbox": [
           {
            "marker": {
             "colorbar": {
              "outlinewidth": 0,
              "ticks": ""
             }
            },
            "type": "scattermapbox"
           }
          ],
          "scatterpolar": [
           {
            "marker": {
             "colorbar": {
              "outlinewidth": 0,
              "ticks": ""
             }
            },
            "type": "scatterpolar"
           }
          ],
          "scatterpolargl": [
           {
            "marker": {
             "colorbar": {
              "outlinewidth": 0,
              "ticks": ""
             }
            },
            "type": "scatterpolargl"
           }
          ],
          "scatterternary": [
           {
            "marker": {
             "colorbar": {
              "outlinewidth": 0,
              "ticks": ""
             }
            },
            "type": "scatterternary"
           }
          ],
          "surface": [
           {
            "colorbar": {
             "outlinewidth": 0,
             "ticks": ""
            },
            "colorscale": [
             [
              0,
              "#0d0887"
             ],
             [
              0.1111111111111111,
              "#46039f"
             ],
             [
              0.2222222222222222,
              "#7201a8"
             ],
             [
              0.3333333333333333,
              "#9c179e"
             ],
             [
              0.4444444444444444,
              "#bd3786"
             ],
             [
              0.5555555555555556,
              "#d8576b"
             ],
             [
              0.6666666666666666,
              "#ed7953"
             ],
             [
              0.7777777777777778,
              "#fb9f3a"
             ],
             [
              0.8888888888888888,
              "#fdca26"
             ],
             [
              1,
              "#f0f921"
             ]
            ],
            "type": "surface"
           }
          ],
          "table": [
           {
            "cells": {
             "fill": {
              "color": "#EBF0F8"
             },
             "line": {
              "color": "white"
             }
            },
            "header": {
             "fill": {
              "color": "#C8D4E3"
             },
             "line": {
              "color": "white"
             }
            },
            "type": "table"
           }
          ]
         },
         "layout": {
          "annotationdefaults": {
           "arrowcolor": "#2a3f5f",
           "arrowhead": 0,
           "arrowwidth": 1
          },
          "autotypenumbers": "strict",
          "coloraxis": {
           "colorbar": {
            "outlinewidth": 0,
            "ticks": ""
           }
          },
          "colorscale": {
           "diverging": [
            [
             0,
             "#8e0152"
            ],
            [
             0.1,
             "#c51b7d"
            ],
            [
             0.2,
             "#de77ae"
            ],
            [
             0.3,
             "#f1b6da"
            ],
            [
             0.4,
             "#fde0ef"
            ],
            [
             0.5,
             "#f7f7f7"
            ],
            [
             0.6,
             "#e6f5d0"
            ],
            [
             0.7,
             "#b8e186"
            ],
            [
             0.8,
             "#7fbc41"
            ],
            [
             0.9,
             "#4d9221"
            ],
            [
             1,
             "#276419"
            ]
           ],
           "sequential": [
            [
             0,
             "#0d0887"
            ],
            [
             0.1111111111111111,
             "#46039f"
            ],
            [
             0.2222222222222222,
             "#7201a8"
            ],
            [
             0.3333333333333333,
             "#9c179e"
            ],
            [
             0.4444444444444444,
             "#bd3786"
            ],
            [
             0.5555555555555556,
             "#d8576b"
            ],
            [
             0.6666666666666666,
             "#ed7953"
            ],
            [
             0.7777777777777778,
             "#fb9f3a"
            ],
            [
             0.8888888888888888,
             "#fdca26"
            ],
            [
             1,
             "#f0f921"
            ]
           ],
           "sequentialminus": [
            [
             0,
             "#0d0887"
            ],
            [
             0.1111111111111111,
             "#46039f"
            ],
            [
             0.2222222222222222,
             "#7201a8"
            ],
            [
             0.3333333333333333,
             "#9c179e"
            ],
            [
             0.4444444444444444,
             "#bd3786"
            ],
            [
             0.5555555555555556,
             "#d8576b"
            ],
            [
             0.6666666666666666,
             "#ed7953"
            ],
            [
             0.7777777777777778,
             "#fb9f3a"
            ],
            [
             0.8888888888888888,
             "#fdca26"
            ],
            [
             1,
             "#f0f921"
            ]
           ]
          },
          "colorway": [
           "#636efa",
           "#EF553B",
           "#00cc96",
           "#ab63fa",
           "#FFA15A",
           "#19d3f3",
           "#FF6692",
           "#B6E880",
           "#FF97FF",
           "#FECB52"
          ],
          "font": {
           "color": "#2a3f5f"
          },
          "geo": {
           "bgcolor": "white",
           "lakecolor": "white",
           "landcolor": "#E5ECF6",
           "showlakes": true,
           "showland": true,
           "subunitcolor": "white"
          },
          "hoverlabel": {
           "align": "left"
          },
          "hovermode": "closest",
          "mapbox": {
           "style": "light"
          },
          "paper_bgcolor": "white",
          "plot_bgcolor": "#E5ECF6",
          "polar": {
           "angularaxis": {
            "gridcolor": "white",
            "linecolor": "white",
            "ticks": ""
           },
           "bgcolor": "#E5ECF6",
           "radialaxis": {
            "gridcolor": "white",
            "linecolor": "white",
            "ticks": ""
           }
          },
          "scene": {
           "xaxis": {
            "backgroundcolor": "#E5ECF6",
            "gridcolor": "white",
            "gridwidth": 2,
            "linecolor": "white",
            "showbackground": true,
            "ticks": "",
            "zerolinecolor": "white"
           },
           "yaxis": {
            "backgroundcolor": "#E5ECF6",
            "gridcolor": "white",
            "gridwidth": 2,
            "linecolor": "white",
            "showbackground": true,
            "ticks": "",
            "zerolinecolor": "white"
           },
           "zaxis": {
            "backgroundcolor": "#E5ECF6",
            "gridcolor": "white",
            "gridwidth": 2,
            "linecolor": "white",
            "showbackground": true,
            "ticks": "",
            "zerolinecolor": "white"
           }
          },
          "shapedefaults": {
           "line": {
            "color": "#2a3f5f"
           }
          },
          "ternary": {
           "aaxis": {
            "gridcolor": "white",
            "linecolor": "white",
            "ticks": ""
           },
           "baxis": {
            "gridcolor": "white",
            "linecolor": "white",
            "ticks": ""
           },
           "bgcolor": "#E5ECF6",
           "caxis": {
            "gridcolor": "white",
            "linecolor": "white",
            "ticks": ""
           }
          },
          "title": {
           "x": 0.05
          },
          "xaxis": {
           "automargin": true,
           "gridcolor": "white",
           "linecolor": "white",
           "ticks": "",
           "title": {
            "standoff": 15
           },
           "zerolinecolor": "white",
           "zerolinewidth": 2
          },
          "yaxis": {
           "automargin": true,
           "gridcolor": "white",
           "linecolor": "white",
           "ticks": "",
           "title": {
            "standoff": 15
           },
           "zerolinecolor": "white",
           "zerolinewidth": 2
          }
         }
        },
        "width": 600,
        "xaxis": {
         "title": {
          "text": "Year"
         }
        },
        "yaxis": {
         "dtick": 0.05,
         "title": {
          "text": "Admission_Rate (Fraction)"
         }
        }
       }
      }
     },
     "metadata": {},
     "output_type": "display_data"
    }
   ],
   "source": [
    "fig = go.Figure()\n",
    "fig.add_trace(go.Scatter(\n",
    "    x=year,\n",
    "    y=admittanceTier1['ADM_RATE_ALL'],\n",
    "    marker_color=\"red\",\n",
    "    mode=\"markers\",\n",
    "    name=\"Elite\"\n",
    "))\n",
    "\n",
    "fig.add_trace(go.Scatter(\n",
    "    x=year,\n",
    "    y=admittanceTier2['ADM_RATE_ALL'],\n",
    "    marker_color=\"green\",\n",
    "    mode=\"markers\",\n",
    "    name=\"Non-Elite\"\n",
    "))\n",
    "fig.update_layout(\n",
    "    yaxis=dict(dtick=0.05, title=\"Admission_Rate (Fraction)\"),\n",
    "    xaxis=dict(title=\"Year\"),\n",
    ")\n",
    "fig.layout.update(dict(width=600, height=600))\n",
    "fig.show()"
   ]
  },
  {
   "cell_type": "code",
   "execution_count": 47,
   "metadata": {},
   "outputs": [
    {
     "data": {
      "application/vnd.plotly.v1+json": {
       "config": {
        "plotlyServerURL": "https://plot.ly"
       },
       "data": [
        {
         "marker": {
          "color": "red"
         },
         "mode": "markers",
         "name": "Elite",
         "type": "scatter",
         "x": [
          2010,
          2010,
          2010,
          2010,
          2010,
          2010,
          2010,
          2010,
          2010,
          2010,
          2011,
          2011,
          2011,
          2011,
          2011,
          2011,
          2011,
          2011,
          2011,
          2011,
          2012,
          2012,
          2012,
          2012,
          2012,
          2012,
          2012,
          2012,
          2012,
          2012,
          2013,
          2013,
          2013,
          2013,
          2013,
          2013,
          2013,
          2013,
          2013,
          2013,
          2014,
          2014,
          2014,
          2014,
          2014,
          2014,
          2014,
          2014,
          2014,
          2014,
          2015,
          2015,
          2015,
          2015,
          2015,
          2015,
          2015,
          2015,
          2015,
          2015,
          2016,
          2016,
          2016,
          2016,
          2016,
          2016,
          2016,
          2016,
          2016,
          2016,
          2017,
          2017,
          2017,
          2017,
          2017,
          2017,
          2017,
          2017,
          2017,
          2017,
          2018,
          2018,
          2018,
          2018,
          2018,
          2018,
          2018,
          2018,
          2018,
          2018,
          2019,
          2019,
          2019,
          2019,
          2019,
          2019,
          2019,
          2019,
          2019,
          2019,
          2020,
          2020,
          2020,
          2020,
          2020,
          2020,
          2020,
          2020,
          2020,
          2020
         ],
         "y": [
          1427,
          1395,
          1468,
          1472,
          1462,
          1482,
          1440,
          1436,
          1420,
          1436,
          1434,
          1390,
          1478,
          1486,
          1465,
          1485,
          1432,
          1435,
          1415,
          1452,
          1438,
          1393,
          1485,
          1490,
          1467,
          1487,
          1435,
          1435,
          1387,
          1446,
          1452,
          1403,
          1497,
          1490,
          1478,
          1492,
          1435,
          1439,
          1419,
          1465,
          1458,
          1418,
          1501,
          1503,
          1474,
          1495,
          1444,
          1442,
          1425,
          1466,
          1461,
          1439,
          1501,
          1500,
          1478,
          1491,
          1454,
          1452,
          1435,
          1465,
          1460,
          1453,
          1497,
          1507,
          1469,
          1490,
          1450,
          1457,
          1457,
          1479,
          1470,
          1476,
          1506,
          1519,
          1472,
          1493,
          1460,
          1481,
          1459,
          1476,
          1500,
          1524,
          1523,
          1532,
          1508,
          1500,
          1488,
          1506,
          1494,
          1489,
          1508,
          1513,
          1520,
          1545,
          1506,
          1503,
          1516,
          1492,
          1492,
          1497,
          1506,
          1514,
          1517,
          1547,
          1520,
          1517,
          1522,
          1511,
          1511,
          1503
         ]
        },
        {
         "marker": {
          "color": "green"
         },
         "mode": "markers",
         "name": "Non-Elite",
         "type": "scatter",
         "x": [
          2010,
          2010,
          2010,
          2010,
          2010,
          2010,
          2010,
          2010,
          2010,
          2010,
          2011,
          2011,
          2011,
          2011,
          2011,
          2011,
          2011,
          2011,
          2011,
          2011,
          2012,
          2012,
          2012,
          2012,
          2012,
          2012,
          2012,
          2012,
          2012,
          2012,
          2013,
          2013,
          2013,
          2013,
          2013,
          2013,
          2013,
          2013,
          2013,
          2013,
          2014,
          2014,
          2014,
          2014,
          2014,
          2014,
          2014,
          2014,
          2014,
          2014,
          2015,
          2015,
          2015,
          2015,
          2015,
          2015,
          2015,
          2015,
          2015,
          2015,
          2016,
          2016,
          2016,
          2016,
          2016,
          2016,
          2016,
          2016,
          2016,
          2016,
          2017,
          2017,
          2017,
          2017,
          2017,
          2017,
          2017,
          2017,
          2017,
          2017,
          2018,
          2018,
          2018,
          2018,
          2018,
          2018,
          2018,
          2018,
          2018,
          2018,
          2019,
          2019,
          2019,
          2019,
          2019,
          2019,
          2019,
          2019,
          2019,
          2019,
          2020,
          2020,
          2020,
          2020,
          2020,
          2020,
          2020,
          2020,
          2020,
          2020
         ],
         "y": [
          1099,
          1175,
          1141,
          1037,
          1091,
          1068,
          1013,
          1063,
          973,
          1071,
          1093,
          1158,
          1122,
          1056,
          1091,
          1088,
          1013,
          1055,
          970,
          1093,
          1102,
          1157,
          1139,
          1052,
          1090,
          1088,
          1010,
          1061,
          998,
          1093,
          1099,
          1157,
          1150,
          1036,
          1048,
          1104,
          993,
          1075,
          1012,
          1093,
          1106,
          1156,
          1154,
          1053,
          1089,
          1089,
          1003,
          1081,
          1030,
          1100,
          null,
          1155,
          1161,
          1066,
          null,
          1104,
          1000,
          1081,
          1014,
          1090,
          null,
          1154,
          1167,
          1070,
          1089,
          1105,
          1007,
          1084,
          1028,
          1085,
          null,
          1170,
          1161,
          1057,
          1102,
          1105,
          1012,
          1088,
          1029,
          1090,
          null,
          1239,
          1234,
          1138,
          1159,
          1195,
          1100,
          1165,
          1104,
          1167,
          1198,
          1238,
          1256,
          null,
          1152,
          1219,
          1113,
          1172,
          1111,
          1163,
          1228,
          1253,
          1261,
          null,
          1168,
          1218,
          1126,
          1174,
          1115,
          1166
         ]
        }
       ],
       "layout": {
        "height": 600,
        "template": {
         "data": {
          "bar": [
           {
            "error_x": {
             "color": "#2a3f5f"
            },
            "error_y": {
             "color": "#2a3f5f"
            },
            "marker": {
             "line": {
              "color": "#E5ECF6",
              "width": 0.5
             },
             "pattern": {
              "fillmode": "overlay",
              "size": 10,
              "solidity": 0.2
             }
            },
            "type": "bar"
           }
          ],
          "barpolar": [
           {
            "marker": {
             "line": {
              "color": "#E5ECF6",
              "width": 0.5
             },
             "pattern": {
              "fillmode": "overlay",
              "size": 10,
              "solidity": 0.2
             }
            },
            "type": "barpolar"
           }
          ],
          "carpet": [
           {
            "aaxis": {
             "endlinecolor": "#2a3f5f",
             "gridcolor": "white",
             "linecolor": "white",
             "minorgridcolor": "white",
             "startlinecolor": "#2a3f5f"
            },
            "baxis": {
             "endlinecolor": "#2a3f5f",
             "gridcolor": "white",
             "linecolor": "white",
             "minorgridcolor": "white",
             "startlinecolor": "#2a3f5f"
            },
            "type": "carpet"
           }
          ],
          "choropleth": [
           {
            "colorbar": {
             "outlinewidth": 0,
             "ticks": ""
            },
            "type": "choropleth"
           }
          ],
          "contour": [
           {
            "colorbar": {
             "outlinewidth": 0,
             "ticks": ""
            },
            "colorscale": [
             [
              0,
              "#0d0887"
             ],
             [
              0.1111111111111111,
              "#46039f"
             ],
             [
              0.2222222222222222,
              "#7201a8"
             ],
             [
              0.3333333333333333,
              "#9c179e"
             ],
             [
              0.4444444444444444,
              "#bd3786"
             ],
             [
              0.5555555555555556,
              "#d8576b"
             ],
             [
              0.6666666666666666,
              "#ed7953"
             ],
             [
              0.7777777777777778,
              "#fb9f3a"
             ],
             [
              0.8888888888888888,
              "#fdca26"
             ],
             [
              1,
              "#f0f921"
             ]
            ],
            "type": "contour"
           }
          ],
          "contourcarpet": [
           {
            "colorbar": {
             "outlinewidth": 0,
             "ticks": ""
            },
            "type": "contourcarpet"
           }
          ],
          "heatmap": [
           {
            "colorbar": {
             "outlinewidth": 0,
             "ticks": ""
            },
            "colorscale": [
             [
              0,
              "#0d0887"
             ],
             [
              0.1111111111111111,
              "#46039f"
             ],
             [
              0.2222222222222222,
              "#7201a8"
             ],
             [
              0.3333333333333333,
              "#9c179e"
             ],
             [
              0.4444444444444444,
              "#bd3786"
             ],
             [
              0.5555555555555556,
              "#d8576b"
             ],
             [
              0.6666666666666666,
              "#ed7953"
             ],
             [
              0.7777777777777778,
              "#fb9f3a"
             ],
             [
              0.8888888888888888,
              "#fdca26"
             ],
             [
              1,
              "#f0f921"
             ]
            ],
            "type": "heatmap"
           }
          ],
          "heatmapgl": [
           {
            "colorbar": {
             "outlinewidth": 0,
             "ticks": ""
            },
            "colorscale": [
             [
              0,
              "#0d0887"
             ],
             [
              0.1111111111111111,
              "#46039f"
             ],
             [
              0.2222222222222222,
              "#7201a8"
             ],
             [
              0.3333333333333333,
              "#9c179e"
             ],
             [
              0.4444444444444444,
              "#bd3786"
             ],
             [
              0.5555555555555556,
              "#d8576b"
             ],
             [
              0.6666666666666666,
              "#ed7953"
             ],
             [
              0.7777777777777778,
              "#fb9f3a"
             ],
             [
              0.8888888888888888,
              "#fdca26"
             ],
             [
              1,
              "#f0f921"
             ]
            ],
            "type": "heatmapgl"
           }
          ],
          "histogram": [
           {
            "marker": {
             "pattern": {
              "fillmode": "overlay",
              "size": 10,
              "solidity": 0.2
             }
            },
            "type": "histogram"
           }
          ],
          "histogram2d": [
           {
            "colorbar": {
             "outlinewidth": 0,
             "ticks": ""
            },
            "colorscale": [
             [
              0,
              "#0d0887"
             ],
             [
              0.1111111111111111,
              "#46039f"
             ],
             [
              0.2222222222222222,
              "#7201a8"
             ],
             [
              0.3333333333333333,
              "#9c179e"
             ],
             [
              0.4444444444444444,
              "#bd3786"
             ],
             [
              0.5555555555555556,
              "#d8576b"
             ],
             [
              0.6666666666666666,
              "#ed7953"
             ],
             [
              0.7777777777777778,
              "#fb9f3a"
             ],
             [
              0.8888888888888888,
              "#fdca26"
             ],
             [
              1,
              "#f0f921"
             ]
            ],
            "type": "histogram2d"
           }
          ],
          "histogram2dcontour": [
           {
            "colorbar": {
             "outlinewidth": 0,
             "ticks": ""
            },
            "colorscale": [
             [
              0,
              "#0d0887"
             ],
             [
              0.1111111111111111,
              "#46039f"
             ],
             [
              0.2222222222222222,
              "#7201a8"
             ],
             [
              0.3333333333333333,
              "#9c179e"
             ],
             [
              0.4444444444444444,
              "#bd3786"
             ],
             [
              0.5555555555555556,
              "#d8576b"
             ],
             [
              0.6666666666666666,
              "#ed7953"
             ],
             [
              0.7777777777777778,
              "#fb9f3a"
             ],
             [
              0.8888888888888888,
              "#fdca26"
             ],
             [
              1,
              "#f0f921"
             ]
            ],
            "type": "histogram2dcontour"
           }
          ],
          "mesh3d": [
           {
            "colorbar": {
             "outlinewidth": 0,
             "ticks": ""
            },
            "type": "mesh3d"
           }
          ],
          "parcoords": [
           {
            "line": {
             "colorbar": {
              "outlinewidth": 0,
              "ticks": ""
             }
            },
            "type": "parcoords"
           }
          ],
          "pie": [
           {
            "automargin": true,
            "type": "pie"
           }
          ],
          "scatter": [
           {
            "fillpattern": {
             "fillmode": "overlay",
             "size": 10,
             "solidity": 0.2
            },
            "type": "scatter"
           }
          ],
          "scatter3d": [
           {
            "line": {
             "colorbar": {
              "outlinewidth": 0,
              "ticks": ""
             }
            },
            "marker": {
             "colorbar": {
              "outlinewidth": 0,
              "ticks": ""
             }
            },
            "type": "scatter3d"
           }
          ],
          "scattercarpet": [
           {
            "marker": {
             "colorbar": {
              "outlinewidth": 0,
              "ticks": ""
             }
            },
            "type": "scattercarpet"
           }
          ],
          "scattergeo": [
           {
            "marker": {
             "colorbar": {
              "outlinewidth": 0,
              "ticks": ""
             }
            },
            "type": "scattergeo"
           }
          ],
          "scattergl": [
           {
            "marker": {
             "colorbar": {
              "outlinewidth": 0,
              "ticks": ""
             }
            },
            "type": "scattergl"
           }
          ],
          "scattermapbox": [
           {
            "marker": {
             "colorbar": {
              "outlinewidth": 0,
              "ticks": ""
             }
            },
            "type": "scattermapbox"
           }
          ],
          "scatterpolar": [
           {
            "marker": {
             "colorbar": {
              "outlinewidth": 0,
              "ticks": ""
             }
            },
            "type": "scatterpolar"
           }
          ],
          "scatterpolargl": [
           {
            "marker": {
             "colorbar": {
              "outlinewidth": 0,
              "ticks": ""
             }
            },
            "type": "scatterpolargl"
           }
          ],
          "scatterternary": [
           {
            "marker": {
             "colorbar": {
              "outlinewidth": 0,
              "ticks": ""
             }
            },
            "type": "scatterternary"
           }
          ],
          "surface": [
           {
            "colorbar": {
             "outlinewidth": 0,
             "ticks": ""
            },
            "colorscale": [
             [
              0,
              "#0d0887"
             ],
             [
              0.1111111111111111,
              "#46039f"
             ],
             [
              0.2222222222222222,
              "#7201a8"
             ],
             [
              0.3333333333333333,
              "#9c179e"
             ],
             [
              0.4444444444444444,
              "#bd3786"
             ],
             [
              0.5555555555555556,
              "#d8576b"
             ],
             [
              0.6666666666666666,
              "#ed7953"
             ],
             [
              0.7777777777777778,
              "#fb9f3a"
             ],
             [
              0.8888888888888888,
              "#fdca26"
             ],
             [
              1,
              "#f0f921"
             ]
            ],
            "type": "surface"
           }
          ],
          "table": [
           {
            "cells": {
             "fill": {
              "color": "#EBF0F8"
             },
             "line": {
              "color": "white"
             }
            },
            "header": {
             "fill": {
              "color": "#C8D4E3"
             },
             "line": {
              "color": "white"
             }
            },
            "type": "table"
           }
          ]
         },
         "layout": {
          "annotationdefaults": {
           "arrowcolor": "#2a3f5f",
           "arrowhead": 0,
           "arrowwidth": 1
          },
          "autotypenumbers": "strict",
          "coloraxis": {
           "colorbar": {
            "outlinewidth": 0,
            "ticks": ""
           }
          },
          "colorscale": {
           "diverging": [
            [
             0,
             "#8e0152"
            ],
            [
             0.1,
             "#c51b7d"
            ],
            [
             0.2,
             "#de77ae"
            ],
            [
             0.3,
             "#f1b6da"
            ],
            [
             0.4,
             "#fde0ef"
            ],
            [
             0.5,
             "#f7f7f7"
            ],
            [
             0.6,
             "#e6f5d0"
            ],
            [
             0.7,
             "#b8e186"
            ],
            [
             0.8,
             "#7fbc41"
            ],
            [
             0.9,
             "#4d9221"
            ],
            [
             1,
             "#276419"
            ]
           ],
           "sequential": [
            [
             0,
             "#0d0887"
            ],
            [
             0.1111111111111111,
             "#46039f"
            ],
            [
             0.2222222222222222,
             "#7201a8"
            ],
            [
             0.3333333333333333,
             "#9c179e"
            ],
            [
             0.4444444444444444,
             "#bd3786"
            ],
            [
             0.5555555555555556,
             "#d8576b"
            ],
            [
             0.6666666666666666,
             "#ed7953"
            ],
            [
             0.7777777777777778,
             "#fb9f3a"
            ],
            [
             0.8888888888888888,
             "#fdca26"
            ],
            [
             1,
             "#f0f921"
            ]
           ],
           "sequentialminus": [
            [
             0,
             "#0d0887"
            ],
            [
             0.1111111111111111,
             "#46039f"
            ],
            [
             0.2222222222222222,
             "#7201a8"
            ],
            [
             0.3333333333333333,
             "#9c179e"
            ],
            [
             0.4444444444444444,
             "#bd3786"
            ],
            [
             0.5555555555555556,
             "#d8576b"
            ],
            [
             0.6666666666666666,
             "#ed7953"
            ],
            [
             0.7777777777777778,
             "#fb9f3a"
            ],
            [
             0.8888888888888888,
             "#fdca26"
            ],
            [
             1,
             "#f0f921"
            ]
           ]
          },
          "colorway": [
           "#636efa",
           "#EF553B",
           "#00cc96",
           "#ab63fa",
           "#FFA15A",
           "#19d3f3",
           "#FF6692",
           "#B6E880",
           "#FF97FF",
           "#FECB52"
          ],
          "font": {
           "color": "#2a3f5f"
          },
          "geo": {
           "bgcolor": "white",
           "lakecolor": "white",
           "landcolor": "#E5ECF6",
           "showlakes": true,
           "showland": true,
           "subunitcolor": "white"
          },
          "hoverlabel": {
           "align": "left"
          },
          "hovermode": "closest",
          "mapbox": {
           "style": "light"
          },
          "paper_bgcolor": "white",
          "plot_bgcolor": "#E5ECF6",
          "polar": {
           "angularaxis": {
            "gridcolor": "white",
            "linecolor": "white",
            "ticks": ""
           },
           "bgcolor": "#E5ECF6",
           "radialaxis": {
            "gridcolor": "white",
            "linecolor": "white",
            "ticks": ""
           }
          },
          "scene": {
           "xaxis": {
            "backgroundcolor": "#E5ECF6",
            "gridcolor": "white",
            "gridwidth": 2,
            "linecolor": "white",
            "showbackground": true,
            "ticks": "",
            "zerolinecolor": "white"
           },
           "yaxis": {
            "backgroundcolor": "#E5ECF6",
            "gridcolor": "white",
            "gridwidth": 2,
            "linecolor": "white",
            "showbackground": true,
            "ticks": "",
            "zerolinecolor": "white"
           },
           "zaxis": {
            "backgroundcolor": "#E5ECF6",
            "gridcolor": "white",
            "gridwidth": 2,
            "linecolor": "white",
            "showbackground": true,
            "ticks": "",
            "zerolinecolor": "white"
           }
          },
          "shapedefaults": {
           "line": {
            "color": "#2a3f5f"
           }
          },
          "ternary": {
           "aaxis": {
            "gridcolor": "white",
            "linecolor": "white",
            "ticks": ""
           },
           "baxis": {
            "gridcolor": "white",
            "linecolor": "white",
            "ticks": ""
           },
           "bgcolor": "#E5ECF6",
           "caxis": {
            "gridcolor": "white",
            "linecolor": "white",
            "ticks": ""
           }
          },
          "title": {
           "x": 0.05
          },
          "xaxis": {
           "automargin": true,
           "gridcolor": "white",
           "linecolor": "white",
           "ticks": "",
           "title": {
            "standoff": 15
           },
           "zerolinecolor": "white",
           "zerolinewidth": 2
          },
          "yaxis": {
           "automargin": true,
           "gridcolor": "white",
           "linecolor": "white",
           "ticks": "",
           "title": {
            "standoff": 15
           },
           "zerolinecolor": "white",
           "zerolinewidth": 2
          }
         }
        },
        "width": 600,
        "xaxis": {
         "title": {
          "text": "Year"
         }
        },
        "yaxis": {
         "title": {
          "text": "SAT_SCORE"
         }
        }
       }
      }
     },
     "metadata": {},
     "output_type": "display_data"
    }
   ],
   "source": [
    "fig = go.Figure()\n",
    "fig.add_trace(go.Scatter(\n",
    "    x=year,\n",
    "    y=admittanceTier1['SAT_AVG_ALL'],\n",
    "    marker_color=\"red\",\n",
    "    mode=\"markers\",\n",
    "    name=\"Elite\"\n",
    "))\n",
    "\n",
    "fig.add_trace(go.Scatter(\n",
    "    x=year,\n",
    "    y=admittanceTier2['SAT_AVG_ALL'],\n",
    "    marker_color=\"green\",\n",
    "    mode=\"markers\",\n",
    "    name=\"Non-Elite\"\n",
    "))\n",
    "fig.update_layout(\n",
    "    yaxis=dict(title=\"SAT_SCORE\"),\n",
    "    xaxis=dict(title=\"Year\"),\n",
    ")\n",
    "fig.layout.update(dict(width=600, height=600))\n",
    "fig.show()"
   ]
  },
  {
   "cell_type": "code",
   "execution_count": 48,
   "metadata": {},
   "outputs": [],
   "source": [
    "ffillByYear(tier1Institutes, 'C100_4', False, 2010, 2021)\n",
    "ffillByYear(tier2Institutes, 'C100_4', False, 2010, 2021)"
   ]
  },
  {
   "cell_type": "code",
   "execution_count": 49,
   "metadata": {},
   "outputs": [],
   "source": [
    "completionTier1 = tier1Institutes.loc[2010:2020]['C100_4']\n",
    "completionTier2 = tier2Institutes.loc[2010:2020]['C100_4']"
   ]
  },
  {
   "cell_type": "code",
   "execution_count": 50,
   "metadata": {},
   "outputs": [
    {
     "name": "stdout",
     "output_type": "stream",
     "text": [
      "[+] NullCompT1:  0.0  NullCompT2 0.0\n"
     ]
    }
   ],
   "source": [
    "# Completion rates\n",
    "nullPercentTier1 = completionTier1.isna().mean() * 100\n",
    "nullPercentTier2 = completionTier2.isna().mean() * 100\n",
    "\n",
    "print(\"[+] NullCompT1: \", nullPercentTier1, \" NullCompT2\", nullPercentTier2)"
   ]
  },
  {
   "cell_type": "code",
   "execution_count": 51,
   "metadata": {},
   "outputs": [
    {
     "data": {
      "application/vnd.plotly.v1+json": {
       "config": {
        "plotlyServerURL": "https://plot.ly"
       },
       "data": [
        {
         "marker": {
          "color": "red"
         },
         "mode": "markers",
         "name": "Elite",
         "type": "scatter",
         "x": [
          2010,
          2010,
          2010,
          2010,
          2010,
          2010,
          2010,
          2010,
          2010,
          2010,
          2011,
          2011,
          2011,
          2011,
          2011,
          2011,
          2011,
          2011,
          2011,
          2011,
          2012,
          2012,
          2012,
          2012,
          2012,
          2012,
          2012,
          2012,
          2012,
          2012,
          2013,
          2013,
          2013,
          2013,
          2013,
          2013,
          2013,
          2013,
          2013,
          2013,
          2014,
          2014,
          2014,
          2014,
          2014,
          2014,
          2014,
          2014,
          2014,
          2014,
          2015,
          2015,
          2015,
          2015,
          2015,
          2015,
          2015,
          2015,
          2015,
          2015,
          2016,
          2016,
          2016,
          2016,
          2016,
          2016,
          2016,
          2016,
          2016,
          2016,
          2017,
          2017,
          2017,
          2017,
          2017,
          2017,
          2017,
          2017,
          2017,
          2017,
          2018,
          2018,
          2018,
          2018,
          2018,
          2018,
          2018,
          2018,
          2018,
          2018,
          2019,
          2019,
          2019,
          2019,
          2019,
          2019,
          2019,
          2019,
          2019,
          2019,
          2020,
          2020,
          2020,
          2020,
          2020,
          2020,
          2020,
          2020,
          2020,
          2020
         ],
         "y": [
          0.8727,
          0.8191,
          0.8775,
          0.8271,
          0.8436,
          0.8992,
          0.885,
          0.8755,
          0.8563,
          0.7933,
          0.8631,
          0.8234,
          0.8712,
          0.8448,
          0.8586,
          0.9009,
          0.8682,
          0.886,
          0.8565,
          0.7836,
          0.855,
          0.8436,
          0.8681,
          0.8513,
          0.8644,
          0.8709,
          0.885,
          0.8721,
          0.8318,
          0.7892,
          0.8583,
          0.8643,
          0.8624,
          0.8362,
          0.8819,
          0.8779,
          0.8734,
          0.8723,
          0.8299,
          0.7977,
          0.8615,
          0.869,
          0.8654,
          0.8352,
          0.8823,
          0.8777,
          0.8705,
          0.8787,
          0.8436,
          0.7606,
          0.8536,
          0.8669,
          0.8575,
          0.8117,
          0.902,
          0.9019,
          0.8713,
          0.8687,
          0.8454,
          0.7622,
          0.8242,
          0.869,
          0.8574,
          0.8199,
          0.8643,
          0.8975,
          0.8618,
          0.8705,
          0.8309,
          0.7518,
          0.8396,
          0.8699,
          0.8623,
          0.8448,
          0.8833,
          0.8917,
          0.8634,
          0.846,
          0.8368,
          0.75,
          0.8429,
          0.8714,
          0.8424,
          0.8525,
          0.8793,
          0.8862,
          0.8762,
          0.8557,
          0.8556,
          0.7471,
          0.8402,
          0.8699,
          0.867,
          0.8515,
          0.8759,
          0.8738,
          0.8744,
          0.8521,
          0.8467,
          0.7486,
          0.8368,
          0.8658,
          0.8476,
          0.8691,
          0.8897,
          0.898,
          0.8831,
          0.8571,
          0.8347,
          0.7288
         ]
        },
        {
         "marker": {
          "color": "green"
         },
         "mode": "markers",
         "name": "Non-Elite",
         "type": "scatter",
         "x": [
          2010,
          2010,
          2010,
          2010,
          2010,
          2010,
          2010,
          2010,
          2010,
          2010,
          2011,
          2011,
          2011,
          2011,
          2011,
          2011,
          2011,
          2011,
          2011,
          2011,
          2012,
          2012,
          2012,
          2012,
          2012,
          2012,
          2012,
          2012,
          2012,
          2012,
          2013,
          2013,
          2013,
          2013,
          2013,
          2013,
          2013,
          2013,
          2013,
          2013,
          2014,
          2014,
          2014,
          2014,
          2014,
          2014,
          2014,
          2014,
          2014,
          2014,
          2015,
          2015,
          2015,
          2015,
          2015,
          2015,
          2015,
          2015,
          2015,
          2015,
          2016,
          2016,
          2016,
          2016,
          2016,
          2016,
          2016,
          2016,
          2016,
          2016,
          2017,
          2017,
          2017,
          2017,
          2017,
          2017,
          2017,
          2017,
          2017,
          2017,
          2018,
          2018,
          2018,
          2018,
          2018,
          2018,
          2018,
          2018,
          2018,
          2018,
          2019,
          2019,
          2019,
          2019,
          2019,
          2019,
          2019,
          2019,
          2019,
          2019,
          2020,
          2020,
          2020,
          2020,
          2020,
          2020,
          2020,
          2020,
          2020,
          2020
         ],
         "y": [
          0.3235,
          0.3429,
          0.213,
          0.3459,
          0.1532,
          0.2606,
          0.1199,
          0.1241,
          0.0703,
          0.1904,
          0.3378,
          0.345,
          0.2404,
          0.3407,
          0.1695,
          0.275,
          0.1382,
          0.1356,
          0.0857,
          0.19,
          0.3637,
          0.343,
          0.2489,
          0.3255,
          0.2035,
          0.2814,
          0.1365,
          0.1622,
          0.0911,
          0.2137,
          0.3602,
          0.3476,
          0.2903,
          0.3248,
          0.1703,
          0.271,
          0.1457,
          0.1726,
          0.1003,
          0.2178,
          0.3988,
          0.3667,
          0.3556,
          0.3512,
          0.2154,
          0.2941,
          0.1464,
          0.1568,
          0.083,
          0.2466,
          0.4006,
          0.3722,
          0.3871,
          0.3704,
          0.1947,
          0.3006,
          0.1398,
          0.2066,
          0.1493,
          0.2589,
          0.4308,
          0.3907,
          0.4272,
          0.4055,
          0.1829,
          0.3162,
          0.1292,
          0.2199,
          0.1606,
          0.2707,
          0.4189,
          0.4229,
          0.4427,
          0.4468,
          0.2153,
          0.3431,
          0.1169,
          0.2265,
          0.2064,
          0.2855,
          0.4504,
          0.421,
          0.513,
          0.4757,
          0.224,
          0.3244,
          0.1345,
          0.2642,
          0.2199,
          0.2899,
          0.4655,
          0.4707,
          0.5515,
          0.474,
          0.209,
          0.347,
          0.1286,
          0.2909,
          0.2378,
          0.2983,
          0.4733,
          0.4851,
          0.5974,
          0.5315,
          0.2276,
          0.3904,
          0.1684,
          0.3278,
          0.2666,
          0.3501
         ]
        }
       ],
       "layout": {
        "height": 600,
        "template": {
         "data": {
          "bar": [
           {
            "error_x": {
             "color": "#2a3f5f"
            },
            "error_y": {
             "color": "#2a3f5f"
            },
            "marker": {
             "line": {
              "color": "#E5ECF6",
              "width": 0.5
             },
             "pattern": {
              "fillmode": "overlay",
              "size": 10,
              "solidity": 0.2
             }
            },
            "type": "bar"
           }
          ],
          "barpolar": [
           {
            "marker": {
             "line": {
              "color": "#E5ECF6",
              "width": 0.5
             },
             "pattern": {
              "fillmode": "overlay",
              "size": 10,
              "solidity": 0.2
             }
            },
            "type": "barpolar"
           }
          ],
          "carpet": [
           {
            "aaxis": {
             "endlinecolor": "#2a3f5f",
             "gridcolor": "white",
             "linecolor": "white",
             "minorgridcolor": "white",
             "startlinecolor": "#2a3f5f"
            },
            "baxis": {
             "endlinecolor": "#2a3f5f",
             "gridcolor": "white",
             "linecolor": "white",
             "minorgridcolor": "white",
             "startlinecolor": "#2a3f5f"
            },
            "type": "carpet"
           }
          ],
          "choropleth": [
           {
            "colorbar": {
             "outlinewidth": 0,
             "ticks": ""
            },
            "type": "choropleth"
           }
          ],
          "contour": [
           {
            "colorbar": {
             "outlinewidth": 0,
             "ticks": ""
            },
            "colorscale": [
             [
              0,
              "#0d0887"
             ],
             [
              0.1111111111111111,
              "#46039f"
             ],
             [
              0.2222222222222222,
              "#7201a8"
             ],
             [
              0.3333333333333333,
              "#9c179e"
             ],
             [
              0.4444444444444444,
              "#bd3786"
             ],
             [
              0.5555555555555556,
              "#d8576b"
             ],
             [
              0.6666666666666666,
              "#ed7953"
             ],
             [
              0.7777777777777778,
              "#fb9f3a"
             ],
             [
              0.8888888888888888,
              "#fdca26"
             ],
             [
              1,
              "#f0f921"
             ]
            ],
            "type": "contour"
           }
          ],
          "contourcarpet": [
           {
            "colorbar": {
             "outlinewidth": 0,
             "ticks": ""
            },
            "type": "contourcarpet"
           }
          ],
          "heatmap": [
           {
            "colorbar": {
             "outlinewidth": 0,
             "ticks": ""
            },
            "colorscale": [
             [
              0,
              "#0d0887"
             ],
             [
              0.1111111111111111,
              "#46039f"
             ],
             [
              0.2222222222222222,
              "#7201a8"
             ],
             [
              0.3333333333333333,
              "#9c179e"
             ],
             [
              0.4444444444444444,
              "#bd3786"
             ],
             [
              0.5555555555555556,
              "#d8576b"
             ],
             [
              0.6666666666666666,
              "#ed7953"
             ],
             [
              0.7777777777777778,
              "#fb9f3a"
             ],
             [
              0.8888888888888888,
              "#fdca26"
             ],
             [
              1,
              "#f0f921"
             ]
            ],
            "type": "heatmap"
           }
          ],
          "heatmapgl": [
           {
            "colorbar": {
             "outlinewidth": 0,
             "ticks": ""
            },
            "colorscale": [
             [
              0,
              "#0d0887"
             ],
             [
              0.1111111111111111,
              "#46039f"
             ],
             [
              0.2222222222222222,
              "#7201a8"
             ],
             [
              0.3333333333333333,
              "#9c179e"
             ],
             [
              0.4444444444444444,
              "#bd3786"
             ],
             [
              0.5555555555555556,
              "#d8576b"
             ],
             [
              0.6666666666666666,
              "#ed7953"
             ],
             [
              0.7777777777777778,
              "#fb9f3a"
             ],
             [
              0.8888888888888888,
              "#fdca26"
             ],
             [
              1,
              "#f0f921"
             ]
            ],
            "type": "heatmapgl"
           }
          ],
          "histogram": [
           {
            "marker": {
             "pattern": {
              "fillmode": "overlay",
              "size": 10,
              "solidity": 0.2
             }
            },
            "type": "histogram"
           }
          ],
          "histogram2d": [
           {
            "colorbar": {
             "outlinewidth": 0,
             "ticks": ""
            },
            "colorscale": [
             [
              0,
              "#0d0887"
             ],
             [
              0.1111111111111111,
              "#46039f"
             ],
             [
              0.2222222222222222,
              "#7201a8"
             ],
             [
              0.3333333333333333,
              "#9c179e"
             ],
             [
              0.4444444444444444,
              "#bd3786"
             ],
             [
              0.5555555555555556,
              "#d8576b"
             ],
             [
              0.6666666666666666,
              "#ed7953"
             ],
             [
              0.7777777777777778,
              "#fb9f3a"
             ],
             [
              0.8888888888888888,
              "#fdca26"
             ],
             [
              1,
              "#f0f921"
             ]
            ],
            "type": "histogram2d"
           }
          ],
          "histogram2dcontour": [
           {
            "colorbar": {
             "outlinewidth": 0,
             "ticks": ""
            },
            "colorscale": [
             [
              0,
              "#0d0887"
             ],
             [
              0.1111111111111111,
              "#46039f"
             ],
             [
              0.2222222222222222,
              "#7201a8"
             ],
             [
              0.3333333333333333,
              "#9c179e"
             ],
             [
              0.4444444444444444,
              "#bd3786"
             ],
             [
              0.5555555555555556,
              "#d8576b"
             ],
             [
              0.6666666666666666,
              "#ed7953"
             ],
             [
              0.7777777777777778,
              "#fb9f3a"
             ],
             [
              0.8888888888888888,
              "#fdca26"
             ],
             [
              1,
              "#f0f921"
             ]
            ],
            "type": "histogram2dcontour"
           }
          ],
          "mesh3d": [
           {
            "colorbar": {
             "outlinewidth": 0,
             "ticks": ""
            },
            "type": "mesh3d"
           }
          ],
          "parcoords": [
           {
            "line": {
             "colorbar": {
              "outlinewidth": 0,
              "ticks": ""
             }
            },
            "type": "parcoords"
           }
          ],
          "pie": [
           {
            "automargin": true,
            "type": "pie"
           }
          ],
          "scatter": [
           {
            "fillpattern": {
             "fillmode": "overlay",
             "size": 10,
             "solidity": 0.2
            },
            "type": "scatter"
           }
          ],
          "scatter3d": [
           {
            "line": {
             "colorbar": {
              "outlinewidth": 0,
              "ticks": ""
             }
            },
            "marker": {
             "colorbar": {
              "outlinewidth": 0,
              "ticks": ""
             }
            },
            "type": "scatter3d"
           }
          ],
          "scattercarpet": [
           {
            "marker": {
             "colorbar": {
              "outlinewidth": 0,
              "ticks": ""
             }
            },
            "type": "scattercarpet"
           }
          ],
          "scattergeo": [
           {
            "marker": {
             "colorbar": {
              "outlinewidth": 0,
              "ticks": ""
             }
            },
            "type": "scattergeo"
           }
          ],
          "scattergl": [
           {
            "marker": {
             "colorbar": {
              "outlinewidth": 0,
              "ticks": ""
             }
            },
            "type": "scattergl"
           }
          ],
          "scattermapbox": [
           {
            "marker": {
             "colorbar": {
              "outlinewidth": 0,
              "ticks": ""
             }
            },
            "type": "scattermapbox"
           }
          ],
          "scatterpolar": [
           {
            "marker": {
             "colorbar": {
              "outlinewidth": 0,
              "ticks": ""
             }
            },
            "type": "scatterpolar"
           }
          ],
          "scatterpolargl": [
           {
            "marker": {
             "colorbar": {
              "outlinewidth": 0,
              "ticks": ""
             }
            },
            "type": "scatterpolargl"
           }
          ],
          "scatterternary": [
           {
            "marker": {
             "colorbar": {
              "outlinewidth": 0,
              "ticks": ""
             }
            },
            "type": "scatterternary"
           }
          ],
          "surface": [
           {
            "colorbar": {
             "outlinewidth": 0,
             "ticks": ""
            },
            "colorscale": [
             [
              0,
              "#0d0887"
             ],
             [
              0.1111111111111111,
              "#46039f"
             ],
             [
              0.2222222222222222,
              "#7201a8"
             ],
             [
              0.3333333333333333,
              "#9c179e"
             ],
             [
              0.4444444444444444,
              "#bd3786"
             ],
             [
              0.5555555555555556,
              "#d8576b"
             ],
             [
              0.6666666666666666,
              "#ed7953"
             ],
             [
              0.7777777777777778,
              "#fb9f3a"
             ],
             [
              0.8888888888888888,
              "#fdca26"
             ],
             [
              1,
              "#f0f921"
             ]
            ],
            "type": "surface"
           }
          ],
          "table": [
           {
            "cells": {
             "fill": {
              "color": "#EBF0F8"
             },
             "line": {
              "color": "white"
             }
            },
            "header": {
             "fill": {
              "color": "#C8D4E3"
             },
             "line": {
              "color": "white"
             }
            },
            "type": "table"
           }
          ]
         },
         "layout": {
          "annotationdefaults": {
           "arrowcolor": "#2a3f5f",
           "arrowhead": 0,
           "arrowwidth": 1
          },
          "autotypenumbers": "strict",
          "coloraxis": {
           "colorbar": {
            "outlinewidth": 0,
            "ticks": ""
           }
          },
          "colorscale": {
           "diverging": [
            [
             0,
             "#8e0152"
            ],
            [
             0.1,
             "#c51b7d"
            ],
            [
             0.2,
             "#de77ae"
            ],
            [
             0.3,
             "#f1b6da"
            ],
            [
             0.4,
             "#fde0ef"
            ],
            [
             0.5,
             "#f7f7f7"
            ],
            [
             0.6,
             "#e6f5d0"
            ],
            [
             0.7,
             "#b8e186"
            ],
            [
             0.8,
             "#7fbc41"
            ],
            [
             0.9,
             "#4d9221"
            ],
            [
             1,
             "#276419"
            ]
           ],
           "sequential": [
            [
             0,
             "#0d0887"
            ],
            [
             0.1111111111111111,
             "#46039f"
            ],
            [
             0.2222222222222222,
             "#7201a8"
            ],
            [
             0.3333333333333333,
             "#9c179e"
            ],
            [
             0.4444444444444444,
             "#bd3786"
            ],
            [
             0.5555555555555556,
             "#d8576b"
            ],
            [
             0.6666666666666666,
             "#ed7953"
            ],
            [
             0.7777777777777778,
             "#fb9f3a"
            ],
            [
             0.8888888888888888,
             "#fdca26"
            ],
            [
             1,
             "#f0f921"
            ]
           ],
           "sequentialminus": [
            [
             0,
             "#0d0887"
            ],
            [
             0.1111111111111111,
             "#46039f"
            ],
            [
             0.2222222222222222,
             "#7201a8"
            ],
            [
             0.3333333333333333,
             "#9c179e"
            ],
            [
             0.4444444444444444,
             "#bd3786"
            ],
            [
             0.5555555555555556,
             "#d8576b"
            ],
            [
             0.6666666666666666,
             "#ed7953"
            ],
            [
             0.7777777777777778,
             "#fb9f3a"
            ],
            [
             0.8888888888888888,
             "#fdca26"
            ],
            [
             1,
             "#f0f921"
            ]
           ]
          },
          "colorway": [
           "#636efa",
           "#EF553B",
           "#00cc96",
           "#ab63fa",
           "#FFA15A",
           "#19d3f3",
           "#FF6692",
           "#B6E880",
           "#FF97FF",
           "#FECB52"
          ],
          "font": {
           "color": "#2a3f5f"
          },
          "geo": {
           "bgcolor": "white",
           "lakecolor": "white",
           "landcolor": "#E5ECF6",
           "showlakes": true,
           "showland": true,
           "subunitcolor": "white"
          },
          "hoverlabel": {
           "align": "left"
          },
          "hovermode": "closest",
          "mapbox": {
           "style": "light"
          },
          "paper_bgcolor": "white",
          "plot_bgcolor": "#E5ECF6",
          "polar": {
           "angularaxis": {
            "gridcolor": "white",
            "linecolor": "white",
            "ticks": ""
           },
           "bgcolor": "#E5ECF6",
           "radialaxis": {
            "gridcolor": "white",
            "linecolor": "white",
            "ticks": ""
           }
          },
          "scene": {
           "xaxis": {
            "backgroundcolor": "#E5ECF6",
            "gridcolor": "white",
            "gridwidth": 2,
            "linecolor": "white",
            "showbackground": true,
            "ticks": "",
            "zerolinecolor": "white"
           },
           "yaxis": {
            "backgroundcolor": "#E5ECF6",
            "gridcolor": "white",
            "gridwidth": 2,
            "linecolor": "white",
            "showbackground": true,
            "ticks": "",
            "zerolinecolor": "white"
           },
           "zaxis": {
            "backgroundcolor": "#E5ECF6",
            "gridcolor": "white",
            "gridwidth": 2,
            "linecolor": "white",
            "showbackground": true,
            "ticks": "",
            "zerolinecolor": "white"
           }
          },
          "shapedefaults": {
           "line": {
            "color": "#2a3f5f"
           }
          },
          "ternary": {
           "aaxis": {
            "gridcolor": "white",
            "linecolor": "white",
            "ticks": ""
           },
           "baxis": {
            "gridcolor": "white",
            "linecolor": "white",
            "ticks": ""
           },
           "bgcolor": "#E5ECF6",
           "caxis": {
            "gridcolor": "white",
            "linecolor": "white",
            "ticks": ""
           }
          },
          "title": {
           "x": 0.05
          },
          "xaxis": {
           "automargin": true,
           "gridcolor": "white",
           "linecolor": "white",
           "ticks": "",
           "title": {
            "standoff": 15
           },
           "zerolinecolor": "white",
           "zerolinewidth": 2
          },
          "yaxis": {
           "automargin": true,
           "gridcolor": "white",
           "linecolor": "white",
           "ticks": "",
           "title": {
            "standoff": 15
           },
           "zerolinecolor": "white",
           "zerolinewidth": 2
          }
         }
        },
        "title": {
         "text": "This graph reflects the percentage of students who complete<br>their course within the expected duration"
        },
        "width": 600,
        "xaxis": {
         "title": {
          "text": "Year"
         }
        },
        "yaxis": {
         "dtick": 0.05,
         "title": {
          "text": "Completion_Rate"
         }
        }
       }
      }
     },
     "metadata": {},
     "output_type": "display_data"
    }
   ],
   "source": [
    "year = completionTier1.index.get_level_values('year')\n",
    "\n",
    "fig = go.Figure()\n",
    "fig.add_trace(go.Scatter(\n",
    "    x=year,\n",
    "    y=completionTier1,\n",
    "    marker_color=\"red\",\n",
    "    mode=\"markers\",\n",
    "    name=\"Elite\"\n",
    "))\n",
    "\n",
    "fig.add_trace(go.Scatter(\n",
    "    x=year,\n",
    "    y=completionTier2,\n",
    "    marker_color=\"green\",\n",
    "    mode=\"markers\",\n",
    "    name=\"Non-Elite\"\n",
    "))\n",
    "fig.update_layout(\n",
    "    yaxis=dict(dtick=0.05,title=\"Completion_Rate\"),\n",
    "    xaxis=dict(title=\"Year\"),\n",
    "    title=\"This graph reflects the percentage of students who complete<br>their course within the expected duration\"\n",
    ")\n",
    "fig.layout.update(dict(width=600, height=600))\n",
    "fig.show()"
   ]
  },
  {
   "cell_type": "markdown",
   "metadata": {},
   "source": [
    "Inferences...."
   ]
  },
  {
   "cell_type": "code",
   "execution_count": 52,
   "metadata": {},
   "outputs": [],
   "source": [
    "# From above 3 charts we can see that:\n",
    "# Since Tier2 have very high acceptance rates as compared to Tier1 and accept students with considerably low SAT scores\n",
    "# There is no-contention for the seats and thus they are accepting everybody who is good or bad, which is not good.\n",
    "# Thus they first need to build a strong reputation by actively engaging in academic conferences, research collaborations with Tier1\n",
    "# institutes.\n",
    "\n",
    "# Tier2 have very low graduation rates as compared to Tier1, which is kind of unusual since they have very high enrollment\n",
    "# Such low level of graduation rates suggest that the quality of education in these institutes is not upto mark, that's probably why students are not able to complete\n",
    "# their course on time.\n",
    "# Thus these institutes need to enhance their quality of education by reviewing and update curriculum regularly to ensure relevance to industry needs and\n",
    "# contemporary knowledge, provide faculty development opportunities through workshops"
   ]
  },
  {
   "cell_type": "markdown",
   "metadata": {},
   "source": [
    "Analysing the differences in the diversity of the students enrolled in Tier-1 and Tier-2 particularly Asians"
   ]
  },
  {
   "cell_type": "code",
   "execution_count": 53,
   "metadata": {},
   "outputs": [
    {
     "data": {
      "text/html": [
       "<div>\n",
       "<style scoped>\n",
       "    .dataframe tbody tr th:only-of-type {\n",
       "        vertical-align: middle;\n",
       "    }\n",
       "\n",
       "    .dataframe tbody tr th {\n",
       "        vertical-align: top;\n",
       "    }\n",
       "\n",
       "    .dataframe thead th {\n",
       "        text-align: right;\n",
       "    }\n",
       "</style>\n",
       "<table border=\"1\" class=\"dataframe\">\n",
       "  <thead>\n",
       "    <tr style=\"text-align: right;\">\n",
       "      <th></th>\n",
       "      <th></th>\n",
       "      <th>INSTNM</th>\n",
       "      <th>MD_EARN_WNE_P6</th>\n",
       "      <th>UGDS_WHITE</th>\n",
       "      <th>UGDS_BLACK</th>\n",
       "      <th>UGDS_ASIAN</th>\n",
       "    </tr>\n",
       "    <tr>\n",
       "      <th>year</th>\n",
       "      <th>rowNum</th>\n",
       "      <th></th>\n",
       "      <th></th>\n",
       "      <th></th>\n",
       "      <th></th>\n",
       "      <th></th>\n",
       "    </tr>\n",
       "  </thead>\n",
       "  <tbody>\n",
       "    <tr>\n",
       "      <th rowspan=\"5\" valign=\"top\">2010</th>\n",
       "      <th>1188</th>\n",
       "      <td>Northwestern University</td>\n",
       "      <td>52800.0</td>\n",
       "      <td>0.501118</td>\n",
       "      <td>0.057455</td>\n",
       "      <td>0.178409</td>\n",
       "    </tr>\n",
       "    <tr>\n",
       "      <th>1738</th>\n",
       "      <td>Johns Hopkins University</td>\n",
       "      <td>61900.0</td>\n",
       "      <td>0.405309</td>\n",
       "      <td>0.062418</td>\n",
       "      <td>0.225018</td>\n",
       "    </tr>\n",
       "    <tr>\n",
       "      <th>1833</th>\n",
       "      <td>Harvard University</td>\n",
       "      <td>71500.0</td>\n",
       "      <td>0.047500</td>\n",
       "      <td>0.005200</td>\n",
       "      <td>0.005600</td>\n",
       "    </tr>\n",
       "    <tr>\n",
       "      <th>1857</th>\n",
       "      <td>Massachusetts Institute of Technology</td>\n",
       "      <td>81900.0</td>\n",
       "      <td>0.363700</td>\n",
       "      <td>0.080800</td>\n",
       "      <td>0.250600</td>\n",
       "    </tr>\n",
       "    <tr>\n",
       "      <th>2297</th>\n",
       "      <td>Washington University in St Louis</td>\n",
       "      <td>53700.0</td>\n",
       "      <td>0.535627</td>\n",
       "      <td>0.070236</td>\n",
       "      <td>0.170036</td>\n",
       "    </tr>\n",
       "    <tr>\n",
       "      <th>...</th>\n",
       "      <th>...</th>\n",
       "      <td>...</td>\n",
       "      <td>...</td>\n",
       "      <td>...</td>\n",
       "      <td>...</td>\n",
       "      <td>...</td>\n",
       "    </tr>\n",
       "    <tr>\n",
       "      <th rowspan=\"5\" valign=\"top\">2020</th>\n",
       "      <th>2004</th>\n",
       "      <td>Princeton University</td>\n",
       "      <td>88273.0</td>\n",
       "      <td>0.402400</td>\n",
       "      <td>0.078900</td>\n",
       "      <td>0.223100</td>\n",
       "    </tr>\n",
       "    <tr>\n",
       "      <th>2365</th>\n",
       "      <td>Duke University</td>\n",
       "      <td>82232.0</td>\n",
       "      <td>0.412900</td>\n",
       "      <td>0.088300</td>\n",
       "      <td>0.210100</td>\n",
       "    </tr>\n",
       "    <tr>\n",
       "      <th>2929</th>\n",
       "      <td>University of Pennsylvania</td>\n",
       "      <td>90173.0</td>\n",
       "      <td>0.399800</td>\n",
       "      <td>0.079900</td>\n",
       "      <td>0.215600</td>\n",
       "    </tr>\n",
       "    <tr>\n",
       "      <th>3008</th>\n",
       "      <td>Brown University</td>\n",
       "      <td>69988.0</td>\n",
       "      <td>0.427700</td>\n",
       "      <td>0.067700</td>\n",
       "      <td>0.166800</td>\n",
       "    </tr>\n",
       "    <tr>\n",
       "      <th>3765</th>\n",
       "      <td>Stanford University</td>\n",
       "      <td>91546.0</td>\n",
       "      <td>0.323700</td>\n",
       "      <td>0.068200</td>\n",
       "      <td>0.227300</td>\n",
       "    </tr>\n",
       "  </tbody>\n",
       "</table>\n",
       "<p>110 rows × 5 columns</p>\n",
       "</div>"
      ],
      "text/plain": [
       "                                            INSTNM  MD_EARN_WNE_P6  \\\n",
       "year rowNum                                                          \n",
       "2010 1188                  Northwestern University         52800.0   \n",
       "     1738                 Johns Hopkins University         61900.0   \n",
       "     1833                       Harvard University         71500.0   \n",
       "     1857    Massachusetts Institute of Technology         81900.0   \n",
       "     2297        Washington University in St Louis         53700.0   \n",
       "...                                            ...             ...   \n",
       "2020 2004                     Princeton University         88273.0   \n",
       "     2365                          Duke University         82232.0   \n",
       "     2929               University of Pennsylvania         90173.0   \n",
       "     3008                         Brown University         69988.0   \n",
       "     3765                      Stanford University         91546.0   \n",
       "\n",
       "             UGDS_WHITE  UGDS_BLACK  UGDS_ASIAN  \n",
       "year rowNum                                      \n",
       "2010 1188      0.501118    0.057455    0.178409  \n",
       "     1738      0.405309    0.062418    0.225018  \n",
       "     1833      0.047500    0.005200    0.005600  \n",
       "     1857      0.363700    0.080800    0.250600  \n",
       "     2297      0.535627    0.070236    0.170036  \n",
       "...                 ...         ...         ...  \n",
       "2020 2004      0.402400    0.078900    0.223100  \n",
       "     2365      0.412900    0.088300    0.210100  \n",
       "     2929      0.399800    0.079900    0.215600  \n",
       "     3008      0.427700    0.067700    0.166800  \n",
       "     3765      0.323700    0.068200    0.227300  \n",
       "\n",
       "[110 rows x 5 columns]"
      ]
     },
     "execution_count": 53,
     "metadata": {},
     "output_type": "execute_result"
    }
   ],
   "source": [
    "# Analyse the diversity in these colleges\n",
    "pd.set_option('display.max_rows', 10)\n",
    "tier1Institutes.loc[2010:2020][['INSTNM', 'MD_EARN_WNE_P6', 'UGDS_WHITE', 'UGDS_BLACK', 'UGDS_ASIAN']]"
   ]
  },
  {
   "cell_type": "code",
   "execution_count": 54,
   "metadata": {},
   "outputs": [],
   "source": [
    "asianByWhiteTier1 = (tier1Institutes['UGDS_ASIAN'])\n",
    "asianByWhiteTier2 = (tier2Institutes['UGDS_ASIAN'])\n",
    "asianByWhiteTier1 = asianByWhiteTier1.loc[2010:2020]\n",
    "asianByWhiteTier2 = asianByWhiteTier2.loc[2010:2020]"
   ]
  },
  {
   "cell_type": "code",
   "execution_count": 55,
   "metadata": {},
   "outputs": [
    {
     "data": {
      "application/vnd.plotly.v1+json": {
       "config": {
        "plotlyServerURL": "https://plot.ly"
       },
       "data": [
        {
         "marker": {
          "color": "red"
         },
         "mode": "markers",
         "name": "Elite",
         "type": "scatter",
         "x": [
          0.1784090909090909,
          0.2250181818181818,
          0.0056,
          0.2506,
          0.17003636363636365,
          0.1575,
          0.21313636363636365,
          0.19630909090909093,
          0.1525,
          0.2056181818181818,
          0.194,
          0.1944,
          0.1512,
          0.2401,
          0.1472,
          0.1688,
          0.2141,
          0.1764,
          0.1457,
          0.1793,
          0.186,
          0.1867,
          0.168,
          0.2418,
          0.1529,
          0.1773,
          0.2094,
          0.179,
          0.1352,
          0.1815,
          0.1795,
          0.1809,
          0.1751,
          0.2419,
          0.1661,
          0.1922,
          0.2058,
          0.1819,
          0.1213,
          0.1897,
          0.1704,
          0.1861,
          0.1777,
          0.2404,
          0.1738,
          0.2008,
          0.2124,
          0.1815,
          0.1233,
          0.1908,
          0.1693,
          0.204,
          0.1801,
          0.246,
          0.1807,
          0.2086,
          0.2148,
          0.189,
          0.1285,
          0.1979,
          0.174,
          0.2221,
          0.1851,
          0.2501,
          0.1859,
          0.215,
          0.2157,
          0.192,
          0.1332,
          0.2047,
          0.1711,
          0.2448,
          0.1881,
          0.2589,
          0.1809,
          0.2135,
          0.2165,
          0.1977,
          0.141,
          0.2068,
          0.1695,
          0.2587,
          0.1888,
          0.2662,
          0.1732,
          0.2144,
          0.2109,
          0.2005,
          0.1477,
          0.2167,
          0.1734,
          0.2612,
          0.1922,
          0.2787,
          0.1642,
          0.2143,
          0.2204,
          0.2074,
          0.1545,
          0.2191,
          0.1815,
          0.2646,
          0.1993,
          0.2967,
          0.1636,
          0.2231,
          0.2101,
          0.2156,
          0.1668,
          0.2273
         ],
         "y": [
          52800,
          61900,
          71500,
          81900,
          53700,
          60900,
          63700,
          67300,
          46000,
          71000,
          50730,
          57475,
          68685,
          74005,
          47690,
          45885,
          63555,
          64030,
          42370,
          70205,
          53400,
          60500,
          72300,
          77900,
          50200,
          48300,
          66900,
          67400,
          44600,
          73900,
          54800,
          60900,
          68900,
          77900,
          50600,
          52400,
          66400,
          67200,
          45200,
          71000,
          57300,
          62700,
          69700,
          79800,
          53800,
          58300,
          68800,
          67500,
          49600,
          71800,
          58900,
          62700,
          70300,
          82200,
          56500,
          60800,
          76300,
          71600,
          52500,
          70400,
          64473.65,
          71647.1,
          73925.2,
          106991.85,
          61315.85,
          80477.35,
          73397,
          76422.75,
          57323.95,
          84429.35,
          64473.65,
          71647.1,
          73925.2,
          106991.85,
          61315.85,
          80477.35,
          73397,
          76422.75,
          57323.95,
          84429.35,
          64473.65,
          71647.1,
          73925.2,
          106991.85,
          61315.85,
          80477.35,
          73397,
          76422.75,
          57323.95,
          84429.35,
          67867,
          75418,
          77816,
          112623,
          64543,
          84713,
          77260,
          80445,
          60341,
          88873,
          72370,
          83890,
          87213,
          118516,
          75755,
          88273,
          82232,
          90173,
          69988,
          91546
         ]
        },
        {
         "marker": {
          "color": "green"
         },
         "mode": "markers",
         "name": "Non-Elite",
         "type": "scatter",
         "x": [
          0.0545,
          0.0259,
          0.06583636363636364,
          0.010527272727272727,
          0.0636,
          0.011509090909090912,
          0.1536,
          0.0552,
          0.029790909090909094,
          0.058909090909090904,
          0.0509,
          0.0251,
          0.0639,
          0.0066,
          0.0643,
          0.0086,
          0.153,
          0.0606,
          0.0244,
          0.0544,
          0.0565,
          0.0255,
          0.0611,
          0.0071,
          0.0628,
          0.0105,
          0.1628,
          0.0584,
          0.0248,
          0.0531,
          0.0556,
          0.0259,
          0.0611,
          0.0083,
          0.066,
          0.0104,
          0.1607,
          0.0629,
          0.0243,
          0.0514,
          0.0561,
          0.0237,
          0.0603,
          0.0082,
          0.0695,
          0.0099,
          0.1634,
          0.0656,
          0.0245,
          0.0535,
          0.0555,
          0.0251,
          0.0622,
          0.0101,
          0.07,
          0.0099,
          0.1549,
          0.0685,
          0.0285,
          0.055,
          0.0566,
          0.0248,
          0.0636,
          0.0104,
          0.0718,
          0.0105,
          0.1526,
          0.0723,
          0.0311,
          0.0554,
          0.0546,
          0.0244,
          0.0682,
          0.0112,
          0.0734,
          0.0121,
          0.1554,
          0.0726,
          0.035,
          0.0576,
          0.054,
          0.0249,
          0.069,
          0.0118,
          0.0723,
          0.013,
          0.1562,
          0.0789,
          0.0337,
          0.0609,
          0.0526,
          0.025,
          0.0706,
          0.012,
          0.0725,
          0.0138,
          0.1588,
          0.0817,
          0.0339,
          0.0642,
          0.0532,
          0.0255,
          0.0727,
          0.0131,
          0.0734,
          0.0145,
          0.1661,
          0.0823,
          0.0342,
          0.0699
         ],
         "y": [
          35700,
          34800,
          35400,
          33000,
          34900,
          32900,
          35600,
          38600,
          33400,
          36400,
          31825,
          32775,
          31350,
          29355,
          30875,
          31920,
          32110,
          33440,
          30305,
          32965,
          33500,
          34500,
          33000,
          30900,
          32500,
          33600,
          33800,
          35200,
          31900,
          34700,
          33300,
          34300,
          33300,
          31100,
          33700,
          32800,
          34700,
          34500,
          32200,
          34300,
          34800,
          35300,
          34600,
          31900,
          35000,
          33400,
          35600,
          35300,
          32800,
          35500,
          36900,
          37100,
          36800,
          34000,
          36000,
          35400,
          36500,
          37700,
          34100,
          37600,
          41594.8,
          41616.65,
          41141.65,
          38338.2,
          37996.2,
          38198.55,
          40690.4,
          42049.85,
          38721.05,
          41034.3,
          41594.8,
          41616.65,
          41141.65,
          38338.2,
          37996.2,
          38198.55,
          40690.4,
          42049.85,
          38721.05,
          41034.3,
          41594.8,
          41616.65,
          41141.65,
          38338.2,
          37996.2,
          38198.55,
          40690.4,
          42049.85,
          38721.05,
          41034.3,
          43784,
          43807,
          43307,
          40356,
          39996,
          40209,
          42832,
          44263,
          40759,
          43194,
          47045,
          46655,
          45961,
          42460,
          42275,
          42884,
          43306,
          46774,
          42284,
          45431
         ]
        }
       ],
       "layout": {
        "height": 600,
        "template": {
         "data": {
          "bar": [
           {
            "error_x": {
             "color": "#2a3f5f"
            },
            "error_y": {
             "color": "#2a3f5f"
            },
            "marker": {
             "line": {
              "color": "#E5ECF6",
              "width": 0.5
             },
             "pattern": {
              "fillmode": "overlay",
              "size": 10,
              "solidity": 0.2
             }
            },
            "type": "bar"
           }
          ],
          "barpolar": [
           {
            "marker": {
             "line": {
              "color": "#E5ECF6",
              "width": 0.5
             },
             "pattern": {
              "fillmode": "overlay",
              "size": 10,
              "solidity": 0.2
             }
            },
            "type": "barpolar"
           }
          ],
          "carpet": [
           {
            "aaxis": {
             "endlinecolor": "#2a3f5f",
             "gridcolor": "white",
             "linecolor": "white",
             "minorgridcolor": "white",
             "startlinecolor": "#2a3f5f"
            },
            "baxis": {
             "endlinecolor": "#2a3f5f",
             "gridcolor": "white",
             "linecolor": "white",
             "minorgridcolor": "white",
             "startlinecolor": "#2a3f5f"
            },
            "type": "carpet"
           }
          ],
          "choropleth": [
           {
            "colorbar": {
             "outlinewidth": 0,
             "ticks": ""
            },
            "type": "choropleth"
           }
          ],
          "contour": [
           {
            "colorbar": {
             "outlinewidth": 0,
             "ticks": ""
            },
            "colorscale": [
             [
              0,
              "#0d0887"
             ],
             [
              0.1111111111111111,
              "#46039f"
             ],
             [
              0.2222222222222222,
              "#7201a8"
             ],
             [
              0.3333333333333333,
              "#9c179e"
             ],
             [
              0.4444444444444444,
              "#bd3786"
             ],
             [
              0.5555555555555556,
              "#d8576b"
             ],
             [
              0.6666666666666666,
              "#ed7953"
             ],
             [
              0.7777777777777778,
              "#fb9f3a"
             ],
             [
              0.8888888888888888,
              "#fdca26"
             ],
             [
              1,
              "#f0f921"
             ]
            ],
            "type": "contour"
           }
          ],
          "contourcarpet": [
           {
            "colorbar": {
             "outlinewidth": 0,
             "ticks": ""
            },
            "type": "contourcarpet"
           }
          ],
          "heatmap": [
           {
            "colorbar": {
             "outlinewidth": 0,
             "ticks": ""
            },
            "colorscale": [
             [
              0,
              "#0d0887"
             ],
             [
              0.1111111111111111,
              "#46039f"
             ],
             [
              0.2222222222222222,
              "#7201a8"
             ],
             [
              0.3333333333333333,
              "#9c179e"
             ],
             [
              0.4444444444444444,
              "#bd3786"
             ],
             [
              0.5555555555555556,
              "#d8576b"
             ],
             [
              0.6666666666666666,
              "#ed7953"
             ],
             [
              0.7777777777777778,
              "#fb9f3a"
             ],
             [
              0.8888888888888888,
              "#fdca26"
             ],
             [
              1,
              "#f0f921"
             ]
            ],
            "type": "heatmap"
           }
          ],
          "heatmapgl": [
           {
            "colorbar": {
             "outlinewidth": 0,
             "ticks": ""
            },
            "colorscale": [
             [
              0,
              "#0d0887"
             ],
             [
              0.1111111111111111,
              "#46039f"
             ],
             [
              0.2222222222222222,
              "#7201a8"
             ],
             [
              0.3333333333333333,
              "#9c179e"
             ],
             [
              0.4444444444444444,
              "#bd3786"
             ],
             [
              0.5555555555555556,
              "#d8576b"
             ],
             [
              0.6666666666666666,
              "#ed7953"
             ],
             [
              0.7777777777777778,
              "#fb9f3a"
             ],
             [
              0.8888888888888888,
              "#fdca26"
             ],
             [
              1,
              "#f0f921"
             ]
            ],
            "type": "heatmapgl"
           }
          ],
          "histogram": [
           {
            "marker": {
             "pattern": {
              "fillmode": "overlay",
              "size": 10,
              "solidity": 0.2
             }
            },
            "type": "histogram"
           }
          ],
          "histogram2d": [
           {
            "colorbar": {
             "outlinewidth": 0,
             "ticks": ""
            },
            "colorscale": [
             [
              0,
              "#0d0887"
             ],
             [
              0.1111111111111111,
              "#46039f"
             ],
             [
              0.2222222222222222,
              "#7201a8"
             ],
             [
              0.3333333333333333,
              "#9c179e"
             ],
             [
              0.4444444444444444,
              "#bd3786"
             ],
             [
              0.5555555555555556,
              "#d8576b"
             ],
             [
              0.6666666666666666,
              "#ed7953"
             ],
             [
              0.7777777777777778,
              "#fb9f3a"
             ],
             [
              0.8888888888888888,
              "#fdca26"
             ],
             [
              1,
              "#f0f921"
             ]
            ],
            "type": "histogram2d"
           }
          ],
          "histogram2dcontour": [
           {
            "colorbar": {
             "outlinewidth": 0,
             "ticks": ""
            },
            "colorscale": [
             [
              0,
              "#0d0887"
             ],
             [
              0.1111111111111111,
              "#46039f"
             ],
             [
              0.2222222222222222,
              "#7201a8"
             ],
             [
              0.3333333333333333,
              "#9c179e"
             ],
             [
              0.4444444444444444,
              "#bd3786"
             ],
             [
              0.5555555555555556,
              "#d8576b"
             ],
             [
              0.6666666666666666,
              "#ed7953"
             ],
             [
              0.7777777777777778,
              "#fb9f3a"
             ],
             [
              0.8888888888888888,
              "#fdca26"
             ],
             [
              1,
              "#f0f921"
             ]
            ],
            "type": "histogram2dcontour"
           }
          ],
          "mesh3d": [
           {
            "colorbar": {
             "outlinewidth": 0,
             "ticks": ""
            },
            "type": "mesh3d"
           }
          ],
          "parcoords": [
           {
            "line": {
             "colorbar": {
              "outlinewidth": 0,
              "ticks": ""
             }
            },
            "type": "parcoords"
           }
          ],
          "pie": [
           {
            "automargin": true,
            "type": "pie"
           }
          ],
          "scatter": [
           {
            "fillpattern": {
             "fillmode": "overlay",
             "size": 10,
             "solidity": 0.2
            },
            "type": "scatter"
           }
          ],
          "scatter3d": [
           {
            "line": {
             "colorbar": {
              "outlinewidth": 0,
              "ticks": ""
             }
            },
            "marker": {
             "colorbar": {
              "outlinewidth": 0,
              "ticks": ""
             }
            },
            "type": "scatter3d"
           }
          ],
          "scattercarpet": [
           {
            "marker": {
             "colorbar": {
              "outlinewidth": 0,
              "ticks": ""
             }
            },
            "type": "scattercarpet"
           }
          ],
          "scattergeo": [
           {
            "marker": {
             "colorbar": {
              "outlinewidth": 0,
              "ticks": ""
             }
            },
            "type": "scattergeo"
           }
          ],
          "scattergl": [
           {
            "marker": {
             "colorbar": {
              "outlinewidth": 0,
              "ticks": ""
             }
            },
            "type": "scattergl"
           }
          ],
          "scattermapbox": [
           {
            "marker": {
             "colorbar": {
              "outlinewidth": 0,
              "ticks": ""
             }
            },
            "type": "scattermapbox"
           }
          ],
          "scatterpolar": [
           {
            "marker": {
             "colorbar": {
              "outlinewidth": 0,
              "ticks": ""
             }
            },
            "type": "scatterpolar"
           }
          ],
          "scatterpolargl": [
           {
            "marker": {
             "colorbar": {
              "outlinewidth": 0,
              "ticks": ""
             }
            },
            "type": "scatterpolargl"
           }
          ],
          "scatterternary": [
           {
            "marker": {
             "colorbar": {
              "outlinewidth": 0,
              "ticks": ""
             }
            },
            "type": "scatterternary"
           }
          ],
          "surface": [
           {
            "colorbar": {
             "outlinewidth": 0,
             "ticks": ""
            },
            "colorscale": [
             [
              0,
              "#0d0887"
             ],
             [
              0.1111111111111111,
              "#46039f"
             ],
             [
              0.2222222222222222,
              "#7201a8"
             ],
             [
              0.3333333333333333,
              "#9c179e"
             ],
             [
              0.4444444444444444,
              "#bd3786"
             ],
             [
              0.5555555555555556,
              "#d8576b"
             ],
             [
              0.6666666666666666,
              "#ed7953"
             ],
             [
              0.7777777777777778,
              "#fb9f3a"
             ],
             [
              0.8888888888888888,
              "#fdca26"
             ],
             [
              1,
              "#f0f921"
             ]
            ],
            "type": "surface"
           }
          ],
          "table": [
           {
            "cells": {
             "fill": {
              "color": "#EBF0F8"
             },
             "line": {
              "color": "white"
             }
            },
            "header": {
             "fill": {
              "color": "#C8D4E3"
             },
             "line": {
              "color": "white"
             }
            },
            "type": "table"
           }
          ]
         },
         "layout": {
          "annotationdefaults": {
           "arrowcolor": "#2a3f5f",
           "arrowhead": 0,
           "arrowwidth": 1
          },
          "autotypenumbers": "strict",
          "coloraxis": {
           "colorbar": {
            "outlinewidth": 0,
            "ticks": ""
           }
          },
          "colorscale": {
           "diverging": [
            [
             0,
             "#8e0152"
            ],
            [
             0.1,
             "#c51b7d"
            ],
            [
             0.2,
             "#de77ae"
            ],
            [
             0.3,
             "#f1b6da"
            ],
            [
             0.4,
             "#fde0ef"
            ],
            [
             0.5,
             "#f7f7f7"
            ],
            [
             0.6,
             "#e6f5d0"
            ],
            [
             0.7,
             "#b8e186"
            ],
            [
             0.8,
             "#7fbc41"
            ],
            [
             0.9,
             "#4d9221"
            ],
            [
             1,
             "#276419"
            ]
           ],
           "sequential": [
            [
             0,
             "#0d0887"
            ],
            [
             0.1111111111111111,
             "#46039f"
            ],
            [
             0.2222222222222222,
             "#7201a8"
            ],
            [
             0.3333333333333333,
             "#9c179e"
            ],
            [
             0.4444444444444444,
             "#bd3786"
            ],
            [
             0.5555555555555556,
             "#d8576b"
            ],
            [
             0.6666666666666666,
             "#ed7953"
            ],
            [
             0.7777777777777778,
             "#fb9f3a"
            ],
            [
             0.8888888888888888,
             "#fdca26"
            ],
            [
             1,
             "#f0f921"
            ]
           ],
           "sequentialminus": [
            [
             0,
             "#0d0887"
            ],
            [
             0.1111111111111111,
             "#46039f"
            ],
            [
             0.2222222222222222,
             "#7201a8"
            ],
            [
             0.3333333333333333,
             "#9c179e"
            ],
            [
             0.4444444444444444,
             "#bd3786"
            ],
            [
             0.5555555555555556,
             "#d8576b"
            ],
            [
             0.6666666666666666,
             "#ed7953"
            ],
            [
             0.7777777777777778,
             "#fb9f3a"
            ],
            [
             0.8888888888888888,
             "#fdca26"
            ],
            [
             1,
             "#f0f921"
            ]
           ]
          },
          "colorway": [
           "#636efa",
           "#EF553B",
           "#00cc96",
           "#ab63fa",
           "#FFA15A",
           "#19d3f3",
           "#FF6692",
           "#B6E880",
           "#FF97FF",
           "#FECB52"
          ],
          "font": {
           "color": "#2a3f5f"
          },
          "geo": {
           "bgcolor": "white",
           "lakecolor": "white",
           "landcolor": "#E5ECF6",
           "showlakes": true,
           "showland": true,
           "subunitcolor": "white"
          },
          "hoverlabel": {
           "align": "left"
          },
          "hovermode": "closest",
          "mapbox": {
           "style": "light"
          },
          "paper_bgcolor": "white",
          "plot_bgcolor": "#E5ECF6",
          "polar": {
           "angularaxis": {
            "gridcolor": "white",
            "linecolor": "white",
            "ticks": ""
           },
           "bgcolor": "#E5ECF6",
           "radialaxis": {
            "gridcolor": "white",
            "linecolor": "white",
            "ticks": ""
           }
          },
          "scene": {
           "xaxis": {
            "backgroundcolor": "#E5ECF6",
            "gridcolor": "white",
            "gridwidth": 2,
            "linecolor": "white",
            "showbackground": true,
            "ticks": "",
            "zerolinecolor": "white"
           },
           "yaxis": {
            "backgroundcolor": "#E5ECF6",
            "gridcolor": "white",
            "gridwidth": 2,
            "linecolor": "white",
            "showbackground": true,
            "ticks": "",
            "zerolinecolor": "white"
           },
           "zaxis": {
            "backgroundcolor": "#E5ECF6",
            "gridcolor": "white",
            "gridwidth": 2,
            "linecolor": "white",
            "showbackground": true,
            "ticks": "",
            "zerolinecolor": "white"
           }
          },
          "shapedefaults": {
           "line": {
            "color": "#2a3f5f"
           }
          },
          "ternary": {
           "aaxis": {
            "gridcolor": "white",
            "linecolor": "white",
            "ticks": ""
           },
           "baxis": {
            "gridcolor": "white",
            "linecolor": "white",
            "ticks": ""
           },
           "bgcolor": "#E5ECF6",
           "caxis": {
            "gridcolor": "white",
            "linecolor": "white",
            "ticks": ""
           }
          },
          "title": {
           "x": 0.05
          },
          "xaxis": {
           "automargin": true,
           "gridcolor": "white",
           "linecolor": "white",
           "ticks": "",
           "title": {
            "standoff": 15
           },
           "zerolinecolor": "white",
           "zerolinewidth": 2
          },
          "yaxis": {
           "automargin": true,
           "gridcolor": "white",
           "linecolor": "white",
           "ticks": "",
           "title": {
            "standoff": 15
           },
           "zerolinecolor": "white",
           "zerolinewidth": 2
          }
         }
        },
        "width": 600,
        "xaxis": {
         "title": {
          "text": "Fraction of Asian Students"
         }
        },
        "yaxis": {
         "title": {
          "text": "Median_Income(2010-2020)"
         }
        }
       }
      }
     },
     "metadata": {},
     "output_type": "display_data"
    }
   ],
   "source": [
    "fig = go.Figure()\n",
    "fig.add_trace(go.Scatter(\n",
    "    x=asianByWhiteTier1,\n",
    "    y=tier1Institutes['MD_EARN_WNE_P6'].loc[2010:2020],\n",
    "    marker_color=\"red\",\n",
    "    mode=\"markers\",\n",
    "    name=\"Elite\"\n",
    "))\n",
    "\n",
    "fig.add_trace(go.Scatter(\n",
    "    x=asianByWhiteTier2,\n",
    "    y=tier2Institutes['MD_EARN_WNE_P6'].loc[2010:2020],\n",
    "    marker_color=\"green\",\n",
    "    mode=\"markers\",\n",
    "    name=\"Non-Elite\"\n",
    "))\n",
    "fig.update_layout(\n",
    "    yaxis=dict(title=\"Median_Income(2010-2020)\"),\n",
    "    xaxis=dict(title=\"Fraction of Asian Students\"),\n",
    ")\n",
    "fig.layout.update(dict(width=600, height=600))\n",
    "fig.show()\n"
   ]
  },
  {
   "cell_type": "markdown",
   "metadata": {},
   "source": [
    "Inferences..."
   ]
  },
  {
   "cell_type": "code",
   "execution_count": 56,
   "metadata": {},
   "outputs": [],
   "source": [
    "# We can see that as the number of asian-students increase the median-income of institutions have gradually increased\n",
    "# Tier1 have high percentages of asian-students as compared to Tier2\n",
    "# Tier2 need to increase the diversity of students in their colleges.\n",
    "# Tier2 may engage on social media platforms that are popular in different countries, as well as websites, podcasts\n",
    "# Create scholarship programs specifically targeting students from other countries."
   ]
  },
  {
   "cell_type": "code",
   "execution_count": 57,
   "metadata": {},
   "outputs": [],
   "source": [
    "# Analysing the loans-given and the cost of attendance for the students of various income brackets\n",
    "loansTier1 = tier1Institutes['FTFTPCTFLOAN'].groupby(level='year').mean()\n",
    "loansTier2 = tier2Institutes['FTFTPCTFLOAN'].groupby(level='year').mean()"
   ]
  },
  {
   "cell_type": "code",
   "execution_count": 58,
   "metadata": {},
   "outputs": [
    {
     "data": {
      "application/vnd.plotly.v1+json": {
       "config": {
        "plotlyServerURL": "https://plot.ly"
       },
       "data": [
        {
         "mode": "lines",
         "name": "Elite",
         "type": "scatter",
         "x": [
          2010,
          2011,
          2012,
          2013,
          2014,
          2015,
          2016,
          2017,
          2018,
          2019,
          2020
         ],
         "y": [
          0.2084,
          0.23279,
          0.23601999999999998,
          0.19629000000000002,
          0.20495000000000002,
          0.19333,
          0.19888999999999998,
          0.1802,
          0.16888,
          0.14717,
          0.13430999999999998
         ]
        },
        {
         "line": {
          "dash": "dash"
         },
         "mode": "lines",
         "name": "Non-Elite",
         "type": "scatter",
         "x": [
          2010,
          2011,
          2012,
          2013,
          2014,
          2015,
          2016,
          2017,
          2018,
          2019,
          2020
         ],
         "y": [
          0.41247,
          0.4551,
          0.5063,
          0.52447,
          0.4722799999999999,
          0.47144,
          0.47473,
          0.46453,
          0.4681,
          0.44931,
          0.43759
         ]
        }
       ],
       "layout": {
        "height": 400,
        "template": {
         "data": {
          "bar": [
           {
            "error_x": {
             "color": "#2a3f5f"
            },
            "error_y": {
             "color": "#2a3f5f"
            },
            "marker": {
             "line": {
              "color": "#E5ECF6",
              "width": 0.5
             },
             "pattern": {
              "fillmode": "overlay",
              "size": 10,
              "solidity": 0.2
             }
            },
            "type": "bar"
           }
          ],
          "barpolar": [
           {
            "marker": {
             "line": {
              "color": "#E5ECF6",
              "width": 0.5
             },
             "pattern": {
              "fillmode": "overlay",
              "size": 10,
              "solidity": 0.2
             }
            },
            "type": "barpolar"
           }
          ],
          "carpet": [
           {
            "aaxis": {
             "endlinecolor": "#2a3f5f",
             "gridcolor": "white",
             "linecolor": "white",
             "minorgridcolor": "white",
             "startlinecolor": "#2a3f5f"
            },
            "baxis": {
             "endlinecolor": "#2a3f5f",
             "gridcolor": "white",
             "linecolor": "white",
             "minorgridcolor": "white",
             "startlinecolor": "#2a3f5f"
            },
            "type": "carpet"
           }
          ],
          "choropleth": [
           {
            "colorbar": {
             "outlinewidth": 0,
             "ticks": ""
            },
            "type": "choropleth"
           }
          ],
          "contour": [
           {
            "colorbar": {
             "outlinewidth": 0,
             "ticks": ""
            },
            "colorscale": [
             [
              0,
              "#0d0887"
             ],
             [
              0.1111111111111111,
              "#46039f"
             ],
             [
              0.2222222222222222,
              "#7201a8"
             ],
             [
              0.3333333333333333,
              "#9c179e"
             ],
             [
              0.4444444444444444,
              "#bd3786"
             ],
             [
              0.5555555555555556,
              "#d8576b"
             ],
             [
              0.6666666666666666,
              "#ed7953"
             ],
             [
              0.7777777777777778,
              "#fb9f3a"
             ],
             [
              0.8888888888888888,
              "#fdca26"
             ],
             [
              1,
              "#f0f921"
             ]
            ],
            "type": "contour"
           }
          ],
          "contourcarpet": [
           {
            "colorbar": {
             "outlinewidth": 0,
             "ticks": ""
            },
            "type": "contourcarpet"
           }
          ],
          "heatmap": [
           {
            "colorbar": {
             "outlinewidth": 0,
             "ticks": ""
            },
            "colorscale": [
             [
              0,
              "#0d0887"
             ],
             [
              0.1111111111111111,
              "#46039f"
             ],
             [
              0.2222222222222222,
              "#7201a8"
             ],
             [
              0.3333333333333333,
              "#9c179e"
             ],
             [
              0.4444444444444444,
              "#bd3786"
             ],
             [
              0.5555555555555556,
              "#d8576b"
             ],
             [
              0.6666666666666666,
              "#ed7953"
             ],
             [
              0.7777777777777778,
              "#fb9f3a"
             ],
             [
              0.8888888888888888,
              "#fdca26"
             ],
             [
              1,
              "#f0f921"
             ]
            ],
            "type": "heatmap"
           }
          ],
          "heatmapgl": [
           {
            "colorbar": {
             "outlinewidth": 0,
             "ticks": ""
            },
            "colorscale": [
             [
              0,
              "#0d0887"
             ],
             [
              0.1111111111111111,
              "#46039f"
             ],
             [
              0.2222222222222222,
              "#7201a8"
             ],
             [
              0.3333333333333333,
              "#9c179e"
             ],
             [
              0.4444444444444444,
              "#bd3786"
             ],
             [
              0.5555555555555556,
              "#d8576b"
             ],
             [
              0.6666666666666666,
              "#ed7953"
             ],
             [
              0.7777777777777778,
              "#fb9f3a"
             ],
             [
              0.8888888888888888,
              "#fdca26"
             ],
             [
              1,
              "#f0f921"
             ]
            ],
            "type": "heatmapgl"
           }
          ],
          "histogram": [
           {
            "marker": {
             "pattern": {
              "fillmode": "overlay",
              "size": 10,
              "solidity": 0.2
             }
            },
            "type": "histogram"
           }
          ],
          "histogram2d": [
           {
            "colorbar": {
             "outlinewidth": 0,
             "ticks": ""
            },
            "colorscale": [
             [
              0,
              "#0d0887"
             ],
             [
              0.1111111111111111,
              "#46039f"
             ],
             [
              0.2222222222222222,
              "#7201a8"
             ],
             [
              0.3333333333333333,
              "#9c179e"
             ],
             [
              0.4444444444444444,
              "#bd3786"
             ],
             [
              0.5555555555555556,
              "#d8576b"
             ],
             [
              0.6666666666666666,
              "#ed7953"
             ],
             [
              0.7777777777777778,
              "#fb9f3a"
             ],
             [
              0.8888888888888888,
              "#fdca26"
             ],
             [
              1,
              "#f0f921"
             ]
            ],
            "type": "histogram2d"
           }
          ],
          "histogram2dcontour": [
           {
            "colorbar": {
             "outlinewidth": 0,
             "ticks": ""
            },
            "colorscale": [
             [
              0,
              "#0d0887"
             ],
             [
              0.1111111111111111,
              "#46039f"
             ],
             [
              0.2222222222222222,
              "#7201a8"
             ],
             [
              0.3333333333333333,
              "#9c179e"
             ],
             [
              0.4444444444444444,
              "#bd3786"
             ],
             [
              0.5555555555555556,
              "#d8576b"
             ],
             [
              0.6666666666666666,
              "#ed7953"
             ],
             [
              0.7777777777777778,
              "#fb9f3a"
             ],
             [
              0.8888888888888888,
              "#fdca26"
             ],
             [
              1,
              "#f0f921"
             ]
            ],
            "type": "histogram2dcontour"
           }
          ],
          "mesh3d": [
           {
            "colorbar": {
             "outlinewidth": 0,
             "ticks": ""
            },
            "type": "mesh3d"
           }
          ],
          "parcoords": [
           {
            "line": {
             "colorbar": {
              "outlinewidth": 0,
              "ticks": ""
             }
            },
            "type": "parcoords"
           }
          ],
          "pie": [
           {
            "automargin": true,
            "type": "pie"
           }
          ],
          "scatter": [
           {
            "fillpattern": {
             "fillmode": "overlay",
             "size": 10,
             "solidity": 0.2
            },
            "type": "scatter"
           }
          ],
          "scatter3d": [
           {
            "line": {
             "colorbar": {
              "outlinewidth": 0,
              "ticks": ""
             }
            },
            "marker": {
             "colorbar": {
              "outlinewidth": 0,
              "ticks": ""
             }
            },
            "type": "scatter3d"
           }
          ],
          "scattercarpet": [
           {
            "marker": {
             "colorbar": {
              "outlinewidth": 0,
              "ticks": ""
             }
            },
            "type": "scattercarpet"
           }
          ],
          "scattergeo": [
           {
            "marker": {
             "colorbar": {
              "outlinewidth": 0,
              "ticks": ""
             }
            },
            "type": "scattergeo"
           }
          ],
          "scattergl": [
           {
            "marker": {
             "colorbar": {
              "outlinewidth": 0,
              "ticks": ""
             }
            },
            "type": "scattergl"
           }
          ],
          "scattermapbox": [
           {
            "marker": {
             "colorbar": {
              "outlinewidth": 0,
              "ticks": ""
             }
            },
            "type": "scattermapbox"
           }
          ],
          "scatterpolar": [
           {
            "marker": {
             "colorbar": {
              "outlinewidth": 0,
              "ticks": ""
             }
            },
            "type": "scatterpolar"
           }
          ],
          "scatterpolargl": [
           {
            "marker": {
             "colorbar": {
              "outlinewidth": 0,
              "ticks": ""
             }
            },
            "type": "scatterpolargl"
           }
          ],
          "scatterternary": [
           {
            "marker": {
             "colorbar": {
              "outlinewidth": 0,
              "ticks": ""
             }
            },
            "type": "scatterternary"
           }
          ],
          "surface": [
           {
            "colorbar": {
             "outlinewidth": 0,
             "ticks": ""
            },
            "colorscale": [
             [
              0,
              "#0d0887"
             ],
             [
              0.1111111111111111,
              "#46039f"
             ],
             [
              0.2222222222222222,
              "#7201a8"
             ],
             [
              0.3333333333333333,
              "#9c179e"
             ],
             [
              0.4444444444444444,
              "#bd3786"
             ],
             [
              0.5555555555555556,
              "#d8576b"
             ],
             [
              0.6666666666666666,
              "#ed7953"
             ],
             [
              0.7777777777777778,
              "#fb9f3a"
             ],
             [
              0.8888888888888888,
              "#fdca26"
             ],
             [
              1,
              "#f0f921"
             ]
            ],
            "type": "surface"
           }
          ],
          "table": [
           {
            "cells": {
             "fill": {
              "color": "#EBF0F8"
             },
             "line": {
              "color": "white"
             }
            },
            "header": {
             "fill": {
              "color": "#C8D4E3"
             },
             "line": {
              "color": "white"
             }
            },
            "type": "table"
           }
          ]
         },
         "layout": {
          "annotationdefaults": {
           "arrowcolor": "#2a3f5f",
           "arrowhead": 0,
           "arrowwidth": 1
          },
          "autotypenumbers": "strict",
          "coloraxis": {
           "colorbar": {
            "outlinewidth": 0,
            "ticks": ""
           }
          },
          "colorscale": {
           "diverging": [
            [
             0,
             "#8e0152"
            ],
            [
             0.1,
             "#c51b7d"
            ],
            [
             0.2,
             "#de77ae"
            ],
            [
             0.3,
             "#f1b6da"
            ],
            [
             0.4,
             "#fde0ef"
            ],
            [
             0.5,
             "#f7f7f7"
            ],
            [
             0.6,
             "#e6f5d0"
            ],
            [
             0.7,
             "#b8e186"
            ],
            [
             0.8,
             "#7fbc41"
            ],
            [
             0.9,
             "#4d9221"
            ],
            [
             1,
             "#276419"
            ]
           ],
           "sequential": [
            [
             0,
             "#0d0887"
            ],
            [
             0.1111111111111111,
             "#46039f"
            ],
            [
             0.2222222222222222,
             "#7201a8"
            ],
            [
             0.3333333333333333,
             "#9c179e"
            ],
            [
             0.4444444444444444,
             "#bd3786"
            ],
            [
             0.5555555555555556,
             "#d8576b"
            ],
            [
             0.6666666666666666,
             "#ed7953"
            ],
            [
             0.7777777777777778,
             "#fb9f3a"
            ],
            [
             0.8888888888888888,
             "#fdca26"
            ],
            [
             1,
             "#f0f921"
            ]
           ],
           "sequentialminus": [
            [
             0,
             "#0d0887"
            ],
            [
             0.1111111111111111,
             "#46039f"
            ],
            [
             0.2222222222222222,
             "#7201a8"
            ],
            [
             0.3333333333333333,
             "#9c179e"
            ],
            [
             0.4444444444444444,
             "#bd3786"
            ],
            [
             0.5555555555555556,
             "#d8576b"
            ],
            [
             0.6666666666666666,
             "#ed7953"
            ],
            [
             0.7777777777777778,
             "#fb9f3a"
            ],
            [
             0.8888888888888888,
             "#fdca26"
            ],
            [
             1,
             "#f0f921"
            ]
           ]
          },
          "colorway": [
           "#636efa",
           "#EF553B",
           "#00cc96",
           "#ab63fa",
           "#FFA15A",
           "#19d3f3",
           "#FF6692",
           "#B6E880",
           "#FF97FF",
           "#FECB52"
          ],
          "font": {
           "color": "#2a3f5f"
          },
          "geo": {
           "bgcolor": "white",
           "lakecolor": "white",
           "landcolor": "#E5ECF6",
           "showlakes": true,
           "showland": true,
           "subunitcolor": "white"
          },
          "hoverlabel": {
           "align": "left"
          },
          "hovermode": "closest",
          "mapbox": {
           "style": "light"
          },
          "paper_bgcolor": "white",
          "plot_bgcolor": "#E5ECF6",
          "polar": {
           "angularaxis": {
            "gridcolor": "white",
            "linecolor": "white",
            "ticks": ""
           },
           "bgcolor": "#E5ECF6",
           "radialaxis": {
            "gridcolor": "white",
            "linecolor": "white",
            "ticks": ""
           }
          },
          "scene": {
           "xaxis": {
            "backgroundcolor": "#E5ECF6",
            "gridcolor": "white",
            "gridwidth": 2,
            "linecolor": "white",
            "showbackground": true,
            "ticks": "",
            "zerolinecolor": "white"
           },
           "yaxis": {
            "backgroundcolor": "#E5ECF6",
            "gridcolor": "white",
            "gridwidth": 2,
            "linecolor": "white",
            "showbackground": true,
            "ticks": "",
            "zerolinecolor": "white"
           },
           "zaxis": {
            "backgroundcolor": "#E5ECF6",
            "gridcolor": "white",
            "gridwidth": 2,
            "linecolor": "white",
            "showbackground": true,
            "ticks": "",
            "zerolinecolor": "white"
           }
          },
          "shapedefaults": {
           "line": {
            "color": "#2a3f5f"
           }
          },
          "ternary": {
           "aaxis": {
            "gridcolor": "white",
            "linecolor": "white",
            "ticks": ""
           },
           "baxis": {
            "gridcolor": "white",
            "linecolor": "white",
            "ticks": ""
           },
           "bgcolor": "#E5ECF6",
           "caxis": {
            "gridcolor": "white",
            "linecolor": "white",
            "ticks": ""
           }
          },
          "title": {
           "x": 0.05
          },
          "xaxis": {
           "automargin": true,
           "gridcolor": "white",
           "linecolor": "white",
           "ticks": "",
           "title": {
            "standoff": 15
           },
           "zerolinecolor": "white",
           "zerolinewidth": 2
          },
          "yaxis": {
           "automargin": true,
           "gridcolor": "white",
           "linecolor": "white",
           "ticks": "",
           "title": {
            "standoff": 15
           },
           "zerolinecolor": "white",
           "zerolinewidth": 2
          }
         }
        },
        "title": {
         "text": "Fraction of first-time degree-seeking undergrads who<br>received a federal loan"
        },
        "width": 600,
        "xaxis": {
         "title": {
          "text": "Year"
         }
        },
        "yaxis": {
         "title": {
          "text": "Fraction"
         }
        }
       }
      }
     },
     "metadata": {},
     "output_type": "display_data"
    }
   ],
   "source": [
    "year=[2010, 2011, 2012, 2013, 2014, 2015, 2016, 2017, 2018, 2019, 2020]\n",
    "trace1 = go.Scatter(x=year, y=loansTier1, mode=\"lines\", name=\"Elite\")\n",
    "trace2 = go.Scatter(x=year, y=loansTier2, mode=\"lines\", name=\"Non-Elite\", line=dict(dash='dash'))\n",
    "\n",
    "\n",
    "fig = go.Figure(data=[trace1, trace2])\n",
    "fig.update_layout(\n",
    "    width=600,\n",
    "    height=400,\n",
    "    xaxis=dict(title=\"Year\"),\n",
    "    yaxis=dict(title=\"Fraction\"),\n",
    "    title=\"Fraction of first-time degree-seeking undergrads who<br>received a federal loan\"\n",
    ")\n",
    "fig.show()"
   ]
  },
  {
   "cell_type": "code",
   "execution_count": 59,
   "metadata": {},
   "outputs": [],
   "source": [
    "grantsTier1 = tier1Institutes['FTFTPCTPELL'].groupby(level='year').mean()\n",
    "grantsTier2 = tier2Institutes['FTFTPCTPELL'].groupby(level='year').mean()"
   ]
  },
  {
   "cell_type": "code",
   "execution_count": 60,
   "metadata": {},
   "outputs": [
    {
     "data": {
      "application/vnd.plotly.v1+json": {
       "config": {
        "plotlyServerURL": "https://plot.ly"
       },
       "data": [
        {
         "mode": "lines",
         "name": "Elite",
         "type": "scatter",
         "x": [
          2010,
          2011,
          2012,
          2013,
          2014,
          2015,
          2016,
          2017,
          2018,
          2019,
          2020
         ],
         "y": [
          0.10873,
          0.12788,
          0.14218999999999998,
          0.14269,
          0.13996999999999998,
          0.14545999999999998,
          0.13984999999999997,
          0.13976,
          0.14937,
          0.16541999999999998,
          0.16492
         ]
        },
        {
         "line": {
          "dash": "dash"
         },
         "mode": "lines",
         "name": "Non-Elite",
         "type": "scatter",
         "x": [
          2010,
          2011,
          2012,
          2013,
          2014,
          2015,
          2016,
          2017,
          2018,
          2019,
          2020
         ],
         "y": [
          0.24268,
          0.30674,
          0.37232000000000004,
          0.36385999999999996,
          0.36428,
          0.35297,
          0.34091,
          0.33622,
          0.33275,
          0.34809,
          0.33158
         ]
        }
       ],
       "layout": {
        "height": 400,
        "template": {
         "data": {
          "bar": [
           {
            "error_x": {
             "color": "#2a3f5f"
            },
            "error_y": {
             "color": "#2a3f5f"
            },
            "marker": {
             "line": {
              "color": "#E5ECF6",
              "width": 0.5
             },
             "pattern": {
              "fillmode": "overlay",
              "size": 10,
              "solidity": 0.2
             }
            },
            "type": "bar"
           }
          ],
          "barpolar": [
           {
            "marker": {
             "line": {
              "color": "#E5ECF6",
              "width": 0.5
             },
             "pattern": {
              "fillmode": "overlay",
              "size": 10,
              "solidity": 0.2
             }
            },
            "type": "barpolar"
           }
          ],
          "carpet": [
           {
            "aaxis": {
             "endlinecolor": "#2a3f5f",
             "gridcolor": "white",
             "linecolor": "white",
             "minorgridcolor": "white",
             "startlinecolor": "#2a3f5f"
            },
            "baxis": {
             "endlinecolor": "#2a3f5f",
             "gridcolor": "white",
             "linecolor": "white",
             "minorgridcolor": "white",
             "startlinecolor": "#2a3f5f"
            },
            "type": "carpet"
           }
          ],
          "choropleth": [
           {
            "colorbar": {
             "outlinewidth": 0,
             "ticks": ""
            },
            "type": "choropleth"
           }
          ],
          "contour": [
           {
            "colorbar": {
             "outlinewidth": 0,
             "ticks": ""
            },
            "colorscale": [
             [
              0,
              "#0d0887"
             ],
             [
              0.1111111111111111,
              "#46039f"
             ],
             [
              0.2222222222222222,
              "#7201a8"
             ],
             [
              0.3333333333333333,
              "#9c179e"
             ],
             [
              0.4444444444444444,
              "#bd3786"
             ],
             [
              0.5555555555555556,
              "#d8576b"
             ],
             [
              0.6666666666666666,
              "#ed7953"
             ],
             [
              0.7777777777777778,
              "#fb9f3a"
             ],
             [
              0.8888888888888888,
              "#fdca26"
             ],
             [
              1,
              "#f0f921"
             ]
            ],
            "type": "contour"
           }
          ],
          "contourcarpet": [
           {
            "colorbar": {
             "outlinewidth": 0,
             "ticks": ""
            },
            "type": "contourcarpet"
           }
          ],
          "heatmap": [
           {
            "colorbar": {
             "outlinewidth": 0,
             "ticks": ""
            },
            "colorscale": [
             [
              0,
              "#0d0887"
             ],
             [
              0.1111111111111111,
              "#46039f"
             ],
             [
              0.2222222222222222,
              "#7201a8"
             ],
             [
              0.3333333333333333,
              "#9c179e"
             ],
             [
              0.4444444444444444,
              "#bd3786"
             ],
             [
              0.5555555555555556,
              "#d8576b"
             ],
             [
              0.6666666666666666,
              "#ed7953"
             ],
             [
              0.7777777777777778,
              "#fb9f3a"
             ],
             [
              0.8888888888888888,
              "#fdca26"
             ],
             [
              1,
              "#f0f921"
             ]
            ],
            "type": "heatmap"
           }
          ],
          "heatmapgl": [
           {
            "colorbar": {
             "outlinewidth": 0,
             "ticks": ""
            },
            "colorscale": [
             [
              0,
              "#0d0887"
             ],
             [
              0.1111111111111111,
              "#46039f"
             ],
             [
              0.2222222222222222,
              "#7201a8"
             ],
             [
              0.3333333333333333,
              "#9c179e"
             ],
             [
              0.4444444444444444,
              "#bd3786"
             ],
             [
              0.5555555555555556,
              "#d8576b"
             ],
             [
              0.6666666666666666,
              "#ed7953"
             ],
             [
              0.7777777777777778,
              "#fb9f3a"
             ],
             [
              0.8888888888888888,
              "#fdca26"
             ],
             [
              1,
              "#f0f921"
             ]
            ],
            "type": "heatmapgl"
           }
          ],
          "histogram": [
           {
            "marker": {
             "pattern": {
              "fillmode": "overlay",
              "size": 10,
              "solidity": 0.2
             }
            },
            "type": "histogram"
           }
          ],
          "histogram2d": [
           {
            "colorbar": {
             "outlinewidth": 0,
             "ticks": ""
            },
            "colorscale": [
             [
              0,
              "#0d0887"
             ],
             [
              0.1111111111111111,
              "#46039f"
             ],
             [
              0.2222222222222222,
              "#7201a8"
             ],
             [
              0.3333333333333333,
              "#9c179e"
             ],
             [
              0.4444444444444444,
              "#bd3786"
             ],
             [
              0.5555555555555556,
              "#d8576b"
             ],
             [
              0.6666666666666666,
              "#ed7953"
             ],
             [
              0.7777777777777778,
              "#fb9f3a"
             ],
             [
              0.8888888888888888,
              "#fdca26"
             ],
             [
              1,
              "#f0f921"
             ]
            ],
            "type": "histogram2d"
           }
          ],
          "histogram2dcontour": [
           {
            "colorbar": {
             "outlinewidth": 0,
             "ticks": ""
            },
            "colorscale": [
             [
              0,
              "#0d0887"
             ],
             [
              0.1111111111111111,
              "#46039f"
             ],
             [
              0.2222222222222222,
              "#7201a8"
             ],
             [
              0.3333333333333333,
              "#9c179e"
             ],
             [
              0.4444444444444444,
              "#bd3786"
             ],
             [
              0.5555555555555556,
              "#d8576b"
             ],
             [
              0.6666666666666666,
              "#ed7953"
             ],
             [
              0.7777777777777778,
              "#fb9f3a"
             ],
             [
              0.8888888888888888,
              "#fdca26"
             ],
             [
              1,
              "#f0f921"
             ]
            ],
            "type": "histogram2dcontour"
           }
          ],
          "mesh3d": [
           {
            "colorbar": {
             "outlinewidth": 0,
             "ticks": ""
            },
            "type": "mesh3d"
           }
          ],
          "parcoords": [
           {
            "line": {
             "colorbar": {
              "outlinewidth": 0,
              "ticks": ""
             }
            },
            "type": "parcoords"
           }
          ],
          "pie": [
           {
            "automargin": true,
            "type": "pie"
           }
          ],
          "scatter": [
           {
            "fillpattern": {
             "fillmode": "overlay",
             "size": 10,
             "solidity": 0.2
            },
            "type": "scatter"
           }
          ],
          "scatter3d": [
           {
            "line": {
             "colorbar": {
              "outlinewidth": 0,
              "ticks": ""
             }
            },
            "marker": {
             "colorbar": {
              "outlinewidth": 0,
              "ticks": ""
             }
            },
            "type": "scatter3d"
           }
          ],
          "scattercarpet": [
           {
            "marker": {
             "colorbar": {
              "outlinewidth": 0,
              "ticks": ""
             }
            },
            "type": "scattercarpet"
           }
          ],
          "scattergeo": [
           {
            "marker": {
             "colorbar": {
              "outlinewidth": 0,
              "ticks": ""
             }
            },
            "type": "scattergeo"
           }
          ],
          "scattergl": [
           {
            "marker": {
             "colorbar": {
              "outlinewidth": 0,
              "ticks": ""
             }
            },
            "type": "scattergl"
           }
          ],
          "scattermapbox": [
           {
            "marker": {
             "colorbar": {
              "outlinewidth": 0,
              "ticks": ""
             }
            },
            "type": "scattermapbox"
           }
          ],
          "scatterpolar": [
           {
            "marker": {
             "colorbar": {
              "outlinewidth": 0,
              "ticks": ""
             }
            },
            "type": "scatterpolar"
           }
          ],
          "scatterpolargl": [
           {
            "marker": {
             "colorbar": {
              "outlinewidth": 0,
              "ticks": ""
             }
            },
            "type": "scatterpolargl"
           }
          ],
          "scatterternary": [
           {
            "marker": {
             "colorbar": {
              "outlinewidth": 0,
              "ticks": ""
             }
            },
            "type": "scatterternary"
           }
          ],
          "surface": [
           {
            "colorbar": {
             "outlinewidth": 0,
             "ticks": ""
            },
            "colorscale": [
             [
              0,
              "#0d0887"
             ],
             [
              0.1111111111111111,
              "#46039f"
             ],
             [
              0.2222222222222222,
              "#7201a8"
             ],
             [
              0.3333333333333333,
              "#9c179e"
             ],
             [
              0.4444444444444444,
              "#bd3786"
             ],
             [
              0.5555555555555556,
              "#d8576b"
             ],
             [
              0.6666666666666666,
              "#ed7953"
             ],
             [
              0.7777777777777778,
              "#fb9f3a"
             ],
             [
              0.8888888888888888,
              "#fdca26"
             ],
             [
              1,
              "#f0f921"
             ]
            ],
            "type": "surface"
           }
          ],
          "table": [
           {
            "cells": {
             "fill": {
              "color": "#EBF0F8"
             },
             "line": {
              "color": "white"
             }
            },
            "header": {
             "fill": {
              "color": "#C8D4E3"
             },
             "line": {
              "color": "white"
             }
            },
            "type": "table"
           }
          ]
         },
         "layout": {
          "annotationdefaults": {
           "arrowcolor": "#2a3f5f",
           "arrowhead": 0,
           "arrowwidth": 1
          },
          "autotypenumbers": "strict",
          "coloraxis": {
           "colorbar": {
            "outlinewidth": 0,
            "ticks": ""
           }
          },
          "colorscale": {
           "diverging": [
            [
             0,
             "#8e0152"
            ],
            [
             0.1,
             "#c51b7d"
            ],
            [
             0.2,
             "#de77ae"
            ],
            [
             0.3,
             "#f1b6da"
            ],
            [
             0.4,
             "#fde0ef"
            ],
            [
             0.5,
             "#f7f7f7"
            ],
            [
             0.6,
             "#e6f5d0"
            ],
            [
             0.7,
             "#b8e186"
            ],
            [
             0.8,
             "#7fbc41"
            ],
            [
             0.9,
             "#4d9221"
            ],
            [
             1,
             "#276419"
            ]
           ],
           "sequential": [
            [
             0,
             "#0d0887"
            ],
            [
             0.1111111111111111,
             "#46039f"
            ],
            [
             0.2222222222222222,
             "#7201a8"
            ],
            [
             0.3333333333333333,
             "#9c179e"
            ],
            [
             0.4444444444444444,
             "#bd3786"
            ],
            [
             0.5555555555555556,
             "#d8576b"
            ],
            [
             0.6666666666666666,
             "#ed7953"
            ],
            [
             0.7777777777777778,
             "#fb9f3a"
            ],
            [
             0.8888888888888888,
             "#fdca26"
            ],
            [
             1,
             "#f0f921"
            ]
           ],
           "sequentialminus": [
            [
             0,
             "#0d0887"
            ],
            [
             0.1111111111111111,
             "#46039f"
            ],
            [
             0.2222222222222222,
             "#7201a8"
            ],
            [
             0.3333333333333333,
             "#9c179e"
            ],
            [
             0.4444444444444444,
             "#bd3786"
            ],
            [
             0.5555555555555556,
             "#d8576b"
            ],
            [
             0.6666666666666666,
             "#ed7953"
            ],
            [
             0.7777777777777778,
             "#fb9f3a"
            ],
            [
             0.8888888888888888,
             "#fdca26"
            ],
            [
             1,
             "#f0f921"
            ]
           ]
          },
          "colorway": [
           "#636efa",
           "#EF553B",
           "#00cc96",
           "#ab63fa",
           "#FFA15A",
           "#19d3f3",
           "#FF6692",
           "#B6E880",
           "#FF97FF",
           "#FECB52"
          ],
          "font": {
           "color": "#2a3f5f"
          },
          "geo": {
           "bgcolor": "white",
           "lakecolor": "white",
           "landcolor": "#E5ECF6",
           "showlakes": true,
           "showland": true,
           "subunitcolor": "white"
          },
          "hoverlabel": {
           "align": "left"
          },
          "hovermode": "closest",
          "mapbox": {
           "style": "light"
          },
          "paper_bgcolor": "white",
          "plot_bgcolor": "#E5ECF6",
          "polar": {
           "angularaxis": {
            "gridcolor": "white",
            "linecolor": "white",
            "ticks": ""
           },
           "bgcolor": "#E5ECF6",
           "radialaxis": {
            "gridcolor": "white",
            "linecolor": "white",
            "ticks": ""
           }
          },
          "scene": {
           "xaxis": {
            "backgroundcolor": "#E5ECF6",
            "gridcolor": "white",
            "gridwidth": 2,
            "linecolor": "white",
            "showbackground": true,
            "ticks": "",
            "zerolinecolor": "white"
           },
           "yaxis": {
            "backgroundcolor": "#E5ECF6",
            "gridcolor": "white",
            "gridwidth": 2,
            "linecolor": "white",
            "showbackground": true,
            "ticks": "",
            "zerolinecolor": "white"
           },
           "zaxis": {
            "backgroundcolor": "#E5ECF6",
            "gridcolor": "white",
            "gridwidth": 2,
            "linecolor": "white",
            "showbackground": true,
            "ticks": "",
            "zerolinecolor": "white"
           }
          },
          "shapedefaults": {
           "line": {
            "color": "#2a3f5f"
           }
          },
          "ternary": {
           "aaxis": {
            "gridcolor": "white",
            "linecolor": "white",
            "ticks": ""
           },
           "baxis": {
            "gridcolor": "white",
            "linecolor": "white",
            "ticks": ""
           },
           "bgcolor": "#E5ECF6",
           "caxis": {
            "gridcolor": "white",
            "linecolor": "white",
            "ticks": ""
           }
          },
          "title": {
           "x": 0.05
          },
          "xaxis": {
           "automargin": true,
           "gridcolor": "white",
           "linecolor": "white",
           "ticks": "",
           "title": {
            "standoff": 15
           },
           "zerolinecolor": "white",
           "zerolinewidth": 2
          },
          "yaxis": {
           "automargin": true,
           "gridcolor": "white",
           "linecolor": "white",
           "ticks": "",
           "title": {
            "standoff": 15
           },
           "zerolinecolor": "white",
           "zerolinewidth": 2
          }
         }
        },
        "title": {
         "text": "Fraction of first-time degree-seeking undergrads who<br>received a federal grant"
        },
        "width": 600,
        "xaxis": {
         "title": {
          "text": "Year"
         }
        },
        "yaxis": {
         "title": {
          "text": "Fraction"
         }
        }
       }
      }
     },
     "metadata": {},
     "output_type": "display_data"
    }
   ],
   "source": [
    "year=[2010, 2011, 2012, 2013, 2014, 2015, 2016, 2017, 2018, 2019, 2020]\n",
    "trace1 = go.Scatter(x=year, y=grantsTier1, mode=\"lines\", name=\"Elite\")\n",
    "trace2 = go.Scatter(x=year, y=grantsTier2, mode=\"lines\", name=\"Non-Elite\", line=dict(dash='dash'))\n",
    "\n",
    "\n",
    "fig = go.Figure(data=[trace1, trace2])\n",
    "fig.update_layout(\n",
    "    width=600,\n",
    "    height=400,\n",
    "    xaxis=dict(title=\"Year\"),\n",
    "    yaxis=dict(title=\"Fraction\"),\n",
    "    title=\"Fraction of first-time degree-seeking undergrads who<br>received a federal grant\"\n",
    ")\n",
    "fig.show()"
   ]
  },
  {
   "cell_type": "code",
   "execution_count": 61,
   "metadata": {},
   "outputs": [],
   "source": [
    "# Now let's analyse the net average cost of attending these institutes\n",
    "# This code may take upto 10sec to run\n",
    "ffillByYear(tier1Institutes, 'NPT4_PRIV', True, 2010)\n",
    "ffillByYear(tier1Institutes, 'NPT4_PUB', True, 2010)\n",
    "\n",
    "ffillByYear(tier1Institutes, 'NPT41_PRIV', True, 2010)\n",
    "ffillByYear(tier1Institutes, 'NPT41_PUB', True, 2010)\n",
    "\n",
    "ffillByYear(tier1Institutes, 'NPT43_PRIV', True, 2010)\n",
    "ffillByYear(tier1Institutes, 'NPT43_PUB', True, 2010)\n",
    "\n",
    "ffillByYear(tier2Institutes, 'NPT4_PRIV', True, 2010)\n",
    "ffillByYear(tier2Institutes, 'NPT4_PUB', True, 2010)\n",
    "\n",
    "ffillByYear(tier2Institutes, 'NPT41_PRIV', True, 2010)\n",
    "ffillByYear(tier2Institutes, 'NPT41_PUB', True, 2010)\n",
    "\n",
    "ffillByYear(tier2Institutes, 'NPT43_PRIV', True, 2010)\n",
    "ffillByYear(tier2Institutes, 'NPT43_PUB', True, 2010)"
   ]
  },
  {
   "cell_type": "code",
   "execution_count": 62,
   "metadata": {},
   "outputs": [],
   "source": [
    "def calcMean(year, ser):\n",
    "    sum, count = 0, 0\n",
    "    subSeries = ser.loc[year]\n",
    "\n",
    "    for val in subSeries:\n",
    "        if (val > 1000):\n",
    "            sum += val\n",
    "            count += 1\n",
    "    return sum / count"
   ]
  },
  {
   "cell_type": "code",
   "execution_count": 63,
   "metadata": {},
   "outputs": [],
   "source": [
    "def correctNegatives(series):\n",
    "    for i in range(0, 11):\n",
    "        mean = calcMean(i + 2010, series)\n",
    "        start, end = int(i * len(series) / 11), int(i * len(series) / 11 + len(series) / 11)\n",
    "        for j in range(start, end):\n",
    "            if (pd.isna(series.iloc[j]) or series.iloc[j] < 1000):\n",
    "                series.iloc[j] = mean\n",
    "    return\n",
    "                "
   ]
  },
  {
   "cell_type": "code",
   "execution_count": 64,
   "metadata": {},
   "outputs": [
    {
     "name": "stderr",
     "output_type": "stream",
     "text": [
      "/var/folders/2v/33p_wnzd3gj0lfp0r82qrhl00000gp/T/ipykernel_3960/2584098630.py:7: SettingWithCopyWarning:\n",
      "\n",
      "\n",
      "A value is trying to be set on a copy of a slice from a DataFrame\n",
      "\n",
      "See the caveats in the documentation: https://pandas.pydata.org/pandas-docs/stable/user_guide/indexing.html#returning-a-view-versus-a-copy\n",
      "\n"
     ]
    }
   ],
   "source": [
    "pd.set_option('display.max_rows', None)\n",
    "# --------------\n",
    "# Some Universities like stanford have anomaly in data, i.e, negative net avg-cost or less than $1000 fees\n",
    "# --------------\n",
    "\n",
    "avgNetPriceTier1 = tier1Institutes.loc[2010:2020]['NPT4_PRIV']\n",
    "correctNegatives(avgNetPriceTier1)\n",
    "\n",
    "avgNetPriceLowIncomeTier1 = tier1Institutes.loc[2010:2020]['NPT41_PRIV']\n",
    "correctNegatives(avgNetPriceLowIncomeTier1)\n",
    "\n",
    "avgNetPriceMedIncomeTier1 = tier1Institutes.loc[2010:2020]['NPT43_PRIV']\n",
    "correctNegatives(avgNetPriceMedIncomeTier1)\n",
    "\n",
    "# avgNetPriceTier1.describe()\n",
    "\n",
    "avgNetPriceTier1 = avgNetPriceTier1.groupby(level='year').mean()\n",
    "avgNetPriceLowIncomeTier1 = avgNetPriceLowIncomeTier1.groupby(level='year').mean()\n",
    "avgNetPriceMedIncomeTier1 = avgNetPriceMedIncomeTier1.groupby(level='year').mean()\n"
   ]
  },
  {
   "cell_type": "code",
   "execution_count": 65,
   "metadata": {},
   "outputs": [],
   "source": [
    "def extractCost(val, colName1, colName2):\n",
    "    if (np.isnan(val[colName1]) and np.isnan(val[colName2])):\n",
    "        return 0.0\n",
    "    elif (np.isnan(val[colName1])):\n",
    "        return val[colName2]\n",
    "    return val[colName1]\n",
    "\n",
    "avgNetPriceTier2 = tier2Institutes.loc[2010:2020][['NPT4_PRIV', 'NPT4_PUB']].apply(extractCost, axis = 1, colName1='NPT4_PRIV', colName2='NPT4_PUB')\n",
    "correctNegatives(avgNetPriceTier2)\n",
    "\n",
    "avgNetPriceLowIncomeTier2 = tier2Institutes.loc[2010:2020][['NPT41_PRIV', 'NPT41_PUB']].apply(extractCost, axis=1, colName1='NPT41_PRIV', colName2='NPT41_PUB')\n",
    "correctNegatives(avgNetPriceLowIncomeTier2)\n",
    "\n",
    "avgNetPriceMedIncomeTier2 = tier2Institutes.loc[2010:2020][['NPT43_PRIV', 'NPT43_PUB']].apply(extractCost, axis=1, colName1='NPT43_PRIV', colName2='NPT43_PUB')\n",
    "correctNegatives(avgNetPriceMedIncomeTier2)\n",
    "\n",
    "# avgNetPriceTier2.describe()\n",
    "\n",
    "avgNetPriceTier2 = avgNetPriceTier2.groupby(level='year').mean()\n",
    "avgNetPriceLowIncomeTier2 = avgNetPriceLowIncomeTier2.groupby(level='year').mean()\n",
    "avgNetPriceMedIncomeTier2 = avgNetPriceMedIncomeTier2.groupby(level='year').mean()"
   ]
  },
  {
   "cell_type": "code",
   "execution_count": 66,
   "metadata": {},
   "outputs": [],
   "source": [
    "year = avgNetPriceTier1.loc[2010:2020].index.get_level_values('year')"
   ]
  },
  {
   "cell_type": "markdown",
   "metadata": {},
   "source": [
    "Analysing the differences in the Net Avg Cost between the students of both types of institutes"
   ]
  },
  {
   "cell_type": "code",
   "execution_count": 67,
   "metadata": {},
   "outputs": [],
   "source": [
    "pd.set_option('display.max_rows', None)\n",
    "year = [2010, 2011, 2012, 2013, 2014, 2015, 2016, 2017, 2018, 2019, 2020]"
   ]
  },
  {
   "cell_type": "code",
   "execution_count": 68,
   "metadata": {},
   "outputs": [],
   "source": [
    "def drawBarGraph(year, yT1, yT2, xlabel, ylabel, title):\n",
    "    tier1Color = \"blue\"\n",
    "    tier2Color = \"orange\"\n",
    "\n",
    "    fig = go.Figure()\n",
    "    fig.add_trace(\n",
    "        go.Bar(\n",
    "            x=year,\n",
    "            y=yT1,\n",
    "            name=\"Elite\",\n",
    "            marker_color=tier1Color,\n",
    "        )\n",
    "    )\n",
    "    fig.add_trace(\n",
    "        go.Bar(\n",
    "            x=year,\n",
    "            y=yT2,\n",
    "            name=\"Non-Elite\",\n",
    "            marker_color=tier2Color,\n",
    "        )\n",
    "    )\n",
    "    fig.update_layout(\n",
    "        yaxis=dict(title=ylabel),\n",
    "        xaxis=dict(title=xlabel),\n",
    "        title=title\n",
    "    )\n",
    "    fig.show()"
   ]
  },
  {
   "cell_type": "code",
   "execution_count": 69,
   "metadata": {},
   "outputs": [
    {
     "data": {
      "application/vnd.plotly.v1+json": {
       "config": {
        "plotlyServerURL": "https://plot.ly"
       },
       "data": [
        {
         "marker": {
          "color": "blue"
         },
         "name": "Elite",
         "type": "bar",
         "x": [
          2010,
          2011,
          2012,
          2013,
          2014,
          2015,
          2016,
          2017,
          2018,
          2019,
          2020
         ],
         "y": [
          7847.6,
          8060.333333333333,
          7585,
          7190.8,
          7002,
          6652,
          8935.1,
          6103.1,
          6250.3375,
          5771.444444444444,
          3248.5714285714284
         ]
        },
        {
         "marker": {
          "color": "orange"
         },
         "name": "Non-Elite",
         "type": "bar",
         "x": [
          2010,
          2011,
          2012,
          2013,
          2014,
          2015,
          2016,
          2017,
          2018,
          2019,
          2020
         ],
         "y": [
          8072.9,
          7189.1,
          7428,
          9132.4,
          9550.9,
          9492.7,
          9884,
          10421.7,
          10041.7,
          9340.4,
          9923.9
         ]
        }
       ],
       "layout": {
        "template": {
         "data": {
          "bar": [
           {
            "error_x": {
             "color": "#2a3f5f"
            },
            "error_y": {
             "color": "#2a3f5f"
            },
            "marker": {
             "line": {
              "color": "#E5ECF6",
              "width": 0.5
             },
             "pattern": {
              "fillmode": "overlay",
              "size": 10,
              "solidity": 0.2
             }
            },
            "type": "bar"
           }
          ],
          "barpolar": [
           {
            "marker": {
             "line": {
              "color": "#E5ECF6",
              "width": 0.5
             },
             "pattern": {
              "fillmode": "overlay",
              "size": 10,
              "solidity": 0.2
             }
            },
            "type": "barpolar"
           }
          ],
          "carpet": [
           {
            "aaxis": {
             "endlinecolor": "#2a3f5f",
             "gridcolor": "white",
             "linecolor": "white",
             "minorgridcolor": "white",
             "startlinecolor": "#2a3f5f"
            },
            "baxis": {
             "endlinecolor": "#2a3f5f",
             "gridcolor": "white",
             "linecolor": "white",
             "minorgridcolor": "white",
             "startlinecolor": "#2a3f5f"
            },
            "type": "carpet"
           }
          ],
          "choropleth": [
           {
            "colorbar": {
             "outlinewidth": 0,
             "ticks": ""
            },
            "type": "choropleth"
           }
          ],
          "contour": [
           {
            "colorbar": {
             "outlinewidth": 0,
             "ticks": ""
            },
            "colorscale": [
             [
              0,
              "#0d0887"
             ],
             [
              0.1111111111111111,
              "#46039f"
             ],
             [
              0.2222222222222222,
              "#7201a8"
             ],
             [
              0.3333333333333333,
              "#9c179e"
             ],
             [
              0.4444444444444444,
              "#bd3786"
             ],
             [
              0.5555555555555556,
              "#d8576b"
             ],
             [
              0.6666666666666666,
              "#ed7953"
             ],
             [
              0.7777777777777778,
              "#fb9f3a"
             ],
             [
              0.8888888888888888,
              "#fdca26"
             ],
             [
              1,
              "#f0f921"
             ]
            ],
            "type": "contour"
           }
          ],
          "contourcarpet": [
           {
            "colorbar": {
             "outlinewidth": 0,
             "ticks": ""
            },
            "type": "contourcarpet"
           }
          ],
          "heatmap": [
           {
            "colorbar": {
             "outlinewidth": 0,
             "ticks": ""
            },
            "colorscale": [
             [
              0,
              "#0d0887"
             ],
             [
              0.1111111111111111,
              "#46039f"
             ],
             [
              0.2222222222222222,
              "#7201a8"
             ],
             [
              0.3333333333333333,
              "#9c179e"
             ],
             [
              0.4444444444444444,
              "#bd3786"
             ],
             [
              0.5555555555555556,
              "#d8576b"
             ],
             [
              0.6666666666666666,
              "#ed7953"
             ],
             [
              0.7777777777777778,
              "#fb9f3a"
             ],
             [
              0.8888888888888888,
              "#fdca26"
             ],
             [
              1,
              "#f0f921"
             ]
            ],
            "type": "heatmap"
           }
          ],
          "heatmapgl": [
           {
            "colorbar": {
             "outlinewidth": 0,
             "ticks": ""
            },
            "colorscale": [
             [
              0,
              "#0d0887"
             ],
             [
              0.1111111111111111,
              "#46039f"
             ],
             [
              0.2222222222222222,
              "#7201a8"
             ],
             [
              0.3333333333333333,
              "#9c179e"
             ],
             [
              0.4444444444444444,
              "#bd3786"
             ],
             [
              0.5555555555555556,
              "#d8576b"
             ],
             [
              0.6666666666666666,
              "#ed7953"
             ],
             [
              0.7777777777777778,
              "#fb9f3a"
             ],
             [
              0.8888888888888888,
              "#fdca26"
             ],
             [
              1,
              "#f0f921"
             ]
            ],
            "type": "heatmapgl"
           }
          ],
          "histogram": [
           {
            "marker": {
             "pattern": {
              "fillmode": "overlay",
              "size": 10,
              "solidity": 0.2
             }
            },
            "type": "histogram"
           }
          ],
          "histogram2d": [
           {
            "colorbar": {
             "outlinewidth": 0,
             "ticks": ""
            },
            "colorscale": [
             [
              0,
              "#0d0887"
             ],
             [
              0.1111111111111111,
              "#46039f"
             ],
             [
              0.2222222222222222,
              "#7201a8"
             ],
             [
              0.3333333333333333,
              "#9c179e"
             ],
             [
              0.4444444444444444,
              "#bd3786"
             ],
             [
              0.5555555555555556,
              "#d8576b"
             ],
             [
              0.6666666666666666,
              "#ed7953"
             ],
             [
              0.7777777777777778,
              "#fb9f3a"
             ],
             [
              0.8888888888888888,
              "#fdca26"
             ],
             [
              1,
              "#f0f921"
             ]
            ],
            "type": "histogram2d"
           }
          ],
          "histogram2dcontour": [
           {
            "colorbar": {
             "outlinewidth": 0,
             "ticks": ""
            },
            "colorscale": [
             [
              0,
              "#0d0887"
             ],
             [
              0.1111111111111111,
              "#46039f"
             ],
             [
              0.2222222222222222,
              "#7201a8"
             ],
             [
              0.3333333333333333,
              "#9c179e"
             ],
             [
              0.4444444444444444,
              "#bd3786"
             ],
             [
              0.5555555555555556,
              "#d8576b"
             ],
             [
              0.6666666666666666,
              "#ed7953"
             ],
             [
              0.7777777777777778,
              "#fb9f3a"
             ],
             [
              0.8888888888888888,
              "#fdca26"
             ],
             [
              1,
              "#f0f921"
             ]
            ],
            "type": "histogram2dcontour"
           }
          ],
          "mesh3d": [
           {
            "colorbar": {
             "outlinewidth": 0,
             "ticks": ""
            },
            "type": "mesh3d"
           }
          ],
          "parcoords": [
           {
            "line": {
             "colorbar": {
              "outlinewidth": 0,
              "ticks": ""
             }
            },
            "type": "parcoords"
           }
          ],
          "pie": [
           {
            "automargin": true,
            "type": "pie"
           }
          ],
          "scatter": [
           {
            "fillpattern": {
             "fillmode": "overlay",
             "size": 10,
             "solidity": 0.2
            },
            "type": "scatter"
           }
          ],
          "scatter3d": [
           {
            "line": {
             "colorbar": {
              "outlinewidth": 0,
              "ticks": ""
             }
            },
            "marker": {
             "colorbar": {
              "outlinewidth": 0,
              "ticks": ""
             }
            },
            "type": "scatter3d"
           }
          ],
          "scattercarpet": [
           {
            "marker": {
             "colorbar": {
              "outlinewidth": 0,
              "ticks": ""
             }
            },
            "type": "scattercarpet"
           }
          ],
          "scattergeo": [
           {
            "marker": {
             "colorbar": {
              "outlinewidth": 0,
              "ticks": ""
             }
            },
            "type": "scattergeo"
           }
          ],
          "scattergl": [
           {
            "marker": {
             "colorbar": {
              "outlinewidth": 0,
              "ticks": ""
             }
            },
            "type": "scattergl"
           }
          ],
          "scattermapbox": [
           {
            "marker": {
             "colorbar": {
              "outlinewidth": 0,
              "ticks": ""
             }
            },
            "type": "scattermapbox"
           }
          ],
          "scatterpolar": [
           {
            "marker": {
             "colorbar": {
              "outlinewidth": 0,
              "ticks": ""
             }
            },
            "type": "scatterpolar"
           }
          ],
          "scatterpolargl": [
           {
            "marker": {
             "colorbar": {
              "outlinewidth": 0,
              "ticks": ""
             }
            },
            "type": "scatterpolargl"
           }
          ],
          "scatterternary": [
           {
            "marker": {
             "colorbar": {
              "outlinewidth": 0,
              "ticks": ""
             }
            },
            "type": "scatterternary"
           }
          ],
          "surface": [
           {
            "colorbar": {
             "outlinewidth": 0,
             "ticks": ""
            },
            "colorscale": [
             [
              0,
              "#0d0887"
             ],
             [
              0.1111111111111111,
              "#46039f"
             ],
             [
              0.2222222222222222,
              "#7201a8"
             ],
             [
              0.3333333333333333,
              "#9c179e"
             ],
             [
              0.4444444444444444,
              "#bd3786"
             ],
             [
              0.5555555555555556,
              "#d8576b"
             ],
             [
              0.6666666666666666,
              "#ed7953"
             ],
             [
              0.7777777777777778,
              "#fb9f3a"
             ],
             [
              0.8888888888888888,
              "#fdca26"
             ],
             [
              1,
              "#f0f921"
             ]
            ],
            "type": "surface"
           }
          ],
          "table": [
           {
            "cells": {
             "fill": {
              "color": "#EBF0F8"
             },
             "line": {
              "color": "white"
             }
            },
            "header": {
             "fill": {
              "color": "#C8D4E3"
             },
             "line": {
              "color": "white"
             }
            },
            "type": "table"
           }
          ]
         },
         "layout": {
          "annotationdefaults": {
           "arrowcolor": "#2a3f5f",
           "arrowhead": 0,
           "arrowwidth": 1
          },
          "autotypenumbers": "strict",
          "coloraxis": {
           "colorbar": {
            "outlinewidth": 0,
            "ticks": ""
           }
          },
          "colorscale": {
           "diverging": [
            [
             0,
             "#8e0152"
            ],
            [
             0.1,
             "#c51b7d"
            ],
            [
             0.2,
             "#de77ae"
            ],
            [
             0.3,
             "#f1b6da"
            ],
            [
             0.4,
             "#fde0ef"
            ],
            [
             0.5,
             "#f7f7f7"
            ],
            [
             0.6,
             "#e6f5d0"
            ],
            [
             0.7,
             "#b8e186"
            ],
            [
             0.8,
             "#7fbc41"
            ],
            [
             0.9,
             "#4d9221"
            ],
            [
             1,
             "#276419"
            ]
           ],
           "sequential": [
            [
             0,
             "#0d0887"
            ],
            [
             0.1111111111111111,
             "#46039f"
            ],
            [
             0.2222222222222222,
             "#7201a8"
            ],
            [
             0.3333333333333333,
             "#9c179e"
            ],
            [
             0.4444444444444444,
             "#bd3786"
            ],
            [
             0.5555555555555556,
             "#d8576b"
            ],
            [
             0.6666666666666666,
             "#ed7953"
            ],
            [
             0.7777777777777778,
             "#fb9f3a"
            ],
            [
             0.8888888888888888,
             "#fdca26"
            ],
            [
             1,
             "#f0f921"
            ]
           ],
           "sequentialminus": [
            [
             0,
             "#0d0887"
            ],
            [
             0.1111111111111111,
             "#46039f"
            ],
            [
             0.2222222222222222,
             "#7201a8"
            ],
            [
             0.3333333333333333,
             "#9c179e"
            ],
            [
             0.4444444444444444,
             "#bd3786"
            ],
            [
             0.5555555555555556,
             "#d8576b"
            ],
            [
             0.6666666666666666,
             "#ed7953"
            ],
            [
             0.7777777777777778,
             "#fb9f3a"
            ],
            [
             0.8888888888888888,
             "#fdca26"
            ],
            [
             1,
             "#f0f921"
            ]
           ]
          },
          "colorway": [
           "#636efa",
           "#EF553B",
           "#00cc96",
           "#ab63fa",
           "#FFA15A",
           "#19d3f3",
           "#FF6692",
           "#B6E880",
           "#FF97FF",
           "#FECB52"
          ],
          "font": {
           "color": "#2a3f5f"
          },
          "geo": {
           "bgcolor": "white",
           "lakecolor": "white",
           "landcolor": "#E5ECF6",
           "showlakes": true,
           "showland": true,
           "subunitcolor": "white"
          },
          "hoverlabel": {
           "align": "left"
          },
          "hovermode": "closest",
          "mapbox": {
           "style": "light"
          },
          "paper_bgcolor": "white",
          "plot_bgcolor": "#E5ECF6",
          "polar": {
           "angularaxis": {
            "gridcolor": "white",
            "linecolor": "white",
            "ticks": ""
           },
           "bgcolor": "#E5ECF6",
           "radialaxis": {
            "gridcolor": "white",
            "linecolor": "white",
            "ticks": ""
           }
          },
          "scene": {
           "xaxis": {
            "backgroundcolor": "#E5ECF6",
            "gridcolor": "white",
            "gridwidth": 2,
            "linecolor": "white",
            "showbackground": true,
            "ticks": "",
            "zerolinecolor": "white"
           },
           "yaxis": {
            "backgroundcolor": "#E5ECF6",
            "gridcolor": "white",
            "gridwidth": 2,
            "linecolor": "white",
            "showbackground": true,
            "ticks": "",
            "zerolinecolor": "white"
           },
           "zaxis": {
            "backgroundcolor": "#E5ECF6",
            "gridcolor": "white",
            "gridwidth": 2,
            "linecolor": "white",
            "showbackground": true,
            "ticks": "",
            "zerolinecolor": "white"
           }
          },
          "shapedefaults": {
           "line": {
            "color": "#2a3f5f"
           }
          },
          "ternary": {
           "aaxis": {
            "gridcolor": "white",
            "linecolor": "white",
            "ticks": ""
           },
           "baxis": {
            "gridcolor": "white",
            "linecolor": "white",
            "ticks": ""
           },
           "bgcolor": "#E5ECF6",
           "caxis": {
            "gridcolor": "white",
            "linecolor": "white",
            "ticks": ""
           }
          },
          "title": {
           "x": 0.05
          },
          "xaxis": {
           "automargin": true,
           "gridcolor": "white",
           "linecolor": "white",
           "ticks": "",
           "title": {
            "standoff": 15
           },
           "zerolinecolor": "white",
           "zerolinewidth": 2
          },
          "yaxis": {
           "automargin": true,
           "gridcolor": "white",
           "linecolor": "white",
           "ticks": "",
           "title": {
            "standoff": 15
           },
           "zerolinecolor": "white",
           "zerolinewidth": 2
          }
         }
        },
        "title": {
         "text": "Net-Avg Cost for Low Income Families(<=$30K)"
        },
        "xaxis": {
         "title": {
          "text": "Year"
         }
        },
        "yaxis": {
         "title": {
          "text": "Net-Avg Cost(TotalCost - Aid)"
         }
        }
       }
      }
     },
     "metadata": {},
     "output_type": "display_data"
    }
   ],
   "source": [
    "drawBarGraph(year, avgNetPriceLowIncomeTier1, avgNetPriceLowIncomeTier2, 'Year', 'Net-Avg Cost(TotalCost - Aid)', 'Net-Avg Cost for Low Income Families(<=$30K)')"
   ]
  },
  {
   "cell_type": "code",
   "execution_count": 70,
   "metadata": {},
   "outputs": [
    {
     "data": {
      "application/vnd.plotly.v1+json": {
       "config": {
        "plotlyServerURL": "https://plot.ly"
       },
       "data": [
        {
         "marker": {
          "color": "blue"
         },
         "name": "Elite",
         "type": "bar",
         "x": [
          2010,
          2011,
          2012,
          2013,
          2014,
          2015,
          2016,
          2017,
          2018,
          2019,
          2020
         ],
         "y": [
          12347.2,
          12331.2,
          12022.8,
          11562.1,
          11419.7,
          11741.3,
          12055.3,
          9718.6,
          8842,
          8810.444444444443,
          7491.9
         ]
        },
        {
         "marker": {
          "color": "orange"
         },
         "name": "Non-Elite",
         "type": "bar",
         "x": [
          2010,
          2011,
          2012,
          2013,
          2014,
          2015,
          2016,
          2017,
          2018,
          2019,
          2020
         ],
         "y": [
          12434.7,
          12104.8,
          12457,
          13568.4,
          13868.4,
          14199.704999999998,
          14629.1,
          14904.76,
          14494,
          13660.2,
          14526.3
         ]
        }
       ],
       "layout": {
        "template": {
         "data": {
          "bar": [
           {
            "error_x": {
             "color": "#2a3f5f"
            },
            "error_y": {
             "color": "#2a3f5f"
            },
            "marker": {
             "line": {
              "color": "#E5ECF6",
              "width": 0.5
             },
             "pattern": {
              "fillmode": "overlay",
              "size": 10,
              "solidity": 0.2
             }
            },
            "type": "bar"
           }
          ],
          "barpolar": [
           {
            "marker": {
             "line": {
              "color": "#E5ECF6",
              "width": 0.5
             },
             "pattern": {
              "fillmode": "overlay",
              "size": 10,
              "solidity": 0.2
             }
            },
            "type": "barpolar"
           }
          ],
          "carpet": [
           {
            "aaxis": {
             "endlinecolor": "#2a3f5f",
             "gridcolor": "white",
             "linecolor": "white",
             "minorgridcolor": "white",
             "startlinecolor": "#2a3f5f"
            },
            "baxis": {
             "endlinecolor": "#2a3f5f",
             "gridcolor": "white",
             "linecolor": "white",
             "minorgridcolor": "white",
             "startlinecolor": "#2a3f5f"
            },
            "type": "carpet"
           }
          ],
          "choropleth": [
           {
            "colorbar": {
             "outlinewidth": 0,
             "ticks": ""
            },
            "type": "choropleth"
           }
          ],
          "contour": [
           {
            "colorbar": {
             "outlinewidth": 0,
             "ticks": ""
            },
            "colorscale": [
             [
              0,
              "#0d0887"
             ],
             [
              0.1111111111111111,
              "#46039f"
             ],
             [
              0.2222222222222222,
              "#7201a8"
             ],
             [
              0.3333333333333333,
              "#9c179e"
             ],
             [
              0.4444444444444444,
              "#bd3786"
             ],
             [
              0.5555555555555556,
              "#d8576b"
             ],
             [
              0.6666666666666666,
              "#ed7953"
             ],
             [
              0.7777777777777778,
              "#fb9f3a"
             ],
             [
              0.8888888888888888,
              "#fdca26"
             ],
             [
              1,
              "#f0f921"
             ]
            ],
            "type": "contour"
           }
          ],
          "contourcarpet": [
           {
            "colorbar": {
             "outlinewidth": 0,
             "ticks": ""
            },
            "type": "contourcarpet"
           }
          ],
          "heatmap": [
           {
            "colorbar": {
             "outlinewidth": 0,
             "ticks": ""
            },
            "colorscale": [
             [
              0,
              "#0d0887"
             ],
             [
              0.1111111111111111,
              "#46039f"
             ],
             [
              0.2222222222222222,
              "#7201a8"
             ],
             [
              0.3333333333333333,
              "#9c179e"
             ],
             [
              0.4444444444444444,
              "#bd3786"
             ],
             [
              0.5555555555555556,
              "#d8576b"
             ],
             [
              0.6666666666666666,
              "#ed7953"
             ],
             [
              0.7777777777777778,
              "#fb9f3a"
             ],
             [
              0.8888888888888888,
              "#fdca26"
             ],
             [
              1,
              "#f0f921"
             ]
            ],
            "type": "heatmap"
           }
          ],
          "heatmapgl": [
           {
            "colorbar": {
             "outlinewidth": 0,
             "ticks": ""
            },
            "colorscale": [
             [
              0,
              "#0d0887"
             ],
             [
              0.1111111111111111,
              "#46039f"
             ],
             [
              0.2222222222222222,
              "#7201a8"
             ],
             [
              0.3333333333333333,
              "#9c179e"
             ],
             [
              0.4444444444444444,
              "#bd3786"
             ],
             [
              0.5555555555555556,
              "#d8576b"
             ],
             [
              0.6666666666666666,
              "#ed7953"
             ],
             [
              0.7777777777777778,
              "#fb9f3a"
             ],
             [
              0.8888888888888888,
              "#fdca26"
             ],
             [
              1,
              "#f0f921"
             ]
            ],
            "type": "heatmapgl"
           }
          ],
          "histogram": [
           {
            "marker": {
             "pattern": {
              "fillmode": "overlay",
              "size": 10,
              "solidity": 0.2
             }
            },
            "type": "histogram"
           }
          ],
          "histogram2d": [
           {
            "colorbar": {
             "outlinewidth": 0,
             "ticks": ""
            },
            "colorscale": [
             [
              0,
              "#0d0887"
             ],
             [
              0.1111111111111111,
              "#46039f"
             ],
             [
              0.2222222222222222,
              "#7201a8"
             ],
             [
              0.3333333333333333,
              "#9c179e"
             ],
             [
              0.4444444444444444,
              "#bd3786"
             ],
             [
              0.5555555555555556,
              "#d8576b"
             ],
             [
              0.6666666666666666,
              "#ed7953"
             ],
             [
              0.7777777777777778,
              "#fb9f3a"
             ],
             [
              0.8888888888888888,
              "#fdca26"
             ],
             [
              1,
              "#f0f921"
             ]
            ],
            "type": "histogram2d"
           }
          ],
          "histogram2dcontour": [
           {
            "colorbar": {
             "outlinewidth": 0,
             "ticks": ""
            },
            "colorscale": [
             [
              0,
              "#0d0887"
             ],
             [
              0.1111111111111111,
              "#46039f"
             ],
             [
              0.2222222222222222,
              "#7201a8"
             ],
             [
              0.3333333333333333,
              "#9c179e"
             ],
             [
              0.4444444444444444,
              "#bd3786"
             ],
             [
              0.5555555555555556,
              "#d8576b"
             ],
             [
              0.6666666666666666,
              "#ed7953"
             ],
             [
              0.7777777777777778,
              "#fb9f3a"
             ],
             [
              0.8888888888888888,
              "#fdca26"
             ],
             [
              1,
              "#f0f921"
             ]
            ],
            "type": "histogram2dcontour"
           }
          ],
          "mesh3d": [
           {
            "colorbar": {
             "outlinewidth": 0,
             "ticks": ""
            },
            "type": "mesh3d"
           }
          ],
          "parcoords": [
           {
            "line": {
             "colorbar": {
              "outlinewidth": 0,
              "ticks": ""
             }
            },
            "type": "parcoords"
           }
          ],
          "pie": [
           {
            "automargin": true,
            "type": "pie"
           }
          ],
          "scatter": [
           {
            "fillpattern": {
             "fillmode": "overlay",
             "size": 10,
             "solidity": 0.2
            },
            "type": "scatter"
           }
          ],
          "scatter3d": [
           {
            "line": {
             "colorbar": {
              "outlinewidth": 0,
              "ticks": ""
             }
            },
            "marker": {
             "colorbar": {
              "outlinewidth": 0,
              "ticks": ""
             }
            },
            "type": "scatter3d"
           }
          ],
          "scattercarpet": [
           {
            "marker": {
             "colorbar": {
              "outlinewidth": 0,
              "ticks": ""
             }
            },
            "type": "scattercarpet"
           }
          ],
          "scattergeo": [
           {
            "marker": {
             "colorbar": {
              "outlinewidth": 0,
              "ticks": ""
             }
            },
            "type": "scattergeo"
           }
          ],
          "scattergl": [
           {
            "marker": {
             "colorbar": {
              "outlinewidth": 0,
              "ticks": ""
             }
            },
            "type": "scattergl"
           }
          ],
          "scattermapbox": [
           {
            "marker": {
             "colorbar": {
              "outlinewidth": 0,
              "ticks": ""
             }
            },
            "type": "scattermapbox"
           }
          ],
          "scatterpolar": [
           {
            "marker": {
             "colorbar": {
              "outlinewidth": 0,
              "ticks": ""
             }
            },
            "type": "scatterpolar"
           }
          ],
          "scatterpolargl": [
           {
            "marker": {
             "colorbar": {
              "outlinewidth": 0,
              "ticks": ""
             }
            },
            "type": "scatterpolargl"
           }
          ],
          "scatterternary": [
           {
            "marker": {
             "colorbar": {
              "outlinewidth": 0,
              "ticks": ""
             }
            },
            "type": "scatterternary"
           }
          ],
          "surface": [
           {
            "colorbar": {
             "outlinewidth": 0,
             "ticks": ""
            },
            "colorscale": [
             [
              0,
              "#0d0887"
             ],
             [
              0.1111111111111111,
              "#46039f"
             ],
             [
              0.2222222222222222,
              "#7201a8"
             ],
             [
              0.3333333333333333,
              "#9c179e"
             ],
             [
              0.4444444444444444,
              "#bd3786"
             ],
             [
              0.5555555555555556,
              "#d8576b"
             ],
             [
              0.6666666666666666,
              "#ed7953"
             ],
             [
              0.7777777777777778,
              "#fb9f3a"
             ],
             [
              0.8888888888888888,
              "#fdca26"
             ],
             [
              1,
              "#f0f921"
             ]
            ],
            "type": "surface"
           }
          ],
          "table": [
           {
            "cells": {
             "fill": {
              "color": "#EBF0F8"
             },
             "line": {
              "color": "white"
             }
            },
            "header": {
             "fill": {
              "color": "#C8D4E3"
             },
             "line": {
              "color": "white"
             }
            },
            "type": "table"
           }
          ]
         },
         "layout": {
          "annotationdefaults": {
           "arrowcolor": "#2a3f5f",
           "arrowhead": 0,
           "arrowwidth": 1
          },
          "autotypenumbers": "strict",
          "coloraxis": {
           "colorbar": {
            "outlinewidth": 0,
            "ticks": ""
           }
          },
          "colorscale": {
           "diverging": [
            [
             0,
             "#8e0152"
            ],
            [
             0.1,
             "#c51b7d"
            ],
            [
             0.2,
             "#de77ae"
            ],
            [
             0.3,
             "#f1b6da"
            ],
            [
             0.4,
             "#fde0ef"
            ],
            [
             0.5,
             "#f7f7f7"
            ],
            [
             0.6,
             "#e6f5d0"
            ],
            [
             0.7,
             "#b8e186"
            ],
            [
             0.8,
             "#7fbc41"
            ],
            [
             0.9,
             "#4d9221"
            ],
            [
             1,
             "#276419"
            ]
           ],
           "sequential": [
            [
             0,
             "#0d0887"
            ],
            [
             0.1111111111111111,
             "#46039f"
            ],
            [
             0.2222222222222222,
             "#7201a8"
            ],
            [
             0.3333333333333333,
             "#9c179e"
            ],
            [
             0.4444444444444444,
             "#bd3786"
            ],
            [
             0.5555555555555556,
             "#d8576b"
            ],
            [
             0.6666666666666666,
             "#ed7953"
            ],
            [
             0.7777777777777778,
             "#fb9f3a"
            ],
            [
             0.8888888888888888,
             "#fdca26"
            ],
            [
             1,
             "#f0f921"
            ]
           ],
           "sequentialminus": [
            [
             0,
             "#0d0887"
            ],
            [
             0.1111111111111111,
             "#46039f"
            ],
            [
             0.2222222222222222,
             "#7201a8"
            ],
            [
             0.3333333333333333,
             "#9c179e"
            ],
            [
             0.4444444444444444,
             "#bd3786"
            ],
            [
             0.5555555555555556,
             "#d8576b"
            ],
            [
             0.6666666666666666,
             "#ed7953"
            ],
            [
             0.7777777777777778,
             "#fb9f3a"
            ],
            [
             0.8888888888888888,
             "#fdca26"
            ],
            [
             1,
             "#f0f921"
            ]
           ]
          },
          "colorway": [
           "#636efa",
           "#EF553B",
           "#00cc96",
           "#ab63fa",
           "#FFA15A",
           "#19d3f3",
           "#FF6692",
           "#B6E880",
           "#FF97FF",
           "#FECB52"
          ],
          "font": {
           "color": "#2a3f5f"
          },
          "geo": {
           "bgcolor": "white",
           "lakecolor": "white",
           "landcolor": "#E5ECF6",
           "showlakes": true,
           "showland": true,
           "subunitcolor": "white"
          },
          "hoverlabel": {
           "align": "left"
          },
          "hovermode": "closest",
          "mapbox": {
           "style": "light"
          },
          "paper_bgcolor": "white",
          "plot_bgcolor": "#E5ECF6",
          "polar": {
           "angularaxis": {
            "gridcolor": "white",
            "linecolor": "white",
            "ticks": ""
           },
           "bgcolor": "#E5ECF6",
           "radialaxis": {
            "gridcolor": "white",
            "linecolor": "white",
            "ticks": ""
           }
          },
          "scene": {
           "xaxis": {
            "backgroundcolor": "#E5ECF6",
            "gridcolor": "white",
            "gridwidth": 2,
            "linecolor": "white",
            "showbackground": true,
            "ticks": "",
            "zerolinecolor": "white"
           },
           "yaxis": {
            "backgroundcolor": "#E5ECF6",
            "gridcolor": "white",
            "gridwidth": 2,
            "linecolor": "white",
            "showbackground": true,
            "ticks": "",
            "zerolinecolor": "white"
           },
           "zaxis": {
            "backgroundcolor": "#E5ECF6",
            "gridcolor": "white",
            "gridwidth": 2,
            "linecolor": "white",
            "showbackground": true,
            "ticks": "",
            "zerolinecolor": "white"
           }
          },
          "shapedefaults": {
           "line": {
            "color": "#2a3f5f"
           }
          },
          "ternary": {
           "aaxis": {
            "gridcolor": "white",
            "linecolor": "white",
            "ticks": ""
           },
           "baxis": {
            "gridcolor": "white",
            "linecolor": "white",
            "ticks": ""
           },
           "bgcolor": "#E5ECF6",
           "caxis": {
            "gridcolor": "white",
            "linecolor": "white",
            "ticks": ""
           }
          },
          "title": {
           "x": 0.05
          },
          "xaxis": {
           "automargin": true,
           "gridcolor": "white",
           "linecolor": "white",
           "ticks": "",
           "title": {
            "standoff": 15
           },
           "zerolinecolor": "white",
           "zerolinewidth": 2
          },
          "yaxis": {
           "automargin": true,
           "gridcolor": "white",
           "linecolor": "white",
           "ticks": "",
           "title": {
            "standoff": 15
           },
           "zerolinecolor": "white",
           "zerolinewidth": 2
          }
         }
        },
        "title": {
         "text": "Net-Avg Cost for Medium Income Families($48K-$75K)"
        },
        "xaxis": {
         "title": {
          "text": "Year"
         }
        },
        "yaxis": {
         "title": {
          "text": "Net-Avg Cost(TotalCost - Aid)"
         }
        }
       }
      }
     },
     "metadata": {},
     "output_type": "display_data"
    }
   ],
   "source": [
    "drawBarGraph(year, avgNetPriceMedIncomeTier1, avgNetPriceMedIncomeTier2, 'Year', 'Net-Avg Cost(TotalCost - Aid)', 'Net-Avg Cost for Medium Income Families($48K-$75K)')"
   ]
  },
  {
   "cell_type": "code",
   "execution_count": 71,
   "metadata": {},
   "outputs": [
    {
     "data": {
      "application/vnd.plotly.v1+json": {
       "config": {
        "plotlyServerURL": "https://plot.ly"
       },
       "data": [
        {
         "marker": {
          "color": "blue"
         },
         "name": "Elite",
         "type": "bar",
         "x": [
          2010,
          2011,
          2012,
          2013,
          2014,
          2015,
          2016,
          2017,
          2018,
          2019,
          2020
         ],
         "y": [
          21673.1,
          21727.7,
          22216.9,
          22536.8,
          22462.6,
          22235.3,
          24589.6,
          23585,
          23542.1,
          21898.1,
          21792.4
         ]
        },
        {
         "marker": {
          "color": "orange"
         },
         "name": "Non-Elite",
         "type": "bar",
         "x": [
          2010,
          2011,
          2012,
          2013,
          2014,
          2015,
          2016,
          2017,
          2018,
          2019,
          2020
         ],
         "y": [
          11609.2,
          10996.2,
          10943.8,
          12482.6,
          12758.5,
          12994.2,
          13665.9,
          14124.6,
          13848.2,
          13317.4,
          14023.4
         ]
        }
       ],
       "layout": {
        "template": {
         "data": {
          "bar": [
           {
            "error_x": {
             "color": "#2a3f5f"
            },
            "error_y": {
             "color": "#2a3f5f"
            },
            "marker": {
             "line": {
              "color": "#E5ECF6",
              "width": 0.5
             },
             "pattern": {
              "fillmode": "overlay",
              "size": 10,
              "solidity": 0.2
             }
            },
            "type": "bar"
           }
          ],
          "barpolar": [
           {
            "marker": {
             "line": {
              "color": "#E5ECF6",
              "width": 0.5
             },
             "pattern": {
              "fillmode": "overlay",
              "size": 10,
              "solidity": 0.2
             }
            },
            "type": "barpolar"
           }
          ],
          "carpet": [
           {
            "aaxis": {
             "endlinecolor": "#2a3f5f",
             "gridcolor": "white",
             "linecolor": "white",
             "minorgridcolor": "white",
             "startlinecolor": "#2a3f5f"
            },
            "baxis": {
             "endlinecolor": "#2a3f5f",
             "gridcolor": "white",
             "linecolor": "white",
             "minorgridcolor": "white",
             "startlinecolor": "#2a3f5f"
            },
            "type": "carpet"
           }
          ],
          "choropleth": [
           {
            "colorbar": {
             "outlinewidth": 0,
             "ticks": ""
            },
            "type": "choropleth"
           }
          ],
          "contour": [
           {
            "colorbar": {
             "outlinewidth": 0,
             "ticks": ""
            },
            "colorscale": [
             [
              0,
              "#0d0887"
             ],
             [
              0.1111111111111111,
              "#46039f"
             ],
             [
              0.2222222222222222,
              "#7201a8"
             ],
             [
              0.3333333333333333,
              "#9c179e"
             ],
             [
              0.4444444444444444,
              "#bd3786"
             ],
             [
              0.5555555555555556,
              "#d8576b"
             ],
             [
              0.6666666666666666,
              "#ed7953"
             ],
             [
              0.7777777777777778,
              "#fb9f3a"
             ],
             [
              0.8888888888888888,
              "#fdca26"
             ],
             [
              1,
              "#f0f921"
             ]
            ],
            "type": "contour"
           }
          ],
          "contourcarpet": [
           {
            "colorbar": {
             "outlinewidth": 0,
             "ticks": ""
            },
            "type": "contourcarpet"
           }
          ],
          "heatmap": [
           {
            "colorbar": {
             "outlinewidth": 0,
             "ticks": ""
            },
            "colorscale": [
             [
              0,
              "#0d0887"
             ],
             [
              0.1111111111111111,
              "#46039f"
             ],
             [
              0.2222222222222222,
              "#7201a8"
             ],
             [
              0.3333333333333333,
              "#9c179e"
             ],
             [
              0.4444444444444444,
              "#bd3786"
             ],
             [
              0.5555555555555556,
              "#d8576b"
             ],
             [
              0.6666666666666666,
              "#ed7953"
             ],
             [
              0.7777777777777778,
              "#fb9f3a"
             ],
             [
              0.8888888888888888,
              "#fdca26"
             ],
             [
              1,
              "#f0f921"
             ]
            ],
            "type": "heatmap"
           }
          ],
          "heatmapgl": [
           {
            "colorbar": {
             "outlinewidth": 0,
             "ticks": ""
            },
            "colorscale": [
             [
              0,
              "#0d0887"
             ],
             [
              0.1111111111111111,
              "#46039f"
             ],
             [
              0.2222222222222222,
              "#7201a8"
             ],
             [
              0.3333333333333333,
              "#9c179e"
             ],
             [
              0.4444444444444444,
              "#bd3786"
             ],
             [
              0.5555555555555556,
              "#d8576b"
             ],
             [
              0.6666666666666666,
              "#ed7953"
             ],
             [
              0.7777777777777778,
              "#fb9f3a"
             ],
             [
              0.8888888888888888,
              "#fdca26"
             ],
             [
              1,
              "#f0f921"
             ]
            ],
            "type": "heatmapgl"
           }
          ],
          "histogram": [
           {
            "marker": {
             "pattern": {
              "fillmode": "overlay",
              "size": 10,
              "solidity": 0.2
             }
            },
            "type": "histogram"
           }
          ],
          "histogram2d": [
           {
            "colorbar": {
             "outlinewidth": 0,
             "ticks": ""
            },
            "colorscale": [
             [
              0,
              "#0d0887"
             ],
             [
              0.1111111111111111,
              "#46039f"
             ],
             [
              0.2222222222222222,
              "#7201a8"
             ],
             [
              0.3333333333333333,
              "#9c179e"
             ],
             [
              0.4444444444444444,
              "#bd3786"
             ],
             [
              0.5555555555555556,
              "#d8576b"
             ],
             [
              0.6666666666666666,
              "#ed7953"
             ],
             [
              0.7777777777777778,
              "#fb9f3a"
             ],
             [
              0.8888888888888888,
              "#fdca26"
             ],
             [
              1,
              "#f0f921"
             ]
            ],
            "type": "histogram2d"
           }
          ],
          "histogram2dcontour": [
           {
            "colorbar": {
             "outlinewidth": 0,
             "ticks": ""
            },
            "colorscale": [
             [
              0,
              "#0d0887"
             ],
             [
              0.1111111111111111,
              "#46039f"
             ],
             [
              0.2222222222222222,
              "#7201a8"
             ],
             [
              0.3333333333333333,
              "#9c179e"
             ],
             [
              0.4444444444444444,
              "#bd3786"
             ],
             [
              0.5555555555555556,
              "#d8576b"
             ],
             [
              0.6666666666666666,
              "#ed7953"
             ],
             [
              0.7777777777777778,
              "#fb9f3a"
             ],
             [
              0.8888888888888888,
              "#fdca26"
             ],
             [
              1,
              "#f0f921"
             ]
            ],
            "type": "histogram2dcontour"
           }
          ],
          "mesh3d": [
           {
            "colorbar": {
             "outlinewidth": 0,
             "ticks": ""
            },
            "type": "mesh3d"
           }
          ],
          "parcoords": [
           {
            "line": {
             "colorbar": {
              "outlinewidth": 0,
              "ticks": ""
             }
            },
            "type": "parcoords"
           }
          ],
          "pie": [
           {
            "automargin": true,
            "type": "pie"
           }
          ],
          "scatter": [
           {
            "fillpattern": {
             "fillmode": "overlay",
             "size": 10,
             "solidity": 0.2
            },
            "type": "scatter"
           }
          ],
          "scatter3d": [
           {
            "line": {
             "colorbar": {
              "outlinewidth": 0,
              "ticks": ""
             }
            },
            "marker": {
             "colorbar": {
              "outlinewidth": 0,
              "ticks": ""
             }
            },
            "type": "scatter3d"
           }
          ],
          "scattercarpet": [
           {
            "marker": {
             "colorbar": {
              "outlinewidth": 0,
              "ticks": ""
             }
            },
            "type": "scattercarpet"
           }
          ],
          "scattergeo": [
           {
            "marker": {
             "colorbar": {
              "outlinewidth": 0,
              "ticks": ""
             }
            },
            "type": "scattergeo"
           }
          ],
          "scattergl": [
           {
            "marker": {
             "colorbar": {
              "outlinewidth": 0,
              "ticks": ""
             }
            },
            "type": "scattergl"
           }
          ],
          "scattermapbox": [
           {
            "marker": {
             "colorbar": {
              "outlinewidth": 0,
              "ticks": ""
             }
            },
            "type": "scattermapbox"
           }
          ],
          "scatterpolar": [
           {
            "marker": {
             "colorbar": {
              "outlinewidth": 0,
              "ticks": ""
             }
            },
            "type": "scatterpolar"
           }
          ],
          "scatterpolargl": [
           {
            "marker": {
             "colorbar": {
              "outlinewidth": 0,
              "ticks": ""
             }
            },
            "type": "scatterpolargl"
           }
          ],
          "scatterternary": [
           {
            "marker": {
             "colorbar": {
              "outlinewidth": 0,
              "ticks": ""
             }
            },
            "type": "scatterternary"
           }
          ],
          "surface": [
           {
            "colorbar": {
             "outlinewidth": 0,
             "ticks": ""
            },
            "colorscale": [
             [
              0,
              "#0d0887"
             ],
             [
              0.1111111111111111,
              "#46039f"
             ],
             [
              0.2222222222222222,
              "#7201a8"
             ],
             [
              0.3333333333333333,
              "#9c179e"
             ],
             [
              0.4444444444444444,
              "#bd3786"
             ],
             [
              0.5555555555555556,
              "#d8576b"
             ],
             [
              0.6666666666666666,
              "#ed7953"
             ],
             [
              0.7777777777777778,
              "#fb9f3a"
             ],
             [
              0.8888888888888888,
              "#fdca26"
             ],
             [
              1,
              "#f0f921"
             ]
            ],
            "type": "surface"
           }
          ],
          "table": [
           {
            "cells": {
             "fill": {
              "color": "#EBF0F8"
             },
             "line": {
              "color": "white"
             }
            },
            "header": {
             "fill": {
              "color": "#C8D4E3"
             },
             "line": {
              "color": "white"
             }
            },
            "type": "table"
           }
          ]
         },
         "layout": {
          "annotationdefaults": {
           "arrowcolor": "#2a3f5f",
           "arrowhead": 0,
           "arrowwidth": 1
          },
          "autotypenumbers": "strict",
          "coloraxis": {
           "colorbar": {
            "outlinewidth": 0,
            "ticks": ""
           }
          },
          "colorscale": {
           "diverging": [
            [
             0,
             "#8e0152"
            ],
            [
             0.1,
             "#c51b7d"
            ],
            [
             0.2,
             "#de77ae"
            ],
            [
             0.3,
             "#f1b6da"
            ],
            [
             0.4,
             "#fde0ef"
            ],
            [
             0.5,
             "#f7f7f7"
            ],
            [
             0.6,
             "#e6f5d0"
            ],
            [
             0.7,
             "#b8e186"
            ],
            [
             0.8,
             "#7fbc41"
            ],
            [
             0.9,
             "#4d9221"
            ],
            [
             1,
             "#276419"
            ]
           ],
           "sequential": [
            [
             0,
             "#0d0887"
            ],
            [
             0.1111111111111111,
             "#46039f"
            ],
            [
             0.2222222222222222,
             "#7201a8"
            ],
            [
             0.3333333333333333,
             "#9c179e"
            ],
            [
             0.4444444444444444,
             "#bd3786"
            ],
            [
             0.5555555555555556,
             "#d8576b"
            ],
            [
             0.6666666666666666,
             "#ed7953"
            ],
            [
             0.7777777777777778,
             "#fb9f3a"
            ],
            [
             0.8888888888888888,
             "#fdca26"
            ],
            [
             1,
             "#f0f921"
            ]
           ],
           "sequentialminus": [
            [
             0,
             "#0d0887"
            ],
            [
             0.1111111111111111,
             "#46039f"
            ],
            [
             0.2222222222222222,
             "#7201a8"
            ],
            [
             0.3333333333333333,
             "#9c179e"
            ],
            [
             0.4444444444444444,
             "#bd3786"
            ],
            [
             0.5555555555555556,
             "#d8576b"
            ],
            [
             0.6666666666666666,
             "#ed7953"
            ],
            [
             0.7777777777777778,
             "#fb9f3a"
            ],
            [
             0.8888888888888888,
             "#fdca26"
            ],
            [
             1,
             "#f0f921"
            ]
           ]
          },
          "colorway": [
           "#636efa",
           "#EF553B",
           "#00cc96",
           "#ab63fa",
           "#FFA15A",
           "#19d3f3",
           "#FF6692",
           "#B6E880",
           "#FF97FF",
           "#FECB52"
          ],
          "font": {
           "color": "#2a3f5f"
          },
          "geo": {
           "bgcolor": "white",
           "lakecolor": "white",
           "landcolor": "#E5ECF6",
           "showlakes": true,
           "showland": true,
           "subunitcolor": "white"
          },
          "hoverlabel": {
           "align": "left"
          },
          "hovermode": "closest",
          "mapbox": {
           "style": "light"
          },
          "paper_bgcolor": "white",
          "plot_bgcolor": "#E5ECF6",
          "polar": {
           "angularaxis": {
            "gridcolor": "white",
            "linecolor": "white",
            "ticks": ""
           },
           "bgcolor": "#E5ECF6",
           "radialaxis": {
            "gridcolor": "white",
            "linecolor": "white",
            "ticks": ""
           }
          },
          "scene": {
           "xaxis": {
            "backgroundcolor": "#E5ECF6",
            "gridcolor": "white",
            "gridwidth": 2,
            "linecolor": "white",
            "showbackground": true,
            "ticks": "",
            "zerolinecolor": "white"
           },
           "yaxis": {
            "backgroundcolor": "#E5ECF6",
            "gridcolor": "white",
            "gridwidth": 2,
            "linecolor": "white",
            "showbackground": true,
            "ticks": "",
            "zerolinecolor": "white"
           },
           "zaxis": {
            "backgroundcolor": "#E5ECF6",
            "gridcolor": "white",
            "gridwidth": 2,
            "linecolor": "white",
            "showbackground": true,
            "ticks": "",
            "zerolinecolor": "white"
           }
          },
          "shapedefaults": {
           "line": {
            "color": "#2a3f5f"
           }
          },
          "ternary": {
           "aaxis": {
            "gridcolor": "white",
            "linecolor": "white",
            "ticks": ""
           },
           "baxis": {
            "gridcolor": "white",
            "linecolor": "white",
            "ticks": ""
           },
           "bgcolor": "#E5ECF6",
           "caxis": {
            "gridcolor": "white",
            "linecolor": "white",
            "ticks": ""
           }
          },
          "title": {
           "x": 0.05
          },
          "xaxis": {
           "automargin": true,
           "gridcolor": "white",
           "linecolor": "white",
           "ticks": "",
           "title": {
            "standoff": 15
           },
           "zerolinecolor": "white",
           "zerolinewidth": 2
          },
          "yaxis": {
           "automargin": true,
           "gridcolor": "white",
           "linecolor": "white",
           "ticks": "",
           "title": {
            "standoff": 15
           },
           "zerolinecolor": "white",
           "zerolinewidth": 2
          }
         }
        },
        "title": {
         "text": "Net-Avg Cost calculated by considering all income brackets"
        },
        "xaxis": {
         "title": {
          "text": "Year"
         }
        },
        "yaxis": {
         "title": {
          "text": "Net-Avg Cost(TotalCost - Aid)"
         }
        }
       }
      }
     },
     "metadata": {},
     "output_type": "display_data"
    }
   ],
   "source": [
    "drawBarGraph(year, avgNetPriceTier1, avgNetPriceTier2, 'Year', 'Net-Avg Cost(TotalCost - Aid)', 'Net-Avg Cost calculated by considering all income brackets')"
   ]
  },
  {
   "cell_type": "markdown",
   "metadata": {},
   "source": [
    "Inferences..."
   ]
  },
  {
   "cell_type": "code",
   "execution_count": 72,
   "metadata": {},
   "outputs": [],
   "source": [
    "# We can see that the net-average cost for attendance of Tier-1 institutes is less than that of Tier-2 institutes for\n",
    "# low and medium income families.\n",
    "# This may lead to students being burdened by high debt and financial worries may struggle to focus on their studies,\n",
    "# leading to lower academic performance, higher dropout rates."
   ]
  },
  {
   "cell_type": "code",
   "execution_count": 73,
   "metadata": {},
   "outputs": [],
   "source": [
    "# Now lets analyse the Top-3 subjects in which degrees are awarded in Tier-1 and Tier-2 institutes."
   ]
  },
  {
   "cell_type": "code",
   "execution_count": 74,
   "metadata": {},
   "outputs": [
    {
     "data": {
      "text/html": [
       "<div>\n",
       "<style scoped>\n",
       "    .dataframe tbody tr th:only-of-type {\n",
       "        vertical-align: middle;\n",
       "    }\n",
       "\n",
       "    .dataframe tbody tr th {\n",
       "        vertical-align: top;\n",
       "    }\n",
       "\n",
       "    .dataframe thead th {\n",
       "        text-align: right;\n",
       "    }\n",
       "</style>\n",
       "<table border=\"1\" class=\"dataframe\">\n",
       "  <thead>\n",
       "    <tr style=\"text-align: right;\">\n",
       "      <th></th>\n",
       "      <th></th>\n",
       "      <th>UNITID</th>\n",
       "      <th>INSTNM</th>\n",
       "      <th>CONTROL</th>\n",
       "      <th>ADM_RATE_ALL</th>\n",
       "      <th>C100_4</th>\n",
       "      <th>SAT_AVG_ALL</th>\n",
       "      <th>UGDS</th>\n",
       "      <th>UGDS_WHITE</th>\n",
       "      <th>UGDS_BLACK</th>\n",
       "      <th>UGDS_ASIAN</th>\n",
       "      <th>UGDS_HISP</th>\n",
       "      <th>MD_EARN_WNE_P6</th>\n",
       "      <th>GRAD_DEBT_MDN</th>\n",
       "      <th>NPT4_PRIV</th>\n",
       "      <th>NPT4_PUB</th>\n",
       "      <th>NPT41_PUB</th>\n",
       "      <th>NPT41_PRIV</th>\n",
       "      <th>NPT42_PUB</th>\n",
       "      <th>NPT42_PRIV</th>\n",
       "      <th>NPT43_PUB</th>\n",
       "      <th>NPT43_PRIV</th>\n",
       "      <th>COSTT4_A</th>\n",
       "      <th>STUFACR</th>\n",
       "      <th>FTFTPCTFLOAN</th>\n",
       "      <th>FTFTPCTPELL</th>\n",
       "      <th>PLUS_DEBT_INST_MD</th>\n",
       "      <th>NUM41_PUB</th>\n",
       "      <th>NUM42_PUB</th>\n",
       "      <th>NUM43_PUB</th>\n",
       "      <th>NUM44_PUB</th>\n",
       "      <th>NUM45_PUB</th>\n",
       "      <th>NUM41_PRIV</th>\n",
       "      <th>NUM42_PRIV</th>\n",
       "      <th>NUM43_PRIV</th>\n",
       "      <th>NUM44_PRIV</th>\n",
       "      <th>NUM45_PRIV</th>\n",
       "      <th>PCIP01</th>\n",
       "      <th>PCIP03</th>\n",
       "      <th>PCIP05</th>\n",
       "      <th>PCIP09</th>\n",
       "      <th>PCIP10</th>\n",
       "      <th>PCIP11</th>\n",
       "      <th>PCIP12</th>\n",
       "      <th>PCIP13</th>\n",
       "      <th>PCIP14</th>\n",
       "      <th>PCIP15</th>\n",
       "      <th>PCIP16</th>\n",
       "      <th>PCIP19</th>\n",
       "      <th>PCIP22</th>\n",
       "      <th>PCIP23</th>\n",
       "      <th>PCIP24</th>\n",
       "      <th>PCIP25</th>\n",
       "      <th>PCIP26</th>\n",
       "      <th>PCIP27</th>\n",
       "      <th>PCIP29</th>\n",
       "      <th>PCIP30</th>\n",
       "      <th>PCIP31</th>\n",
       "      <th>PCIP38</th>\n",
       "      <th>PCIP39</th>\n",
       "      <th>PCIP40</th>\n",
       "      <th>PCIP41</th>\n",
       "      <th>PCIP42</th>\n",
       "      <th>PCIP43</th>\n",
       "      <th>PCIP44</th>\n",
       "      <th>PCIP45</th>\n",
       "      <th>PCIP46</th>\n",
       "      <th>PCIP47</th>\n",
       "      <th>PCIP48</th>\n",
       "      <th>PCIP49</th>\n",
       "      <th>PCIP50</th>\n",
       "      <th>PCIP51</th>\n",
       "      <th>PCIP52</th>\n",
       "      <th>PCIP54</th>\n",
       "      <th>APPLICATIONS</th>\n",
       "    </tr>\n",
       "    <tr>\n",
       "      <th>year</th>\n",
       "      <th>rowNum</th>\n",
       "      <th></th>\n",
       "      <th></th>\n",
       "      <th></th>\n",
       "      <th></th>\n",
       "      <th></th>\n",
       "      <th></th>\n",
       "      <th></th>\n",
       "      <th></th>\n",
       "      <th></th>\n",
       "      <th></th>\n",
       "      <th></th>\n",
       "      <th></th>\n",
       "      <th></th>\n",
       "      <th></th>\n",
       "      <th></th>\n",
       "      <th></th>\n",
       "      <th></th>\n",
       "      <th></th>\n",
       "      <th></th>\n",
       "      <th></th>\n",
       "      <th></th>\n",
       "      <th></th>\n",
       "      <th></th>\n",
       "      <th></th>\n",
       "      <th></th>\n",
       "      <th></th>\n",
       "      <th></th>\n",
       "      <th></th>\n",
       "      <th></th>\n",
       "      <th></th>\n",
       "      <th></th>\n",
       "      <th></th>\n",
       "      <th></th>\n",
       "      <th></th>\n",
       "      <th></th>\n",
       "      <th></th>\n",
       "      <th></th>\n",
       "      <th></th>\n",
       "      <th></th>\n",
       "      <th></th>\n",
       "      <th></th>\n",
       "      <th></th>\n",
       "      <th></th>\n",
       "      <th></th>\n",
       "      <th></th>\n",
       "      <th></th>\n",
       "      <th></th>\n",
       "      <th></th>\n",
       "      <th></th>\n",
       "      <th></th>\n",
       "      <th></th>\n",
       "      <th></th>\n",
       "      <th></th>\n",
       "      <th></th>\n",
       "      <th></th>\n",
       "      <th></th>\n",
       "      <th></th>\n",
       "      <th></th>\n",
       "      <th></th>\n",
       "      <th></th>\n",
       "      <th></th>\n",
       "      <th></th>\n",
       "      <th></th>\n",
       "      <th></th>\n",
       "      <th></th>\n",
       "      <th></th>\n",
       "      <th></th>\n",
       "      <th></th>\n",
       "      <th></th>\n",
       "      <th></th>\n",
       "      <th></th>\n",
       "      <th></th>\n",
       "      <th></th>\n",
       "      <th></th>\n",
       "    </tr>\n",
       "  </thead>\n",
       "  <tbody>\n",
       "    <tr>\n",
       "      <th rowspan=\"5\" valign=\"top\">2010</th>\n",
       "      <th>1188</th>\n",
       "      <td>147767</td>\n",
       "      <td>Northwestern University</td>\n",
       "      <td>2.0</td>\n",
       "      <td>0.2620</td>\n",
       "      <td>0.8727</td>\n",
       "      <td>1427.0</td>\n",
       "      <td>8905.0</td>\n",
       "      <td>0.501118</td>\n",
       "      <td>0.057455</td>\n",
       "      <td>0.178409</td>\n",
       "      <td>0.0000</td>\n",
       "      <td>52800.0</td>\n",
       "      <td>13000.0</td>\n",
       "      <td>29344.0</td>\n",
       "      <td>NaN</td>\n",
       "      <td>NaN</td>\n",
       "      <td>12783.0</td>\n",
       "      <td>NaN</td>\n",
       "      <td>16065.0</td>\n",
       "      <td>NaN</td>\n",
       "      <td>21062.0</td>\n",
       "      <td>52080.0</td>\n",
       "      <td>7.0</td>\n",
       "      <td>0.3056</td>\n",
       "      <td>0.0664</td>\n",
       "      <td>NaN</td>\n",
       "      <td>NaN</td>\n",
       "      <td>NaN</td>\n",
       "      <td>NaN</td>\n",
       "      <td>NaN</td>\n",
       "      <td>NaN</td>\n",
       "      <td>68.0</td>\n",
       "      <td>73.0</td>\n",
       "      <td>122.0</td>\n",
       "      <td>211.0</td>\n",
       "      <td>328.0</td>\n",
       "      <td>0.0</td>\n",
       "      <td>0.0042</td>\n",
       "      <td>0.0065</td>\n",
       "      <td>0.1616</td>\n",
       "      <td>0.0000</td>\n",
       "      <td>0.0083</td>\n",
       "      <td>0.0</td>\n",
       "      <td>0.0051</td>\n",
       "      <td>0.1510</td>\n",
       "      <td>0.0000</td>\n",
       "      <td>0.0269</td>\n",
       "      <td>0.0</td>\n",
       "      <td>0.0</td>\n",
       "      <td>0.0380</td>\n",
       "      <td>0.0023</td>\n",
       "      <td>0.0</td>\n",
       "      <td>0.0357</td>\n",
       "      <td>0.0167</td>\n",
       "      <td>0.0</td>\n",
       "      <td>0.0236</td>\n",
       "      <td>0.0</td>\n",
       "      <td>0.0139</td>\n",
       "      <td>0.0</td>\n",
       "      <td>0.0167</td>\n",
       "      <td>0.0</td>\n",
       "      <td>0.0885</td>\n",
       "      <td>0.0</td>\n",
       "      <td>0.0310</td>\n",
       "      <td>0.1950</td>\n",
       "      <td>0.0</td>\n",
       "      <td>0.0</td>\n",
       "      <td>0.0</td>\n",
       "      <td>0.0</td>\n",
       "      <td>0.0936</td>\n",
       "      <td>0.0204</td>\n",
       "      <td>0.0273</td>\n",
       "      <td>0.0338</td>\n",
       "      <td>33988</td>\n",
       "    </tr>\n",
       "    <tr>\n",
       "      <th>1738</th>\n",
       "      <td>162928</td>\n",
       "      <td>Johns Hopkins University</td>\n",
       "      <td>2.0</td>\n",
       "      <td>0.2782</td>\n",
       "      <td>0.8191</td>\n",
       "      <td>1395.0</td>\n",
       "      <td>5801.0</td>\n",
       "      <td>0.405309</td>\n",
       "      <td>0.062418</td>\n",
       "      <td>0.225018</td>\n",
       "      <td>0.0000</td>\n",
       "      <td>61900.0</td>\n",
       "      <td>14500.0</td>\n",
       "      <td>28857.0</td>\n",
       "      <td>NaN</td>\n",
       "      <td>NaN</td>\n",
       "      <td>13688.0</td>\n",
       "      <td>NaN</td>\n",
       "      <td>14383.0</td>\n",
       "      <td>NaN</td>\n",
       "      <td>16425.0</td>\n",
       "      <td>51478.0</td>\n",
       "      <td>11.0</td>\n",
       "      <td>0.3402</td>\n",
       "      <td>0.1063</td>\n",
       "      <td>NaN</td>\n",
       "      <td>NaN</td>\n",
       "      <td>NaN</td>\n",
       "      <td>NaN</td>\n",
       "      <td>NaN</td>\n",
       "      <td>NaN</td>\n",
       "      <td>63.0</td>\n",
       "      <td>67.0</td>\n",
       "      <td>80.0</td>\n",
       "      <td>120.0</td>\n",
       "      <td>254.0</td>\n",
       "      <td>0.0</td>\n",
       "      <td>0.0000</td>\n",
       "      <td>0.0067</td>\n",
       "      <td>0.0000</td>\n",
       "      <td>0.0094</td>\n",
       "      <td>0.0134</td>\n",
       "      <td>0.0</td>\n",
       "      <td>0.0013</td>\n",
       "      <td>0.1717</td>\n",
       "      <td>0.0000</td>\n",
       "      <td>0.0114</td>\n",
       "      <td>0.0</td>\n",
       "      <td>0.0</td>\n",
       "      <td>0.0362</td>\n",
       "      <td>0.0107</td>\n",
       "      <td>0.0</td>\n",
       "      <td>0.0825</td>\n",
       "      <td>0.0241</td>\n",
       "      <td>0.0</td>\n",
       "      <td>0.0718</td>\n",
       "      <td>0.0</td>\n",
       "      <td>0.0054</td>\n",
       "      <td>0.0</td>\n",
       "      <td>0.0181</td>\n",
       "      <td>0.0</td>\n",
       "      <td>0.0376</td>\n",
       "      <td>0.0</td>\n",
       "      <td>0.0382</td>\n",
       "      <td>0.1482</td>\n",
       "      <td>0.0</td>\n",
       "      <td>0.0</td>\n",
       "      <td>0.0</td>\n",
       "      <td>0.0</td>\n",
       "      <td>0.0577</td>\n",
       "      <td>0.2213</td>\n",
       "      <td>0.0168</td>\n",
       "      <td>0.0174</td>\n",
       "      <td>20851</td>\n",
       "    </tr>\n",
       "    <tr>\n",
       "      <th>1833</th>\n",
       "      <td>166027</td>\n",
       "      <td>Harvard University</td>\n",
       "      <td>2.0</td>\n",
       "      <td>0.0719</td>\n",
       "      <td>0.8775</td>\n",
       "      <td>1468.0</td>\n",
       "      <td>7181.0</td>\n",
       "      <td>0.047500</td>\n",
       "      <td>0.005200</td>\n",
       "      <td>0.005600</td>\n",
       "      <td>0.0053</td>\n",
       "      <td>71500.0</td>\n",
       "      <td>6000.0</td>\n",
       "      <td>7785.0</td>\n",
       "      <td>NaN</td>\n",
       "      <td>NaN</td>\n",
       "      <td>2170.0</td>\n",
       "      <td>NaN</td>\n",
       "      <td>1413.0</td>\n",
       "      <td>NaN</td>\n",
       "      <td>4570.0</td>\n",
       "      <td>50250.0</td>\n",
       "      <td>7.0</td>\n",
       "      <td>0.0270</td>\n",
       "      <td>0.1273</td>\n",
       "      <td>NaN</td>\n",
       "      <td>NaN</td>\n",
       "      <td>NaN</td>\n",
       "      <td>NaN</td>\n",
       "      <td>NaN</td>\n",
       "      <td>NaN</td>\n",
       "      <td>65.0</td>\n",
       "      <td>72.0</td>\n",
       "      <td>51.0</td>\n",
       "      <td>16.0</td>\n",
       "      <td>39.0</td>\n",
       "      <td>0.0</td>\n",
       "      <td>0.0111</td>\n",
       "      <td>0.0211</td>\n",
       "      <td>0.0000</td>\n",
       "      <td>0.0000</td>\n",
       "      <td>0.0139</td>\n",
       "      <td>0.0</td>\n",
       "      <td>0.0000</td>\n",
       "      <td>0.0173</td>\n",
       "      <td>0.0000</td>\n",
       "      <td>0.0284</td>\n",
       "      <td>0.0</td>\n",
       "      <td>0.0</td>\n",
       "      <td>0.0512</td>\n",
       "      <td>0.0768</td>\n",
       "      <td>0.0</td>\n",
       "      <td>0.1380</td>\n",
       "      <td>0.0462</td>\n",
       "      <td>0.0</td>\n",
       "      <td>0.0000</td>\n",
       "      <td>0.0</td>\n",
       "      <td>0.0139</td>\n",
       "      <td>0.0</td>\n",
       "      <td>0.0590</td>\n",
       "      <td>0.0</td>\n",
       "      <td>0.0540</td>\n",
       "      <td>0.0</td>\n",
       "      <td>0.0000</td>\n",
       "      <td>0.3406</td>\n",
       "      <td>0.0</td>\n",
       "      <td>0.0</td>\n",
       "      <td>0.0</td>\n",
       "      <td>0.0</td>\n",
       "      <td>0.0323</td>\n",
       "      <td>0.0000</td>\n",
       "      <td>0.0000</td>\n",
       "      <td>0.0963</td>\n",
       "      <td>99874</td>\n",
       "    </tr>\n",
       "    <tr>\n",
       "      <th>1857</th>\n",
       "      <td>166683</td>\n",
       "      <td>Massachusetts Institute of Technology</td>\n",
       "      <td>2.0</td>\n",
       "      <td>0.1070</td>\n",
       "      <td>0.8271</td>\n",
       "      <td>1472.0</td>\n",
       "      <td>4218.0</td>\n",
       "      <td>0.363700</td>\n",
       "      <td>0.080800</td>\n",
       "      <td>0.250600</td>\n",
       "      <td>0.1330</td>\n",
       "      <td>81900.0</td>\n",
       "      <td>8853.5</td>\n",
       "      <td>20285.0</td>\n",
       "      <td>NaN</td>\n",
       "      <td>NaN</td>\n",
       "      <td>3400.0</td>\n",
       "      <td>NaN</td>\n",
       "      <td>3834.0</td>\n",
       "      <td>NaN</td>\n",
       "      <td>7874.0</td>\n",
       "      <td>50100.0</td>\n",
       "      <td>8.0</td>\n",
       "      <td>0.2252</td>\n",
       "      <td>0.1679</td>\n",
       "      <td>NaN</td>\n",
       "      <td>NaN</td>\n",
       "      <td>NaN</td>\n",
       "      <td>NaN</td>\n",
       "      <td>NaN</td>\n",
       "      <td>NaN</td>\n",
       "      <td>66.0</td>\n",
       "      <td>63.0</td>\n",
       "      <td>53.0</td>\n",
       "      <td>68.0</td>\n",
       "      <td>179.0</td>\n",
       "      <td>0.0</td>\n",
       "      <td>0.0000</td>\n",
       "      <td>0.0000</td>\n",
       "      <td>0.0035</td>\n",
       "      <td>0.0000</td>\n",
       "      <td>0.1466</td>\n",
       "      <td>0.0</td>\n",
       "      <td>0.0000</td>\n",
       "      <td>0.3997</td>\n",
       "      <td>0.0000</td>\n",
       "      <td>0.0017</td>\n",
       "      <td>0.0</td>\n",
       "      <td>0.0</td>\n",
       "      <td>0.0017</td>\n",
       "      <td>0.0087</td>\n",
       "      <td>0.0</td>\n",
       "      <td>0.0637</td>\n",
       "      <td>0.0785</td>\n",
       "      <td>0.0</td>\n",
       "      <td>0.0585</td>\n",
       "      <td>0.0</td>\n",
       "      <td>0.0026</td>\n",
       "      <td>0.0</td>\n",
       "      <td>0.1047</td>\n",
       "      <td>0.0</td>\n",
       "      <td>0.0000</td>\n",
       "      <td>0.0</td>\n",
       "      <td>0.0000</td>\n",
       "      <td>0.0462</td>\n",
       "      <td>0.0</td>\n",
       "      <td>0.0</td>\n",
       "      <td>0.0</td>\n",
       "      <td>0.0</td>\n",
       "      <td>0.0061</td>\n",
       "      <td>0.0000</td>\n",
       "      <td>0.0593</td>\n",
       "      <td>0.0009</td>\n",
       "      <td>39420</td>\n",
       "    </tr>\n",
       "    <tr>\n",
       "      <th>2297</th>\n",
       "      <td>179867</td>\n",
       "      <td>Washington University in St Louis</td>\n",
       "      <td>2.0</td>\n",
       "      <td>0.2219</td>\n",
       "      <td>0.8436</td>\n",
       "      <td>1462.0</td>\n",
       "      <td>6436.0</td>\n",
       "      <td>0.535627</td>\n",
       "      <td>0.070236</td>\n",
       "      <td>0.170036</td>\n",
       "      <td>0.0000</td>\n",
       "      <td>53700.0</td>\n",
       "      <td>14875.0</td>\n",
       "      <td>29202.0</td>\n",
       "      <td>NaN</td>\n",
       "      <td>NaN</td>\n",
       "      <td>18549.0</td>\n",
       "      <td>NaN</td>\n",
       "      <td>12208.0</td>\n",
       "      <td>NaN</td>\n",
       "      <td>18652.0</td>\n",
       "      <td>52464.0</td>\n",
       "      <td>7.0</td>\n",
       "      <td>0.2781</td>\n",
       "      <td>0.0621</td>\n",
       "      <td>NaN</td>\n",
       "      <td>NaN</td>\n",
       "      <td>NaN</td>\n",
       "      <td>NaN</td>\n",
       "      <td>NaN</td>\n",
       "      <td>NaN</td>\n",
       "      <td>37.0</td>\n",
       "      <td>52.0</td>\n",
       "      <td>80.0</td>\n",
       "      <td>129.0</td>\n",
       "      <td>227.0</td>\n",
       "      <td>0.0</td>\n",
       "      <td>0.0163</td>\n",
       "      <td>0.0460</td>\n",
       "      <td>0.0018</td>\n",
       "      <td>0.0000</td>\n",
       "      <td>0.0242</td>\n",
       "      <td>0.0</td>\n",
       "      <td>0.0030</td>\n",
       "      <td>0.1416</td>\n",
       "      <td>0.0000</td>\n",
       "      <td>0.0345</td>\n",
       "      <td>0.0</td>\n",
       "      <td>0.0</td>\n",
       "      <td>0.0351</td>\n",
       "      <td>0.0042</td>\n",
       "      <td>0.0</td>\n",
       "      <td>0.0593</td>\n",
       "      <td>0.0176</td>\n",
       "      <td>0.0</td>\n",
       "      <td>0.0557</td>\n",
       "      <td>0.0</td>\n",
       "      <td>0.0121</td>\n",
       "      <td>0.0</td>\n",
       "      <td>0.0278</td>\n",
       "      <td>0.0</td>\n",
       "      <td>0.0866</td>\n",
       "      <td>0.0</td>\n",
       "      <td>0.0000</td>\n",
       "      <td>0.1701</td>\n",
       "      <td>0.0</td>\n",
       "      <td>0.0</td>\n",
       "      <td>0.0</td>\n",
       "      <td>0.0</td>\n",
       "      <td>0.0841</td>\n",
       "      <td>0.0018</td>\n",
       "      <td>0.1332</td>\n",
       "      <td>0.0236</td>\n",
       "      <td>29004</td>\n",
       "    </tr>\n",
       "    <tr>\n",
       "      <th>...</th>\n",
       "      <th>...</th>\n",
       "      <td>...</td>\n",
       "      <td>...</td>\n",
       "      <td>...</td>\n",
       "      <td>...</td>\n",
       "      <td>...</td>\n",
       "      <td>...</td>\n",
       "      <td>...</td>\n",
       "      <td>...</td>\n",
       "      <td>...</td>\n",
       "      <td>...</td>\n",
       "      <td>...</td>\n",
       "      <td>...</td>\n",
       "      <td>...</td>\n",
       "      <td>...</td>\n",
       "      <td>...</td>\n",
       "      <td>...</td>\n",
       "      <td>...</td>\n",
       "      <td>...</td>\n",
       "      <td>...</td>\n",
       "      <td>...</td>\n",
       "      <td>...</td>\n",
       "      <td>...</td>\n",
       "      <td>...</td>\n",
       "      <td>...</td>\n",
       "      <td>...</td>\n",
       "      <td>...</td>\n",
       "      <td>...</td>\n",
       "      <td>...</td>\n",
       "      <td>...</td>\n",
       "      <td>...</td>\n",
       "      <td>...</td>\n",
       "      <td>...</td>\n",
       "      <td>...</td>\n",
       "      <td>...</td>\n",
       "      <td>...</td>\n",
       "      <td>...</td>\n",
       "      <td>...</td>\n",
       "      <td>...</td>\n",
       "      <td>...</td>\n",
       "      <td>...</td>\n",
       "      <td>...</td>\n",
       "      <td>...</td>\n",
       "      <td>...</td>\n",
       "      <td>...</td>\n",
       "      <td>...</td>\n",
       "      <td>...</td>\n",
       "      <td>...</td>\n",
       "      <td>...</td>\n",
       "      <td>...</td>\n",
       "      <td>...</td>\n",
       "      <td>...</td>\n",
       "      <td>...</td>\n",
       "      <td>...</td>\n",
       "      <td>...</td>\n",
       "      <td>...</td>\n",
       "      <td>...</td>\n",
       "      <td>...</td>\n",
       "      <td>...</td>\n",
       "      <td>...</td>\n",
       "      <td>...</td>\n",
       "      <td>...</td>\n",
       "      <td>...</td>\n",
       "      <td>...</td>\n",
       "      <td>...</td>\n",
       "      <td>...</td>\n",
       "      <td>...</td>\n",
       "      <td>...</td>\n",
       "      <td>...</td>\n",
       "      <td>...</td>\n",
       "      <td>...</td>\n",
       "      <td>...</td>\n",
       "      <td>...</td>\n",
       "      <td>...</td>\n",
       "      <td>...</td>\n",
       "    </tr>\n",
       "    <tr>\n",
       "      <th rowspan=\"5\" valign=\"top\">2011</th>\n",
       "      <th>2444</th>\n",
       "      <td>186131</td>\n",
       "      <td>Princeton University</td>\n",
       "      <td>2.0</td>\n",
       "      <td>0.0880</td>\n",
       "      <td>0.9009</td>\n",
       "      <td>1485.0</td>\n",
       "      <td>5142.0</td>\n",
       "      <td>0.487900</td>\n",
       "      <td>0.075500</td>\n",
       "      <td>0.168800</td>\n",
       "      <td>0.0774</td>\n",
       "      <td>45885.0</td>\n",
       "      <td>7500.0</td>\n",
       "      <td>9214.0</td>\n",
       "      <td>NaN</td>\n",
       "      <td>NaN</td>\n",
       "      <td>4995.0</td>\n",
       "      <td>NaN</td>\n",
       "      <td>5089.0</td>\n",
       "      <td>NaN</td>\n",
       "      <td>6498.0</td>\n",
       "      <td>51260.0</td>\n",
       "      <td>6.0</td>\n",
       "      <td>0.0510</td>\n",
       "      <td>0.1042</td>\n",
       "      <td>NaN</td>\n",
       "      <td>NaN</td>\n",
       "      <td>NaN</td>\n",
       "      <td>NaN</td>\n",
       "      <td>NaN</td>\n",
       "      <td>NaN</td>\n",
       "      <td>65.0</td>\n",
       "      <td>51.0</td>\n",
       "      <td>40.0</td>\n",
       "      <td>25.0</td>\n",
       "      <td>29.0</td>\n",
       "      <td>0.0</td>\n",
       "      <td>0.0000</td>\n",
       "      <td>0.0194</td>\n",
       "      <td>0.0000</td>\n",
       "      <td>0.0000</td>\n",
       "      <td>0.0000</td>\n",
       "      <td>0.0</td>\n",
       "      <td>0.0000</td>\n",
       "      <td>0.1860</td>\n",
       "      <td>0.0000</td>\n",
       "      <td>0.0614</td>\n",
       "      <td>0.0</td>\n",
       "      <td>0.0</td>\n",
       "      <td>0.0488</td>\n",
       "      <td>0.0000</td>\n",
       "      <td>0.0</td>\n",
       "      <td>0.0783</td>\n",
       "      <td>0.0261</td>\n",
       "      <td>0.0</td>\n",
       "      <td>0.0017</td>\n",
       "      <td>0.0</td>\n",
       "      <td>0.0631</td>\n",
       "      <td>0.0</td>\n",
       "      <td>0.0606</td>\n",
       "      <td>0.0</td>\n",
       "      <td>0.0471</td>\n",
       "      <td>0.0</td>\n",
       "      <td>0.0640</td>\n",
       "      <td>0.2365</td>\n",
       "      <td>0.0</td>\n",
       "      <td>0.0</td>\n",
       "      <td>0.0</td>\n",
       "      <td>0.0</td>\n",
       "      <td>0.0269</td>\n",
       "      <td>0.0000</td>\n",
       "      <td>0.0000</td>\n",
       "      <td>0.0673</td>\n",
       "      <td>58431</td>\n",
       "    </tr>\n",
       "    <tr>\n",
       "      <th>2861</th>\n",
       "      <td>198419</td>\n",
       "      <td>Duke University</td>\n",
       "      <td>2.0</td>\n",
       "      <td>0.1886</td>\n",
       "      <td>0.8682</td>\n",
       "      <td>1432.0</td>\n",
       "      <td>6545.0</td>\n",
       "      <td>0.470400</td>\n",
       "      <td>0.089700</td>\n",
       "      <td>0.214100</td>\n",
       "      <td>0.0666</td>\n",
       "      <td>63555.0</td>\n",
       "      <td>7363.0</td>\n",
       "      <td>23085.0</td>\n",
       "      <td>NaN</td>\n",
       "      <td>NaN</td>\n",
       "      <td>7596.0</td>\n",
       "      <td>NaN</td>\n",
       "      <td>5304.0</td>\n",
       "      <td>NaN</td>\n",
       "      <td>13912.0</td>\n",
       "      <td>53035.0</td>\n",
       "      <td>8.0</td>\n",
       "      <td>0.3151</td>\n",
       "      <td>0.1283</td>\n",
       "      <td>NaN</td>\n",
       "      <td>NaN</td>\n",
       "      <td>NaN</td>\n",
       "      <td>NaN</td>\n",
       "      <td>NaN</td>\n",
       "      <td>NaN</td>\n",
       "      <td>106.0</td>\n",
       "      <td>87.0</td>\n",
       "      <td>90.0</td>\n",
       "      <td>150.0</td>\n",
       "      <td>290.0</td>\n",
       "      <td>0.0</td>\n",
       "      <td>0.0111</td>\n",
       "      <td>0.0327</td>\n",
       "      <td>0.0000</td>\n",
       "      <td>0.0000</td>\n",
       "      <td>0.0074</td>\n",
       "      <td>0.0</td>\n",
       "      <td>0.0000</td>\n",
       "      <td>0.1491</td>\n",
       "      <td>0.0000</td>\n",
       "      <td>0.0240</td>\n",
       "      <td>0.0</td>\n",
       "      <td>0.0</td>\n",
       "      <td>0.0450</td>\n",
       "      <td>0.0000</td>\n",
       "      <td>0.0</td>\n",
       "      <td>0.0961</td>\n",
       "      <td>0.0203</td>\n",
       "      <td>0.0</td>\n",
       "      <td>0.0092</td>\n",
       "      <td>0.0</td>\n",
       "      <td>0.0166</td>\n",
       "      <td>0.0</td>\n",
       "      <td>0.0400</td>\n",
       "      <td>0.0</td>\n",
       "      <td>0.0992</td>\n",
       "      <td>0.0</td>\n",
       "      <td>0.0746</td>\n",
       "      <td>0.2526</td>\n",
       "      <td>0.0</td>\n",
       "      <td>0.0</td>\n",
       "      <td>0.0</td>\n",
       "      <td>0.0</td>\n",
       "      <td>0.0253</td>\n",
       "      <td>0.0419</td>\n",
       "      <td>0.0000</td>\n",
       "      <td>0.0548</td>\n",
       "      <td>34703</td>\n",
       "    </tr>\n",
       "    <tr>\n",
       "      <th>3541</th>\n",
       "      <td>215062</td>\n",
       "      <td>University of Pennsylvania</td>\n",
       "      <td>2.0</td>\n",
       "      <td>0.1426</td>\n",
       "      <td>0.8860</td>\n",
       "      <td>1435.0</td>\n",
       "      <td>10882.0</td>\n",
       "      <td>0.457900</td>\n",
       "      <td>0.075300</td>\n",
       "      <td>0.176400</td>\n",
       "      <td>0.0652</td>\n",
       "      <td>64030.0</td>\n",
       "      <td>13500.0</td>\n",
       "      <td>24596.0</td>\n",
       "      <td>NaN</td>\n",
       "      <td>NaN</td>\n",
       "      <td>6295.0</td>\n",
       "      <td>NaN</td>\n",
       "      <td>7142.0</td>\n",
       "      <td>NaN</td>\n",
       "      <td>13205.0</td>\n",
       "      <td>53250.0</td>\n",
       "      <td>6.0</td>\n",
       "      <td>0.2579</td>\n",
       "      <td>0.1290</td>\n",
       "      <td>NaN</td>\n",
       "      <td>NaN</td>\n",
       "      <td>NaN</td>\n",
       "      <td>NaN</td>\n",
       "      <td>NaN</td>\n",
       "      <td>NaN</td>\n",
       "      <td>81.0</td>\n",
       "      <td>127.0</td>\n",
       "      <td>154.0</td>\n",
       "      <td>188.0</td>\n",
       "      <td>483.0</td>\n",
       "      <td>0.0</td>\n",
       "      <td>0.0043</td>\n",
       "      <td>0.0072</td>\n",
       "      <td>0.0400</td>\n",
       "      <td>0.0000</td>\n",
       "      <td>0.0086</td>\n",
       "      <td>0.0</td>\n",
       "      <td>0.0004</td>\n",
       "      <td>0.1116</td>\n",
       "      <td>0.0000</td>\n",
       "      <td>0.0274</td>\n",
       "      <td>0.0</td>\n",
       "      <td>0.0</td>\n",
       "      <td>0.0393</td>\n",
       "      <td>0.0058</td>\n",
       "      <td>0.0</td>\n",
       "      <td>0.0965</td>\n",
       "      <td>0.0140</td>\n",
       "      <td>0.0</td>\n",
       "      <td>0.0194</td>\n",
       "      <td>0.0</td>\n",
       "      <td>0.0439</td>\n",
       "      <td>0.0</td>\n",
       "      <td>0.0112</td>\n",
       "      <td>0.0</td>\n",
       "      <td>0.0295</td>\n",
       "      <td>0.0</td>\n",
       "      <td>0.0054</td>\n",
       "      <td>0.1570</td>\n",
       "      <td>0.0</td>\n",
       "      <td>0.0</td>\n",
       "      <td>0.0</td>\n",
       "      <td>0.0</td>\n",
       "      <td>0.0270</td>\n",
       "      <td>0.0810</td>\n",
       "      <td>0.2125</td>\n",
       "      <td>0.0497</td>\n",
       "      <td>76311</td>\n",
       "    </tr>\n",
       "    <tr>\n",
       "      <th>3627</th>\n",
       "      <td>217156</td>\n",
       "      <td>Brown University</td>\n",
       "      <td>2.0</td>\n",
       "      <td>0.0934</td>\n",
       "      <td>0.8565</td>\n",
       "      <td>1415.0</td>\n",
       "      <td>6102.0</td>\n",
       "      <td>0.459000</td>\n",
       "      <td>0.059200</td>\n",
       "      <td>0.145700</td>\n",
       "      <td>0.0923</td>\n",
       "      <td>42370.0</td>\n",
       "      <td>12500.0</td>\n",
       "      <td>25281.0</td>\n",
       "      <td>NaN</td>\n",
       "      <td>NaN</td>\n",
       "      <td>5771.0</td>\n",
       "      <td>NaN</td>\n",
       "      <td>4884.0</td>\n",
       "      <td>NaN</td>\n",
       "      <td>12853.0</td>\n",
       "      <td>52030.0</td>\n",
       "      <td>9.0</td>\n",
       "      <td>0.2378</td>\n",
       "      <td>0.1326</td>\n",
       "      <td>NaN</td>\n",
       "      <td>NaN</td>\n",
       "      <td>NaN</td>\n",
       "      <td>NaN</td>\n",
       "      <td>NaN</td>\n",
       "      <td>NaN</td>\n",
       "      <td>61.0</td>\n",
       "      <td>61.0</td>\n",
       "      <td>70.0</td>\n",
       "      <td>72.0</td>\n",
       "      <td>231.0</td>\n",
       "      <td>0.0</td>\n",
       "      <td>0.0121</td>\n",
       "      <td>0.0465</td>\n",
       "      <td>0.0121</td>\n",
       "      <td>0.0000</td>\n",
       "      <td>0.0256</td>\n",
       "      <td>0.0</td>\n",
       "      <td>0.0101</td>\n",
       "      <td>0.0587</td>\n",
       "      <td>0.0000</td>\n",
       "      <td>0.0391</td>\n",
       "      <td>0.0</td>\n",
       "      <td>0.0</td>\n",
       "      <td>0.0553</td>\n",
       "      <td>0.0000</td>\n",
       "      <td>0.0</td>\n",
       "      <td>0.1133</td>\n",
       "      <td>0.0405</td>\n",
       "      <td>0.0</td>\n",
       "      <td>0.0647</td>\n",
       "      <td>0.0</td>\n",
       "      <td>0.0236</td>\n",
       "      <td>0.0</td>\n",
       "      <td>0.0378</td>\n",
       "      <td>0.0</td>\n",
       "      <td>0.0276</td>\n",
       "      <td>0.0</td>\n",
       "      <td>0.0148</td>\n",
       "      <td>0.2569</td>\n",
       "      <td>0.0</td>\n",
       "      <td>0.0</td>\n",
       "      <td>0.0</td>\n",
       "      <td>0.0</td>\n",
       "      <td>0.0472</td>\n",
       "      <td>0.0216</td>\n",
       "      <td>0.0418</td>\n",
       "      <td>0.0506</td>\n",
       "      <td>65331</td>\n",
       "    </tr>\n",
       "    <tr>\n",
       "      <th>4495</th>\n",
       "      <td>243744</td>\n",
       "      <td>Stanford University</td>\n",
       "      <td>2.0</td>\n",
       "      <td>0.0731</td>\n",
       "      <td>0.7836</td>\n",
       "      <td>1452.0</td>\n",
       "      <td>6887.0</td>\n",
       "      <td>0.389100</td>\n",
       "      <td>0.070300</td>\n",
       "      <td>0.179300</td>\n",
       "      <td>0.1568</td>\n",
       "      <td>70205.0</td>\n",
       "      <td>7500.0</td>\n",
       "      <td>16361.0</td>\n",
       "      <td>NaN</td>\n",
       "      <td>NaN</td>\n",
       "      <td>4496.0</td>\n",
       "      <td>NaN</td>\n",
       "      <td>4736.0</td>\n",
       "      <td>NaN</td>\n",
       "      <td>7041.0</td>\n",
       "      <td>54009.0</td>\n",
       "      <td>10.0</td>\n",
       "      <td>0.1263</td>\n",
       "      <td>0.1535</td>\n",
       "      <td>NaN</td>\n",
       "      <td>NaN</td>\n",
       "      <td>NaN</td>\n",
       "      <td>NaN</td>\n",
       "      <td>NaN</td>\n",
       "      <td>NaN</td>\n",
       "      <td>74.0</td>\n",
       "      <td>86.0</td>\n",
       "      <td>87.0</td>\n",
       "      <td>53.0</td>\n",
       "      <td>133.0</td>\n",
       "      <td>0.0</td>\n",
       "      <td>0.0000</td>\n",
       "      <td>0.0209</td>\n",
       "      <td>0.0221</td>\n",
       "      <td>0.0000</td>\n",
       "      <td>0.0509</td>\n",
       "      <td>0.0</td>\n",
       "      <td>0.0000</td>\n",
       "      <td>0.1400</td>\n",
       "      <td>0.0353</td>\n",
       "      <td>0.0287</td>\n",
       "      <td>0.0</td>\n",
       "      <td>0.0</td>\n",
       "      <td>0.0401</td>\n",
       "      <td>0.0036</td>\n",
       "      <td>0.0</td>\n",
       "      <td>0.0730</td>\n",
       "      <td>0.0299</td>\n",
       "      <td>0.0</td>\n",
       "      <td>0.1628</td>\n",
       "      <td>0.0</td>\n",
       "      <td>0.0144</td>\n",
       "      <td>0.0</td>\n",
       "      <td>0.0521</td>\n",
       "      <td>0.0</td>\n",
       "      <td>0.0425</td>\n",
       "      <td>0.0</td>\n",
       "      <td>0.0132</td>\n",
       "      <td>0.2142</td>\n",
       "      <td>0.0</td>\n",
       "      <td>0.0</td>\n",
       "      <td>0.0</td>\n",
       "      <td>0.0</td>\n",
       "      <td>0.0221</td>\n",
       "      <td>0.0000</td>\n",
       "      <td>0.0000</td>\n",
       "      <td>0.0341</td>\n",
       "      <td>94213</td>\n",
       "    </tr>\n",
       "  </tbody>\n",
       "</table>\n",
       "<p>20 rows × 74 columns</p>\n",
       "</div>"
      ],
      "text/plain": [
       "             UNITID                                 INSTNM  CONTROL  \\\n",
       "year rowNum                                                           \n",
       "2010 1188    147767                Northwestern University      2.0   \n",
       "     1738    162928               Johns Hopkins University      2.0   \n",
       "     1833    166027                     Harvard University      2.0   \n",
       "     1857    166683  Massachusetts Institute of Technology      2.0   \n",
       "     2297    179867      Washington University in St Louis      2.0   \n",
       "...             ...                                    ...      ...   \n",
       "2011 2444    186131                   Princeton University      2.0   \n",
       "     2861    198419                        Duke University      2.0   \n",
       "     3541    215062             University of Pennsylvania      2.0   \n",
       "     3627    217156                       Brown University      2.0   \n",
       "     4495    243744                    Stanford University      2.0   \n",
       "\n",
       "             ADM_RATE_ALL  C100_4  SAT_AVG_ALL     UGDS  UGDS_WHITE  \\\n",
       "year rowNum                                                           \n",
       "2010 1188          0.2620  0.8727       1427.0   8905.0    0.501118   \n",
       "     1738          0.2782  0.8191       1395.0   5801.0    0.405309   \n",
       "     1833          0.0719  0.8775       1468.0   7181.0    0.047500   \n",
       "     1857          0.1070  0.8271       1472.0   4218.0    0.363700   \n",
       "     2297          0.2219  0.8436       1462.0   6436.0    0.535627   \n",
       "...                   ...     ...          ...      ...         ...   \n",
       "2011 2444          0.0880  0.9009       1485.0   5142.0    0.487900   \n",
       "     2861          0.1886  0.8682       1432.0   6545.0    0.470400   \n",
       "     3541          0.1426  0.8860       1435.0  10882.0    0.457900   \n",
       "     3627          0.0934  0.8565       1415.0   6102.0    0.459000   \n",
       "     4495          0.0731  0.7836       1452.0   6887.0    0.389100   \n",
       "\n",
       "             UGDS_BLACK  UGDS_ASIAN  UGDS_HISP  MD_EARN_WNE_P6  GRAD_DEBT_MDN  \\\n",
       "year rowNum                                                                     \n",
       "2010 1188      0.057455    0.178409     0.0000         52800.0        13000.0   \n",
       "     1738      0.062418    0.225018     0.0000         61900.0        14500.0   \n",
       "     1833      0.005200    0.005600     0.0053         71500.0         6000.0   \n",
       "     1857      0.080800    0.250600     0.1330         81900.0         8853.5   \n",
       "     2297      0.070236    0.170036     0.0000         53700.0        14875.0   \n",
       "...                 ...         ...        ...             ...            ...   \n",
       "2011 2444      0.075500    0.168800     0.0774         45885.0         7500.0   \n",
       "     2861      0.089700    0.214100     0.0666         63555.0         7363.0   \n",
       "     3541      0.075300    0.176400     0.0652         64030.0        13500.0   \n",
       "     3627      0.059200    0.145700     0.0923         42370.0        12500.0   \n",
       "     4495      0.070300    0.179300     0.1568         70205.0         7500.0   \n",
       "\n",
       "             NPT4_PRIV  NPT4_PUB  NPT41_PUB  NPT41_PRIV  NPT42_PUB  \\\n",
       "year rowNum                                                          \n",
       "2010 1188      29344.0       NaN        NaN     12783.0        NaN   \n",
       "     1738      28857.0       NaN        NaN     13688.0        NaN   \n",
       "     1833       7785.0       NaN        NaN      2170.0        NaN   \n",
       "     1857      20285.0       NaN        NaN      3400.0        NaN   \n",
       "     2297      29202.0       NaN        NaN     18549.0        NaN   \n",
       "...                ...       ...        ...         ...        ...   \n",
       "2011 2444       9214.0       NaN        NaN      4995.0        NaN   \n",
       "     2861      23085.0       NaN        NaN      7596.0        NaN   \n",
       "     3541      24596.0       NaN        NaN      6295.0        NaN   \n",
       "     3627      25281.0       NaN        NaN      5771.0        NaN   \n",
       "     4495      16361.0       NaN        NaN      4496.0        NaN   \n",
       "\n",
       "             NPT42_PRIV  NPT43_PUB  NPT43_PRIV  COSTT4_A  STUFACR  \\\n",
       "year rowNum                                                         \n",
       "2010 1188       16065.0        NaN     21062.0   52080.0      7.0   \n",
       "     1738       14383.0        NaN     16425.0   51478.0     11.0   \n",
       "     1833        1413.0        NaN      4570.0   50250.0      7.0   \n",
       "     1857        3834.0        NaN      7874.0   50100.0      8.0   \n",
       "     2297       12208.0        NaN     18652.0   52464.0      7.0   \n",
       "...                 ...        ...         ...       ...      ...   \n",
       "2011 2444        5089.0        NaN      6498.0   51260.0      6.0   \n",
       "     2861        5304.0        NaN     13912.0   53035.0      8.0   \n",
       "     3541        7142.0        NaN     13205.0   53250.0      6.0   \n",
       "     3627        4884.0        NaN     12853.0   52030.0      9.0   \n",
       "     4495        4736.0        NaN      7041.0   54009.0     10.0   \n",
       "\n",
       "             FTFTPCTFLOAN  FTFTPCTPELL PLUS_DEBT_INST_MD  NUM41_PUB  \\\n",
       "year rowNum                                                           \n",
       "2010 1188          0.3056       0.0664               NaN        NaN   \n",
       "     1738          0.3402       0.1063               NaN        NaN   \n",
       "     1833          0.0270       0.1273               NaN        NaN   \n",
       "     1857          0.2252       0.1679               NaN        NaN   \n",
       "     2297          0.2781       0.0621               NaN        NaN   \n",
       "...                   ...          ...               ...        ...   \n",
       "2011 2444          0.0510       0.1042               NaN        NaN   \n",
       "     2861          0.3151       0.1283               NaN        NaN   \n",
       "     3541          0.2579       0.1290               NaN        NaN   \n",
       "     3627          0.2378       0.1326               NaN        NaN   \n",
       "     4495          0.1263       0.1535               NaN        NaN   \n",
       "\n",
       "             NUM42_PUB  NUM43_PUB  NUM44_PUB  NUM45_PUB  NUM41_PRIV  \\\n",
       "year rowNum                                                           \n",
       "2010 1188          NaN        NaN        NaN        NaN        68.0   \n",
       "     1738          NaN        NaN        NaN        NaN        63.0   \n",
       "     1833          NaN        NaN        NaN        NaN        65.0   \n",
       "     1857          NaN        NaN        NaN        NaN        66.0   \n",
       "     2297          NaN        NaN        NaN        NaN        37.0   \n",
       "...                ...        ...        ...        ...         ...   \n",
       "2011 2444          NaN        NaN        NaN        NaN        65.0   \n",
       "     2861          NaN        NaN        NaN        NaN       106.0   \n",
       "     3541          NaN        NaN        NaN        NaN        81.0   \n",
       "     3627          NaN        NaN        NaN        NaN        61.0   \n",
       "     4495          NaN        NaN        NaN        NaN        74.0   \n",
       "\n",
       "             NUM42_PRIV  NUM43_PRIV  NUM44_PRIV  NUM45_PRIV  PCIP01  PCIP03  \\\n",
       "year rowNum                                                                   \n",
       "2010 1188          73.0       122.0       211.0       328.0     0.0  0.0042   \n",
       "     1738          67.0        80.0       120.0       254.0     0.0  0.0000   \n",
       "     1833          72.0        51.0        16.0        39.0     0.0  0.0111   \n",
       "     1857          63.0        53.0        68.0       179.0     0.0  0.0000   \n",
       "     2297          52.0        80.0       129.0       227.0     0.0  0.0163   \n",
       "...                 ...         ...         ...         ...     ...     ...   \n",
       "2011 2444          51.0        40.0        25.0        29.0     0.0  0.0000   \n",
       "     2861          87.0        90.0       150.0       290.0     0.0  0.0111   \n",
       "     3541         127.0       154.0       188.0       483.0     0.0  0.0043   \n",
       "     3627          61.0        70.0        72.0       231.0     0.0  0.0121   \n",
       "     4495          86.0        87.0        53.0       133.0     0.0  0.0000   \n",
       "\n",
       "             PCIP05  PCIP09  PCIP10  PCIP11  PCIP12  PCIP13  PCIP14  PCIP15  \\\n",
       "year rowNum                                                                   \n",
       "2010 1188    0.0065  0.1616  0.0000  0.0083     0.0  0.0051  0.1510  0.0000   \n",
       "     1738    0.0067  0.0000  0.0094  0.0134     0.0  0.0013  0.1717  0.0000   \n",
       "     1833    0.0211  0.0000  0.0000  0.0139     0.0  0.0000  0.0173  0.0000   \n",
       "     1857    0.0000  0.0035  0.0000  0.1466     0.0  0.0000  0.3997  0.0000   \n",
       "     2297    0.0460  0.0018  0.0000  0.0242     0.0  0.0030  0.1416  0.0000   \n",
       "...             ...     ...     ...     ...     ...     ...     ...     ...   \n",
       "2011 2444    0.0194  0.0000  0.0000  0.0000     0.0  0.0000  0.1860  0.0000   \n",
       "     2861    0.0327  0.0000  0.0000  0.0074     0.0  0.0000  0.1491  0.0000   \n",
       "     3541    0.0072  0.0400  0.0000  0.0086     0.0  0.0004  0.1116  0.0000   \n",
       "     3627    0.0465  0.0121  0.0000  0.0256     0.0  0.0101  0.0587  0.0000   \n",
       "     4495    0.0209  0.0221  0.0000  0.0509     0.0  0.0000  0.1400  0.0353   \n",
       "\n",
       "             PCIP16  PCIP19  PCIP22  PCIP23  PCIP24  PCIP25  PCIP26  PCIP27  \\\n",
       "year rowNum                                                                   \n",
       "2010 1188    0.0269     0.0     0.0  0.0380  0.0023     0.0  0.0357  0.0167   \n",
       "     1738    0.0114     0.0     0.0  0.0362  0.0107     0.0  0.0825  0.0241   \n",
       "     1833    0.0284     0.0     0.0  0.0512  0.0768     0.0  0.1380  0.0462   \n",
       "     1857    0.0017     0.0     0.0  0.0017  0.0087     0.0  0.0637  0.0785   \n",
       "     2297    0.0345     0.0     0.0  0.0351  0.0042     0.0  0.0593  0.0176   \n",
       "...             ...     ...     ...     ...     ...     ...     ...     ...   \n",
       "2011 2444    0.0614     0.0     0.0  0.0488  0.0000     0.0  0.0783  0.0261   \n",
       "     2861    0.0240     0.0     0.0  0.0450  0.0000     0.0  0.0961  0.0203   \n",
       "     3541    0.0274     0.0     0.0  0.0393  0.0058     0.0  0.0965  0.0140   \n",
       "     3627    0.0391     0.0     0.0  0.0553  0.0000     0.0  0.1133  0.0405   \n",
       "     4495    0.0287     0.0     0.0  0.0401  0.0036     0.0  0.0730  0.0299   \n",
       "\n",
       "             PCIP29  PCIP30  PCIP31  PCIP38  PCIP39  PCIP40  PCIP41  PCIP42  \\\n",
       "year rowNum                                                                   \n",
       "2010 1188       0.0  0.0236     0.0  0.0139     0.0  0.0167     0.0  0.0885   \n",
       "     1738       0.0  0.0718     0.0  0.0054     0.0  0.0181     0.0  0.0376   \n",
       "     1833       0.0  0.0000     0.0  0.0139     0.0  0.0590     0.0  0.0540   \n",
       "     1857       0.0  0.0585     0.0  0.0026     0.0  0.1047     0.0  0.0000   \n",
       "     2297       0.0  0.0557     0.0  0.0121     0.0  0.0278     0.0  0.0866   \n",
       "...             ...     ...     ...     ...     ...     ...     ...     ...   \n",
       "2011 2444       0.0  0.0017     0.0  0.0631     0.0  0.0606     0.0  0.0471   \n",
       "     2861       0.0  0.0092     0.0  0.0166     0.0  0.0400     0.0  0.0992   \n",
       "     3541       0.0  0.0194     0.0  0.0439     0.0  0.0112     0.0  0.0295   \n",
       "     3627       0.0  0.0647     0.0  0.0236     0.0  0.0378     0.0  0.0276   \n",
       "     4495       0.0  0.1628     0.0  0.0144     0.0  0.0521     0.0  0.0425   \n",
       "\n",
       "             PCIP43  PCIP44  PCIP45  PCIP46  PCIP47  PCIP48  PCIP49  PCIP50  \\\n",
       "year rowNum                                                                   \n",
       "2010 1188       0.0  0.0310  0.1950     0.0     0.0     0.0     0.0  0.0936   \n",
       "     1738       0.0  0.0382  0.1482     0.0     0.0     0.0     0.0  0.0577   \n",
       "     1833       0.0  0.0000  0.3406     0.0     0.0     0.0     0.0  0.0323   \n",
       "     1857       0.0  0.0000  0.0462     0.0     0.0     0.0     0.0  0.0061   \n",
       "     2297       0.0  0.0000  0.1701     0.0     0.0     0.0     0.0  0.0841   \n",
       "...             ...     ...     ...     ...     ...     ...     ...     ...   \n",
       "2011 2444       0.0  0.0640  0.2365     0.0     0.0     0.0     0.0  0.0269   \n",
       "     2861       0.0  0.0746  0.2526     0.0     0.0     0.0     0.0  0.0253   \n",
       "     3541       0.0  0.0054  0.1570     0.0     0.0     0.0     0.0  0.0270   \n",
       "     3627       0.0  0.0148  0.2569     0.0     0.0     0.0     0.0  0.0472   \n",
       "     4495       0.0  0.0132  0.2142     0.0     0.0     0.0     0.0  0.0221   \n",
       "\n",
       "             PCIP51  PCIP52  PCIP54  APPLICATIONS  \n",
       "year rowNum                                        \n",
       "2010 1188    0.0204  0.0273  0.0338         33988  \n",
       "     1738    0.2213  0.0168  0.0174         20851  \n",
       "     1833    0.0000  0.0000  0.0963         99874  \n",
       "     1857    0.0000  0.0593  0.0009         39420  \n",
       "     2297    0.0018  0.1332  0.0236         29004  \n",
       "...             ...     ...     ...           ...  \n",
       "2011 2444    0.0000  0.0000  0.0673         58431  \n",
       "     2861    0.0419  0.0000  0.0548         34703  \n",
       "     3541    0.0810  0.2125  0.0497         76311  \n",
       "     3627    0.0216  0.0418  0.0506         65331  \n",
       "     4495    0.0000  0.0000  0.0341         94213  \n",
       "\n",
       "[20 rows x 74 columns]"
      ]
     },
     "execution_count": 74,
     "metadata": {},
     "output_type": "execute_result"
    }
   ],
   "source": [
    "pd.set_option('display.max_rows', 10)\n",
    "tier1Institutes.head(20)"
   ]
  },
  {
   "cell_type": "code",
   "execution_count": 75,
   "metadata": {},
   "outputs": [],
   "source": [
    "computerTier1 = tier1Institutes.loc[2010:2020]['PCIP11'] # PCIP11 => Computing Subjects\n",
    "computerTier2 = tier2Institutes.loc[2010:2020]['PCIP11']\n",
    "\n",
    "mathsAndStatsTier1 = tier1Institutes.loc[2010:2020]['PCIP27'] # PCIP27 => Mathematics and Statistics Subjects\n",
    "mathsAndStatsTier2 = tier2Institutes.loc[2010:2020]['PCIP27']\n",
    "\n",
    "businessTier1 = tier1Institutes.loc[2010:2020]['PCIP52'] # PCIP52 => Business and Marketing Subjects\n",
    "businessTier2 = tier2Institutes.loc[2010:2020]['PCIP52']\n",
    "\n",
    "biomedicineTier1 = tier1Institutes.loc[2010:2020]['PCIP26'] # PCIP26 => Biology and Biomedicine Related Subjects\n",
    "biomedicineTier2 = tier2Institutes.loc[2010:2020]['PCIP26']\n",
    "\n",
    "computerTier1ByYr = computerTier1.groupby(level='year').mean()\n",
    "computerTier2ByYr = computerTier2.groupby(level='year').mean()\n",
    "\n",
    "mathsAndStatsTier1ByYr = mathsAndStatsTier1.groupby(level='year').mean()\n",
    "mathsAndStatsTier2ByYr = mathsAndStatsTier2.groupby(level='year').mean()\n",
    "\n",
    "businessTier1ByYr = businessTier1.groupby(level='year').mean()\n",
    "businessTier2ByYr = businessTier2.groupby(level='year').mean()\n",
    "\n",
    "biomedicineTier1ByYr = biomedicineTier1.groupby(level='year').mean()\n",
    "biomedicineTier2ByYr = biomedicineTier2.groupby(level='year').mean()"
   ]
  },
  {
   "cell_type": "code",
   "execution_count": 76,
   "metadata": {},
   "outputs": [
    {
     "data": {
      "application/vnd.plotly.v1+json": {
       "config": {
        "plotlyServerURL": "https://plot.ly"
       },
       "data": [
        {
         "mode": "lines",
         "name": "Elite_Computer_Science",
         "type": "scatter",
         "x": [
          2010,
          2011,
          2012,
          2013,
          2014,
          2015,
          2016,
          2017,
          2018,
          2019,
          2020
         ],
         "y": [
          0.02883,
          0.03012,
          0.03347,
          0.03777,
          0.04391,
          0.05887,
          0.06373999999999999,
          0.07585,
          0.08779999999999999,
          0.101,
          0.11459000000000001
         ]
        },
        {
         "fill": "tonextx",
         "mode": "lines",
         "name": "Non-Elite_Computer_Science",
         "type": "scatter",
         "x": [
          2010,
          2011,
          2012,
          2013,
          2014,
          2015,
          2016,
          2017,
          2018,
          2019,
          2020
         ],
         "y": [
          0.01297,
          0.01112,
          0.012690000000000002,
          0.013040000000000001,
          0.012990000000000002,
          0.014599999999999998,
          0.01335,
          0.01763,
          0.01973,
          0.027350000000000003,
          0.03026
         ]
        }
       ],
       "layout": {
        "height": 400,
        "template": {
         "data": {
          "bar": [
           {
            "error_x": {
             "color": "#2a3f5f"
            },
            "error_y": {
             "color": "#2a3f5f"
            },
            "marker": {
             "line": {
              "color": "#E5ECF6",
              "width": 0.5
             },
             "pattern": {
              "fillmode": "overlay",
              "size": 10,
              "solidity": 0.2
             }
            },
            "type": "bar"
           }
          ],
          "barpolar": [
           {
            "marker": {
             "line": {
              "color": "#E5ECF6",
              "width": 0.5
             },
             "pattern": {
              "fillmode": "overlay",
              "size": 10,
              "solidity": 0.2
             }
            },
            "type": "barpolar"
           }
          ],
          "carpet": [
           {
            "aaxis": {
             "endlinecolor": "#2a3f5f",
             "gridcolor": "white",
             "linecolor": "white",
             "minorgridcolor": "white",
             "startlinecolor": "#2a3f5f"
            },
            "baxis": {
             "endlinecolor": "#2a3f5f",
             "gridcolor": "white",
             "linecolor": "white",
             "minorgridcolor": "white",
             "startlinecolor": "#2a3f5f"
            },
            "type": "carpet"
           }
          ],
          "choropleth": [
           {
            "colorbar": {
             "outlinewidth": 0,
             "ticks": ""
            },
            "type": "choropleth"
           }
          ],
          "contour": [
           {
            "colorbar": {
             "outlinewidth": 0,
             "ticks": ""
            },
            "colorscale": [
             [
              0,
              "#0d0887"
             ],
             [
              0.1111111111111111,
              "#46039f"
             ],
             [
              0.2222222222222222,
              "#7201a8"
             ],
             [
              0.3333333333333333,
              "#9c179e"
             ],
             [
              0.4444444444444444,
              "#bd3786"
             ],
             [
              0.5555555555555556,
              "#d8576b"
             ],
             [
              0.6666666666666666,
              "#ed7953"
             ],
             [
              0.7777777777777778,
              "#fb9f3a"
             ],
             [
              0.8888888888888888,
              "#fdca26"
             ],
             [
              1,
              "#f0f921"
             ]
            ],
            "type": "contour"
           }
          ],
          "contourcarpet": [
           {
            "colorbar": {
             "outlinewidth": 0,
             "ticks": ""
            },
            "type": "contourcarpet"
           }
          ],
          "heatmap": [
           {
            "colorbar": {
             "outlinewidth": 0,
             "ticks": ""
            },
            "colorscale": [
             [
              0,
              "#0d0887"
             ],
             [
              0.1111111111111111,
              "#46039f"
             ],
             [
              0.2222222222222222,
              "#7201a8"
             ],
             [
              0.3333333333333333,
              "#9c179e"
             ],
             [
              0.4444444444444444,
              "#bd3786"
             ],
             [
              0.5555555555555556,
              "#d8576b"
             ],
             [
              0.6666666666666666,
              "#ed7953"
             ],
             [
              0.7777777777777778,
              "#fb9f3a"
             ],
             [
              0.8888888888888888,
              "#fdca26"
             ],
             [
              1,
              "#f0f921"
             ]
            ],
            "type": "heatmap"
           }
          ],
          "heatmapgl": [
           {
            "colorbar": {
             "outlinewidth": 0,
             "ticks": ""
            },
            "colorscale": [
             [
              0,
              "#0d0887"
             ],
             [
              0.1111111111111111,
              "#46039f"
             ],
             [
              0.2222222222222222,
              "#7201a8"
             ],
             [
              0.3333333333333333,
              "#9c179e"
             ],
             [
              0.4444444444444444,
              "#bd3786"
             ],
             [
              0.5555555555555556,
              "#d8576b"
             ],
             [
              0.6666666666666666,
              "#ed7953"
             ],
             [
              0.7777777777777778,
              "#fb9f3a"
             ],
             [
              0.8888888888888888,
              "#fdca26"
             ],
             [
              1,
              "#f0f921"
             ]
            ],
            "type": "heatmapgl"
           }
          ],
          "histogram": [
           {
            "marker": {
             "pattern": {
              "fillmode": "overlay",
              "size": 10,
              "solidity": 0.2
             }
            },
            "type": "histogram"
           }
          ],
          "histogram2d": [
           {
            "colorbar": {
             "outlinewidth": 0,
             "ticks": ""
            },
            "colorscale": [
             [
              0,
              "#0d0887"
             ],
             [
              0.1111111111111111,
              "#46039f"
             ],
             [
              0.2222222222222222,
              "#7201a8"
             ],
             [
              0.3333333333333333,
              "#9c179e"
             ],
             [
              0.4444444444444444,
              "#bd3786"
             ],
             [
              0.5555555555555556,
              "#d8576b"
             ],
             [
              0.6666666666666666,
              "#ed7953"
             ],
             [
              0.7777777777777778,
              "#fb9f3a"
             ],
             [
              0.8888888888888888,
              "#fdca26"
             ],
             [
              1,
              "#f0f921"
             ]
            ],
            "type": "histogram2d"
           }
          ],
          "histogram2dcontour": [
           {
            "colorbar": {
             "outlinewidth": 0,
             "ticks": ""
            },
            "colorscale": [
             [
              0,
              "#0d0887"
             ],
             [
              0.1111111111111111,
              "#46039f"
             ],
             [
              0.2222222222222222,
              "#7201a8"
             ],
             [
              0.3333333333333333,
              "#9c179e"
             ],
             [
              0.4444444444444444,
              "#bd3786"
             ],
             [
              0.5555555555555556,
              "#d8576b"
             ],
             [
              0.6666666666666666,
              "#ed7953"
             ],
             [
              0.7777777777777778,
              "#fb9f3a"
             ],
             [
              0.8888888888888888,
              "#fdca26"
             ],
             [
              1,
              "#f0f921"
             ]
            ],
            "type": "histogram2dcontour"
           }
          ],
          "mesh3d": [
           {
            "colorbar": {
             "outlinewidth": 0,
             "ticks": ""
            },
            "type": "mesh3d"
           }
          ],
          "parcoords": [
           {
            "line": {
             "colorbar": {
              "outlinewidth": 0,
              "ticks": ""
             }
            },
            "type": "parcoords"
           }
          ],
          "pie": [
           {
            "automargin": true,
            "type": "pie"
           }
          ],
          "scatter": [
           {
            "fillpattern": {
             "fillmode": "overlay",
             "size": 10,
             "solidity": 0.2
            },
            "type": "scatter"
           }
          ],
          "scatter3d": [
           {
            "line": {
             "colorbar": {
              "outlinewidth": 0,
              "ticks": ""
             }
            },
            "marker": {
             "colorbar": {
              "outlinewidth": 0,
              "ticks": ""
             }
            },
            "type": "scatter3d"
           }
          ],
          "scattercarpet": [
           {
            "marker": {
             "colorbar": {
              "outlinewidth": 0,
              "ticks": ""
             }
            },
            "type": "scattercarpet"
           }
          ],
          "scattergeo": [
           {
            "marker": {
             "colorbar": {
              "outlinewidth": 0,
              "ticks": ""
             }
            },
            "type": "scattergeo"
           }
          ],
          "scattergl": [
           {
            "marker": {
             "colorbar": {
              "outlinewidth": 0,
              "ticks": ""
             }
            },
            "type": "scattergl"
           }
          ],
          "scattermapbox": [
           {
            "marker": {
             "colorbar": {
              "outlinewidth": 0,
              "ticks": ""
             }
            },
            "type": "scattermapbox"
           }
          ],
          "scatterpolar": [
           {
            "marker": {
             "colorbar": {
              "outlinewidth": 0,
              "ticks": ""
             }
            },
            "type": "scatterpolar"
           }
          ],
          "scatterpolargl": [
           {
            "marker": {
             "colorbar": {
              "outlinewidth": 0,
              "ticks": ""
             }
            },
            "type": "scatterpolargl"
           }
          ],
          "scatterternary": [
           {
            "marker": {
             "colorbar": {
              "outlinewidth": 0,
              "ticks": ""
             }
            },
            "type": "scatterternary"
           }
          ],
          "surface": [
           {
            "colorbar": {
             "outlinewidth": 0,
             "ticks": ""
            },
            "colorscale": [
             [
              0,
              "#0d0887"
             ],
             [
              0.1111111111111111,
              "#46039f"
             ],
             [
              0.2222222222222222,
              "#7201a8"
             ],
             [
              0.3333333333333333,
              "#9c179e"
             ],
             [
              0.4444444444444444,
              "#bd3786"
             ],
             [
              0.5555555555555556,
              "#d8576b"
             ],
             [
              0.6666666666666666,
              "#ed7953"
             ],
             [
              0.7777777777777778,
              "#fb9f3a"
             ],
             [
              0.8888888888888888,
              "#fdca26"
             ],
             [
              1,
              "#f0f921"
             ]
            ],
            "type": "surface"
           }
          ],
          "table": [
           {
            "cells": {
             "fill": {
              "color": "#EBF0F8"
             },
             "line": {
              "color": "white"
             }
            },
            "header": {
             "fill": {
              "color": "#C8D4E3"
             },
             "line": {
              "color": "white"
             }
            },
            "type": "table"
           }
          ]
         },
         "layout": {
          "annotationdefaults": {
           "arrowcolor": "#2a3f5f",
           "arrowhead": 0,
           "arrowwidth": 1
          },
          "autotypenumbers": "strict",
          "coloraxis": {
           "colorbar": {
            "outlinewidth": 0,
            "ticks": ""
           }
          },
          "colorscale": {
           "diverging": [
            [
             0,
             "#8e0152"
            ],
            [
             0.1,
             "#c51b7d"
            ],
            [
             0.2,
             "#de77ae"
            ],
            [
             0.3,
             "#f1b6da"
            ],
            [
             0.4,
             "#fde0ef"
            ],
            [
             0.5,
             "#f7f7f7"
            ],
            [
             0.6,
             "#e6f5d0"
            ],
            [
             0.7,
             "#b8e186"
            ],
            [
             0.8,
             "#7fbc41"
            ],
            [
             0.9,
             "#4d9221"
            ],
            [
             1,
             "#276419"
            ]
           ],
           "sequential": [
            [
             0,
             "#0d0887"
            ],
            [
             0.1111111111111111,
             "#46039f"
            ],
            [
             0.2222222222222222,
             "#7201a8"
            ],
            [
             0.3333333333333333,
             "#9c179e"
            ],
            [
             0.4444444444444444,
             "#bd3786"
            ],
            [
             0.5555555555555556,
             "#d8576b"
            ],
            [
             0.6666666666666666,
             "#ed7953"
            ],
            [
             0.7777777777777778,
             "#fb9f3a"
            ],
            [
             0.8888888888888888,
             "#fdca26"
            ],
            [
             1,
             "#f0f921"
            ]
           ],
           "sequentialminus": [
            [
             0,
             "#0d0887"
            ],
            [
             0.1111111111111111,
             "#46039f"
            ],
            [
             0.2222222222222222,
             "#7201a8"
            ],
            [
             0.3333333333333333,
             "#9c179e"
            ],
            [
             0.4444444444444444,
             "#bd3786"
            ],
            [
             0.5555555555555556,
             "#d8576b"
            ],
            [
             0.6666666666666666,
             "#ed7953"
            ],
            [
             0.7777777777777778,
             "#fb9f3a"
            ],
            [
             0.8888888888888888,
             "#fdca26"
            ],
            [
             1,
             "#f0f921"
            ]
           ]
          },
          "colorway": [
           "#636efa",
           "#EF553B",
           "#00cc96",
           "#ab63fa",
           "#FFA15A",
           "#19d3f3",
           "#FF6692",
           "#B6E880",
           "#FF97FF",
           "#FECB52"
          ],
          "font": {
           "color": "#2a3f5f"
          },
          "geo": {
           "bgcolor": "white",
           "lakecolor": "white",
           "landcolor": "#E5ECF6",
           "showlakes": true,
           "showland": true,
           "subunitcolor": "white"
          },
          "hoverlabel": {
           "align": "left"
          },
          "hovermode": "closest",
          "mapbox": {
           "style": "light"
          },
          "paper_bgcolor": "white",
          "plot_bgcolor": "#E5ECF6",
          "polar": {
           "angularaxis": {
            "gridcolor": "white",
            "linecolor": "white",
            "ticks": ""
           },
           "bgcolor": "#E5ECF6",
           "radialaxis": {
            "gridcolor": "white",
            "linecolor": "white",
            "ticks": ""
           }
          },
          "scene": {
           "xaxis": {
            "backgroundcolor": "#E5ECF6",
            "gridcolor": "white",
            "gridwidth": 2,
            "linecolor": "white",
            "showbackground": true,
            "ticks": "",
            "zerolinecolor": "white"
           },
           "yaxis": {
            "backgroundcolor": "#E5ECF6",
            "gridcolor": "white",
            "gridwidth": 2,
            "linecolor": "white",
            "showbackground": true,
            "ticks": "",
            "zerolinecolor": "white"
           },
           "zaxis": {
            "backgroundcolor": "#E5ECF6",
            "gridcolor": "white",
            "gridwidth": 2,
            "linecolor": "white",
            "showbackground": true,
            "ticks": "",
            "zerolinecolor": "white"
           }
          },
          "shapedefaults": {
           "line": {
            "color": "#2a3f5f"
           }
          },
          "ternary": {
           "aaxis": {
            "gridcolor": "white",
            "linecolor": "white",
            "ticks": ""
           },
           "baxis": {
            "gridcolor": "white",
            "linecolor": "white",
            "ticks": ""
           },
           "bgcolor": "#E5ECF6",
           "caxis": {
            "gridcolor": "white",
            "linecolor": "white",
            "ticks": ""
           }
          },
          "title": {
           "x": 0.05
          },
          "xaxis": {
           "automargin": true,
           "gridcolor": "white",
           "linecolor": "white",
           "ticks": "",
           "title": {
            "standoff": 15
           },
           "zerolinecolor": "white",
           "zerolinewidth": 2
          },
          "yaxis": {
           "automargin": true,
           "gridcolor": "white",
           "linecolor": "white",
           "ticks": "",
           "title": {
            "standoff": 15
           },
           "zerolinecolor": "white",
           "zerolinewidth": 2
          }
         }
        },
        "title": {
         "text": "Trends in Computer_and_Information_Sciences_and_Support_Services<br>degree over the Years"
        },
        "width": 700,
        "xaxis": {
         "title": {
          "text": "Year"
         }
        },
        "yaxis": {
         "title": {
          "text": "Fraction of degrees awarded"
         }
        }
       }
      }
     },
     "metadata": {},
     "output_type": "display_data"
    }
   ],
   "source": [
    "year=[2010, 2011, 2012, 2013, 2014, 2015, 2016, 2017, 2018, 2019, 2020]\n",
    "trace1 = go.Scatter(x=year, y=computerTier1ByYr, mode=\"lines\", name=\"Elite_Computer_Science\")\n",
    "trace2 = go.Scatter(x=year, y=computerTier2ByYr, mode=\"lines\", name=\"Non-Elite_Computer_Science\", fill=\"tonextx\")\n",
    "\n",
    "\n",
    "fig = go.Figure(data=[trace1, trace2])\n",
    "fig.update_layout(\n",
    "    width=700,\n",
    "    height=400,\n",
    "    xaxis=dict(title=\"Year\"),\n",
    "    yaxis=dict(title=\"Fraction of degrees awarded\"),\n",
    "    title=\"Trends in Computer_and_Information_Sciences_and_Support_Services<br>degree over the Years\"\n",
    ")\n",
    "fig.show()"
   ]
  },
  {
   "cell_type": "markdown",
   "metadata": {},
   "source": [
    "Analysing which subjects are a part of major foucs in the respective type of colleges"
   ]
  },
  {
   "cell_type": "code",
   "execution_count": 77,
   "metadata": {},
   "outputs": [
    {
     "data": {
      "application/vnd.plotly.v1+json": {
       "config": {
        "plotlyServerURL": "https://plot.ly"
       },
       "data": [
        {
         "mode": "lines",
         "name": "Elite_Maths_and_Stats",
         "type": "scatter",
         "x": [
          2010,
          2011,
          2012,
          2013,
          2014,
          2015,
          2016,
          2017,
          2018,
          2019,
          2020
         ],
         "y": [
          0.03185,
          0.033889999999999997,
          0.033460000000000004,
          0.0344,
          0.036160000000000005,
          0.039,
          0.04195,
          0.04443,
          0.04666,
          0.0521,
          0.05081
         ]
        },
        {
         "fill": "tonextx",
         "mode": "lines",
         "name": "Non-Elite_Maths_and_Stats",
         "type": "scatter",
         "x": [
          2010,
          2011,
          2012,
          2013,
          2014,
          2015,
          2016,
          2017,
          2018,
          2019,
          2020
         ],
         "y": [
          0.0062,
          0.00629,
          0.00746,
          0.0077800000000000005,
          0.00712,
          0.008459999999999999,
          0.00829,
          0.00722,
          0.00786,
          0.00818,
          0.00781
         ]
        }
       ],
       "layout": {
        "height": 400,
        "template": {
         "data": {
          "bar": [
           {
            "error_x": {
             "color": "#2a3f5f"
            },
            "error_y": {
             "color": "#2a3f5f"
            },
            "marker": {
             "line": {
              "color": "#E5ECF6",
              "width": 0.5
             },
             "pattern": {
              "fillmode": "overlay",
              "size": 10,
              "solidity": 0.2
             }
            },
            "type": "bar"
           }
          ],
          "barpolar": [
           {
            "marker": {
             "line": {
              "color": "#E5ECF6",
              "width": 0.5
             },
             "pattern": {
              "fillmode": "overlay",
              "size": 10,
              "solidity": 0.2
             }
            },
            "type": "barpolar"
           }
          ],
          "carpet": [
           {
            "aaxis": {
             "endlinecolor": "#2a3f5f",
             "gridcolor": "white",
             "linecolor": "white",
             "minorgridcolor": "white",
             "startlinecolor": "#2a3f5f"
            },
            "baxis": {
             "endlinecolor": "#2a3f5f",
             "gridcolor": "white",
             "linecolor": "white",
             "minorgridcolor": "white",
             "startlinecolor": "#2a3f5f"
            },
            "type": "carpet"
           }
          ],
          "choropleth": [
           {
            "colorbar": {
             "outlinewidth": 0,
             "ticks": ""
            },
            "type": "choropleth"
           }
          ],
          "contour": [
           {
            "colorbar": {
             "outlinewidth": 0,
             "ticks": ""
            },
            "colorscale": [
             [
              0,
              "#0d0887"
             ],
             [
              0.1111111111111111,
              "#46039f"
             ],
             [
              0.2222222222222222,
              "#7201a8"
             ],
             [
              0.3333333333333333,
              "#9c179e"
             ],
             [
              0.4444444444444444,
              "#bd3786"
             ],
             [
              0.5555555555555556,
              "#d8576b"
             ],
             [
              0.6666666666666666,
              "#ed7953"
             ],
             [
              0.7777777777777778,
              "#fb9f3a"
             ],
             [
              0.8888888888888888,
              "#fdca26"
             ],
             [
              1,
              "#f0f921"
             ]
            ],
            "type": "contour"
           }
          ],
          "contourcarpet": [
           {
            "colorbar": {
             "outlinewidth": 0,
             "ticks": ""
            },
            "type": "contourcarpet"
           }
          ],
          "heatmap": [
           {
            "colorbar": {
             "outlinewidth": 0,
             "ticks": ""
            },
            "colorscale": [
             [
              0,
              "#0d0887"
             ],
             [
              0.1111111111111111,
              "#46039f"
             ],
             [
              0.2222222222222222,
              "#7201a8"
             ],
             [
              0.3333333333333333,
              "#9c179e"
             ],
             [
              0.4444444444444444,
              "#bd3786"
             ],
             [
              0.5555555555555556,
              "#d8576b"
             ],
             [
              0.6666666666666666,
              "#ed7953"
             ],
             [
              0.7777777777777778,
              "#fb9f3a"
             ],
             [
              0.8888888888888888,
              "#fdca26"
             ],
             [
              1,
              "#f0f921"
             ]
            ],
            "type": "heatmap"
           }
          ],
          "heatmapgl": [
           {
            "colorbar": {
             "outlinewidth": 0,
             "ticks": ""
            },
            "colorscale": [
             [
              0,
              "#0d0887"
             ],
             [
              0.1111111111111111,
              "#46039f"
             ],
             [
              0.2222222222222222,
              "#7201a8"
             ],
             [
              0.3333333333333333,
              "#9c179e"
             ],
             [
              0.4444444444444444,
              "#bd3786"
             ],
             [
              0.5555555555555556,
              "#d8576b"
             ],
             [
              0.6666666666666666,
              "#ed7953"
             ],
             [
              0.7777777777777778,
              "#fb9f3a"
             ],
             [
              0.8888888888888888,
              "#fdca26"
             ],
             [
              1,
              "#f0f921"
             ]
            ],
            "type": "heatmapgl"
           }
          ],
          "histogram": [
           {
            "marker": {
             "pattern": {
              "fillmode": "overlay",
              "size": 10,
              "solidity": 0.2
             }
            },
            "type": "histogram"
           }
          ],
          "histogram2d": [
           {
            "colorbar": {
             "outlinewidth": 0,
             "ticks": ""
            },
            "colorscale": [
             [
              0,
              "#0d0887"
             ],
             [
              0.1111111111111111,
              "#46039f"
             ],
             [
              0.2222222222222222,
              "#7201a8"
             ],
             [
              0.3333333333333333,
              "#9c179e"
             ],
             [
              0.4444444444444444,
              "#bd3786"
             ],
             [
              0.5555555555555556,
              "#d8576b"
             ],
             [
              0.6666666666666666,
              "#ed7953"
             ],
             [
              0.7777777777777778,
              "#fb9f3a"
             ],
             [
              0.8888888888888888,
              "#fdca26"
             ],
             [
              1,
              "#f0f921"
             ]
            ],
            "type": "histogram2d"
           }
          ],
          "histogram2dcontour": [
           {
            "colorbar": {
             "outlinewidth": 0,
             "ticks": ""
            },
            "colorscale": [
             [
              0,
              "#0d0887"
             ],
             [
              0.1111111111111111,
              "#46039f"
             ],
             [
              0.2222222222222222,
              "#7201a8"
             ],
             [
              0.3333333333333333,
              "#9c179e"
             ],
             [
              0.4444444444444444,
              "#bd3786"
             ],
             [
              0.5555555555555556,
              "#d8576b"
             ],
             [
              0.6666666666666666,
              "#ed7953"
             ],
             [
              0.7777777777777778,
              "#fb9f3a"
             ],
             [
              0.8888888888888888,
              "#fdca26"
             ],
             [
              1,
              "#f0f921"
             ]
            ],
            "type": "histogram2dcontour"
           }
          ],
          "mesh3d": [
           {
            "colorbar": {
             "outlinewidth": 0,
             "ticks": ""
            },
            "type": "mesh3d"
           }
          ],
          "parcoords": [
           {
            "line": {
             "colorbar": {
              "outlinewidth": 0,
              "ticks": ""
             }
            },
            "type": "parcoords"
           }
          ],
          "pie": [
           {
            "automargin": true,
            "type": "pie"
           }
          ],
          "scatter": [
           {
            "fillpattern": {
             "fillmode": "overlay",
             "size": 10,
             "solidity": 0.2
            },
            "type": "scatter"
           }
          ],
          "scatter3d": [
           {
            "line": {
             "colorbar": {
              "outlinewidth": 0,
              "ticks": ""
             }
            },
            "marker": {
             "colorbar": {
              "outlinewidth": 0,
              "ticks": ""
             }
            },
            "type": "scatter3d"
           }
          ],
          "scattercarpet": [
           {
            "marker": {
             "colorbar": {
              "outlinewidth": 0,
              "ticks": ""
             }
            },
            "type": "scattercarpet"
           }
          ],
          "scattergeo": [
           {
            "marker": {
             "colorbar": {
              "outlinewidth": 0,
              "ticks": ""
             }
            },
            "type": "scattergeo"
           }
          ],
          "scattergl": [
           {
            "marker": {
             "colorbar": {
              "outlinewidth": 0,
              "ticks": ""
             }
            },
            "type": "scattergl"
           }
          ],
          "scattermapbox": [
           {
            "marker": {
             "colorbar": {
              "outlinewidth": 0,
              "ticks": ""
             }
            },
            "type": "scattermapbox"
           }
          ],
          "scatterpolar": [
           {
            "marker": {
             "colorbar": {
              "outlinewidth": 0,
              "ticks": ""
             }
            },
            "type": "scatterpolar"
           }
          ],
          "scatterpolargl": [
           {
            "marker": {
             "colorbar": {
              "outlinewidth": 0,
              "ticks": ""
             }
            },
            "type": "scatterpolargl"
           }
          ],
          "scatterternary": [
           {
            "marker": {
             "colorbar": {
              "outlinewidth": 0,
              "ticks": ""
             }
            },
            "type": "scatterternary"
           }
          ],
          "surface": [
           {
            "colorbar": {
             "outlinewidth": 0,
             "ticks": ""
            },
            "colorscale": [
             [
              0,
              "#0d0887"
             ],
             [
              0.1111111111111111,
              "#46039f"
             ],
             [
              0.2222222222222222,
              "#7201a8"
             ],
             [
              0.3333333333333333,
              "#9c179e"
             ],
             [
              0.4444444444444444,
              "#bd3786"
             ],
             [
              0.5555555555555556,
              "#d8576b"
             ],
             [
              0.6666666666666666,
              "#ed7953"
             ],
             [
              0.7777777777777778,
              "#fb9f3a"
             ],
             [
              0.8888888888888888,
              "#fdca26"
             ],
             [
              1,
              "#f0f921"
             ]
            ],
            "type": "surface"
           }
          ],
          "table": [
           {
            "cells": {
             "fill": {
              "color": "#EBF0F8"
             },
             "line": {
              "color": "white"
             }
            },
            "header": {
             "fill": {
              "color": "#C8D4E3"
             },
             "line": {
              "color": "white"
             }
            },
            "type": "table"
           }
          ]
         },
         "layout": {
          "annotationdefaults": {
           "arrowcolor": "#2a3f5f",
           "arrowhead": 0,
           "arrowwidth": 1
          },
          "autotypenumbers": "strict",
          "coloraxis": {
           "colorbar": {
            "outlinewidth": 0,
            "ticks": ""
           }
          },
          "colorscale": {
           "diverging": [
            [
             0,
             "#8e0152"
            ],
            [
             0.1,
             "#c51b7d"
            ],
            [
             0.2,
             "#de77ae"
            ],
            [
             0.3,
             "#f1b6da"
            ],
            [
             0.4,
             "#fde0ef"
            ],
            [
             0.5,
             "#f7f7f7"
            ],
            [
             0.6,
             "#e6f5d0"
            ],
            [
             0.7,
             "#b8e186"
            ],
            [
             0.8,
             "#7fbc41"
            ],
            [
             0.9,
             "#4d9221"
            ],
            [
             1,
             "#276419"
            ]
           ],
           "sequential": [
            [
             0,
             "#0d0887"
            ],
            [
             0.1111111111111111,
             "#46039f"
            ],
            [
             0.2222222222222222,
             "#7201a8"
            ],
            [
             0.3333333333333333,
             "#9c179e"
            ],
            [
             0.4444444444444444,
             "#bd3786"
            ],
            [
             0.5555555555555556,
             "#d8576b"
            ],
            [
             0.6666666666666666,
             "#ed7953"
            ],
            [
             0.7777777777777778,
             "#fb9f3a"
            ],
            [
             0.8888888888888888,
             "#fdca26"
            ],
            [
             1,
             "#f0f921"
            ]
           ],
           "sequentialminus": [
            [
             0,
             "#0d0887"
            ],
            [
             0.1111111111111111,
             "#46039f"
            ],
            [
             0.2222222222222222,
             "#7201a8"
            ],
            [
             0.3333333333333333,
             "#9c179e"
            ],
            [
             0.4444444444444444,
             "#bd3786"
            ],
            [
             0.5555555555555556,
             "#d8576b"
            ],
            [
             0.6666666666666666,
             "#ed7953"
            ],
            [
             0.7777777777777778,
             "#fb9f3a"
            ],
            [
             0.8888888888888888,
             "#fdca26"
            ],
            [
             1,
             "#f0f921"
            ]
           ]
          },
          "colorway": [
           "#636efa",
           "#EF553B",
           "#00cc96",
           "#ab63fa",
           "#FFA15A",
           "#19d3f3",
           "#FF6692",
           "#B6E880",
           "#FF97FF",
           "#FECB52"
          ],
          "font": {
           "color": "#2a3f5f"
          },
          "geo": {
           "bgcolor": "white",
           "lakecolor": "white",
           "landcolor": "#E5ECF6",
           "showlakes": true,
           "showland": true,
           "subunitcolor": "white"
          },
          "hoverlabel": {
           "align": "left"
          },
          "hovermode": "closest",
          "mapbox": {
           "style": "light"
          },
          "paper_bgcolor": "white",
          "plot_bgcolor": "#E5ECF6",
          "polar": {
           "angularaxis": {
            "gridcolor": "white",
            "linecolor": "white",
            "ticks": ""
           },
           "bgcolor": "#E5ECF6",
           "radialaxis": {
            "gridcolor": "white",
            "linecolor": "white",
            "ticks": ""
           }
          },
          "scene": {
           "xaxis": {
            "backgroundcolor": "#E5ECF6",
            "gridcolor": "white",
            "gridwidth": 2,
            "linecolor": "white",
            "showbackground": true,
            "ticks": "",
            "zerolinecolor": "white"
           },
           "yaxis": {
            "backgroundcolor": "#E5ECF6",
            "gridcolor": "white",
            "gridwidth": 2,
            "linecolor": "white",
            "showbackground": true,
            "ticks": "",
            "zerolinecolor": "white"
           },
           "zaxis": {
            "backgroundcolor": "#E5ECF6",
            "gridcolor": "white",
            "gridwidth": 2,
            "linecolor": "white",
            "showbackground": true,
            "ticks": "",
            "zerolinecolor": "white"
           }
          },
          "shapedefaults": {
           "line": {
            "color": "#2a3f5f"
           }
          },
          "ternary": {
           "aaxis": {
            "gridcolor": "white",
            "linecolor": "white",
            "ticks": ""
           },
           "baxis": {
            "gridcolor": "white",
            "linecolor": "white",
            "ticks": ""
           },
           "bgcolor": "#E5ECF6",
           "caxis": {
            "gridcolor": "white",
            "linecolor": "white",
            "ticks": ""
           }
          },
          "title": {
           "x": 0.05
          },
          "xaxis": {
           "automargin": true,
           "gridcolor": "white",
           "linecolor": "white",
           "ticks": "",
           "title": {
            "standoff": 15
           },
           "zerolinecolor": "white",
           "zerolinewidth": 2
          },
          "yaxis": {
           "automargin": true,
           "gridcolor": "white",
           "linecolor": "white",
           "ticks": "",
           "title": {
            "standoff": 15
           },
           "zerolinecolor": "white",
           "zerolinewidth": 2
          }
         }
        },
        "title": {
         "text": "Trends in Mathematics_and_Statistics degree over the Years"
        },
        "width": 700,
        "xaxis": {
         "title": {
          "text": "Year"
         }
        },
        "yaxis": {
         "title": {
          "text": "Fraction of degrees awarded"
         }
        }
       }
      }
     },
     "metadata": {},
     "output_type": "display_data"
    }
   ],
   "source": [
    "year=[2010, 2011, 2012, 2013, 2014, 2015, 2016, 2017, 2018, 2019, 2020]\n",
    "trace1 = go.Scatter(x=year, y=mathsAndStatsTier1ByYr, mode=\"lines\", name=\"Elite_Maths_and_Stats\")\n",
    "trace2 = go.Scatter(x=year, y=mathsAndStatsTier2ByYr, mode=\"lines\", name=\"Non-Elite_Maths_and_Stats\", fill=\"tonextx\")\n",
    "\n",
    "\n",
    "fig = go.Figure(data=[trace1, trace2])\n",
    "fig.update_layout(\n",
    "    width=700,\n",
    "    height=400,\n",
    "    xaxis=dict(title=\"Year\"),\n",
    "    yaxis=dict(title=\"Fraction of degrees awarded\"),\n",
    "    title=\"Trends in Mathematics_and_Statistics degree over the Years\"\n",
    ")\n",
    "fig.show()"
   ]
  },
  {
   "cell_type": "code",
   "execution_count": 78,
   "metadata": {},
   "outputs": [
    {
     "data": {
      "application/vnd.plotly.v1+json": {
       "config": {
        "plotlyServerURL": "https://plot.ly"
       },
       "data": [
        {
         "mode": "lines",
         "name": "Elite_Biomedicine",
         "type": "scatter",
         "x": [
          2010,
          2011,
          2012,
          2013,
          2014,
          2015,
          2016,
          2017,
          2018,
          2019,
          2020
         ],
         "y": [
          0.08068,
          0.09365,
          0.09263,
          0.09662,
          0.10450999999999999,
          0.10942,
          0.10325999999999999,
          0.10874000000000002,
          0.10285,
          0.10684,
          0.11205000000000001
         ]
        },
        {
         "fill": "tonextx",
         "mode": "lines",
         "name": "Non-Elite_Biomedicine",
         "type": "scatter",
         "x": [
          2010,
          2011,
          2012,
          2013,
          2014,
          2015,
          2016,
          2017,
          2018,
          2019,
          2020
         ],
         "y": [
          0.050019999999999995,
          0.052149999999999995,
          0.0517,
          0.05295999999999999,
          0.05559000000000001,
          0.05815,
          0.06237,
          0.059519999999999997,
          0.06108,
          0.0649,
          0.06572
         ]
        }
       ],
       "layout": {
        "height": 400,
        "template": {
         "data": {
          "bar": [
           {
            "error_x": {
             "color": "#2a3f5f"
            },
            "error_y": {
             "color": "#2a3f5f"
            },
            "marker": {
             "line": {
              "color": "#E5ECF6",
              "width": 0.5
             },
             "pattern": {
              "fillmode": "overlay",
              "size": 10,
              "solidity": 0.2
             }
            },
            "type": "bar"
           }
          ],
          "barpolar": [
           {
            "marker": {
             "line": {
              "color": "#E5ECF6",
              "width": 0.5
             },
             "pattern": {
              "fillmode": "overlay",
              "size": 10,
              "solidity": 0.2
             }
            },
            "type": "barpolar"
           }
          ],
          "carpet": [
           {
            "aaxis": {
             "endlinecolor": "#2a3f5f",
             "gridcolor": "white",
             "linecolor": "white",
             "minorgridcolor": "white",
             "startlinecolor": "#2a3f5f"
            },
            "baxis": {
             "endlinecolor": "#2a3f5f",
             "gridcolor": "white",
             "linecolor": "white",
             "minorgridcolor": "white",
             "startlinecolor": "#2a3f5f"
            },
            "type": "carpet"
           }
          ],
          "choropleth": [
           {
            "colorbar": {
             "outlinewidth": 0,
             "ticks": ""
            },
            "type": "choropleth"
           }
          ],
          "contour": [
           {
            "colorbar": {
             "outlinewidth": 0,
             "ticks": ""
            },
            "colorscale": [
             [
              0,
              "#0d0887"
             ],
             [
              0.1111111111111111,
              "#46039f"
             ],
             [
              0.2222222222222222,
              "#7201a8"
             ],
             [
              0.3333333333333333,
              "#9c179e"
             ],
             [
              0.4444444444444444,
              "#bd3786"
             ],
             [
              0.5555555555555556,
              "#d8576b"
             ],
             [
              0.6666666666666666,
              "#ed7953"
             ],
             [
              0.7777777777777778,
              "#fb9f3a"
             ],
             [
              0.8888888888888888,
              "#fdca26"
             ],
             [
              1,
              "#f0f921"
             ]
            ],
            "type": "contour"
           }
          ],
          "contourcarpet": [
           {
            "colorbar": {
             "outlinewidth": 0,
             "ticks": ""
            },
            "type": "contourcarpet"
           }
          ],
          "heatmap": [
           {
            "colorbar": {
             "outlinewidth": 0,
             "ticks": ""
            },
            "colorscale": [
             [
              0,
              "#0d0887"
             ],
             [
              0.1111111111111111,
              "#46039f"
             ],
             [
              0.2222222222222222,
              "#7201a8"
             ],
             [
              0.3333333333333333,
              "#9c179e"
             ],
             [
              0.4444444444444444,
              "#bd3786"
             ],
             [
              0.5555555555555556,
              "#d8576b"
             ],
             [
              0.6666666666666666,
              "#ed7953"
             ],
             [
              0.7777777777777778,
              "#fb9f3a"
             ],
             [
              0.8888888888888888,
              "#fdca26"
             ],
             [
              1,
              "#f0f921"
             ]
            ],
            "type": "heatmap"
           }
          ],
          "heatmapgl": [
           {
            "colorbar": {
             "outlinewidth": 0,
             "ticks": ""
            },
            "colorscale": [
             [
              0,
              "#0d0887"
             ],
             [
              0.1111111111111111,
              "#46039f"
             ],
             [
              0.2222222222222222,
              "#7201a8"
             ],
             [
              0.3333333333333333,
              "#9c179e"
             ],
             [
              0.4444444444444444,
              "#bd3786"
             ],
             [
              0.5555555555555556,
              "#d8576b"
             ],
             [
              0.6666666666666666,
              "#ed7953"
             ],
             [
              0.7777777777777778,
              "#fb9f3a"
             ],
             [
              0.8888888888888888,
              "#fdca26"
             ],
             [
              1,
              "#f0f921"
             ]
            ],
            "type": "heatmapgl"
           }
          ],
          "histogram": [
           {
            "marker": {
             "pattern": {
              "fillmode": "overlay",
              "size": 10,
              "solidity": 0.2
             }
            },
            "type": "histogram"
           }
          ],
          "histogram2d": [
           {
            "colorbar": {
             "outlinewidth": 0,
             "ticks": ""
            },
            "colorscale": [
             [
              0,
              "#0d0887"
             ],
             [
              0.1111111111111111,
              "#46039f"
             ],
             [
              0.2222222222222222,
              "#7201a8"
             ],
             [
              0.3333333333333333,
              "#9c179e"
             ],
             [
              0.4444444444444444,
              "#bd3786"
             ],
             [
              0.5555555555555556,
              "#d8576b"
             ],
             [
              0.6666666666666666,
              "#ed7953"
             ],
             [
              0.7777777777777778,
              "#fb9f3a"
             ],
             [
              0.8888888888888888,
              "#fdca26"
             ],
             [
              1,
              "#f0f921"
             ]
            ],
            "type": "histogram2d"
           }
          ],
          "histogram2dcontour": [
           {
            "colorbar": {
             "outlinewidth": 0,
             "ticks": ""
            },
            "colorscale": [
             [
              0,
              "#0d0887"
             ],
             [
              0.1111111111111111,
              "#46039f"
             ],
             [
              0.2222222222222222,
              "#7201a8"
             ],
             [
              0.3333333333333333,
              "#9c179e"
             ],
             [
              0.4444444444444444,
              "#bd3786"
             ],
             [
              0.5555555555555556,
              "#d8576b"
             ],
             [
              0.6666666666666666,
              "#ed7953"
             ],
             [
              0.7777777777777778,
              "#fb9f3a"
             ],
             [
              0.8888888888888888,
              "#fdca26"
             ],
             [
              1,
              "#f0f921"
             ]
            ],
            "type": "histogram2dcontour"
           }
          ],
          "mesh3d": [
           {
            "colorbar": {
             "outlinewidth": 0,
             "ticks": ""
            },
            "type": "mesh3d"
           }
          ],
          "parcoords": [
           {
            "line": {
             "colorbar": {
              "outlinewidth": 0,
              "ticks": ""
             }
            },
            "type": "parcoords"
           }
          ],
          "pie": [
           {
            "automargin": true,
            "type": "pie"
           }
          ],
          "scatter": [
           {
            "fillpattern": {
             "fillmode": "overlay",
             "size": 10,
             "solidity": 0.2
            },
            "type": "scatter"
           }
          ],
          "scatter3d": [
           {
            "line": {
             "colorbar": {
              "outlinewidth": 0,
              "ticks": ""
             }
            },
            "marker": {
             "colorbar": {
              "outlinewidth": 0,
              "ticks": ""
             }
            },
            "type": "scatter3d"
           }
          ],
          "scattercarpet": [
           {
            "marker": {
             "colorbar": {
              "outlinewidth": 0,
              "ticks": ""
             }
            },
            "type": "scattercarpet"
           }
          ],
          "scattergeo": [
           {
            "marker": {
             "colorbar": {
              "outlinewidth": 0,
              "ticks": ""
             }
            },
            "type": "scattergeo"
           }
          ],
          "scattergl": [
           {
            "marker": {
             "colorbar": {
              "outlinewidth": 0,
              "ticks": ""
             }
            },
            "type": "scattergl"
           }
          ],
          "scattermapbox": [
           {
            "marker": {
             "colorbar": {
              "outlinewidth": 0,
              "ticks": ""
             }
            },
            "type": "scattermapbox"
           }
          ],
          "scatterpolar": [
           {
            "marker": {
             "colorbar": {
              "outlinewidth": 0,
              "ticks": ""
             }
            },
            "type": "scatterpolar"
           }
          ],
          "scatterpolargl": [
           {
            "marker": {
             "colorbar": {
              "outlinewidth": 0,
              "ticks": ""
             }
            },
            "type": "scatterpolargl"
           }
          ],
          "scatterternary": [
           {
            "marker": {
             "colorbar": {
              "outlinewidth": 0,
              "ticks": ""
             }
            },
            "type": "scatterternary"
           }
          ],
          "surface": [
           {
            "colorbar": {
             "outlinewidth": 0,
             "ticks": ""
            },
            "colorscale": [
             [
              0,
              "#0d0887"
             ],
             [
              0.1111111111111111,
              "#46039f"
             ],
             [
              0.2222222222222222,
              "#7201a8"
             ],
             [
              0.3333333333333333,
              "#9c179e"
             ],
             [
              0.4444444444444444,
              "#bd3786"
             ],
             [
              0.5555555555555556,
              "#d8576b"
             ],
             [
              0.6666666666666666,
              "#ed7953"
             ],
             [
              0.7777777777777778,
              "#fb9f3a"
             ],
             [
              0.8888888888888888,
              "#fdca26"
             ],
             [
              1,
              "#f0f921"
             ]
            ],
            "type": "surface"
           }
          ],
          "table": [
           {
            "cells": {
             "fill": {
              "color": "#EBF0F8"
             },
             "line": {
              "color": "white"
             }
            },
            "header": {
             "fill": {
              "color": "#C8D4E3"
             },
             "line": {
              "color": "white"
             }
            },
            "type": "table"
           }
          ]
         },
         "layout": {
          "annotationdefaults": {
           "arrowcolor": "#2a3f5f",
           "arrowhead": 0,
           "arrowwidth": 1
          },
          "autotypenumbers": "strict",
          "coloraxis": {
           "colorbar": {
            "outlinewidth": 0,
            "ticks": ""
           }
          },
          "colorscale": {
           "diverging": [
            [
             0,
             "#8e0152"
            ],
            [
             0.1,
             "#c51b7d"
            ],
            [
             0.2,
             "#de77ae"
            ],
            [
             0.3,
             "#f1b6da"
            ],
            [
             0.4,
             "#fde0ef"
            ],
            [
             0.5,
             "#f7f7f7"
            ],
            [
             0.6,
             "#e6f5d0"
            ],
            [
             0.7,
             "#b8e186"
            ],
            [
             0.8,
             "#7fbc41"
            ],
            [
             0.9,
             "#4d9221"
            ],
            [
             1,
             "#276419"
            ]
           ],
           "sequential": [
            [
             0,
             "#0d0887"
            ],
            [
             0.1111111111111111,
             "#46039f"
            ],
            [
             0.2222222222222222,
             "#7201a8"
            ],
            [
             0.3333333333333333,
             "#9c179e"
            ],
            [
             0.4444444444444444,
             "#bd3786"
            ],
            [
             0.5555555555555556,
             "#d8576b"
            ],
            [
             0.6666666666666666,
             "#ed7953"
            ],
            [
             0.7777777777777778,
             "#fb9f3a"
            ],
            [
             0.8888888888888888,
             "#fdca26"
            ],
            [
             1,
             "#f0f921"
            ]
           ],
           "sequentialminus": [
            [
             0,
             "#0d0887"
            ],
            [
             0.1111111111111111,
             "#46039f"
            ],
            [
             0.2222222222222222,
             "#7201a8"
            ],
            [
             0.3333333333333333,
             "#9c179e"
            ],
            [
             0.4444444444444444,
             "#bd3786"
            ],
            [
             0.5555555555555556,
             "#d8576b"
            ],
            [
             0.6666666666666666,
             "#ed7953"
            ],
            [
             0.7777777777777778,
             "#fb9f3a"
            ],
            [
             0.8888888888888888,
             "#fdca26"
            ],
            [
             1,
             "#f0f921"
            ]
           ]
          },
          "colorway": [
           "#636efa",
           "#EF553B",
           "#00cc96",
           "#ab63fa",
           "#FFA15A",
           "#19d3f3",
           "#FF6692",
           "#B6E880",
           "#FF97FF",
           "#FECB52"
          ],
          "font": {
           "color": "#2a3f5f"
          },
          "geo": {
           "bgcolor": "white",
           "lakecolor": "white",
           "landcolor": "#E5ECF6",
           "showlakes": true,
           "showland": true,
           "subunitcolor": "white"
          },
          "hoverlabel": {
           "align": "left"
          },
          "hovermode": "closest",
          "mapbox": {
           "style": "light"
          },
          "paper_bgcolor": "white",
          "plot_bgcolor": "#E5ECF6",
          "polar": {
           "angularaxis": {
            "gridcolor": "white",
            "linecolor": "white",
            "ticks": ""
           },
           "bgcolor": "#E5ECF6",
           "radialaxis": {
            "gridcolor": "white",
            "linecolor": "white",
            "ticks": ""
           }
          },
          "scene": {
           "xaxis": {
            "backgroundcolor": "#E5ECF6",
            "gridcolor": "white",
            "gridwidth": 2,
            "linecolor": "white",
            "showbackground": true,
            "ticks": "",
            "zerolinecolor": "white"
           },
           "yaxis": {
            "backgroundcolor": "#E5ECF6",
            "gridcolor": "white",
            "gridwidth": 2,
            "linecolor": "white",
            "showbackground": true,
            "ticks": "",
            "zerolinecolor": "white"
           },
           "zaxis": {
            "backgroundcolor": "#E5ECF6",
            "gridcolor": "white",
            "gridwidth": 2,
            "linecolor": "white",
            "showbackground": true,
            "ticks": "",
            "zerolinecolor": "white"
           }
          },
          "shapedefaults": {
           "line": {
            "color": "#2a3f5f"
           }
          },
          "ternary": {
           "aaxis": {
            "gridcolor": "white",
            "linecolor": "white",
            "ticks": ""
           },
           "baxis": {
            "gridcolor": "white",
            "linecolor": "white",
            "ticks": ""
           },
           "bgcolor": "#E5ECF6",
           "caxis": {
            "gridcolor": "white",
            "linecolor": "white",
            "ticks": ""
           }
          },
          "title": {
           "x": 0.05
          },
          "xaxis": {
           "automargin": true,
           "gridcolor": "white",
           "linecolor": "white",
           "ticks": "",
           "title": {
            "standoff": 15
           },
           "zerolinecolor": "white",
           "zerolinewidth": 2
          },
          "yaxis": {
           "automargin": true,
           "gridcolor": "white",
           "linecolor": "white",
           "ticks": "",
           "title": {
            "standoff": 15
           },
           "zerolinecolor": "white",
           "zerolinewidth": 2
          }
         }
        },
        "title": {
         "text": "Trends in Biological_&_Biomedical_Sciences degrees over the Years"
        },
        "width": 700,
        "xaxis": {
         "title": {
          "text": "Year"
         }
        },
        "yaxis": {
         "title": {
          "text": "Fraction of degrees awarded"
         }
        }
       }
      }
     },
     "metadata": {},
     "output_type": "display_data"
    }
   ],
   "source": [
    "trace1 = go.Scatter(x=year, y=biomedicineTier1ByYr, mode=\"lines\", name=\"Elite_Biomedicine\")\n",
    "trace2 = go.Scatter(x=year, y=biomedicineTier2ByYr, mode=\"lines\", name=\"Non-Elite_Biomedicine\", fill=\"tonextx\")\n",
    "\n",
    "\n",
    "fig = go.Figure(data=[trace1, trace2])\n",
    "fig.update_layout(\n",
    "    width=700,\n",
    "    height=400,\n",
    "    xaxis=dict(title=\"Year\"),\n",
    "    yaxis=dict(title=\"Fraction of degrees awarded\"),\n",
    "    title=\"Trends in Biological_&_Biomedical_Sciences degrees over the Years\"\n",
    ")\n",
    "fig.show()"
   ]
  },
  {
   "cell_type": "code",
   "execution_count": 79,
   "metadata": {},
   "outputs": [
    {
     "data": {
      "application/vnd.plotly.v1+json": {
       "config": {
        "plotlyServerURL": "https://plot.ly"
       },
       "data": [
        {
         "mode": "lines",
         "name": "Tier 1_Business",
         "type": "scatter",
         "x": [
          2010,
          2011,
          2012,
          2013,
          2014,
          2015,
          2016,
          2017,
          2018,
          2019,
          2020
         ],
         "y": [
          0.04902,
          0.05092,
          0.04933,
          0.04662,
          0.045200000000000004,
          0.05061,
          0.05125999999999999,
          0.04624,
          0.049890000000000004,
          0.0484,
          0.043710000000000006
         ]
        },
        {
         "fill": "tonextx",
         "mode": "lines",
         "name": "Tier 2_Business",
         "type": "scatter",
         "x": [
          2010,
          2011,
          2012,
          2013,
          2014,
          2015,
          2016,
          2017,
          2018,
          2019,
          2020
         ],
         "y": [
          0.19884,
          0.1992,
          0.20407999999999998,
          0.19422,
          0.18765,
          0.18278,
          0.19113,
          0.18877,
          0.19031,
          0.18973,
          0.19451000000000002
         ]
        }
       ],
       "layout": {
        "template": {
         "data": {
          "bar": [
           {
            "error_x": {
             "color": "#2a3f5f"
            },
            "error_y": {
             "color": "#2a3f5f"
            },
            "marker": {
             "line": {
              "color": "#E5ECF6",
              "width": 0.5
             },
             "pattern": {
              "fillmode": "overlay",
              "size": 10,
              "solidity": 0.2
             }
            },
            "type": "bar"
           }
          ],
          "barpolar": [
           {
            "marker": {
             "line": {
              "color": "#E5ECF6",
              "width": 0.5
             },
             "pattern": {
              "fillmode": "overlay",
              "size": 10,
              "solidity": 0.2
             }
            },
            "type": "barpolar"
           }
          ],
          "carpet": [
           {
            "aaxis": {
             "endlinecolor": "#2a3f5f",
             "gridcolor": "white",
             "linecolor": "white",
             "minorgridcolor": "white",
             "startlinecolor": "#2a3f5f"
            },
            "baxis": {
             "endlinecolor": "#2a3f5f",
             "gridcolor": "white",
             "linecolor": "white",
             "minorgridcolor": "white",
             "startlinecolor": "#2a3f5f"
            },
            "type": "carpet"
           }
          ],
          "choropleth": [
           {
            "colorbar": {
             "outlinewidth": 0,
             "ticks": ""
            },
            "type": "choropleth"
           }
          ],
          "contour": [
           {
            "colorbar": {
             "outlinewidth": 0,
             "ticks": ""
            },
            "colorscale": [
             [
              0,
              "#0d0887"
             ],
             [
              0.1111111111111111,
              "#46039f"
             ],
             [
              0.2222222222222222,
              "#7201a8"
             ],
             [
              0.3333333333333333,
              "#9c179e"
             ],
             [
              0.4444444444444444,
              "#bd3786"
             ],
             [
              0.5555555555555556,
              "#d8576b"
             ],
             [
              0.6666666666666666,
              "#ed7953"
             ],
             [
              0.7777777777777778,
              "#fb9f3a"
             ],
             [
              0.8888888888888888,
              "#fdca26"
             ],
             [
              1,
              "#f0f921"
             ]
            ],
            "type": "contour"
           }
          ],
          "contourcarpet": [
           {
            "colorbar": {
             "outlinewidth": 0,
             "ticks": ""
            },
            "type": "contourcarpet"
           }
          ],
          "heatmap": [
           {
            "colorbar": {
             "outlinewidth": 0,
             "ticks": ""
            },
            "colorscale": [
             [
              0,
              "#0d0887"
             ],
             [
              0.1111111111111111,
              "#46039f"
             ],
             [
              0.2222222222222222,
              "#7201a8"
             ],
             [
              0.3333333333333333,
              "#9c179e"
             ],
             [
              0.4444444444444444,
              "#bd3786"
             ],
             [
              0.5555555555555556,
              "#d8576b"
             ],
             [
              0.6666666666666666,
              "#ed7953"
             ],
             [
              0.7777777777777778,
              "#fb9f3a"
             ],
             [
              0.8888888888888888,
              "#fdca26"
             ],
             [
              1,
              "#f0f921"
             ]
            ],
            "type": "heatmap"
           }
          ],
          "heatmapgl": [
           {
            "colorbar": {
             "outlinewidth": 0,
             "ticks": ""
            },
            "colorscale": [
             [
              0,
              "#0d0887"
             ],
             [
              0.1111111111111111,
              "#46039f"
             ],
             [
              0.2222222222222222,
              "#7201a8"
             ],
             [
              0.3333333333333333,
              "#9c179e"
             ],
             [
              0.4444444444444444,
              "#bd3786"
             ],
             [
              0.5555555555555556,
              "#d8576b"
             ],
             [
              0.6666666666666666,
              "#ed7953"
             ],
             [
              0.7777777777777778,
              "#fb9f3a"
             ],
             [
              0.8888888888888888,
              "#fdca26"
             ],
             [
              1,
              "#f0f921"
             ]
            ],
            "type": "heatmapgl"
           }
          ],
          "histogram": [
           {
            "marker": {
             "pattern": {
              "fillmode": "overlay",
              "size": 10,
              "solidity": 0.2
             }
            },
            "type": "histogram"
           }
          ],
          "histogram2d": [
           {
            "colorbar": {
             "outlinewidth": 0,
             "ticks": ""
            },
            "colorscale": [
             [
              0,
              "#0d0887"
             ],
             [
              0.1111111111111111,
              "#46039f"
             ],
             [
              0.2222222222222222,
              "#7201a8"
             ],
             [
              0.3333333333333333,
              "#9c179e"
             ],
             [
              0.4444444444444444,
              "#bd3786"
             ],
             [
              0.5555555555555556,
              "#d8576b"
             ],
             [
              0.6666666666666666,
              "#ed7953"
             ],
             [
              0.7777777777777778,
              "#fb9f3a"
             ],
             [
              0.8888888888888888,
              "#fdca26"
             ],
             [
              1,
              "#f0f921"
             ]
            ],
            "type": "histogram2d"
           }
          ],
          "histogram2dcontour": [
           {
            "colorbar": {
             "outlinewidth": 0,
             "ticks": ""
            },
            "colorscale": [
             [
              0,
              "#0d0887"
             ],
             [
              0.1111111111111111,
              "#46039f"
             ],
             [
              0.2222222222222222,
              "#7201a8"
             ],
             [
              0.3333333333333333,
              "#9c179e"
             ],
             [
              0.4444444444444444,
              "#bd3786"
             ],
             [
              0.5555555555555556,
              "#d8576b"
             ],
             [
              0.6666666666666666,
              "#ed7953"
             ],
             [
              0.7777777777777778,
              "#fb9f3a"
             ],
             [
              0.8888888888888888,
              "#fdca26"
             ],
             [
              1,
              "#f0f921"
             ]
            ],
            "type": "histogram2dcontour"
           }
          ],
          "mesh3d": [
           {
            "colorbar": {
             "outlinewidth": 0,
             "ticks": ""
            },
            "type": "mesh3d"
           }
          ],
          "parcoords": [
           {
            "line": {
             "colorbar": {
              "outlinewidth": 0,
              "ticks": ""
             }
            },
            "type": "parcoords"
           }
          ],
          "pie": [
           {
            "automargin": true,
            "type": "pie"
           }
          ],
          "scatter": [
           {
            "fillpattern": {
             "fillmode": "overlay",
             "size": 10,
             "solidity": 0.2
            },
            "type": "scatter"
           }
          ],
          "scatter3d": [
           {
            "line": {
             "colorbar": {
              "outlinewidth": 0,
              "ticks": ""
             }
            },
            "marker": {
             "colorbar": {
              "outlinewidth": 0,
              "ticks": ""
             }
            },
            "type": "scatter3d"
           }
          ],
          "scattercarpet": [
           {
            "marker": {
             "colorbar": {
              "outlinewidth": 0,
              "ticks": ""
             }
            },
            "type": "scattercarpet"
           }
          ],
          "scattergeo": [
           {
            "marker": {
             "colorbar": {
              "outlinewidth": 0,
              "ticks": ""
             }
            },
            "type": "scattergeo"
           }
          ],
          "scattergl": [
           {
            "marker": {
             "colorbar": {
              "outlinewidth": 0,
              "ticks": ""
             }
            },
            "type": "scattergl"
           }
          ],
          "scattermapbox": [
           {
            "marker": {
             "colorbar": {
              "outlinewidth": 0,
              "ticks": ""
             }
            },
            "type": "scattermapbox"
           }
          ],
          "scatterpolar": [
           {
            "marker": {
             "colorbar": {
              "outlinewidth": 0,
              "ticks": ""
             }
            },
            "type": "scatterpolar"
           }
          ],
          "scatterpolargl": [
           {
            "marker": {
             "colorbar": {
              "outlinewidth": 0,
              "ticks": ""
             }
            },
            "type": "scatterpolargl"
           }
          ],
          "scatterternary": [
           {
            "marker": {
             "colorbar": {
              "outlinewidth": 0,
              "ticks": ""
             }
            },
            "type": "scatterternary"
           }
          ],
          "surface": [
           {
            "colorbar": {
             "outlinewidth": 0,
             "ticks": ""
            },
            "colorscale": [
             [
              0,
              "#0d0887"
             ],
             [
              0.1111111111111111,
              "#46039f"
             ],
             [
              0.2222222222222222,
              "#7201a8"
             ],
             [
              0.3333333333333333,
              "#9c179e"
             ],
             [
              0.4444444444444444,
              "#bd3786"
             ],
             [
              0.5555555555555556,
              "#d8576b"
             ],
             [
              0.6666666666666666,
              "#ed7953"
             ],
             [
              0.7777777777777778,
              "#fb9f3a"
             ],
             [
              0.8888888888888888,
              "#fdca26"
             ],
             [
              1,
              "#f0f921"
             ]
            ],
            "type": "surface"
           }
          ],
          "table": [
           {
            "cells": {
             "fill": {
              "color": "#EBF0F8"
             },
             "line": {
              "color": "white"
             }
            },
            "header": {
             "fill": {
              "color": "#C8D4E3"
             },
             "line": {
              "color": "white"
             }
            },
            "type": "table"
           }
          ]
         },
         "layout": {
          "annotationdefaults": {
           "arrowcolor": "#2a3f5f",
           "arrowhead": 0,
           "arrowwidth": 1
          },
          "autotypenumbers": "strict",
          "coloraxis": {
           "colorbar": {
            "outlinewidth": 0,
            "ticks": ""
           }
          },
          "colorscale": {
           "diverging": [
            [
             0,
             "#8e0152"
            ],
            [
             0.1,
             "#c51b7d"
            ],
            [
             0.2,
             "#de77ae"
            ],
            [
             0.3,
             "#f1b6da"
            ],
            [
             0.4,
             "#fde0ef"
            ],
            [
             0.5,
             "#f7f7f7"
            ],
            [
             0.6,
             "#e6f5d0"
            ],
            [
             0.7,
             "#b8e186"
            ],
            [
             0.8,
             "#7fbc41"
            ],
            [
             0.9,
             "#4d9221"
            ],
            [
             1,
             "#276419"
            ]
           ],
           "sequential": [
            [
             0,
             "#0d0887"
            ],
            [
             0.1111111111111111,
             "#46039f"
            ],
            [
             0.2222222222222222,
             "#7201a8"
            ],
            [
             0.3333333333333333,
             "#9c179e"
            ],
            [
             0.4444444444444444,
             "#bd3786"
            ],
            [
             0.5555555555555556,
             "#d8576b"
            ],
            [
             0.6666666666666666,
             "#ed7953"
            ],
            [
             0.7777777777777778,
             "#fb9f3a"
            ],
            [
             0.8888888888888888,
             "#fdca26"
            ],
            [
             1,
             "#f0f921"
            ]
           ],
           "sequentialminus": [
            [
             0,
             "#0d0887"
            ],
            [
             0.1111111111111111,
             "#46039f"
            ],
            [
             0.2222222222222222,
             "#7201a8"
            ],
            [
             0.3333333333333333,
             "#9c179e"
            ],
            [
             0.4444444444444444,
             "#bd3786"
            ],
            [
             0.5555555555555556,
             "#d8576b"
            ],
            [
             0.6666666666666666,
             "#ed7953"
            ],
            [
             0.7777777777777778,
             "#fb9f3a"
            ],
            [
             0.8888888888888888,
             "#fdca26"
            ],
            [
             1,
             "#f0f921"
            ]
           ]
          },
          "colorway": [
           "#636efa",
           "#EF553B",
           "#00cc96",
           "#ab63fa",
           "#FFA15A",
           "#19d3f3",
           "#FF6692",
           "#B6E880",
           "#FF97FF",
           "#FECB52"
          ],
          "font": {
           "color": "#2a3f5f"
          },
          "geo": {
           "bgcolor": "white",
           "lakecolor": "white",
           "landcolor": "#E5ECF6",
           "showlakes": true,
           "showland": true,
           "subunitcolor": "white"
          },
          "hoverlabel": {
           "align": "left"
          },
          "hovermode": "closest",
          "mapbox": {
           "style": "light"
          },
          "paper_bgcolor": "white",
          "plot_bgcolor": "#E5ECF6",
          "polar": {
           "angularaxis": {
            "gridcolor": "white",
            "linecolor": "white",
            "ticks": ""
           },
           "bgcolor": "#E5ECF6",
           "radialaxis": {
            "gridcolor": "white",
            "linecolor": "white",
            "ticks": ""
           }
          },
          "scene": {
           "xaxis": {
            "backgroundcolor": "#E5ECF6",
            "gridcolor": "white",
            "gridwidth": 2,
            "linecolor": "white",
            "showbackground": true,
            "ticks": "",
            "zerolinecolor": "white"
           },
           "yaxis": {
            "backgroundcolor": "#E5ECF6",
            "gridcolor": "white",
            "gridwidth": 2,
            "linecolor": "white",
            "showbackground": true,
            "ticks": "",
            "zerolinecolor": "white"
           },
           "zaxis": {
            "backgroundcolor": "#E5ECF6",
            "gridcolor": "white",
            "gridwidth": 2,
            "linecolor": "white",
            "showbackground": true,
            "ticks": "",
            "zerolinecolor": "white"
           }
          },
          "shapedefaults": {
           "line": {
            "color": "#2a3f5f"
           }
          },
          "ternary": {
           "aaxis": {
            "gridcolor": "white",
            "linecolor": "white",
            "ticks": ""
           },
           "baxis": {
            "gridcolor": "white",
            "linecolor": "white",
            "ticks": ""
           },
           "bgcolor": "#E5ECF6",
           "caxis": {
            "gridcolor": "white",
            "linecolor": "white",
            "ticks": ""
           }
          },
          "title": {
           "x": 0.05
          },
          "xaxis": {
           "automargin": true,
           "gridcolor": "white",
           "linecolor": "white",
           "ticks": "",
           "title": {
            "standoff": 15
           },
           "zerolinecolor": "white",
           "zerolinewidth": 2
          },
          "yaxis": {
           "automargin": true,
           "gridcolor": "white",
           "linecolor": "white",
           "ticks": "",
           "title": {
            "standoff": 15
           },
           "zerolinecolor": "white",
           "zerolinewidth": 2
          }
         }
        },
        "title": {
         "text": "Trends in Business, Management, Marketing, and Related Support Services degrees over the Years"
        },
        "xaxis": {
         "title": {
          "text": "Year"
         }
        },
        "yaxis": {
         "title": {
          "text": "Fraction of degrees awarded"
         }
        }
       }
      }
     },
     "metadata": {},
     "output_type": "display_data"
    }
   ],
   "source": [
    "trace1 = go.Scatter(x=year, y=businessTier1ByYr, mode=\"lines\", name=\"Tier 1_Business\")\n",
    "trace2 = go.Scatter(x=year, y=businessTier2ByYr, mode=\"lines\", name=\"Tier 2_Business\", fill=\"tonextx\")\n",
    "\n",
    "\n",
    "fig = go.Figure(data=[trace1, trace2])\n",
    "fig.update_layout(\n",
    "    xaxis=dict(title=\"Year\"),\n",
    "    yaxis=dict(title=\"Fraction of degrees awarded\"),\n",
    "    title=\"Trends in Business, Management, Marketing, and Related Support Services degrees over the Years\"\n",
    ")\n",
    "fig.show()"
   ]
  },
  {
   "cell_type": "markdown",
   "metadata": {},
   "source": [
    "Conclusion...."
   ]
  },
  {
   "cell_type": "code",
   "execution_count": 80,
   "metadata": {},
   "outputs": [],
   "source": [
    "# From above  graphs we can see that Tier1 Institutes have more focus on computer-science and core-maths and statistics degrees while Tier2 Institutes have more focus on\n",
    "# biomedicines and business.\n",
    "\n",
    "# Thus Tier-2 institutes should try to have more specialisations in computer-science and core-maths and statistics discplines which would attract a lot of intellectual people.\n",
    "# Tier-1 should do more work on business related degrees."
   ]
  }
 ],
 "metadata": {
  "kernelspec": {
   "display_name": "base",
   "language": "python",
   "name": "python3"
  },
  "language_info": {
   "codemirror_mode": {
    "name": "ipython",
    "version": 3
   },
   "file_extension": ".py",
   "mimetype": "text/x-python",
   "name": "python",
   "nbconvert_exporter": "python",
   "pygments_lexer": "ipython3",
   "version": "3.11.5"
  }
 },
 "nbformat": 4,
 "nbformat_minor": 2
}
